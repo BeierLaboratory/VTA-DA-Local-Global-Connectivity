{
 "cells": [
  {
   "cell_type": "markdown",
   "metadata": {},
   "source": [
    "# Import input data and unpack experimental metadata"
   ]
  },
  {
   "cell_type": "code",
   "execution_count": 2,
   "metadata": {},
   "outputs": [],
   "source": [
    "import pandas\n",
    "from sklearn.decomposition import PCA\n",
    "from sklearn import preprocessing\n",
    "import matplotlib.pyplot as plt\n",
    "import numpy\n",
    "import matplotlib\n",
    "from mpl_toolkits.mplot3d import Axes3D\n",
    "%matplotlib notebook\n",
    "import plotly\n",
    "import plotly.graph_objects as go\n",
    "from plotly.subplots import make_subplots\n",
    "import umap\n",
    "from scipy.stats import zscore\n",
    "import hdbscan\n",
    "import seaborn\n",
    "import math\n",
    "from sklearn.impute import KNNImputer"
   ]
  },
  {
   "cell_type": "code",
   "execution_count": 3,
   "metadata": {},
   "outputs": [
    {
     "name": "stderr",
     "output_type": "stream",
     "text": [
      "C:\\ProgramData\\Anaconda3\\lib\\site-packages\\openpyxl\\worksheet\\_reader.py:312: UserWarning: Unknown extension is not supported and will be removed\n",
      "  warn(msg)\n"
     ]
    }
   ],
   "source": [
    "writebatch='20211107'\n",
    "input_df = pandas.read_excel('66T local input and whole brain input.xlsx',\n",
    "                             sheet_name=\"Total\",header=0,index_col=0)"
   ]
  },
  {
   "cell_type": "code",
   "execution_count": 4,
   "metadata": {},
   "outputs": [
    {
     "data": {
      "text/html": [
       "<div>\n",
       "<style scoped>\n",
       "    .dataframe tbody tr th:only-of-type {\n",
       "        vertical-align: middle;\n",
       "    }\n",
       "\n",
       "    .dataframe tbody tr th {\n",
       "        vertical-align: top;\n",
       "    }\n",
       "\n",
       "    .dataframe thead th {\n",
       "        text-align: right;\n",
       "    }\n",
       "</style>\n",
       "<table border=\"1\" class=\"dataframe\">\n",
       "  <thead>\n",
       "    <tr style=\"text-align: right;\">\n",
       "      <th></th>\n",
       "      <th>%Cortex</th>\n",
       "      <th>%NAcMed</th>\n",
       "      <th>%NAcLat</th>\n",
       "      <th>%NAcCore</th>\n",
       "      <th>%DStr</th>\n",
       "      <th>%VP</th>\n",
       "      <th>%PO</th>\n",
       "      <th>%Septum</th>\n",
       "      <th>%BNST</th>\n",
       "      <th>%EAM</th>\n",
       "      <th>...</th>\n",
       "      <th>VTA IF</th>\n",
       "      <th>VTA PBP</th>\n",
       "      <th>VTA PN</th>\n",
       "      <th>VTg</th>\n",
       "      <th>IC</th>\n",
       "      <th>SC</th>\n",
       "      <th>PAG</th>\n",
       "      <th>Pretectal</th>\n",
       "      <th>PSth</th>\n",
       "      <th>InC</th>\n",
       "    </tr>\n",
       "    <tr>\n",
       "      <th>whole brain</th>\n",
       "      <th></th>\n",
       "      <th></th>\n",
       "      <th></th>\n",
       "      <th></th>\n",
       "      <th></th>\n",
       "      <th></th>\n",
       "      <th></th>\n",
       "      <th></th>\n",
       "      <th></th>\n",
       "      <th></th>\n",
       "      <th></th>\n",
       "      <th></th>\n",
       "      <th></th>\n",
       "      <th></th>\n",
       "      <th></th>\n",
       "      <th></th>\n",
       "      <th></th>\n",
       "      <th></th>\n",
       "      <th></th>\n",
       "      <th></th>\n",
       "      <th></th>\n",
       "    </tr>\n",
       "  </thead>\n",
       "  <tbody>\n",
       "    <tr>\n",
       "      <th>1</th>\n",
       "      <td>702.0</td>\n",
       "      <td>705.0</td>\n",
       "      <td>756.0</td>\n",
       "      <td>711.0</td>\n",
       "      <td>921</td>\n",
       "      <td>1365.0</td>\n",
       "      <td>693.0</td>\n",
       "      <td>45.0</td>\n",
       "      <td>138.0</td>\n",
       "      <td>978</td>\n",
       "      <td>...</td>\n",
       "      <td>197.0</td>\n",
       "      <td>457.0</td>\n",
       "      <td>494.0</td>\n",
       "      <td>48.0</td>\n",
       "      <td>0.0</td>\n",
       "      <td>813.0</td>\n",
       "      <td>627.0</td>\n",
       "      <td>447.0</td>\n",
       "      <td>456.0</td>\n",
       "      <td>417.0</td>\n",
       "    </tr>\n",
       "    <tr>\n",
       "      <th>2</th>\n",
       "      <td>183.0</td>\n",
       "      <td>609.0</td>\n",
       "      <td>60.0</td>\n",
       "      <td>249.0</td>\n",
       "      <td>159</td>\n",
       "      <td>654.0</td>\n",
       "      <td>330.0</td>\n",
       "      <td>69.0</td>\n",
       "      <td>189.0</td>\n",
       "      <td>312</td>\n",
       "      <td>...</td>\n",
       "      <td>399.0</td>\n",
       "      <td>1596.0</td>\n",
       "      <td>819.0</td>\n",
       "      <td>81.0</td>\n",
       "      <td>3.0</td>\n",
       "      <td>21.0</td>\n",
       "      <td>177.0</td>\n",
       "      <td>69.0</td>\n",
       "      <td>210.0</td>\n",
       "      <td>90.0</td>\n",
       "    </tr>\n",
       "    <tr>\n",
       "      <th>3</th>\n",
       "      <td>762.0</td>\n",
       "      <td>1560.0</td>\n",
       "      <td>480.0</td>\n",
       "      <td>990.0</td>\n",
       "      <td>1692</td>\n",
       "      <td>1440.0</td>\n",
       "      <td>870.0</td>\n",
       "      <td>285.0</td>\n",
       "      <td>438.0</td>\n",
       "      <td>639</td>\n",
       "      <td>...</td>\n",
       "      <td>317.0</td>\n",
       "      <td>1171.0</td>\n",
       "      <td>1078.0</td>\n",
       "      <td>90.0</td>\n",
       "      <td>3.0</td>\n",
       "      <td>648.0</td>\n",
       "      <td>804.0</td>\n",
       "      <td>186.0</td>\n",
       "      <td>198.0</td>\n",
       "      <td>573.0</td>\n",
       "    </tr>\n",
       "    <tr>\n",
       "      <th>4</th>\n",
       "      <td>513.0</td>\n",
       "      <td>381.0</td>\n",
       "      <td>366.0</td>\n",
       "      <td>195.0</td>\n",
       "      <td>813</td>\n",
       "      <td>555.0</td>\n",
       "      <td>39.0</td>\n",
       "      <td>33.0</td>\n",
       "      <td>297.0</td>\n",
       "      <td>567</td>\n",
       "      <td>...</td>\n",
       "      <td>70.0</td>\n",
       "      <td>1248.0</td>\n",
       "      <td>378.0</td>\n",
       "      <td>45.0</td>\n",
       "      <td>6.0</td>\n",
       "      <td>51.0</td>\n",
       "      <td>351.0</td>\n",
       "      <td>582.0</td>\n",
       "      <td>252.0</td>\n",
       "      <td>360.0</td>\n",
       "    </tr>\n",
       "  </tbody>\n",
       "</table>\n",
       "<p>4 rows × 57 columns</p>\n",
       "</div>"
      ],
      "text/plain": [
       "             %Cortex  %NAcMed  %NAcLat  %NAcCore %DStr     %VP    %PO  \\\n",
       "whole brain                                                             \n",
       "1              702.0    705.0    756.0     711.0   921  1365.0  693.0   \n",
       "2              183.0    609.0     60.0     249.0   159   654.0  330.0   \n",
       "3              762.0   1560.0    480.0     990.0  1692  1440.0  870.0   \n",
       "4              513.0    381.0    366.0     195.0   813   555.0   39.0   \n",
       "\n",
       "             %Septum  %BNST %EAM  ...  VTA IF  VTA PBP  VTA PN   VTg   IC  \\\n",
       "whole brain                       ...                                       \n",
       "1               45.0  138.0  978  ...   197.0    457.0   494.0  48.0  0.0   \n",
       "2               69.0  189.0  312  ...   399.0   1596.0   819.0  81.0  3.0   \n",
       "3              285.0  438.0  639  ...   317.0   1171.0  1078.0  90.0  3.0   \n",
       "4               33.0  297.0  567  ...    70.0   1248.0   378.0  45.0  6.0   \n",
       "\n",
       "                SC    PAG Pretectal   PSth    InC  \n",
       "whole brain                                        \n",
       "1            813.0  627.0     447.0  456.0  417.0  \n",
       "2             21.0  177.0      69.0  210.0   90.0  \n",
       "3            648.0  804.0     186.0  198.0  573.0  \n",
       "4             51.0  351.0     582.0  252.0  360.0  \n",
       "\n",
       "[4 rows x 57 columns]"
      ]
     },
     "execution_count": 4,
     "metadata": {},
     "output_type": "execute_result"
    }
   ],
   "source": [
    "input_df = input_df.iloc[0:4,3:-7]\n",
    "input_df.head()"
   ]
  },
  {
   "cell_type": "code",
   "execution_count": 5,
   "metadata": {},
   "outputs": [],
   "source": [
    "cols= list(input_df.columns)"
   ]
  },
  {
   "cell_type": "code",
   "execution_count": 6,
   "metadata": {},
   "outputs": [],
   "source": [
    "for i,c in enumerate(cols):\n",
    "    cols[i]=c.lstrip(\"%\")"
   ]
  },
  {
   "cell_type": "code",
   "execution_count": 7,
   "metadata": {},
   "outputs": [],
   "source": [
    "input_fraction_df = input_df.divide(input_df.sum(axis=1),axis=0)"
   ]
  },
  {
   "cell_type": "code",
   "execution_count": 8,
   "metadata": {},
   "outputs": [
    {
     "data": {
      "text/html": [
       "<div>\n",
       "<style scoped>\n",
       "    .dataframe tbody tr th:only-of-type {\n",
       "        vertical-align: middle;\n",
       "    }\n",
       "\n",
       "    .dataframe tbody tr th {\n",
       "        vertical-align: top;\n",
       "    }\n",
       "\n",
       "    .dataframe thead th {\n",
       "        text-align: right;\n",
       "    }\n",
       "</style>\n",
       "<table border=\"1\" class=\"dataframe\">\n",
       "  <thead>\n",
       "    <tr style=\"text-align: right;\">\n",
       "      <th></th>\n",
       "      <th>%Cortex</th>\n",
       "      <th>%NAcMed</th>\n",
       "      <th>%NAcLat</th>\n",
       "      <th>%NAcCore</th>\n",
       "      <th>%DStr</th>\n",
       "      <th>%VP</th>\n",
       "      <th>%PO</th>\n",
       "      <th>%Septum</th>\n",
       "      <th>%BNST</th>\n",
       "      <th>%EAM</th>\n",
       "      <th>...</th>\n",
       "      <th>VTA IF</th>\n",
       "      <th>VTA PBP</th>\n",
       "      <th>VTA PN</th>\n",
       "      <th>VTg</th>\n",
       "      <th>IC</th>\n",
       "      <th>SC</th>\n",
       "      <th>PAG</th>\n",
       "      <th>Pretectal</th>\n",
       "      <th>PSth</th>\n",
       "      <th>InC</th>\n",
       "    </tr>\n",
       "    <tr>\n",
       "      <th>whole brain</th>\n",
       "      <th></th>\n",
       "      <th></th>\n",
       "      <th></th>\n",
       "      <th></th>\n",
       "      <th></th>\n",
       "      <th></th>\n",
       "      <th></th>\n",
       "      <th></th>\n",
       "      <th></th>\n",
       "      <th></th>\n",
       "      <th></th>\n",
       "      <th></th>\n",
       "      <th></th>\n",
       "      <th></th>\n",
       "      <th></th>\n",
       "      <th></th>\n",
       "      <th></th>\n",
       "      <th></th>\n",
       "      <th></th>\n",
       "      <th></th>\n",
       "      <th></th>\n",
       "    </tr>\n",
       "  </thead>\n",
       "  <tbody>\n",
       "    <tr>\n",
       "      <th>1</th>\n",
       "      <td>0.024983</td>\n",
       "      <td>0.025090</td>\n",
       "      <td>0.026905</td>\n",
       "      <td>0.025303</td>\n",
       "      <td>0.032777</td>\n",
       "      <td>0.048578</td>\n",
       "      <td>0.024663</td>\n",
       "      <td>0.001601</td>\n",
       "      <td>0.004911</td>\n",
       "      <td>0.034806</td>\n",
       "      <td>...</td>\n",
       "      <td>0.007011</td>\n",
       "      <td>0.016264</td>\n",
       "      <td>0.017581</td>\n",
       "      <td>0.001708</td>\n",
       "      <td>0.000000</td>\n",
       "      <td>0.028933</td>\n",
       "      <td>0.022314</td>\n",
       "      <td>0.015908</td>\n",
       "      <td>0.016228</td>\n",
       "      <td>0.014840</td>\n",
       "    </tr>\n",
       "    <tr>\n",
       "      <th>2</th>\n",
       "      <td>0.013274</td>\n",
       "      <td>0.044175</td>\n",
       "      <td>0.004352</td>\n",
       "      <td>0.018062</td>\n",
       "      <td>0.011533</td>\n",
       "      <td>0.047439</td>\n",
       "      <td>0.023937</td>\n",
       "      <td>0.005005</td>\n",
       "      <td>0.013710</td>\n",
       "      <td>0.022632</td>\n",
       "      <td>...</td>\n",
       "      <td>0.028942</td>\n",
       "      <td>0.115770</td>\n",
       "      <td>0.059408</td>\n",
       "      <td>0.005876</td>\n",
       "      <td>0.000218</td>\n",
       "      <td>0.001523</td>\n",
       "      <td>0.012839</td>\n",
       "      <td>0.005005</td>\n",
       "      <td>0.015233</td>\n",
       "      <td>0.006528</td>\n",
       "    </tr>\n",
       "    <tr>\n",
       "      <th>3</th>\n",
       "      <td>0.022565</td>\n",
       "      <td>0.046196</td>\n",
       "      <td>0.014214</td>\n",
       "      <td>0.029317</td>\n",
       "      <td>0.050105</td>\n",
       "      <td>0.042643</td>\n",
       "      <td>0.025763</td>\n",
       "      <td>0.008440</td>\n",
       "      <td>0.012970</td>\n",
       "      <td>0.018923</td>\n",
       "      <td>...</td>\n",
       "      <td>0.009387</td>\n",
       "      <td>0.034677</td>\n",
       "      <td>0.031923</td>\n",
       "      <td>0.002665</td>\n",
       "      <td>0.000089</td>\n",
       "      <td>0.019189</td>\n",
       "      <td>0.023809</td>\n",
       "      <td>0.005508</td>\n",
       "      <td>0.005863</td>\n",
       "      <td>0.016968</td>\n",
       "    </tr>\n",
       "    <tr>\n",
       "      <th>4</th>\n",
       "      <td>0.030134</td>\n",
       "      <td>0.022380</td>\n",
       "      <td>0.021499</td>\n",
       "      <td>0.011454</td>\n",
       "      <td>0.047756</td>\n",
       "      <td>0.032601</td>\n",
       "      <td>0.002291</td>\n",
       "      <td>0.001938</td>\n",
       "      <td>0.017446</td>\n",
       "      <td>0.033306</td>\n",
       "      <td>...</td>\n",
       "      <td>0.004112</td>\n",
       "      <td>0.073308</td>\n",
       "      <td>0.022204</td>\n",
       "      <td>0.002643</td>\n",
       "      <td>0.000352</td>\n",
       "      <td>0.002996</td>\n",
       "      <td>0.020618</td>\n",
       "      <td>0.034187</td>\n",
       "      <td>0.014803</td>\n",
       "      <td>0.021147</td>\n",
       "    </tr>\n",
       "  </tbody>\n",
       "</table>\n",
       "<p>4 rows × 57 columns</p>\n",
       "</div>"
      ],
      "text/plain": [
       "              %Cortex   %NAcMed   %NAcLat  %NAcCore     %DStr       %VP  \\\n",
       "whole brain                                                               \n",
       "1            0.024983  0.025090  0.026905  0.025303  0.032777  0.048578   \n",
       "2            0.013274  0.044175  0.004352  0.018062  0.011533  0.047439   \n",
       "3            0.022565  0.046196  0.014214  0.029317  0.050105  0.042643   \n",
       "4            0.030134  0.022380  0.021499  0.011454  0.047756  0.032601   \n",
       "\n",
       "                  %PO   %Septum     %BNST      %EAM  ...    VTA IF   VTA PBP  \\\n",
       "whole brain                                          ...                       \n",
       "1            0.024663  0.001601  0.004911  0.034806  ...  0.007011  0.016264   \n",
       "2            0.023937  0.005005  0.013710  0.022632  ...  0.028942  0.115770   \n",
       "3            0.025763  0.008440  0.012970  0.018923  ...  0.009387  0.034677   \n",
       "4            0.002291  0.001938  0.017446  0.033306  ...  0.004112  0.073308   \n",
       "\n",
       "               VTA PN       VTg        IC        SC       PAG Pretectal  \\\n",
       "whole brain                                                               \n",
       "1            0.017581  0.001708  0.000000  0.028933  0.022314  0.015908   \n",
       "2            0.059408  0.005876  0.000218  0.001523  0.012839  0.005005   \n",
       "3            0.031923  0.002665  0.000089  0.019189  0.023809  0.005508   \n",
       "4            0.022204  0.002643  0.000352  0.002996  0.020618  0.034187   \n",
       "\n",
       "                 PSth       InC  \n",
       "whole brain                      \n",
       "1            0.016228  0.014840  \n",
       "2            0.015233  0.006528  \n",
       "3            0.005863  0.016968  \n",
       "4            0.014803  0.021147  \n",
       "\n",
       "[4 rows x 57 columns]"
      ]
     },
     "execution_count": 8,
     "metadata": {},
     "output_type": "execute_result"
    }
   ],
   "source": [
    "input_fraction_df.head()"
   ]
  },
  {
   "cell_type": "code",
   "execution_count": 9,
   "metadata": {},
   "outputs": [],
   "source": [
    "scaled_features = input_fraction_df.to_numpy(dtype=\"float\")"
   ]
  },
  {
   "cell_type": "markdown",
   "metadata": {},
   "source": [
    "# Look at Inputs with Similar Changes in Connectivity Across Samples"
   ]
  },
  {
   "cell_type": "code",
   "execution_count": 10,
   "metadata": {},
   "outputs": [],
   "source": [
    "scaled_features_t=scaled_features.transpose()\n",
    "\n",
    "z_scaled_features_t = zscore(scaled_features_t,axis=1)\n",
    "\n",
    "allembedding=umap.UMAP(n_neighbors=5,min_dist=0.5,metric='euclidean').fit_transform(z_scaled_features_t)"
   ]
  },
  {
   "cell_type": "code",
   "execution_count": 16,
   "metadata": {
    "scrolled": false
   },
   "outputs": [
    {
     "data": {
      "application/vnd.plotly.v1+json": {
       "config": {
        "plotlyServerURL": "https://plot.ly"
       },
       "data": [
        {
         "hoverinfo": "text",
         "marker": {
          "color": [
           "#dc5f57",
           "#57d4dc",
           "#dc5f57",
           "#57d4dc",
           "#dc5f57",
           "#57d4dc",
           "#57d4dc",
           "#57d4dc",
           "#57d4dc",
           "#dc5f57",
           "#dc5f57",
           "#dc5f57",
           "#57d4dc",
           "#57d4dc",
           "#57d4dc",
           "#dc5f57",
           "#57d4dc",
           "#dc5f57",
           "#57d4dc",
           "#57d4dc",
           "#dc5f57",
           "#dc5f57",
           "#57d4dc",
           "#57d4dc",
           "#57d4dc",
           "#57d4dc",
           "#dc5f57",
           "#57d4dc",
           "#57d4dc",
           "#57d4dc",
           "#57d4dc",
           "#dc5f57",
           "#57d4dc",
           "#57d4dc",
           "#57d4dc",
           "#57d4dc",
           "#57d4dc",
           "#57d4dc",
           "#57d4dc",
           "#dc5f57",
           "#dc5f57",
           "#dc5f57",
           "#dc5f57",
           "#57d4dc",
           "#dc5f57",
           "#57d4dc",
           "#57d4dc",
           "#57d4dc",
           "#57d4dc",
           "#57d4dc",
           "#57d4dc",
           "#57d4dc",
           "#57d4dc",
           "#dc5f57",
           "#dc5f57",
           "#57d4dc",
           "#dc5f57"
          ]
         },
         "mode": "markers+text",
         "text": [
          "Cortex",
          "NAcMed",
          "NAcLat",
          "NAcCore",
          "DStr",
          "VP",
          "PO",
          "Septum",
          "BNST",
          "EAM",
          "EP",
          "GP",
          "PVN",
          "LHb",
          "MHb",
          "CeA",
          "LH",
          "ZI",
          "DR",
          "LDT",
          "PBN",
          "DCN",
          "Atg",
          "IPN",
          "LL (DLL/ILL/VLL)",
          "MR",
          "mRt",
          "PMnR",
          "PnO",
          "MPL",
          "MiTg",
          "pons etc",
          "PTg",
          "Rli",
          "RMg",
          "RPC",
          "RRF",
          "RtTg",
          "SNc",
          "SNL",
          "SNR",
          "SPTg",
          "SubB",
          "MM",
          "other near ant VTA (RI)",
          "SuM",
          "SuMx",
          "VTA IF",
          "VTA PBP",
          "VTA PN",
          "VTg",
          "IC",
          "SC",
          "PAG",
          "Pretectal",
          "PSth",
          "InC"
         ],
         "textposition": "bottom center",
         "type": "scatter",
         "x": [
          6.274777889251709,
          -8.409329414367676,
          5.374927043914795,
          -5.790046691894531,
          5.18754768371582,
          -3.8974807262420654,
          -4.732566833496094,
          -7.743494987487793,
          -0.6387071013450623,
          7.235684394836426,
          7.602283954620361,
          4.807560443878174,
          -0.6261641383171082,
          -5.364049911499023,
          -7.31636905670166,
          7.0440239906311035,
          -2.5460922718048096,
          5.902934551239014,
          -3.4570581912994385,
          -6.311113357543945,
          7.228271484375,
          6.682778835296631,
          -8.27586841583252,
          -7.662204265594482,
          -3.856985330581665,
          -2.9617886543273926,
          6.489698886871338,
          -2.775729179382324,
          -4.889404296875,
          -0.7747742533683777,
          -4.2129364013671875,
          7.008052349090576,
          -6.748843669891357,
          1.3584117889404297,
          -4.15029764175415,
          0.7510942220687866,
          -4.675155162811279,
          -4.517075061798096,
          -0.17074371874332428,
          5.31734561920166,
          5.638033866882324,
          4.615310192108154,
          4.180482387542725,
          -1.1062434911727905,
          7.402149200439453,
          -3.6761491298675537,
          1.1310876607894897,
          -2.09192156791687,
          -0.30642691254615784,
          -2.020648241043091,
          -1.4546736478805542,
          -0.24481673538684845,
          -4.898397922515869,
          4.633647441864014,
          7.627068996429443,
          1.5401549339294434,
          5.855141639709473
         ],
         "y": [
          -5.566318035125732,
          4.42989444732666,
          -4.0955681800842285,
          3.425679922103882,
          -6.667146682739258,
          3.769895553588867,
          3.941891670227051,
          4.081870079040527,
          3.674931526184082,
          -1.3981231451034546,
          -1.851639986038208,
          -4.940631866455078,
          4.58039665222168,
          3.8641746044158936,
          4.144633769989014,
          -4.425605773925781,
          5.936112880706787,
          -4.230269432067871,
          4.469308853149414,
          3.865347146987915,
          -2.3850104808807373,
          -3.7685279846191406,
          4.03410530090332,
          4.501197338104248,
          1.578003168106079,
          5.269137382507324,
          -4.7338738441467285,
          4.526569366455078,
          0.4049396514892578,
          5.876621246337891,
          2.2058603763580322,
          -1.9336323738098145,
          3.6909067630767822,
          5.678311347961426,
          1.13077712059021,
          5.329222202301025,
          3.2678632736206055,
          0.9688040614128113,
          4.049294948577881,
          -7.095187187194824,
          -7.345455169677734,
          -5.748459815979004,
          -5.4860310554504395,
          5.4448652267456055,
          -4.452211856842041,
          2.0781378746032715,
          4.947199821472168,
          5.31829309463501,
          5.020837306976318,
          6.032195091247559,
          5.888659954071045,
          3.4041788578033447,
          0.9353302121162415,
          -6.208072185516357,
          -4.8177900314331055,
          5.069385051727295,
          -6.582997798919678
         ]
        }
       ],
       "layout": {
        "height": 800,
        "template": {
         "data": {
          "bar": [
           {
            "error_x": {
             "color": "#2a3f5f"
            },
            "error_y": {
             "color": "#2a3f5f"
            },
            "marker": {
             "line": {
              "color": "#E5ECF6",
              "width": 0.5
             },
             "pattern": {
              "fillmode": "overlay",
              "size": 10,
              "solidity": 0.2
             }
            },
            "type": "bar"
           }
          ],
          "barpolar": [
           {
            "marker": {
             "line": {
              "color": "#E5ECF6",
              "width": 0.5
             },
             "pattern": {
              "fillmode": "overlay",
              "size": 10,
              "solidity": 0.2
             }
            },
            "type": "barpolar"
           }
          ],
          "carpet": [
           {
            "aaxis": {
             "endlinecolor": "#2a3f5f",
             "gridcolor": "white",
             "linecolor": "white",
             "minorgridcolor": "white",
             "startlinecolor": "#2a3f5f"
            },
            "baxis": {
             "endlinecolor": "#2a3f5f",
             "gridcolor": "white",
             "linecolor": "white",
             "minorgridcolor": "white",
             "startlinecolor": "#2a3f5f"
            },
            "type": "carpet"
           }
          ],
          "choropleth": [
           {
            "colorbar": {
             "outlinewidth": 0,
             "ticks": ""
            },
            "type": "choropleth"
           }
          ],
          "contour": [
           {
            "colorbar": {
             "outlinewidth": 0,
             "ticks": ""
            },
            "colorscale": [
             [
              0,
              "#0d0887"
             ],
             [
              0.1111111111111111,
              "#46039f"
             ],
             [
              0.2222222222222222,
              "#7201a8"
             ],
             [
              0.3333333333333333,
              "#9c179e"
             ],
             [
              0.4444444444444444,
              "#bd3786"
             ],
             [
              0.5555555555555556,
              "#d8576b"
             ],
             [
              0.6666666666666666,
              "#ed7953"
             ],
             [
              0.7777777777777778,
              "#fb9f3a"
             ],
             [
              0.8888888888888888,
              "#fdca26"
             ],
             [
              1,
              "#f0f921"
             ]
            ],
            "type": "contour"
           }
          ],
          "contourcarpet": [
           {
            "colorbar": {
             "outlinewidth": 0,
             "ticks": ""
            },
            "type": "contourcarpet"
           }
          ],
          "heatmap": [
           {
            "colorbar": {
             "outlinewidth": 0,
             "ticks": ""
            },
            "colorscale": [
             [
              0,
              "#0d0887"
             ],
             [
              0.1111111111111111,
              "#46039f"
             ],
             [
              0.2222222222222222,
              "#7201a8"
             ],
             [
              0.3333333333333333,
              "#9c179e"
             ],
             [
              0.4444444444444444,
              "#bd3786"
             ],
             [
              0.5555555555555556,
              "#d8576b"
             ],
             [
              0.6666666666666666,
              "#ed7953"
             ],
             [
              0.7777777777777778,
              "#fb9f3a"
             ],
             [
              0.8888888888888888,
              "#fdca26"
             ],
             [
              1,
              "#f0f921"
             ]
            ],
            "type": "heatmap"
           }
          ],
          "heatmapgl": [
           {
            "colorbar": {
             "outlinewidth": 0,
             "ticks": ""
            },
            "colorscale": [
             [
              0,
              "#0d0887"
             ],
             [
              0.1111111111111111,
              "#46039f"
             ],
             [
              0.2222222222222222,
              "#7201a8"
             ],
             [
              0.3333333333333333,
              "#9c179e"
             ],
             [
              0.4444444444444444,
              "#bd3786"
             ],
             [
              0.5555555555555556,
              "#d8576b"
             ],
             [
              0.6666666666666666,
              "#ed7953"
             ],
             [
              0.7777777777777778,
              "#fb9f3a"
             ],
             [
              0.8888888888888888,
              "#fdca26"
             ],
             [
              1,
              "#f0f921"
             ]
            ],
            "type": "heatmapgl"
           }
          ],
          "histogram": [
           {
            "marker": {
             "pattern": {
              "fillmode": "overlay",
              "size": 10,
              "solidity": 0.2
             }
            },
            "type": "histogram"
           }
          ],
          "histogram2d": [
           {
            "colorbar": {
             "outlinewidth": 0,
             "ticks": ""
            },
            "colorscale": [
             [
              0,
              "#0d0887"
             ],
             [
              0.1111111111111111,
              "#46039f"
             ],
             [
              0.2222222222222222,
              "#7201a8"
             ],
             [
              0.3333333333333333,
              "#9c179e"
             ],
             [
              0.4444444444444444,
              "#bd3786"
             ],
             [
              0.5555555555555556,
              "#d8576b"
             ],
             [
              0.6666666666666666,
              "#ed7953"
             ],
             [
              0.7777777777777778,
              "#fb9f3a"
             ],
             [
              0.8888888888888888,
              "#fdca26"
             ],
             [
              1,
              "#f0f921"
             ]
            ],
            "type": "histogram2d"
           }
          ],
          "histogram2dcontour": [
           {
            "colorbar": {
             "outlinewidth": 0,
             "ticks": ""
            },
            "colorscale": [
             [
              0,
              "#0d0887"
             ],
             [
              0.1111111111111111,
              "#46039f"
             ],
             [
              0.2222222222222222,
              "#7201a8"
             ],
             [
              0.3333333333333333,
              "#9c179e"
             ],
             [
              0.4444444444444444,
              "#bd3786"
             ],
             [
              0.5555555555555556,
              "#d8576b"
             ],
             [
              0.6666666666666666,
              "#ed7953"
             ],
             [
              0.7777777777777778,
              "#fb9f3a"
             ],
             [
              0.8888888888888888,
              "#fdca26"
             ],
             [
              1,
              "#f0f921"
             ]
            ],
            "type": "histogram2dcontour"
           }
          ],
          "mesh3d": [
           {
            "colorbar": {
             "outlinewidth": 0,
             "ticks": ""
            },
            "type": "mesh3d"
           }
          ],
          "parcoords": [
           {
            "line": {
             "colorbar": {
              "outlinewidth": 0,
              "ticks": ""
             }
            },
            "type": "parcoords"
           }
          ],
          "pie": [
           {
            "automargin": true,
            "type": "pie"
           }
          ],
          "scatter": [
           {
            "marker": {
             "colorbar": {
              "outlinewidth": 0,
              "ticks": ""
             }
            },
            "type": "scatter"
           }
          ],
          "scatter3d": [
           {
            "line": {
             "colorbar": {
              "outlinewidth": 0,
              "ticks": ""
             }
            },
            "marker": {
             "colorbar": {
              "outlinewidth": 0,
              "ticks": ""
             }
            },
            "type": "scatter3d"
           }
          ],
          "scattercarpet": [
           {
            "marker": {
             "colorbar": {
              "outlinewidth": 0,
              "ticks": ""
             }
            },
            "type": "scattercarpet"
           }
          ],
          "scattergeo": [
           {
            "marker": {
             "colorbar": {
              "outlinewidth": 0,
              "ticks": ""
             }
            },
            "type": "scattergeo"
           }
          ],
          "scattergl": [
           {
            "marker": {
             "colorbar": {
              "outlinewidth": 0,
              "ticks": ""
             }
            },
            "type": "scattergl"
           }
          ],
          "scattermapbox": [
           {
            "marker": {
             "colorbar": {
              "outlinewidth": 0,
              "ticks": ""
             }
            },
            "type": "scattermapbox"
           }
          ],
          "scatterpolar": [
           {
            "marker": {
             "colorbar": {
              "outlinewidth": 0,
              "ticks": ""
             }
            },
            "type": "scatterpolar"
           }
          ],
          "scatterpolargl": [
           {
            "marker": {
             "colorbar": {
              "outlinewidth": 0,
              "ticks": ""
             }
            },
            "type": "scatterpolargl"
           }
          ],
          "scatterternary": [
           {
            "marker": {
             "colorbar": {
              "outlinewidth": 0,
              "ticks": ""
             }
            },
            "type": "scatterternary"
           }
          ],
          "surface": [
           {
            "colorbar": {
             "outlinewidth": 0,
             "ticks": ""
            },
            "colorscale": [
             [
              0,
              "#0d0887"
             ],
             [
              0.1111111111111111,
              "#46039f"
             ],
             [
              0.2222222222222222,
              "#7201a8"
             ],
             [
              0.3333333333333333,
              "#9c179e"
             ],
             [
              0.4444444444444444,
              "#bd3786"
             ],
             [
              0.5555555555555556,
              "#d8576b"
             ],
             [
              0.6666666666666666,
              "#ed7953"
             ],
             [
              0.7777777777777778,
              "#fb9f3a"
             ],
             [
              0.8888888888888888,
              "#fdca26"
             ],
             [
              1,
              "#f0f921"
             ]
            ],
            "type": "surface"
           }
          ],
          "table": [
           {
            "cells": {
             "fill": {
              "color": "#EBF0F8"
             },
             "line": {
              "color": "white"
             }
            },
            "header": {
             "fill": {
              "color": "#C8D4E3"
             },
             "line": {
              "color": "white"
             }
            },
            "type": "table"
           }
          ]
         },
         "layout": {
          "annotationdefaults": {
           "arrowcolor": "#2a3f5f",
           "arrowhead": 0,
           "arrowwidth": 1
          },
          "autotypenumbers": "strict",
          "coloraxis": {
           "colorbar": {
            "outlinewidth": 0,
            "ticks": ""
           }
          },
          "colorscale": {
           "diverging": [
            [
             0,
             "#8e0152"
            ],
            [
             0.1,
             "#c51b7d"
            ],
            [
             0.2,
             "#de77ae"
            ],
            [
             0.3,
             "#f1b6da"
            ],
            [
             0.4,
             "#fde0ef"
            ],
            [
             0.5,
             "#f7f7f7"
            ],
            [
             0.6,
             "#e6f5d0"
            ],
            [
             0.7,
             "#b8e186"
            ],
            [
             0.8,
             "#7fbc41"
            ],
            [
             0.9,
             "#4d9221"
            ],
            [
             1,
             "#276419"
            ]
           ],
           "sequential": [
            [
             0,
             "#0d0887"
            ],
            [
             0.1111111111111111,
             "#46039f"
            ],
            [
             0.2222222222222222,
             "#7201a8"
            ],
            [
             0.3333333333333333,
             "#9c179e"
            ],
            [
             0.4444444444444444,
             "#bd3786"
            ],
            [
             0.5555555555555556,
             "#d8576b"
            ],
            [
             0.6666666666666666,
             "#ed7953"
            ],
            [
             0.7777777777777778,
             "#fb9f3a"
            ],
            [
             0.8888888888888888,
             "#fdca26"
            ],
            [
             1,
             "#f0f921"
            ]
           ],
           "sequentialminus": [
            [
             0,
             "#0d0887"
            ],
            [
             0.1111111111111111,
             "#46039f"
            ],
            [
             0.2222222222222222,
             "#7201a8"
            ],
            [
             0.3333333333333333,
             "#9c179e"
            ],
            [
             0.4444444444444444,
             "#bd3786"
            ],
            [
             0.5555555555555556,
             "#d8576b"
            ],
            [
             0.6666666666666666,
             "#ed7953"
            ],
            [
             0.7777777777777778,
             "#fb9f3a"
            ],
            [
             0.8888888888888888,
             "#fdca26"
            ],
            [
             1,
             "#f0f921"
            ]
           ]
          },
          "colorway": [
           "#636efa",
           "#EF553B",
           "#00cc96",
           "#ab63fa",
           "#FFA15A",
           "#19d3f3",
           "#FF6692",
           "#B6E880",
           "#FF97FF",
           "#FECB52"
          ],
          "font": {
           "color": "#2a3f5f"
          },
          "geo": {
           "bgcolor": "white",
           "lakecolor": "white",
           "landcolor": "#E5ECF6",
           "showlakes": true,
           "showland": true,
           "subunitcolor": "white"
          },
          "hoverlabel": {
           "align": "left"
          },
          "hovermode": "closest",
          "mapbox": {
           "style": "light"
          },
          "paper_bgcolor": "white",
          "plot_bgcolor": "#E5ECF6",
          "polar": {
           "angularaxis": {
            "gridcolor": "white",
            "linecolor": "white",
            "ticks": ""
           },
           "bgcolor": "#E5ECF6",
           "radialaxis": {
            "gridcolor": "white",
            "linecolor": "white",
            "ticks": ""
           }
          },
          "scene": {
           "xaxis": {
            "backgroundcolor": "#E5ECF6",
            "gridcolor": "white",
            "gridwidth": 2,
            "linecolor": "white",
            "showbackground": true,
            "ticks": "",
            "zerolinecolor": "white"
           },
           "yaxis": {
            "backgroundcolor": "#E5ECF6",
            "gridcolor": "white",
            "gridwidth": 2,
            "linecolor": "white",
            "showbackground": true,
            "ticks": "",
            "zerolinecolor": "white"
           },
           "zaxis": {
            "backgroundcolor": "#E5ECF6",
            "gridcolor": "white",
            "gridwidth": 2,
            "linecolor": "white",
            "showbackground": true,
            "ticks": "",
            "zerolinecolor": "white"
           }
          },
          "shapedefaults": {
           "line": {
            "color": "#2a3f5f"
           }
          },
          "ternary": {
           "aaxis": {
            "gridcolor": "white",
            "linecolor": "white",
            "ticks": ""
           },
           "baxis": {
            "gridcolor": "white",
            "linecolor": "white",
            "ticks": ""
           },
           "bgcolor": "#E5ECF6",
           "caxis": {
            "gridcolor": "white",
            "linecolor": "white",
            "ticks": ""
           }
          },
          "title": {
           "x": 0.05
          },
          "xaxis": {
           "automargin": true,
           "gridcolor": "white",
           "linecolor": "white",
           "ticks": "",
           "title": {
            "standoff": 15
           },
           "zerolinecolor": "white",
           "zerolinewidth": 2
          },
          "yaxis": {
           "automargin": true,
           "gridcolor": "white",
           "linecolor": "white",
           "ticks": "",
           "title": {
            "standoff": 15
           },
           "zerolinecolor": "white",
           "zerolinewidth": 2
          }
         }
        },
        "title": {
         "text": "VTA Input Connectivity Similarities - UMAP",
         "x": 0.5
        },
        "width": 800,
        "xaxis": {
         "mirror": true,
         "showgrid": false,
         "showline": true,
         "ticks": "outside",
         "title": {
          "text": "UMAP 1D"
         },
         "zeroline": false
        },
        "yaxis": {
         "mirror": true,
         "showgrid": false,
         "showline": true,
         "ticks": "outside",
         "title": {
          "text": "UMAP 2D"
         },
         "zeroline": false
        }
       }
      },
      "text/html": [
       "<div>                            <div id=\"4567d3df-0596-471f-8f93-51f46516877f\" class=\"plotly-graph-div\" style=\"height:800px; width:800px;\"></div>            <script type=\"text/javascript\">                require([\"plotly\"], function(Plotly) {                    window.PLOTLYENV=window.PLOTLYENV || {};                                    if (document.getElementById(\"4567d3df-0596-471f-8f93-51f46516877f\")) {                    Plotly.newPlot(                        \"4567d3df-0596-471f-8f93-51f46516877f\",                        [{\"hoverinfo\":\"text\",\"marker\":{\"color\":[\"#dc5f57\",\"#57d4dc\",\"#dc5f57\",\"#57d4dc\",\"#dc5f57\",\"#57d4dc\",\"#57d4dc\",\"#57d4dc\",\"#57d4dc\",\"#dc5f57\",\"#dc5f57\",\"#dc5f57\",\"#57d4dc\",\"#57d4dc\",\"#57d4dc\",\"#dc5f57\",\"#57d4dc\",\"#dc5f57\",\"#57d4dc\",\"#57d4dc\",\"#dc5f57\",\"#dc5f57\",\"#57d4dc\",\"#57d4dc\",\"#57d4dc\",\"#57d4dc\",\"#dc5f57\",\"#57d4dc\",\"#57d4dc\",\"#57d4dc\",\"#57d4dc\",\"#dc5f57\",\"#57d4dc\",\"#57d4dc\",\"#57d4dc\",\"#57d4dc\",\"#57d4dc\",\"#57d4dc\",\"#57d4dc\",\"#dc5f57\",\"#dc5f57\",\"#dc5f57\",\"#dc5f57\",\"#57d4dc\",\"#dc5f57\",\"#57d4dc\",\"#57d4dc\",\"#57d4dc\",\"#57d4dc\",\"#57d4dc\",\"#57d4dc\",\"#57d4dc\",\"#57d4dc\",\"#dc5f57\",\"#dc5f57\",\"#57d4dc\",\"#dc5f57\"]},\"mode\":\"markers+text\",\"text\":[\"Cortex\",\"NAcMed\",\"NAcLat\",\"NAcCore\",\"DStr\",\"VP\",\"PO\",\"Septum\",\"BNST\",\"EAM\",\"EP\",\"GP\",\"PVN\",\"LHb\",\"MHb\",\"CeA\",\"LH\",\"ZI\",\"DR\",\"LDT\",\"PBN\",\"DCN\",\"Atg\",\"IPN\",\"LL (DLL/ILL/VLL)\",\"MR\",\"mRt\",\"PMnR\",\"PnO\",\"MPL\",\"MiTg\",\"pons etc\",\"PTg\",\"Rli\",\"RMg\",\"RPC\",\"RRF\",\"RtTg\",\"SNc\",\"SNL\",\"SNR\",\"SPTg\",\"SubB\",\"MM\",\"other near ant VTA (RI)\",\"SuM\",\"SuMx\",\"VTA IF\",\"VTA PBP\",\"VTA PN\",\"VTg\",\"IC\",\"SC\",\"PAG\",\"Pretectal\",\"PSth\",\"InC\"],\"textposition\":\"bottom center\",\"x\":[6.274777889251709,-8.409329414367676,5.374927043914795,-5.790046691894531,5.18754768371582,-3.8974807262420654,-4.732566833496094,-7.743494987487793,-0.6387071013450623,7.235684394836426,7.602283954620361,4.807560443878174,-0.6261641383171082,-5.364049911499023,-7.31636905670166,7.0440239906311035,-2.5460922718048096,5.902934551239014,-3.4570581912994385,-6.311113357543945,7.228271484375,6.682778835296631,-8.27586841583252,-7.662204265594482,-3.856985330581665,-2.9617886543273926,6.489698886871338,-2.775729179382324,-4.889404296875,-0.7747742533683777,-4.2129364013671875,7.008052349090576,-6.748843669891357,1.3584117889404297,-4.15029764175415,0.7510942220687866,-4.675155162811279,-4.517075061798096,-0.17074371874332428,5.31734561920166,5.638033866882324,4.615310192108154,4.180482387542725,-1.1062434911727905,7.402149200439453,-3.6761491298675537,1.1310876607894897,-2.09192156791687,-0.30642691254615784,-2.020648241043091,-1.4546736478805542,-0.24481673538684845,-4.898397922515869,4.633647441864014,7.627068996429443,1.5401549339294434,5.855141639709473],\"y\":[-5.566318035125732,4.42989444732666,-4.0955681800842285,3.425679922103882,-6.667146682739258,3.769895553588867,3.941891670227051,4.081870079040527,3.674931526184082,-1.3981231451034546,-1.851639986038208,-4.940631866455078,4.58039665222168,3.8641746044158936,4.144633769989014,-4.425605773925781,5.936112880706787,-4.230269432067871,4.469308853149414,3.865347146987915,-2.3850104808807373,-3.7685279846191406,4.03410530090332,4.501197338104248,1.578003168106079,5.269137382507324,-4.7338738441467285,4.526569366455078,0.4049396514892578,5.876621246337891,2.2058603763580322,-1.9336323738098145,3.6909067630767822,5.678311347961426,1.13077712059021,5.329222202301025,3.2678632736206055,0.9688040614128113,4.049294948577881,-7.095187187194824,-7.345455169677734,-5.748459815979004,-5.4860310554504395,5.4448652267456055,-4.452211856842041,2.0781378746032715,4.947199821472168,5.31829309463501,5.020837306976318,6.032195091247559,5.888659954071045,3.4041788578033447,0.9353302121162415,-6.208072185516357,-4.8177900314331055,5.069385051727295,-6.582997798919678],\"type\":\"scatter\"}],                        {\"template\":{\"data\":{\"bar\":[{\"error_x\":{\"color\":\"#2a3f5f\"},\"error_y\":{\"color\":\"#2a3f5f\"},\"marker\":{\"line\":{\"color\":\"#E5ECF6\",\"width\":0.5},\"pattern\":{\"fillmode\":\"overlay\",\"size\":10,\"solidity\":0.2}},\"type\":\"bar\"}],\"barpolar\":[{\"marker\":{\"line\":{\"color\":\"#E5ECF6\",\"width\":0.5},\"pattern\":{\"fillmode\":\"overlay\",\"size\":10,\"solidity\":0.2}},\"type\":\"barpolar\"}],\"carpet\":[{\"aaxis\":{\"endlinecolor\":\"#2a3f5f\",\"gridcolor\":\"white\",\"linecolor\":\"white\",\"minorgridcolor\":\"white\",\"startlinecolor\":\"#2a3f5f\"},\"baxis\":{\"endlinecolor\":\"#2a3f5f\",\"gridcolor\":\"white\",\"linecolor\":\"white\",\"minorgridcolor\":\"white\",\"startlinecolor\":\"#2a3f5f\"},\"type\":\"carpet\"}],\"choropleth\":[{\"colorbar\":{\"outlinewidth\":0,\"ticks\":\"\"},\"type\":\"choropleth\"}],\"contour\":[{\"colorbar\":{\"outlinewidth\":0,\"ticks\":\"\"},\"colorscale\":[[0.0,\"#0d0887\"],[0.1111111111111111,\"#46039f\"],[0.2222222222222222,\"#7201a8\"],[0.3333333333333333,\"#9c179e\"],[0.4444444444444444,\"#bd3786\"],[0.5555555555555556,\"#d8576b\"],[0.6666666666666666,\"#ed7953\"],[0.7777777777777778,\"#fb9f3a\"],[0.8888888888888888,\"#fdca26\"],[1.0,\"#f0f921\"]],\"type\":\"contour\"}],\"contourcarpet\":[{\"colorbar\":{\"outlinewidth\":0,\"ticks\":\"\"},\"type\":\"contourcarpet\"}],\"heatmap\":[{\"colorbar\":{\"outlinewidth\":0,\"ticks\":\"\"},\"colorscale\":[[0.0,\"#0d0887\"],[0.1111111111111111,\"#46039f\"],[0.2222222222222222,\"#7201a8\"],[0.3333333333333333,\"#9c179e\"],[0.4444444444444444,\"#bd3786\"],[0.5555555555555556,\"#d8576b\"],[0.6666666666666666,\"#ed7953\"],[0.7777777777777778,\"#fb9f3a\"],[0.8888888888888888,\"#fdca26\"],[1.0,\"#f0f921\"]],\"type\":\"heatmap\"}],\"heatmapgl\":[{\"colorbar\":{\"outlinewidth\":0,\"ticks\":\"\"},\"colorscale\":[[0.0,\"#0d0887\"],[0.1111111111111111,\"#46039f\"],[0.2222222222222222,\"#7201a8\"],[0.3333333333333333,\"#9c179e\"],[0.4444444444444444,\"#bd3786\"],[0.5555555555555556,\"#d8576b\"],[0.6666666666666666,\"#ed7953\"],[0.7777777777777778,\"#fb9f3a\"],[0.8888888888888888,\"#fdca26\"],[1.0,\"#f0f921\"]],\"type\":\"heatmapgl\"}],\"histogram\":[{\"marker\":{\"pattern\":{\"fillmode\":\"overlay\",\"size\":10,\"solidity\":0.2}},\"type\":\"histogram\"}],\"histogram2d\":[{\"colorbar\":{\"outlinewidth\":0,\"ticks\":\"\"},\"colorscale\":[[0.0,\"#0d0887\"],[0.1111111111111111,\"#46039f\"],[0.2222222222222222,\"#7201a8\"],[0.3333333333333333,\"#9c179e\"],[0.4444444444444444,\"#bd3786\"],[0.5555555555555556,\"#d8576b\"],[0.6666666666666666,\"#ed7953\"],[0.7777777777777778,\"#fb9f3a\"],[0.8888888888888888,\"#fdca26\"],[1.0,\"#f0f921\"]],\"type\":\"histogram2d\"}],\"histogram2dcontour\":[{\"colorbar\":{\"outlinewidth\":0,\"ticks\":\"\"},\"colorscale\":[[0.0,\"#0d0887\"],[0.1111111111111111,\"#46039f\"],[0.2222222222222222,\"#7201a8\"],[0.3333333333333333,\"#9c179e\"],[0.4444444444444444,\"#bd3786\"],[0.5555555555555556,\"#d8576b\"],[0.6666666666666666,\"#ed7953\"],[0.7777777777777778,\"#fb9f3a\"],[0.8888888888888888,\"#fdca26\"],[1.0,\"#f0f921\"]],\"type\":\"histogram2dcontour\"}],\"mesh3d\":[{\"colorbar\":{\"outlinewidth\":0,\"ticks\":\"\"},\"type\":\"mesh3d\"}],\"parcoords\":[{\"line\":{\"colorbar\":{\"outlinewidth\":0,\"ticks\":\"\"}},\"type\":\"parcoords\"}],\"pie\":[{\"automargin\":true,\"type\":\"pie\"}],\"scatter\":[{\"marker\":{\"colorbar\":{\"outlinewidth\":0,\"ticks\":\"\"}},\"type\":\"scatter\"}],\"scatter3d\":[{\"line\":{\"colorbar\":{\"outlinewidth\":0,\"ticks\":\"\"}},\"marker\":{\"colorbar\":{\"outlinewidth\":0,\"ticks\":\"\"}},\"type\":\"scatter3d\"}],\"scattercarpet\":[{\"marker\":{\"colorbar\":{\"outlinewidth\":0,\"ticks\":\"\"}},\"type\":\"scattercarpet\"}],\"scattergeo\":[{\"marker\":{\"colorbar\":{\"outlinewidth\":0,\"ticks\":\"\"}},\"type\":\"scattergeo\"}],\"scattergl\":[{\"marker\":{\"colorbar\":{\"outlinewidth\":0,\"ticks\":\"\"}},\"type\":\"scattergl\"}],\"scattermapbox\":[{\"marker\":{\"colorbar\":{\"outlinewidth\":0,\"ticks\":\"\"}},\"type\":\"scattermapbox\"}],\"scatterpolar\":[{\"marker\":{\"colorbar\":{\"outlinewidth\":0,\"ticks\":\"\"}},\"type\":\"scatterpolar\"}],\"scatterpolargl\":[{\"marker\":{\"colorbar\":{\"outlinewidth\":0,\"ticks\":\"\"}},\"type\":\"scatterpolargl\"}],\"scatterternary\":[{\"marker\":{\"colorbar\":{\"outlinewidth\":0,\"ticks\":\"\"}},\"type\":\"scatterternary\"}],\"surface\":[{\"colorbar\":{\"outlinewidth\":0,\"ticks\":\"\"},\"colorscale\":[[0.0,\"#0d0887\"],[0.1111111111111111,\"#46039f\"],[0.2222222222222222,\"#7201a8\"],[0.3333333333333333,\"#9c179e\"],[0.4444444444444444,\"#bd3786\"],[0.5555555555555556,\"#d8576b\"],[0.6666666666666666,\"#ed7953\"],[0.7777777777777778,\"#fb9f3a\"],[0.8888888888888888,\"#fdca26\"],[1.0,\"#f0f921\"]],\"type\":\"surface\"}],\"table\":[{\"cells\":{\"fill\":{\"color\":\"#EBF0F8\"},\"line\":{\"color\":\"white\"}},\"header\":{\"fill\":{\"color\":\"#C8D4E3\"},\"line\":{\"color\":\"white\"}},\"type\":\"table\"}]},\"layout\":{\"annotationdefaults\":{\"arrowcolor\":\"#2a3f5f\",\"arrowhead\":0,\"arrowwidth\":1},\"autotypenumbers\":\"strict\",\"coloraxis\":{\"colorbar\":{\"outlinewidth\":0,\"ticks\":\"\"}},\"colorscale\":{\"diverging\":[[0,\"#8e0152\"],[0.1,\"#c51b7d\"],[0.2,\"#de77ae\"],[0.3,\"#f1b6da\"],[0.4,\"#fde0ef\"],[0.5,\"#f7f7f7\"],[0.6,\"#e6f5d0\"],[0.7,\"#b8e186\"],[0.8,\"#7fbc41\"],[0.9,\"#4d9221\"],[1,\"#276419\"]],\"sequential\":[[0.0,\"#0d0887\"],[0.1111111111111111,\"#46039f\"],[0.2222222222222222,\"#7201a8\"],[0.3333333333333333,\"#9c179e\"],[0.4444444444444444,\"#bd3786\"],[0.5555555555555556,\"#d8576b\"],[0.6666666666666666,\"#ed7953\"],[0.7777777777777778,\"#fb9f3a\"],[0.8888888888888888,\"#fdca26\"],[1.0,\"#f0f921\"]],\"sequentialminus\":[[0.0,\"#0d0887\"],[0.1111111111111111,\"#46039f\"],[0.2222222222222222,\"#7201a8\"],[0.3333333333333333,\"#9c179e\"],[0.4444444444444444,\"#bd3786\"],[0.5555555555555556,\"#d8576b\"],[0.6666666666666666,\"#ed7953\"],[0.7777777777777778,\"#fb9f3a\"],[0.8888888888888888,\"#fdca26\"],[1.0,\"#f0f921\"]]},\"colorway\":[\"#636efa\",\"#EF553B\",\"#00cc96\",\"#ab63fa\",\"#FFA15A\",\"#19d3f3\",\"#FF6692\",\"#B6E880\",\"#FF97FF\",\"#FECB52\"],\"font\":{\"color\":\"#2a3f5f\"},\"geo\":{\"bgcolor\":\"white\",\"lakecolor\":\"white\",\"landcolor\":\"#E5ECF6\",\"showlakes\":true,\"showland\":true,\"subunitcolor\":\"white\"},\"hoverlabel\":{\"align\":\"left\"},\"hovermode\":\"closest\",\"mapbox\":{\"style\":\"light\"},\"paper_bgcolor\":\"white\",\"plot_bgcolor\":\"#E5ECF6\",\"polar\":{\"angularaxis\":{\"gridcolor\":\"white\",\"linecolor\":\"white\",\"ticks\":\"\"},\"bgcolor\":\"#E5ECF6\",\"radialaxis\":{\"gridcolor\":\"white\",\"linecolor\":\"white\",\"ticks\":\"\"}},\"scene\":{\"xaxis\":{\"backgroundcolor\":\"#E5ECF6\",\"gridcolor\":\"white\",\"gridwidth\":2,\"linecolor\":\"white\",\"showbackground\":true,\"ticks\":\"\",\"zerolinecolor\":\"white\"},\"yaxis\":{\"backgroundcolor\":\"#E5ECF6\",\"gridcolor\":\"white\",\"gridwidth\":2,\"linecolor\":\"white\",\"showbackground\":true,\"ticks\":\"\",\"zerolinecolor\":\"white\"},\"zaxis\":{\"backgroundcolor\":\"#E5ECF6\",\"gridcolor\":\"white\",\"gridwidth\":2,\"linecolor\":\"white\",\"showbackground\":true,\"ticks\":\"\",\"zerolinecolor\":\"white\"}},\"shapedefaults\":{\"line\":{\"color\":\"#2a3f5f\"}},\"ternary\":{\"aaxis\":{\"gridcolor\":\"white\",\"linecolor\":\"white\",\"ticks\":\"\"},\"baxis\":{\"gridcolor\":\"white\",\"linecolor\":\"white\",\"ticks\":\"\"},\"bgcolor\":\"#E5ECF6\",\"caxis\":{\"gridcolor\":\"white\",\"linecolor\":\"white\",\"ticks\":\"\"}},\"title\":{\"x\":0.05},\"xaxis\":{\"automargin\":true,\"gridcolor\":\"white\",\"linecolor\":\"white\",\"ticks\":\"\",\"title\":{\"standoff\":15},\"zerolinecolor\":\"white\",\"zerolinewidth\":2},\"yaxis\":{\"automargin\":true,\"gridcolor\":\"white\",\"linecolor\":\"white\",\"ticks\":\"\",\"title\":{\"standoff\":15},\"zerolinecolor\":\"white\",\"zerolinewidth\":2}}},\"title\":{\"text\":\"VTA Input Connectivity Similarities - UMAP\",\"x\":0.5},\"xaxis\":{\"title\":{\"text\":\"UMAP 1D\"},\"showline\":true,\"showgrid\":false,\"ticks\":\"outside\",\"mirror\":true,\"zeroline\":false},\"yaxis\":{\"title\":{\"text\":\"UMAP 2D\"},\"showline\":true,\"showgrid\":false,\"ticks\":\"outside\",\"mirror\":true,\"zeroline\":false},\"width\":800,\"height\":800},                        {\"responsive\": true}                    ).then(function(){\n",
       "                            \n",
       "var gd = document.getElementById('4567d3df-0596-471f-8f93-51f46516877f');\n",
       "var x = new MutationObserver(function (mutations, observer) {{\n",
       "        var display = window.getComputedStyle(gd).display;\n",
       "        if (!display || display === 'none') {{\n",
       "            console.log([gd, 'removed!']);\n",
       "            Plotly.purge(gd);\n",
       "            observer.disconnect();\n",
       "        }}\n",
       "}});\n",
       "\n",
       "// Listen for the removal of the full notebook cells\n",
       "var notebookContainer = gd.closest('#notebook-container');\n",
       "if (notebookContainer) {{\n",
       "    x.observe(notebookContainer, {childList: true});\n",
       "}}\n",
       "\n",
       "// Listen for the clearing of the current output cell\n",
       "var outputEl = gd.closest('.output');\n",
       "if (outputEl) {{\n",
       "    x.observe(outputEl, {childList: true});\n",
       "}}\n",
       "\n",
       "                        })                };                });            </script>        </div>"
      ]
     },
     "metadata": {},
     "output_type": "display_data"
    }
   ],
   "source": [
    "allclusterer=hdbscan.HDBSCAN(min_cluster_size=2)\n",
    "\n",
    "allclusterer.fit(allembedding)\n",
    "\n",
    "color_palette = seaborn.color_palette('hls', (numpy.max(allclusterer.labels_+1)))\n",
    "cluster_colors = [color_palette[x] if x>= 0\n",
    "                  else (0.5, 0.5, 0.5)\n",
    "                  for x in allclusterer.labels_]\n",
    "cluster_member_colors = [seaborn.desaturate(x, p) for x, p in\n",
    "                        zip(cluster_colors, allclusterer.probabilities_)]\n",
    "cluster_member_colors_hex=['#%02x%02x%02x' %tuple(int(c*256) for c in l) for l in cluster_member_colors]\n",
    "fig=go.Figure(data=go.Scatter(\n",
    "    y=allembedding[:,1],\n",
    "    x=allembedding[:,0],\n",
    "    mode='markers+text',\n",
    "    marker_color=cluster_member_colors_hex,\n",
    "    text=cols,\n",
    "    textposition = \"bottom center\",\n",
    "    hoverinfo='text'\n",
    "    ))\n",
    "fig.update_layout(\n",
    "    width=800,\n",
    "    height=800,\n",
    "    xaxis_title='UMAP 1D',\n",
    "    yaxis_title='UMAP 2D',\n",
    "    title={\n",
    "        'text': \"VTA Input Connectivity Similarities - UMAP\",\n",
    "        'x': 0.5\n",
    "    },\n",
    "    xaxis={\n",
    "        'showline':True,\n",
    "        'showgrid':False, \n",
    "        'ticks':'outside',\n",
    "        'mirror':True,\n",
    "        'zeroline':False\n",
    "    },\n",
    "    yaxis={\n",
    "        'showline':True,\n",
    "        'showgrid':False, \n",
    "        'ticks':'outside',\n",
    "        'mirror':True,\n",
    "        'zeroline':False\n",
    "    }\n",
    ")"
   ]
  },
  {
   "cell_type": "code",
   "execution_count": 17,
   "metadata": {},
   "outputs": [],
   "source": [
    "plotly.io.write_html(fig, file='figures/umap.scaled.66T.regions.'+writebatch+'.html')"
   ]
  },
  {
   "cell_type": "code",
   "execution_count": 18,
   "metadata": {},
   "outputs": [
    {
     "data": {
      "application/javascript": [
       "/* Put everything inside the global mpl namespace */\n",
       "/* global mpl */\n",
       "window.mpl = {};\n",
       "\n",
       "mpl.get_websocket_type = function () {\n",
       "    if (typeof WebSocket !== 'undefined') {\n",
       "        return WebSocket;\n",
       "    } else if (typeof MozWebSocket !== 'undefined') {\n",
       "        return MozWebSocket;\n",
       "    } else {\n",
       "        alert(\n",
       "            'Your browser does not have WebSocket support. ' +\n",
       "                'Please try Chrome, Safari or Firefox ≥ 6. ' +\n",
       "                'Firefox 4 and 5 are also supported but you ' +\n",
       "                'have to enable WebSockets in about:config.'\n",
       "        );\n",
       "    }\n",
       "};\n",
       "\n",
       "mpl.figure = function (figure_id, websocket, ondownload, parent_element) {\n",
       "    this.id = figure_id;\n",
       "\n",
       "    this.ws = websocket;\n",
       "\n",
       "    this.supports_binary = this.ws.binaryType !== undefined;\n",
       "\n",
       "    if (!this.supports_binary) {\n",
       "        var warnings = document.getElementById('mpl-warnings');\n",
       "        if (warnings) {\n",
       "            warnings.style.display = 'block';\n",
       "            warnings.textContent =\n",
       "                'This browser does not support binary websocket messages. ' +\n",
       "                'Performance may be slow.';\n",
       "        }\n",
       "    }\n",
       "\n",
       "    this.imageObj = new Image();\n",
       "\n",
       "    this.context = undefined;\n",
       "    this.message = undefined;\n",
       "    this.canvas = undefined;\n",
       "    this.rubberband_canvas = undefined;\n",
       "    this.rubberband_context = undefined;\n",
       "    this.format_dropdown = undefined;\n",
       "\n",
       "    this.image_mode = 'full';\n",
       "\n",
       "    this.root = document.createElement('div');\n",
       "    this.root.setAttribute('style', 'display: inline-block');\n",
       "    this._root_extra_style(this.root);\n",
       "\n",
       "    parent_element.appendChild(this.root);\n",
       "\n",
       "    this._init_header(this);\n",
       "    this._init_canvas(this);\n",
       "    this._init_toolbar(this);\n",
       "\n",
       "    var fig = this;\n",
       "\n",
       "    this.waiting = false;\n",
       "\n",
       "    this.ws.onopen = function () {\n",
       "        fig.send_message('supports_binary', { value: fig.supports_binary });\n",
       "        fig.send_message('send_image_mode', {});\n",
       "        if (fig.ratio !== 1) {\n",
       "            fig.send_message('set_device_pixel_ratio', {\n",
       "                device_pixel_ratio: fig.ratio,\n",
       "            });\n",
       "        }\n",
       "        fig.send_message('refresh', {});\n",
       "    };\n",
       "\n",
       "    this.imageObj.onload = function () {\n",
       "        if (fig.image_mode === 'full') {\n",
       "            // Full images could contain transparency (where diff images\n",
       "            // almost always do), so we need to clear the canvas so that\n",
       "            // there is no ghosting.\n",
       "            fig.context.clearRect(0, 0, fig.canvas.width, fig.canvas.height);\n",
       "        }\n",
       "        fig.context.drawImage(fig.imageObj, 0, 0);\n",
       "    };\n",
       "\n",
       "    this.imageObj.onunload = function () {\n",
       "        fig.ws.close();\n",
       "    };\n",
       "\n",
       "    this.ws.onmessage = this._make_on_message_function(this);\n",
       "\n",
       "    this.ondownload = ondownload;\n",
       "};\n",
       "\n",
       "mpl.figure.prototype._init_header = function () {\n",
       "    var titlebar = document.createElement('div');\n",
       "    titlebar.classList =\n",
       "        'ui-dialog-titlebar ui-widget-header ui-corner-all ui-helper-clearfix';\n",
       "    var titletext = document.createElement('div');\n",
       "    titletext.classList = 'ui-dialog-title';\n",
       "    titletext.setAttribute(\n",
       "        'style',\n",
       "        'width: 100%; text-align: center; padding: 3px;'\n",
       "    );\n",
       "    titlebar.appendChild(titletext);\n",
       "    this.root.appendChild(titlebar);\n",
       "    this.header = titletext;\n",
       "};\n",
       "\n",
       "mpl.figure.prototype._canvas_extra_style = function (_canvas_div) {};\n",
       "\n",
       "mpl.figure.prototype._root_extra_style = function (_canvas_div) {};\n",
       "\n",
       "mpl.figure.prototype._init_canvas = function () {\n",
       "    var fig = this;\n",
       "\n",
       "    var canvas_div = (this.canvas_div = document.createElement('div'));\n",
       "    canvas_div.setAttribute(\n",
       "        'style',\n",
       "        'border: 1px solid #ddd;' +\n",
       "            'box-sizing: content-box;' +\n",
       "            'clear: both;' +\n",
       "            'min-height: 1px;' +\n",
       "            'min-width: 1px;' +\n",
       "            'outline: 0;' +\n",
       "            'overflow: hidden;' +\n",
       "            'position: relative;' +\n",
       "            'resize: both;'\n",
       "    );\n",
       "\n",
       "    function on_keyboard_event_closure(name) {\n",
       "        return function (event) {\n",
       "            return fig.key_event(event, name);\n",
       "        };\n",
       "    }\n",
       "\n",
       "    canvas_div.addEventListener(\n",
       "        'keydown',\n",
       "        on_keyboard_event_closure('key_press')\n",
       "    );\n",
       "    canvas_div.addEventListener(\n",
       "        'keyup',\n",
       "        on_keyboard_event_closure('key_release')\n",
       "    );\n",
       "\n",
       "    this._canvas_extra_style(canvas_div);\n",
       "    this.root.appendChild(canvas_div);\n",
       "\n",
       "    var canvas = (this.canvas = document.createElement('canvas'));\n",
       "    canvas.classList.add('mpl-canvas');\n",
       "    canvas.setAttribute('style', 'box-sizing: content-box;');\n",
       "\n",
       "    this.context = canvas.getContext('2d');\n",
       "\n",
       "    var backingStore =\n",
       "        this.context.backingStorePixelRatio ||\n",
       "        this.context.webkitBackingStorePixelRatio ||\n",
       "        this.context.mozBackingStorePixelRatio ||\n",
       "        this.context.msBackingStorePixelRatio ||\n",
       "        this.context.oBackingStorePixelRatio ||\n",
       "        this.context.backingStorePixelRatio ||\n",
       "        1;\n",
       "\n",
       "    this.ratio = (window.devicePixelRatio || 1) / backingStore;\n",
       "\n",
       "    var rubberband_canvas = (this.rubberband_canvas = document.createElement(\n",
       "        'canvas'\n",
       "    ));\n",
       "    rubberband_canvas.setAttribute(\n",
       "        'style',\n",
       "        'box-sizing: content-box; position: absolute; left: 0; top: 0; z-index: 1;'\n",
       "    );\n",
       "\n",
       "    // Apply a ponyfill if ResizeObserver is not implemented by browser.\n",
       "    if (this.ResizeObserver === undefined) {\n",
       "        if (window.ResizeObserver !== undefined) {\n",
       "            this.ResizeObserver = window.ResizeObserver;\n",
       "        } else {\n",
       "            var obs = _JSXTOOLS_RESIZE_OBSERVER({});\n",
       "            this.ResizeObserver = obs.ResizeObserver;\n",
       "        }\n",
       "    }\n",
       "\n",
       "    this.resizeObserverInstance = new this.ResizeObserver(function (entries) {\n",
       "        var nentries = entries.length;\n",
       "        for (var i = 0; i < nentries; i++) {\n",
       "            var entry = entries[i];\n",
       "            var width, height;\n",
       "            if (entry.contentBoxSize) {\n",
       "                if (entry.contentBoxSize instanceof Array) {\n",
       "                    // Chrome 84 implements new version of spec.\n",
       "                    width = entry.contentBoxSize[0].inlineSize;\n",
       "                    height = entry.contentBoxSize[0].blockSize;\n",
       "                } else {\n",
       "                    // Firefox implements old version of spec.\n",
       "                    width = entry.contentBoxSize.inlineSize;\n",
       "                    height = entry.contentBoxSize.blockSize;\n",
       "                }\n",
       "            } else {\n",
       "                // Chrome <84 implements even older version of spec.\n",
       "                width = entry.contentRect.width;\n",
       "                height = entry.contentRect.height;\n",
       "            }\n",
       "\n",
       "            // Keep the size of the canvas and rubber band canvas in sync with\n",
       "            // the canvas container.\n",
       "            if (entry.devicePixelContentBoxSize) {\n",
       "                // Chrome 84 implements new version of spec.\n",
       "                canvas.setAttribute(\n",
       "                    'width',\n",
       "                    entry.devicePixelContentBoxSize[0].inlineSize\n",
       "                );\n",
       "                canvas.setAttribute(\n",
       "                    'height',\n",
       "                    entry.devicePixelContentBoxSize[0].blockSize\n",
       "                );\n",
       "            } else {\n",
       "                canvas.setAttribute('width', width * fig.ratio);\n",
       "                canvas.setAttribute('height', height * fig.ratio);\n",
       "            }\n",
       "            canvas.setAttribute(\n",
       "                'style',\n",
       "                'width: ' + width + 'px; height: ' + height + 'px;'\n",
       "            );\n",
       "\n",
       "            rubberband_canvas.setAttribute('width', width);\n",
       "            rubberband_canvas.setAttribute('height', height);\n",
       "\n",
       "            // And update the size in Python. We ignore the initial 0/0 size\n",
       "            // that occurs as the element is placed into the DOM, which should\n",
       "            // otherwise not happen due to the minimum size styling.\n",
       "            if (fig.ws.readyState == 1 && width != 0 && height != 0) {\n",
       "                fig.request_resize(width, height);\n",
       "            }\n",
       "        }\n",
       "    });\n",
       "    this.resizeObserverInstance.observe(canvas_div);\n",
       "\n",
       "    function on_mouse_event_closure(name) {\n",
       "        return function (event) {\n",
       "            return fig.mouse_event(event, name);\n",
       "        };\n",
       "    }\n",
       "\n",
       "    rubberband_canvas.addEventListener(\n",
       "        'mousedown',\n",
       "        on_mouse_event_closure('button_press')\n",
       "    );\n",
       "    rubberband_canvas.addEventListener(\n",
       "        'mouseup',\n",
       "        on_mouse_event_closure('button_release')\n",
       "    );\n",
       "    rubberband_canvas.addEventListener(\n",
       "        'dblclick',\n",
       "        on_mouse_event_closure('dblclick')\n",
       "    );\n",
       "    // Throttle sequential mouse events to 1 every 20ms.\n",
       "    rubberband_canvas.addEventListener(\n",
       "        'mousemove',\n",
       "        on_mouse_event_closure('motion_notify')\n",
       "    );\n",
       "\n",
       "    rubberband_canvas.addEventListener(\n",
       "        'mouseenter',\n",
       "        on_mouse_event_closure('figure_enter')\n",
       "    );\n",
       "    rubberband_canvas.addEventListener(\n",
       "        'mouseleave',\n",
       "        on_mouse_event_closure('figure_leave')\n",
       "    );\n",
       "\n",
       "    canvas_div.addEventListener('wheel', function (event) {\n",
       "        if (event.deltaY < 0) {\n",
       "            event.step = 1;\n",
       "        } else {\n",
       "            event.step = -1;\n",
       "        }\n",
       "        on_mouse_event_closure('scroll')(event);\n",
       "    });\n",
       "\n",
       "    canvas_div.appendChild(canvas);\n",
       "    canvas_div.appendChild(rubberband_canvas);\n",
       "\n",
       "    this.rubberband_context = rubberband_canvas.getContext('2d');\n",
       "    this.rubberband_context.strokeStyle = '#000000';\n",
       "\n",
       "    this._resize_canvas = function (width, height, forward) {\n",
       "        if (forward) {\n",
       "            canvas_div.style.width = width + 'px';\n",
       "            canvas_div.style.height = height + 'px';\n",
       "        }\n",
       "    };\n",
       "\n",
       "    // Disable right mouse context menu.\n",
       "    this.rubberband_canvas.addEventListener('contextmenu', function (_e) {\n",
       "        event.preventDefault();\n",
       "        return false;\n",
       "    });\n",
       "\n",
       "    function set_focus() {\n",
       "        canvas.focus();\n",
       "        canvas_div.focus();\n",
       "    }\n",
       "\n",
       "    window.setTimeout(set_focus, 100);\n",
       "};\n",
       "\n",
       "mpl.figure.prototype._init_toolbar = function () {\n",
       "    var fig = this;\n",
       "\n",
       "    var toolbar = document.createElement('div');\n",
       "    toolbar.classList = 'mpl-toolbar';\n",
       "    this.root.appendChild(toolbar);\n",
       "\n",
       "    function on_click_closure(name) {\n",
       "        return function (_event) {\n",
       "            return fig.toolbar_button_onclick(name);\n",
       "        };\n",
       "    }\n",
       "\n",
       "    function on_mouseover_closure(tooltip) {\n",
       "        return function (event) {\n",
       "            if (!event.currentTarget.disabled) {\n",
       "                return fig.toolbar_button_onmouseover(tooltip);\n",
       "            }\n",
       "        };\n",
       "    }\n",
       "\n",
       "    fig.buttons = {};\n",
       "    var buttonGroup = document.createElement('div');\n",
       "    buttonGroup.classList = 'mpl-button-group';\n",
       "    for (var toolbar_ind in mpl.toolbar_items) {\n",
       "        var name = mpl.toolbar_items[toolbar_ind][0];\n",
       "        var tooltip = mpl.toolbar_items[toolbar_ind][1];\n",
       "        var image = mpl.toolbar_items[toolbar_ind][2];\n",
       "        var method_name = mpl.toolbar_items[toolbar_ind][3];\n",
       "\n",
       "        if (!name) {\n",
       "            /* Instead of a spacer, we start a new button group. */\n",
       "            if (buttonGroup.hasChildNodes()) {\n",
       "                toolbar.appendChild(buttonGroup);\n",
       "            }\n",
       "            buttonGroup = document.createElement('div');\n",
       "            buttonGroup.classList = 'mpl-button-group';\n",
       "            continue;\n",
       "        }\n",
       "\n",
       "        var button = (fig.buttons[name] = document.createElement('button'));\n",
       "        button.classList = 'mpl-widget';\n",
       "        button.setAttribute('role', 'button');\n",
       "        button.setAttribute('aria-disabled', 'false');\n",
       "        button.addEventListener('click', on_click_closure(method_name));\n",
       "        button.addEventListener('mouseover', on_mouseover_closure(tooltip));\n",
       "\n",
       "        var icon_img = document.createElement('img');\n",
       "        icon_img.src = '_images/' + image + '.png';\n",
       "        icon_img.srcset = '_images/' + image + '_large.png 2x';\n",
       "        icon_img.alt = tooltip;\n",
       "        button.appendChild(icon_img);\n",
       "\n",
       "        buttonGroup.appendChild(button);\n",
       "    }\n",
       "\n",
       "    if (buttonGroup.hasChildNodes()) {\n",
       "        toolbar.appendChild(buttonGroup);\n",
       "    }\n",
       "\n",
       "    var fmt_picker = document.createElement('select');\n",
       "    fmt_picker.classList = 'mpl-widget';\n",
       "    toolbar.appendChild(fmt_picker);\n",
       "    this.format_dropdown = fmt_picker;\n",
       "\n",
       "    for (var ind in mpl.extensions) {\n",
       "        var fmt = mpl.extensions[ind];\n",
       "        var option = document.createElement('option');\n",
       "        option.selected = fmt === mpl.default_extension;\n",
       "        option.innerHTML = fmt;\n",
       "        fmt_picker.appendChild(option);\n",
       "    }\n",
       "\n",
       "    var status_bar = document.createElement('span');\n",
       "    status_bar.classList = 'mpl-message';\n",
       "    toolbar.appendChild(status_bar);\n",
       "    this.message = status_bar;\n",
       "};\n",
       "\n",
       "mpl.figure.prototype.request_resize = function (x_pixels, y_pixels) {\n",
       "    // Request matplotlib to resize the figure. Matplotlib will then trigger a resize in the client,\n",
       "    // which will in turn request a refresh of the image.\n",
       "    this.send_message('resize', { width: x_pixels, height: y_pixels });\n",
       "};\n",
       "\n",
       "mpl.figure.prototype.send_message = function (type, properties) {\n",
       "    properties['type'] = type;\n",
       "    properties['figure_id'] = this.id;\n",
       "    this.ws.send(JSON.stringify(properties));\n",
       "};\n",
       "\n",
       "mpl.figure.prototype.send_draw_message = function () {\n",
       "    if (!this.waiting) {\n",
       "        this.waiting = true;\n",
       "        this.ws.send(JSON.stringify({ type: 'draw', figure_id: this.id }));\n",
       "    }\n",
       "};\n",
       "\n",
       "mpl.figure.prototype.handle_save = function (fig, _msg) {\n",
       "    var format_dropdown = fig.format_dropdown;\n",
       "    var format = format_dropdown.options[format_dropdown.selectedIndex].value;\n",
       "    fig.ondownload(fig, format);\n",
       "};\n",
       "\n",
       "mpl.figure.prototype.handle_resize = function (fig, msg) {\n",
       "    var size = msg['size'];\n",
       "    if (size[0] !== fig.canvas.width || size[1] !== fig.canvas.height) {\n",
       "        fig._resize_canvas(size[0], size[1], msg['forward']);\n",
       "        fig.send_message('refresh', {});\n",
       "    }\n",
       "};\n",
       "\n",
       "mpl.figure.prototype.handle_rubberband = function (fig, msg) {\n",
       "    var x0 = msg['x0'] / fig.ratio;\n",
       "    var y0 = (fig.canvas.height - msg['y0']) / fig.ratio;\n",
       "    var x1 = msg['x1'] / fig.ratio;\n",
       "    var y1 = (fig.canvas.height - msg['y1']) / fig.ratio;\n",
       "    x0 = Math.floor(x0) + 0.5;\n",
       "    y0 = Math.floor(y0) + 0.5;\n",
       "    x1 = Math.floor(x1) + 0.5;\n",
       "    y1 = Math.floor(y1) + 0.5;\n",
       "    var min_x = Math.min(x0, x1);\n",
       "    var min_y = Math.min(y0, y1);\n",
       "    var width = Math.abs(x1 - x0);\n",
       "    var height = Math.abs(y1 - y0);\n",
       "\n",
       "    fig.rubberband_context.clearRect(\n",
       "        0,\n",
       "        0,\n",
       "        fig.canvas.width / fig.ratio,\n",
       "        fig.canvas.height / fig.ratio\n",
       "    );\n",
       "\n",
       "    fig.rubberband_context.strokeRect(min_x, min_y, width, height);\n",
       "};\n",
       "\n",
       "mpl.figure.prototype.handle_figure_label = function (fig, msg) {\n",
       "    // Updates the figure title.\n",
       "    fig.header.textContent = msg['label'];\n",
       "};\n",
       "\n",
       "mpl.figure.prototype.handle_cursor = function (fig, msg) {\n",
       "    fig.rubberband_canvas.style.cursor = msg['cursor'];\n",
       "};\n",
       "\n",
       "mpl.figure.prototype.handle_message = function (fig, msg) {\n",
       "    fig.message.textContent = msg['message'];\n",
       "};\n",
       "\n",
       "mpl.figure.prototype.handle_draw = function (fig, _msg) {\n",
       "    // Request the server to send over a new figure.\n",
       "    fig.send_draw_message();\n",
       "};\n",
       "\n",
       "mpl.figure.prototype.handle_image_mode = function (fig, msg) {\n",
       "    fig.image_mode = msg['mode'];\n",
       "};\n",
       "\n",
       "mpl.figure.prototype.handle_history_buttons = function (fig, msg) {\n",
       "    for (var key in msg) {\n",
       "        if (!(key in fig.buttons)) {\n",
       "            continue;\n",
       "        }\n",
       "        fig.buttons[key].disabled = !msg[key];\n",
       "        fig.buttons[key].setAttribute('aria-disabled', !msg[key]);\n",
       "    }\n",
       "};\n",
       "\n",
       "mpl.figure.prototype.handle_navigate_mode = function (fig, msg) {\n",
       "    if (msg['mode'] === 'PAN') {\n",
       "        fig.buttons['Pan'].classList.add('active');\n",
       "        fig.buttons['Zoom'].classList.remove('active');\n",
       "    } else if (msg['mode'] === 'ZOOM') {\n",
       "        fig.buttons['Pan'].classList.remove('active');\n",
       "        fig.buttons['Zoom'].classList.add('active');\n",
       "    } else {\n",
       "        fig.buttons['Pan'].classList.remove('active');\n",
       "        fig.buttons['Zoom'].classList.remove('active');\n",
       "    }\n",
       "};\n",
       "\n",
       "mpl.figure.prototype.updated_canvas_event = function () {\n",
       "    // Called whenever the canvas gets updated.\n",
       "    this.send_message('ack', {});\n",
       "};\n",
       "\n",
       "// A function to construct a web socket function for onmessage handling.\n",
       "// Called in the figure constructor.\n",
       "mpl.figure.prototype._make_on_message_function = function (fig) {\n",
       "    return function socket_on_message(evt) {\n",
       "        if (evt.data instanceof Blob) {\n",
       "            var img = evt.data;\n",
       "            if (img.type !== 'image/png') {\n",
       "                /* FIXME: We get \"Resource interpreted as Image but\n",
       "                 * transferred with MIME type text/plain:\" errors on\n",
       "                 * Chrome.  But how to set the MIME type?  It doesn't seem\n",
       "                 * to be part of the websocket stream */\n",
       "                img.type = 'image/png';\n",
       "            }\n",
       "\n",
       "            /* Free the memory for the previous frames */\n",
       "            if (fig.imageObj.src) {\n",
       "                (window.URL || window.webkitURL).revokeObjectURL(\n",
       "                    fig.imageObj.src\n",
       "                );\n",
       "            }\n",
       "\n",
       "            fig.imageObj.src = (window.URL || window.webkitURL).createObjectURL(\n",
       "                img\n",
       "            );\n",
       "            fig.updated_canvas_event();\n",
       "            fig.waiting = false;\n",
       "            return;\n",
       "        } else if (\n",
       "            typeof evt.data === 'string' &&\n",
       "            evt.data.slice(0, 21) === 'data:image/png;base64'\n",
       "        ) {\n",
       "            fig.imageObj.src = evt.data;\n",
       "            fig.updated_canvas_event();\n",
       "            fig.waiting = false;\n",
       "            return;\n",
       "        }\n",
       "\n",
       "        var msg = JSON.parse(evt.data);\n",
       "        var msg_type = msg['type'];\n",
       "\n",
       "        // Call the  \"handle_{type}\" callback, which takes\n",
       "        // the figure and JSON message as its only arguments.\n",
       "        try {\n",
       "            var callback = fig['handle_' + msg_type];\n",
       "        } catch (e) {\n",
       "            console.log(\n",
       "                \"No handler for the '\" + msg_type + \"' message type: \",\n",
       "                msg\n",
       "            );\n",
       "            return;\n",
       "        }\n",
       "\n",
       "        if (callback) {\n",
       "            try {\n",
       "                // console.log(\"Handling '\" + msg_type + \"' message: \", msg);\n",
       "                callback(fig, msg);\n",
       "            } catch (e) {\n",
       "                console.log(\n",
       "                    \"Exception inside the 'handler_\" + msg_type + \"' callback:\",\n",
       "                    e,\n",
       "                    e.stack,\n",
       "                    msg\n",
       "                );\n",
       "            }\n",
       "        }\n",
       "    };\n",
       "};\n",
       "\n",
       "// from https://stackoverflow.com/questions/1114465/getting-mouse-location-in-canvas\n",
       "mpl.findpos = function (e) {\n",
       "    //this section is from http://www.quirksmode.org/js/events_properties.html\n",
       "    var targ;\n",
       "    if (!e) {\n",
       "        e = window.event;\n",
       "    }\n",
       "    if (e.target) {\n",
       "        targ = e.target;\n",
       "    } else if (e.srcElement) {\n",
       "        targ = e.srcElement;\n",
       "    }\n",
       "    if (targ.nodeType === 3) {\n",
       "        // defeat Safari bug\n",
       "        targ = targ.parentNode;\n",
       "    }\n",
       "\n",
       "    // pageX,Y are the mouse positions relative to the document\n",
       "    var boundingRect = targ.getBoundingClientRect();\n",
       "    var x = e.pageX - (boundingRect.left + document.body.scrollLeft);\n",
       "    var y = e.pageY - (boundingRect.top + document.body.scrollTop);\n",
       "\n",
       "    return { x: x, y: y };\n",
       "};\n",
       "\n",
       "/*\n",
       " * return a copy of an object with only non-object keys\n",
       " * we need this to avoid circular references\n",
       " * https://stackoverflow.com/a/24161582/3208463\n",
       " */\n",
       "function simpleKeys(original) {\n",
       "    return Object.keys(original).reduce(function (obj, key) {\n",
       "        if (typeof original[key] !== 'object') {\n",
       "            obj[key] = original[key];\n",
       "        }\n",
       "        return obj;\n",
       "    }, {});\n",
       "}\n",
       "\n",
       "mpl.figure.prototype.mouse_event = function (event, name) {\n",
       "    var canvas_pos = mpl.findpos(event);\n",
       "\n",
       "    if (name === 'button_press') {\n",
       "        this.canvas.focus();\n",
       "        this.canvas_div.focus();\n",
       "    }\n",
       "\n",
       "    var x = canvas_pos.x * this.ratio;\n",
       "    var y = canvas_pos.y * this.ratio;\n",
       "\n",
       "    this.send_message(name, {\n",
       "        x: x,\n",
       "        y: y,\n",
       "        button: event.button,\n",
       "        step: event.step,\n",
       "        guiEvent: simpleKeys(event),\n",
       "    });\n",
       "\n",
       "    /* This prevents the web browser from automatically changing to\n",
       "     * the text insertion cursor when the button is pressed.  We want\n",
       "     * to control all of the cursor setting manually through the\n",
       "     * 'cursor' event from matplotlib */\n",
       "    event.preventDefault();\n",
       "    return false;\n",
       "};\n",
       "\n",
       "mpl.figure.prototype._key_event_extra = function (_event, _name) {\n",
       "    // Handle any extra behaviour associated with a key event\n",
       "};\n",
       "\n",
       "mpl.figure.prototype.key_event = function (event, name) {\n",
       "    // Prevent repeat events\n",
       "    if (name === 'key_press') {\n",
       "        if (event.key === this._key) {\n",
       "            return;\n",
       "        } else {\n",
       "            this._key = event.key;\n",
       "        }\n",
       "    }\n",
       "    if (name === 'key_release') {\n",
       "        this._key = null;\n",
       "    }\n",
       "\n",
       "    var value = '';\n",
       "    if (event.ctrlKey && event.key !== 'Control') {\n",
       "        value += 'ctrl+';\n",
       "    }\n",
       "    else if (event.altKey && event.key !== 'Alt') {\n",
       "        value += 'alt+';\n",
       "    }\n",
       "    else if (event.shiftKey && event.key !== 'Shift') {\n",
       "        value += 'shift+';\n",
       "    }\n",
       "\n",
       "    value += 'k' + event.key;\n",
       "\n",
       "    this._key_event_extra(event, name);\n",
       "\n",
       "    this.send_message(name, { key: value, guiEvent: simpleKeys(event) });\n",
       "    return false;\n",
       "};\n",
       "\n",
       "mpl.figure.prototype.toolbar_button_onclick = function (name) {\n",
       "    if (name === 'download') {\n",
       "        this.handle_save(this, null);\n",
       "    } else {\n",
       "        this.send_message('toolbar_button', { name: name });\n",
       "    }\n",
       "};\n",
       "\n",
       "mpl.figure.prototype.toolbar_button_onmouseover = function (tooltip) {\n",
       "    this.message.textContent = tooltip;\n",
       "};\n",
       "\n",
       "///////////////// REMAINING CONTENT GENERATED BY embed_js.py /////////////////\n",
       "// prettier-ignore\n",
       "var _JSXTOOLS_RESIZE_OBSERVER=function(A){var t,i=new WeakMap,n=new WeakMap,a=new WeakMap,r=new WeakMap,o=new Set;function s(e){if(!(this instanceof s))throw new TypeError(\"Constructor requires 'new' operator\");i.set(this,e)}function h(){throw new TypeError(\"Function is not a constructor\")}function c(e,t,i,n){e=0 in arguments?Number(arguments[0]):0,t=1 in arguments?Number(arguments[1]):0,i=2 in arguments?Number(arguments[2]):0,n=3 in arguments?Number(arguments[3]):0,this.right=(this.x=this.left=e)+(this.width=i),this.bottom=(this.y=this.top=t)+(this.height=n),Object.freeze(this)}function d(){t=requestAnimationFrame(d);var s=new WeakMap,p=new Set;o.forEach((function(t){r.get(t).forEach((function(i){var r=t instanceof window.SVGElement,o=a.get(t),d=r?0:parseFloat(o.paddingTop),f=r?0:parseFloat(o.paddingRight),l=r?0:parseFloat(o.paddingBottom),u=r?0:parseFloat(o.paddingLeft),g=r?0:parseFloat(o.borderTopWidth),m=r?0:parseFloat(o.borderRightWidth),w=r?0:parseFloat(o.borderBottomWidth),b=u+f,F=d+l,v=(r?0:parseFloat(o.borderLeftWidth))+m,W=g+w,y=r?0:t.offsetHeight-W-t.clientHeight,E=r?0:t.offsetWidth-v-t.clientWidth,R=b+v,z=F+W,M=r?t.width:parseFloat(o.width)-R-E,O=r?t.height:parseFloat(o.height)-z-y;if(n.has(t)){var k=n.get(t);if(k[0]===M&&k[1]===O)return}n.set(t,[M,O]);var S=Object.create(h.prototype);S.target=t,S.contentRect=new c(u,d,M,O),s.has(i)||(s.set(i,[]),p.add(i)),s.get(i).push(S)}))})),p.forEach((function(e){i.get(e).call(e,s.get(e),e)}))}return s.prototype.observe=function(i){if(i instanceof window.Element){r.has(i)||(r.set(i,new Set),o.add(i),a.set(i,window.getComputedStyle(i)));var n=r.get(i);n.has(this)||n.add(this),cancelAnimationFrame(t),t=requestAnimationFrame(d)}},s.prototype.unobserve=function(i){if(i instanceof window.Element&&r.has(i)){var n=r.get(i);n.has(this)&&(n.delete(this),n.size||(r.delete(i),o.delete(i))),n.size||r.delete(i),o.size||cancelAnimationFrame(t)}},A.DOMRectReadOnly=c,A.ResizeObserver=s,A.ResizeObserverEntry=h,A}; // eslint-disable-line\n",
       "mpl.toolbar_items = [[\"Home\", \"Reset original view\", \"fa fa-home icon-home\", \"home\"], [\"Back\", \"Back to previous view\", \"fa fa-arrow-left icon-arrow-left\", \"back\"], [\"Forward\", \"Forward to next view\", \"fa fa-arrow-right icon-arrow-right\", \"forward\"], [\"\", \"\", \"\", \"\"], [\"Pan\", \"Left button pans, Right button zooms\\nx/y fixes axis, CTRL fixes aspect\", \"fa fa-arrows icon-move\", \"pan\"], [\"Zoom\", \"Zoom to rectangle\\nx/y fixes axis\", \"fa fa-square-o icon-check-empty\", \"zoom\"], [\"\", \"\", \"\", \"\"], [\"Download\", \"Download plot\", \"fa fa-floppy-o icon-save\", \"download\"]];\n",
       "\n",
       "mpl.extensions = [\"eps\", \"jpeg\", \"pgf\", \"pdf\", \"png\", \"ps\", \"raw\", \"svg\", \"tif\"];\n",
       "\n",
       "mpl.default_extension = \"png\";/* global mpl */\n",
       "\n",
       "var comm_websocket_adapter = function (comm) {\n",
       "    // Create a \"websocket\"-like object which calls the given IPython comm\n",
       "    // object with the appropriate methods. Currently this is a non binary\n",
       "    // socket, so there is still some room for performance tuning.\n",
       "    var ws = {};\n",
       "\n",
       "    ws.binaryType = comm.kernel.ws.binaryType;\n",
       "    ws.readyState = comm.kernel.ws.readyState;\n",
       "    function updateReadyState(_event) {\n",
       "        if (comm.kernel.ws) {\n",
       "            ws.readyState = comm.kernel.ws.readyState;\n",
       "        } else {\n",
       "            ws.readyState = 3; // Closed state.\n",
       "        }\n",
       "    }\n",
       "    comm.kernel.ws.addEventListener('open', updateReadyState);\n",
       "    comm.kernel.ws.addEventListener('close', updateReadyState);\n",
       "    comm.kernel.ws.addEventListener('error', updateReadyState);\n",
       "\n",
       "    ws.close = function () {\n",
       "        comm.close();\n",
       "    };\n",
       "    ws.send = function (m) {\n",
       "        //console.log('sending', m);\n",
       "        comm.send(m);\n",
       "    };\n",
       "    // Register the callback with on_msg.\n",
       "    comm.on_msg(function (msg) {\n",
       "        //console.log('receiving', msg['content']['data'], msg);\n",
       "        var data = msg['content']['data'];\n",
       "        if (data['blob'] !== undefined) {\n",
       "            data = {\n",
       "                data: new Blob(msg['buffers'], { type: data['blob'] }),\n",
       "            };\n",
       "        }\n",
       "        // Pass the mpl event to the overridden (by mpl) onmessage function.\n",
       "        ws.onmessage(data);\n",
       "    });\n",
       "    return ws;\n",
       "};\n",
       "\n",
       "mpl.mpl_figure_comm = function (comm, msg) {\n",
       "    // This is the function which gets called when the mpl process\n",
       "    // starts-up an IPython Comm through the \"matplotlib\" channel.\n",
       "\n",
       "    var id = msg.content.data.id;\n",
       "    // Get hold of the div created by the display call when the Comm\n",
       "    // socket was opened in Python.\n",
       "    var element = document.getElementById(id);\n",
       "    var ws_proxy = comm_websocket_adapter(comm);\n",
       "\n",
       "    function ondownload(figure, _format) {\n",
       "        window.open(figure.canvas.toDataURL());\n",
       "    }\n",
       "\n",
       "    var fig = new mpl.figure(id, ws_proxy, ondownload, element);\n",
       "\n",
       "    // Call onopen now - mpl needs it, as it is assuming we've passed it a real\n",
       "    // web socket which is closed, not our websocket->open comm proxy.\n",
       "    ws_proxy.onopen();\n",
       "\n",
       "    fig.parent_element = element;\n",
       "    fig.cell_info = mpl.find_output_cell(\"<div id='\" + id + \"'></div>\");\n",
       "    if (!fig.cell_info) {\n",
       "        console.error('Failed to find cell for figure', id, fig);\n",
       "        return;\n",
       "    }\n",
       "    fig.cell_info[0].output_area.element.on(\n",
       "        'cleared',\n",
       "        { fig: fig },\n",
       "        fig._remove_fig_handler\n",
       "    );\n",
       "};\n",
       "\n",
       "mpl.figure.prototype.handle_close = function (fig, msg) {\n",
       "    var width = fig.canvas.width / fig.ratio;\n",
       "    fig.cell_info[0].output_area.element.off(\n",
       "        'cleared',\n",
       "        fig._remove_fig_handler\n",
       "    );\n",
       "    fig.resizeObserverInstance.unobserve(fig.canvas_div);\n",
       "\n",
       "    // Update the output cell to use the data from the current canvas.\n",
       "    fig.push_to_output();\n",
       "    var dataURL = fig.canvas.toDataURL();\n",
       "    // Re-enable the keyboard manager in IPython - without this line, in FF,\n",
       "    // the notebook keyboard shortcuts fail.\n",
       "    IPython.keyboard_manager.enable();\n",
       "    fig.parent_element.innerHTML =\n",
       "        '<img src=\"' + dataURL + '\" width=\"' + width + '\">';\n",
       "    fig.close_ws(fig, msg);\n",
       "};\n",
       "\n",
       "mpl.figure.prototype.close_ws = function (fig, msg) {\n",
       "    fig.send_message('closing', msg);\n",
       "    // fig.ws.close()\n",
       "};\n",
       "\n",
       "mpl.figure.prototype.push_to_output = function (_remove_interactive) {\n",
       "    // Turn the data on the canvas into data in the output cell.\n",
       "    var width = this.canvas.width / this.ratio;\n",
       "    var dataURL = this.canvas.toDataURL();\n",
       "    this.cell_info[1]['text/html'] =\n",
       "        '<img src=\"' + dataURL + '\" width=\"' + width + '\">';\n",
       "};\n",
       "\n",
       "mpl.figure.prototype.updated_canvas_event = function () {\n",
       "    // Tell IPython that the notebook contents must change.\n",
       "    IPython.notebook.set_dirty(true);\n",
       "    this.send_message('ack', {});\n",
       "    var fig = this;\n",
       "    // Wait a second, then push the new image to the DOM so\n",
       "    // that it is saved nicely (might be nice to debounce this).\n",
       "    setTimeout(function () {\n",
       "        fig.push_to_output();\n",
       "    }, 1000);\n",
       "};\n",
       "\n",
       "mpl.figure.prototype._init_toolbar = function () {\n",
       "    var fig = this;\n",
       "\n",
       "    var toolbar = document.createElement('div');\n",
       "    toolbar.classList = 'btn-toolbar';\n",
       "    this.root.appendChild(toolbar);\n",
       "\n",
       "    function on_click_closure(name) {\n",
       "        return function (_event) {\n",
       "            return fig.toolbar_button_onclick(name);\n",
       "        };\n",
       "    }\n",
       "\n",
       "    function on_mouseover_closure(tooltip) {\n",
       "        return function (event) {\n",
       "            if (!event.currentTarget.disabled) {\n",
       "                return fig.toolbar_button_onmouseover(tooltip);\n",
       "            }\n",
       "        };\n",
       "    }\n",
       "\n",
       "    fig.buttons = {};\n",
       "    var buttonGroup = document.createElement('div');\n",
       "    buttonGroup.classList = 'btn-group';\n",
       "    var button;\n",
       "    for (var toolbar_ind in mpl.toolbar_items) {\n",
       "        var name = mpl.toolbar_items[toolbar_ind][0];\n",
       "        var tooltip = mpl.toolbar_items[toolbar_ind][1];\n",
       "        var image = mpl.toolbar_items[toolbar_ind][2];\n",
       "        var method_name = mpl.toolbar_items[toolbar_ind][3];\n",
       "\n",
       "        if (!name) {\n",
       "            /* Instead of a spacer, we start a new button group. */\n",
       "            if (buttonGroup.hasChildNodes()) {\n",
       "                toolbar.appendChild(buttonGroup);\n",
       "            }\n",
       "            buttonGroup = document.createElement('div');\n",
       "            buttonGroup.classList = 'btn-group';\n",
       "            continue;\n",
       "        }\n",
       "\n",
       "        button = fig.buttons[name] = document.createElement('button');\n",
       "        button.classList = 'btn btn-default';\n",
       "        button.href = '#';\n",
       "        button.title = name;\n",
       "        button.innerHTML = '<i class=\"fa ' + image + ' fa-lg\"></i>';\n",
       "        button.addEventListener('click', on_click_closure(method_name));\n",
       "        button.addEventListener('mouseover', on_mouseover_closure(tooltip));\n",
       "        buttonGroup.appendChild(button);\n",
       "    }\n",
       "\n",
       "    if (buttonGroup.hasChildNodes()) {\n",
       "        toolbar.appendChild(buttonGroup);\n",
       "    }\n",
       "\n",
       "    // Add the status bar.\n",
       "    var status_bar = document.createElement('span');\n",
       "    status_bar.classList = 'mpl-message pull-right';\n",
       "    toolbar.appendChild(status_bar);\n",
       "    this.message = status_bar;\n",
       "\n",
       "    // Add the close button to the window.\n",
       "    var buttongrp = document.createElement('div');\n",
       "    buttongrp.classList = 'btn-group inline pull-right';\n",
       "    button = document.createElement('button');\n",
       "    button.classList = 'btn btn-mini btn-primary';\n",
       "    button.href = '#';\n",
       "    button.title = 'Stop Interaction';\n",
       "    button.innerHTML = '<i class=\"fa fa-power-off icon-remove icon-large\"></i>';\n",
       "    button.addEventListener('click', function (_evt) {\n",
       "        fig.handle_close(fig, {});\n",
       "    });\n",
       "    button.addEventListener(\n",
       "        'mouseover',\n",
       "        on_mouseover_closure('Stop Interaction')\n",
       "    );\n",
       "    buttongrp.appendChild(button);\n",
       "    var titlebar = this.root.querySelector('.ui-dialog-titlebar');\n",
       "    titlebar.insertBefore(buttongrp, titlebar.firstChild);\n",
       "};\n",
       "\n",
       "mpl.figure.prototype._remove_fig_handler = function (event) {\n",
       "    var fig = event.data.fig;\n",
       "    if (event.target !== this) {\n",
       "        // Ignore bubbled events from children.\n",
       "        return;\n",
       "    }\n",
       "    fig.close_ws(fig, {});\n",
       "};\n",
       "\n",
       "mpl.figure.prototype._root_extra_style = function (el) {\n",
       "    el.style.boxSizing = 'content-box'; // override notebook setting of border-box.\n",
       "};\n",
       "\n",
       "mpl.figure.prototype._canvas_extra_style = function (el) {\n",
       "    // this is important to make the div 'focusable\n",
       "    el.setAttribute('tabindex', 0);\n",
       "    // reach out to IPython and tell the keyboard manager to turn it's self\n",
       "    // off when our div gets focus\n",
       "\n",
       "    // location in version 3\n",
       "    if (IPython.notebook.keyboard_manager) {\n",
       "        IPython.notebook.keyboard_manager.register_events(el);\n",
       "    } else {\n",
       "        // location in version 2\n",
       "        IPython.keyboard_manager.register_events(el);\n",
       "    }\n",
       "};\n",
       "\n",
       "mpl.figure.prototype._key_event_extra = function (event, _name) {\n",
       "    // Check for shift+enter\n",
       "    if (event.shiftKey && event.which === 13) {\n",
       "        this.canvas_div.blur();\n",
       "        // select the cell after this one\n",
       "        var index = IPython.notebook.find_cell_index(this.cell_info[0]);\n",
       "        IPython.notebook.select(index + 1);\n",
       "    }\n",
       "};\n",
       "\n",
       "mpl.figure.prototype.handle_save = function (fig, _msg) {\n",
       "    fig.ondownload(fig, null);\n",
       "};\n",
       "\n",
       "mpl.find_output_cell = function (html_output) {\n",
       "    // Return the cell and output element which can be found *uniquely* in the notebook.\n",
       "    // Note - this is a bit hacky, but it is done because the \"notebook_saving.Notebook\"\n",
       "    // IPython event is triggered only after the cells have been serialised, which for\n",
       "    // our purposes (turning an active figure into a static one), is too late.\n",
       "    var cells = IPython.notebook.get_cells();\n",
       "    var ncells = cells.length;\n",
       "    for (var i = 0; i < ncells; i++) {\n",
       "        var cell = cells[i];\n",
       "        if (cell.cell_type === 'code') {\n",
       "            for (var j = 0; j < cell.output_area.outputs.length; j++) {\n",
       "                var data = cell.output_area.outputs[j];\n",
       "                if (data.data) {\n",
       "                    // IPython >= 3 moved mimebundle to data attribute of output\n",
       "                    data = data.data;\n",
       "                }\n",
       "                if (data['text/html'] === html_output) {\n",
       "                    return [cell, data, j];\n",
       "                }\n",
       "            }\n",
       "        }\n",
       "    }\n",
       "};\n",
       "\n",
       "// Register the function which deals with the matplotlib target/channel.\n",
       "// The kernel may be null if the page has been refreshed.\n",
       "if (IPython.notebook.kernel !== null) {\n",
       "    IPython.notebook.kernel.comm_manager.register_target(\n",
       "        'matplotlib',\n",
       "        mpl.mpl_figure_comm\n",
       "    );\n",
       "}\n"
      ],
      "text/plain": [
       "<IPython.core.display.Javascript object>"
      ]
     },
     "metadata": {},
     "output_type": "display_data"
    },
    {
     "data": {
      "text/html": [
       "<img src=\"data:image/png;base64,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\" width=\"800\">"
      ],
      "text/plain": [
       "<IPython.core.display.HTML object>"
      ]
     },
     "metadata": {},
     "output_type": "display_data"
    }
   ],
   "source": [
    "fig, ax = plt.subplots(1,1)\n",
    "fig.set_figheight(8)\n",
    "fig.set_figwidth(8)\n",
    "\n",
    "ax.scatter(allembedding[:,0],allembedding[:,1],s=10, c=cluster_member_colors_hex)\n",
    "#ax.set_xlim((-13.5,12.5))\n",
    "\n",
    "for i in range(len(cols)):\n",
    "    ax.annotate(cols[i], (allembedding[i,0]+0.2, allembedding[i,1]))\n",
    "\n",
    "\n",
    "fig.savefig('figures/allen.shuffled.region-umap.scaled.'+writebatch+'.png')\n",
    "fig.savefig('figures/allen.shuffled.region-umap.scaled.'+writebatch+'.svg')"
   ]
  },
  {
   "cell_type": "markdown",
   "metadata": {},
   "source": [
    "# N UMAP heatmaps"
   ]
  },
  {
   "cell_type": "code",
   "execution_count": 19,
   "metadata": {},
   "outputs": [],
   "source": [
    "N = 20\n",
    "umap_distances = numpy.zeros((len(cols),len(cols),N,))\n",
    "for n in range(0,N):\n",
    "    embedding=umap.UMAP(n_neighbors=5,min_dist=0.5,metric='euclidean').fit_transform(z_scaled_features_t)\n",
    "    for r1 in range(0,len(cols)):\n",
    "        for r2 in range(0,len(cols)):\n",
    "            d = numpy.sum(numpy.abs(embedding[r1]-embedding[r2]))**(0.5)\n",
    "            umap_distances[r1,r2,n]=d\n",
    "    max_distance = numpy.max(umap_distances[:,:,n])\n",
    "    umap_distances[:,:,n] = umap_distances[:,:,n]/max_distance\n",
    "umap_distances_means = numpy.mean(umap_distances,axis=2)"
   ]
  },
  {
   "cell_type": "code",
   "execution_count": 20,
   "metadata": {},
   "outputs": [
    {
     "data": {
      "application/javascript": [
       "/* Put everything inside the global mpl namespace */\n",
       "/* global mpl */\n",
       "window.mpl = {};\n",
       "\n",
       "mpl.get_websocket_type = function () {\n",
       "    if (typeof WebSocket !== 'undefined') {\n",
       "        return WebSocket;\n",
       "    } else if (typeof MozWebSocket !== 'undefined') {\n",
       "        return MozWebSocket;\n",
       "    } else {\n",
       "        alert(\n",
       "            'Your browser does not have WebSocket support. ' +\n",
       "                'Please try Chrome, Safari or Firefox ≥ 6. ' +\n",
       "                'Firefox 4 and 5 are also supported but you ' +\n",
       "                'have to enable WebSockets in about:config.'\n",
       "        );\n",
       "    }\n",
       "};\n",
       "\n",
       "mpl.figure = function (figure_id, websocket, ondownload, parent_element) {\n",
       "    this.id = figure_id;\n",
       "\n",
       "    this.ws = websocket;\n",
       "\n",
       "    this.supports_binary = this.ws.binaryType !== undefined;\n",
       "\n",
       "    if (!this.supports_binary) {\n",
       "        var warnings = document.getElementById('mpl-warnings');\n",
       "        if (warnings) {\n",
       "            warnings.style.display = 'block';\n",
       "            warnings.textContent =\n",
       "                'This browser does not support binary websocket messages. ' +\n",
       "                'Performance may be slow.';\n",
       "        }\n",
       "    }\n",
       "\n",
       "    this.imageObj = new Image();\n",
       "\n",
       "    this.context = undefined;\n",
       "    this.message = undefined;\n",
       "    this.canvas = undefined;\n",
       "    this.rubberband_canvas = undefined;\n",
       "    this.rubberband_context = undefined;\n",
       "    this.format_dropdown = undefined;\n",
       "\n",
       "    this.image_mode = 'full';\n",
       "\n",
       "    this.root = document.createElement('div');\n",
       "    this.root.setAttribute('style', 'display: inline-block');\n",
       "    this._root_extra_style(this.root);\n",
       "\n",
       "    parent_element.appendChild(this.root);\n",
       "\n",
       "    this._init_header(this);\n",
       "    this._init_canvas(this);\n",
       "    this._init_toolbar(this);\n",
       "\n",
       "    var fig = this;\n",
       "\n",
       "    this.waiting = false;\n",
       "\n",
       "    this.ws.onopen = function () {\n",
       "        fig.send_message('supports_binary', { value: fig.supports_binary });\n",
       "        fig.send_message('send_image_mode', {});\n",
       "        if (fig.ratio !== 1) {\n",
       "            fig.send_message('set_device_pixel_ratio', {\n",
       "                device_pixel_ratio: fig.ratio,\n",
       "            });\n",
       "        }\n",
       "        fig.send_message('refresh', {});\n",
       "    };\n",
       "\n",
       "    this.imageObj.onload = function () {\n",
       "        if (fig.image_mode === 'full') {\n",
       "            // Full images could contain transparency (where diff images\n",
       "            // almost always do), so we need to clear the canvas so that\n",
       "            // there is no ghosting.\n",
       "            fig.context.clearRect(0, 0, fig.canvas.width, fig.canvas.height);\n",
       "        }\n",
       "        fig.context.drawImage(fig.imageObj, 0, 0);\n",
       "    };\n",
       "\n",
       "    this.imageObj.onunload = function () {\n",
       "        fig.ws.close();\n",
       "    };\n",
       "\n",
       "    this.ws.onmessage = this._make_on_message_function(this);\n",
       "\n",
       "    this.ondownload = ondownload;\n",
       "};\n",
       "\n",
       "mpl.figure.prototype._init_header = function () {\n",
       "    var titlebar = document.createElement('div');\n",
       "    titlebar.classList =\n",
       "        'ui-dialog-titlebar ui-widget-header ui-corner-all ui-helper-clearfix';\n",
       "    var titletext = document.createElement('div');\n",
       "    titletext.classList = 'ui-dialog-title';\n",
       "    titletext.setAttribute(\n",
       "        'style',\n",
       "        'width: 100%; text-align: center; padding: 3px;'\n",
       "    );\n",
       "    titlebar.appendChild(titletext);\n",
       "    this.root.appendChild(titlebar);\n",
       "    this.header = titletext;\n",
       "};\n",
       "\n",
       "mpl.figure.prototype._canvas_extra_style = function (_canvas_div) {};\n",
       "\n",
       "mpl.figure.prototype._root_extra_style = function (_canvas_div) {};\n",
       "\n",
       "mpl.figure.prototype._init_canvas = function () {\n",
       "    var fig = this;\n",
       "\n",
       "    var canvas_div = (this.canvas_div = document.createElement('div'));\n",
       "    canvas_div.setAttribute(\n",
       "        'style',\n",
       "        'border: 1px solid #ddd;' +\n",
       "            'box-sizing: content-box;' +\n",
       "            'clear: both;' +\n",
       "            'min-height: 1px;' +\n",
       "            'min-width: 1px;' +\n",
       "            'outline: 0;' +\n",
       "            'overflow: hidden;' +\n",
       "            'position: relative;' +\n",
       "            'resize: both;'\n",
       "    );\n",
       "\n",
       "    function on_keyboard_event_closure(name) {\n",
       "        return function (event) {\n",
       "            return fig.key_event(event, name);\n",
       "        };\n",
       "    }\n",
       "\n",
       "    canvas_div.addEventListener(\n",
       "        'keydown',\n",
       "        on_keyboard_event_closure('key_press')\n",
       "    );\n",
       "    canvas_div.addEventListener(\n",
       "        'keyup',\n",
       "        on_keyboard_event_closure('key_release')\n",
       "    );\n",
       "\n",
       "    this._canvas_extra_style(canvas_div);\n",
       "    this.root.appendChild(canvas_div);\n",
       "\n",
       "    var canvas = (this.canvas = document.createElement('canvas'));\n",
       "    canvas.classList.add('mpl-canvas');\n",
       "    canvas.setAttribute('style', 'box-sizing: content-box;');\n",
       "\n",
       "    this.context = canvas.getContext('2d');\n",
       "\n",
       "    var backingStore =\n",
       "        this.context.backingStorePixelRatio ||\n",
       "        this.context.webkitBackingStorePixelRatio ||\n",
       "        this.context.mozBackingStorePixelRatio ||\n",
       "        this.context.msBackingStorePixelRatio ||\n",
       "        this.context.oBackingStorePixelRatio ||\n",
       "        this.context.backingStorePixelRatio ||\n",
       "        1;\n",
       "\n",
       "    this.ratio = (window.devicePixelRatio || 1) / backingStore;\n",
       "\n",
       "    var rubberband_canvas = (this.rubberband_canvas = document.createElement(\n",
       "        'canvas'\n",
       "    ));\n",
       "    rubberband_canvas.setAttribute(\n",
       "        'style',\n",
       "        'box-sizing: content-box; position: absolute; left: 0; top: 0; z-index: 1;'\n",
       "    );\n",
       "\n",
       "    // Apply a ponyfill if ResizeObserver is not implemented by browser.\n",
       "    if (this.ResizeObserver === undefined) {\n",
       "        if (window.ResizeObserver !== undefined) {\n",
       "            this.ResizeObserver = window.ResizeObserver;\n",
       "        } else {\n",
       "            var obs = _JSXTOOLS_RESIZE_OBSERVER({});\n",
       "            this.ResizeObserver = obs.ResizeObserver;\n",
       "        }\n",
       "    }\n",
       "\n",
       "    this.resizeObserverInstance = new this.ResizeObserver(function (entries) {\n",
       "        var nentries = entries.length;\n",
       "        for (var i = 0; i < nentries; i++) {\n",
       "            var entry = entries[i];\n",
       "            var width, height;\n",
       "            if (entry.contentBoxSize) {\n",
       "                if (entry.contentBoxSize instanceof Array) {\n",
       "                    // Chrome 84 implements new version of spec.\n",
       "                    width = entry.contentBoxSize[0].inlineSize;\n",
       "                    height = entry.contentBoxSize[0].blockSize;\n",
       "                } else {\n",
       "                    // Firefox implements old version of spec.\n",
       "                    width = entry.contentBoxSize.inlineSize;\n",
       "                    height = entry.contentBoxSize.blockSize;\n",
       "                }\n",
       "            } else {\n",
       "                // Chrome <84 implements even older version of spec.\n",
       "                width = entry.contentRect.width;\n",
       "                height = entry.contentRect.height;\n",
       "            }\n",
       "\n",
       "            // Keep the size of the canvas and rubber band canvas in sync with\n",
       "            // the canvas container.\n",
       "            if (entry.devicePixelContentBoxSize) {\n",
       "                // Chrome 84 implements new version of spec.\n",
       "                canvas.setAttribute(\n",
       "                    'width',\n",
       "                    entry.devicePixelContentBoxSize[0].inlineSize\n",
       "                );\n",
       "                canvas.setAttribute(\n",
       "                    'height',\n",
       "                    entry.devicePixelContentBoxSize[0].blockSize\n",
       "                );\n",
       "            } else {\n",
       "                canvas.setAttribute('width', width * fig.ratio);\n",
       "                canvas.setAttribute('height', height * fig.ratio);\n",
       "            }\n",
       "            canvas.setAttribute(\n",
       "                'style',\n",
       "                'width: ' + width + 'px; height: ' + height + 'px;'\n",
       "            );\n",
       "\n",
       "            rubberband_canvas.setAttribute('width', width);\n",
       "            rubberband_canvas.setAttribute('height', height);\n",
       "\n",
       "            // And update the size in Python. We ignore the initial 0/0 size\n",
       "            // that occurs as the element is placed into the DOM, which should\n",
       "            // otherwise not happen due to the minimum size styling.\n",
       "            if (fig.ws.readyState == 1 && width != 0 && height != 0) {\n",
       "                fig.request_resize(width, height);\n",
       "            }\n",
       "        }\n",
       "    });\n",
       "    this.resizeObserverInstance.observe(canvas_div);\n",
       "\n",
       "    function on_mouse_event_closure(name) {\n",
       "        return function (event) {\n",
       "            return fig.mouse_event(event, name);\n",
       "        };\n",
       "    }\n",
       "\n",
       "    rubberband_canvas.addEventListener(\n",
       "        'mousedown',\n",
       "        on_mouse_event_closure('button_press')\n",
       "    );\n",
       "    rubberband_canvas.addEventListener(\n",
       "        'mouseup',\n",
       "        on_mouse_event_closure('button_release')\n",
       "    );\n",
       "    rubberband_canvas.addEventListener(\n",
       "        'dblclick',\n",
       "        on_mouse_event_closure('dblclick')\n",
       "    );\n",
       "    // Throttle sequential mouse events to 1 every 20ms.\n",
       "    rubberband_canvas.addEventListener(\n",
       "        'mousemove',\n",
       "        on_mouse_event_closure('motion_notify')\n",
       "    );\n",
       "\n",
       "    rubberband_canvas.addEventListener(\n",
       "        'mouseenter',\n",
       "        on_mouse_event_closure('figure_enter')\n",
       "    );\n",
       "    rubberband_canvas.addEventListener(\n",
       "        'mouseleave',\n",
       "        on_mouse_event_closure('figure_leave')\n",
       "    );\n",
       "\n",
       "    canvas_div.addEventListener('wheel', function (event) {\n",
       "        if (event.deltaY < 0) {\n",
       "            event.step = 1;\n",
       "        } else {\n",
       "            event.step = -1;\n",
       "        }\n",
       "        on_mouse_event_closure('scroll')(event);\n",
       "    });\n",
       "\n",
       "    canvas_div.appendChild(canvas);\n",
       "    canvas_div.appendChild(rubberband_canvas);\n",
       "\n",
       "    this.rubberband_context = rubberband_canvas.getContext('2d');\n",
       "    this.rubberband_context.strokeStyle = '#000000';\n",
       "\n",
       "    this._resize_canvas = function (width, height, forward) {\n",
       "        if (forward) {\n",
       "            canvas_div.style.width = width + 'px';\n",
       "            canvas_div.style.height = height + 'px';\n",
       "        }\n",
       "    };\n",
       "\n",
       "    // Disable right mouse context menu.\n",
       "    this.rubberband_canvas.addEventListener('contextmenu', function (_e) {\n",
       "        event.preventDefault();\n",
       "        return false;\n",
       "    });\n",
       "\n",
       "    function set_focus() {\n",
       "        canvas.focus();\n",
       "        canvas_div.focus();\n",
       "    }\n",
       "\n",
       "    window.setTimeout(set_focus, 100);\n",
       "};\n",
       "\n",
       "mpl.figure.prototype._init_toolbar = function () {\n",
       "    var fig = this;\n",
       "\n",
       "    var toolbar = document.createElement('div');\n",
       "    toolbar.classList = 'mpl-toolbar';\n",
       "    this.root.appendChild(toolbar);\n",
       "\n",
       "    function on_click_closure(name) {\n",
       "        return function (_event) {\n",
       "            return fig.toolbar_button_onclick(name);\n",
       "        };\n",
       "    }\n",
       "\n",
       "    function on_mouseover_closure(tooltip) {\n",
       "        return function (event) {\n",
       "            if (!event.currentTarget.disabled) {\n",
       "                return fig.toolbar_button_onmouseover(tooltip);\n",
       "            }\n",
       "        };\n",
       "    }\n",
       "\n",
       "    fig.buttons = {};\n",
       "    var buttonGroup = document.createElement('div');\n",
       "    buttonGroup.classList = 'mpl-button-group';\n",
       "    for (var toolbar_ind in mpl.toolbar_items) {\n",
       "        var name = mpl.toolbar_items[toolbar_ind][0];\n",
       "        var tooltip = mpl.toolbar_items[toolbar_ind][1];\n",
       "        var image = mpl.toolbar_items[toolbar_ind][2];\n",
       "        var method_name = mpl.toolbar_items[toolbar_ind][3];\n",
       "\n",
       "        if (!name) {\n",
       "            /* Instead of a spacer, we start a new button group. */\n",
       "            if (buttonGroup.hasChildNodes()) {\n",
       "                toolbar.appendChild(buttonGroup);\n",
       "            }\n",
       "            buttonGroup = document.createElement('div');\n",
       "            buttonGroup.classList = 'mpl-button-group';\n",
       "            continue;\n",
       "        }\n",
       "\n",
       "        var button = (fig.buttons[name] = document.createElement('button'));\n",
       "        button.classList = 'mpl-widget';\n",
       "        button.setAttribute('role', 'button');\n",
       "        button.setAttribute('aria-disabled', 'false');\n",
       "        button.addEventListener('click', on_click_closure(method_name));\n",
       "        button.addEventListener('mouseover', on_mouseover_closure(tooltip));\n",
       "\n",
       "        var icon_img = document.createElement('img');\n",
       "        icon_img.src = '_images/' + image + '.png';\n",
       "        icon_img.srcset = '_images/' + image + '_large.png 2x';\n",
       "        icon_img.alt = tooltip;\n",
       "        button.appendChild(icon_img);\n",
       "\n",
       "        buttonGroup.appendChild(button);\n",
       "    }\n",
       "\n",
       "    if (buttonGroup.hasChildNodes()) {\n",
       "        toolbar.appendChild(buttonGroup);\n",
       "    }\n",
       "\n",
       "    var fmt_picker = document.createElement('select');\n",
       "    fmt_picker.classList = 'mpl-widget';\n",
       "    toolbar.appendChild(fmt_picker);\n",
       "    this.format_dropdown = fmt_picker;\n",
       "\n",
       "    for (var ind in mpl.extensions) {\n",
       "        var fmt = mpl.extensions[ind];\n",
       "        var option = document.createElement('option');\n",
       "        option.selected = fmt === mpl.default_extension;\n",
       "        option.innerHTML = fmt;\n",
       "        fmt_picker.appendChild(option);\n",
       "    }\n",
       "\n",
       "    var status_bar = document.createElement('span');\n",
       "    status_bar.classList = 'mpl-message';\n",
       "    toolbar.appendChild(status_bar);\n",
       "    this.message = status_bar;\n",
       "};\n",
       "\n",
       "mpl.figure.prototype.request_resize = function (x_pixels, y_pixels) {\n",
       "    // Request matplotlib to resize the figure. Matplotlib will then trigger a resize in the client,\n",
       "    // which will in turn request a refresh of the image.\n",
       "    this.send_message('resize', { width: x_pixels, height: y_pixels });\n",
       "};\n",
       "\n",
       "mpl.figure.prototype.send_message = function (type, properties) {\n",
       "    properties['type'] = type;\n",
       "    properties['figure_id'] = this.id;\n",
       "    this.ws.send(JSON.stringify(properties));\n",
       "};\n",
       "\n",
       "mpl.figure.prototype.send_draw_message = function () {\n",
       "    if (!this.waiting) {\n",
       "        this.waiting = true;\n",
       "        this.ws.send(JSON.stringify({ type: 'draw', figure_id: this.id }));\n",
       "    }\n",
       "};\n",
       "\n",
       "mpl.figure.prototype.handle_save = function (fig, _msg) {\n",
       "    var format_dropdown = fig.format_dropdown;\n",
       "    var format = format_dropdown.options[format_dropdown.selectedIndex].value;\n",
       "    fig.ondownload(fig, format);\n",
       "};\n",
       "\n",
       "mpl.figure.prototype.handle_resize = function (fig, msg) {\n",
       "    var size = msg['size'];\n",
       "    if (size[0] !== fig.canvas.width || size[1] !== fig.canvas.height) {\n",
       "        fig._resize_canvas(size[0], size[1], msg['forward']);\n",
       "        fig.send_message('refresh', {});\n",
       "    }\n",
       "};\n",
       "\n",
       "mpl.figure.prototype.handle_rubberband = function (fig, msg) {\n",
       "    var x0 = msg['x0'] / fig.ratio;\n",
       "    var y0 = (fig.canvas.height - msg['y0']) / fig.ratio;\n",
       "    var x1 = msg['x1'] / fig.ratio;\n",
       "    var y1 = (fig.canvas.height - msg['y1']) / fig.ratio;\n",
       "    x0 = Math.floor(x0) + 0.5;\n",
       "    y0 = Math.floor(y0) + 0.5;\n",
       "    x1 = Math.floor(x1) + 0.5;\n",
       "    y1 = Math.floor(y1) + 0.5;\n",
       "    var min_x = Math.min(x0, x1);\n",
       "    var min_y = Math.min(y0, y1);\n",
       "    var width = Math.abs(x1 - x0);\n",
       "    var height = Math.abs(y1 - y0);\n",
       "\n",
       "    fig.rubberband_context.clearRect(\n",
       "        0,\n",
       "        0,\n",
       "        fig.canvas.width / fig.ratio,\n",
       "        fig.canvas.height / fig.ratio\n",
       "    );\n",
       "\n",
       "    fig.rubberband_context.strokeRect(min_x, min_y, width, height);\n",
       "};\n",
       "\n",
       "mpl.figure.prototype.handle_figure_label = function (fig, msg) {\n",
       "    // Updates the figure title.\n",
       "    fig.header.textContent = msg['label'];\n",
       "};\n",
       "\n",
       "mpl.figure.prototype.handle_cursor = function (fig, msg) {\n",
       "    fig.rubberband_canvas.style.cursor = msg['cursor'];\n",
       "};\n",
       "\n",
       "mpl.figure.prototype.handle_message = function (fig, msg) {\n",
       "    fig.message.textContent = msg['message'];\n",
       "};\n",
       "\n",
       "mpl.figure.prototype.handle_draw = function (fig, _msg) {\n",
       "    // Request the server to send over a new figure.\n",
       "    fig.send_draw_message();\n",
       "};\n",
       "\n",
       "mpl.figure.prototype.handle_image_mode = function (fig, msg) {\n",
       "    fig.image_mode = msg['mode'];\n",
       "};\n",
       "\n",
       "mpl.figure.prototype.handle_history_buttons = function (fig, msg) {\n",
       "    for (var key in msg) {\n",
       "        if (!(key in fig.buttons)) {\n",
       "            continue;\n",
       "        }\n",
       "        fig.buttons[key].disabled = !msg[key];\n",
       "        fig.buttons[key].setAttribute('aria-disabled', !msg[key]);\n",
       "    }\n",
       "};\n",
       "\n",
       "mpl.figure.prototype.handle_navigate_mode = function (fig, msg) {\n",
       "    if (msg['mode'] === 'PAN') {\n",
       "        fig.buttons['Pan'].classList.add('active');\n",
       "        fig.buttons['Zoom'].classList.remove('active');\n",
       "    } else if (msg['mode'] === 'ZOOM') {\n",
       "        fig.buttons['Pan'].classList.remove('active');\n",
       "        fig.buttons['Zoom'].classList.add('active');\n",
       "    } else {\n",
       "        fig.buttons['Pan'].classList.remove('active');\n",
       "        fig.buttons['Zoom'].classList.remove('active');\n",
       "    }\n",
       "};\n",
       "\n",
       "mpl.figure.prototype.updated_canvas_event = function () {\n",
       "    // Called whenever the canvas gets updated.\n",
       "    this.send_message('ack', {});\n",
       "};\n",
       "\n",
       "// A function to construct a web socket function for onmessage handling.\n",
       "// Called in the figure constructor.\n",
       "mpl.figure.prototype._make_on_message_function = function (fig) {\n",
       "    return function socket_on_message(evt) {\n",
       "        if (evt.data instanceof Blob) {\n",
       "            var img = evt.data;\n",
       "            if (img.type !== 'image/png') {\n",
       "                /* FIXME: We get \"Resource interpreted as Image but\n",
       "                 * transferred with MIME type text/plain:\" errors on\n",
       "                 * Chrome.  But how to set the MIME type?  It doesn't seem\n",
       "                 * to be part of the websocket stream */\n",
       "                img.type = 'image/png';\n",
       "            }\n",
       "\n",
       "            /* Free the memory for the previous frames */\n",
       "            if (fig.imageObj.src) {\n",
       "                (window.URL || window.webkitURL).revokeObjectURL(\n",
       "                    fig.imageObj.src\n",
       "                );\n",
       "            }\n",
       "\n",
       "            fig.imageObj.src = (window.URL || window.webkitURL).createObjectURL(\n",
       "                img\n",
       "            );\n",
       "            fig.updated_canvas_event();\n",
       "            fig.waiting = false;\n",
       "            return;\n",
       "        } else if (\n",
       "            typeof evt.data === 'string' &&\n",
       "            evt.data.slice(0, 21) === 'data:image/png;base64'\n",
       "        ) {\n",
       "            fig.imageObj.src = evt.data;\n",
       "            fig.updated_canvas_event();\n",
       "            fig.waiting = false;\n",
       "            return;\n",
       "        }\n",
       "\n",
       "        var msg = JSON.parse(evt.data);\n",
       "        var msg_type = msg['type'];\n",
       "\n",
       "        // Call the  \"handle_{type}\" callback, which takes\n",
       "        // the figure and JSON message as its only arguments.\n",
       "        try {\n",
       "            var callback = fig['handle_' + msg_type];\n",
       "        } catch (e) {\n",
       "            console.log(\n",
       "                \"No handler for the '\" + msg_type + \"' message type: \",\n",
       "                msg\n",
       "            );\n",
       "            return;\n",
       "        }\n",
       "\n",
       "        if (callback) {\n",
       "            try {\n",
       "                // console.log(\"Handling '\" + msg_type + \"' message: \", msg);\n",
       "                callback(fig, msg);\n",
       "            } catch (e) {\n",
       "                console.log(\n",
       "                    \"Exception inside the 'handler_\" + msg_type + \"' callback:\",\n",
       "                    e,\n",
       "                    e.stack,\n",
       "                    msg\n",
       "                );\n",
       "            }\n",
       "        }\n",
       "    };\n",
       "};\n",
       "\n",
       "// from https://stackoverflow.com/questions/1114465/getting-mouse-location-in-canvas\n",
       "mpl.findpos = function (e) {\n",
       "    //this section is from http://www.quirksmode.org/js/events_properties.html\n",
       "    var targ;\n",
       "    if (!e) {\n",
       "        e = window.event;\n",
       "    }\n",
       "    if (e.target) {\n",
       "        targ = e.target;\n",
       "    } else if (e.srcElement) {\n",
       "        targ = e.srcElement;\n",
       "    }\n",
       "    if (targ.nodeType === 3) {\n",
       "        // defeat Safari bug\n",
       "        targ = targ.parentNode;\n",
       "    }\n",
       "\n",
       "    // pageX,Y are the mouse positions relative to the document\n",
       "    var boundingRect = targ.getBoundingClientRect();\n",
       "    var x = e.pageX - (boundingRect.left + document.body.scrollLeft);\n",
       "    var y = e.pageY - (boundingRect.top + document.body.scrollTop);\n",
       "\n",
       "    return { x: x, y: y };\n",
       "};\n",
       "\n",
       "/*\n",
       " * return a copy of an object with only non-object keys\n",
       " * we need this to avoid circular references\n",
       " * https://stackoverflow.com/a/24161582/3208463\n",
       " */\n",
       "function simpleKeys(original) {\n",
       "    return Object.keys(original).reduce(function (obj, key) {\n",
       "        if (typeof original[key] !== 'object') {\n",
       "            obj[key] = original[key];\n",
       "        }\n",
       "        return obj;\n",
       "    }, {});\n",
       "}\n",
       "\n",
       "mpl.figure.prototype.mouse_event = function (event, name) {\n",
       "    var canvas_pos = mpl.findpos(event);\n",
       "\n",
       "    if (name === 'button_press') {\n",
       "        this.canvas.focus();\n",
       "        this.canvas_div.focus();\n",
       "    }\n",
       "\n",
       "    var x = canvas_pos.x * this.ratio;\n",
       "    var y = canvas_pos.y * this.ratio;\n",
       "\n",
       "    this.send_message(name, {\n",
       "        x: x,\n",
       "        y: y,\n",
       "        button: event.button,\n",
       "        step: event.step,\n",
       "        guiEvent: simpleKeys(event),\n",
       "    });\n",
       "\n",
       "    /* This prevents the web browser from automatically changing to\n",
       "     * the text insertion cursor when the button is pressed.  We want\n",
       "     * to control all of the cursor setting manually through the\n",
       "     * 'cursor' event from matplotlib */\n",
       "    event.preventDefault();\n",
       "    return false;\n",
       "};\n",
       "\n",
       "mpl.figure.prototype._key_event_extra = function (_event, _name) {\n",
       "    // Handle any extra behaviour associated with a key event\n",
       "};\n",
       "\n",
       "mpl.figure.prototype.key_event = function (event, name) {\n",
       "    // Prevent repeat events\n",
       "    if (name === 'key_press') {\n",
       "        if (event.key === this._key) {\n",
       "            return;\n",
       "        } else {\n",
       "            this._key = event.key;\n",
       "        }\n",
       "    }\n",
       "    if (name === 'key_release') {\n",
       "        this._key = null;\n",
       "    }\n",
       "\n",
       "    var value = '';\n",
       "    if (event.ctrlKey && event.key !== 'Control') {\n",
       "        value += 'ctrl+';\n",
       "    }\n",
       "    else if (event.altKey && event.key !== 'Alt') {\n",
       "        value += 'alt+';\n",
       "    }\n",
       "    else if (event.shiftKey && event.key !== 'Shift') {\n",
       "        value += 'shift+';\n",
       "    }\n",
       "\n",
       "    value += 'k' + event.key;\n",
       "\n",
       "    this._key_event_extra(event, name);\n",
       "\n",
       "    this.send_message(name, { key: value, guiEvent: simpleKeys(event) });\n",
       "    return false;\n",
       "};\n",
       "\n",
       "mpl.figure.prototype.toolbar_button_onclick = function (name) {\n",
       "    if (name === 'download') {\n",
       "        this.handle_save(this, null);\n",
       "    } else {\n",
       "        this.send_message('toolbar_button', { name: name });\n",
       "    }\n",
       "};\n",
       "\n",
       "mpl.figure.prototype.toolbar_button_onmouseover = function (tooltip) {\n",
       "    this.message.textContent = tooltip;\n",
       "};\n",
       "\n",
       "///////////////// REMAINING CONTENT GENERATED BY embed_js.py /////////////////\n",
       "// prettier-ignore\n",
       "var _JSXTOOLS_RESIZE_OBSERVER=function(A){var t,i=new WeakMap,n=new WeakMap,a=new WeakMap,r=new WeakMap,o=new Set;function s(e){if(!(this instanceof s))throw new TypeError(\"Constructor requires 'new' operator\");i.set(this,e)}function h(){throw new TypeError(\"Function is not a constructor\")}function c(e,t,i,n){e=0 in arguments?Number(arguments[0]):0,t=1 in arguments?Number(arguments[1]):0,i=2 in arguments?Number(arguments[2]):0,n=3 in arguments?Number(arguments[3]):0,this.right=(this.x=this.left=e)+(this.width=i),this.bottom=(this.y=this.top=t)+(this.height=n),Object.freeze(this)}function d(){t=requestAnimationFrame(d);var s=new WeakMap,p=new Set;o.forEach((function(t){r.get(t).forEach((function(i){var r=t instanceof window.SVGElement,o=a.get(t),d=r?0:parseFloat(o.paddingTop),f=r?0:parseFloat(o.paddingRight),l=r?0:parseFloat(o.paddingBottom),u=r?0:parseFloat(o.paddingLeft),g=r?0:parseFloat(o.borderTopWidth),m=r?0:parseFloat(o.borderRightWidth),w=r?0:parseFloat(o.borderBottomWidth),b=u+f,F=d+l,v=(r?0:parseFloat(o.borderLeftWidth))+m,W=g+w,y=r?0:t.offsetHeight-W-t.clientHeight,E=r?0:t.offsetWidth-v-t.clientWidth,R=b+v,z=F+W,M=r?t.width:parseFloat(o.width)-R-E,O=r?t.height:parseFloat(o.height)-z-y;if(n.has(t)){var k=n.get(t);if(k[0]===M&&k[1]===O)return}n.set(t,[M,O]);var S=Object.create(h.prototype);S.target=t,S.contentRect=new c(u,d,M,O),s.has(i)||(s.set(i,[]),p.add(i)),s.get(i).push(S)}))})),p.forEach((function(e){i.get(e).call(e,s.get(e),e)}))}return s.prototype.observe=function(i){if(i instanceof window.Element){r.has(i)||(r.set(i,new Set),o.add(i),a.set(i,window.getComputedStyle(i)));var n=r.get(i);n.has(this)||n.add(this),cancelAnimationFrame(t),t=requestAnimationFrame(d)}},s.prototype.unobserve=function(i){if(i instanceof window.Element&&r.has(i)){var n=r.get(i);n.has(this)&&(n.delete(this),n.size||(r.delete(i),o.delete(i))),n.size||r.delete(i),o.size||cancelAnimationFrame(t)}},A.DOMRectReadOnly=c,A.ResizeObserver=s,A.ResizeObserverEntry=h,A}; // eslint-disable-line\n",
       "mpl.toolbar_items = [[\"Home\", \"Reset original view\", \"fa fa-home icon-home\", \"home\"], [\"Back\", \"Back to previous view\", \"fa fa-arrow-left icon-arrow-left\", \"back\"], [\"Forward\", \"Forward to next view\", \"fa fa-arrow-right icon-arrow-right\", \"forward\"], [\"\", \"\", \"\", \"\"], [\"Pan\", \"Left button pans, Right button zooms\\nx/y fixes axis, CTRL fixes aspect\", \"fa fa-arrows icon-move\", \"pan\"], [\"Zoom\", \"Zoom to rectangle\\nx/y fixes axis\", \"fa fa-square-o icon-check-empty\", \"zoom\"], [\"\", \"\", \"\", \"\"], [\"Download\", \"Download plot\", \"fa fa-floppy-o icon-save\", \"download\"]];\n",
       "\n",
       "mpl.extensions = [\"eps\", \"jpeg\", \"pgf\", \"pdf\", \"png\", \"ps\", \"raw\", \"svg\", \"tif\"];\n",
       "\n",
       "mpl.default_extension = \"png\";/* global mpl */\n",
       "\n",
       "var comm_websocket_adapter = function (comm) {\n",
       "    // Create a \"websocket\"-like object which calls the given IPython comm\n",
       "    // object with the appropriate methods. Currently this is a non binary\n",
       "    // socket, so there is still some room for performance tuning.\n",
       "    var ws = {};\n",
       "\n",
       "    ws.binaryType = comm.kernel.ws.binaryType;\n",
       "    ws.readyState = comm.kernel.ws.readyState;\n",
       "    function updateReadyState(_event) {\n",
       "        if (comm.kernel.ws) {\n",
       "            ws.readyState = comm.kernel.ws.readyState;\n",
       "        } else {\n",
       "            ws.readyState = 3; // Closed state.\n",
       "        }\n",
       "    }\n",
       "    comm.kernel.ws.addEventListener('open', updateReadyState);\n",
       "    comm.kernel.ws.addEventListener('close', updateReadyState);\n",
       "    comm.kernel.ws.addEventListener('error', updateReadyState);\n",
       "\n",
       "    ws.close = function () {\n",
       "        comm.close();\n",
       "    };\n",
       "    ws.send = function (m) {\n",
       "        //console.log('sending', m);\n",
       "        comm.send(m);\n",
       "    };\n",
       "    // Register the callback with on_msg.\n",
       "    comm.on_msg(function (msg) {\n",
       "        //console.log('receiving', msg['content']['data'], msg);\n",
       "        var data = msg['content']['data'];\n",
       "        if (data['blob'] !== undefined) {\n",
       "            data = {\n",
       "                data: new Blob(msg['buffers'], { type: data['blob'] }),\n",
       "            };\n",
       "        }\n",
       "        // Pass the mpl event to the overridden (by mpl) onmessage function.\n",
       "        ws.onmessage(data);\n",
       "    });\n",
       "    return ws;\n",
       "};\n",
       "\n",
       "mpl.mpl_figure_comm = function (comm, msg) {\n",
       "    // This is the function which gets called when the mpl process\n",
       "    // starts-up an IPython Comm through the \"matplotlib\" channel.\n",
       "\n",
       "    var id = msg.content.data.id;\n",
       "    // Get hold of the div created by the display call when the Comm\n",
       "    // socket was opened in Python.\n",
       "    var element = document.getElementById(id);\n",
       "    var ws_proxy = comm_websocket_adapter(comm);\n",
       "\n",
       "    function ondownload(figure, _format) {\n",
       "        window.open(figure.canvas.toDataURL());\n",
       "    }\n",
       "\n",
       "    var fig = new mpl.figure(id, ws_proxy, ondownload, element);\n",
       "\n",
       "    // Call onopen now - mpl needs it, as it is assuming we've passed it a real\n",
       "    // web socket which is closed, not our websocket->open comm proxy.\n",
       "    ws_proxy.onopen();\n",
       "\n",
       "    fig.parent_element = element;\n",
       "    fig.cell_info = mpl.find_output_cell(\"<div id='\" + id + \"'></div>\");\n",
       "    if (!fig.cell_info) {\n",
       "        console.error('Failed to find cell for figure', id, fig);\n",
       "        return;\n",
       "    }\n",
       "    fig.cell_info[0].output_area.element.on(\n",
       "        'cleared',\n",
       "        { fig: fig },\n",
       "        fig._remove_fig_handler\n",
       "    );\n",
       "};\n",
       "\n",
       "mpl.figure.prototype.handle_close = function (fig, msg) {\n",
       "    var width = fig.canvas.width / fig.ratio;\n",
       "    fig.cell_info[0].output_area.element.off(\n",
       "        'cleared',\n",
       "        fig._remove_fig_handler\n",
       "    );\n",
       "    fig.resizeObserverInstance.unobserve(fig.canvas_div);\n",
       "\n",
       "    // Update the output cell to use the data from the current canvas.\n",
       "    fig.push_to_output();\n",
       "    var dataURL = fig.canvas.toDataURL();\n",
       "    // Re-enable the keyboard manager in IPython - without this line, in FF,\n",
       "    // the notebook keyboard shortcuts fail.\n",
       "    IPython.keyboard_manager.enable();\n",
       "    fig.parent_element.innerHTML =\n",
       "        '<img src=\"' + dataURL + '\" width=\"' + width + '\">';\n",
       "    fig.close_ws(fig, msg);\n",
       "};\n",
       "\n",
       "mpl.figure.prototype.close_ws = function (fig, msg) {\n",
       "    fig.send_message('closing', msg);\n",
       "    // fig.ws.close()\n",
       "};\n",
       "\n",
       "mpl.figure.prototype.push_to_output = function (_remove_interactive) {\n",
       "    // Turn the data on the canvas into data in the output cell.\n",
       "    var width = this.canvas.width / this.ratio;\n",
       "    var dataURL = this.canvas.toDataURL();\n",
       "    this.cell_info[1]['text/html'] =\n",
       "        '<img src=\"' + dataURL + '\" width=\"' + width + '\">';\n",
       "};\n",
       "\n",
       "mpl.figure.prototype.updated_canvas_event = function () {\n",
       "    // Tell IPython that the notebook contents must change.\n",
       "    IPython.notebook.set_dirty(true);\n",
       "    this.send_message('ack', {});\n",
       "    var fig = this;\n",
       "    // Wait a second, then push the new image to the DOM so\n",
       "    // that it is saved nicely (might be nice to debounce this).\n",
       "    setTimeout(function () {\n",
       "        fig.push_to_output();\n",
       "    }, 1000);\n",
       "};\n",
       "\n",
       "mpl.figure.prototype._init_toolbar = function () {\n",
       "    var fig = this;\n",
       "\n",
       "    var toolbar = document.createElement('div');\n",
       "    toolbar.classList = 'btn-toolbar';\n",
       "    this.root.appendChild(toolbar);\n",
       "\n",
       "    function on_click_closure(name) {\n",
       "        return function (_event) {\n",
       "            return fig.toolbar_button_onclick(name);\n",
       "        };\n",
       "    }\n",
       "\n",
       "    function on_mouseover_closure(tooltip) {\n",
       "        return function (event) {\n",
       "            if (!event.currentTarget.disabled) {\n",
       "                return fig.toolbar_button_onmouseover(tooltip);\n",
       "            }\n",
       "        };\n",
       "    }\n",
       "\n",
       "    fig.buttons = {};\n",
       "    var buttonGroup = document.createElement('div');\n",
       "    buttonGroup.classList = 'btn-group';\n",
       "    var button;\n",
       "    for (var toolbar_ind in mpl.toolbar_items) {\n",
       "        var name = mpl.toolbar_items[toolbar_ind][0];\n",
       "        var tooltip = mpl.toolbar_items[toolbar_ind][1];\n",
       "        var image = mpl.toolbar_items[toolbar_ind][2];\n",
       "        var method_name = mpl.toolbar_items[toolbar_ind][3];\n",
       "\n",
       "        if (!name) {\n",
       "            /* Instead of a spacer, we start a new button group. */\n",
       "            if (buttonGroup.hasChildNodes()) {\n",
       "                toolbar.appendChild(buttonGroup);\n",
       "            }\n",
       "            buttonGroup = document.createElement('div');\n",
       "            buttonGroup.classList = 'btn-group';\n",
       "            continue;\n",
       "        }\n",
       "\n",
       "        button = fig.buttons[name] = document.createElement('button');\n",
       "        button.classList = 'btn btn-default';\n",
       "        button.href = '#';\n",
       "        button.title = name;\n",
       "        button.innerHTML = '<i class=\"fa ' + image + ' fa-lg\"></i>';\n",
       "        button.addEventListener('click', on_click_closure(method_name));\n",
       "        button.addEventListener('mouseover', on_mouseover_closure(tooltip));\n",
       "        buttonGroup.appendChild(button);\n",
       "    }\n",
       "\n",
       "    if (buttonGroup.hasChildNodes()) {\n",
       "        toolbar.appendChild(buttonGroup);\n",
       "    }\n",
       "\n",
       "    // Add the status bar.\n",
       "    var status_bar = document.createElement('span');\n",
       "    status_bar.classList = 'mpl-message pull-right';\n",
       "    toolbar.appendChild(status_bar);\n",
       "    this.message = status_bar;\n",
       "\n",
       "    // Add the close button to the window.\n",
       "    var buttongrp = document.createElement('div');\n",
       "    buttongrp.classList = 'btn-group inline pull-right';\n",
       "    button = document.createElement('button');\n",
       "    button.classList = 'btn btn-mini btn-primary';\n",
       "    button.href = '#';\n",
       "    button.title = 'Stop Interaction';\n",
       "    button.innerHTML = '<i class=\"fa fa-power-off icon-remove icon-large\"></i>';\n",
       "    button.addEventListener('click', function (_evt) {\n",
       "        fig.handle_close(fig, {});\n",
       "    });\n",
       "    button.addEventListener(\n",
       "        'mouseover',\n",
       "        on_mouseover_closure('Stop Interaction')\n",
       "    );\n",
       "    buttongrp.appendChild(button);\n",
       "    var titlebar = this.root.querySelector('.ui-dialog-titlebar');\n",
       "    titlebar.insertBefore(buttongrp, titlebar.firstChild);\n",
       "};\n",
       "\n",
       "mpl.figure.prototype._remove_fig_handler = function (event) {\n",
       "    var fig = event.data.fig;\n",
       "    if (event.target !== this) {\n",
       "        // Ignore bubbled events from children.\n",
       "        return;\n",
       "    }\n",
       "    fig.close_ws(fig, {});\n",
       "};\n",
       "\n",
       "mpl.figure.prototype._root_extra_style = function (el) {\n",
       "    el.style.boxSizing = 'content-box'; // override notebook setting of border-box.\n",
       "};\n",
       "\n",
       "mpl.figure.prototype._canvas_extra_style = function (el) {\n",
       "    // this is important to make the div 'focusable\n",
       "    el.setAttribute('tabindex', 0);\n",
       "    // reach out to IPython and tell the keyboard manager to turn it's self\n",
       "    // off when our div gets focus\n",
       "\n",
       "    // location in version 3\n",
       "    if (IPython.notebook.keyboard_manager) {\n",
       "        IPython.notebook.keyboard_manager.register_events(el);\n",
       "    } else {\n",
       "        // location in version 2\n",
       "        IPython.keyboard_manager.register_events(el);\n",
       "    }\n",
       "};\n",
       "\n",
       "mpl.figure.prototype._key_event_extra = function (event, _name) {\n",
       "    // Check for shift+enter\n",
       "    if (event.shiftKey && event.which === 13) {\n",
       "        this.canvas_div.blur();\n",
       "        // select the cell after this one\n",
       "        var index = IPython.notebook.find_cell_index(this.cell_info[0]);\n",
       "        IPython.notebook.select(index + 1);\n",
       "    }\n",
       "};\n",
       "\n",
       "mpl.figure.prototype.handle_save = function (fig, _msg) {\n",
       "    fig.ondownload(fig, null);\n",
       "};\n",
       "\n",
       "mpl.find_output_cell = function (html_output) {\n",
       "    // Return the cell and output element which can be found *uniquely* in the notebook.\n",
       "    // Note - this is a bit hacky, but it is done because the \"notebook_saving.Notebook\"\n",
       "    // IPython event is triggered only after the cells have been serialised, which for\n",
       "    // our purposes (turning an active figure into a static one), is too late.\n",
       "    var cells = IPython.notebook.get_cells();\n",
       "    var ncells = cells.length;\n",
       "    for (var i = 0; i < ncells; i++) {\n",
       "        var cell = cells[i];\n",
       "        if (cell.cell_type === 'code') {\n",
       "            for (var j = 0; j < cell.output_area.outputs.length; j++) {\n",
       "                var data = cell.output_area.outputs[j];\n",
       "                if (data.data) {\n",
       "                    // IPython >= 3 moved mimebundle to data attribute of output\n",
       "                    data = data.data;\n",
       "                }\n",
       "                if (data['text/html'] === html_output) {\n",
       "                    return [cell, data, j];\n",
       "                }\n",
       "            }\n",
       "        }\n",
       "    }\n",
       "};\n",
       "\n",
       "// Register the function which deals with the matplotlib target/channel.\n",
       "// The kernel may be null if the page has been refreshed.\n",
       "if (IPython.notebook.kernel !== null) {\n",
       "    IPython.notebook.kernel.comm_manager.register_target(\n",
       "        'matplotlib',\n",
       "        mpl.mpl_figure_comm\n",
       "    );\n",
       "}\n"
      ],
      "text/plain": [
       "<IPython.core.display.Javascript object>"
      ]
     },
     "metadata": {},
     "output_type": "display_data"
    },
    {
     "data": {
      "text/html": [
       "<img src=\"data:image/png;base64,iVBORw0KGgoAAAANSUhEUgAAA+gAAAPoCAYAAABNo9TkAAAgAElEQVR4XuydB5gURdrH390FdpecJAqLqCiCCTyiJLMYCEowIEFQURHOO1H0IypB9AP0FFBQBOQQwawngijIgQkFPUFQQUDiCgonYVnCfrzl19M9szM7VTPVPR3+9Tz73Mm8XfXWr96u7n9XSis4mQgJBEAABEAABEAABEAABEAABEAABEAgpQTSINBTyh+FgwAIgAAIgAAIgAAIgAAIgAAIgIAgAIGOQAABEAABEAABEAABEAABEAABEAABFxCAQHdBI8AFEAABEAABEAABEAABEAABEAABEIBARwyAAAiAAAiAAAiAAAiAAAiAAAiAgAsIQKC7oBHgAgiAAAiAAAiAAAiAAAiAAAiAAAhAoCMGQAAEQAAEQAAEQAAEQAAEQAAEQMAFBCDQXdAIcAEEQAAEQAAEQAAEQAAEQAAEQAAEINARAyAAAiAAAiAAAiAAAiAAAiAAAiDgAgIQ6C5oBLgAAiAAAiAAAiAAAiAAAiAAAiAAAhDoiAEQAAEQAAEQAAEQAAEQAAEQAAEQcAEBCHQXNAJcAAEQAAEQAAEQAAEQAAEQAAEQAAEIdMQACIAACIAACIAACIAACIAACIAACLiAAAS6CxoBLoAACIAACIAACIAACIAACIAACIAABDpiAARAAARAAARAAARAAARAAARAAARcQAAC3QWNABdAAARAAARAAARAAARAAARAAARAAAIdMQACIAACIAACIAACIAACIAACIAACLiAAge6CRoALIAACIAACIAACIAACIAACIAACIACBjhgAARAAARAAARAAARAAARAAARAAARcQgEB3QSPABRAAARAAARAAARAAARAAARAAARDQLtCP7tnkC6rFK9f1RT1QCRAAARAAARCIJLB06VJq164dffzxx9S2bVslQOvWraNXX32VevXqRXXq1Am7lv+N8968ebNSnnYZR/MnLS2Nhg8fTiNGjJAu9l//+hd98cUXStdIZw5DEAABEAABELAQ0C/Qd2/wBeDiVc/yRT1QCRAAARAAARDQKdAXLFhAXbp0iSruN27cSP/973/pwgsvdAX0aAL9s88+o1NPPVX8yaZ7772Xnn32WSooKJC9BHYgAAIgAAIgkBAB/QJ95/cJOeK2i4pXr+82l+APCIAACLiWwPHjx+nYsWOUmZnpWh/97Jgq/2RG0IsS6G5jrGtEHwLdbS0Lf0AABEDAvwS0C/T8HWt9QatEjQa+qAcqAQJ2ExgyZAjl5eXZXQzyj0Jg3759Ytrtjh076MCBA0IcV6lShVq2bEmVK1cWVxw6dIimT59OF110EbVo0SIsl99++41mzZpFbdq0CY14Hjx4kD799FMxRZmvLV26NJ1zzjnUpEkTSk9PF9fv37+fZsyYQRdffDGxMFy7di398ccf1KFDBzEquXLlStq6dasYSeXpxBUqVKC//OUvdPrpp4eVz3GzfPly+umnn+jEiRNUs2ZNMe2a827atCk1b948ZP/7778Tj3xyvvn5+VS2bFm64IIL6Pzzzy8yNgxfL7/8cmrQILxfnzRpUlg5XO/PP/+cbrnlFsF1y5Ytwn+uf6tWrYh5L1u2TPDOysoSZTNXI/EHCtm6c9l8faVKlejrr78W/MqVKyf8OeusomdwFcWfp5zv3r1b1GP79u3io0nFihUF/3r16oV8/eWXX+i1116jG264gWrVqiX+na/76quvaOfOnaLtS5YsSdWrVxftzLw5cVsvXry4EHOD7wcffEDbtm2j22+/XdjMmTOHihcvTl27dg27htv7hRdeoGrVqtF1110nfuNYWrVqFa1fv17ETokSJei0004T5bMv8RL7xtfztewv15nrafWH84hs96NHj4qY5zjk+C9WrJhoi0aNGtHZZ59NXKfvvy88+PDzzz+LKf48sj5v3jzhN19ft25d6tGjB/31r38VdTcSLyXYs2ePiO/7779fsOb633HHHTR48ODQ/cX2HGuPPvoovfHGG6Id2R+OtQkTJgifOPF9MH78eHr55ZeJfeE6X3vtteLfTjnllHi48DsIgAAIgIBLCegX6L9849KqqrlVolbRL31qucEaBPxLgF9CJ06c6N8Kurhmn3zyCb399ttCyPILOQvumTNnCkGxevXqkNDr3LmzEC4sug2RzdV68MEHhVhhwclCcdeuXSEh/vDDDwtBzcLlscceo5tuukkIC06cDwsnFtQs+u655x4hDs4880whxgcNGkSXXnqp+J1FxIcffiiEBV9/2223iTxYoPGHAfaL1wKzGOKyWGz8+OOPYWuEec0zf1yoXbs2PfDAA0LUcB057oYNGyZsYyXDVy6bR1OtKXItMvsxcuRIwe3WW2+lZs2aCTHKgodHULked999N9WvX5/++c9/ivqwyGW+nFg4y9SdbblsFsZlypShoUOHUqlSpWjy5Mm0cOFCmj9/Pt14441x6xSNPwu1q666Sgh99pmF3SuvvEIvvfSS8NdgEG0EnUfG//Of/4iPNSzqWahPmTKFmD//8UefX3/9VXzw4fhgYcrtxoljhWMwcsT66aefpoEDB9IPP/wg4sNI77//PrVv317ELwt0jodrrrlGfLBhscrtzR9IuG25Dhwn2dnZMZlw/Xr37i0+EvXt21e0BbfnkSNHRMxb18RHtvtdd91Fs2fPFnHOdWeR/d1334k2YYY8bf+hhx4i5sMxaiS25Y9iLLb5PuB7gj8qfPPNNzR69GhRrxdffDFkzwKd82W2f/vb3wQzFuDc7nzfGvcGf6zhe5p95nuU25I/wPH9zvXjj1jJ8nJxtwbXQAAEQCDwBPQL9C1f+wJqiZw/XzqQQAAEiiYAge6eCOERSH5x55FiHkljUczpnXfeoeuvv54WLVpEPNLJiW1Z8LIQYOHBiYUKj3jySCT/ZqT//d//pb///e/i33k02RC9LDB4ZNE6ShhJg8vhdbucN48U8x8n3nSLBRkLQP7NSOPGjSOelWHdxIsFJ5fNf8ZILtsPGDBAiEX+wMAfBqKlRAQ615dFl5FYiK1Zs4Zef/116tSpk/hnHpmuUaOGGFlnkR4txao727JIZMHJgrpq1aqhNmnYsKHImz9SxEpF8eePB5wvzwDgkWAjsVjkEVseTWbBKjPFnf3nWQ7s35gxY+i+++4T2RU1xT1SoO/du1dw4vhh0Wqkbt26idkI7A/7yR8R+COQ9YMH27Iw55FwFrH9+/ePioRjnj928Icbtme2nFjg80cBLr8ogX7uuefSGWecIcRyrCQ7xZ194b+5c+eKDwb8QcOITRboXGee3cAzUozE9yv7zx9nOPHIOX944o9Dl112WVSXkuEVs5L4AQRAAARAwBUE9Av0TV+4omLJOlGirvnwTDYvXA8CfiYAgZ661mUhZ0xx5em5PFXXSCxqeZSSE9uxAOCRNx755WQI5Pfee0+MZHLi6ek8IspC1Jp49JNFhCGSDIHIbW98BLDa8wgwj8zzSCKPRhqJp4UfPnxY/CePDLLvLOB4RNFILKp42rAh0Fkg8igzi7PIsljAsO9cl6uvvjpqQyQi0Dds2BA2Hfzmm28WApKnfXMdjMSjvDxDgEWhkWTqzrYsIvkjCn88sSZjFJ+nZsfaxCwWf44BFqRPPvmkGLW2pmnTponRfx4JZxEfTaDzKC2LQxbJXAYLdCPxRxT+mMJJRaCzPc8GMJYn8McBXq7AU+dZ8HMMcOIZCxyLubm5IYFtlM2x27p1azGNPFrij0T84YjrzSPT1sSimOtSlEDn6fj8YYpnPxizDyJH64sS6DxbheN1xYoVYhaLNXG9eQScE/vCscUzE6yJP0zwByBjGj3HFd8XbBsrJcMrZqb4AQRAAARAwBUEtAv0Ixs/c0XFknUi8/RmyWaB60EgEAQg0FPXzCxweJoxi12eLs4jdSyAeIpv+fLlhQgzEk8b/sc//iHEAf/Ga4L//e9/izW6GRkZwoxHwlnMx0qjRo0S07ENgcjiiqecWxOLe17XzLt8s7DlUU0eIWVxx9N9jV2w2Uee1mv9qMD5sCBncWQIdF5/G2+3bV5Hz2t+o6VEBDqPehpr+DlPHhVmUcoC1pqMNcU8bZmTbN3ZlgU6M2DhbE1Tp04VHyNYsMVaXx+LPwtEXq9dVOJp0jzqH02g8yyLJUuWiDbmUWuercB+8kcQ/uNp5JxUBbrxMYhHiK+88krxoYeXRRgzMjhPntnBSwhipUsuuUT4Fi1xHHOdeHkE7x9gTd27dxcfB4oS6PwRiWOZPwCwKOaPMOznE088EZqWH0ug854I/HGAl0VwX8gfl/h6nsHAdbQeYxcZL4afkbMO+CMLz2CJVd9keRUZIPgRBEAABEAg5QT0C/Qf/p3ySulwILNe0S85OspAHiDgBwIQ6KlrRR555jWpxtpwwxMWtDxl1yrQjVFGFso8vZhHMHnEkKeUG4n/7bzzzgubimytHU8VNqYL83pbFjA8ddmaeD02i0tet2tMNebfecSPRykNgR5rBN0Qn4ZA51FrFooswFnwREvsC6+hj5Z4XT3Xi4XvnXfeGTLhEUoW4dap9MbodaICXbbu7ISOEfRI/iwueQMxXiJgrIuPZMJCkmckRAp0XrPNH3iYh3VNP6/h5rXY3H6JCnRjOQWLaJ6JwOKfPwqxcDYSjyLzjAhjmnek3+xzrM3zkh1Bt5bFG+XxzBNec84fsnjjN06xBLqxxp7jNicnJ5QVL73o169fQgJdZgQ9GV6p67FQMgiAAAiAgAwB/QJ9/TKZcl1vk3l2G2UfeVSAX5h4hIqng/IUT34hiZX4ZZW/2vNaQ94Eh6fW8RS9WC+ayg7hAhBwgAAEugOQYxTBfQWPVLP4NBJPE+ap0zyibhXo/DtvesYCmTejYsHB4sMqelhQ8GgnjwjHWtPN+RgiOppA59FzHhk1hA3bs0jmUUEegTYEujGqGrm2ONoadB5dZdHMo5K8CZdK4vJ4B/A+ffqI2QZG4tF8ntqsU6DL1p19KGoNOs8q4OnqsVJR/HmzMmbNcVBUihTovPM5P4fGjh0rxKmRmBnHSs+ePUMC3djTINrSgljHmnGe/ExkEc7T1Z977jmxe7mR+HnIHwGsU8Jl25nXfPNHKf549OWXXyqvQY9WDvdr7C+PrnP88NR5XmLBH4ys0995VgrPZOHnPs8W4cQxx/cax2siI+jGGnQeQeeZA9FSMrxkucIOBEAABEAgNQT0C/TvP05NTTSXmlm/nVKOPDWOR3j4ZZOPOOKXD/6Czuv9rJstGZnylDx+geZdiHnzHp7GyWv8+MWqqI1qlJyCMQg4QAAC3QHIMYpg0cR9D4taHvnmTcBYNPPO0ryBW6RAf/7558UoMosZ7pd4SrQ1scjgTeNYgLDoYPHOU85ZELIY4w8BfG1RApFH81kM8zRtXnvMU+hZcPDUe/4YaQh0FlUs1HjTOBbJjRs3Fjtk83R1Fqe8mzpvlMWJ+1Geus39I+fL04h5p2u2Y7H40UcfFdkI/OGBpz/zJmU8bZyFE6/F5w8ROgW6bN3Z2aJ2cedRZp7lECsVxZ8FIa/H5+cLi2Xe6Z3XRfMoM7PmNfKcok1x52uYyeOPPy4Y84ZmfBQa7xvAMzWMEXTe2I6PEuvYsaMQrjyl25jFEEug8z4GHE8cPzx7gWONPwgYiUfZ+VnIG6jx+nneRI2XXPAmclwnLt/YoC8aF/aTlwywHbc3H1Mmu4s7rxHnj1p8D/GHKWb1yCOPiH0I+Ng8TsYu8RwvzJdnALD9pk2bREzxqDcvI+H7hWepcBtxvCci0I1d3Hk/Bv6wwSy4Dbg92E/eSyJZXqnrtVAyCIAACIBAPAL6Bfp3hc9HjeeEG3/PbPjnTseyiR/wvLmSsYkOX8cb8fALDI9IRCYeKWdbngZqJP4SzyPq/EKLBAJeIQCBnrqWYhHCU8xZpPLoNPdB3N/8z//8j3AqUqDzKCmP8vHLPq99ZkETmficZhbUnCeLI55azOKLZ/jw1Gme7lyUQOT8WOCxmGcRxkKOd0TnvFh0GwKd7XizMBZ4/FGSN1vjj5tcNo8+PvXUU6Fdw9mWy+Tf+Hg13kiMpx+zYOe10Symikpcby7H4MSjktzfWjej4+uTneKuUncW6Dxln2db8a7xvJaZP6rw+m9eu19Uisf/22+/FR8juP2ZMc+04HXSvO+AMc0/mkDnD8UsjvmDB+9FwO3BzyrebZ/XTxsCnX3j9uE/9pvFonGEWyyBztdwfix4eZ04fzCJTFwm58lHnvF0fd67gAU9fzjgOOdlG0UlFukce8ZGgyxuWdRyXYtag85xzevf+XnMI+T8UYOFPseVMaON45M/IvEUeL5HOI6Nc9Dfffddcc+xz2zP7ccxxkI+EYHOdTQ+MPC9wfcRfzjgpQEcK8asl2R5pa7nQskgAAIgAAJFEdAv0L/9wB/Ez2orzk+1Jh6V4r/IxA9ungLHIxPWL/z8osNrMfkFITLxSwp/BeeHLz/E+YWTX55Y1Funq/oDJmrhZwIQ6H5uXefrxiPbLOB4dJ9HJf2aDIH+zDPP+LWKvqsX+jrfNSkqBAIgAAKuJKBdoOetedeVFVV1atybq8RojzVZp0Ja/53P4OUv7pEvlHxuLO9SHOuoFN4Jl89J5Slx/CWcd9DlfyvqTGHVesAeBOwmgJdWuwn7N38+K5pHbfkcap4Cz+uPeYo+nzse7cOmn0hAoHuvNdHXea/N4DEIgAAIeJGAfoH+9dte5FDI57QGV0qPoBsCnUfFef2mkXiKIU/Vs26WZPzGayovu+wycSwLH+fCU9j4uCKewsbT9JBAwCsE8NLqlZZyn588NZinlfNact6Mi3db52VBjz32mNi53c8JAt17rYu+znttBo9BAARAwIsE9Av0L1/zIodCPmf95QbpeiQyxZ03lOORc2PDHi7MOMuVBT+/qCKBgBcI4KXVC60EH0EABJIlgL4uWYK4HgRAAARAQIaAfoH+xZ87xHo9ZTXpolQF3iSON5DhXdyNxJvy8EYz0TaJ4+N4eAMc3oHZSLyDMa+55CmffFwMEgh4gQBeWr3QSvARBEAgWQLo65IliOtBAARAAARkCOgX6J+ZglPGAbfaZDWLfcRNNJ+NY9Z4gzee5s7HGfEuyXwecE5Ojtj9mIU3HyHEiXfD5aNgnn766dAU90GDBol1mHzMDBIIeIUAXlq90lLwEwRAIBkC6OuSoYdrQQAEQAAEZAnoF+gr5siW7Wq7rJa3KPvHo+d8TBqvJ2/YsKE445zP+eXER8/wMS/WY4/4mB8W9HxUCx8ZxMey8BExvOEcEgh4hQBeWr3SUvATBEAgGQLo65Khh2tBAARAAARkCegX6Mtny5btarusVj1c7R+cAwG3EMBLq1taAn6AAAjYSQB9nZ10kTcIgAAIgIBBQLtAP7z0RV/QzW7bxxf1QCVAwG4CeGm1mzDyBwEQcAMB9HVuaAX4AAIgAAL+J6BfoH883RfUstv19UU9UAkQsJsAXlrtJoz8QQAE3EAAfZ0bWgE+gAAIgID/CegX6Eue9wW17Evv8EU9UAkQsJsAXlrtJoz8QQAE3EAAfZ0bWgE+gAAIgID/CegX6IvMY8a8jC/7iru97D58BwHHCOCl1THUKAgEQCCFBNDXpRA+igYBEACBABHQL9A/eMYX+LKvvNcX9UAlQMBuAnhptZsw8gcBEHADAfR1bmgF+AACIAAC/iegX6C/N8kX1LKvGeSLeqASIGA3Aby02k0Y+YMACLiBAPo6N7QCfAABEAAB/xPQL9DfneALatnX3u+LeqASIGA3Aby02k0Y+YMACLiBAPo6N7QCfAABEAAB/xPQL9DfGu8LatkdBvuiHqgECNhNAC+tdhNG/iAAAm4ggL7ODa0AH0AABEDA/wT0C/Q3xvmCWnanh3xRD1QCBOwmgJdWuwkjfxAAATcQQF/nhlaADyAAAiDgfwL6BfrrY3xBLbvzw76oByoBAnYTwEur3YSRPwiAgBsIoK9zQyvABxAAARDwPwH9Av3VUb6glt11mC/qgUqAgN0E8NJqN2HkDwIg4AYC6Ovc0ArwAQRAAAT8T0C/QJ830hfUsrsN90U9UAkQsJsAXlrtJoz8QQAE3EAAfZ0bWgE+gAAIgID/CegX6HOG+oJa9i2P+qIeqAQI2E0AL612E0b+IAACbiCAvs4NrQAfQAAEQMD/BPQL9Jcf8QW17FtH+6IeqAQI2E0AL612E0b+IAACbiCAvs4NrQAfQAAEQMD/BPQL9Jn+2P08u6c/dqP3fwijhqkmgJfWVLcAygcBEHCCAPo6JyijDBAAARAAAf0CfYY/zg/P7u2P89wR4iBgNwG8tNpNGPmDAAi4gQD6Oje0AnwAARAAAf8T0C/QX/i7L6hl3/6kL+qBSoCA3QTw0mo3YeQPAiDgBgLo69zQCvABBEAABPxPQLtAP/T8X31BreQdE31RD1QCBOwmgJdWuwkjfxAAATcQQF/nhlaADyAAAiDgfwL6BfrUgb6gVvKup3xRD1QCBOwmgJdWuwkjfxAAATcQQF/nhlaADyAAAiDgfwL6Bfqz9/qCWsl7nvFFPVAJELCbAF5a7SaM/EEABNxAAH2dG1oBPoAACICA/wnoF+j/uNsX1EoOmOyLeqASIGA3Aby02k0Y+YMACLiBAPo6N7QCfAABEAAB/xPQL9An3ekLaiUHPeeLeqASIGA3Aby02k0Y+YMACLiBAPo6N7QCfAABEAAB/xPQL9An9PMFtZL3T/NFPVAJELCbAF5a7SaM/EEABNxAAH2dG1oBPoAACICA/wnoF+hP9vUFtZJ/n+6LeqASIGA3Aby02k0Y+YMACLiBAPo6N7QCfAABEAAB/xPQL9Af7+0LaiUfnOGLeqASIGA3Aby02k0Y+YMACLiBAPo6N7QCfAABEAAB/xPQLtAPju3pC2qlhsz0RT1QCRCwmwBeWu0mjPxBAATcQAB9nRtaAT6AAAiAgP8J6Bfoj93qC2ql/udlX9QDlQABuwngpdVuwsgfBEDADQTQ17mhFeADCIAACPifgH6BPuoWX1ArNWyOL+qBSoCA3QTw0mo3YeQPAiDgBgLo69zQCvABBEAABPxPQL9AH3GTL6iVGjHXF/VAJUDAbgJ4abWbMPIHARBwAwH0dW5oBfgAAiAAAv4noF+gD+3qC2qlHn3VF/VAJUDAbgJ4abWbMPIHARBwAwH0dW5oBfgAAiAAAv4noF+gP9LFF9RKjZ6vXI/JkyfTE088QTt37qQGDRrQpEmTqFWrVjHzOXLkCI0aNYpefvll2rVrF5166qn0yCOPUJ8+fZTLxgUgkCoCeGlNFXmUCwIg4CQB9HVO0kZZIAACIBBcAtoF+oEHO/uCZunHX1eqx7x586hHjx7EIr1ly5b03HPP0fTp02ndunVUu3btqHl16NCBdu/eTY899hidccYZlJubS8eOHaMWLVoolQ1jEEglAby0ppI+ygYBEHCKAPo6p0ijHBAAARAINgH9Av2BTr4gWvqJN5Tq0bRpU2rUqBFNmTIldF39+vWpY8eONHbs2EJ5LVy4kLp3706bNm2iihUrKpUFYxBwEwG8tLqpNeALCICAXQTQ19lFFvmCAAiAAAhYCegX6Pdf7wvCpSe8LV2P/Px8KlmyJM2fP586dTI/UAwcOJDWrFlDy5YtK5TX3XffTT/88ANddNFFNHv2bCpVqhRdf/319Oijj1J2drZ02TAEgVQTwEtrqlsA5YMACDhBAH2dE5RRBgiAAAiAgHaB/seg63xBtcTjC4jXiFtTZmYm8V9k2rFjB9WsWZNWrFgRNj19zJgxNHPmTNqwYUOha6666ipaunQpXXbZZTRs2DDas2cPsWi/5JJL6MUXX/QFQ1QiGATw0hqMdkYtQSDoBNDXBT0CUH8QAAEQcIaAfoF+37XOeG5zKf9b8SIaOXJkWCnDhw+nESNGxBToK1eupObNm4d+Hz16tBgdX79+faFrrrjiClq+fLnYHK5cuXLi99dff51uvPFGOnjwIEbRbW5fZK+PAF5a9bFETiAAAu4lgL7OvW0Dz0AABEDATwT0C/S7r/YFnxIT35QeQU9kinvPnj3FiPtPP/0U4vX999/TOeecI6a+n3nmmb7giEr4nwBeWv3fxqghCIAAEfo6RAEIgAAIgIATBPQL9LuucsJv28soM3WhUhm8SVzjxo3FLu5GYrHNO7VH2yTu+eefp0GDBomd20uXLi0ueeutt6hz58504MABjKAr0YdxKgngpTWV9FE2CICAUwTQ1zlFGuWAAAiAQLAJaBfo/+13hS+Ilp22SKkexjFrU6dOFdPcWYBPmzaN1q5dSzk5OTRkyBDavn07zZo1S+TLIpx3eW/WrJmYSs9r0Pv27Utt2rQR1yGBgFcI4KXVKy0FP0EABJIhgL4uGXq4FgRAAARAQJaAfoF+++WyZbvaruwLi5X949Hz8ePH086dO6lhw4Y0ceJEat26tcinV69etHnzZrExnJF4bfqAAQPEVPdKlSpR165dxZno2MVdGT0uSCEBvLSmED6KBgEQcIwA+jrHUKMgEAABEAg0Ae0CfX/PS30BtNzMJb6oByoBAnYTwEur3YSRPwiAgBsIoK9zQyvABxAAARDwPwH9Ar2HTwT6bAh0/4c/aqiDAF5adVBEHiAAAm4ngL7O7S0E/0AABEDAHwS0C/R9t1ziCzLl53zki3qgEiBgNwG8tNpNGPmDAAi4gQD6Oje0AnwAARAAAf8T0C/Qu7XzBbXy8z72RT1QCRCwmwBeWu0mjPxBAATcQAB9nRtaAT6AAAiAgP8JaBfov3dp6wtqFeYv9UU9UAkQsJsAXlrtJoz8QQAE3EAAfZ0bWgE+gAAIgID/CWgX6L91auMLahXfWOaLeqASIGA3Aby02k0Y+YMACLiBAPo6N7QCfAABEAAB/xPQL9A7+ESgvwWB7v/wRw11EMBLqw6KyAMEQMDtBNDXub2F4B8IgAAI+IOAdmQX2TAAACAASURBVIG+9zp/CPRK70Cg+yPEUQu7CeCl1W7CyB8EQMANBNDXuaEV4AMIgAAI+J+AdoG+52p/CPTK70Og+z/8UUMdBPDSqoMi8gABEHA7AfR1bm8h+AcCIAAC/iCgX6Bf6ROB/gEEuj9CHLWwmwBeWu0mjPyDTmDIkCGUl5cXdAwpr39ubi5VqVIl5X4E3YGsrCwaO3Zs0DGg/iAAAj4moF2g517qD4FeZQkEuo/jHlXTSAACXSNMZAUCUQjgHkNYgIBJAPcDogEEQMDvBLQL9N3t/CHQq34Mge734Ef99BDAy5IejsgFBGIRwD2G2AABCHTEAAiAQHAIaBfou1q39QW9ap8s9UU9UAkQsJsAxIPdhJF/0AngHgt6BKD+VgK4HxAPIAACfiegXaDvvLidL5hV//fHvqgHKgECdhPAy5LdhJF/0AngHgt6BKD+EOiIARAAgSAR0C7Qd7Twh0CvsRICPUg3AuqaOAGIh8TZ4UoQkCGAe0yGEmyCQgD3Q1BaGvUEgeAS0C7QtzW9xBc0T/38I1/UA5UAAbsJ4GXJbsLIP+gEcI8FPQJQf4ygIwZAAASCREC7QP/lL5f6gl+tL5f4oh6oBAjYTQDiwW7CyD/oBHCPBT0CUH8IdMQACIBAkAhoF+hbGl3mC345X3/oi3qgEiBgNwGIB7sJI/+gE8A9FvQIQP0h0BEDIAACQSKgXaBvvuByX/Crs2axL+qBSoCA3QQgHuwmjPyDTgD3WNAjAPWHQEcMgAAIBImAdoG+6dwrfMGv7n8W+aIeqAQI2E0A4sFuwsg/6ARwjwU9AlB/CHTEAAiAQJAIaBfoGxte6Qt+p3/3gS/qgUqAgN0EIB7sJoz8g04A91jQIwD1h0BHDIAACASJgHaB/tM5/hDoZ6yDQA/SjYC6Jk4A4iFxdrgSBGQI4B6ToQSboBDA/RCUlkY9QSC4BLQL9A1nX+0Lmmetf98X9UAlQMBuAnhZspsw8g86AdxjQY8A1B8j6IgBEACBIBHQLtDX12vvC35n//AvX9QDlQABuwlAPNhNGPkHnQDusaBHAOoPgY4YAAEQCBIB7QJ93enX+ILfORvf80U9UAkQsJsAxIPdhJF/0AngHgt6BKD+EOiIARAAgSAR0C7Qv6t7rS/4Ndz0ri/qgUqAgN0EIB7sJoz8g04A91jQIwD1h0BHDIAACASJgHaB/m2d63zB77zN7/iiHqgECNhNAOLBbsLIP+gEcI8FPQKSq/+QIUMoLy8vuUxcdHVubi5VqVLFRR4l50pWVhaNHTs2uUxwNQiAgK8IaBfoa3Ku9wWgC7a87Yt6oBIgYDcBiAe7CSP/oBPAPRb0CEiu/oif5PjZfTXax27CyB8EvEdAu0BfXbuD9yhE8fjCrW/5oh6oBAjYTQAvF3YTRv5BJ4B7LOgRkFz9ET/J8bP7arSP3YSRPwh4j4B2gb7q1I7eoxDF44u2vemLeqASIGA3Abxc2E0Y+QedAO6xoEdAcvVH/CTHz+6r0T52E0b+IOA9AtoF+pc1O3mPQhSP/7L9DV/UA5UAAbsJ4OXCbsLIP+gEcI8FPQKSqz/iJzl+dl+N9rGbMPIHAe8R0C7QP6vR2XsUonjcbMfrvqgHKgECdhPAy4XdhJF/0AngHgt6BCRXf8RPcvzsvhrtYzdh5A8C3iOgXaCvrH6D9yhE8bjFzteU6zF58mR64oknaOfOndSgQQOaNGkStWrVKm4+K1asoDZt2lDDhg1pzZo1ce1hAAJuIoCXCze1BnzxIwHcY35sVefqhPhxjnUiJaF9EqGGa0DA3wS0C/QV1W70BbGWuxYo1WPevHnUo0cPYpHesmVLeu6552j69Om0bt06ql27dsy89u/fT40aNaIzzjiDdu/eDYGuRB3GbiCAlws3tAJ88DMB3GN+bl3764b4sZ9xMiWgfZKhh2tBwJ8EtAv0T6p18QWp1rvmK9WjadOmQmhPmTIldF39+vWpY8eORZ5v2b17dzrzzDMpIyOD3nzzTQh0JeowdgMBvFy4oRXgg58J4B7zc+vaXzfEj/2MkykB7ZMMPVwLAv4koF2gL63qD4Hedre8QM/Pz6eSJUvS/PnzqVMnc5O8gQMHCsG9bNmyqNEzY8YMMeL+6aef0mOPPQaB7s97zPe1wsuF75sYFUwxAdxjKW4AjxeP+HF3A6J93N0+8A4EUkFAu0BfUrVbKuqhvcyLt86iI0eOhOWbmZlJ/BeZduzYQTVr1iReS96iRYvQz2PGjKGZM2fShg0bCl3z448/0sUXX0zLly+nevXq0YgRIyDQtbciMnSCAF4unKCMMoJMAPdYkFs/+bojfpJnaGcOaB876SJvEPAmAe0CfbFPBPqK/vVp5MiRYa06fPhwIaRjCfSVK1dS8+bNQz+PHj2aZs+eTevXrw+75Pjx49SsWTO6/fbb6a677hK/QaB78waC10R4uUAUgIC9BHCP2cvX77kjftzdwmgfd7cPvAOBVBDQLtAXVu2einpoL7Pd1pnSI+iqU9z37dtHFSpUEOvOjXTixAkqKCgQ/7Zo0SK65JJLtNcJGYKAHQTwcmEHVeQJAiYB3GOIhmQIIH6SoWf/tWgf+xmjBBDwGgHtAv1fPhHo7Xe/otSWvElc48aNxZpyI51zzjnUoUOHQpvEsRjn3d2tia/76KOPaMGCBXTaaadRqVKllMqHMQikigBeLlJFHuUGhQDusaC0tD31RPzYw1VXrmgfXSSRDwj4h4B2gf5e1Zt8Qeea3XOV6mEcszZ16lQxzf3555+nadOm0dq1ayknJ4eGDBlC27dvp1mzZkXNF1PclXDD2EUE8HLhosaAK74kgHvMl83qWKUQP46hTqggtE9C2HARCPiagHaB/la1m30BrMOufyrXg0fBx48fTzt37qSGDRvSxIkTqXXr1iKfXr160ebNm2np0qUQ6MpkcYGbCeDlws2tA9/8QAD3mB9aMXV1QPykjr1MyWgfGUqwAYFgEdAu0N/0iUDvmIBAD1booLYg8CcBvFwgEkDAXgK4x+zl6/fcET/ubmG0j7vbB96BQCoIaBfoC6rfkop6aC/zxp1ztOeJDEHAjwTwcuHHVkWd3EQA95ibWsN7viB+3N1maB93tw+8A4FUENAu0Of7RKB3gUBPRTyiTA8SwMuFBxst4C7zniB5eXmeoZCbm0tVqlTxjL9ZWVmFNkf1jPM+dBR9tLsbFe3j7vaBdyCQCgLaBfrcGv4YQb9pB0bQUxGQKNN7BPBy4b02C7rHiFl7IwB87eWrmjvaQ5WYs/ZoH2d5ozQQ8AIB7QJ9To1bvVDvuD7esuPluDYwAIFECXhtBK+oenptdK+oumDkL9GI9tZ1eCG2t73A116+qrmjPWITc8Oz2C3PUDz/VO8s2IOAfQS0C/SXfSLQb4VAty/qkDM2VnNpDOBF1qUNo9kttLNmoBHZga+9fFVzR3vEJgY2JhuwUL2zYA8C9hHQLtBfqumPEfRe2zGCbl/YIWc8CN0ZA2gXd7aLbq/QzrqJhucHvvbyVc0d7QGBLhMziBMZSrABAWcIaBfoM3wi0HtDoDsTgQEtBQ9CdzY82sWd7aLbK7SzbqIQ6PYSTS53xDsEukwEIU5kKMEGBJwhoF2gTzvVHyPo/bZhBN2ZEAxmKXgQurPd0S7ubBfdXqGddROFQLeXaHK5I94h0GUiCHEiQwk2IOAMAe0C/TmfCPQ7IdCdicCAloIHoTsbHu3iznbR7RXaWTdRCHR7iSaXO+IdAl0mghAnMpRgAwLOENAu0KfW8scI+l2/YATdmRAMZil4ELqz3dEu7mwX3V6hnXUThUC3l2hyuSPeIdBlIghxIkMJNiDgDAHtAv0Znwj0eyHQnYnAgJaCB6E7Gx7t4s520e0V2lk3UQh0e4kmlzviHQJdJoIQJzKUYAMCzhDQLtD/4ROBPgAC3ZkIDGgpeBC6s+HRLu5sF91eoZ11E4VAt5docrkj3iHQZSIIcSJDCTYg4AwB7QJ9Ym1/THH/61ZMcXcmBINZCh6Esdt9yJAhlJeXl5LAyM3NpSpVqjhedlZWFo0dO9bxcoNaIO4/e1sefO3lq5o72gMCXSZmECcylGADAs4Q0C7Q/9cnAv1vEOjORGBAS8GDEC9MVgKIB2c7AvA2edvxQcyuD134kJXYfYJ4x/NGJnIQJzKUYAMCzhDQLtDH5/hjBH3wFoygOxOCwSwFD0K8MEGgp+7ex/1nsvcSCy/5mrroLlwyuOF5IxOPiBMZSrABAWcIaBfo43wi0B+CQHcmAgNaCh6EeGGCQCeyY/RWpkuxa4S3qLLdOvrrpb7IS77KxKFTNuDmv+eNHX2nHf2iW/s9p+49lAMCiRLQLtDH+kSgD4FATzSmcJ0EAbww+e+FSaLZY5oENR6CVG+31tWtfkW7WbzkazL9gXGtLhGmQ3j5VWh5Naa84rdX/NRxvyIPENBJQLtAfzTnFp3+pSyvoVvmpKxsFOx/AnhoQaBjBJ0oSPeBW+vqVr8g0N11f3gpTlTeILxaL6/47RU/VWIGtiDgBAHtAn2UTwT6MAh0J+Iv5WXoGqFQrYiOEQ3VMr0yAhLEB3oQ68zxG6R6u7WubvULAt1d94eX4kTl2ejVennFb6/4qRIzsAUBJwhoF+jD6vhjBH3UZoygOxGAqS4jSA8Pr9TVK37qjN0g1hkCXWcEJZ6Xl2LPS74m3iLmlW6qr5t80cHWyMOr9fKK317xU2dMIS8Q0EFAu0D/nzo36/Ar5Xk8tvmfKfcBDthPIEgPD6/U1St+6ozOINYZAl1nBCWel5diz0u+Jt4iEOg62Mnm4dWY8orfXvFTNl5gBwJOEdAu0If4RKCPhUB3KgZTWo7XHh7JTMlPZlq9k9PjvdYmOgI4iHWGQNcROcnn4UTsJdNvWWuYTB9m5ONkX5Zs6zjRNrI+uskXWZ9l7LxaL6/47RU/ZWIFNiDgJAHtAv3BOjc56b9tZT2+ea5teSNj9xDw2sMjVf46Wa6TZbklEoNYZwh0d0SfE7HnRBmyNN3kSzyf3eSrm3yJx03ld6/Wyyt+e8VPlZiBLQg4QUC7QB/sE4E+HgLdifhLeRlee3ikyl8ny3WyrJQH4P87EMQ6Q6C7I/qciD0nypCl6SZf4vnsJl/d5Es8biq/e7VeXvHbK36qxAxsQcAJAtoF+v11ujvht+1lTNj8iu1loIDUE/DawyNV/jpZrpNlpT4C//QgiHUOWr3d2sZO+OVEGbL3spt8ieezm3x1ky/xuKn87tV6ecVvr/ipEjOwBQEnCGgX6H/1iUCfCIHuRPylvAyvPTxS5a+T5TpZVrIBiLW1yRH0UlsnV1P3foRxog2cKEO2fdzkSzyf3eSrm3yJx03ld6/WK5V+qzz3VPaN8NL+ECoxBlsQSISAdoF+X51uifjhumue3jzPdT7BIf0EUvmQS6Q2qfLXyXKdLCuRNrBe4yZf3eSLLFcv+ixbt0g7t9bVCb+cKEO2XdzkSzyf3eSrm3yJx03ld6/WK5V+21W2XfmqxANsQcAtBLQL9Ht9ItCfgUB3S4za6ofXHgip8tfJcp0sK9ngcspXmREL2ZEKN41SOMUv2XbWcb1b6+qEX06UIdtGbvIlns9u8tVNvsTjpvK7V+uVSr/tKtuufFXiAbYg4BYC2gV6/zpd3VK3pPyYsvnVpK7Hxd4g4LUHQqr8dbJcJ8tKNkqd8lVnOTrz8gq/ZP3Ucb2buFvr44RfTpQh20Zu8iWez27y1U2+xOOm8rtX65VKv+0q2658VeIBtiDgFgLaBfqddbq4pW5J+fHc5vlJXY+LvUHAaw+EVPnrZLlOlpVslDrlq85ydOblFX7J+mlcLzOTIVZZsjMcol1v56wHJ+LBiTJk20a2HexkLhuPTnBjX2TYeYmbLF+2c4qxik862sPO+LWLmV35qrCHLQi4hYB2gd7PJwJ9GgS6W2LUVj+89kBwwt9oLwexXs7seAlwoo66gsopX3WWozOvZDm6yReZuqTKXzvLtTNvg6kXy3DC53gx55QPOsvRmVc8Pjp+d6O/OnzSkUcsvnblbVe+OuIEeYCA0wS0C/Q+dW50ug62lPfi5gXK+U6ePJmeeOIJ2rlzJzVo0IAmTZpErVq1iprP66+/TlOmTKE1a9bQkSNHhP2IESPoyiuvVC4XFyROwGsPBCf8VSlDxVa2lezIU7ZsVTunfFUpJ97oi8xImB0fXqKxVamXatvYYZ8qf+0s1868IdCTi0In2oY91FmOzrySoyd3tRv91eGTjjwg0OViCFYgYAcB7QK9d50b7PDT8TxnbH5Nqcx58+ZRjx49iEV6y5Yt6bnnnqPp06fTunXrqHbt2oXyGjRoENWoUYPatWtH5cuXpxkzZtCTTz5Jn3/+OV144YVKZcM4cQJ2PsQS9yr2lU74q1KGiq0sDzvylC1b1c4pX1XKUbF1+gUssjwdvqq2WTL2qfLXznLtzBsCPZlo0yuci/JEZwzozCs5enJXu9FfHT7pyMPp54OdPstFA6xAwD0EtAv0Hjmd3VO7JDyZveV1paubNm1KjRo1EqPiRqpfvz517NiRxo4dK5UXj6J369aNhg0bJmUPo9gE4o0iGlfKjCayrVMjivHa1IkHmEoZKrbx6ubky7ysL/Hs7Kh/tDJVylGxtesFDPdfvMhR+11Hm9rV1jI1sdN/u/oNJ3yOx84pH3SWozOveHwif5ftd6zXyb4DGNc48S6gg6GOPJzuM+z0WTWWYA8CqSagXaDf6hOB/sIPc8XUc2vKzMwk/otM+fn5VLJkSZo/fz516tQp9PPAgQPFFPZly5bFbecTJ05QnTp1aPDgwXTvvffGtYdB0QR0d/S684vmvczLRbyXCR0vDyp1VbGVqR9ziVdHJ1+U4t1nKvWPl1dRv6uUo2Ibq02itYFKbKn4IMNFd34yZUazSZUfOsq1q62ZU7x7O949rRJbTokGHczjxVmy3Dh/p9m5xedU3Z9OxIVqGU7vG6PqX2RbqfRFumI83r2I30HAbQS0C/Sbc0yB6rbKqvhTr/f5NHLkyLBLhg8fLtaJR6YdO3ZQzZo1acWKFdSiRYvQz2PGjKGZM2fShg0b4hbNa9fHjRtH33//PVWpUiWuPQyKJpDsAyQyd9352fVyocNPlTzsspWJb5WyZfJLxMYpH1TK8ZqtDHeVOsnkl6hNqvzQUa5KHiq2zFLV3o7+VcWHeCKT/fPKRwWVeseKe5U8VGx1lKdyr+rwLV5sxIsLHYJStR4q9iq2drWfqg+q9ioxA1sQcCsB7QK9W05Ht9ZVya9ZP8yTHkE3BPrKlSupefPmoXJGjx5Ns2fPpvXr1xdZ9ty5c6lv37701ltv0WWXXabkJ4yjE1Dt0JN9KDs9imHXg1P1ZVuFs4qtTFzrzk+mTDuEhUy5KnX1mq3u+svkF80mXh/glGizazTMrrhQ7TOisVfxTUffp1qeG9pER7115KHKzq72titfN9RP1QcVexVblZFulXcgFR909C+JPhNwHQikkoB2gd4lp0Mq66Ot7Plb3pLOK5kp7ry5XO/evcX0+GuuuUa6TBgWTcDpB4Bqecm+XKg8OLksux6eKvVWsZWJb935JSLanBhNUX1BUeHiBluuXzxxHI+zSnzrECluycMt7afiR7J9nw72qv6q2Ntlq9Lnq94PXvTZDXGkIxZ11MOu9nNDvqrPP5l3B9iAgBcIaBfonXOu90K94/r4+pa349pYDXiTuMaNG4td3I10zjnnUIcOHWJuEscj53369CH+X95MDkkfAZUHi44HgGp5yT6UVctTsXeDbTzBxvwg2qLfL25oPxUfvHj/2fVirspChbNdtqo+u2E0WoWFav1U8naDrRfr55b7z66PJipx4cX2s7N++t4ikRMIpJaAdoHeqfZ1qa2RptLf2PqOUk7GMWtTp04V09yff/55mjZtGq1du5ZycnLECNH27dtp1qxZIl8W5bfddhs99dRT1LmzufN9dnY2lStXTqlsGBcmYOcDAC+YJm8VznbZsjduaBO3vDTaxdmufFVfMN3Q1iov5lw/lRFNuzjbla9q+9nlh135on7hPZtdnFXyxf3nvjZRaT8VW9X7D+/DIOAXAtoF+nW1r/UFm3e2vqtcDx49Hz9+PO3cuZMaNmxIEydOpNatW4t8evXqRZs3b6alS5eK/27btm3U3d179uxJL730knLZuCDxB5bqA0Dl4eIGW9Qv8dhQaT+Vl0YVwYb2c6b9VNpaxRbth/bT8fFOJeZUbBGfiE8/xSfehUHALwS0C/Rra/tjHfW7W9/zSxsHsh54QfH2SwfaD+3n5pdGxCfiE/EZ/9VC5T6xyxYfILx9r6q2X/yohAUIeIOAdoHevnZ7b9Q8jpf/2vovX9QjqJVQedirPgBU8naDLeoXrBcUN8Scig+IT8Snm8Uu4hPxifiM/yap0uer2Kref/E9hQUIeIOAdoF+Za2rvVHzOF5+8Mv7vqhHUCth5wNAJW832Ko+4Nzgs4oPqB9eoPECHb+nV7mnVGxx/+H+w/2H+0+lz1CxVe1f4rcELEDAGwS0C/Qral3ljZrH8XLRLwt9UY+gVsLOB4BK3m6wVX3AucFnFR9QPwgECIT4Pb3KPaVii/sP9x/uP9x/Kn2Giq1q/xK/JWABAt4goF2gX3rqFd6oeRwvl2xb5It6BLUSdj4AVPJ2g63qA84NPqv4gPpBIEAgxO/pVe4pFVvcf7j/cP/h/lPpM1RsVfuX+C0BCxDwBgHtAr3dqZd7o+ZxvPx422Jf1COolbDzAaCStxtsVR9wbvBZxQfUDwIBAiF+T69yT6nY4v7D/Yf7D/efSp+hYqvav8RvCViAgDcIaBforWte6o2ax/Hyk+1LfFGPoFbCzgeASt5usFV9wLnBZxUfUD8IBAiE+D29yj2lYov7D/cf7j/cfyp9hoqtav8SvyVgAQLeIKBdoLfyiUBfDoHujQiO4aWdDwCVvN1gq/qAc4PPKj6gfhAIEAjxu2uVe0rFFvcf7j/cf7j/VPoMFVvV/iV+S8ACBLxBQLtAb1nzEm/UPI6XK7Z/5It6BLUSdj4AVPJ2g63qA84NPqv4gPpBIEAgxO/pVe4pFVvcf7j/cP/h/lPpM1RsVfuX+C0BCxDwBgHtAr1ZjbbeqHkcLz/bsdQX9QhqJex8AKjk7QZb1QecG3xW8QH1g0CAQIjf06vcUyq2uP9w/+H+w/2n0meo2Kr2L/FbAhYg4A0C2gV6kxptvFHzOF5+sWOZL+oR1ErY+QBQydsNtqoPODf4rOID6geBAIEQv6dXuadUbHH/4f7D/Yf7T6XPULFV7V/itwQsQMAbBLQL9Iuqt/JGzeN4uWrncl/UA5UAARAAARAAARAAARAAARAAARDwBgHtAr1R9Yu9UfM4Xn6989++qEcQKlGsRE3pavar0VLa9gidkLbNL5C35UxvzSshnXdusWLStofSpU2pwrECaeMj6WnStmx4Udbv0vZlKx+Wtj12JEPatljmcWnbL7ZUk7Zlw4oFR5XsZY0XZMs34LWH5dtkS3H5GJL11bDr9a8e0pcUnLCHGx0/Ju0DG6aVqiBvn1Fc3va4TfVT7F8KDv8h73O6fMylZZaSz1eFW5q8D8KBY0fk/SiRLW+bL98XkUK+x+Y+I+8Dx2e5svL2R/KlbdPKK+RbsbJ0vnRYgRvnqhBzGU2vkfdDwbJApa2LZyrkfNL0qHx8FuzdJp+3AreCvIPS+aZVrCFtK/pPhXu74Ii8H6TQJlnNb1LyGcYg4DUC2gX6hdXkBZCbYa3etcLN7sE3CwEIdBMGBLrJAgLdZAGBHt5lQqBbeCi89EOgW7hBoJswINDDOxgI9BAPNwj0Xr160b59++jNN9+UfndevXo1jRkzhj755BPav38/1a5dm9q0aUMPPPAA1atXTzofGIJAogS0C/TzqjVP1BdXXfftrk9d5Q+ciU0AAh0CPVp0QKBDoMfqNSDQIdCjxobCCB5G0C0EIdAh0GN0tl4U6O+++y7dcMMNdOWVV9J9991Hp59+OuXm5tL8+fPpl19+oXnz5uGVHARsJ6BdoDes2sx2p50o4LvdnzlRDMrQQAACHQIdAr3oGwkj6OF8INAh0CHQ4zx8McXdBIQp7mHB4rUp7tYR9LZt29J5551HWVlZNH36dCpRogTdddddNGLECFHHQ4cOUU5ODl188cX0xhtvFLpJeCS+fPnyGt5ckQUIFE1Au0CvX6WJL5h/n/uFL+oRhEpAoEOgQ6BDoKv0dRDoEOgQ6BDo0n0GBLrrBHpao8505Ej4Wv/MzEziv8gUKdB5+vr9999PN998M3366afEv3/wwQd0+eWXC1HeuXNnWrlyJTVv7o8ZwdJxDkNXEdAu0M+u8hdXVTBRZ9bnfpnopbiuCAJDhgyhvLw8LYwmTpwo8oFAh0CHQIdAV+lUINAh0CHQIdCl+wwIdNcJ9HEfbKCRI0eG+TV8+PDQSLj1h0iBfvz4cVq+3DypqUmTJnTJJZfQuHHjaPz48fTggw/Sb7/9RhUqKGwmKh1MMAQBOQLaBfqZpzSWK9nlVj/++pXLPfSme6rnX8rUEgIdAh0CHQJdpq8wbCDQIdAh0CHQpfsMCHTXCfRkRtAbNGhAzz77bKhOHTp0oEqVKtGLL75Ijz/+OD300EMQ6NI3BwztIqBdoJ9euZFdvjqa78Y9XztaXlAKg0D/s6VxzJoZ8ThmzWSBY9YS7AlxzFoYOByzZsGhsNu6yjFP2CTOwhibxIV3XNjFPcTDbZvE8Rr0Cy64gCZNmhTysWPHjmJd+UsvvYQp7gk+gnGZfgLaBXrdyhfq9zIFOW7aszoFpfq/SAh0CPTIKIdAh0BPuueDQIdAjxVEEOghMjgH3QwSnINusvD7OeiRU9yLEugHDx6kOnXqYJO4pB/KyCBZAtoFek6l85L1yRXXb9n7rSv88JsTEOgQ6BDose9qjKAnmpWj1gAAIABJREFU2ONBoEOgQ6DHvXkg0CHQowUJBLo5gs583nrrLerSpQtdddVV4pi1M844g/bs2UOvvvoqbd26lV555ZW49xoMQCBZAtoFeu2K5ybrkyuu3/rbf1zhh9+cgECHQIdAh0DX3q9BoEOgQ6DHva0g0CHQIdCLnuJu8Fm1ahWNHTtWbCb33//+l2rVqiU2knvggQeEYEcCAbsJaBfoNSs0sNtnR/Lf/vtaR8oJWiF2CPT+dbpKY5y2Y4W0bafqF0nbFqd0aVs2vPR4KWn7vRnSppSbdlza+OK8NGnbHcXV6te+0m7pvEtWype2LTgu73N68QLpfDeurSRty4Zls8OPd1G6uAjjxUfld41tduyQdLFbC7Klbdmw5IkT0vaXvn+TtC0dPypvWyDvAyn4yw6klVQ4xzZdIfYV/ZCFUVAgf1+LPA/tl836JAyF+mXJ91tp6cXlfVBhfDLXgmPy919acfnYLzh6WNpnlXzzp5nrXWUKSC9fWsZM2BQcke8/0yvJ9y9pVU6R9+HgAWlbYZhRTNo+o3VHaVtS6DNUprinFSt8dFdRTqnEZ8GvW+Xrp8CNDsm3SVql6vI+sKXKpnl5B6XzVmmT7HZ9pfOFIQh4kYB2gV69/Dle5FDI55371vmiHm6rBAT6ny0CgW5GJgS6yQIC3dJjKbxsQ6BH9PQQ6CEgKkIaAt2MIwh0CwsI9PAOxmMCndegz5w5U9ShWLFiVLFiRTrvvPPopptuEmegp///B0I+H33o0KH0xRdfiFHzatWqUdOmTcWO75UrV6alS5dSu3bt6PfffxebyiGBgJ0EtAv0quXOttNfx/LevX+9Y2UFqSAIdAj0yHiHQIdAj9oHQqCHsGAEPTxCVEYoIdBNdhhBN1mojNZiBD2ih/agQN+9ezfNmDGD+Ax0/v8LFy4UU9hbtWpFb7/9tjhWrX79+nTdddfRwIEDhQD/+eefxW/3338/1a5dW1qg5+fnU4kSJYL0ao+62kBAu0A/pdxZNrjpfJa/7t/gfKEBKBECHQIdAj32jY4RdAsbCHQI9Bi3CgS6RWhiirsFhvyyGAh0E5vfp7hbd3G3dikfffQRXXrppTRt2jQxQs4bwx0+eWQgj7JHps2bN9Npp50W9s89e/YUR7Px0W0NGzYUonzWrFnE56wvW7YsAG/0qKKdBLQL9Mpl69npr2N57/nvD46V5aWChgwZQnl5eQm7nJubS3PmzEn4+mgXYg26SQVr0E0WWINussAa9PCeA2vQLTywBt38EII16CEWmOJuEbCY4h7egXpwBH3fvn305ptvFnqF5CPXatSoQcOGDaPmzZuLndpvvPFGSksL3++GR955d/cbbriBNmzYQGXLlqXs7GwqV66cEOhfffUV9e/fn26//XYqKCigs8/2x2xirS/ryEyJgHaBXqG0P3Y3/P3AT0ogg2Kc7Ah4stdDoBcdaRDoEOjRIgQCHQI9Zs8BgQ6BHiU4INAh0GP2GS4Q6OktetCRI+GbRWZmZhL/RaZYI+hs1717d/r2229p3bp19Mgjj9D48eOF+G7SpInYtf22226jqlWriixjrUFngb5//37iNexIIKCLgHaBXq706bp8S2k++w9sTGn5bi08WYFtvT7Z0fiJEycKTBhBN6MFAh0CHQI9fu+JEXQLIwh0CHQI9CI7DaxBj8DjAoH++LJtNHLkyDDHhg8fTiNGjFAS6N26daPvvvuO1q798+SmvXv3Ek99/+yzz8SIO69N/+STT+jcc88tUqCfeeaZYqo8EgjoIqBdoJcuGb5GQ5ejTudz4NDPThfpifJ0CvRk8zKAQaBDoEe7eTDF3aSCEfTwCIFAh0CP1mdgF3eTCkbQLSwwxT38dnGBQNc1gs67ufMGcO+++26hLoE3e7vwwgvpoosuErvAFzWCzlPlJ01SO07REy/9cDJlBLQL9FIl66SsMjoLPnhos87sfJNXsqLaen2yeUGgFw4rjKCbTCDQIdBjdbwQ6BDoEOhFv5ZAoEOgx4wQFwh0lXPQ420S9+KLL1Lv3r2jVvf6668Xm78tWLCAVq5cSS1btqQ9e/ZQpUqVQvY8xR0C3TcyxzUV0S7Qs7Jqu6ZyyTiSl7dV+fLJkyfTE088QTt37hS7OPLXND7CIVbiXR75+AaeWsObVAwePJjuuusu5XKdvCBZUQ2B/mdr4Rx0M2pxzJrJAru4W3oz7OIegoFj1sKfctjF3eRRgF3cLTCwi3sIxqED0q+GQdjFPdYxayyueSr7+++/T6+88opYk16vXj2x0ds777xDDz30kDierUePHrR9+3aqVauW+O/27duLTeJKly4tNomDQJcONxhKEtAu0DOzakkW7W6zI3m/KDk4b948cQOzSOcvbM899xxNnz5dbDzB02ciE5+vyMcy9OvXj+68805asWIF3X333TR37lyxS6RbEwR69JYpTulKTQaBDoEeLWAg0CHQo8UFBDoEeqwHDAR6Yn0GjlkzuQVBoPMUdU58hFqFChXo/PPPp5tvvpn4qLT09HTatGkTjRs3ThyP9ssvv4jN5nhdOb+X8wi8kR599FHxns+CnzeQM45Zg0BXegWGsQQB7QK9ROapEsW63yT/yDYlJ5s2bUqNGjWiKVOmhK6rX78+dezYkcaOHVsorwcffJDefvtt+v7770O/8ej5N998Q59++qlS2U4au1Gg96lzozSCPwqOStu+sXOVtO0V1c6XtmXDO/PLS9v/niEv/n/PkM6Wzjsiz+K39MLnghZVUvPaO6Udya58XNq24Ji0KaUpuPzjanO6mkwJ5UolftRgUfkvyasoU7ywaZn2h7Tt7iPZ0raqhm0X3SZ/yXGFBpTPlei4fCxztmml5TmTyiZqdtVPZTbByfoVHNonT0+hfmmZpeXzzVC4AVVs2YN8hfuvRJa8z8fy5W2LlZC2PTrzaWlbNkwvX1baXkWgp1UoJ51vWkWFPvHwQel8haFCe6df3FE+b5X7JP+wfL4KbS0yVYijE3vkB4PSMopL+1xwWP75kFaphnS+qu1HeQqxcVT+/stq1UPNZ1iDgMcIaBfoxUrU9BiC6O4e/GOT9BEOvJFEyZIlaf78+dSpU6dQhgMHDqQ1a9aIL3KRqXXr1mLziaeeeir00xtvvEFdu3alQ4cOUfHi8h2xk8Ah0KPThkAP5wKBnthdCYGeGDcI9HBuEOgWHhDoIRgQ6Ja4gEA34yIAAj03N5eGDh0qprLz6Lcxis67vvP553Xq1KEtW7aIAbJmzZqF2AwaNEi8x/MGcZzYnqfE878hgYCdBLQLdDuddTJvvgllj3DYsWMH1axZU0xTb9GiRcjNMWPGiJ0fN2zYUMh1XuPC02Yefvjh0G/GBhScX/Xq1Z2srnRZEOgQ6DLBAoEuQ6mwDQR6Ytwg0CHQY0YOBDoEerTggEAPlEDn/aCOHj0qZrTWrVtXiPQlS5YQ7+J+zTXXCIHO/8bnn1sH1SDQE3wm47KkCUCgx0B45MgR6RF0Q6CzwOYvcUYaPXo0zZ49m9avXx9VoPOukXwWuJFY4F988cVik7lq1aol3bh2ZJCsQLeefc5fNOfMmZO0m5jibiLEFHeTBaa4mywwxT28m8EUdwsPTHE3YShMTSaFac+Y4h7xmMcU9xAQTHG3xIZNU9z37dsnRsx5FLxNmzZR3zlZoPOSVF6myrNZeRM4ThDoSb+iI4MECUCgJwjOehmmuCcGMVmxb5QKgQ6BHi0CIdAh0GP1TBDoEOhRYwMCPYQFa9AtEaLwMUZcpRBHEOj2C/Rjx44Jgd63b1+xERxvABeZWKCzGOcNnFnIr169WmweB4Ge2Ps9rkqeAAR68gxFDrxJXOPGjcXujkY655xzqEOHDjE3ieMjHHiXdyP1799frGvx8yZxVtwQ6HLBh03iTE7YJM5kgU3iLPcPNokL60ywBt2CA1PcTdGNTeLMwMAUdzMuPLgGPa1JV+lZrlzR1157TZyadPjwYbGhM4+k85FqPMWdkyHQb7nlFjr99NPp2WefFSczQaDLvafCSj8BCHRNTI1j1qZOnSqmuT///PM0bdo0ccZ5Tk6OmMrOZyjOmjVLlGgcs8ZHrHGnwaKcd3H3+zFrsQS6deq7bJNMnDhRmGIE3SSGKe4mC4ygmywwxT28V8EIuoUHpribMBRGPjHF3RJD2MU9vINRiCOMoFvQKUxxH7dko/Q+UUYJeXl5tHz5cvG+vXDhQvriiy/Ecci8H5Qh0FmQjxo1Spx1zvtHDR48GJvEyb6Uw04rAQh0jTh59Hz8+PFiDTmfcc4Ckndr58QdwObNm0M7QfK/8UYUPIrMIr5GjRrER6+xSHdz0jXqzXW05pVMvhDoEOjR7hkIdAj0WH0pBDoEetTYUBBWEOgQ6DHf1RTiCAI9MYGuOoIera14yvvixYvF7u1WgX7gwAExis4DR/zejl3c3axK/OsbBLp/29aWmiUjpCMdgkCXayJMcTc5YYq7yQJT3C33D6a4h3UmmOJuwYEp7iEYOGbNEheY4m7GhQenuOs4B33ChAnEpy3t2bMnTKAzmGeeeUaM0F933XW0adMmHLMm97oKK40EINA1wgxCVhDo0VsZ56CHc8Exa4n1BjhmLTFuOGYtnBsEOgR6tDsJAh0CPWpc+Fyg7927l7p06UJ9+vQRa87LlClDq1atogEDBogj1l544YVCAp2PZKtfv75Ymsp7TFnPQeelqLys1ZpKly5NZ5xxRoIPMFwGAoUJQKAjKpQIQKBDoMsEDAS6DKXCNhDoiXGDQIdAjxk5GEE3R0qxSZwZJhhBN+PC5wKdj00eMWIELVq0iDZu3CjOQ69Vq5YQ7Q8//DBlZ2cXEugMh4X4zTffLDaUswp0HlmPTFabBJ9iuAwEwghAoCMglAjoFOi6zkS/NaezdB1OUIG07b6CI9K2i3Z9I23Lhu9WaCVt/3tGhoJtmrTtWflHpW33p8n7wJn+pdZu6byzKx+Ttj2RL21K6SXkbX9YU1ne+KRl2Wz52CgokG+TD4+Xk/ajTcEf0rY780tK26oaXra4l/QlBSfkY046UzY8Lh9DbJ5WqoJ89ukKsX/iuHy+KpYFJ1SsqeDQfiV7WeO0rDKypkQKZ12TCmP2QEVclciW9/mo/H1NxQsf1RSroGP/fFbeB47PsqWl7QuOyHeKaRXKS+erdszaIel8haHCMy29+XXyeZ9QuE9UYkihrYWzCnF0Yu8v0vVLyygubVtwWP75kFaxhnS+f7ZfMXn7IwflbRU2ictqeYt8vrAEAQ8SgED3YKOl0mWdAt1aj2TyhUA3Sf6eIS8GIdBNbhDoifcqEOgWdhDoJgyVl3gI9LAbEALdxAGBbrKAQDdZqAr03NxcGjp0KL3//vu0e/ducS76+eefL0bW+eQl3iSON4vjHd6bNWsWKijaMWvGCHpaWhpVq1aN2rVrJ85X51F5JBDQRQACXRfJgOSTjJAuClEy+UKgQ6BHiy2MoJtUMIIeHiEYQU/sgYURdAs3hVFVjKBHxBtG0ENAMIJuiQ0bR9BbtWolpraPHTuW6tatK0T6kiVLxJp0XofOAp3/rUmTJuKEJSNFE+gLFiygDz/8kE6cnLHBU+bvueceKlWqlBD3SCCgiwAEui6SAcknGSENgW4SwBR3kwWmuJssMMU9wY4UU9zDwGGKuwUHpriHYGCKuyUuMMXdjAufT3Hft2+fGDHndeS8VjxaYoHesWNHmjJlCr3xxhvUvn17YRZNoL/55pvi6DUj/eMf/6D77ruP9u/fT2XLlk3wIYbLQCCcAAQ6IkKJAAR6dFxYgx7OBWvQTR5Yg25hgTXoSv1tyBhr0MO5qYgrCHQI9Gh3nUoMKcyWEEVhDbpJ3AVr0I8dOyYEOp97zlPRMzML7x9hnIP+888/CyG/evVqSk9PjyvQd+3aRTfddBMtX75cCHQeSUcCAR0EINB1UAxQHhDoEOgy4Q6BDoEeLU6wSZzM3RPFBgIdAj1G6GCTOAsYbBJnftPz+SZxaRfdSLw7uzWx8I4mvtnmtddeo379+tHhw4epUaNGYiS9e/fuYoo7J0Og33LLLXT66afTs88+Sz169Igq0B999FGx8ztPcef8OPEI+lNPPZVgB4/LQKAwAQh0RIUSAbsEunVHd1mHJk6cKEyxBt0khk3iTBZYg26ywBr08F4Fa9Ble9kIbtjF3QSiMKqKNegR8YY16CEgWINuiQ2FNejjFv9IkcedDR8+XGz6Fivl5eWJkW5eK75w4UL64osvaPr06dSrV6+wY9ZGjRpFM2bMoA0bNtDgwYPFdHbrMWuvvvoqvf322+IDwVtvvUXz588X+fJZ6EggoIsABLoukgHJxy6Bngw+CHQI9GjxA4EOgR6rX4FAT6zHxSZxFm4Q6CaMwzhmLeyOwhR3E4dNU9xVR9Cj9Xg85X3x4sVi93ZjBJ3XnB84cECMovPA0ebNmwsJ9Mg16L179yaeRj979uzEOlZcBQJRCECgIyyUCECgR8eFNejhXDDF3eSBNegWFliDrtTfhowxxT2cm8r6YaxBD7HDJnGWMFKJIYWPMaIECHTbBbrqMWvROt4JEybQmDFjaM+ePWECnW2feeYZMUJ/3XXX0aZNm8JG0CMFOv9er149MSLP0+eRQEAHAQh0HRQDlAcEOgS6TLhDoEOgR4sTrEGXuXui2ECgQ6DHCB2sQbeAwRp085uez9egqwj0vXv3UpcuXahPnz5izXmZMmVo1apVNGDAAHHE2gsvvFBIoPORbPXr16ft27dT06ZNixToDP2GG24QU97ffffdBDt5XAYC4QQg0BERSgQg0CHQZQIGAh0CHQJd5k6RtIFAh0CHQI9/s0CgQ6BHiRIWzrw2fdGiReLcchbftWrVEqL94YcfFhu+Wae4G1nMnTuXbr75ZrGhnHUNeuQIOtuvXLmSWrZsSZ999pkQ9EggkCwBCPRkCQbsegh0CHSZkIdAh0CHQJe5UyRtINAh0CHQ498sEOgQ6PGjBBYg4AkCEOieaCb9Tiayazp7kZubS3PmzNHvUBI5LqzaXfrq7cWLSdtWPnZC2jZT8QX62t+XS+fdpfpfpG1LpcnX7/Ijhc8CjVXQWnlTkUWf8rnSPpeslC9te+JomrRtWkaBtO3+XdnStmyYXfqotH2BvBu0eVtF6XzLZ+VJ2+44rHY2a+Xi8nk3mH2ttB8nz6WRt1W5p1TyPelBWqly8n5kyN9TZJfPivUr2P+rfP1ULEuXl7c+eYawbEpLy5A1FXYFKhtPlciSz1thF+k0hbXt+4dNl/fhpGXWqfIxd/y/x6TzLp5TRto2o3Y1aduC/x6QthWGxeTbO+Pqzmp5y1rnKWxsl6kQQ1z+Efn+s2DHJlmPiYoXl7c9dFDetlJVeVu2LF5C3v6QQmwck38XyO78sLwPGix5BL1du3b0+++/U/nyCv2ghrKRRTAJQKAHs90p0ZHwRK+zEzMEukkXAt1kAYFusoBAD++BINAT7JEh0EPgINDNGIJAj7ifINBNIC4R6Dy4NHToUHr//fdp9+7dVKFCBTr//PPF1PfmzZvH7RBlBLphY2SWlZVFdevWpYEDB9Idd9wRtwwYgICVAAR6QOMhUaGd6HV2YoZAh0CPFl8Q6BDosfodCPQEe2QIdAj0KKEDgQ6BHrNHcYlAb9WqlVh7PnbsWCGaWaQvWbJEbBrHG8XFSyoCnc9PL1u2LB0+fJjeeecdMSDG698vvfTSeMXgdxAwnzEFJxN4BI9AokI70evsJAyBDoEOgV70HYYR9HA+EOgJ9sgQ6BDoEOjxbx6MoJuMXCDQ9+3bJ0bMWWTzhm+Ric86P+2002j16tV0wQUXiJ+Naz7++GNq27atuJanuPMu7byxHItwHoGfPn06nXvuueKaWCKez1S/66676IEHHogfO7AAgf8ngBH0gIZCokI70evsxAyBDoEOgQ6BrtLHQKCr0LLYQqBDoEOgx795INBtF+jp1/xNHGtmTZmZmcR/kenYsWNCoPft25fGjRtXyEZFoPPRa0899RRVq1ZNCPXvvvuOfvjhh5PbAxQvJNB5/PODDz6g66+/nj788ENq3bp1/NiBBQhAoAc7BhIV2oleZ9BOdHO6aK01ceJE8c8Q6BDoEOgQ6Co9OgS6Ci0I9Kj9CzaJC2HBFPeICIFAt12gP/5tPo0cOTIM/PDhw8Wa8mjptddeo379+olp540aNRIj6d27dxdT3FUE+iuvvELdunUTRfz222906qmn0ksvvURdu3YNCfRSpf7clJU/IJw4ucHnqFGj6JFHHkmw08VlQSWAEfSAtnyiQjvR6wzMyV4frbkg0CHQIdAh0FW6cgh0FVoQ6BDoRccLBDoEeswIsWmKu8oIuuFbXl4eLV++nD799FNauHAhffHFF2KKOk9hl53ivmXLFqpdu3aouhdeeCF17NiR+OOAMcX966+/pjJlygiBzmXce++99OSTT1L//v0T7HhxWRAJQKAHsdVP1jlRoZzodRDo4YGGY9ZMHjhmzWSBY9Ys94ldR5adLAICPcEHH6a4h8BhF3czhiDQIdCdFug6jlnjKe+LFy8Woj0nJ4dYWLPg5vTrr79SlSpVKHINejSB3qlTJxo2bFjMNei8/pzXrm/bti3BjheXBZEABHoQWx0CXarVcQ66iQnnoIeHDM5BN3ngHHQHPirgHPSwGxDnoJs4cA661OO8sBHOQTeZBPQc9AkTJtCYMWPol19+oZIlS9J7771H7du3F1xYuF9xxRWFBPq8efPEdHZOfCY6T3GfMWNG2BT3yLPS77nnHuKp8Xv37k0wWHFZEAlAoAex1SHQpVodAh0CPVagQKBDoEeNDbtG/SHQIdBjdEYQ6FKPcwj0ojD5XKCzMO7SpQv16dNHrDnn6eerVq2iAQMGiCPWXnjhBXEWOm/0NnXqVNqzZ4/YcZ2np0eOoDdo0EBsEle1alWxrnzNmjX0448/UokSJUIj6MYxa8YU99tvv51uvPFGevHFFxMMVlwWRAIQ6EFsdQh0qVaHQIdAh0CPf6tgBN3CCALdhJGeHj94/t8iLS1D2pYNMYJu4oJAVwod0xgj6CYLnwt0Fsq8eRyfRb5x40ZxHnqtWrWEaOed2LOzs+n7778XAv6bb76hs846i8aPHx91BJ3PNX/ooYeEKOdj1qZNmyb+l5OxBt0AW6xYMVHODTfcIMo3No9LMGJxWcAIQKAHrMGN6ia6ljzR65Itt6hmmlXzVulW3FVM2pSqHJO3zTx5nIZKerv4QWnz+Tu/lLa9vnpjadvLTpSVtv06I0/alg3/VvyQtH2ZivJ5Hz8q/9KfUfyEtA+7tsuz4ExLl8yXzlvF8Ls/KkibVy0IP2KmqAu3pmdJ58uGpxyXD/7Wb3aQz/vkcTd2pILjR5WyVVuDXlw+byWBftyefE/mWvDH7/J5K1iqcVPobNPVBDrlH5b3WmG3dbvyzXvyKXl/T1pmVC0tbV9wUL4fyKheUTrftFOrS9vSgQPytmyZId/eGe06qeUtaV1wRMHn4oWP7iqymKPybVKwe4ukx8xN4Z5S+QBRoYq8Dyct0xR4FBz+Qz7vo/LP1eyr75PPF5Yg4EECEOgebDQdLicqtBO9zvA52euj1R0C3aQCgW6ygEA3WUCgh/ccakITAt2gp8ZNQUxAoIcFKAS6pR+HQLfAULinINDD7qnc3FwaOnQovf/++7R7925xLjqPfPPINk9vr1OnDvEGcJx4RL1u3bpiCvydd94pdnlftmxZzFdv3mCOj2pDAgGdBCDQddL0UF6JCuVEr4NADw8OjKCbPDCCbrLACHpinShG0MO5YQTdwgMj6CEYGEE34wIj6JZ7JAAj6K1atRJT28eOHSvEN4v0JUuWiDXpvA6dBTqvFeez0g+cnBHCZ5uPHj1abO52+eWXU37+n6P7vKFckyZN6MMPPyRej84p4+SMkFNOOSWxhxeuAoEYBCDQAxoaiQrtyOuGDBlCfLakbOKvmHPmzJE1l7LDCLqJCSPoJguMoJssMIIe3pWojQRjBN2gp8ZNYbQPI+hhAYoRdEs/jhF0CwyFewoj6CFu+/btEyPmvEa8TZs2Ud8rWaAPGjRI/BmpXr161LhxY5o7d27o33ikPPLMdOPHnTt3Eh/d9tFHH1G1atWEwOc17pH5Sr3YwijwBCDQAxoCugS6aj6q9jLNA4EOgR4tTiDQIdBj9R9qQhMCHQI9SiQpjMxjDXoEP6xBDwHBGnRLbCisQU+/5E7izd+sKTMzk/gvMh07ufcJC3QWz+PGjYtqE02g8+g6i/QFCxZICXQeaecd4HkneN4R/v777xc7wfNRblbhL/NeCxsQgEAPaAwkKpQjr1PNJ9kReGtzTZw4UfwnBDoEOgR60R0ZRtDD+UCgJ/bgU+OmMNqHEfSwBsEIuokDm8RZQgObxIVgPP75bzRy5Miw+2b48OFiTXm09Nprr4np64cPH6ZGjRqJkfTu3buLKe6crAKdBf3LL79MvXv3psmTJ1P//v3jCvT169dT/fr16csvv6SLLrpI2P/000905plnEr+rQqAn9swJ8lUQ6AFtfVVhbWDSLdAT9cPabBDoEOgQ6BDoKl25mtDECLrBVo0bBLrBDSPoEXcnRtBDQDCCbokNm0bQQ/fhyeWYy5cvp08//ZQWLlwoRrenT59OvXr1EgKdp6jzyDePzPO55vfcc48YcU+3HBkZa4r7W2+9Jc4652ut9hUrVqRhw4ZBoKs8oGErCECgBzQQEhXGEOjRAwbHrIVzwTFriXUs2CQuMW7YJC6cGzaJs/BQmIqOY9ZMbjhmzRJDCseKiatwzJr5AcLFx6zxlPfFixeL3dtZoN96661CrJcsWZKqV69OaWlphR5IsQT6m2++Kc5VjxToPLWeR/Yxgp7Ysz3IV0GgB7T1IdDjNzzOQTcZ4Rz08HjBOegmD5yDbokNnINuwlCZjosp7mEdDKa4W8KlRws2AAAgAElEQVQIm8Qldk9hk7i4L3kTJkwQ68N53Xi0NejRMogl0I0p7qtWrRIby3HCFPe4TQCDIghAoAc0PCDQ4zc8BDoEeqwogUCHQI8aGxDoiYkJCHQI9BidLdagW8CofPSCQA+B27t3rxjd7tOnj1hzXqZMGWIhzeec8xFrL7zwQtICnQvjTeJ+++03mjJlipgq/7e//Y0+++wzcbTbwIED4790wgIELAQg0AMaDhDo8RseAh0CHQI9/n2CEXQLIwh0CPQotwzWoEdAwRr0EBCsQbfEhsIa9Oyr74v/cPp/C552zpvHLVq0iDZu3CjOQ69Vq5YQ7XwMWnZ2thaBzmvY+Sx145g1FuY8tX3UqFF05513SvsLQxBgAhDoAY2DVAn0yHPTdZyLPrXWrdKt+FPGcWnbmicypG0zC6RNhaHKlPHfCvKlM39751fStjMrt5O2XVfihLQtG/Yt96u0fcmK8vU7cTRdOt/04vI+79xUTjpfNixTJvx4l6IuVtFsa36vLO1H3WIHpG23Hi0lbcuG5QuOSts3e7OztC2d3B3XjuTJNegqII7Ltwdna9sa9DIV5L1Ok79XSXUEPe+gvB9ZCrGff1g+X4W17YfHTZLP96Rlsaolpe1PHJTvP4udWlE637Sa1aVt6Y8/5G3ZUkGgp1/aST5vlc5Wpa2LFT66q0injik8H3Ztka+fygj6YfnnA1WuIe/DScu0DPmNMwuOKNyrR/Kk/ci+xjyvXPoihw23bdsmPgR8+OGHdOmllzpcOorzOgEIdK+3YIL+p0qgR7qbqB/WfCDQTRoQ6CYLCHSTBQR6eM+jthu5/MsoqQgElb4bAj2cFgR6iAcEuiU0VO4/CHQTnM8FOm/8NnPmTFHfYsWKCdHcuXNncUxbqVJ/fsC74447xFT3OXPmiOPXIhOvJ+f16iy2d+/eTZUrV6azzz5bTJvv1q2byJdHzg8cOEDnnnuu2BF+8ODBtH37dvrhhx/ElHckEFAhAIGuQstHtokK42R3cYdA/5MARtDNSMAIuskCI+iJdbIYQQ/nhhF0Cw+MoIdgYATdEhcQ6IES6CyqZ8yYIaa381FrvIN7z549xXrxQ4cOiV3b+bzzr776Suzsbk18HNtll11GDRo0EFPiWZizEF+3bh1NnTqVnnnmGTr//PPpgw8+EOvON23aJNa5t2jRgiZNmkQ5OTmJPdhwVaAJQKAHtPkh0OM3PKa4m4wwxT08XjDF3eSBKe6W2FAZwYvfBZkWGEEPp4UR9BAPjKAneP9BoAdKoO/bt4/4KDQj9evXj959910x0s2j6yy0+Wx0FuosvHlXd04FBQVCmPPRayzUrWecG3mxTbQj2VS6eNiCQCQBCPSAxgQEevyGh0CHQI8VJRDoEOhRYwMC3cSCNeghFliDHnG3YA16CEgB1qCbwWHTGnSe4h4p0O+77z765z//KY5Ya926tZimfs8999CNN94oBDlPf+e0evVqatSoEc2dOzfq1Pf4b5KwAIHECECgJ8bN81dBoMdvQgh0CHQI9Pj3CUbQLYwg0CHQo9wyEOgQ6LF6Ugh0CxkFgZ5+WX/i3dmtKTMzk/gvMkUKdB4Jb9++vdi47bHHHhOCfMeOHWJdOY+ys3jn8855tHzevHlCmH/99dd04YUXiqx5c+O6deuGihk/fjzdfffd8R+WsAABBQIQ6Aqw/GTqFoEeuau7CuOJEycKc2wSZ1LDJnEmC2wSZ7LAJnHhPQs2iVPpaS2aG7u4mzCwi7vJAru4h99Q2MU9xMOuXdwf/3JfaJTbKGz48OHiOLVoAv3ll1+mrKyskweJHBPr0Dt06CCmtU+YMIHWrl1L77zzjrgsPz9fTHPnEfMrrrgiJNB5JP2CCy4QNsePH6eff/5Z/P+2bdvS3//+d3GcGhII6CQAga6TpofySlSg23FMWrLYINAh0KPFEAQ6BHqsvgUCPbFeNw0CHQI9WuhAoEOgx+hS7BLoqiPovJs6bwjHu6nXqFFD/C8Lbd7RfdeuXWFry/nfu3btKsQ5j5w3btw45hR3XqvO4hwCPbFnCq6KTQACPaDRkahAj8SlK59kmgECHQIdAr3oOwgj6OF8INAT63Eh0C3cMIJuwoBAh0B3WKCrnIMebQ06u8uj5jfffDP9+9//pgzLvgjr16+nW265RUx7r1ixIp1zzjniOLZom8RBoCf2LMFV8QlAoMdn5EsLXcJaVz7JQIZAh0CHQIdAV+lDINBVaJm2EOgQ6FEjBwIdAt2DAr1jx45i2vsrr7wS5j3vys4j6w888AANHDiQPvvsM7r88supYcOGxLNI69evL6bJf/LJJ+JYtXHjxtGAAQMS61RxFQjEIACBHtDQ0CWsdeWTTDNAoEOgQ6BDoKv0IRDoKrQg0KPSwgi6iQUCHQLdYwKdz0U/9dRTxU7uXbp0KeQ9bxS3dOlS+vbbb8VvP/zwA40ZM4aWLFkipsTziDqffc4j7X369KFixYol1qniKhCAQEcMWAnoEta68kmmdeZVv0X68syTX0ZlU5mC47KmynZ70uU7873F0qTzL6fgcs89H0vn269GS2lbNmx6tIS0fY2Tm7bIpqMkzyKLTshmS1uLFZe2ZcNyx+XzPpEm73OuQlvvTZeP5Z/Twne7jVfZswuy4pmEfr9vfgdpWzou39bymZ60VIghkW/ZStLZp6VlSNsWnDgqbUsqx5Cp7g6vcsazvMdECqJUpX5pGWr3X4HCufBpCj4XKHBLK1Z4t+hYKI/Nn65CmdLKl5W2LzicJ22bVqG8vG2VqtK2dOigvK2iZXrTaxSvkDRXaGuluOfiFfI+sfcXSYeJVO6Tgjz5NklT6A+Fsyr36xF5P1T68axWPaS5wRAEvEgAI+hebDUNPusS1rrySaZKEOgmPQh0kwUEuskCAj2ih1F4IYVAt7BTELsQ6CY3CPTEn/AQ6CY7CHTL811BoPMa9JkzZ9LYsWPpoYceCmXCR6p16tSJeEq7NZ111llil3b+q1mzpnTwvvTSS2KzOD5zPZHER7uddtpp4ux1Y8f4RPLBNf4gAIHuj3ZUroUuYa0rH+UKWC6AQIdAjxY/EOgQ6DH7FQj0xLpcCPQQN4ygW0III+jh9xNG0E0eLhhBZ4HOO7LzevNNmzZRhQoVhH/RBDpvGMfT1i+++GKxOdwjjzwi3VdCoEujgqEEAQh0CUh+NNElrHXlkwxjCHQIdAj0ou8gjKBH8IFAT6zLhUCHQI8WORDoEOixehSXCPS9e/fSTz/9RNdddx2NHz8+pkDv3bs3VatWjdq0aUP33HOPuCbNskxt27Zt4tzzRYsW0ZEjR8SGcc8++yw1bdqU4gn0hQsX0mOPPUbfffed2DW+efPm9NRTT9Hpp58u/LGWw//NPvA6eKRgEoBAD2a7ky5hrSufZJoBAh0CHQIdAl2pD4FAV8IVMoZAh0CHQI9/72AE3WTkEoHO08579uwpjlX78ccfxQZxkSPof5zc7LB69er0+eef09lnny2mt8+dO5fatWsn6nPgwAGxMRz/O28Yx0Kez0nnHd9ZbMcT6K+99poQ4eeeey4dPHiQhg0bRjytfc2aNeIc9i+//JKaNGlCH374ITVo0IBKlCghjnlDCiYBCPRgtjsEukS7Y5M4ExI2iQsPGGwSZ/LAJnEmC2wSZ7lPFDbBU1lbyyVgkzhLzGGTOImneRQTBRGNTeIi+Llgk7i0Jl3FCLY1ZWZmEv9FJus56Cykeer6Cy+8UEigT5s2jSZPnizWgHPi9eR79uyhl19+Wfz3888/L0bPWVRHE87xBHqkX7/++itVqVKF/vOf/4gj3LAGPbFb2a9XQaD7tWXj1EvXyLdMPnxuZF6e/E6zsk0yceJEYYoRdJMYNokzWWANuskCU9wjehWMoMt2s+F2GEEP8cAadEtoYIp7+H2iIP6xi7sFncJpHOOWbKSRI0eGcR8+fDiNGDGiSIHOZ5dfcskl4vg0PjrNuklcs2bNxJFrfLY5p1WrVlHr1q1px44dVL58ebr77rtp7dq1tGzZsqj9ZzyBvnHjRho6dKg4V52F/4kTJ8RI+nvvvUft27eHQE/sqeTbqyDQfdu0RVdMRljLoJHJR8ZGpqxYNhDoEOjRYgMCHQI9Zr8CgZ5YlwuBDoEeLXIg0CHQY/UoNk1xT3QEnd285pprqHjx4sQj64ZAX7dunZhWzlPNrWvBjx8/LkbV+/fvL4Q7i/ZEBTqP3PN0+MGDB1ONGjWEQOeR8zfeeIM6duwIgZ7YU8m3V0Gg+7ZpIdCjEcA56CYVnINussA56OF3C85BN3ngmDVLbECgQ6BDoMd/a8QIusnIJoGucg66dYo7O8aj5xdeeKEQ3E888YQ4Zs0Q37zhmzXNnj2blixZIoQ5H9V23333iePXVKe48yZ1lStXJh7Bb9WqlSiCd4zn/28IdB6p5/XtXFbjxo3jxxksfE0AAt3XzRu7crpGtWXykbFJphkwgm7SwxR3kwVG0E0WmOIe0cNgBD2xLhcCHQIdAj3+vQOB7mqBzs7ddtttNH/+fLH8Mj8/XwjjUaNG0V133RXWvryhXL169cRGbrxjO2/wVrVqVXGmOm8ox+vVeTTc2CRuwIABtHz58rA8eLM33nSO15tfffXVxFPxt27dKs5k543hDIF+7OQU/7Jly4qj3fr27SuOhStXrlz8eIOFLwlAoPuyWeNXSpdolslHxia+x7EtINAh0KNFBwQ6BHrMXgMCPbEuFwIdAh0CPf69A4HueoG+ZcsWOuuss8RGcwsWLKCuXbuKteYsviPTeeedR23btqWnn36a+DoebV+8eDGxoOZp6zzqzruv8xp0PqYtMuXk5Ijp67w7O4/A81nsXDbnx/kaAp2vmz59uvhQsH37djG6jmPW4t9ufrWAQPdry8aply7RLLMBXG5uLs2ZM8c20rNq3iqd94F0aVM65ViBtHHGySlSKmlNVpq0+Q4K36m0qAurUgnpfH+jY9K203askLZlww8rtJC2r1zqsLTt0WMZ0rbFix2Xtt12sLS0LRuWTT8qbV9QIN/W64tlSedb8oR8zP1UXDpbYZhzTN7nrguukc9cYRMg+UzVdvXmfNPKKBxdk1FM3pXj8veUfKYnLU/Ix7LIN++QdPYFBfJ5p2WXkc6XVHZ6PrnuUykdle8TlXbgVpmOq/Cx4uj0yUrVS69YVtq+4LA8i/TK5aXzTateTdq24OABaVthqHBPZbRoL5+3wskBBQptnabQ1uxsgYJAL9izTb5+CtzosHybpFUoLEqLdErBj4K8g/L1O5YvbZt9WfhIt/SFMAQBjxCAQPdIQ+l2U5dAl/HL7rIg0M1WgEA3WUCgmywg0MN7Kgh0kwcEuiU2FESbivCHQI94U1AQeBDoFnYK3CDQZd5OYQMC7iUAge7etrHVM7tFs9V5u8uCQIdAj3azQKBDoMfqRCHQIdCjxgYEeggLRtDNCMEIeuIfWNw0gr5r1y6xdpyPNdu2bZtY333mmWfSrbfeKtaklyxZkurUqSOmsXPKzs6munXrEq8rv/POO219J0fmIBBJAAI9oDFht2iGQC86sDDF3eSDKe4mC0xxT6xDLjguv+SAS4BAh0CHQC/6XoNAh0CPGSEKI/luEei87rtly5biPHM+P503e+M15HwW+osvvigE+PXXXy8E+u233079+vWjAwcOiHXlo0ePpldeeYW6deuW2AMKV4FAAgQg0BOA5odLINDjtyLWoJuMsAY9PF6wBt3kgTXoltjAGnQTBtagh1hginvE81ZB4GGKu4WdAjdMcQ+PuauuuorWrl1L69evp1KlShV6AeSj1vj8cxbogwYNEn9G4l3c+dizuXPnxn9xhAUIaCIAga4JpNeygUCP32IQ6BDosaIEAh0CPWpsQKBDoEcJDAh0CPRYzxJsEmcho7BJXHqr3mIHdmvKzMwk/otMfAb5KaecQmPGjBFHmxWVogl03sWdRTrv9o4EAk4RgEB3irTLynFSoMvs9J4InokTJ4rLsAbdpIdN4kwWWINussAmceE9DKa4mzywSZwlNrAGPQQDU9zNuMAa9MQ/sNg1xf3xf+8SU9Wtic8XHzFiRKHXyc8//5yaNWtGr7/+OnXq1Cn0e+XKlf+PvfMAk6rI9vjpyYQhSxQREJAVCQqCAgqyBuSpKKK4qIgKRlyfYhZHRIIoYEBRJPpIuiKIoJgQRYVlURBdA4gCgmQlDTNM6jensG/oud331O3usXvmX9/Ht+70qbp1/7equn/3VJ2j8qBzuf322+nJJ5+0edB5C/ysWbNU6rQXX3yRbr31Vi8/VVEHCnhSIKaAHisw83SnqGRTINapz0pTbgA6AN1pvAHQAeih1iEAOgDdcWwA0AHoDgMDgB5/gK7jQQ8AujXfON8Rn0svKiqi/v3705lnnknPPPOMAvQdO3ZQamqq8tCnpaUpeB8zZgwl6aaDLM0fwrhWmVMgpoBeml7aMvdkYnxDZenZANAB6AD08AsGPOh2fQDoAHQAevg1Ax50Ux8AevwBuk4edLct7t26daO2bdsagM5R3a+//noV1b1evXrqbDoKFChtBQDopa14nFwPgO7+IHAG3dQIQeLs4wVn0E09ECTOMjZwBt0UA0HiDC1wBt074CFInEU7BIkzxNABdK50wQUXqCBxP/74Y4kgccGAHhwkzv3XIiygQPQVAKBHX9OEaBGA7v6YAOgA9FCjBIAOQHccGwB0ALrDwACgA9BDfZcgSJxFGY0gcbqAvmnTJpVmrXr16uqcOgd+4y3r//nPf2jo0KFqm/u4ceMco7i7/1qEBRSIvgIA9OhrmhAtAtDdHxMAHYAOQHefJ/CgWzQCoAPQAejui4aGJxgedIucGrohzVrJYchnyzmS+5IlS2jbtm0q4vvf/vY36tu3L912221qS7tTFHf3AQ0LKBB9BQDo0dc0IVosS4D+XdNeYs0rZuaJbVPSC8W2/iK9M0qF+UnitnOyU8W2GRXzxbaf7K0jtj2xwJ7OxK3i3//4ws3E+Hxg/bPEtof98vvL8CWL2+2eX0Fsy4ZFGtbyJ03UoEB+f+9XkLfcvECuBd9akl9+g1cv6Sc3Lg7IE5NSKNeNr++rWE3eDZ0fxbECdL+mbj752CCdtnW00NnirtOumoByPXypaeJn7c87FtFZUnxpGRIzZVP40TyxrTLMrCK3z9NYmzOrytutWktuq6GbvNFjlimndpdX0QjipRNdXPsMuoYnuGjfr+L786WUTCEWqrJfI+ChL1PjWfMFdeZrXo74/khj/UxvdZ68XVhCgQRUAICegA8tGl0GoLurCEA3NQKg28eLHA+KYdd9qBkWAHQNsaymAHS7cAB0Qw8AumVoANANMQDo5rgo64DOAd9mzpx57IVPSgo1bNiQLr/8cpWmbc+ePdS4cWNDDI7efsIJJ6ggcQ8//LARII63xbP9zTffTC+99JJhv27dOmrXrh398ssvyvuOAgWipQAAPVpKJlg7AHT3BwZAB6CHGiUAdFMZeNAto0TDA+S+AlksdLzcXA2ADkB3GmAAdAC6w7goD4C+a9cumj59OuXn59OKFSvopptuogEDBtD999+vAP3DDz+kU045RaVW++yzz9TnEydOpBtvvFEpxoDOedI5NzoHm2vevLn6OwBd65sMxhoKANA1xCpLpgB096cJQAegA9Dd5wkAHYDuOEqwxd2QBVvc3deRUBbY4m4qgy3uphY6W9zZG75//35auHCh0cCgQYNo8eLFtHLlSgXoa9euVanWAqVHjx508skn0wsvvGAAOtevXbs2VatWjV5//XUAuvdpjZoCBQDoApHKogkA3f2pAtAB6AB093kCQAegA9DDzxMAuvs6AkB31wiAbtGo2dnK220tHPSN/wUXJ0C/8847ac6cObRmzZoSgM5/O++88+jZZ5+l6667zgbo06ZNow4dOtCqVavU/8KD7j5uYeFNAQC6N90SvtZfCegPPvgg5ebKg/GEEnvChAnqIwSJMxVCkDiLFggSZ4iBIHH2VQRB4ix66Gyf1wkOBQ+6ITIA3ftPJnjQTe0A6KYWo9/4XJ0Jt5asrCy1Fd0N0FevXk0XXXQRsZect62zB71ChQoq7VpeXp7aBj948GB6+eWXjaa4XfagM5BfffXVtHv3bvroo48A6N6nNmq6KABAL6dD5K8E9GhfG4AOQHeaxojibqoCQAegh/yqA6Ab0iCKu2WUIIq7IQaiuAetHjov6mIUxZ00PeizZs2ijIwMdYacAfzSSy9Vwd6OHDmiAH3RokXUsmVL9dk333xD7GFnz/uYMWPUzVsBnXOqsy1vkect7wgSV05BKsa3DUCPscDx2ny0IVnnPqN9bQA6AB2AHn4GAtAB6AB0928pADoA3WmUANDjD9B1z6Bv376dJk2aRBylvX79+up/uWzevNnxDDqD+bBhw+jQoUMK7K2AzvVuv/12dX596tSpdNpppyGKu/vyCgtNBQDomoKVFfNoQ7KOLtG+NgAdgA5AB6DrrEHY4m5RCx50QwwAOgAdgC5YSePAg64L6MFB4gJ3GQrQn3rqKbrvvvvowIEDVKVKlRKAzlHhmzZtqkB97NixAHTBsIGJngIAdD29yox1tCFZR5hoXxuADkAHoAPQddYgADoA3Wm8ANAB6AB0wUpaBgE9kGaNt8DzFneO8s6p1JYtW6YECfag898effRRYpDnmErIgy4YNzDRUgCAriVX2TGONiTrKBPtawPQAegAdAC6zhoEQAegA9BdZgzOoBsCYYt70Fgpg4AeuMPk5GSqV68e9ezZk0aOHEnHHXdcSEDn7e9NmjShvXv3AtB1voBhK1IAgC6SqewZRRuSdRSK9rW3dTxXfPm0yoVi2+QMsSnp7BLlVovy5G3nHU4WG6dWlN/f19/VE7dbv9JhsS0bPltUQWw//bcvxLZ963UQ2x6lIrHtLbkVxbZsWKBhnaRhWzfjiNj6y8IqYtuG+To9JvKRX9x213f7i221JkqRfCxToeb9Va4h77NP4wnq9KM4YrC4FMnHsmozVm3r/DDX6UNKydRIYbXRWHB9KWlimf06Aa1S5X0u+vwtcR+UYeVMuX1xUCtxqaTRbhWNOZKnmZVFY05pRXEXC0HkPypfa31pGj8Givvgz5d/wRft3SLutVYUd42x7NNZD4t7qzWnjmaL74801rn0U3rI24UlFEhABQDoCfjQotHlaEOyTp+ifW0Auqk+AN3UAoBuagFAt69QWj9INWBC60WBDsBq/HAFoAc9awC6KQgA3dACgG4OC631MAEBnaOxz5w5s8TP1AsuuICWLl1q/H3UqFEqMBx7zh944AGb/YwZM2jgwIF08skn0/fff2/77PXXX6errrqKGjVqpILOoUCBaCgAQI+GignYRrQhWUeCaF8bgA5Adxp/AHQAeqh1SesHKQDdlBEedMtiCw+6IQY86LalBh50Uw5/HHjQGdA5qNv06dNtzyk9PZ2qV69u/K1Zs2Z0xRVX0Pz582nDhg0lAP2OO+4grsPp1c4880zj8wsvvFBBu8/nA6DrwABswyoAQC+nAyTakKwjY7SvDUAHoAPQw89AeNDt+gDQLXroeOcB6AB0p6UGgA5AD/EVFC+AHiqKe6Dbn3zyCfXv3984Sz537lw6++yzjbtiD/pdd91F1157rQoK98orr6jPtm3bRieddBLx71quAw+6Dg3ANpwCAPRyOj4kkPzggw+qhSjaZffu3TR79uyoNQtAB6AD0AHoOgsKAB2A7jRecAbdogrOoBti4Ax60AtOnWMjceJBdwP06667jurUqaOisg8dOpT27Nlj2xYfAPTly5crcN+5cydVrFiRnnjiCVqzZg1169aNnnnmGQC6zhcxbMMqAEAvpwNEAugSGy/yRbtdADoAHYAOQNdZiwDoAHQAusuMAaAD0EMMkXgIEkcndaGjR4/aesjbz/lfcOEt7rNmzaKMDHuwv/vvv1+dOT948KCK3P7FF19QmzZtaN26ddS5c2fasWOHyoHOJQDoDPrt2rVTHnP2pvO2+PHjx9PPP/8MQNf5EoatqwIAdFeJyqaBBJIlNl7UsbYbiZd+woQJ6vIAdAA6AB2ArrMWAdAB6AB0ALp0zYAH3a5UPAD66H+toOHDh9s6lpWVpfKVOwH69u3badKkSbaPatSoQfzvpZdeohdeeEHlPw+UU089lYYMGUKDBw8uAejPP/88vfnmm8TX69evn9rmPnHiRAC6dELBTqQAAF0kU9kzksC3xMaLMtZ2o3ENADoAHYAOQNdZiwDoAHQAOgBdumYA0OMP0HU96OG2uJ9xxhlqm3qSJbNGUXFsjg4dOtC///3vEoD++++/U4MGDahjx47EdceOHavgHFvcpTMKdhIFAOgSlcqgjQSMJTZepAGgIw+6ddwgD7qpBvKgW8ERedANNXQCuXGlWKVwQ5A4y9tQRHE3xECQONtPIURxN+WI9yBx7DXnbe18tpy96YHCQM9nzdevX0+tWrWybXFnG06rxunVOHo7p14DoHuhAdQJpwAAvZyODwl8S2y8yAdAB6AD0J1nDgAdgO44MgDodln8ReKvHq3tuHk54nYpFYAOQHceLgD0+AN0pzRrKSkpKsjbqlWr1L/gwufQ2UPOxymtZ9DZLicnh44cOUI1a9ZU1QDo8qUTljIFAOgyncqclQS+JTZehAGgA9AB6AB017WjCB50QyMAOgA91ITJz3edSoZBpUy5LYLEGVphi7t92Gi99IqTKO4zZ84sMfYbN26sAsRxsLh77723xOcc/G306NHE59fnzJmj0qyxZ92pANDlSwssZQoA0GU6lTkrCXxLbLwIE21A39z2PHE3KlST/5hJTveL2y0qEJsqw6J8n7jC0cMpYtu0inKo+WpjXXG79dOPiG3ZcKxPfn86Df9rx3/E5r3qthPbDsw7FqlVWgo07i/JLx9HDZPlHrxPkytJu0vN846tAk0AACAASURBVOTjQtzon4bnv3+9uIrfr9EPDS8pFepNQF+GBqjobOvW6YfONnSxwh4MdeBfR4vkVHFnfDrtFrfq1xgbWjChsVXbl5omvr/CT94Q2yrDTI31KCiSddgLVaku7oevyjHPoKRopaeTNGixSWnzd80aMnN/brbMsNhKG9AL8sRt+/duE9uSxjzx58u/S3yVzK3dks7ojH0dnXXW8fRTeki6ChsokLAKANAT9tFF1nEJfEtsvPQCgA5A9zJuuA4A3VQOgG4ZRTpgzD+4AeimeAB0Qws/AN3QAoBuThEAuv0bO9EAndOsOXnQL7jgAlq6dCmdeOKJtGXLFnWTFSpUoCZNmqgI7jfffLPXnyqoBwUiVgCAHrGEidmABL4lNl7uHoAOQPcybgDodtUA6AB0r/PIVg+ADkB3GEgAdAB6qPUlEQHd6Qw650yvXr26AvQbb7yRBg0aRIcPH1bnzUeOHEnz5s1TweBQoMBfoQAA/a9QPQ6uKYFviY2XW7HmPt+9ezfNnj3bSzNGHWxxN+XDFndTC2xxN7XAFnf7EgMPukUPADoAHYAe9jcIPOhB66fG8Y542OLOHvRwadYY0Pl8Of8LlObNm9Ppp59Oc+fOjej3KSpDAa8KANC9Kpfg9STwLbGJVIZoXAOADkB3GocAdAB6SA8Qtrib0gDQAegAdAC6xo+5RPSg6wJ669atiSH9jTc040do6AhTKBBOAQB6OR0fEjCW2EQqXzSuAUAHoAPQw89EeNCDPEAAdAC6w5TBGXRTFGxxt2iRlqH1U8ePIHHmSy+NYHw6QeLopC50NChAIm9Z53/BhT3os2bNoowM+3Pk6O3Dhg1TW9wDHvSCggJlO3DgQHrxxRfp1ltv1Xr2MIYC0VIAgB4tJROsHQkYS2wivW2+Bi+aubm52k1xbkouAHQAOgAdgK6zgGCLu0UteNBNmECQOEMLADoAPdSaGg8e9NH/WkHDhw+3dTErK4see+wxR0DnVGmTJk2yfVajRg3ifwzoO3bsoNTUVAX9aWlpdPvtt9OYMWMoKV6ybeh8wcG2TCgAQC8Tj1H/JiTwLbHRv7K9Bl+DSwC2vbQHQAegA9AB6DprBwAdgO40XuBBt0Ap0qyZLyvgQbdNl3gAdF0PutsW92uuuYbY016xYkWqV68e+TRSqep898AWCkgVAKBLlSpjdhL4lthEKgsA3V1B5EE3NUKaNVMLRHG3zB2kWXNfSEJZwINuKANAB6A7TRMEibOrEg+ArpMH3UuQOO8LKmpCgegoAECPjo4J14oEviU2kd44AN1dQQA6AN1plADQAejuq4fAAoAOQHcYJtjibnlZAQ+6bYQkIqA7pVlLSUmhWrVq2c6gC1ZMmECBUlEAgF4qMsffRSTwLbGJ9M4A6O4KAtAB6AB0l3kCD7r7QhLKAoAOQAegh50/8KDb5UlEQJ85c2aJZ9yiRQv64YcfAOjevz1QM4YKANBjKG48Ny2Bb4lNpPfIOdG3bt0aUS70bR3PFXcjvUqh2DYpTWxK/iK5LVsWasTEyz+SLG48taL8/r79rq643TqVssW2bDiuqGQk1VANHPDni9su1BB6yc614nbfqn622JYNi3xy8yS/3LZBhlznfxdWETfcOL9AbKtrePZ718ir6MCgxrOmQvkY4s76KlaT9zk5RW6r+aJA3rCmpS9JXkFHZ512dXRLTpX3ly01+uxLkS/k/rwceT9S5Wtc0edvydtly8yqcvu8o3LbyvJ248aD3uoc+f1pjE//0SPidnXGkBqeGutA0b5f5f3QmCf+Avm48FWqIe6DWj815rbWnNLQTWeLu9bNwRgKxIkCAPQ4eRCl3Q0JfEtsotHvSK8DQDefAgDd1AKAbmoBQLevVAB0ix4asEsaAEQaP+JJAzxUzzX6rANXWjABQDcGkZZumj8aUgDohmI+jXkCQNccaHFo7nZ2Pg67jC5FUQEAehTFTKSmJFAssYnGPUd6HQA6AN1pHALQAeih1icAOgDdaWxogSYAHYAeYoGBB90URmtOwYNuG1EA9GgQRuK2AUBP3GcXUc8lUCyxiagTf1aO9DoAdAA6AD38TIQH3a4PAB2ADkAPv2Zgi7upj84uDK4FQI8vQO/WrRu1atVKdWrWrFmUnJxMt956K40YMcJIp/bHH3/QP//5T3r77bdVLvRzzjmHnnvuOWrWrJmqN2PGDLrrrrvotddeU//766+/UpcuXWj69OkqLRuX5cuX03333Uf//e9/VU71U045hebMmUONGjVynGycm/3uu++m999/X+Vb5/aeffZZdSae87kH53n/+OOPie9l27ZtNHToUFWP+9qyZUt64YUXqGPHjtH4SY424kQBAHqcPIjS7oYEiiU20eh3pNcBoAPQAegAdJ21CIAOQAegA9ClawYAPegFp8bxlXjwoDPUfvnll3TjjTcqMF+zZg0NHjyYnnnmGRo0aJC6uUsvvZQ2btxIL7/8MlWpUoXuv/9+2rRpE3333XcKthnQuQ6D++jRoxVQc+70du3aqRhKBQUFKiI8t3fLLbdQXl4erV69mrp3704nnHBCiaF25MgRatu2LXXt2lUBP0eUf+KJJ1Q/169fr+pzfw8ePKheAnCpUaOG+nubNm2oQYMGNGrUKKpbty599dVX1LBhQzrzzDOlQxp2CaAAAD0BHlIsuiiBYolNNPoW6XUA6AB0ADoAXWctAqAD0AHoAHTpmgFAjz9Ap5O6KO+xtaSnpxP/Cy4M6Lt371aebZ/vWITXBx54gBYtWqQAnMG8efPm9Pnnn9NZZ52lPt+3b5+CXo7+3rdvXwXoAwcOpJ9++omaNm2qbF588UV6/PHHaefOnfT7779TzZo1lRedId6tTJs2jcaOHUvff/+90SeG72rVqtHChQvp/PPPJ6ct7pMnT1be882bNytgRym7CgDQy+6zDXtnEiiW2ERDPo7knpurEdb8z4tOmDBB/RcA3XwKCBJnaoEz6KYW2OIe9AMTUdxNQTQCriFInGUc4Qy6IYaWl1TzRwOCxJmCIUicqcXof60osQU8KytLbQ0PLgzoTZo0IYbiQHnrrbfoiiuuUL89lyxZQn369FH/zdvfA4W945dddhk9+uijCtBvv/12ys42M60sWLBA1Sv6MzsJA/zcuXPpvPPOo7///e905ZVXGtvfg/vEbbG3PiMjw/YRe9Z5uzp7+p0A/bbbblMvGj755BPNmQTzRFMAgJ5oTyxK/ZXAt8QmSt2JqBkAOgDdaQAB0AHooRYWeNAtygDQvYEmAN2bbprf9gB0ALrjkNH0oIcD9MWLFxuwbgV03oLOAD5s2DDjDPr+/fuN7rCnmwHe7zdzqa5du5aWLl2qzrJ/88039MEHH1CnTp1K3AIDOG9N5+3xweW4446jqlWrOgL6Pffco7boA9A1F5IENAegJ+BDi0aXJfAtsYlGXyJtA4AOQAegh59F8KDb9QGgA9CdZoyWJxiADkAPsewiSJwpjNacilEU98AWd97OHii8c5O96G5b3F999VUF74EgcW6Abh0SfCa8Q4cOKthccHnllVfUOXfeqs5n3p0Kn3nfsWOHgv1A4S33d955J/3yyy/Y4h4pPMR5fQB6nD+gWHVPAt8Sm1j1T6ddADoAHYAOQNdZMwDoAHQAevgZgyjupj44gx70gjNBg8RxALebb75Zea75v8eNG6f+P5fevXsbQeIyMzPVGXU+b24NEsfB3EIBOgMznw+/5JJLqH79+vTjjz/S1VdfrQK/sbc8uASCxHGwNz7Hfvzxx9PWrVvpzTffpHvvvVf9fw4Cx9vgOVo7n29nrzp760899VSqU6eOClbHEeTZa8/XRJA4nV8B8W8LQI//ZxSTHkrgW2ITk85pNgpAB6AD0AHoOssGAB2ADkAHoEvXDAB64gM6pzzjs+Kc9oy3sTOYMwAHgsYF0qxx4DgO1nb22WfT888/XyLNWihA37Vrl4re/u9//1sFmGNwHjBgAPG5eI747lQ4uBx70d955x06dOiQiszeo0cPevrpp5VXfc+ePdS/f39auXIlHT58mAJp1rZs2UK81Z23z3P0+L/97W/q3PoZZ5whHdKwSwAFAOgJ8JBi0UUJfEtsYtE33TYB6AB0ADoAXWfdAKAD0AHoAHTpmgFAT3xA5/PknFYNBQokigIA9ER5UlHupwS+JTZR7pan5t6s+w9xvfpJ+tHiJY0X+Y+l7pCWWtXMSKBudQ4eskf5DGefklzk1pzx+doC53NPTg3UK35Lq1N2F+f0lJa6Gm0f8Tm/iXa6VqolcItbXy7941M3E9vnl9Q7XWxvDSDjVuk0n/yZ7PDluzVnfF6LUsW2bLjRLx+fM977X3nbGmcMSSN4mb9QrgV3NqlaXXmfk8yovq6VigpdTTwZaGjB7eucgS12K4m75EtNE9tSssaY09gyqzqgMY504ErnvKwvrYJYi4L3Z4ptlWGlynL7fI2xn1lV3m4VjRROuUfk7aoJKF/HU1r30GtbaO3Pk/8W8GmOT5355z+wW9hjPd20xnJljWdd3A0dPfz5efL7K7CnTQtXMb1ld3G7fAYdgC6WC4ZxogAAPU4eRGl3Q5LajPNGOkWYLO2+ul0PgG4qBEA3tQCgm1oA0O2rCADdogcA3RBDC2oA6OYgAqDbFhgAuilHPAE6nysfOXKkSqu2fft2ql27tgJ3PlvOW8ulJScnR5355u3x3E6FCvKXddJrwA4KANAxBkIqAA+6fHDAg27XCh50yw8UDU8+POiWcaThNYYH3T7/dAABHnTLXM3LES/68KBbpAKgA9BDzJx4AHTuGkdL79y5M1WrVk3lT2/dujXlF+8+ee+991Rwtx9++EE892fNmqWCt/HuOA4Ax+fEUaBAtBUAoEdb0TLUHgBd/jAB6AD0UKMFW9wtymhsTcYWd28vK7gWAN3UDlvcLeMIW9wNMbDF3TJHyvgWd77Tiy66iNavX6+iq1eqVMn2dc2B3xjcDxw4oCKoc37z3Nxcat++PU2YMIHatGljs+/evTv169dPAfrrr79Oy5Ytk/9YhCUUECoAQBcKVR7NAOjypw5AB6AD0AXzBYAuEMnBRGM3AQDdrh8AHYDuNOkA6IkN6NTkLDp61H5mPT09nfhfcPn999+pVq1aans7H+90HA/FsN21a1eVW/zRRx9VKc3YS875zzds2GDkHN+0aRNxRHjOT86AzlvdORVbkyZNvK3tqAUFQigAQMfQCKlAaQC65Cx8qA7ym00uOINuKoQz6KYWOINuaoEz6PZVBGfQLXrgDLohBs6gW8YFgsQZYugERdN9QYYgcZYxpxEkbvRrn6it6tbCKc0ee+yxEj8ZV69eTR07dlQ5xi+77DLHn5TsBefPOPaSFfJPOukkuu+++2jw4MGq3sMPP6yAfMGCBer/c/70Vq1aqXznKFAgmgoA0KOpZhlrqzQAPRrXAKAD0J2mHgAdgB5qSQagA9CdxgYAHYDuNC4A6HZVdPSI1Rl0HQ865ybv1KmTgmoGaqfy1FNPEQeRCw74xgHhhg4dSk8++SQVFhZSo0aN6Nlnn6U+ffqoZt544w3i37F8xp3zq6NAgWgpAECPlpJlsJ1owLObLNG4BgAdgA5ADz/T4EG36wNAB6AD0F2+neFBNwTSAVKupBMDAh50yzjU8KDrpFmTbHFnAH/++edp+fLlJSYGn0/nLfLvvPMO9erVqwSIM7jzZz179nT7yYvPoYBYAQC6WKryZxgNeHZTLRrXAKAD0AHoAHS3tcb6OQAdgA5AB6BL1wwAul0pHT1i5UHXAXTuPcPzN998EzJI3H/+8x9l89NPP9GJJ57oODTYa56Wlqa2uVvLmDFjVFA59qajQIFoKQBAj5aSZbCdaMCzmyzRuAYAHYAOQAegu601APQQCuEMuiEMtrhbxgg86IYYOkDKleBBN8dRvAD6L7/8QmeddZYK9vb444+rNGsFBQX0wQcf0KRJk9S58rPPPpsOHTqktrO3aNGCfvvtN+UZ523xvLW9QYMGtGjRIrrwwgttiym3wZ51zol+3HHH6XwVwRYKhFQAgI7BEVKBaMCzm7zRuAYAHYAOQAegu601AHQAutsYAaAD0J3GCADdroqOHvEC6HwHHHmdI7kvXrxY/TfD9Omnn67OkHfr1k3BOXvH58+fT3v27KG6desqaB89erRKp8aB4DiIXGpqqk0QBv06deqounfffbfbMoPPoYBIAQC6SKbyaRQNeHZTLhrXWF6nr9tljM9rVz4itvUl+cW2hYVJYls2rFozR2yffaBk2pBQlVPTCsXtfr23pti2rs+ezsSt4oakCm4m5jMp/nKTliNJ8iAs6RqpqaanZ0u7oOwW7fhSbH9unVPFtn39tcS2P6bIn3XDIrlu3IFfk+Rtj3z/dnGfqTBfbqvh2SWd9G3FPfBVryvvh09jbuvcn8ZY1tKN70xHO7kSRMkpcutk+4/YcBV1fvBzOzoeSl9ahrjPWqm3UtPE7RYsmyO2VYaVMuX2BXly20pVxLa+KvLvB/9R+feZuAN/Gqa06qZbRWQfq5cx6uL58u/LogO7Rf1VRjprRp78mfgqV5f3gS015raOFjrzOr3ZWXp99mDN0N62bVt65plnPNRGlURSYNiwYbRr1y6aPHmy525z2r9mzZqpYIT84ifSAkCPVMEyXD8a8OwmTzSuAUA3VQagm1oA0E0tAOj2lQiA7rYyh/gcgG4I4wOgG1oA0IPmCwDdFERDi78K0DkwXPfu3emPP/4gDggXKAB0j98Tlmo+ny9s9HyG4uOPP56mT59O11xzTYkL3nzzzbRy5Uo6ePAgbdmyJWSHzjnnHCPAH6fEmzp1Ks2ePZv69evnehPcBwbr9evXG/EHrr/+epo5c6aqy9H5Od89H2MYNWoUVa9uvtDieAV33XWX+sflueeeU8cgPvzwQ9fruhkA0N0UKsefRwOe3eSLxjUA6AB0p3EGQAegh1p/AOhuKzMA3U0hALqpEAAdgB5yvgDQbdLk5+eX2CLvttbE8vNY98cN0Pne+Iw/Hy/46KOPbLfKKe74mAHHDPjHP/6h0txx+eKLL1Saux9//JGqVDm2K4iD93F8gSNHjlC9evXo1ltvpS+//FLFGHArDN2ffPIJvffee4YpAzqDO7844CMMHKPghhtuoK5du9LcuXMNu2BA37dvn4L5devWUcuWLd0uHfZzAHpE8pXtyl7g+cEHH1TRLKWFz/PwW65ICgDdVA8edFMLALqpBTzo9hUGgO5xxYUH3RAOgG6OIQB60HzSgFJscbeMI42jSjpb3Hnr8b333kvz5s1Tntj27dvThAkTqEOHDip/eePGjW0PcMCAATRjxgx1Lp2DyWVkZNCUKVMUBN5yyy302GOPGfYHDhxQbS9cuFD99g203aZNG2XDtvzZnXfeqc6w8/UYNBlcrYWvx17Y1157Tf3vr7/+Sl26dFGAyMAZKPz/x44dSxz0juGQ273tttuMz++//37lsd62bZuC2/79+9Ojjz5qvBSQ9odB84477qAVK1YQp6lr2rQpPfTQQ3T11Vcb13LTh/tn9XpzoD2+/+Dy9ttv06WXXko///yzLYL+//3f/9FNN92kgvXVrGkeuQm144HbZa/3Sy+9REuXLlW6MViHisof6Ac/Y/bU3367eVyPAX3//v3q2QXKPffco8YFaxMowYDOf+fdGAzy/GIhkgJAj0S9Ml7XC6Dr1tG1d5IcgG6qAkA3tQCgm1oA0O0rBwDd45cXAN0QDoBujiEAetB8AqCbgmhoobPFnU44nRi8rSU9PZ34X3D55z//qVKgMWQzJDLg8jZkTqlWtWpVeuutt2we2QoVKqi/M4CuXbtWBX5jDy5vtWZwY0/reeedR36/X4EYe24ZgrnOyy+/rCBuw4YN6u8MxE8//bSCbQ42x9ulTz31VEdA563ZvFWb7ZKSktSW73bt2hlOrFdeeYWysrJo4sSJ6u/ct0GDBtH48eOJXypw4ZcA5557rvLiclo5/pz7f99996nPpf3hiPTsKf773/+uvNRLlixRwfQ+//xz6tixo2rLTR8OtFe7dm31koEj3/O9O0W55xcWDRs2JL5/68sPBl2uzy8trCUcoHNQv6uuukrB9hVXXEGnnHIKDR8+POQXHh9rYPjnZxu4LzYOBnR+eXDxxRcrON+5c6fRnhOg80uS1atX08cff+zxi/ZYNQB6RPKV7cpe4Fm3jtVe1/vOb0C5ANDNcQhAN7UAoJtaANDtazUA3eN3FwDdEA6Abo4hAHrQfNKAUnjQLeNIw4M+evb7JcCL4dUKeNxydna2OjPM0MyQzYW3dQfAir3f4c6gMzyyFzlQzjjjDAXAnPt82bJldNlll6nI7tYXAyeddJIC4gBw8hZqtxRs3L+BAweqlwbsreby4osvKi9sAAhPOOEElQLO6sVmIOdUcLzt26k89dRTCnDXrFmjPmZ9JP1xaovPYPO2bX7hwIUBPZw+bCPZ4s52DzzwgNrhwDsDuA7/L+vAnvDzzz/f1p1Qz2vjxo0KyNnjXqtWLWPnAnvt+YWHU+Gt6PyyY+vWreolQaAwoM+aNUvtnuB7DOwM5pchzC2B4gTofA6d+YTvIZICQI9EvTJeVxe2WQ7dOlZ73boB+QHo5kAEoJtaANBNLQDo9sUagO7xywuAbggHQDfHEAA9aD4B0E1BNLSIhQedA3/xdnOGNPaeBwqDNYP7tGnTwgI6A98LL7xg1OOt2Oxx5XoMvwyW7HG3Fj47PXToUAXTDMR8jJPhMVxhQGevL79QCBTeqs5nrYuKs3IEvNF8LSts8vlo9tzzeWkuvFOAo84z6B8+fFidn2YPOL9E4CLtD0Mpv4RguOeXC7xbgf+xbpxyjgsDejh92EYK6KxP8+bNVXC1Hj16EEdV5+3qTnAdCtD5Wfz3v/8l3jLPJS8vT21z550AwZAf0Jg952eddZbSx+rdZ0Dn+540aZI61867L3hXBKfoS0kxs5k4ATrvdHjkkUeMZ+Lx2xYedK/ClYd6XoBZtw4A3X0kIc2aqRHSrJlaIM2aZe5oeF7UjwakWXNfeJwsAOiGKgB0c4AA0IMmiwaUwoNuGUca67j0DPrXX3+tUqXxWWj2QAcKByZj0OZo3zpR3LkeR3pnoGYAf/75543o4dZRwDbsxQ2c+WZPbbgSOIPO554Dhc8/MxDzVnoGcD5Tzl5d61ZstuWt43yOftWqVWorPW/pvuCCCxS4s1d63Lhx6jw1F2l/+BgA/2PY5y35lSpVUmfjGU4D57Kdotxb9VHftS5R3K2a8PZ0fkavvvqq2uHAOwqctqc7Pa/ANnnebWB9gcF/v/LKK0tskw9cN/BigAPO8QuCQHE6g85b7lnfESNGGHZOgM7jgs/Pf/vtt96+Z/+sBQ96RPKV7cq6sM1q6NYBoLuPIQC6qREA3dQCgG6ZOxo/7NSPBgC6+8LjZAFAN1QBoJsDBIAeNFkA6KYgGlroeNClgM4eaT4LzuegrVvcGWgZONnTzdvDO3fuTHv37rUFI3MDUI4Q3rNnT+WtDhWITArEboDOgnI6Mg5mxt5lp8IgztviN23aZHzMQdbYq64L6Hzems9/8wsMLuzF5+3t/E8H0DmwHnuweSeAW2GPOUdf5//lc+TBQeMC9Z0Anb3m/Hw/++wz9cIiUH744QcVKC840Fzgc74v3knB1+SXC4HiBOh8XX7erC+f8efiBOjXXnut+owhPZICQI9EvTJeVxe2WQ7dOgB090EEQDc1AqCbWgDQLXMHgG5fSIp/dMSkANANWQHo5ggDoAfNNg0ohQfdMo401nEpoHPrDOL/+te/FGyyhzYQJI5Bi+GMtzLz+WOG+IsuukhtWa9cubLaws3ed/YiB4rVQ8yebfb6coow9pq2aNFCgSCfCWc7jugeTUDnbdYctZ2DyDEo8pZzPlvOgc44EBwHu+PAaAyGHKGeA7uxB5q9yLqAzr/N58+frzzwrBGfveat7exF1gF09kpzoDkOosfn9K05xIO/owIp0hiwTz/99JAp0pwAnfXm8+LcX2vhZ8TPlmMNcLBAp8IvD/iFTeBsPds4ATr/nZ9pp06dVKA+Lk6Azn9jL3sA1L1+FwPQvSpXDurpwjYAXT4oqtbMERsD0AHoToMFgA5AD7mIANBNkE7LEK+1/jx5ilAAOgA95MACoJvSaGgRCw86d4QDfHHQNvbkMkxb06wFOspAxd5n3kp+3XXXGWnWwgE61+X2Hn74YQWzfE6ct6EztDNEMxhGE9D5enPmzFFn3zl9GG875+3n/AKCt8Jz4fvk8/EM7xzUjWGS+6AL6JxajfN+c27yihUrqoB3HEiN08rpADp7tvnlAZ8lb9CggWOaNes84h0CkydPVvdpDYZntQkGdH5mvLuA6/Tt27fEtOSXGlyH4xE4FY7Kf+ONN6r7C2yPDwXofI1AMD9+vsGAzmfa+SUPv6gJjk0g/iL60xCArqtYObIvDUC3Rm73mhM9HoLEFRSYW2okQ6RqzSMSM2Vz5GDJtCGhKqekFIrbXfdHLbFtPb89nYlbxU3J8h/FtYuDmEjLEZ9zJE6n+unFb06lZUr6Yampssv254vtl+36Rmw7qXZ3se33KXLdGhWZQU0kF/gtST6OHn/fzB3q2nahXLfiPXWuzRkGGp4XrhOzLe5+jT7L745IRzduV0M7v0affSlp8l4np8ptQ0TYDdmAxv3pgLQWoGtoUbBsjlwLtsysKrfXeKlAmdXE7fqqmHmH3Sppe9A1nnfK3852u7ynz/158pfkWuO+uDf+gjxxn/wHjgXvEhWdOaVzf5Wriy5vGGl8D+toQRrreHrzLnp9LuPWTt7+Mn7LUbs99rLziwx+0RHqpYD0YvyCgKPCc874SAsAPVIFy3D90gB0q3xersf1AeimigB0UwsAuqkFAN2+UAPQTT0A6BYtNGBXB9oA6EE/lADohiAA7SJCwwAAIABJREFUdMvYiBGgszeUzxhz4SBn7Pm8/PLL1fZv9kJ7KVLPuG7bTlumJW0A0CUqhbbhYILsYY9kWzrvWuDdDffcc0/E3nPuKQA9smdapmt7AWYvdQIieq0LQAegO01EADoAPdQCDUAHoDuNDXjQTVXgQbdoobFbgmvpeI0B6KUD6LwNms+Ycw50zmvOwdMGDBig0mhZC3+emuq++weAXqbxJy5uDoAeF48hPjvhBZi91AGgh3/+2OJu6oMt7qYW2OLu7YedejMdqyjuGtvFtVZ9bHG3y4Ut7qYeGl5/bHG3vJjS2QIOQLfPvwTb4u50nnjQoEEqpzWfeeYz1XxO+YknnlBnpDmo2sGDB1VgMf6Mz7AHzq1zTnWOuM7nkK2F4Z+vw2e0Q9UL2C9atIgef/xxlYaLg9HxmfU333xTBaX75JNPbO3y9ut9+/bRHXfcoV4s8Nnwpk2bqi3U1u3Y8KBrfaMmhDEAPSEe01/TSS+w7aUOAB2ALh3hAHQAuuNY0dgaCUC3K4gt7lZo0wgSpwFt2OIeNGuxxd0QBB50by9adc6gOwE6AzkH/GLw5ejdnN+aA7txBHEOvNa1a1eVno2jj3M+8ZdfflmB+YYNG9T2ZU51tnTpUvrwww/VDbANRxEPV4/b48jql156qQos169fP8rLy1N/Y+Bm+OYXAByQjV8gcOGgcxxlngPccTT0KlWqKHv+rf35558bOdEB6NJfkYljB0BPnGdV6j31Atte6gDQAejSwQ1AB6AD0AWzRcPDDEAHoDuNKGxxN1XRiTfAtbDF3TKnNALm6QSJo0YdVKRya+E0XvwvuAQD+urVq1Wk7R49eqi83qNGjVIQfNxxx6mqy5YtU1HROXCxtb2TTjpJRUlngHba4i6pd9ZZZ1GTJk1o1qxZjgu59Aw6R2jnvgdSgwHQBd+LCWYCQE+wB1aa3fUC217qBO7JGtFdcp8TJkxQZjiDbqqFIHGmFjiDbmqBIHH2FQVb3C0/oDW25WuBik7EaQ2Pquq5xgsIRHG3jH1EcTfEQBR3ywuIBIziPnrOhyrIm7VkZWUpcHYCdAZi9nAXFGeN4XPm7MV+6aWXVGq12bNn08aNG41qHOjrgQceKBHoKycnh4YOHapynjsBuqQepyx74YUXSmyRD1zcCdB5y/2YMWPotddeUy8S+MUE/+OXCJybnAsAXUINiWUDQE+s51WqvfUC217qRHpTAHQAutMYAqAD0EOtLQB0ALrT2ECQOAu0Ic2aIYbWi6niWvCgW9aXOPGgM9hyQDgOAFe/fn0jEJwTaDOAP//88yp3dnCpVq0a1apVyxHQJfVq1qypvN7BZ9jDAfrYsWOJ/z3zzDNq+z1HnueUYByRPlxO8kh/W6P+X6sAAP2v1T+ur+4Ftr3UiVQEADoAHYAefhbBg27XB4AOQAegh18zsMXd8rJCI94A1wKgxx7QIz2DHuihE6B/8MEH1LNnT/rpp5+IPdpOhbfF87nwb775xvhYUq979+7UoEGDkFvcmzdvrgLXcaquQLn44oupdu3aNHXqVPWnouIdRLy9nf8B0CMliPitD0CP32fzl/dMd8s5d5jP7PB2odIsAHQAOgAdgK6z5gDQAegAdAC6dM2ABz1IqTIQxT0coHPkdI6sfujQIbWdvUWLFvTbb7/RO++8Q71791YR3TnAHJ9F/+yzz+j444+nzMxMSktLc63HXnk++/7II4+oIHG85f7dd99VZ9u5nH/++WprPW+95/Pv7K1nx9f8+fNp3rx5VL16dRo/frza2s6wD0CXzuLEswOgJ94zi+sew4MuezxVax6RGRZbIc2aKRWCxJlaIM2aZQohirt9PdE4o40gcZaXFRopy3SgDVHcg77uNGIOpPztbPF3pY4hzqCbavkS8Ax6LD3orAzDOUdaZzDes2ePiqbO0M6R3hs2bKjOgPfv358++ugj2r9/v8qxzsHo3Opx25xSbcSIEfTdd9+pqOzcLl+Hy6pVq5QH/ccff1TX4JcFHN39hhtuUNfiM+z8YmDr1q0qpRsAXWfWJ5YtAD2xnlfc9/avAPQ7TrxKrEuzolSxbbJfbEr5PrktW56eZ48+Gq72bl+aXuNC690p8k6na2jBlz+xOAiLtNTMyJGaUn5Bstg2NaVQbPs2ZYpt2bBuoVw7nYZv3f2x2Hxc3e5i2y1JBWJbNswmuXbPLbpJ3La/SD4uxI2yoQaQsrkvs5a8eQ2Y0O2HuBO6edB1zn3qaJdRSdxlSk4R2/o0bLlRf36evO1U+foZq3YLFr4i7u+x8Slfj/zFOZqlxVecCkpcqh+LaC0qR+UvnFV7Gh7Y5PY9RV1QRkXydUsr3kBahrwPPD415p//9+3ytpPk33+Umy1u11e1tthWGWps+fcflfeDNHTLOL23Xp9hDQUSTAEAeoI9sHjvLgBd9oQA6KZOAHRTCwC6bP6UsNKBTOYDALopoY52AHRDN53o8AD0oBkLQDcEAaBbxkaMAX3nzp00cuRIlUecg8bxue62bduqgGu87dxrQQR1r8qhXjgFAOgYH1FVAIAukxOADkB3GikAdNn8AaC76KTxQ1fL6w9AB6A7DT140G2qwINuyhEvHvTNmzdT586diaOwc3q21q1bq3Rr7733Hk2ePJl++OEH7S8frs9R4QHo2tKhgkABALpAJJjIFQCgy7QCoAPQAeiyuSKy0vECFzcID7pFVR3tAOgAdAC665IEQI8/QL/oooto/fr16mw3pymzFj5DzuDO57qHDBmiznonFR9tuvDCC1W6tTp16ijzQMT3O++8k5544gli6L/22mvp1VdftbX3yy+/qOjvfMac86Z/+umn6pocAG7ChAkq8BsHi+P/z9fq2rWrqj9u3Dh1xp0jw9erV891nMGgbCsAQC/bz7fU7w6ALpMcgA5AB6DL5orISgcyAeh2SXW0A6AD0AHorksSAD2+AJ2DrDEU8/Z2zk7kVDgY2+mnn65AmvONc3T12267TUVnD+RDZ0DnHOZdunRRIJ2cnEyNGjVSKdlatWpFjz/+uGr6uOOOUxmN2Es/aNAguu666ygnJ4fuv/9+1e6yZcuUHUdu52jsX3/9tYL9jh07qtRtl112mesYg0HZVwCAXvafcaneIQBdJjcAHYAOQJfNFZGVDmQC0AHoIQYVgsRZhEGQOPNlDILE2WdMHASJ87XqqaKcWwunJeN/wWX16tUKfjl6eij4DeQwZ+83R2nnwh7wU045hbh+hw4dlAed85/z+XWG8EBx2uL+6KOP0r///W+1hT5Qtm3bptpmLz7nO8/Ly6NOnTpRs2bN6L///S+deeaZ9MoregElRd+PMEpIBQDoCfnY4rfTAUD3kkNd9654qxAXRHHXVe6YPaK4m7ohirt9DCGKu0UPRHE3xYAH3YQ2jejwCBIX9B2FIHGGIAgSZxkbGrEzxry9Tp0lt5asrCwF0cGFQZlBeMGCBSqPuVN57rnn1PZzBnRr4bzjzz77rPKCc9uzZ8+mjRs32mycAL1Xr17E0M+50a0lOztb5VNnrzsXfgnAnnb2xPMW/ODt995+3aFWWVAAgF4WnmIc3UMA0EvTkw5A9zYAAOgA9FAjB4AOQHccGwB0ALrTwECQOJsq2OJuyhGrIHE6HnTJFneGcP73888/254ln03nc+h81jxwBn3dunWugM4AzjnLn3zyyRIzhs+XB0B8ypQpdMstt6it9AzoAe+9t191qFWWFACgl6WnGQf3AkCXPQRscTd1Qpo1UwtEcZfNnxJW2OJul0TDE4Uo7haYiFF+dXjQg2YsPOiGIPCgW8aGxrqlmwedgZmDr4UKEvef//xHebWdtrjzZ+3btw8J6BzsrUWLFgrkA+Xhhx+m+fPn07fffkspKSmOX2ybNm1Sad7Ye89n0XNzc40AdR6/CVGtDCkAQC9DDzMebgWALnsKAHQAutNIAaDL5g8A3UUnjR+6AHQAuuNowhl0QxYfzqDbh0gcnEHXBXQG77POOotq1KihgrnxtnIO2Mbb0CdNmqS2mnOQuMqVK9uCxPH/twaJW7hwIQV70AcPHqz+xpDN9nwNzrnO8H3OOefQvffeq4LU/fTTTzRv3jzjnDlHb2dvOoM825966qkqcBzbo0ABADrGQFQVAKDL5ASgA9AB6LK5IrKCB90uEwDdhCuNs+IIEmcZRgB0AHqoxTcBAZ1vZceOHSqS++LFi9V/c6A3hnL+3crnyKVp1oIBfcOGDTRgwAAVjZ2jtQfSrPFZdY7c/vHHH6uAdnzOnFO3jR8/nkaMGEEvvfSS8urXrFlTKf3WW2/RlVdeqYLLMdyjlG8FAOjl+/lH/e7/CkBfWqef+D6qJ+eJbdNSCsW2xRk6tEpKcpHY/kBuyaikoSpXSs0Xt7skqbLY9iR5s6rNdWny+2tekCzux/4ksSlVlneBvk6RjwvuQUWS97mI5IOjUZHzVjinu75n58diMQbX7yy2ZcM8kov3wqJB4rb9RRoDSQe6/fL+cme18qAny58JFRaItdAyLJKvRapdHT10dE6Vr0WkoZtPw1bdnobOvrQKYqn9eTliW58GpBS893/idtX4rCRfmynPHsk67IUyq8j7Ub223DbnsNxW3aB8IU9ud564bZ9Gu1pnozXGkOpsvvyZFP3xm/z+klLFtv58jbFcqbq4XWWYLO8HacwpnfUzvfUFen2GNRRIMAUA6An2wOK9uwB02RMCoJs6AdBNLQDolvmjA446QMp8kFlLNlHVj1EAuiEWAN2QAoBumUIAdPt6AkA39QCgy79rYAkFLAoA0DEcoqoAAF0mJwAdgO40UgDoAHTHFQQedJss8KBb5IAH3XxpAg+6oQU86OYcuf7662nmzJnqDxywjc+I8xn0q6++mvizJEsqzbVr16pc559++ikdOHCATjjhBOMcOecu37x5MzVu3Fhtj+cgbxx9PVB4WzqncXNK9Sb7ZQgrKGAqAEDHaIiqAgB0mZwAdAA6AN1lrsCDbgoEQAegh5ouAHQAusPYAKDbAX3Xrl00ffp0KiwsJP7vpUuX0ujRo4kDtS1atEiBO59N79OnD11wwQV05513UtOmTWn37t30r3/9i3799Vd67bXXDEDPyMhQAd2sudgB6LLfv7CSKQBAl+kEK6ECAHSZUAB0ADoAHYAuWy2KrQDoAHQAuut0wRl0UyIAuh3Q9+/fTxyB3VqWLVtGPXr0UFHV//GPf6ggbl26dKEFCxaUGGtcn3OiBzzoHGmdo7+zF7127WPxGgDorlMUBhoKANA1xIKpuwIPPvigyuXIbx1nz57tXiEKFggSZ4qIIHGmFggSZ2qBIHH2hQZn0C166OxUwBl0QzicQbeMIZxBty8wOINu6hGjM+jUopuKjG4t6enpxP+CC29jdwL0AFTXr1+fBg0aRJdffjl98cUXdOaZZ4b8ZRoA9K+++opuuOEG6ty5M02cOBGAHoXf8mgi6HeKv7jESpSANzVW7aPd+FUg+NkHwD2aPZ4wYYJqDoAOQHcaVwB0AHqo9QaADkB3GhuI4m5RBVHcTTEQxd0+XeIgivvoN1fatpdzB7OyshzPf4cD9H79+tH69evVWXROifb7779T9eqho9oHAJ3PqvNW+Ysvvpi+//57tR0eHvRo/sJHW/CgYwzERIFgQI/lyxoAOgAdgB5+GsODHvRmGlHcTUHgQTe0AKAD0B1XUgB63AF6tDzoV111FX377bd03XXX0QMPPKAF6Azk5557LtWtW5fmzJkDQI8JTZTfRgHo5ffZx/TOAejh5cUZdFMfpFkztUAUd4+eXaRZsy84OnoA0AHoTl9X8KDDgx7qZ0wceNB18qCH86BzNHeO1H7jjTdqbXFnDzoD+urVq9WW+DVr1tDAgQMRxT2mZFG+Ggegl6/nXWp3C0AHoEsHGwAdgO44VnTAUQdIiy+GLe4eX4TgDLohHM6gW8YQzqDblzCcQTf1iNEZ9GgAeiBI3LRp0+jKK6+kE088URwkLgDofKN9+/algwcPqi3vSLMm/eUHOzcFAOhuCuFzTwoA0AHo0oEDQAegA9BdZguiuNsEQh50ixxIs2a+NEEedEMLRHE35wh70EOlWevWrZuK7p6cnExvvfWWgu0LL7xQpVk76aSTaO/evfT666/T1q1bad68eUYUdyugb9iwgU455RSVqo3PsSMPuvTXH+zCKQBAx/iIiQIAdAC6dGAB0AHoAHQAunS9YDsAOgDdabwgzZqpCgDdDugzZ85Uf2CI5iBwbdq0UanVBgwYQElJSYYxb1Xn/OgrVqxQXvGGDRuqc+acVo2B3Rokjre4B8rNN99MkydPDhmoTmd9gy0UYAUA6BgHMVGgNAH95eOvEd9DjUJ50oJMDa9VIfnEfWDDZJL3Y19yirjtShrbghdl5InbbewvmbokXOX6hXI9GuYXiPtx1CdvN10jQcVnFZLFfWDDmkXyfug0vCVJrkUuFYmbnvzb52JbNuxfv5PY/uU3B4htqTBfbquzbb1Qrpv64qtyLG+tqGjMP9Lsh+j6bKSjBZsX2NMPia/jYuhL0VgHdHTTOdPKfdQZRzoBvnS242poUbhwit4jyMyU2welmgpX0VelirzdmhpzJCdb3q6agPL1M/mMi/TaFlr7c+V99umMITX/5N+t/n2/CntcbKYzp47mytutUlNuy49PY77qBF4kjXUr44y+Wn2GMRRINAUA6In2xBKkvwD08A8KgG7qA0A3tQCgW+aNDpRqgjEA3dsXCQDdohsA3RQDgG6bUAB0U454APTly5dT9+7dQy56vM19+vTp1LhxY7JuXfe2SqIWFIiOAgD06OiIVoIUCM57vnv3bpo9e3ZMdIIH3ZQVHnRTC3jQTS3gQbcvPQB0b0sxAB2A7jhyAOgA9BBLSjwAel5enkqfFlwWLVpEt9xyC7322mvUoUMHALq3rwXUipECAPQYCYtm7QrEMg86AB2A7jTfAOgA9FDrMADd2zcUAB2ADkB3nzvwoJsaxQOgOz2x77//njp16kRDhgyhJ554IuTZcvenDQsoEBsFAOix0RWtBikAQLcLgi3uph7Y4m5qgS3ulnmCLe6WX7nyeANcCWfQLeNI5/wwzqCbwuEMuqEFzqDbf7/Ewxl0X5tL6GhQ/IX09HTif25l//791LFjR2rRooWK3O4rjokQKvibW1v4HArESgEAeqyURbs2BQKAHrz1PRKZJkyYoKrDg26qiC3uphbwoJtaYIt70A9MBInztPTCg26RDWfQTTGwxd02n+BBt7xb1HnppREkbsw7/6Xhw4fbdM/KynJNcVZUHEj3f/7nfxSQr1q1iqr8GTgRgO7pKwGVYqgAAD2G4qJpU4EAoMfCkw5AB6A7zTUAOgA91BqMLe7evp0A6AB0x5EDQAegh1hSYrXF3asH/YEHHqCXX36ZVq9eTc2aNTN6DUD39p2AWrFTAIAeO23RskUBALp9OGCLu6kHtribWmCLu2WeYIu7xQ2FLe62FRRp1kw5kGbN028tpFmzyFZO0qxxMLj+/fvTkiVL6IILLrCNGwC6p2mESjFUAIAeQ3HRNDzoocYAAB2A7jQ2AOgAdMc1Q+dlRXEDOINuURFn0A0xkAfd8s4LedBNMcoBoK9bt446d+6stsUPHTq0xDILQAexxJsCAPR4eyJltD/woMODHmpow4MOD3rEUIo86DYJAegAdKc5BUAHoDuutWUc0Pfu3Uvt27enU045haZOnVpCguTkZMrOzkaatTLKH4l6WwD0RH1yCdZvADoAHYDuPmnhQYcHPeKXFfCg2yWEBx0edIdJhS3uFlHKOKDPnDmTrr/++pBfwI0aNaLly5cD0N1/osCiFBUAoJei2OX5UoHo7bt376bZs2dHVQqdIHHH5xeKr62zDb2QfOJ22bBOao7Y/vf8DLFtGsnvb3WGezqSwIXrFoi7oAzlvSA6viBf3HiuL0lsqxMkbnpGrrhdNmzgqyC2TxZbEu0nudCF5Be3nK9hy43O/m2VuO3sNdPEtv4i+bMWN6oGnFw3NtcJEudLThF3xa/ZD3nDemfQKf+ouGktQw3Y1dGNkuTzmvuro7NOiiydgFa+lDSxdAXvzhTbqvFZsaLcPl9jTmVWkbdbrZbcNveI3FbTMvk0+1lhzeqhzXWii6fKvyvVBTXmX9H+nfJb0pknGvfny9R41tzb5FR5nzX64deILZHR5iJ5H2AJBRJQAQB6Aj60RO7yXx3FHYBujh4AuqkFAN2+qgDQTT10QFMHHLXWcc0z6DqAoNUPALohFwDdMnIA6PZpBEA39UhAQA+cRw/cBKdia9myJT388MN08cUXG/f22GOP0cKFC4nPt6NAgWgrAECPtqJoL6wCAPRj8sCDbg4TeNBNLeBB97iAanqu4UH3qDMAHYDuNHQA6AD0UEtKAgP6hx9+qM6t79+/n1588UV66aWX6KuvvqJWrVqpuwWge/weQTWRAgB0kUwwipYCAHQAevBYAqAD0CNeXwDongFBS3sAOgAdgO4+ZeBBNzWKA0Dv1q0bnXrqqcTB4Pg8elpaGo0YMUKlXLvjjjvojTfeoNq1a9PEiROpZ8+e5BTR/dChQ8Se9Oeee46GDBlCM2bMoIEDB9rGwvTp08OedXcfOLCAAqYCAHSMhlJVAIAOQAegh55y8KB7XI4A6AD0EEMHZ9AtwuAMuidwJJxBt8+uODiD7ju5Bx09ao+1kZ6eTvwvuDCgs+f7vvvuo6uuuoo4H3pWVpbKhX7ZZZcRfz5hwgR6/fXXaevWrcSxkho3bkxr166ltm3bUn5xnIfnn3+e7rnnHpo0aRLdcsstlJOTQ8OGDaOlS5cSe9q5VK1alSpUkMen8fhth2rlRAEAejl50PFym4FgcdHoDy+oXBAkzlQTQeJMLRAkztQCQeLsKw62uHtcgeFBN4TDGXTLGMIWd88vyBAkzpROJ0jcmAWrVU5za2Ho5m3nToBeWFhIK1asUB/xfzNMX3755fTqq6+qv+3cuZPq1atHK1eupLp16ypAZ9hOKg7MxzBeVFREJ554In355ZdUo0YNVQdb3D1+j6CaSAEAukgmGMWzAgB0ALrT+ASgA9BDrVsAdI8rOgAdgO40dADoAPRQS0qMtrjretD5LPkLL7xg9JJTq/H29nvvvVf9ze/3Kxh/6623qHXr1grQFy1aRCeffDJt2LCB7rrrLnUGvUePHkYbAHSP3yOoJlIAgC6SCUbxrAAAHYAOQA8/Q+FBt+sDQPe4ogPQAegAdPfJgzPopkYxAnSdNGu8hZ23qj/zzDNGv9gbztDN/wLF5/PRggULlK11izt//sknn1CfPn3ou+++U+fVuQDQ3acCLLwrAED3rh1qxokCAHQAOgAdgK6zHAHQddSy2ALQAegAdPfJA0Avc4DON8Sg36ZNG3r22WfV/Y0aNYrmzp1L33zzjfuYgAUU0FQAgK4pGMzjTwEAOgAdgA5A11mZAOg6agHQndTCGXSLKtjibh8iAPQyCehvv/029e3blzZt2kQNGjSgOXPm0ODBg+mzzz6j448/njIzMx2D1HlcbVGtnCsAQC/nA6As3D4AHYAOQAeg66xlAHQdtQDoAHSX8QJAB6CHGiJlZIs73x6fU2/ZsiWde+65Ki86R5HnVG0fffSRypWONGsev1dQzVEBADoGRsIrcHT9e+J78BfY03KErZicIm7X50sW27Jh0b5fxfa+jEpiWy1DjfsjzTRWVCFT3pXi6KjS4kspmUIlVF1/Ub60WfJlaPSXW03Se97ijuRmi011DLXGfXHDOjpXan+DuCu9650utq3iSxPbZpJ8rnKjLQvl9tUL/OJ+pBb/gJOWPSlJUlPanCKfI9zozdX2iNve/4c8LdBSqiJut06B2JQqF8l141ZbVf5D3Hju0VSx7R9H5euLuNFiw453yTVW7R7NkzdfHNhKWvzZOVJT8mfnim19FfR002k7uXVzcT+Ko3zJbQ8ekttWyJDbsmWBfPAfWvCDuO20mmJTSqos/45KOf5YVHJx0Xje/v1ynYsOycdclZflv/vE9wVDKBBHCgDQ4+hhoCveFACge9ONAOiGcAB0+xgCoJt6ANBNLQDo3tZaALpdNwC6qQcA3dQiVoB+/fXX08yZM9WFkpOTqX79+tSrVy91hrx69erq7xw0bsuWLeq/Ob1akyZNaMiQIXTzzTcbHczLy1OB5mbPnk0bN26kihUrUosWLeimm26ia665hlJT5S8Dva0kqFWeFACgl6enXUbvFYDu8cEC0AHoIYYOAB2A7jQ0AOje1loAOgA91MgBoJcOoO/atUttQS8o3t3AkdhvuOEG6tq1qwryFgD0G2+8kQYNGkSHDx+mGTNm0MiRI2nevHl01VVXEcP5BRdcQF9//TWNGDGCOnfuTFWqVKFVq1bR008/TdOmTVPR31GgQLQUAKBHS0m085cpAED3KD0AHYAOQHedPPCgmxIB0F2Hi6MBAB2ADkB3nzux9KDzGfGFCxcanbjnnnsUhO/bt88A9OC0a82bN6fTTz9dQfzYsWPpwQcfpDVr1lC7du1sN5Ofn68AvlKlGB1HdJcOFmVQAQB6GXyo5e2WAOgenzgAHYAOQHedPAB0ALrrIHExAKAD0AHo7rOotAD9559/posvvljB+c6dO0MCeuvWrYkh/Y033lDp1erWrUvvvYez7+5PEhbRUACAHg0V0cZfqgAA3aP8AHQAOgDddfIA0AHoroMEgK4lEc6gm3Jhi7uphQ6gpz+3SEVRt5b09HTHNGd8Bn3WrFmUkZFBhYWFlJt7LBjd+PHj6X//939LADpvg2f7gQMHqmjtt956qzpvztvfAznQtQY8jKGABwUA6B5EQxXvCvAWocDi6L2VYzUnTJig/heA7lFJADoAHYDuOnkA6AB010ECQNeSCIAOQHcaMDqAPr7emTR8+HBbM1lZWfTYY4+VaJoBffv27TRp0iQ6cuQITZn2cOoEAAAgAElEQVQyhTZs2ECLFy+mlJRjGT04SNyOHTtUoDcG/7S0NLr99ttpzJgxxckBklTgOA4Yx0HiUKBAaSgAQC8NlXENQwF+WxkA62jJAkD3qCQAHYAOQHedPAB0ALrrIAGga0kEQAegRwrouh704DPo3bt3py5duqiAbwFA50jsDPPsLa9Xrx75fD6jm9jirjXFYRwFBQDoURARTcgVAKAf0wp50C1jBnnQTTGQB93QAnnQzWGBPOj27xjkQbfooZH7G3nQLbohD7ohRlnPg87QHQzoy5cvp549e9KmTZtU2jX2oAcHibOuOk8++SQ99NBDjkHieEs8e90RJE7OArB0VwCA7q4RLKKoAAAdgF5iOAHQAegOawwAHYAe6qsHgA5AdxwbGi8rCIBergGdb759+/bUqVMnmjhxoiugM4Cfd9559O233yqvO3vfMzMzFbAzvE+dOhVp1qLICmiKCICOUVCqCgDQAegA9DBTDh50eNAdhgc86PCgh1w1NKAUHnR40J3GUXn0oLMOc+bMUYHgfvrpJ5UTPZwHne0Z0vmIJtfbuHGj2grfsmVLFTyuf//+xnn2Uv1RjYuVWQUA6GX20cbnjcUC0HPXLZbfbL496mfYismp8nY1fiRxo/59v4nb9qVVENtqGf4ZHEVUp3gLl1apVFVu7i+S26akyW0L5X32pWvmL9V83tJO+49mS0317HTGPbecmi5u/5pLJ4ttF+74Umzbq64912y4ihV9xwL9SEufPPnzrlJUKG2Wkskvtj3gSxbb/paaJLZlw8sbbhfbH/5D/qxXHKolbrdmgXxeV9RZA4p70KzusdzFknI0R76OHz4iX18Ki+TPpNWQTElXTZujeXJ7jbXIn3MserWk+HPkffClyzXma+ucQU85vZWku9o2/oMH5XWKo4NrFY3xfGTRenHTKTXka0ZSRfmamNygprgPbOirkCG2L/r9gNhWZ8xlPqfxu0/QAz5vvmDBAurduzdt3ryZGjduTGvXroVXXKAdTGKjAAA9Nrqi1RAKANCPCQNAtwwQjR8zBED3trYA0G26AdBNOQDoFi0A6IYYOrAEQA9aljW+0wDopnY6Y04H0PkM+syZM9WFkpOT1ZnzXr160ahRo6h69erq71ZA51Rse/bsoVq1asEr7u0XB2pFQQEAehRERBNyBQDoAPQSo0XjxwwAXT7XbJYAdAB6iKEDQAegOw0NHVgCoAPQQ30zxYMHnQF9165dNH36dOKAbt999x3dcMMNalv73LlzSwC6x29ZVIMCUVUAgB5VOdGYmwIAdAA6AD30LMEWd1MbbHE3tcAWd/ucwRZ3ix7Y4u72s8Pxc2xxN2Up61vcnaK433PPPTRjxgzat+/YcRlscfc0jVAphgoA0GMoLpouqQAAHYAOQAegS9ZGADoAPdQ4AaAD0CVrSDgbAHr5BfSff/6ZLr74YgXnO3fuBKBHOplQPyYKANBjImvZa/TBBx+k3Fx5gJlQCuzevZtmz54dVYEQJM6jnAgSZwiHIHFBYwhB4gxBECTOHBsIEmdqgSBxphbY4h60fmoc28IZdFM7nWMVaU/NV1HVrSW9OJgf/wsu7EGfNWsWZWRkEJ8vD/yWHT9+PLHTiAs86B5/R6JazBQAoMdM2rLVcLQ838HtRAL+nO6CCwDd41gDoAPQQw0dADoA3WFsANAB6E5LBgAdgB7qqyRWZ9DH1WhPw4cPt102KyuLHnvsMUdA3759O02aNImOHDlCU6ZMoQ0bNtDixYuNIHAAdI+/I1EtZgoA0GMmbdlqOFaAHo12AegexxoAHYAOQHedPPCgmxIB0AHoAHTXJaM4TYs8xSA86KaesfSg79+/nxYuXGhcrHv37tSlSxcaMWKE+hsAXTCuYVKqCgDQS1XuxL1YNECa7z64nWi0C0D3OK4A6AB0ALrr5AGgA9CdBgm2uJuqwIMeNEIA6IYgsfKg66ZZCwb05cuXU8+ePWnTpk0q7RoA3fWrEAalrAAAvZQFT9TLRQOkAeiWN8X7fhMPBV9aBbGtliEAHYAOQHedMgB0ADoAPfw0AaAD0EONkHgFdO5v+/btqVOnTjRx4kQAuus3IQxKWwEAemkrnqDXA6C7PDiNVDfckh+AbnlbId8OiDzoHhcQ5EG3Cdcnr5JYSAA6AB2ADkAXLxjqC17+nYYt7pafAjl5Ypkj9aDzhebMmUMDBw6kn376iU444QRasGAB9e7dmzZv3kyNGzemtWvXUtu2bcV9giEUiKYCAPRoqlmG2wKgA9C1hnelqnJzjR8zAHS5rDZLADoAPcTQOfxHyajHoUYZzqCbymCLu6kFPOhBM0bjOw2AHntA9/itiWpQ4C9VAID+l8qfOBcvM4CelyMXPUX+w5V0Peh7t4n7oZ0CTNpyvGxxL8yX9phII7o4FRaI29XW2JckblvH0J+vMT6L5F4aKrCno3Htk8axitt6z3BtLmCwr0ieqnHJzrXidi+sq+fluPVoFXHbmT75OErxyZ/J/qJUcR926czV4lZ7NpWvL4f3yte5VfuPE/e5lsb8q+grFLfLho3q/yG2z89NFtseOpwhtvX5/GLbZoPk4001micfc+JOFBv6c+TrgD9f3gdfaopON8ifLV8HUjq20WpbahzTPOgaa/ORt9ZJu0ypteQ6+zLk4z65oXxec2d9FeRrhtYW92z5+NTxoIsFhiEUiCMFAOhx9DDiuSsAdJenA0C3C6TjQQegG9oB0M1hBEA3tQCg25cXALq3XwsAdFM3ALqpRXkA9N27d9OwYcPo3XffpV27dlH16tWpTZs2Ki3bmWee6TqhAtvek5OTacuWLdSgQQOjzo4dO6hhw4Yqx/ovv/xCJ554omt7MIACbgoA0N0UwudKgWgBenDec140Z8+eHZHKWlHc4UE3tdbxyhXIvSnqAgB0T2MagA5Adxo4AHQAuqcFJagSAB2A7jSOygOgd+3alfLz82n06NHUpEkTBekfffQRtW7dmnr16uU6vQKAziB+6623Ev+WDZQxY8aoHOtbt24FoLsqCQOpAgB0qVLl3C5agB4sYzTaBaB7HJwAdEM4bHEPGkPY4m4Igi3u5tjAFndTC2xxt2iBLe72BRRb3A094mGLO6dYY485p1Y755xzSvxgcgoKF6jz8ccfU7du3YzAcY888gi99tprtGHDBqOdk08+ma688kqVUz3gQX/88cfppZdeom+++YZq1qypbC+55BLidrkfSZq7Lj3+ykO1BFYAgJ7AD680ux4NkHbqbzTaBaB7HAkAdAB6qKEDQAegO4wNADoA3WnJwBn0IFUA6DEH9LSn5tPRo/Yz6+np6cT/gktB8Q5ABvSbbrqJ2NsdbKMD6KtXr6aLLrpIRXzv0qULffbZZ3T55ZfTkiVL6IwzzjAAnbe7s9e+Tp06ypZh/YEHHqCvv/6aGjVq5PFHG6qVJwUA6OXpaUdwr9EA6XCAHrz1XdLVCRMmKDMAukQtBxsAOgAdgO46eeBBNyUCoAPQAeiuSwYRAD3mgD6uRnsaPny47WFkZWWpM+VOZf78+TRo0CDKycmh0047TXnS+/Xrp7a46wA6p16bOXMmHThwgKZNm0Y33HADVatWja677jpq166dbYv7zz//rNK03XbbbfT888/T5MmTqX///oIBBBMoUByM0V9cYiVErKAuVv1Fu6EViNWzDLQbSfsAdI8jF4AOQAegu04eADoA3RFKEcXdXD+xxd0+RADoMQd0HQ96oDO5ubm0YsUKWrlyJS1dupTYGz5lyhS1hT0473moLe4M6CnFv504sNzGjRupWbNmqj320gcDOl+Xofzmm2+mq666iubNm+f6fQMDKBBQAICOsSBSIBKADncBALq7/Nrno92bPGYBQAegA9BdZwsAHYAOQA8/TbDFPUgfAHrMAT0aadZ4y/sHH3ygoJ23nX/11VcKsrns2bOHateuTcFn0BnQ2SveoUMHqly5MmVnZyvQX7dunSOgX3PNNQrM27dvr7bDM9yjQAGJAgB0iUqwiVoU92ApAejugwuAbtEIedBNMTR+BCIPun2eIQ+6qQfyoJtaIA+6qQXyoFvWDIdzzWG/uTXWZuRBt4y5Us6DPn78eBo1ahT9+uuvVLFiRXWOnM+Xc2FwP//880MCOkdt563r/L+33HKLI6BzMLmBAwfS+++/rzzo/EIgeFu++y9AWJRXBQDo5fXJa943POgugmlG5PTv3SZ+AgB0ALrjYNH4EQhAB6CHWnAA6AB0p7EBQAegh1ozfBVKBmILZRsPUdz37dtHffv2VefF+cx5ZmYmrVmzhoYMGaJSrE2dOlVtWU9NTVXB3Pbu3Uv33nuv8oyH8qDzlnbeBs/nz9krHuxB37Ztm7oWAzlfh4Gfr/Xpp59Sp06dxL//YFh+FQCgl99nr3XnAHQAutaAQR50LbkCxsiDbsq2ZOdasYYX1m0rtmVDeNBNuQDoAHQAusvyAQ+6TaBEA3SO9s7B49iTvWnTJpUPnfOZM7Q/9NBDVKFCBfr+++8VwHOU9RYtWtDYsWPDetCDR4wV0Hm7/HnnnafA/d133yWfz6fM7777blq0aJGCed4ejwIFwikAQMf4ECkQK0APRG/fvXs3zZ49W9SXYKPcLxfK6+Xb03KErZiscVYoKVneh2JL/77f5PZpGXJbDUtfcqrY2l+YL7ZlQ58WoBfI29ba4q7R5/RK8j7w/fn0nre0cX+Bxvj0F0mbJcrLkduypUaatfv7yAPf7PbnivtxyC9/fkt3rhO3y4aLq3cV22udQU+SP5PDhfL5t1tnLSq+sx4t5Tt0svemibX4cndtsW2tojyxbYXkQrEtGzZouF9sX3BUPlcPH5R7BsUdKDZsfGMNHXOio3LtKOnYj39J8edorC/5Gutyslxj7qc/W74OpHTSe/km0UH14dAhqSn50uVzRLVdJI+9nPP2V+J+pNaW98OXKn8mSQ3l85o7q6OH/+Bh8f35j8i/pyo//Za43VgZMnhzCrXevXvH6hJotxwrAEAvxw9f59ZjBeiBPkTSPgBd50matgB0i24AdPsgAqAbegDQzaEBQPe21gLQ7boB0E09AOimFrEC9Ouvv16lRuPCXm32nnPuct5+XqlSJeIUbOwx/+GHH4oz5BXRCSecQBdeeCGNGzdO1WHv+8KFC5Xn21oA6N7WQ9SSKQBAl+lU7q0iAWiJeJG0D0CXKFzSBoAOQA85cgDoAHSHwQFA97bWAtAB6KFGDgC9dAB9165dNH36dLW9naO2c8C2AQMGUJ8+fahnz54qWNwll1yitqN/99139NFHH6nc5QB0b2seakWuAAA9cg3LRQuRALREoEjaB6BLFAagh1UJHnS7PAB0ADoA3dvC6lALgA5AB6C7T6dYetA5oBt7wQNl0KBBtHjxYhVdnc+dczA4pzJjxgwVid1aGPTZK88w/8orr6jo7++99x41aNBAed0Z9FGgQKQKANAjVbCc1I8EoCUSRdI+AF2iMAAdgK4xTgDoAHQAusaECW8KQAegA9Ddp5MOoKeOfJ04+Ju1pBcH8+N/wYVhOhjQ77zzTpozZw4NHTqUON3asmXLqFWrViXq5uTk0LBhw2jp0qX04Ycfqs+rVq2qAssxoB9//PFqezznRWeP+7Rp02jLli1Uo4Zm3Al3eWBRzhQAoJezB+71diMBaMk1A8HiJLYBmwkTJqj/BKDrqGbaYou7RTd40O2DCIAOQAege1tYHWoB0AHoAHT36aQD6E9Xblcip3hWVpY6L+4G6Jw+jfOd9+jRQwH1lVdeSe+88w5x9HVOgcb5z/v372/Afrgz6I888giNGDFCXTI7O1ulcOO2+Aw7ChSIRAEAeiTqlaO6sQb0SKQEoHtTD4AOQA85cgDoAHQAureFFYDuqhuCxJkS4Qy6qYUOoOt60GfNmkUZGRnE+cv5HPqll16qcp7Xrn0sgj2nX+Nt7qtWrVJB4zhQ3MqVK6lixYphg8S9/vrrKl1boLB3nT3p1113nes8gAEUCKcAAB3jQ6QAAN1FJqRZswmENGuiaVXCCGnWTEmQZs3UAmnW7FMFadYseiDNmqfFFmnWTNnKepo13uK+fft2mjRpEqWmplL9+vXV/4Yqv/zyCzVv3pwmT56szp/rRHGvVq0aPfPMM+qMOgoUiEQBAHok6pWjugB0ALrOcAeg66hl2gLQAehOIweADkAPuaIA0D0ttgD08gXowWfQww0av99PDNojR46kO+64Q0V4nzt3Ln3zzTd2R4RDHnQAuqfpiEoOCgDQMSxECgDQAeiigfKnEQBdRy0AupNa8KCbqgDQAegAdG9raqhaAHQAOivA3vEjR46oM+l8Bp1B/rnnnqPXXnuN1q5dSy1atFDB5AYPHkyfffaZCgrH58w5GJ1THnQAenTnaXluDYBenp++xr0D0AHoGsOFAOg6agHQAejhxwsAHYAOQPe2pgLQ3XUrD1vcQ3nQ+dz5Cy+8QBw4jnOlV69endq1a0cPP/wwdenSRYnH0eI5aBznRud2rGnWFixYQL179zZEBqC7jzdYyBQAoMt0KjNWXqKl883v3r2bZs+eHZc6HP3hE3m/8nLltqlpcltfkty22NK/b5vcPi1DbqtjqREIjArydFomX0am3N5fJLfV0VmjXV9mTXkf2FIz5oC0cX9uttS0eBBp6JZvT0fjehGNsTH93BddmwsY1Crwi20rFMnvL5nk7XIH/uePFeJ+9K53utjWRz6xbSrJ14wMX7K4XTYcUe93sf3hP0qmJQpV+YNszXki7EXNQr3nd1oV+f3l5IQ+axrcvd9z5WttksaYO+OR44RK/GlWHMRKXJLk48ifI//+8x88LO6Cr1IFsS0b+rNzxPbJp5wsttUx9B84IDb3FQcX0yoaa/ORt74UN51aW/6bxFdBPu6TGuiNT1+Y89vBN+M/LP9O0wkeWPmpBWLdYAgFElEBAHoiPrUI+uzVE+61XgRdFVcFoIulshtqQBgAPUhjALohCADdHBsAdG9rEQA9SDcAuiEIAN0cGwB0UwtdQGcnE+czf/fddw1PeZs2bdQW9zPPPJNOPPFElb+cI7dzqrVAueuuu2jdunW0fPlyb4sbakEBjwoA0D0Kl6jVvIK213qloRMA3aPKAHRDOHjQg8aQxtgAoAPQPa5ARjUAOgA91BgCoAPQncaGLqB37dpVpVcbPXo0NWnSREE6b1lv3bo19erVSwE6/+2MM86gTz4xd2UC0CNd3VHfqwIAdK/KJWg9r6DttV5pyARA96iyBoTBgx6kMTzohiAAdAC6xxUIgB5KOHjQDWUA6AD0SAGdz43z2XL2gp9zzjmOs44Bnc+Scyo2PlfOQeO4OAH6tGnTaNy4cfTTTz9RjRo1qE+fPjRx4sRIl0HUhwI2BQDo5WxAeAVtr/VKQ14AukeVAeiGcPCgB40hjbEBQAege1yBAOgAdNehA0AHoEcK6AUFBQrQb7rpJhozZoyKwB5cGNAZxjkHOoM8R3BPKo7vEAzoDPB33323aqdnz550oDiWweeff67sUKBANBUAoEdTzQRoyytoe61XGpIA0D2qrAFh8KAHaQwPuiEIAB2A7nEFAqAD0F2HDgAdgO40SFKfmKeiq1sLg7cTfLPN/PnzadCgQZSTk0OnnXaa8qT369dPbXHnEgB0jtbetGlTFdn92muvLQHoDRo0oIEDB9ITTzzhOnZhAAUiUQCAHol6CVjXK2h7rRdOIq8R5QNtTpgwQf0nAN3jQASgG8LBgx40hjTGBgAdgO5xBQKgA9Bdhw4AHYDuNEiertSGhg8fbvsoKytLBX0LVXJzc2nFihUqENzSpUtVarUpU6bQ9ddfbwA6e8Iff/xxlUrtxx9/pPvuu88IEseB5urUqUPLli2j7t27u45dGECBSBQAoEeiXgLW9QraXuuFkyhabQLQPQ5EDQiDBz1IY3jQDUEA6AB0jysQAB2A7jp0AOgAdKdBoutBd2qDt7x/8MEHKnp7wIPOgH748GHlRWcn0ubNmw1AP3ToEFWpUgWA7jprYRANBQDo0VAxgdrwCsVe6wHQnRVAHnSLLho5Ywl50E3hdHRDHnTbREQedFMO5EE3tUAedMvygjzohhjIg27/HVNW8qCPHz+eRo0aRXv37rUBOt8tB31jD/3FF19MP//8s5FmrXHjxsTb4LHFPYHAJ0G7CkBP0AfntdteQdtrPQA6AN11rOqAJgAdgO4woJLJ7zrMrAYAdAC604ABoAPQncYFAD2xAX3fvn3Ut29fuuGGG9SZ88zMTFqzZg0NGTJEpVibOnVqCUDnlGwtW7ak7du3U8eOHQ1AnzlzJt1yyy305JNPqiBx7FXnIHHcFgoUiKYCAPRoqpkAbXkFba/1AOgAdNdpAUA3JPLnZrvKZRoXyW3hQbdpBUAHoAPQwy8ffnjQDYEA6IkN6BxMjs+mv//++7Rp0yaVD71hw4YK2h966CGqUKFCCUDnO547dy794x//UAHlOLJ7oLz88svEMZDYs16rVi264oor6LnnnpN/H8MSCggUAKALRCpLJl5B22u9UgH0jV/IH9FRDQBKSZO3q3km2f/7dnnbOmfF5a2SL6VkqpFQ1f1F+RotE/kyMuX2hQVy2+QUua0G+Psq15C3y5Y6nnyNlv0641OjXdIEdJ/GmFvQ+VlxT6oXFYptM3xyW10P+oT0PHE/Fu74Umzbs247se3xSRXFtjVIY9wXt3rnib+J287eJ1/nvthXW9xuvk9sStULNV42FTd7aq194sZzjqSKbQ/myNdEcaPFhm2Hn6BjXhz51B6dOmzl4lRQ4pKTKzbVAvRM+VjmDvizc8T9SGrRXGyrY+g/sF9s7isGOK1SnNZLWnKXrpGaUnIN+fj0VZDP6+QGx4n7oAxT5XPKf1j+m0tnXFQePV+vz7CGAgmmAAA9wR5YpN31Ctpe64Xrb7TaPApA9zQsAOimbAB0+xACoJt6ANBNLQDonpZaAHqQbDogBkA3xQOgm1roADpHaeet6YFSo0YN6tChA40dO9ZIs+bz+VSKNo7c3qhRI8O2d+/eVK1aNZoxY4b6G0dyHzZsGL377ru0a9culV+9TZs2ykPPnnq36O4cHZ77gwIF3BQAoLspVMY+9wrFXusB0J0VgAfdogs86IYY8KCb4wIedFMLeNDt6yg86BY94EH39CsNHnQL+JdxDzoDMcM0wzGXnTt30iOPPELr16+nrVu3qr8xoGdkZNCVV15pg/lgQO/atavaIj969Ghq0qSJavejjz5SoH/eeefR77//bgj7z3/+kw4ePGhclz+oWrWq2lKPAgXcFACguylUxj73Ctpe64XLdc5vImfPnh2xwvCge5MQHnRTN3jQ7WMIHnRTD3jQTS3gQfe21mKLu103eNBNPbDF3dRCZ1zoetD3799PCxcuNC7G+dDPPvts5RE/7rjjFKDfe++9NG7cOJVW7dRTT1W2VkDnNthjzufR+Vy6W+EXA8HXdauDz6FAQAEAejkbC15BOxb1vLYZ/MgA6N4GMQAdgB5q5ADQAehOYwOA7m2tBaAD0EONHAB66QM65zkfOnSo8nzzlvak4l0oDOgLFixQ3u7CwkJavHhxCUAvKI4twIDO+dPHjBmjtsSHKwB0b+slah1TAIBezkaCVyiORT2vbQLQozNoAegAdAC6+1yCB93UCIDuPl6cLADoAHQAuvvc0fGgpz42R535thYGZidoZlCeNWuW2sLOJTs7m+rVq6cg/LTTTjsGQ38CerNmzdSZ8o8//ph4O3vwFvf58+fToEGDKCcnR9VlT3q/fv2Ms+zW/gDQ3Z85LEIrAEAvZ6PDKxTHol6gzXDb4MM9Hk5zwQUedG+DGIAOQAegu88dADoA3X2UhLcAoAPQAejus0gH0J9OP5WGDx9uazQrK0sFawsuDMqcz3zSpEnqIz4n/uKLL6pAb6tXr1ZB4QKAzkDO+dJ/+OEH+uKLL0oAOtfPzc0l3iK/cuVKWrp0qWpjypQpJYK/AdDdnzksAOgYA38qEAvQDiduuOsFPvPap8B1AejehjcAHYAOQHefOwB0ALr7KAGg62ikA2KI4m4qiyjupha6HvTgs+C8jZ0Dtt111130xBNP2AD9119/pebNm6s86By93RrF3Wmc85b3Dz74gLZs2WL7GICusyrANlgBeNDL2ZjwCsOxqAdAFw4+jZzUwhaVGQAdgA5Ad58xAHQAuvsoAaDraARAN9XCGXRTC51xEWmQuKKiIgXevF2dA8NZPejcIw4Yt2TJEmratCnVrFnTSLPmNM7Hjx9Po0aNor179wLQdRYC2IZVAIBezgZILEA7nITwoDurgzRrFl2QZs0QA2nWzHGBNGumFkizZl9HkWbNogfSrHn6FYc0a6ZsyeUszdoff/xBEydOVFvely1bRt26dSsB6LwNntOo8Tn3q666SgH6vn37qG/fvmoLPKdVy8zMpDVr1tCQIUOoV69eNHXqVAC6p9mISk4KANDL2bgAoGfLn3hKmtw2KVluW2wJQAegOw0YADoA3WlcANAB6CG/YADoWt+9AWMAevkC9JkzZxo3zGB98skn0/333099+vRRfw/2oPPfONf5Qw89RAMGDFCAzrDOZ9zff/992rRpk8qH3rBhQwXtbBec3xxb3D1NTVT6UwEAejkbCvEE6IHgcJHmQz/6wyfyp5iXK7dNTomNLQP6H7/J247RFnfSuT8dLzd/2WVkyu9Pp22dPvuLxH3wZdYU22obary88edqvEDSuD/Kt0e7db0HjTG3pOtE1+YCBlX9hWLbCkkFYttkn19sy4ZPp8r7kavR53d3rhX34676Z4ttq/qTxLZseOvJ28T2R/bJ17k12+qI2y0sjoosLVWL5M+D2zy54R5p05R3RH5/hw4fi/IsKX6NIdcyq6mkScPGX6Cnh7jxoKjX4er5Dx0WN+urWEFsy4b+Izli+6Tis8AxKYcOyq49W/oAACAASURBVJt1SadVoqHi7dPScvS9f0tNKblmRbGtr4LcwZBU7zhxu8owNVVuf1j+naazxb3S4/PkfYAlFEhABQDoCfjQIulyPAF64D689ilQH4DucUTowK4ORBd3B4BueSYAdEMMALo5LgDophYAdPsaDkA39QCgm1oA0E0tAOgef/ehWsIoAEBPmEcVnY56heFY1vPaNgA9wjEBQDcEhAc9aCzBg24IAg+6OTbgQTe1gAfd1AIe9KD1Ex50U5A48KAHbzXfuXMnjRw5UgWB4/RrtWvXprZt26qI7v/P3pmASVGc//+d2Xu5UZD7UlTQoKIYQREQhIgiCoomGokGJPhD5PEingsaL0hc4xH4RxSQS0TFAxQQkUNFEcUTEQTkXO6bPdhj/vvWZqanZ3u23+rpaWaXbz3PPibM29VV36qu6c+8Ve/bvXv3GF+scDkUcEcBALo7OlaaWpzCcDyvc1o3AD3GaQdAB6BHm0IAdAC6xdwAoAPQrZYMADoAPerbSIIB+m+//UYXX3yxiuDOedQ52BufJZ8/fz7997//VfnPUaBAIigAQE+EUfCwDU5hOJ7XOa0bgB7jxAGgA9AB6LYPETzo8KBbTRJ40OFBj7p4wIOesB703r170/fff0+//PILVatWzTSEnCudwR0FCiSCAgD0RBgFD9vgFIbjeZ3TugHoMU4cADoAHYBu+xAB0AHoAPSKHxN40CP0AaDHHdCTH5qsoqqHl7TSYH78F1mCW9xfffVVOvnkk9X2dg5SjAIFElkBAHoij04c2uYUhuN5XTCau253s7Oz1SUIEqer3P/sAegAdAC67cMDQAegA9AB6LYLRbgBAD3ugD7Wf6baoh5esrKyVBq0aIDOqdB+//vf09tvv03XXnut1pDCGAp4rQAA3WvFj/P9nIK2U4iONYWaRC4AukQlCxsAOgAdgG778ADQAegAdAC67UIBQLeWKE5n0J140Pk99qKLLqLZs2fTNddcozWkMIYCXisAQPda8eN8P6eA7rTZXtwPgO5wdADoAHQAuu3DA0AHoAPQAei2CwUA3VNA10mzhi3uWrMXxgmiAAA9QQbCq2Z4AczhffHifgB0h7MHgA5AB6DbPjwAdAA6AB2AbrtQANATHtDfeecduuKKK+iHH35AkDitCQ3j46EAAP14qH4c7+kFMAPQ7Qc4sH+7vVHQQiPllbzSUksAOgAdgG77yADQAegAdAC67UIBQK8UgL5x40bq1KkT1a1blx577DGVZq2oqIg++ugjGjduHP38889aQw1jKBAvBQDo8VI2QesFoOfLR0YHYHVsS1sAQA8bhuKi+IxJoERcr6/GSWJbbUN/kviSQP5RsS1p9I8KzdFubW+i8aPQ3M4v2lYXNKgVKBbbZvjl8yLJFxDXy4b/TJG3A4AOQAegA9C1FhgEiTPkitMZdCdb3NmDziUnJ0dFcp8zZ4763/Xq1aPzzz+f+P24a9euWkMNYygQLwUA6PFSNkHrBaAnCKDv3SqfIanpclsNGKTkVHm9RcfktqWWvvQacnsd0NT5IUQD/LUBXUdnuRJUGQF9Urf/iHtYr0j+o0m6xrxIIz1AfyVdPp9r+VLE/atG8h9jntu+VFzv9Q07iG3Z8PFqeWL7/QczxbZzk+W2eT75WNcvkevGjb20WP5D1uEi+fjt9ctt5b0j6nOfXDfuX6BAPj99fr94/AJ58u+/wCG5xr5qGt9R3L+j8nb4WzcX90/HMHDgkNjcl6HXPyqS/wB46L1fxe1IPUm+ziXVTBbXm9RIL/e3L0X+nASO5IrbUXJU/kNyzf83X1wvDKFAZVQAgF4ZRy2GNgPQ5S8GWlvAdcCRX1AA6MYs1gAxrTEBoBsax9GDDkA3ZAagG1oA0A0tAOjmlxYAuqEHAN3QIl6AzkHiJk+erG6UnJxMTZs2pX79+qlUa5dccgktW7ZM/Tey9OrVS+VVf++99yhYx1NPPUV///vfQ6bsled6AgH5jycxvMLj0hNIAQD6CTTY3FUAOgA9NOXhQQ9JAQ96xEKoscUdgA5At/oaBaAD0KO9XgHQAehWcyOegL5z506aOHEiFRYWKiAfNGgQDRw4kJYvX662t7/yyiumJm3ZsoVatGihcqb37dtXAfrMmTMpPT2dNmzYQHXq1FH2APQTDKI87C4A3UOxE+FWAHQAOgC9/JMIQAegR1ufscXdUAZb3A0tsMXd0AJb3CNWD2xxDwmSCFvcg2nWgmfQuXGDBw9WZ9AffPBB9bdjxw6qVq1aqN2PP/44vfTSS7R161bldec69u7dS7/++iv16dOHxowZA0BPBKipwm0AoFfhwbXqGgAdgA5AB6DbLnvwoIckAqAD0C29fbYPkWGALe5mseBBN/TAFvewH700zqCnPf8eFRSYz6zzdnT+iyxWgD58+HCaPn06rV27lho1akTjx49XEM6Ft6ufdtppdN1119Ezzzyj/i1YB3vd//SnP9G6deuoSZMm8KBrrIMw1VMAgK6nV6W3TiRAf+CBByg/XwOYI9TPzs5W/1Ip86DjDLoxmjiDHtICQeKMaYEgcYYWCBJnXvwRJM7QA0HinL2WIUicoVtlDBL3bMOONHr0aNPgZ2Vl0ahRo2wBfcWKFdS7d2/q3r272rZ+4403qmjuS5YsUdd+8skndNlll9GaNWvojDPOMAE6e+E7duxIbdu2VdviscXd2fOHq+wVAKDba1SlLBIJ0N1qCwA9bIrqRBfHGfSQcNjiHrHMwYMeEgQedGNuYIu7oQW2uIf9SIAo7uYFFFvcjR+d4xTFXdeDPnXqVHV+nHOe8zl0PlfOXvP69eurHOg9e/ZUXnH2nP/5z38mzpf+6aefhvoR7oVfunSpAvjvv/9eeeARJK5KYVLCdAaAnjBD4U1D3IJiaWsrup9bbQGgA9At5yOiuBuyIIq7aYogzZohB9KsGVogzZqhBdKshf0AgTRrpvWzsqVZY7jetm0bjRs3jlJKU8Txlnb+b7DwlvaWLVvSzTffTPfffz81bNiQXnzxRbr11lstAZ3/8corr1R1cN0AdCkRwE5HAQC6jlpVwNYtKJZKAUC3Vgpp1sJ0wRZ340UhX557mHR0A6AD0KMs2gB0ALrV1ACgA9CjvedVRkA/cOCA2o4erfB2+QkTJtBDDz1E9913X7mgcZHn2Nl7ft5559E999xDY8eORZo1KRTATqwAAF0sVdUwBKBrnHnXyW2uY1s6lQDoAHTLl2IAekgWnEE3ZgjOoJufFpxBD4NHv1/8chLIk3//AdAB6CcSoG/evFl50WvVqkX9+/enl19+2dR9q0Bzt9xyC82aNUvFUkIedPEyBEOhAgB0oVCxmMUaDC2We0deu2vXLpo2bZqbVVZYFzzo1vIA0AHoAPSKlyEAOgA92gwBoAPQY32JQZA4Q8HKGCSu5v+bL54CVnBtdXGvXr1owYIF9Pnnn6tAcOHFqo5NmzapIHIcTR6ALh4OGAoVAKALhYrFzGuvdUVt9botFf044daPBQU/fyIensCxPLGtL8k4o2R7ka4Hfc9W2ypDBmnpclsdS41AYKS5RdqXUVPekhKNcEspqfJ6dc6gV68jrzeOllpR3HXaUXRMx5pIY26M6vkfcd2Ni+Xevmoa0yK99AyhTvko1Zyep6JrG5J8zqUHfOJmrCb5cYZZOV+J62XDn1q1E9sfOJQhtp2WKl8Ta1KSuN46JfJ5wZVeUpQrrjuvWN6OnX75WOu0+Mq7y6d+qqgDgTz5/CS/fM6RRr0lB+XzM5550JPOOlU81jqGcQV0je+0A2/+Km52ej35ouivLp/3yc30vv90triXHJLPo4BGmrWaLy8Q6wZDKFAZFQCgezBqXkNxRV2qim0BoDucxBoQBkB3qLHmZQB0QzAAuqEFAN38IAHQw/QAoGuusmXmAHRDtqoM6H369KG8vDxauHBhuXmyfPly6tSpE7HN+++/X+E84qjuLVq0UN71zp070+WXX07z5s2znXtdu3YNpW9LTU2l5s2bq8ByI0eOpKSkJFq8eDF169YtVA9Hmm/VqhXddddddPvtt4f+na+ZPHmy+v/JycnUtGlT6tevn0o1V61aNdt2wKDyKQBA92DMqiIUuyGbW7oA0B2OBgA9JJwPHnTzJNKYG/CgG9LBg25oAQ+6oQU86OblJXBUfhYeHvSw9QUe9JAYUg86B4ZjkGXAZjgOL4MHD6aVK1fSsmXL6MiRI6GPOnTooOCYPw+WevXqKaAeNGgQVa9eXQWUW716NTVr1qzCFzAG9NNPP50ee+wxdVZ9zpw5NHz4cHrqqacUpAcB/ZdffqGaNWuqHxP4xwJ+P+bt9pyrnQsD+s6dO2nixIkqTRy3mdsycOBAFZ0epeopAED3YEzdAlE3mloV2wJAdzgzNCAMHnSHGmteBg+6IRg86IYW8KCbHyR40MP0gAddc5UtM4cH3ZCtKnvQOe95kyZNaOjQoZSVlRXqdG5uLjVo0ICefPJJGjZsmGkOsad8xIgR6i+8HD16VKVg++qrr1Rdbdu2pUcffdQW0M8991x67rnnQnbsfecfBNiDHwT0/fv3U+3atUM2p556Kv3tb39TEeWDgB4ZiZ5/QGDgz8nJcfQM4KLEVgCA7sH4VEUodkM2t3QBoDscDQB6SDh40CPmkMbcgAfd0A4edEMLeNANLeBBN68v8KAbeuAMuqGFzhn0tBffV8HZwktaWhrxX2Th3OYcbX3Dhg3k85XFbODt4kOGDFFwW6eO+Qx+NEB/9dVXlbeaAZ3B+M477zTVafUmxh70SEC/+uqrafv27cp7HwnoHGxu/vz5xDa8Lf/SSy+NCujsiZ8+fTrt2bPH4UsgLktkBQDoHoyOWyDqRlMTqS2xRrfPzs5WkgDQHc4MDQiDB92hxpqXwYNuCAYPuqEFPOjmBwke9DA94EHXXGXLzOFBN2SrjB70Zxt3Uuevwwt7tUeNGlVuPqxZs4batGlDixYtCp337tKlCzVu3FgBbmSJBugXX3wxDRgwQJ0PZ888e9NnzJhBPXr0iDoHwwG9pDR4IG9b79u3r/LOP/PMMyFAD54j5x8d2I63xHNO9mCJjCK/YsUK6t27t9oCP3PmTEfPAC5KbAUA6B6MTyJBcSK1xS3pAegOlQSgh4SDBz1iDmnMDXjQDe3gQTe0gAfd0AIedPP6Ag+6oQc86IYW8fKg8x0Yrjn42pQpU2j9+vXUunVrBctWcG0F6HxG/Oyzz6atW7fSKaecohrNW+P37dtnCfnBXjGgc2A5DhB37FhZNpU///nP9MILL1BmZmYI0L/55huqUaOG2hXA8M11//Of/1Rb87kwoE+dOpU4iBz/OMDn0Bn0x48fT/Xr13f4EojLElkBALoHo5NIUJxIbXFLegC6QyU1IAwedIcaa14GD7ohGDzohhbwoJsfJHjQw/SAB11zlS0zhwfdkK0yetClQeKCveTt6Qy9O3bsoDFjxtC0adOibk+3AnTeJj927FgVKC5YeDt6SkqK5Tb5cEBv2bKl8obz9vtGjRqZ6oh2Bp3Pn/M2ev5BIAjo27ZtU1vs+Z5cD/8XpeoqAED3YGwTCYoTqS1uSQ9Ad6gkAD0kHDzoEXNIY27Ag25oBw+6oQU86IYW8KCb1xd40A094EE3tNDxoOsCOgdl4y3pDNlPPPGEitAeLcBbJKAHA80xpPfs2dM0mfv376/OokcGmgsH9Mgz6OEVRAP0//u//6PXX3+d9u7dGwL0yCBxDt/8cFklUQCA7sFAJRIUJ1Jb3JIegO5QSQ0Igwfdocaal8GDbggGD7qhBTzo5gcJHvQwPeBB11xly8zhQTdkOxE86NxbTkv29ttv08GDB1XatWgp0iIBnVO13XDDDbRr1y6qVauWab6xZ/yDDz6gVatWWc5DqyBxVoAeTLMW3OL+17/+la677jpizz+XyDPojiY9LqpUCgDQPRiuRILiRGqLW9ID0B0qCUAPCQcPesQc0pgb8KAb2sGDbmgBD7qhBTzo5vUFHnRDD3jQDS3i6UHnu3Bas06dOikvOEdKj1YiAb1Pnz4qcNvcuXPLXcJnx88//3z6+uuvqX379uU+lwJ68MLk5GRq2rQpsWeeA94Fg8cB0B2+51biywDoHgxeIkFxIrXFLenzv3lPXlXBUbltUrKGrd5ZoEDOBnndGdXlthqWvhrm1CIVXlqQr1Ezka9uI7l9oERuqzMmpV+o4pJeTWzKhj6fX8teahzIPSg1JdLQIqAz77l/KRniduTc9LTYNjWzSGzrTw7IbVPktlxpYa5xjtDuJslp8nmUlCZvx4Et6Xa3Dn1eXKI3387a8L247j82/L3YdnCBXLeiQFk6I0nJJ73+LcqQ131asUabJY39n029IvlYX35R2TlSaTm2V94/nTl3eEf5FFTR2rR1t9lTWFHb62bmSbum7I7kp4rtTzunbIuv2+Xwdnkb0mvI1y1uZ3GhfPzG7Kwn7lqzEvl7RmON+dmS9MYvM7VQ3OadeZli2wN++TvX9TnTxPXCEApURgUA6B6MWiJBcSK1xS3pAejOlASgh+kGQDdNIgC6IQcA3dACgG5oAUA3tACgm7+DAeiGHokA6Ox95rznXNhDXbduXWrXrh398Y9/VFvH/f6yHwjZc75p0yb1vzlaevPmzYm3mt97772h/OnO3rZwFRTQVwCArq+Z9hWJBMWJ1BZtIaNcAEB3piQAHYAebeYA0AHoVnMDgA5At5oXAHQAerTvkkQB9J07d9LEiROpuLiY+H/PmzePnnrqKercuTO99957CtwZ0BnIOYBcfn4+LVy4UKU5e/HFF2nIkCHOXrRwFRRwqAAA3aFwOpclEhQnUlt0NKzIFoDuTEkAOgAdgG7/7MCDbmgEQAegA9Dt1wx40A2NEgXQrSKgL1q0iLp3704vv/yyCiBnlV6Nz5fzv7/11lv2Aw8LKOCiAgB0F8WMVlUiQXEitcUt6QHozpQEoAPQAej2zw4AHYBuNUuwxd1QBR508wwBoFcOQOdWcgo0zinOkdjDAZ1znC9ZsoR69+5NV199tUp5hgIFvFQAgO6B2okExYnUFrekB6A7UxKADkAHoNs/OwB0ADoAveLnBIAOQI82Q+LlQb/6t1eJU5KFl7S0NOK/yFJRBPQbb7yRvv/+e1q9erUC9JycHEpJSaFjx45RYWGhOov+8ccfq+jvKFDASwUA6B6onUhQfLzb8sADD6izPW6U7OxsVQ0A3ZmaAHQAOgDd/tkBoAPQAegAdPuVwrCAB93QIl6A/tOQ1jR69GjTsGRlZanUZDqAzvnNf/zxR/rpp58UoN98880qcNzu3buJc5xfdtll9PDDD+sMP2yhgCsKANBdkbHiSo43FIe37ni3JR73B6A7m8QAdAA6AN3+2QGgA9AB6AB0+5UCgG6lUbwA3S0POkdzb9asGc2ZM6fcGfT9+/fTaaedRjNnzqQePXroTAHYQoGYFQCgxyyhfQXxgFL7u1pbHO+2xOP+AHRnswGADkAHoNs/OwB0ADoAHYBuv1IA0L0EdJ086NG2uAeDxL366qt06623WgaJY4/8O++8Q6tWrUKqNZ2HALYxKwBAj1lC+wriAaX2dwWgWypQcFQuXVKyhm2K3LbUMpCzQW6fUV1uq2EJQAegA9DtHxgAOgAdgA5At18pAOiJDOjR0qx17dpVAXhSUpIloPNWd/awT5kyha677jqdaQBbKBCTAgD0mOSTXQxAN3SKhxbwoMvmYaQVAB2ADkC3f3YA6AB0ADoA3X6lAKAnMqBPnjxZNY/zndepU4fOOecc+tOf/kQDBw4kv9+vPrNKs8b/fvvtt9Pnn3+ugskFbXXmA2yhgBMFAOhOVNO8Jh5QqtmEkLluW9wM6saN2LVrF02bNs1p8y2vy/92jry+/Dh50P1J8jaUWlY2D3pAR7fS/vnrNpbrUVIit9XZ1RDQqDetmrwNpZY+jXYEdNpx9KC8HTptKMyT18v9S8kQ2//c+99i28zMY2Jbvy8gtk1K0Rjr0lqPFch3x6SkFIvbkZwmt92ZU1Ncb0nAJ7Zlwxc1NvTMyPlSXPe0k7qKbXUMC/x6/VuZUiiuvklALsYRjTnXqFje5hs7bRO3lw2P7ZHPZ3+qvOrc3fJ5v2+3fE2sXs0cTduuRbm58kY3+/0Ru+ocfZ6nMSQpNeTjwY0JFMmbNGFtU7FxM/m0p3rF8kY0rXlI3AY2TEuX133ggPy75MCx8hHYozXssp1vaLUZxlCgsikAQPdgxHShOJ5N0m2Lrr1d292uj+8HQLdT3fpzHQ86AN2sIQDd0AOAbmgBQHe2FgHQzboB0A09AOhhWgDQQ2LoADqfQQ/3oDdt2pT69eunosDzFvaWLVuqLe6bNm2ixo0N5wKnXGPb4uJi2rhxo/KwS8qkSZPUmfZgqV+/Pl144YX09NNP01lnnSWpAjZQgADoHkyCeECp02brtkXX3q5dbtcHQLdTPPrnAPQwbeBBN00UeNANOeBBN7SAB93QAh50Qwt40M3fs/CgG3okggedAT14Bp1zmy9btowGDRqktrePHDlSATqD+NChQ4l3jQYLA/W4ceNo8+bN2oB+11130S+//EKBQIC2bdtG999/P23YsIHWrl1LqanyHSTO3/BwZWVXAIDuwQjGA0qdNlu3Lbr2du1yuz4Aup3iAHSRQgB0AHqUiQJAB6BbTQ0AOgA92ncLAD3xAP3AgQMqGFywDB48WKVWW758uQJ0znXO6dQYoIPlzDPPpAEDBtDjjz8eAvTFixdTt27daOHChQruV69eTeeeey5NnDiRzjjjDHUpe9BHjBhBfM9gef/99+nqq69W59h/97vfiV5LYHRiKwBA92D84wGlTput2xZde7t2uV0fAN1OcQC6SCEAOgAdgG77qMCDbkgEQAegA9Btl4xSSD3+Z9Ct0qwNHz6cpk+fTitXrlSAvmLFCurduzfNnj2bLrnkEvr000/VNvi5c+eq7enBLe5BQP/9739PzzzzDNWrV4/+9re/qW3wn332mSWgM6izd/7111+nn3/+mRj8UaCAnQIAdDuFXPg8HlDqtFm6bdG1t2uX2/UB0O0UB6CLFAKgA9AB6LaPCgAdgG41SbDF3awKPOiGHvEC9Is3T6GCAnNwwrS0NOK/yBIJ6EEY7969u4JsBnTOc87n1A8ePEicF/22226j2rVr0y233ELnnXeepQedr+fywQcf0JVXXkl5eXmUnp6uPOh8Br1atWpqi3tubq6yYw/6u+++a7vOwgAKsAIAdA/mQTyg1Gmzdduia2/XLjejwmdnZ6vbIUicnerWn+MMepguAHQAOgDddiEBoAPQAei2jwmiuIdJFC9AXzq0rQryFl6ysrJo1KhRloA+depUBc9FRUXE59D79u1L48ePV/AcBHROwdaxY0dat24dtW7dWm1/Z3srQOeMROw958Jw3759exVkjnOmM6Czh/6bb75R1y9ZsoTGjh2rzr43bNjQfgLBAgoA0L2ZA25Dbiyt1m2Lrn0sbXN6LQDdmXIAdAB6tJmDIHGGMjiDbmgBQAegA9Dtv2/hQTc0iheg63rQOVAbB3xLSUmhRo0aqf9y+e2330KAzmfJO3ToQNWrV6ejR4+qbe/ffvutJaDv379fedi5RNpYnUHnHxM+/vhjWrp0qf0EggUUAKB7MwcSCXJ126Jr742i5rsA0J2pDkAHoAPQ7Z8dADoA3WqW4Ay6oQq2uJtnCAA9/oCum2YtMkhcsIWRgM4Qf8cddyiY57PlbgH6oUOHVKR4hvdrr73W/osHFie8Atji7sEUSCTI1W2Lrr0Hcpa7BQDdmeoAdAA6AN3+2QGgA9AB6BU/JwB0AHq0GRIvD3q8AJ23pDPMs3ect7y7Beiszz333EMfffQRfffdd+Tz+ey/fGBxQisAQPdg+BMJcnXbomvvgZwAdJdEBqAD0AHo9g8TAB2ADkAHoNuvFIYFPOiGFpUN0CPH2U1A53zqp556Kk2bNk2lb0OBAhUpAED3YH4kEuTqtkXX3gM5y92i4OdPxLcNFBwV2/r8ZWeURCUpWWQWNCrZvUls70uvJrYlv19umypPf0KF5mipdjfxVa9rZ2J8XlIit9XRubhIXK+vWi2xrTL0aeisUXOgoCzaq+vlWJ5elRpB87J7/Edcd71isSmlaUyL9NJIuTplR7Lce1Fbo82ZGnP5+zR5G/b55HOZdbguXy5eji9VLN1NexeLbW9s+Huxbbrm89SroHyk5mg3O5Qk13l7kt48knbw7oEak6i00kCexnrrl/cvcFi+DhTvzZd2j/w1Nb4rS2stOVIorjvlrMZiWx3DwL5DYnNfhny+caUBjXVg8xtynWvUldum1ZSvGekt5GuA+vpLk7/vFO+Xt7n4kHzdOmnuEvH4wRAKVEYFAOgejFoiQa5uW3TtPZCz3C0A6GGSANANMQDohhYAdNO6AUA35ACgG1oA0MOWTwB6SAwAuvm1C4B+PN50cc8TTQEAugcjnkiQq9sWXXsP5ASgVyQyAB2AbjU/AOgA9CjrBgAdgG41NeBBN1QBoFduQOc86JzjfMiQISq1WngJBoQbOHCgCuAWtGUbPoPOgd369eunUrpxXvPIoHLH450X9zwxFACgezDOiQS5um3RtfdATgA6AF02zeBBN3QCoAPQAei26wY86GG/b8KDHhIDgF75AX3RokXEkdRzcnIoI6PseF9+fr7KS16zZk3q1q1bCNB37txJEydOVPnSOXf5oEGDiAGeI7sD0G2XURi4pAAA3SUhK6omkSBXty269h7ICUAHoMumGQAdgB5lpmCLuyEMPOiGFgB0ALrVkgFAr/yAzpHZN2zYQCNHjqSbbrpJdWj69On09NNPU6tWrVTU9qAHPTIl2+DBg2nOnDkK7gHostcvWMWuAAA9dg1ta0gkyNVti669rRhxMMAZ9DBRscU97A1THiQHQeIiHkwEiQsJgiBxaN1MvQAAIABJREFUxtxAkDhnX2AIEmfWDUHiDD0QJC7sK1sjSFz1txdQQYE5mGJaWhrxX2ThbesM3V26dKG5c+fSwoULlUmPHj3oqquuosWLF1cI6MOHD1cwv2fPHgC6syUQVzlQAIDuQDTdSxIJcnXbomsv0eaBBx5QW4tiLdnZ2aoKADoA3XIuwYNuyIIt7qYpAg+6IQc86IYW8KCHwRK2uIfEgAfd/A2bCEHiXujQTZ0LDy9ZWVk0atSoqIA+YcIEatKkCa1Zs0blIT/zzDNpy5Ytagt7NA/6ihUrqHfv3tS9e3eaOXMmAD3WF3dcL1YAgC6WyrlhPCDXaWt026JrL2mX23UC0AHoAHSbJw+ADkCPMkUA6AB0q6mBIHGGKgD0xAN0Jx70d955h/r370/t2rWjQGlqzh9//JHefPNNuuaaa0yAPnXqVEpPT6eioiJ1Dr1v374quFz9+vUB6JKXfNi4ogAA3RUZK67EbSCNpcm6bdG1l7TN7ToB6AB0ADoAXbL2BG3gQTfUAqAD0AHoFa8eAPTEA3SdPOjBLe4M6LzFfdiwYapDL730kvKORwL6tm3bVEC4lJQUatSokfpvsOAMus43LWxjUQCAHot6wmvdBlLhbS3NdNuiay9pm9t1AtAB6AB0ALpk7QGgl1cJgA5AB6AD0HXWz0TY4u4U0IuLi6lZs2aqu5s3b6akpKRygB4ZJC5cGwC6zkyBbSwKANBjUU94rdtAKrwtAN1CgUDBUbF8Pr/xq6ntRUnJtibhBiW7N4ntfenVxLaEIHGGVjiDbmiBLe6mZwgedEMOADoAHYAOQJe/ZBBVZkDnfnK6NS6cXo1LpAddAuivv/46nXHGGSbZ2rZtS6mpqTpSwhYKRFUAgO7B5EgkQNcN0LZr1y6aNm2aqyq5rQc86GHDA0AHoFs9rQB0AHqUVRyADkAHoAPQdV7yKjugR/bVCaBb6bVx40Zq0aKFjpSwhQIA9OM5B9wGUi/7Eo+2u11nwdpP5ZLkyz3opOMV17EtbW3Jro3iNvsyaohttQxTM+TmGt5ortRXva5G3YVy2+TyKVSiXlwsr9dXrba8DaqDfj17obXODg9hlWVmmoDu00izNq3z8+Km1CkuEdumBzRsqVhcLxv+mCqfR9XkzaDqJQFxO1amyStOIZ+4Xja8LE+eYnC3xk6h91PzxO14PedLsW3PBueIbdnwxmL5+rI/SV71dr98HsktiUbfIp8X3NpAwTF5ozUsA3nyeov35oprTqolf5640pLD8nYkn1pf3A6dHWQl+8q8qJLiy9D0ihbJn+0t75hThVXUnuq15bbpteVrQGojvR2AvnS5ffE+eZtLcuXPic4Wd8kYwwYKJJoC8KB7MCJuA6kHTQ7dIh5td7tOALrDGQFADwkHQDfPIQC6oQcA3dACgG5oAUA3tACgR3wHA9BDgiQCoHOQuMmTJ9OQIUNUNPbwcscdd6iAcAMHDqRJkyaRjq3DNy9cBgVECgDQRTLFZuQ2kMbWGr2r49F2t+sEoOuNacgagA5AjzJ1AOgAdKupAUAHoFvNCwA6AD3aW0iiAPqiRYvU2fOcnBzKyCjbPZifn08NGzZUZ9G7desWAnSprcM3L1wGBUQKANBFMsVm5DaQxtYavavt2q57pp3v7va5dgC63pgC0MvrBQ+6WRMAOgAdgF7xugoPuqEPAB2AnuiAzoHfNmzYQCNHjqSbbrpJNXf69On09NNPU6tWrUx50KW2Dt+8cBkUECkAQBfJFJuRHeTGVnt8r7Zru93nVq1zck1FvQSgO5wD8KCHhAOgA9CjPUXY4m4oAw+6oQUAHYAe9ZsXW9xD0sTLg1797QVUUGA+356Wlkb8F1mCedC7dOmi8qAvXLhQmfTo0YOuuuoqWrx4cTlAl9g6fPPCZVBApAAAXSRTbEZuA2lsrdG72q7tdp9LAN2JF57rzc7OVtUD0PXGNGQNQAegR5k68KAbwgDQAehWjwkAHYAOQLd/94gXoL/QoRuNHj3a1ICsrCwaNWpUVECfMGECNWnShNasWUM+n4/OPPNM2rJlCw0aNKgcoEts7XsPCyjgXAEAunPtxFc6gVhx5XE2tGu73ecSQHdSR3i9AHSHkwCADkAHoNs+PAB0ADoAveLHBFvcI/SBBz0kSLwA3YkH/Z133qH+/ftTu3btKBAI0I8//khvvvlm1Dzodra2Xx4wgAIxKABAj0E86aWxAqj0PvGws2u73ecAdOtRQZq1MF000qER0qw5e8yRZs2kG9KsGXIgzZqhBdKsGVogzZqhBdKsmb92KluateAWdwZ03uI+bNgw1aGXXnqJevfuHRXQ7WydfRnjKiggUwCALtMpJisnEBvTDV282K7tdp8D0AHottMRgB6SCHnQjdmCPOiGFsiDbl5FkAfddlW1NEAedEMW5EE3tKjqedDDAb24uJiaNWumOr9582ZKSkqKCuh2ts6eQlwFBWQKANBlOsVk5QRiY7qhixfbtd3ucwA6AN12OgLQAegWkwSADkCPtnYA0G1XVQC6jUQA9BMT0LnXnG6NC6dX43LNNdeUO4PO3nY7W2dPIa6CAjIFAOgynWKycgKxMd3QxYvt2m73OQAdgG47HQHoAHQAeoWPCTzoZnkA6LarKgAdgC6eJCeSB91KlIoAPdI+3FYsMAyhgAMFAOgORNO9xAnE6t4jXvZ2bbf73KpdkVHbY82LXrDuc3n3C47KbZNT5bb+JLltqWVg50a5fWYNua2GpU6k7kCROZ2J3W18NU62MzE+LykR2/qSksW2geIisa2vWi2xLRv6fH6xfSAg7x9pnhWXNiJwLF9qqux8qeli+3c7lmVTkJRaJfLY1+k+uW2aX27L7dxAGZLmKpuMkoDYNlNjrH9Ik89lcQP+Z9imQD739yTL27E0RT6Ptpfkipu9YMd3Yls2fO6UbmL7PX75+O30FYrrzSX5nPvPLSnietkwkKex3vp94roDh/PEtsV75WPtr63xXVnagpJDx8TtSG5RV2zr88vX5ZK9h8X1Urre+JHGmrHxPfn41awtH5OM2vK5nHaKvA0smi9drnPxAflaVCxfMqjeR0vk4wdLKFAJFQCgezBoTiDWg2aJbmHXdrvPJTeJtQ4AukTl8jYAdEMTALp5fgDQDT0A6IYWAHRDCwC6oQUAPeL7FYAeEuR4A3qfPn0oLy8vlPs8fKSWL19OnTp1sn2B2rhxI7Vo0cLWDgZQwE0FAOhuqhmlrlgB1IMmRr2FXdvtPpe0PdY6AOgSlQHoFakEQAegR5sfAHQAutXcAKAD0KN+pwDQEwbQ+Sx5v379iCG7efPmpiEbPHgwrVy5kj788MPQv3fo0IFuv/124s+CpV69eiqYHAoU8FIBALoHascKoB40EYBupQC2uIdUwRb3CIDFFveQINjibswNbHE3tMAWd0MLbHE3r5/Y4m7ogS3uhhbx2OJeVFRETZo0oaFDh1JWVlboZrm5udSgQQN68sknQ2nX+EP2lI8YMUL9hReu5+6776bXXntNwfqgQYNox44ddPDgQQoGlDue7+q4d9VTAIDuwZgC0CsWOVZ94EF3Nomxxd3QDR70iB8gcAY9JAg86MbcwBZ3Qwt40A0tsMU94jsYHvSQIMd7izs35P7776dZs2bRhg0bSuPHlJ23nzx5Mg0ZMoRycnKoTp06ofZGA/QnnniCnn32WZowYQK1adOG/v3vf9P06dOpW7duAHRnr6C4ykYBALoHUyRWAPWgiVFvYdd2u88lbY+1DgC6ROXyNgB0AHq0mYMz6IYyAHQAutVzAkAHoEf95gWgxx3Qa85ZQAUF5mCKaWlpxH+RZc2aNQqqFy1apICaS5cuXahx48YKssNLNEBnb/u9996r/rhwjvRWrVrReeedB0B39gqKqwDox38OxAqgx7MHdm23+1zS9sio7pJr2CY7uyx6NABdqpjZDoAOQAeg2z87AHQAOgC94ucEHvQIfQDocQf0ly7uRqNHjzYJz1vYR40aZTlZL774YgXUU6ZMofXr11Pr1q1pwYIF1KNHD1tA523stWvXpiVLltCll14asuez7SWlWWiwxd3+exQW+grAg66vmfYVbkCs9k1dusCu7Xafu9SMCqsBoDtTGYAOQAeg2z87AHQAOgAdgG6/UoRZANDjDug6HnRuzKuvvqrOmvO58TFjxtC0adNMW96DDbbyoAcBfenSpdS5c+dQ36699loKBAIAdK2HA8ZSBQDoUqVisEsEiHXafLu2233u9L461wHQddQKg9K0auILESTOLBXyoBt6IEicoQWCxBlaIEicoQWCxJnXTwSJM/RAkDhDi3gEiQvWfuTIEWrYsCGNHTuW+Dw5R2l/9NFHy70DVbTF/b777qN77rlHXcNb3E899VQ699xzAejiN0kY6igAQNdRy6FtIkCsw6aT3fbzXbt2qV8ij2cBoDtTHx70sB8rqtXSEhGADkC3mjAAdAC61bwAoAPQo33BANC9AXS+C0def/vtt1XkdU671qxZMzGgM9TzscpXXnmFzjzzTHrhhRfUdvnLLruMZs+erfX+AGMoIFEAgC5RKUabygzodl1PhL4B0O1GyfpzADoAPdrMQZA4QxlscTe0QBR3QwsEiTO0wBn0iJUUW9xDgiRCFPdgY5YvX06dOnWinj170vz58y2//ipKs8bvu8E0a5wrnaPCc8q1GTNmOHsJw1VQoAIFAOgeTI9EgNh4dTMR+lbw8yfi7gUKjoptff4UsS35/XLbUsuSHevF9lopwEoDlohLdSO1iO01x/JsTcINfLUbyu0DGm1OSpbXW1wktvVl1BDbKkONPOg6FQfyDsvNdeac5vhRaoa4HRv+8JjYNj2zUGzrTwqIbZNSNOZQaa1HD5aP9BvtZsnJ8rpT0uVzbmdOTXH/SgJlqYGkZVaqvH/HSN6/zgXy5y/PL2/zIb3lk0bslK/5AxpeKJWN6vpSxbaZJG/0I3/YL66XDYv3m6NTV3hxslznwl3F4nYc3iGfQ5l1jonrZcP8Q/Lv1tpnyJ8pnUbk58jXl5QacltuQ4mGHAt+aipudj2N77S6KfniemvX1Pt+T0mXz6Pcw/JnKi9fPi/ab3lX3L94GHJwOI4MP2DAAHr88cfjcQvUeYIrAED3YAIkAsTGq5uJ0DcAetjoAtANMTReZgDoESsEAD0kCADdmBsAdEMLAHqYFgB00wIKQDfkSARA/8tf/hLKez5+/HjTWN1xxx00btw4GjhwIE2aNImCtmzE3vFGjRrRlVdeSUOHDqUvv/xSpWfj9G4vvvgiTZw4kb777jsF6ihQwG0FAOhuK2pRXyJAbLy6mQh9A6AD0C3nNwDdkAUedNMUgQc9bGrAgx4SAx50Y17Ag25oAQ+6+Ru2snnQGbo5B/qhQ4coJyeHMjLKdojl5+erwHE1a9ZU+dGDgL5z504F30VFRbR69Wq67bbb6Pzzz6c9e/bQjz/+qCK3n3322fT000+b0q7F6z0b9Z6YCgDQPRj3RIDYeHUzEfoGQAegA9BtnnAAOgA9yhTBFndDGAA6AN3qMQGgV35AP3DggDozPnLkSLrppptUh6ZPn64gm/Ojc57zIKCzbXhuc47czp/t3bs3Xq/SqBcKlFMAgO7BpEgEiI1XNxOhbwB0ADoAHYCus8bBg26oBUAHoFs9O/CgG6oA0KsGoPP29Llz59LChQtVh3r06EFXXXUVLV68OCqgM9T36dNHwTnnUEeBAl4pAED3QOlEgNh4dTMR+gZAB6AD0AHoOmscAB2AbjVf4EE3VAGgA9CjramJsMX9rF/fUGfBw0taWhrxX2ThLe7sFZ8wYQI1adKE1qxZQz6fT6VL27Jli0q/Fu5Bnzp1KqWnp6tc57wNnsuzzz5L/L6LAgW8UgCA7oHSiQCx8eqmXd/s8qjH0i7OSckFgA5AB6AD0HXWEgA6AB2AXvETA0AHoCcyoL/31/No9OjRpiZmZWXRqFGjogI6b1vv378/tWvXTp0j5/Pkb775Jl1zzTUmQN+2bZsKHJebm6ugfu3atTRnzhxKTpZnsdD5PoItFLBSAIDuwbywg1gPmhC3W9j1ze5zNxoGQAegA9AB6DprCQAdgA5AB6BL1wxscTcrVVk96AzovMV92LBhqkMvvfQS9e7duxygR55B5wByl1xyCdKpSR8Y2LmiAADdFRkrrsQLSPWgG5a3sOub3edutBuADkAHoAPQddYSADoAHYAOQJeuGQD0xAN0nTzowS3uDOi8bb1Zs2aqQ5s3b1ap1CI96JGAzmfUr7jiClq/fr1Ku4YCBbxQAIDugcpeQKoH3QCgVySy3681BCU71ovtfdVqiW0JedANrZBmLYzC8uRziC2RBz2kF/KgG1MHedANLZAHPUwL5EE3ra/Ig27IkSh50MOhm9OtceH0alzsAJ1tLrjgArroootU/nMUKOCFAgB0D1QGoJedFY9XgQc9TFkAOgDd6kFDmjWTKvCgG3IgiruhBYLEGVrgDLqhBTzo5i+VRNji7tSDbvX1KAF0Tsl266230q+//kpNmzaN1+ss6oUCIQUA6B5MBgB6nAF9/RfyUcw/KrdN0ggI4k+S11tqWbLjV7G9r1ptsa2OoS9T7pkPaAKev1Z9eVN0flTQGZN4etB12hEoEWsRyDsstqWkFLGt7vj5NDzoP138qLgdGemFYtvk5GK5bapcY670wP4Med1J8rrTNfq3ea/8+fNTQNxeNlyTWj6ScbQKDmls/jlJPiR0RKPe/T69/q2lXLEeb+SsENv+seHvxbY6P2y8MsAnrpcNSw7J+8fRqKWl+KA56nVF1xXkyMckpY7clu9ZVObAFJW0Jhrfw6Iay4yK9hSJrf2Zco250kCRXI/vP5d/V9ZMPSZuc61aZdHHJSWztrxeri8pTb4mFhySj9+xPLntqT/Ol3QNNlCg0ioAQPdg6ADoAPTIaQZAD1MEgB4SA4BuzAsAuqEFAN28ggLQDT0A6M5e4gDohm5VHdDDz6BHzpYWLVrQiBEj1F944WjwfGb922+/dTbBcBUUiFEBAHqMAkouB6AD0AHoFTwpAHQAusX0AKAD0KOtGgB0ALrk3asiGwA6AJ0VAKDH+iTh+ngpAECPl7Jh9QLQAegAdAC6ZKmBB91QCYAOQAeg268a8KDba2RlAUAHoAPQnT07uMobBQDoHugMQAegA9AB6JKlBoAOQLeaJ9jiblYFHnR40CXrKTzoMpWwxR1b3GUzBVZeKgBA90DtqgzoDzzwAOXnRw9GsmvXLpo2bVpcVS5AkDhH+iJIXNhLbkYNPQ0RJC6kF4LEGVMHQeIMLRAkztACQeLMyyuCxBl6IEicoYVOkLgmX79HBQXmoIdpaWnEf5HF7gx6Tk4OpaSYg64eO3aM2rZtizPoem9GsHZRAQC6i2JGq6oqA7qdfFZ9t4N6uzqDn2dnl3nmAehSxcx2AHQAerSZgyjuhjLJiOIeEgNR3MNgguSRrAHoAPRoay0A3RmgT7muI40ePdoka1ZWFnFwN11Av/nmm4khPrw8//zztHTpUgC6s9dLXOWCAgB0F0S0qwKAbt7i7rYeAHS7GWj9OQAdgA5At392AOiGRgB0ALrVE4M0a2ZVkGbN0CNeadbc9KAjirv99yAsvFcAgO6B5m4DqQdNdu0WVn13Ww8AurPhAqAD0AHo9s8OAB2AbjVLkAfdUAWADkCPtpLGC9B18qDbbXEHoNt/D8LCewUA6B5o7jaQetBk124BQLeWEnnQw3RBmrWQGAgSZ8wLRHE3tECQOPM6iiBxYT8u+nzi7+vig+YzuxVdWJATENcLQAegJzqgb9q0iYLHIoNtrVu3Ll166aXIgy5+0mHopQIAdA/UBqBji3vkNAOgA9Ctlh4AOgDdal4A0AHo0V5VkGbN2Usc0qwZup0IUdwnT55cbqIMHDiQFi9eDEB39gjhqjgrAECPs8BcPQAdgA5Ar+BBgwc9JA4AHYAOQLf/UoYH3dAIgG4/X6wsAOgnDqA7myG4CgocXwUA6B7oD0CPM6D//Il4FAMFR8W2vuTy6TqiXuzzi+tlw5Id68X2vkzNFGDSmjNrSS1LQ+XLdeNKfbUbyusuKZbbJplToVR4YXGhuF6fdpo1jXYE5NGeA/kaOvs15tyxPLEWyjA1Q2z/WadnxbY1U46JbZP8GltskzXmUGkLdh3NFLcj3S+vOyOlSFzvr4XVxbbyGVRW5e5k+bbnXUkaOstN6YhP3upDJNeY+5dE8v4dDMjXgRk5X4rHZEDDC8W2/+9a+bzgSgOHo6cuLXdTv1yLkkNyLQp2ygc7pZbclttfeEgsHWWcni421vmxomi3XGN/ZpK4DWr8iuRz/+tF9cV1102Tt7lGdblt9ZPlRx/U85cmH++CQ3LtjuUmi7Vo9cMCsS0MoUBlVACA7sGoAdAB6JHTDIAepggAPSQGAN2YFwB0Qwv56z4APXKtBaCHzSMAekgMALoxL6oyoPfp04fy8vJo4cKF5d72ly9fTp06dSK2ef/99yukgY0bN1KLFi3o888/p86dO9Pll19O8+bNsyWIrl270rnnnkvPPfecsuX/v2TJknLXFRYWUnKy/AcK2xvDoNIrAED3YAhPZEC3ynm+a9cumjZtmmvKF8CD7kxLeNBDusGDHjGF4EEPCQIPujE3UuSOM3jQwx4peNDN6ws86IYe8KAbWsTDg/7OO+9Qv379iAG7efPmpok4ePBgWrlyJS1btoyOHDkS+qxDhw50++23E38eLPXq1aOkpCQaNGgQVa9enSZMmECrV6+mZs2aVfj+ZQXop59+Oj322GOm6xo0aODsPQ5XVVkFAOgeDO2JDOhW8rqtBwDd4SQGoAPQo00dADoA3WJuANANUbDFPeyHG2xxNz0t2OJuyHG8t7gXFRVRkyZNaOjQoZSVlRVqWG5uLjEUP/nkkzRs2DDT+LGn3Cr12tGjR6lhw4b01Vdfqbratm1Ljz76qDagh3vUHb694bITQAEAugeD7DaQetDkuN7CbT0A6A6HC4AOQAeg2z488KCHgRg86CExAOgA9GiLBwA9/oDeeOX7VFBgPjuflpZG/BdZ7r//fpo1axZt2LCBgnEKOKr7kCFDKCcnh+rUqSMC9FdffZXGjRunAH3OnDl05513muq0mg9WHnQAuu3XLgxKFQCgezAN3AZSD5oc11sE9bDa/q5z42BOSwC6jmphtgB0ADoA3fbhAaAD0K0mCQAdgA5At10+KV4e9Nf6d6LRo0ebGsBe7VGjRpVr1Jo1a6hNmza0aNEi6tatm/q8S5cu1LhxY5o+fXo5+2ge9IsvvpgGDBhAd911F7Fnnr3pM2bMoB49ekQVwgrQ+Rx7ampq6Br+oeBf//qXvZiwOKEUAKB7MNwAdLPIQT3c0gWA7nASA9AB6AB024cHgA5AB6BX/JggirtZH3jQDT3iBeg6HnRuDcN1q1ataMqUKbR+/Xpq3bo1LViwwBKurQD9l19+obPPPpu2bt1Kp5xyiuogb43ft2+fJeQHFbAC9JYtW9JDDz0UEql27dp08skn234XweDEUgCA7sF4uwWiHjTVk1sA0JFmzTTREMU9JAeiuBszA1HcDS0Qxd381YQ0a2F6IM2a8UOrT55yDlHcjTlUlaO4B3vJ29MZqHfs2EFjxoxRgYrDt7yHrzBWgM7b5MeOHasCxQVLIBCglJQUy23yFQE6trh7ghqV/iZxBfRYtzBXenX/1wG3o5ZXdl0A6AB0ALr1UwxAB6BbzQwAOgA96vc+AB2AbjE5kAfdLApHaect6QzZTzzxhIrQHi3AWySgBwPNMaT37NnTVHH//v3VWfTIQHMA9MpOKse//XEF9OPfvcRoATzo5nEAoAPQAegAdLvVGR50QyEAOgAdgG63YpQGVYIHPSQSAL38fOEUaW+//TYdPHhQpV2LliItEtA5VdsNN9xA7GyrVauWqWLeqv7BBx/QqlWrLCcogsTZP7ewsFYAgO7BzACgA9Ajp1nJjvXimefLrCG21TLEGXTD85KhqXFSilzqgByv4EE3ZAWgA9CjPWTY4h6mDDzoxjoOQAegV/DNvHz5curUqZPygs+fPz+qZSSg9+nTh0pKSmju3Lnlrvnmm2/o/PPPp6+//prat29f7nMAuvxVCZZmBQDoHswIALpZ5ODRB7e2/hes/0I+ivlH5bZJyXJbv3EuSXJRYOdGiVmZTZwA3Zcuh9JAYZ68vaWW/toNxPaB4iKxrU9jTHTq9ev8WMGt9fvFbS79ZhfbBgo05qdP3obAsXxxG9jQl5outv/0wqfFttWS5GOdliK3TU6Sa8yN3XM0Q9zmVL+87vRkeZvXFVUXt0E+0mVVyltMtD9Zfm53t1+eZ+2gT96K3XRMrAUbnkJGBGS7CzcF5GuXDvi/kbPC7tahzw/e10lsq8bvqPx59ekA+mF5vYU7zCmsKupAcm2N78rSioqPyJ+TlKby7ykdkYv35orN/Zl6/dMJErfuI/k6UD1T/pzUOEk+1mm1i8VaqK8/+dcDFR6QV12UL3+Parx8kbxiWEKBSqgAAN2DQQOgW4vsli4AdGeTGIBu6AZAN88hALqhBwDd0AKAbmgBQDe0AKCb108AuqHH8QZ09n7n5eXRwoULy70oBT3qbPP+++9X+CLFW+LZs84p0jp37kyXX345zZs3z/bliz3oS5YsUXacWq158+b0l7/8hUaOHKkCzi1evFilfjvrrLPou+++MwWh4+juzz33nLJHOfEUAKB7MOZugagHTfX0Fm7pAkB3NmwAdAB6tJkDQAegW80NADoA3WpeANAB6NG+S443oPP58X79+qkz5wzH4YUDxa1cuZKWLVtGHEQuWDp06EC33367CiQXLPXq1VPwzOfYq1evThMmTKDVq1dHPccevI4B/fTTT6fHHnuM8vPzac6cOTR8+HB66qmnFKQHAT09PZ3+85//0K233hq6JwDd2bsQQ0EMAAAgAElEQVRtVbkKgO7BSLoFoh401dNbuKULAN3ZsAHQAegAdPtnBx50QyMAOgAdgG6/ZsCDbmh0vAE9GIF96NChlJWVFWpYbm4uNWjQgJ588slyEdit0qzxhUePHlWR4L/66itVV9u2baNGgg8H9Mi0aux95x8E2IMfBPT77ruPXn/9dVq7di0xrHMBoNs/a1XZAoDuwei6BaIeNNXTW7ilCwDd2bAB0AHoAHT7ZweADkC3miXY4m6oAg+6eYYA0OMP6Ccv/pAKCsxxEtLS0oj/IgunR5s1a5Yp7/nkyZNpyJAhljnMowE651IfN26cAnT2hHN6tWi51CsC9Kuvvpq2b9+uvPdBQN+2bRtdcMEFdPfdd9O9994LQLf/aq7yFgB0D4bYLRD1oKme3iIYLM7pTbOzs9WlAHRnCgLQAegAdPtnB4AOQAegV/ycANAB6NFmSLw86C/3upRGjx5tui17tUeNGlWuKWvWrKE2bdrQokWL1HlvLl26dKHGjRvT9OnTy9lHA/SLL76YBgwYQHfddRexZ5696TNmzKAePXpEfUDCo7hzJPgFCxZQ3759acSIEfTMM8+EAH3//v00c+ZMevDBBxX0czo3eNDtv5+rsgUA3YPRBaDHV2QAujN9AegAdAC6/bMDQAegA9AB6PYrhWEBD7qhRbwAXceDzq1huG7VqhVNmTKF1q9fT61bt1awbAXXVoD+yy+/0Nlnn01bt26lU045RXVw2LBhtG/fPkvIDyrAgM6B5ThA3LFjZVH4//znP9MLL7xAmZmZJkDns+0cLK5///5q6z0AXeepq3q2AHQPxhSAHl+RAejO9AWgA9AB6PbPDgAdgA5AB6DbrxQAdCuN4gXoumnWeHs6A/WOHTtozJgxNG3atKjb060AnbfJjx071hRlPRAIUEpKiuU2+XBAb9myJT300ENq+32jRo1MdQS3uLMHnYGct+Jz1PZ169apM+6I4q7z5FUtWwC6B+MJQI+vyAB0Z/oC0AHoAHT7ZweADkAHoAPQ7VcKAHoiAzoHZeMt6QzZTzzxhIrQ/uijj1oOaySgBwPNMaT37NnTdA17u/ksOsO/VQnf4m71eSSgs82FF15I5513ntryDkDXefKqli0A3YPxBKDHV2QAujN9AegAdAC6/bMDQAegA9AB6PYrBQA9kQGd28Yp0t5++206ePCgSrvWrFkzEaBzqrYbbriBdu3apc6Ghxf2jH/wwQe0atUq1wCdz8r36tVL1ffyyy8jD7rOw1eFbAHoHgwmAD2+IgPQnekLQAegA9Dtnx0AOgAdgA5At18pAOiJDuic1qxTp07KCz5//vyoQxrpQe/Tpw9xgLe5c+eWu+abb76h888/n77++mtq3759uc+deNC5EgZ0PiM/ceJEALrOw1eFbAHoHgwmAD2+Ih/9x83iG5TsOSi29WWkym3T5LZc6ZEl28V1pzXwi20DRQGxbepZDcW2OrpxpcnntRXXXXqIS25beuZLXHw+sSnp1Mu1ppZP5RL1ZqVf7NIS2L1LakqlEWbktqUeA61So4bYPLD/gNhWy7C4WG7ukz8jXKmvZnV53RZpe6Jd7PPL51zg0GF5G3S0KK01//P14rr9qXLtUs4oC450vEvJLvmc89XIEDc3UFgktvVXK8tVLCm1xn4uMQvZ3NKoo9h+f4k51VRFF17gqymu98J8uRY5yRpreGkLMkvk6/gVw5LEbaaAxlp7QP78+TLlc4gbGygsFLf50JJ9YtukVLluufvlY1KnrXysubH+6vK6C3fI52fREbEUdMonS+TGsIQClVABALoHgwZAj6/IAHRDXwB62FwDoBtiANBNixAA3ZADgB62fgLQQ2IA0I15AUA3v8NVNkDnoGuc95xLcnIyNW3alPr166fStFWrVk30grplyxaVwu3DDz+kPXv2qPPs11xzjTrHftJJJ4nqgBEU0FEAgK6jlkNbALpD4YSXAdAB6JZTBYAOQI+yhgDQAehWUwMedEMVADoAPdorWGUE9J07d6rt4oWluxuWLVumzqMPHDiQxo0bZ/umyXnJO3bsSKeffjr94x//II7K/tNPP9F9992nUqd98cUXVLduXdt6YAAFdBQAoOuo5dAWgO5QOOFlAHQAOgDd5mGBB90kEAAdgA5Ar3jNAKAD0KsSoB84cIA42FuwcBT3OXPm0JAhQ9S/33PPPfTII48Qpzu74oorVHC2Gv876sX//8cff6S1a9dSRoZx3IFTtp166ql0yy23iEBf+EoLMyigFACgezARAOjxFRmADkAHoAPQdVYZADoAHYAOQJeuGdjiblaqMnrQIwF9+PDhNH36dJUe7V//+pcKHMdb3hnQBwwYQLfddptKx7Zv3z46+eST1f9+4IEHyk2Z22+/nd58803au3cv+XR27UknH+xOWAUA6B4MPQA9viID0AHoAHQAus4qA0AHoAPQAejSNQOAnniAXnveAiooMAegSysN6Ml/kYXPoIcD+ooVK6h3797UvXt3atOmjcqNzt7woMec850vXbpUbV3/8ssv6aKLLqLZs2erM+eRJTs7m+6++27iLfT169eXTinYQQFbBQDothLFbgBAN2vIv0Lm5+fHLCwvjFwA6AB0ADoAXWdBAaAD0AHoAHTpmgFATzxAH9elm/J4h5esrCwVyM0K0KdOnUrp6elUVFSkzqH37duXxo8fT//5z39o1qxZ6kx5sPC75QsvvEB89twO0J999lm1PZ5zpNerV086pWAHBWwVAKDbShS7AQDdrKHbegDQAegAdAC6zkoNQAegA9AB6NI1A4CeeICu60Hftm2bOieeUprWtVGjRuq/XBjo+Qz6t99+G+rkc889R/z322+/qa3rDN4cHO7BBx8sN2WwxV36FMFOVwEAuq5iDuzdBlIHTUioS9zWA4AOQAegA9B1FjkAOgAdgA5Al64ZAPTEA3SdPOiRW9zDe2MH6Gzbq1cv5WFft24dgsRJHxrYxawAAD1mCe0rcBtI7e+Y2BZu6wFAB6AD0AHoOqseAB2ADkAHoEvXDAD6iQ3oDOadOnVS59Uj06zxOXikWZM+SbDTUQCArqOWQ1u3gdRhMxLmMrf1AKAD0AHoAHSdBQ6ADkAHoAPQpWsGAP3EBnTu/aZNm9R2+Hnz5qlt7w0aNFBB4/jc+0knnSSdSrCDAmIFAOhiqZwbug2kzluSGFe6rUfuC3eIOxbYu19s68tIF9tSSrLcttSycNUGsb3/pEyxLRUVi22TTmsqtg3sOyi2ZUP/2W3l9sl62okr9vnFplRcJLdly1SNuaFT8+4dcut0Ix+r3UWBw4fsTEyf+zLlc65kw29adYuNSwJiU11DX+0a8kv+d1ZRdIGGbWD/AVGVyqhQb34eXrhNXLc/Ra5zZvu64nrJ75Pbao510Wa5dv7aqfJ2FJWIbX015GvAXe+Ujyxd0Y1e275c3I4rG5wntq3mKzt3Kyndi6tJzJTNxmS5bmxfu0S+Nv/tj7nidpDGPCrZd0Rcr7+WfK3lSgO5x8R15ywRm1JSkvxZPXRIPj+btpE/T9zapJryZztvm9w2/7B8frb6YYFcOFhCgUqoAADdg0FzG0g9aHJcb+G2HgD0sOECoBtiANBDWgDQzUsaAN3QA4Aevn7KQROAbugGQDevLwB0Q49EAHQ+gz558mTVqKSkJBUk7sorr6Qnn3yS6tSpo/6dc5iHp1Lr2rUrLVkS/deT5s2bqyByKFAgXgoA0OOlbFi9bgOpB02O6y3c1gOADkC3nLAAdAB6lJUMgA5At5wa8KCHZIEHPewZgQfd9LhUNg86AzrnKZ84caJKs7Z69Wq67bbbqHPnzjRjxgxLQN+3bx8dO1a2E2LLli104YUX0sKFC+mss84KgT7SqsUVFU74ygHoHkwBt4HUgyZb3sKt/OWcL3LatGmudQOADkAHoFf8OMGDbtYHgA5AB6BXvGYA0AHo0WZIZQT0AwcOqHRqwcK5yydNmqTOk7do0UKdMQ+WSO84e8pbtmxJq1atonPPPdckS05ODg0aNIgWLVqkzqU/8cQTKh3biBEj1B8KFHCqAADdqXIa11UVQHerH27VExwCADoAHYAOQNdYkgmADkAHoAPQpWsGzqCblarsgL5hwwbq06ePgvMdO3bQ7t27qX79+srD/oc//EFtgw/3jlcE6Jdffjnt2bOHxo8fr3Kr33333bRixQq1fR6ALn3CYGelAADdg3nhNpB60GTLW7jVD7fqAaBbDBPOoBuiYIt7SAt40M3PCgAdgA5AB6BL36UA6IkH6I1Xvk+c4iy8pKWlEf9FFt7iPnXqVEpPT6fi4mLKz89XJs8++yzx+yiXyDPo4XVEA/Q1a9ao1GtfffUVXXDBBeqSX3/9lVq3bk3Z2dkAdOkDBjtLBQDoHkwMt4HUgyZ7BuixbJvnBZALPOhhwwVAB6BbPL0AdAB6tO8NBIkLXz8RJC6oBra4G/MCgJ54gP5a/040evRoU8M45RmnQrMC9G3bttG4ceMoNzeXJkyYQGvXrqU5c+ZQ8v+yyDgB9HfffZeuu+469UOB329kJqhbty49+uijAPTjBStV5L4AdA8GEoBuFjlcDze0AaAD0K1/fpSn8kGatQiARZo1QxCN1GmlexzF3yhIsxYmlUZ6LL4KadYM7ZBmzdk8Qpo1Q7fKmGZN14MeeQa9W7dudMkll9Djjz+uhHAC6Hym/frrry8H6BwZnn8swBZ38dchDC0UAKB7MC3cgFAPmml7C7f6AUBHHnTTZEMedEMO5EE3tNCENtsFLMwAW9wNMeBBD/+BEx70oBrwoIc9I4jiblpeK/sZdO7M4sWL6YorrqD169ertGupqakqonv//v3LfZXYbXFfuXIlnX/++eo6bHHX+SaGbUUKANA9mB9uga0HTa3wFm71A4AOQAegR3nUAOgAdKupUViktfwfXrhNbA9AB6BbTRYAOgA92iJSFQCd+8bnxi+66CJ68cUX6fTTT6cePXqorel8jj2YH53t7ILEcUo23j7PQeI4OvwXX3xBTz31FN11113idRiGUCBSAQC6B3PCLbD1oKkA9DAFfBnpcslTkuW2pZaFqzaI7f0nZYptCWfQDa0QJC6kBc6gmx8heNDD4CMlIF5fMtvXFduS3ye31dwtgS3uhrTY4h42zTTmEba4G7pVxi3urX5YIF5fOEhc5BZ3vnj69Ol06623Kq/3t99+qyKwM4w3btxY/TdY7NKs/fWvfw2lWWMw563tjz32GA0ZMkTcRhhCAQD6cZgDAHSz6OGB4dzIiZ77z0HiUS3Zu19sG09AL/jCWPztGpRcv3xU0mjXBIrkWzSTT29sd2sD8PYdEtuyYdI5beX2Kaly2xJ5/0qjtsSnXq7VIlJs1JtptDmwc4e4zT6Nc+KBQ3rj56teXdyOkm05YlstQ40fm7RgsLQRvto15U3ROFdemp9HXu9B+ZgECgvl9ZZa5i7ZIrb3afy2mN7uJHG98TQs2npAXH1SDfn6EiiWry/+GvIfcP/8pvxHEO5YCcnt5+5YJdZieKPOYttL8+Xr59YUuS03oLpcZrr+rxq7R0ojdEtLyf4jUlPy1cgQ27JhoED+vO75pCyiuKQkp8qFO3pQ/t5Qv81Rye1DNkk15YtGwXb5+BXmytfPxssXabXZK+OtW7dS06ZNaeHChdS9e3evbov7VEEF4EH3YFAB6NFFdkMbALqhLwA9bK4B0ENiANDNaxAA3dADgB62fgLQQ2IA0MOeEQC6aQEFoBtyLFq0iI4cOUK/+93vKCcnh+6//37iiPEcJZ63vKNAAacKANCdKqdxnRsQqnG7uJnGox9u1AlAB6BbTnoAOgA9ymoIQAegW00NeNANVQDoAPRoL5OVEdB5t+YjjzxCH374Ie3cuVOdMT/nnHNUWraOHTuqrq5atYqefPJJWrp0KR08eJCaNWtGXbp0ofvuu0+dUbcq8+fPV+fON2zYQDVq1KBOnTrRc889R82bN4/buzgqPjEUAKB7MM5uQKgHzbS9RTz64UadAHQAOgC94scXHnSzPgB0ADoAveI1A4AOQK9KgN65c2cqLD0qxGfEW7VqpSD9448/pnbt2tGVV16pcqJzBPdevXrR8OHD6dRTTyWG+lmzZtGWLVto5syZtu/IMIACbioAQHdTzSh1uQGhHjTT9hbx6IcbdQLQAegAdAC67QIWZgBAB6AD0AHo0jUDZ9DNSlU2DzoHiGOPOadWY494ZMnNzVUeb86LPnv27HKf8/W1a9eWThfYQQFXFACguyJjxZW4AaEeNNP2FvHohxt1AtAB6AB0ALrtAgZAt5QIZ9DD1k+cQQ+JAQ962I9YOINuWjsSAdBPXvwhFRQUmNrF6dH4L7IUFRUpQB80aBA9/fTT5WwYyvv160eff/55aLu7zvcJbKFAPBQAoMdD1Yg63YBQD5ppe4t49CM8orttAyIMsrOz1b8A0AHoAHQAus76AQ96GHzIAzITorgbuiGKu6EForibVx9EcTf0iFcU95d7XUqjR482CZ+VlaXOlFuVt956iwYPHkx5eXnUvn175Um/8cYb1Rb3MWPG0MiRI4nzmYfnP9f5ToEtFHBbAQC624pa1BcPsPWg2eVukaj9AKAD0AHoAHSdNRGADkC3mi8IEmeoAg962DMCD7rpcalsHvRg4/Pz82nZsmW0fPlymjdvHq1YsYImTJigzqP//e9/B6DrfInCNu4KANDjLjFRooKtbtcTtR8AdAA6AB2ArrOeAdAB6AD0ip8YADoAPdoMSQRAdyMPOm95/+ijj1TUdWxx1/kGha0XCgDQPVA5UcFWt+uJ2g8AOgAdgA5A11nPAOgAdAA6AF26ZiBInFmpqgLozz77rEqrtmnTJmrRogWCxEkfCNh5ogAA3QOZ3QDbWM5qu9VFTjkxbdo0t6pzrR4AOgAdgA5A11lQAOgAdAA6AF26ZgDQKzeg7927l66//nq67bbb1Jlzzle+cuVKuvPOO1WKtVdeeYXeffddZfOHP/xBpVk77bTTaM+ePfTGG2/Q5s2b6fXXX5dOF9hBAVcUAKC7ImPFlbgB6G7UEWtXE6ENVn0AoAPQAegAdJ31DYAOQAegA9ClawYAvXIDOkd75+BxCxYsoPXr16t86E2bNlVA/uCDD1JGRobqIEM750nnc+qHDh1SNpdddhndd999CthRoICXCgDQPVDbDbB1o45Yu5oIbbDqQ96Eu8VdCxw4JLaltFS5bUqK3LbUsnj1erG9v3Z1sS0FSsS2vsYNxbZ0UEO30lp9Z7aR152kEUba55fXq2OpoZuqNkVjbui0Y3eO3Dq97KVCVA7rjR9Vk8+54q+/FTVBGfl9ctsi+VzWqpfnZ+0a4nb4dJ7tFPlcDuw/KG4DFRbJbUstd74nrzs5rVhcd50LNeZ9cpK4XiqSt4ErzV+XK6475WSNNUNnytWUr/kvLKgnbi8b/kTy/jXwlU8rFe1mz29fJm7Hg426im3XBY6Kbdmwjk8+j5656oi47kChfB4V7coX15tcV95errQkX96OdYtriduR5JdP0L3H0sX1tmmxW2zLhqnV5f07lCNvx5Gj8rl87qb3tNoMYyhQ2RQAoHswYm6ArRt1xNrVRGiDVR8A6GGqaIAmAN2ZbuoqAHpIPAB62DwCoBtiANBDWgDQzd/cAHRDDwC6oUW8AP0vf/kLTZ48Wd0oKSmJGjVqpLa28/nzYFo1PoPOZ9FnzJih0q+Fl7POOotWr15NEydOJK4LBQp4oQAA3QOV3QBbN+qItauJ0AYAus0oAtCdTXMN3QDoZokB6AB0y4cOgA5Aj7IaA9AB6FZTI56AzqnUGLCLiooUbPN59M6dOysg58KAXlJSQm3atKH58+eHmvfFF18omOdt8i+++CIA3dkbFq5yoAAA3YFoupe4AbZu1KHb7kj7RGgDAB2AHus8trwegG6WBVvcQ3pgi7sxNbDF3dDCjy3uITGwxd28fGKLu6FHImxxZ6/3gQMH6J133gk17J577qFJkyYRB5ALAvof//hHys7OpnXr1qnz51xuv/12Sk9Pp9dee02lYwt60NesWUOcpo3Prbdq1Yqef/55uvzyy2n27Nl0zTXXxOU1BZWeWAoA0D0YbzfA1o06Yu1qIrQBgA5Aj3UeA9AFCgLQAegW0wSADkC3Wj0A6AD0aN8q8QL0NmtnKa92eElLSyP+iyyRgL5hwwbq06ePgvMdO3aEAH3EiBH0ySefUIcOHejhhx+m3NxcatiwIS1ZsoS6du0aAnT2tLdt25aaNWtGY8eOpcOHDxMD/4oVKwDogtcLmMgUAKDLdIrJyg2wdaOOmDpRerFuG+KdGo5/6eSCM+hhI6vhCcYZdGe6qatwBj0kHra4h80jnEE3xMAW95AWOINufvvAFndDD5xBN7TQ2eL+zq3tafTo0aaJlZWVpaK1WwH61KlTlSe8uLiY8vPLAgRyHnR+r+XCW9wZ0Fu2bKlgm73oU6ZMUVD+zTffUO3atUOAPm/ePAX4W7ZsoQYNGqjrFy5cCA96rJCB600KANA9mBC6YGvVJDfqiLWrum3QtXfaPgC6M9AEoDvTDYBuflIB6AB0y7UbgA5Aj/KlDkAHoFtNDR1A1/Wgb9u2jcaNG6e84hMmTKC1a9fSnDlzKDm5LPNGENCHDRtGTZo0oZkzZxID/3XXXUf8b+GA/u9//5v4jz3xwcJp2WrVqgUPutMXeVxXTgEAugeTwg1QdaOOWLuq2wZde6ftA6A7A00AujPdAOgA9KhrFTzohjQAdAA6AN32tQYedEMiHUDXSbNmdQa9W7dudMkll9Djjz9uAnT2onPe86+++oq+/PJL2r59u4r0Hg7o7FV/4YUXVE51ALrtFIeBQwUA6A6F07nMDVB1ow6dNlvZ6rZB195p+wDozkATgO5MNwA6AB2ALlitAegAdAC67YMCQD8+gL548WK64oorFGRz2rWgB50B/eeff1ZnzG+44QZ6/fXXVQOttrhv3bqVTjnlFPX5xx9/TD169IAH3XbGw0CqAABdqlQMdm6Aqht1xNAFdaluG3TtnbYPgO4MNAHoznQDoAPQAeiC1RqADkAHoNs+KAD04wPofNcLLriALrroIpU+LRzQ+TMOIJeZmUkZGRnlAJ3PsXNudL5mzJgxoSBx7HHnSPF9+/a1HXcYQAE7BQDodgq58LkboOpGHbF2RbcNuvZO2wdAdwaaAHRnugHQAegAdMFqDUAHoAPQbR8UAPrxA/Tp06fTrbfeSr/++qvKic7ec/6zKuEedP48mGaNt8JzmjWO5s6B4ziAXK9evWzHHQZQwE4BALqdQi587gaoulFHrF3RbYOuvdP25b39pPzSI4fltkllwUNEJSVFZBY0CmzeLLevWUNuW5r+Q1p89cu2ZomKjm5cYbPWomqVkd8vtvX5ksS2OoaBQLGOOflSyqdy0aoginFg3055NemZctujh+S2bKlRd9F7c+R160CbvFby+X0a1qWmafLnVSsPeqp8zQjsk49J4FiRVv9WvVlNbF8zzZyqqKILW1yksX4ma4xJUUDcXjbct1o+ftVOOqZVt9Q4uYa8zd+sKIv0LC2bNb5PTiqSr/nfpMvH5Mnti6XNpT83ukhsy4a5GuvtuPb7xXUHNB6ToznyZzW9lkbFpa0tLpB/p83b2FjcPx3DLcny+dmzME+naqpVrSwKuqRsOVRTYqZsdmu8c920faq4Xh1DTqd27rnnqojtOuWzzz5TZ9oZ9k899VSdS2ELBSwVAKB7MDHcAFU36oi1q7pt0LV32j4AephyAHRH0wiAHiEbAD0kCADdmBsAdEMLALqhBQDdvH4C0A09EgHQOUjc5MmTaciQITR+/HjTYN1xxx0quvvAgQNp0qRJtG/fPkop/YGMt7hzyrWKys0336yCzDGU33XXXSqY3KeffuroHQQXQYFIBQDoHswJN0DVjTpi7apuG3TtnbYPgA5Adzp3gtcB0AHo0eYQAB2AbjU3AOgA9GhrBgA98QB90aJFxKnQcnJyQufKOR96w4YNqWbNmsRR3RnQg4XPme/evTv0///5z3+q7euc75zLG2+8oVKtcfq2k08+WQWI+9e//kUnnXRSrK8juB4KKAUA6B5MBDdA1Y06Yu2qbht07Z22D4AOQHc6dwDoUZSDBz0kDAAdgA5Ar3iFhQfdrA8APfEA/cCBAypv+ciRI+mmm25SDeQz6E8//bQ6Q85nzBnQo21xHzVqlAoA9+2335Z7GN577z265557iKO6c9A59tjz3/79+1W9KFDAiQIAdCeqaV7jBqi6UYdms8uZP/DAA8S/OErLrl27aNq0aVJzx3YAdAC648nzvwvhQY9QEIAOQLd4qLDF3RAFHnRDCwA6AD3ad3C8trhft/EVKigwx89IS0sj/osswTzoXbp0oblz54a84Oz1vuqqq4hTrjkF9N9++41OP/10tcV90KBBtGrVKrr33nuVZx2AHuub2Yl9PQDdg/F3A67dqMODrppuYdVmXcivqM3Z2dnqYwA6AD3WuQ1AB6BHm0PwoBvKANAB6FbPCQAdgO41oK+7/TQaPXq06bZZWVnEnu5ogD5hwgRq0qSJisDu8/nozDPPpC1btiiwdgrof//73xX0//DDD6HbPvzww/TEE08A0GN9MTvBrwegezAB3IBrN+rwoKu2gB6PfgDQAeixzm0AOgAdgG7/FAHQAegAdPvnBFvcDY0SyYPOW9T79+9P7dq1o0AgQD/++CO9+eabdM011zgG9GuvvVYFh3v11VdDneYt75wLHR50+2cFFtEVAKB7MDvcgFI36vCgqwB0ochIsxYmFNKshcRAmjXhAxRhhjRrZkGQZs3QA2nWDC2QZs3QAmnWDC2qepq14BZ3BnT2dg8bNkx1/qWXXqLevXvHBOgM9xwY7pVXXgkJ+u6776o6AejOvs9xVZkCAHQPZoIbcO1GHR50FYAuFBCp818AACAASURBVBmADkC3mioAdOEDBECvUCgAOgDdaoIA0AHoVvPiRAJ0js7erFkzJcPmzZspKSkpJkDnLe4ffPABff/99yFpH3nkEfrHP/4BQHf2dY6r/qcAAN2DqeAGXLtRhwddBaALRQagA9AB6MKHRWAGD7pZJAA6AB2AXvHCAQ+6oc+JBOjca063xoXTq3GJZYv7xo0b6YwzziB+R//rX/+qorwHI7pz5PhatWoJvsFgAgXKKwBA92BWuAHXbtThQVcB6EKRAegAdAC68GERmAHQAejRpgm2uBvKwINuaAFAP3EBPXKtiAXQua5gmjUOONexY0e64YYbaOjQoZSXl0fp6emCbzCYQAEA+nGZA27AtRt1eN15qzbHox950x4Rdy1w6IDYVit6c0qquF42LFn/m9jeV7uG2JZKt29Ji69hQ6kpBQ6X/eIsLb5T20hNiTTOoJPPL69Xx7K4SMeaKDVOX7r7dsjbodOGo4fl9bJlRjWxffGyz8S25PfJbUsCcltNS18tef98aRrPdul2SWkJ7D8oNaXAMb35+dusY+K609MLxbb1L5aPiS9FQ4viEnEb2DD3Z3N6pYouTj1J3mbSaEZSzWRxm99dJF9rudK1KfKGNCiWr4mf+Y+I25zuk4/flO1fiOtlwz4N2ovtJ3XPE9tSkXysC7bLn6nUk+Uac2NL8uXjt+qLBuL++Ujev51JKeJ6z6+1V2zLhpk15evLnh3VxXUfKiifIi3axZfumCWu12tDjuA+fvx4FSEeBQo4VQAedKfKaVznBpS6UYdGk10xBaBHlxGAHqYNAN0QA4BuaAFAD2kBQDevpQB0Qw8AetjcAKCHxACgu/IaG7WSX375hTiv+rp162jKlCnUoUMHFSzus88+ozvvvFMFouNz6CgyBebMmUN8dv/rr78u9dno/SAmu0PlswKgezBmbsC1G3V40FXTLQDoAHTRnNNZjOFBNySFB100vayM4EE3VIEHPWyGyB2fBA+6oRs86OZVBh50Q49E8KCHR3G3+j5o0aIFjRgxQv1Jy3XXXUfnnHOOgkp+133ttddo37596nLOsV6jRg1q1aoVXX755erzhmE7FjlXO0eU5/PqVqVr16507rnn0nPPPRe1Obx9nn8Q+Oabb+iLL75Qbecz71wmTZpk+v+RldjpEbRv2bKl+pHhlltuIT5rHwyuF14f55Lv2bMnPf/882TXbtZl9uzZ6sy/VWnfvj3dfffddPPNN0uHoUrbAdA9GF434NqNOjzoqukWDzzwAOXn55v+bdeuXTRt2jRXm4It7mFyYou7s7mFLe5m3bDFPaQHtrgbUwNb3A0tAOiGFgB08/IJQDf0qIqAvnXrVgXfGzZsoCZNmqjOLl68mLp160bsWefgcxyIjuF5zJgxtGnTJvX57373O2XrBqDzuff77rtP3S8SyN0AdI5Kf8kll9Du3bupadOmalcA/xgRXni3ANvwDw38Y0WsgP7CCy/Q1KlT6csvv3T2HlfFrgKgezCgbsC1G3V40FXbW8SjHwB0ALrtxLMzAKAD0KPMEQA6AN1qagDQAejRvlYA6FUb0J999lmaMWMGffXVV6GOBgE9Mvc5e7rPO+88Ovnkk+nTTz91DdA5YnzdunVp7NixcQH0xx9/XKWOmzVrlopKzx7/X3/9Ve0OCBZuw3fffUcrV65U/xQroPMPGbybYf369eoHkBO9ANA9mAFuQKkbdXjQVdtbxKMfAHQAuu3EszMAoAPQAeh2TwnBg25IBEAHoAPQbZcMipcH/febplJBgTlYZFpaGvFfZLHb0q27xZ23aPOW9XHjxtkCOhvwVnV+9925cyfVr18/Zg96SUmJuv9bb72lPNjx8KDzmfq77rpLbTdfvXo1nXXWWfTJJ58oCOdy9OhRatCggdohwBHr3QB0ruOUU05RdQ4cONB+clVxCwC6BwPsBpS6UYcHXbW9RWQ/rLbB21byP4Ps7Gz1vwDoYYphi7t0+pjtAOhmPbDFPaQHPOjG1ACgG1oA0A0tsMXdvHzCg27oES9AX/S3s2j06NEm4bOyshT8Rha3AZ3Ph/fv39+05TuaB53bMm/ePLriiivU1u0LL7wwZkD//PPPqW/fvgr4OaCa24C+bds24vPnO3bsUF56LhdddJHK9z558mT1/ydOnEj/93//R9u3b6fatWurf4vVg8518Dl07huP5YleAOgezAA34NqNOjzoqu0tIvvhRr8A6AB024lnZwBAB6BHmSMAdAC61dQAoAPQo32tANDjD+jH04POoDpo0CB1BjxYKgL0Dz/8kHr37k0rVqxQ0d5jPYM+cuRI4nhODMlc3AZ03hnwxhtvKI95sLz88ssq8BxDOwfA69y5MzVv3lydGQ8WNwD94osvVrsCnnnmGbu3tir/OQDdgyF2A0LdqMODrtreAoBeJhHSrIVNFURxN8RAmjVDC6RZC2mBNGvmrxakWTP0QJq1sLmBNGshMZBmzZgXbnvQGSI5xdqTTz4pAnQ+s87nuBmq69WrFzOgt2nThp566qlQNHS3AZ29/b169TJFtT98+LDaVs/b9RnEW7duTYsWLVKB8dwEdO4bn22/9957bXmiqhsA0D0YYTfg2o06POiq7S0A6AD0cpMEgA5At1o5AOgA9CjfKAB0ALrl1ACgA9AtJobbgM45zjmSOwdOCxa7IHF8tnrJkiXKPBYPOuddb9euHe3du5cyMzNVfW4C+pEjR1RAOz53Hhmo7dZbb6W1a9eqHydmzpxZLmhcrB50zvrEEfB5x0H37t1teaKqGwDQPRhhN+DajTo86KrtLQDoAHQAegWPCTzohjgAdAA6AN32OxUe9DCJAOgA9CiAzhHCg3GLgiZ8vppze3OQuOuvv55uuukm09X8WfAMdvgH77//vtrizuevk5KS1EeRadbY4/z111+rgGebN2+mpUuXUtu2bUOAzlHgGXLDS/Xq1em0005THurGjRubttCzHQdl4y3lDPrchmCxAnROi7Zs2TJT/ampqaoN/INFND14Gz6f7f/hhx/KKclR6HlrO585Zw/3Qw89ZLKpqN3cdo4Az7sJwr3uXAH3mfvOGvbp00edrQ/++GC7AFZhAwC6B4PrBly7UYcHXbW9RWRQODfyoufNkAeTCBw+ZNvGoIEvJUVsSzq2pbWWbPhNXLevVg2xLekEiSuNJiotgdxcqamy87VoLbdPSpbbxssyUKJXc3Kq3F5nh8DeHfJ6U9Pltkfl815Vml72y7ykFM37WGJWZuM3UrTYXhRXQJf3T+sMenLZy5qkBPbJx0R3i/tPb8vnRmZqoaS5yqZZxyNiW1+yX2wbKNJ7/g78LF8zMk86Jm+HRjNSyuIiicqiL8pyJUvLbyny5+TkYmmtRCtS5FrsDchtjwU0GlHa3Pd3fCNu9N4/nim2JY3xK9heJK43pa58PLjSkvyAuO5FK+VzIzUgr3eXxvPXOXOfuL1smFFdPjd276ourntfoXzd6rnzdXG9DKTB4GbhF3GkcIZbBnQG1sjCZ7z52shSXPqexeevX3nlFbUVnEsQ0Pl/M4gycLIHumfPnnT33XcruA4W9qBHBrjjz9gzzfUw6Aa97eH35sBpH3/8sYpwzj8QBIsVoLO3O7Jwm3/77TfVp2h6BPv2j3/8w1LfM888k9iLz3oFc8AHDStqN/c5PEVbeOXB6PBDhgxRNuPHjxePbVU2BKB7MLpuwLUbdXjQVe1buNEvAHqY7AB07TmoLgCgm3UDoIf0AKAbUwOAbmgBQDe0AKCbl08AuqFHIgA6t4adQY888ojaPs0e2jp16tA555yjtpt37NjR9r2BwZYjm7PHnOH03XffVX/z58+nnJwcatq0aal/pJg2btyogD8eZc+ePeoc+JYtW0zA79a9uP2cBo414mjzXpbdu3cTwz/nVGedUUp/6AmUFggRXwXcgFA36ohvL53V7ka/AOgAdGezL+wqADoAPcokAqAD0K2mBgAdgB7teweAnniAzluzCwsLVXA19mwzpLM3ms9zX3nllbavEEFAZxDnvN8cwZ0jjQ8fPpxeeukllROdt7LHE9D5/Df/IMDb1+NR+EeM//73v2rrejRvdzzuy3Xy1nrW7oYbbojXLSpdvQB0D4bMDQh1ow4Puqp9Czf6BUAHoGtPvMgLAOgAdAC67WMED7ohEQAdgA5At10yKBE86AcOHFAec94+ztvII0sQvletWkWc45xL8Jrg9uugzcMPP6zOjjMsBwt7fgcMGECPP/54XAHdXm1YVCUFAOgejKYbEOpGHR50VfsWbvQLgA5A1554APSKJcMW95A+8KAbUwWADkC3Wjiwxd2sCjzohh6JAOhFRUUK0Pnc9tNPP01paWmmAdMBdPb0ck7z2bNnq3zdHDitX79+NHfuXLUtPJ4e9Jjfc1BBpVIAgO7BcLkBoW7U4UFXtW/hRr8A6AB07YkHQAegCycNAB2AbjVV4EE3VAGgA9CjLafxAvQumydTQUGB6bYM3pHwHTR46623aPDgwZSXl0ft27dXnvQbb7xRbXHXAXT2snOAtYMHD9Krr75Kt912m4pqfsstt9B5550HQBd+r8LMXgEAur1GMVu4AaFu1BFzR+JQQWRUd51bBFNmANAB6DrzxtIWW9zNssCDHtIDgA5AB6BXvMIC0AHoXgP650PPLBcJnaOcc9C3aIXzbP9/9s4DXKri/P+zt3BBQBCxoWKJxh57ixVNs0WjMfqLRiWKLbZ/RJLYkFhjjNg1SkQUMMYSoyaxx5Jo1MTeFTsgCCi9s//7GTJ7zh7O7s7s7r3sXr7zPPdR7n3PnDnv1M+877zD1WPPPvusefDBB+2552HDhtmo6QQm83FxR6apqckGliOa+frrr2/zw0ovQK94JaYMYhoQoLdDc6gGXFcjj3b41KXyCgG6AL3ihidAF6AXaEQCdAG6AF2AHjLHyMU90latWNDT6g+X90ceecRCO1eQvfjiixaySUQVJ6J58gy6g/htt93WXqU2c+ZMC/ovv/yyAD2kk0i2pAYE6CVVVLlANeC6GnlU/iW1mYMAXYBeccsUoAvQBeglu5HOoEcqkot7pAtZ0PO7jgC97QE95B70QgPb5Zdfbi666CJ7bdlyyy1nz5FzvpwEuHOHeSFAJ2r7iSeeaKO3H3/88QL0krOHBEI1IEAP1VgZ8tWA62rkUUbR6+IRAboAveKGKkAXoAvQS3YjAboAPa2RCNAF6IUGj7ayoIcA+uTJk83BBx9sz4tz5rx79+72vm2uK+OKtT/84Q/WZb25udnccMMNhvvGuUYNy3ghQMelnUjvnD/H5V0W9JLThwQCNSBAD1RYOeLVgOtq5FFO2evhGQG6AL3idipAF6AL0Et2IwG6AF2AXrKbGFnQIx3VAqATTI6z6Q8//LAZM2aMvQ+d+8yB9jPPPNN06dLFvPXWWxbgX3nlFbPBBhuYSy+9tKgFPdkKBOil+4UkwjQgQA/TV1nS1YDrauRRVuHr4CEBugC94mYqQBegC9BLdiMBugBdgF6ymwjQYyqqBUAvXWOSkAZqTwMC9Haok2rAdTXyaIdPXSqvmPfB897vzc6b7S1rGpv9ZRsa/GVbJbNTxnrLZ1q6ectmswu9ZTPL9fSWNXNn+su2SjasuIa/fGOTv2xDo7/swvn+spmw+jMh5fAvhcnOnu4vHaK3kHZPCZry74ktVqgFDwzzLnMmcf9s0QdD+lQm410GKxiSd4ieG/3bZ3byF2FlDpCedd+r3tJNy/u3/ebNVvfO1yzwH4uyc+f559squeCDKd7ymc7+35fp7D8WZVr854eGVXp5lxfB7LQZ3vIhQQwXTZnmne/8sf5jfmNPf13YAizKepdjxdvf9pbdZ9XFAb580voN3X3ErMzYbMC6oVW+c8Z/HLhk7cne5ZgxyX9cbmxa5J3vsxNX9pZFcGKT/3i76Vz/ebhXyxzvcmz5yV+8ZTuaYKZ1vuMe9gMOOKCjfZq+J6YBAXo7NIdqwHU18miHT10qrxCgR2oXoMeaoAA9UoYAPX9sEqDn9CFAj5qGAD3ShQA90oUAPX/4rDdAP+qoo+zd5RdffLH55S9/mfuYe++91/zgBz8w2Wz+hhEu7h9++KH9WX11/03JW265xfTv399suOGG1mU+nv70pz+ZQw45xEaL5971SpIAvRLt1c+zAvR2qKtqwHU18miHT10qrxCgC9BTG54AXYBeaEQSoAvQU9qGAF2AnjZkCNDrH9DvuOMO07lzZ/PBBx+YFVZYwX5QGqD/85//NIcddpjZeeedzcYbb2zOOuss73UtgH7SSSeZllZPsQceeMAGnnPpe9/7noV24FqA7q3SZVpQgN4O1V8NuK5GHu3wqUvlFQJ0AboAvUTXkwU9X0ECdAG6AL3ooCELeqQeAXr9AzqR3N9//32z33772QBwhQAdC/iqq65qdtttN/Ozn/3MPgNUu/TZZ5+ZgQMH2oBzBJ/baKONzLXXXmu23357A6Cfdtpp5ic/+YmZM2eOuemmm+xjPLPeeusZ1vG33357HqDff//9NoDdG2+8Yfr06WOOPPJIuylAZHjSe++9Z44++mgbUX7dddc1V155pQ1eJxf3pYIb7fpSAXo7qLsacF2NPNrhU5fKKwToAnQBugA9aPARoAvQBegCdM9BQ4Bee4C+8Xt/soAcT1iu+UkmXNy5Eg34/fGPf2yhd4011ljCgj59+nSz2mqrmeeee866qePeDlD369fPZjljxgyz+eab299zfzog/+KLL9qI8FjLHaA/8cQTZtdddzWff/65vV/9ggsusNe67b777uaKK67IAfpDDz1kfvSjH5mrrrrK7LLLLjbC/LHHHmso7+DBg82iRYvs+3r37m2GDh1qpk2bZjcAXnrpJQG6Z9+tZzEBejvU3q9+9Su7m1ZJmjhxohk1alQlWdT0s+XoiAGLJEAXoAvQBehBA5wAXYAuQBegew4aAvTaA/S//HRLM2TIkLyCAbVYowsBOi7tgDSu69x9nnRxx+J93XXXWQAmAcPciT5y5Ej77xtvvNFaz3FR79VrycCPDtDZDNhyyy2txRxr+vrrr28uv/xy614fB3Qgfq+99jKsf13iXYMGDTLjxo2zVvq9997bvo8NBdKDDz5on5EF3bPz1rGYAL1OKq+jW9Ar+T4BugBdgC5ADxrKBegCdAG6AN1z0BCg1x6gl2NBB8ifeuops8cee5hXX33VvPvuu3lB4nbYYQd7N/rpp59uPxirNxANLPfs2dOceOKJ1hX9ySefTG05cUC/+uqrzT333GMt4Yceeqh1c7/mmmvyAL1r167WSt4Yu/1j4cKF1qA3c+ZM6yKPSztg79LUqVNtWQTonp23jsUE6HVSeZUAbD18YiXfJ0AXoAvQBehB45wAXYAuQBegew4aAvTaA/SQa9acizuATtpnn31Mc3OzdSV3UdzffPNNs8kmm7TewNmQd+YcYMaqfsIJJ1hwB9p9AH3KlCnWFZ6z6dttt5099471PG5B79Kli/UCOPDAA5doiZw3x/Wdnzig4+beo0cPAbpn361nMQF6ndReJQBbD59YyfcJ0AXoAnQBetA4J0AXoAvQBeieg4YAvWMBOtZzXNAB7t/+9rf2mjUH3wR8i6fbbrvNPPbYYxbMuartlFNOsdevlXJxJw+uVeN6NaK3c6Y9Ceg77bST/T3u9mnJubh/8sknNoAciXPrRISXBd2z89axmAC9TiqvEoCth0+s5PsE6AJ0AboAPWicE6AL0AXoAnTPQUOA3rEAna854ogjzJ133mndyefNm2et3b/+9a/N8ccfn/exBJT7+te/bl5++WUbsX2zzTYzq6yyir1TnYBynFcHnuNB4jiDTpo9e7aZNWuWWXHFFe2/k4AObO+77742ajuu9Vjv2Tx47bXXbGA53N95H+/53e9+Z4PEsVb+73//K0D37Lv1LCZAr5PaqwRg6+ETK/k+AboAXYAuQA8a5wToAnQBugDdc9AQoHc8QP/444/NBhtsYCPB33XXXTaaOmfNge9k+sY3vmEjsONuznNY2x955BGzYMECG3AOqztu7PEz6GlNKwnoyADpbAwA+rjdY1E/5phjzIABA2wWnJN316ytvfbatgyyoHt23DoXE6DXSQVWArC18onFIrVXEqU+CNDnzvRXR2Ozv2ymwV+2VTL71Xhv+UxLN2/Z7KL53rKZrktGIS34cOA92g29F0cc9Uohumto9MrSCi1a6C8bKhlSjoC8szMX77z7pEynLj5iViYb0u55oGnJq2oKvWzB3272LkemdQHinUIgOnZPrVf+IXk3Lr6P1ivFgv2Uks9O/qKUSNl/n3Xfq97PNi3vP3Y1b7a6d75mUdZfdu48f9lWyfnvT/KWz3T2/76GLgHts5N/u2hYuad3eW1/neo/T2UCyrFw0jTvcswf53/zTFNPf114F+B/gkc86T/O/fXzxdG3fdLJfXbxEbMyn2Znecsi2DPTyVv+wrX92/L0if7jckOjf/97bvJK3uVFcFJjdC94qQc3nOe/Jlmxk3+b2+rTv5R6tf4uDdS1BgTodVJ9HQHQi31DJd8nQI8asQA91qEF6DllCNATA70APacQAXrUNgTokS4E6JEuBOj542e9Avozzzxj7xv/9re/ba8rc4mr2Qgghxu7kjRQKxoQoNdKTZQoRyUAWyufKECPgbQs6JEyZEGPQFoW9Bgt+Vs+W8Puhg1zAnQBekqLEaAL0NMGEgF6xwB0XMe7detmhg0bZoja3rdvX/thAvSw6VPS7aMBAXr76LnitwjQC6tQFvQY+MvFPVKGLOgR+MvFPX8AEaAL0AXoRdclsqBH6hGg1z+gc684wdZeeOEFezc5Z8fPPfdce268f//+eR84fPhwewXb22+/bc+DE8HdXXuG9V0R1CtGGmXgoQEBuoeSakFEgC5A92mHcnGPaUmALkAv1GkE6AJ0AboA3WdSbZURoNceoG/y/p9sgLd4amlpMfykpZtvvtlcf/31FtAfeOABc/LJJ9v7xYnifs4551iX90cffdQ+yj3j5APEY2XnKrbp06fb4HDPP/+8AN2z30isMg0I0CvTX7s93dEBvVgAuUJKHjp0qP2TLOiRhgToAvS0/qIz6AmtCNAF6AJ0AbrnCk6AXnuAft/RW5ohQ4bkFQzLOO7qaYk7x4nUfuqpp9ro61jTb7/9dvOtb30r1cUdYN9vv/3Mp59+alZddVWbJQAvC7pnp5FYxRoQoFeswvbJoKMDeiVaFKAL0FPbjyzoObUI0AXohcZYBYmLNKMz6JEu5OIe6UKAXnuAHmJBf+edd8ymm25qPvvss9w1aieddJKZMmWKGT16dCqgX3nllYYfrOwucQ851nW5uFeyYtezvhoQoPtqainLCdALV4AAXYAuQC8+QAnQBegC9NKTuABdgJ7WSgTotQfoIdesDRo0yLqpN8auwcxms/be8fHjx1sQT0Zx587yq6++2owZM0aAXnrolEQbaECA3gZKbYssBegCdJ92JRf3mJZkQc8pQ4AuQBeglx5BBegCdAF66X5ST9es4c6+xhprGCD9O9/5Tt7HHXTQQfYsOpZx3N1fe+213N+di3vc6v7YY49Zl3hZ0Eu3EUlUrgEBeuU6bJccBOgCdJ+GJkAXoKe1EwG6AF2AXnoEFaAL0AXopftJPQE6lvFDDjnETJw40bqnx9NZZ51l/va3v5kzzjjDHHvsseaf//ynhfnu3bubpqYms8kmm5i1117bXHrppbkgcc8995y1tu+///6lFSUJaaACDQjQK1Beez4qQBeg+7Q3AboAXYDu0VMUJC6nJJ1Bj9qLAF2ALkAvPX7WE6AT6G3RokXmr3/96xIf9uKLL5qtt97a/Pvf/7Yu8FjIv/rqK5O8Zo3I71yzhgz5YV3/7ne/W1pRkpAGKtCAAL0C5bXnowL0wtqe+/aT3lURYknMNDZ752syDf6yrZLZKeP85Tsv5y+bXeQtm+nay1s2RG9k2rDiGt55m4ZGf9kQPQfoIrT+TAjg+X+dyc6c6i2dae7kLZudM9NbFsFMpy7e8gvuudFb1jQ3+cuG6DhE1r8EiyVj5xZLPZppPdPomxZN/MJXNFhu4h/9x5fO3Rd45999u+7estlFWW9ZM2e+v2yr5Mw353jLN3f3L0dD54x3vpnO/mN+02r+eqMAi76c5V+OFv8+NX+8f74zPvXPt3MP/zbk/WH/E7x0TB/vRxYa/7q+etzT3vke1mcHb1kEZ2b92/MFLf66mzzNfy3Q2OC/FvhLp85B3/e5yb/erNjD2y/0n0tWne9f5gM+Hx1U5moI/+tf/zI777yzef/9983TTz9tTjvtNAv0StJAW2hAgN4WWm2DPKsJ6OVcaVaNT8LFaNSoUdXIKi8PAXpMHQFQKkCP6S0E/HmsjYBQgB6rkxAdh8iGjkAC9JzGBOhR4xGgR7oQoOcPKgL0SB+1AOhHHXWUGTFihDnuuOPMDTfckFdZJ554or0f/cgjjzS33HKLQRboxo2ds+bdunUz66+/vrn77rvNwIEDzfbbb28t7sgK0EMnU8mHaECAHqKtpShbTUCvZl4hKmmr9wrQBeip7TBgs0IW9HwNyoIe04cAXYCeMsAI0AXohdY/AvTaA/THH3/cBoMjanuXLout+nPmzLH3oS+//PKmX79+SwD6rbfeas4//3x7Fzrn0idNmmSjuuPuLkAPWf1LthwNCNDL0dpSeKaacFvNvEJU0VbvFaAL0AXoxXuiXNxDRqqErABdgC5AL9qBZEHPV48AvfYAHas4d5r/4he/MIcddpgtIHegX3LJJRa4e/bsuQSgx2v1iSeesBD/5Zdf5mSxoAPqRIj/5JNPzC677GJuvvlms+aaa1Yw4ehRaWCxBgToddISqgm31cwrRH1t9V4BugBdgC5ADxmLgmQF6AJ0AboAPWDQEKDXJqDvtttuNljco48+VrRlGgAAIABJREFUagvIlWn77ruvAb7LAXQiv2+++ebmqquuMp06dTK4yxP9nbPqStJApRoQoFeqwXZ6vppwW828Qj6/rd4rQBegC9AF6CFjUZCsAF2ALkAXoAcMGgL0tgf0vT4ebubOzQ9W19LSYvhJJneufNiwYfYatbfffttkMhmz4YYbWvf1Y445Jg/QR44caTp3zg+ct3DhQusSH7eg9+/f355H51w6iXw32mgjw1Vs2223XUCLkag0sKQGBOh10iqqCbfVzCtEffH3ViNQ3dChQ+3rBegCdAG6AD1kLAqSFaAL0AXoAvSAQUOA3vaA/vLxXzdDhgzJq5XBgweb8847ryCgE/jtoIMOMt/4xjdMNps1r7/+urnrrrvMAQcckAfoY8eOtYHj4gnoPvzww/MAfcCAARbaG2NzxAorrGCuuOIKG3ROSRqoRAMC9Eq0147PVhOqq5lXiAri761mGQToAnQBugA9ZCwKkhWgC9AF6AL0gEFDgN72gF6OBR1Ax8X9pJNOsgW89tprzd57770EoLso7vEqTzuDDqBjxW+I3SICoF955ZXmiCOOCGgxEpUGltSAAL1OWkU1gbaaeYWoT4AeaUv3oMdaju5BzylD16zF24X/PdNtde2dLY0AXYAuQBegByx2BOhtD+gh96DHr07DVb1v3762gAR2w/qdtKD7Ajou7nF39nfeece6zcvFPaCzSLSgBgToddI4qgnV1cwrRH0CdAF6ansRoAvQ0xpGyN3mIbIhg5YAPU9bugc9UoeuWYt0oSju+YOKAL12AZ2Scd0aievVSOUCOkHittxySxskrrm52VrmcZ1/9tlnQ2cZyUsDS2hAgF4njaKaUF3NvELUJ0AXoAvQi/cYWdBj+gmB7hDZkEFLgC5AL9BeBOgC9EJDiQC9tgE9WW/lAjrXrHGt2hlnnGE+++wzs/POO9t/r7XWWqGzjOSlAQF6vbaBakJ1NfMK0WebAfqYf/sXY85Mf9nGJn/ZECtwa67Zr8b7592pi7/sokXespnuvb1lzdwAvbXm2rDiGv55h8BVJsDteeEC/zKESjYvGSm2YBaLFnrnnp093VvWhJQhpN1TgoC8F9x3k3+ZA9zFQ9zWMw0Z/zIgGdKOWq/N8U4B35edNMk721DBqXe96/1Ic3f/MaPLVit755sNGIuys+d554vgvPcWW8B8UsNy/m2joXOjT5ZWJhMg27haL+98EczOmOUv3+zfPhdN8h9f5nzkXyedegeMy3zfoqz39534fE9v2fnGvy13zTR75ztqXMAaozXX76+2tXfeV67sP7dOney/Fmhs9NfFY3PC2uekBv/629S/GZmVs/7Cu35+p7eOJSgN1KMGZEGvk1qrJlRXM68Q9QnQI20J0GMtR4CeU4YAvbx2IUDPH4kF6JE+BOiRLgTokS4E6JEulgVAnzhxojnnnHPM3//+dzNhwgRDMDfuMCfq+4477hiylC0oGz/rXpUMlckyrQEBep1UfzWhupp5hahPgC5AT20vAnQBelrDCGgXAnQBeqG5SIAuQE9rGwL0ZQvQd9llFzN//nxz8cUXm3XXXddC+mOPPWavXNtnn31ClrIC9KpoS5mU0oAAvZSGauTv1YTqauYVop743efsZo4aNSrk8YKyc+XiHluB+bu1ycW9guYX4AJu5OIeKTrABVwu7uW3T1nQI90J0AXoAvTiY0lHt6ATlR2LOVel7bbbbqnKmDp1qj1LzlVs3G2+zTbbmKFDh1orOwlLO3874YQTzAUXXGAmT55swf6mm26yd6jz9+S97P/4xz/ss/369cvdn86/X375ZRtc7sMPPzRrr722ueWWWwzn2UeOHGlOP/108+mnn9rr30aMGGHvaed+d8rHPezcsR6/d738WUJP1roGBOi1XkP/K181obqaeZWrvmqWQYAeq4WAc58C9HJbb+tzAvSc8nQGPdaOAjYgdAY90pvOoOePRTqDHulDZ9AjXegMeqSLkDPoCxYssIB+zDHHmEsuucS0tOTHkCHyOhb2Xr16mXPPPdf06NHD/P73v7fg/O6779rfA+CXXXaZ2X777c3vfvc7Gwn+6KOPNtttt501Ns2YMcP+m98PHz7cFpTnnnnmGS9AJyL87rvvbn7zm9+Y6dOnmwMPPNBsvfXWFv4B9A8++MAcdNBB5tZbbzWHHHJIBYsXPVovGhCg10lNVRNoq5lXueqrZhkE6AL01HaoIHGRWhQkLr+JKEhcTh8KEhc1DQWJiw0ZChKXU4aCxOUPn7UQJG77j0eauXPn5hUM8E7CtxO4++67zYABA8zs2bPNVlttZS3phx56qHVxf/zxx80PfvADg2dn/Pn11lvPDBo0yADPADqW848++sisscbiILgPPvigtaKPHTvWrLrqqibtDDpWex8LOneqv//+++ZrX/uazfv44483t912m3XF79atm/3d9773PWtxv+GGG8pdeuu5OtKAAL1OKquaQFvNvMpVnytD3O09NC/cj0gCdAG6AL1E7xGgC9ALNBEBugA9rWkoinukFQF67QH648dvsoRLOZZmQLpQwnX96aeftveUA9fPP/+8GTZsmPniiy/ML3/5S9OlS36UfGB+4MCB1qpNvlivsWS7hNs5Fm7nOl8JoP/sZz8zM2dGEf35Ftzb33jjjdz7jjzySGtdv+eee0KXy5KvQw0I0Ouk0qoJ1dXMq1z1uTJUoywCdAG6AF2AHjQWyYKeU5cAXYAuQC8+egjQaw/QQy3oaTWMy/sjjzxiTjzxRHP11Vdb0E4mALx3796pgI47O+7wTz75pNl1111TLehPPfWUtdZPmTLFutmTXnjhBesanzyDzll5l9yZd86ru6Qo8UGzfN0LC9DrpAqrAbLuU6uZV7nqE6DrHvRc2wmI1h10f7Vc3KPuKQt6/lAlQBegp0xecnGPDRlycc8pQ4Bee4Aecga90Dr18ssvNxdddJG5/fbbzV577WVdzHEhT0vOxf2TTz4xffr0sSIPPfSQDebmXNxxhR8/fry5//77c1m89dZbZuONN7aWcP5LIrAcsgL0cgli2XhOgF4n9VxNqK5mXuWqT4AuQBegL9l7dA96TCcBGze6Zi2/LSmKe6QPRXGPdKF70CNd6Jq1SBcdPYo7EdcPPvhg89Of/tSeOe/evbv5z3/+Y04++WR7hhw3dyzguI/jzr7BBhuYcePGmb/97W/mgAMOsBHdXZA47kwnWBzWcyzwnGcH8EnAPsHlHn74YbPiiita6zqJc+U77LCDPcP+3nvv2Ujt77zzjgC9XIBYRp4ToNdJRVcTqquZV7nqE6AL0AXoAvSi44cAvdzh1QjQBehpjUeALkBPaxcdHdAJJgdgA85jxoyx96GvueaaFtrPPPNMe/YcOD/rrLMMweQ4k07QN6Cde9ORdS7nxx13nAVtXNaxngP3znWd5w477DB7xp2o7lyzRmT2f/3rX/Z6NuB82223Naeccop9tyzoZU9xy8SDAvQ6qeZqQnU18ypXfS44XDXuQ5/79pPexcjOjYJwlHoo09hcSiT6e4jLbOtT2Snj/PPuvJy/bDbgHvSuvbzzDdEbmTastJZ33kFu6wHQZgKunPMv7GLJTGOT9yPZgDoJsaBnmjr5l2HuLG9Z+30BeS+4/2b/vDu1UZ8KaRd8X0PGv8whfbvZ//uyE7/wL0NIeVtznXLHGO+8W5Zf6C3bZZve3rJmgf9YlJ073z/fVsk5b033lm9cHADZKzV0bvCSs32kc6O3bOOqiy1pvin7pf88ZTr7t7mFX/jnO/vjrG9xTcuK/nVNpgFDohn4mn+bazT+/fqr7Dzv7wv7OmPuG/9f77zf3WATb9kpX/qvBZoa/Uv9oFneuwwITsgs8Jbfcr7/XLly63Vovul7E/7oK1oVubQz4VXJWJlIAwU0IECvk6ZRTaiuZl6Vqq8aZRGgx2ohYOWTEaCX3XwF6JHqBOixZiRAjzUMf0AQoOcPRQL0SB8C9EgXAvRIFwL0spcverBONCBAr5OKqgbIuk+tZl6Vqq8aZRGgC9BT26Es6Dm1ZGVBz2sisqBH6pAFPdKFLOiRLmRBj3Thv9W0+BlZ0CPd1YIFPR79nP8fMWKELWBTU5N1Xz/wwAPtlW1du3a195yvs846ZqWVVrLu8JxXJ2FB53z6L37xi6JXuVW6Jtbz0oDTgAC9TtpCNUBWgN7qWicX91yLlwW9/M4vC3qkO1nQY+1IFvRYw/DHGlnQ88ciWdAjfciCHulCFvRIFyEW9CSgT5gwwQwfPtyeRededIK9ccf49ddfnwP0zp07m0GDBuXdtb7FFlvYoHHF7lovf1WhJ6WBfA0I0OukRQjQC1eULOgx3cjFPVKGLOg5XciCnpj4Qs506wx6Tnk6gx61I51Bj3ShM+j544ss6JE+atGCzn3j9957b66QAwYMMA888IC9Is1Z0M844wwL7FjRV155ZSsrQK8TYOogxRSg10lFCtAF6F5NVYAuQE9pKAJ0AXqh8UMu7pFm5OIe6UIu7rGpxGvyjYQE6G0P6P0+GWGIzh5PLS0thp9kSlrQk4BOVPXRo0ebSZMm5QD9xRdftNey7bTTTuaaa64RoAf2AYlXrgEBeuU6bJccOiqgu2ju5Shx6NCh9jFZ0GPaE6AL0AXoJYcTnUGPVCRAF6CndRgBugC90EBaC1Hc/33Chnnu55R18ODBqe7nxQD9+eeft9el7bnnnuaOO+7IAfpLL71kcIXfb7/9zFtvvWXvMpcFveTUKoEqakCAXkVltmVWHRXQq6EzAboAPbUdycU9pxZZ0PNbiABdgJ42ZsiCHmlFgC5Ar2VAr8SCPnLkSMMZ8wWt17pxDn3//fc3N9xwg3Vldy7uADpAvscee9g70bGwC9CrsWJXHr4aEKD7amopywnQC1eAAF2ALkAvPkAJ0AXohVqILOiyoMuCXnz89A93uDgfubhH+qzFM+hjx46158ubW4N69unTx/7XpSSgY2HfcccdzX/+8x/Tv39/BYlbyiy0LL1egF4ntS1AF6B7NVW5uMfMHqHLKi8NWyFFcY90pSjusXajKO6xhuHf/xTFPX/sURT3SB+K4h7pQlHcI11UEsU9eQY93vuSgM7fDj74YDNt2jTr8q4o7v7rJElWpgEBemX6a7enBegCdK/GJkAXoKc0FFnQ85UiF/dIH7KgR7qQi3ukC7m4x6YSr8k3EpIFPdJFLVrQQwH93XffNZtssom9N133oAd2BomXrQEBetmqa98HBegCdK8WJ0AXoAvQS3YVAboAPa2RCNAF6Gntwt8XZPHTAvSOBeh8zXHHHWduvPHGgoHoSk46EpAGAjUgQA9U2NISF6AX1vycf43yrpbs7Onesqapk79sQ4O/LJLjP/aX79rdXzYkMFrP3v75zpnlL9sqmVm5b5C8r3CmITorVuqZbHZhKZHc3zNNS17NUvThxibvvE3Apkl2xhT/fJsDyhzS7ilBS1fvckz9+eXeso1dst6yIYKZgOoIyRfZhs4Z70cynfzHgTmf+i/7Fy3wLwOFvWTc4nt7fdJqWf8+tX/Tlz5ZWplMg39dz5/f6J0vgq/N6+Etv/rC/KuYij240PjXX49m/3z79J3qXV4EZ3zp37ebO/mPc5MmdfMux+vGfwzou2C+d74ITmnw77C7bjA2KG9f4S/HLecrarr28K9rMp0/x789f/2dN7zLcUSfHb1lVzL+/XrP2f59lQIs3zjPuxzvG389j/Mvshn08UjvMkhQGqhHDQjQ66TWKrmOLPmJEydONKNG+UNtratIgB6rIQF6ThkC9Fi7EKCXPYwJ0CPVCdAjXQjQI10I0POHFwF6pI+lDehckzZ79mzz6KOPLjEHPPvss+ab3/ym+e9//2u23nrr3N979uxpNttsM3P++eeb3Xbbrey5Qw9KA5VoQIBeifbq9NlqWuNrQQUCdAF6WjsUoAvQqzE+CdAF6GntSIAuQC80vgjQawfQ7733XnPggQeaDz/80Ky11lp5VTZgwAAbnf3Pf/6zWWeddSzEc9YcI9aZZ55p/vGPf5jXX3/d/k1JGmhvDQjQ21vjNfA+AbpnJcjFPVKUXNzzG41c3HP6kIt71DTk4h7ThVzcc8qQi3v+8CkX90gfcnGPdNEWLu7cdb7GGmuYE044wZ4fd2nWrFn2fvOLLrrI7LvvvhbC3d3nyHAVG89xPzrnz5WkgfbWgAC9vTVeA+8ToHtWggBdgF6oqQjQBegpbUOALkBPGzIE6AL0QlOJAL08QD/13T+YuXPzYwO0tLQYfpJp0KBB5s477zQffPCByWQWx/MYMWKEBe/x48ebqVOnLgHoX375penVq5e5+uqrzUknneS5aJSYNFA9DQjQq6fLusmpvQC9mufm05Q7dOhQ+2u5uMe0ozPoOWXIxT3WLnQGvezxWS7ukep0Bj3ShVzcI13oDHr+8CIX90gfbXUGfVb/9cyQIUPyFI+F/LzzzltirH/77bfNRhttZB5//HHTr18/+3fOlq+++upm9OjRJnn3+cyZM83pp59uhg0bZq3qnEdXkgbaWwMC9PbWeA28r70Avb3eI0AXoKd1KwG6AL0aw60AXYCe1o4E6AL0QuOLAL3tAT3Egk5pdtppJ7Puuuua2267zYwZM8asv/765uGHHzbf+ta3coDepUsX09B6Iw/u76uttpr5zW9+Yw4//PBqTCPKQxoI1oAAPVhl9f9Ae4Fze71HgC5AF6CXGJdkQS974BagC9AF6MW7jyzo+foRoLc9oIdes3bzzTdbV/XPP//cXHrppfYmI+fy7izo9913n9l4440NUdxXXHHFsucMPSgNVEMDAvRqaLHO8mgvcG6v9wjQBegCdAF6Ww3DAnQBugBdgB4yvgjQaw/QZ8yYYa3iv/3tb82FF15oiOB+7rnn2oImXdxD6lqy0kBbaUCA3laareF82wuc2+s9AnQBugBdgN5WQ64AXYAuQBegh4wvAvTaA3RKdMwxx5h77rnHBoXj2rW+ffsK0EMatmTbVQMC9HZVd228rL3Aub3eI0AXoAvQBehtNboK0AXoAnQBesj4IkCvTUB/9tlnzTe/+U3zne98xzz00EO5QsqCHtK6JdteGhCgt5ema+g97QXO7fWeOc/e7q3d7JyZ3rKZpiWv6yj4cGtgkZCUnfCxv3iXbv6yAVHcMz1X8s43RG9k2rDKOt55BwlmAvScXeSfdci1aeTa2Oyfd4Bkdvokb+lMcxdv2eycad6yVrCTf96zz7/MO+9MZ//6yzQsvg7HJ4Vcb+aTX55MU0CZW/zbxfxPp/sXJaApk+nNL63pnfdqC7xFza6rj/cXDpBcON9fx2T77nj/86G9O832Lsn/bmDyku/Seb6XHEIr9JnlLYvgjEn+c0+nLv4V+MXn/nPJK4u6e5d5rQXzvGURnJ5p8pbftPdkb9mQIX/CFP/v67HcHO8yIDhnnv/3XdfkL3vruGe9y3Hwatt6y+6+0L9dkOlKC/wHpFdb/MfxDzP+eh7x0d3e3ydBaaAeNSBAr8daq7DM7QXO7fUeAXqsQQjQI2WErNYE6PmjigA90ocAPacLAXrULATokS4E6PnDpwA90kctAPpRRx1l7z0nNbVuiKy55prmwAMPtNe0de3a1f6ev1977bXmjTfesJHct9xyS8P96fvuu2+FK249Lg2UpwEBenl6q+un2guc2+s9AnQBemqHFKDn1CILegVDtgBdgJ7SfAToAvRCo4oAvfYAfcKECWb48OFm/vz55umnn7bn0Y888khz/fXXm4EDB5prrrnGXHDBBeaAAw6wMiNHjjSXXHKJufLKK230dyVpoL01IEBvb43XwPvKAedf/epXZs4cf/cjPnPixIn2Kou2TgJ0AboAvXgvE6BXMAoJ0AXoAvSiHUgW9Hz1CNBrD9C/+uorc++99+YKRhT3Bx54wPz5z382O+64o7nqqqvMySefnFeRp59+urn66qvtvelY3ZWkgfbUgAC9PbVdI+8qB9Db65lyVCRAF6AL0AXo5YwdXs8I0AXoAnQButdgsVhIgN72gH7jO6PN3Llz82qlpaXF8JNMuLgnAf2UU04xo0ePNocddpjhjvTJkyebTp065T06btw4s/rqq5uhQ4ea0047LaAFSFQaqFwDAvTKdVh3ObQXbBd6TznW+DQlM2jayVBB4iL16Ax6pAu5uOd0IQt6BcO0AF2ALkAXoAcMIQL0tgf0dY7azJ4hj6fBgweb8847rySgP//882bvvfc2e+65p5k2bZoZP368efnll1NruGfPnubHP/6xue666wJagESlgco1IECvXId1l8PSBvRy3l9MyQL0mHYE6AL0lM4iQK9gmBagC9AF6AL0gCFEgN72gB5qQedMeefOnc2CBQvsGfP999/f3HDDDfYcejFA79Gjhzn88MNtADklaaA9NSBAb09t18i7ygHkaj5TTl4CdM/GI0AXoAvQPTuLp5gAXYAuQBegew4XiAnQ2x7QQ65Zw8V97NixNiBcc3Oz6dOnj/0v6dRTT5WLe0Dblmj7aUCA3n66rpk3lQPI1XymnLwE6J7NR4AuQBege3YWTzEBugBdgC5A9xwuBOj5iqqVa9aSZ9BdKZ999lnzzW9+MzVI3M9//nMb3V1B4gIav0SrpgEBetVUWT8ZlQPI1XymnLwE6J7tS4AuQBege3YWTzEBugBdgC5A9xwuBOj1BeiUlgBwuLtfeOGFedesXXzxxeaKK65YIrp7QFOQqDRQtgYE6GWrrn4fLAeQq/lMOXkJ0D3bmwBdgC5A9+wsnmICdAG6AF2A7jlcCNDrD9ApMZHccYF/4403TCaTMVtttZUZNGiQ2W+//QJqXqLSQPU0IECvni7rJqdyALmcZwpFa6/2/eiz/zHMX/ezZvjLNudfuVH0wYYG/3yR/PxTf/mu3f1lFy7wl11hZX/Z2QF6a801s9q6/nlnAnQXqmffUoSUge9rXHx+rdopO3Wif5adu/rLzpruL4tkS2dv+bnX3uAtm+nU6C0bIphpDGhDZBwA3abJv8yZFv92sfDzqd6fmF2Q9ZZF8O//WM1bfsWFC71lt9h0vLdsSJdaND/jnS+Cn77f01t+hZ6zvWVDLn7o0mO+d77zZvm3ITL96svlvPPu0tm/HJ9O9Z9Lnu3c5F2G9f2LYPOc0eBf39/uPcG7HIsW+uc7cXI373x7dJ3jLYvg3Hn+urs94z+Of5L1b8t3jn/Bu8w3rdTPWxbB3gFjxqst/mPzmEz+tWnFCnXzR3cFlVnC0kC9aUCAXm81VoXylgPb5TxTqKjVzIt3CNBjmhagl9dDQmii9Q0C9EjNAvRIFwL0mC781+VGgJ4/bAnQI30I0CNdCNAjXYQAOkHiRowYYR9ubGy0QeL22Wcfc9FFF5kVVljB/n7ttdc2H3/8sf1/or2vtdZa5uijjzYDBw60FnXSRx99ZNZZZ50l1hjcpU6UeCVpoJoaEKBXU5t1klc5gFzOMwL0Ig1CFvTyVvKyoEd6kwU9pwtZ0PPHGlnQI33Igh7pQhb0SBeyoEe66OgWdAB9woQJZvjw4faatTfffNP89Kc/Nbvssou5/fbbc4AOkA8YMMDMmTPHPProo+aEE06wQeKOO+64PEDnb5tssklOgV26dDFcx6YkDVRTAwL0amqzTvIqB7bLeUaALkD36hIh1msBugA9pVEJ0AXohcYaAboAPa1tCNCXLUBPRnE//fTTzS233GImT56cA3SCxfHj0tZbb20t63fffXceoL/00ktmiy228FreSEgaKFcDAvRyNVfHz5UD2+U8I0AXoHt1EwF6Tk06g+7VYpYQEqAL0AXopfuOLOiRjgToyy6gf/DBBzb4G3D++eefLwHo2WzWPPnkk2bvvfc23//+980f//hHAXrp4UUSVdaAAL3KCq2H7MqB7XKeEaAL0L36gwBdgO7VUAoLCdAF6AL00p1IgC5AT2sl9ejifv07o8zcuflB5VpaWgw/yYSLO2fEOVu+sDXAHS7spMsvv9ywtiVhKR8/frxpbm428+bNM/Pnz7fyjz32mL0nneTOoOPS3hDz5nv66afNlltuWboDSkIaCNCAAD1AWR1FtBzYLueZQvoqFN09VL9Dhw61jyhIXExzChIX2owWy4dsEiCuKO45PStIXNTkFCQupgsFicspQ1Hc84dlRXGP9KEo7pEuQqK49z1qUzNkyJC8hjV48GBz3nnnLbEGANDHjh1rr1GbNWuWGTZsmHn33XfNAw88YJqaFkfcB9APP/xwg+wXX3xhzjrrLLPHHnuYs88+O5efA/T77rvPbLTRRrnfr7nmmqkbA+UtRvSUNPC/ZWmrK0fY/S3SXN1roBzYLueZ9lKUAF2AXnFbE6Dnq1DXrEX60DVrOV3omrWoWeiatUgXumYtf/jUNWuRPtrqmrVQC3ryDHq/fv3MzjvvbM4///wcoMfPoH/55ZdmvfXWM3fccYf51re+ZWUcoOsMesUrLmXgoQFZ0D2U1NFEyoHtcp5pL70J0AXoFbc1AboAvVAjEqAL0FPahgBdgF5oyBCgtz2gh16zlgT0J554wuy1115mzJgx9to1LOjJIHFY4++9914DkHPVmgC94pWWMgjQgAA9QFkdRbQc2C7nmfbSlwBdgF5xWxOgC9AF6CW7kSzokYoE6AJ0AXrJIcO0lQW9UkCn5Ntss43ZYYcd7FVqaYCOq3vfvn3NbbfdZn74wx8K0EtXtySqqAEBehWVWS9ZlQPb5TzTXvoQoAvQK25rAnQBugC9ZDcSoAvQ0xqJXNzztSILeu1b0Cnh6NGjTf/+/c37779v70RPWtCROfbYY80zzzxjXn31VfPJJ5+YddZZx1rUdc1ayelCAhVqQIBeoQLr8fFyYLucZ9pLN3Ne+Zv/q2ZP95dtXjIaaMGHAwEvO+Ej/3J06eYvGyCZ6drDX3re4qinvimz0lq+omFygXr2zjwhMmlyAAAgAElEQVTwfvVM4+LAMtVO2Rlf+mfZ1MlbNjt3prcsgplOXbzlF4y8zlvWNAfoLaROGhv9y4BkQ8ZbPhPg4t4aAtg730UTJnnLhgq+PsI/tEyPrv59e/Vd53sXJbtgkb/sHH9ZMp30mn/b79prnnc5Mg3+emvqGiDbMyBiXmtpF0zx10dDZ+/PM7M+9+8nn33a0zvjXj1mecsiuGihvz5emrFCUN6+wq928q+/1QPKy/tn+H+e2WrOAt8imw8Dxs+AzzMDvviHdxkQ/P5qW3vLB6jCrJ/xX+tc/NFo7zJIUBqoRw0I0Oux1iosczmwXc4zFRbT+3EBureq8gQF6DF1hMBg62MC9Eh3AvRYOxKg55QhQI/aRZMAPW/uEaBH6hCgR7poK0AnMnvyDLp7K67tH3/8sf0n16qtssoqZrvttjPHH3+8jeJO4ix6MmJ8ctX14YcfWjd5JWmgWhoQoFdLk3WUTznXnE2cONGMGjWqJr9SgF5etQjQBeiFWo4s6JFmZEGPdCELegy6ZUHPKUMW9PyRVBb0SB+1YEEvBehHH320GTBggL3/nEBw3JnOVWxEeOe6tRkzZtgfl7bddlvr+s4zLq200kqmMdSTq7ylm55aRjQgQF9GKrrSz5QFvYQGA12v5eJeZosM1LP3W2RBz1OVAF2AntZ3BOgC9LR2IUAXoBeaa+sB0NPOnnOn+gUXXGDefPNNs8EGG+R9XlpAOe+1hgSlAU8NCNA9FbWsiwnQBeghfUBn0EO0FcnqDHpMbyGbJqGWC51BzylaZ9BjmzE6g55Ths6gR+1CZ9Dz57N6O4NeyoKeBuhTpkwxvXv3NpdccokZNGiQAL28JY2eqkADAvQKlLcsPSpAF6CHtHcBeoi2BOip2hKgl9eIWp9SkLhIdQoSF+lCQeIiXShIXKSLegwSd947w83cuXPzxsiWlhbDTzKVA+jkseqqq5oDDzzQXHddfiBUWdDLnpr0YIAGBOgBylqWRdsC0Ms5Cx+vg6FDh9p/6gx6eS1TZ9BjeguBwdbHFCQu0p2CxMXakYLE5ZShIHFRu1CQuPw5SkHiIn0oSFyki5AgcS1HfX2JwG24pRPQrVqATsA47j+/9tpr87IUoJe35tRTYRoQoIfpa5mVbgtAr1aeAvTymqUAXYBeqOXoDHqkGQWJi3ShM+gx6FaQuJwydAY9fyRVkLhIH211Br2tLeiTJ082BH679NJLzcCBAwXo5S0z9VQFGhCgV6C8ZenRasF0XGfVylOAXl5LFKAL0AXopfuOAF2AntZKdA96pBUBugC90EjaVoAecg96OS7u5557rrnooovM22+/bdZbbz0BeumpUhJV1oAAvcoK7ajZVQumBeiLNaAo7mX2FEVxj5nwOnkrMTt3prcsgrKgR+oSoAvQBejFhw8BugC91gGdu87dsUhX1l69epldd93VuGvW5s+fb7jP3F2zdvHFF5tf/OIXS3yaXNyDlhMSLlMDAvQyFbesPSZAL1HjgeAoQC+zBwXq2fstOoOepyoBugA9re/IxT22PyYX95wyBOgC9FoH9BEjRixRxCOPPNI88cQTBngnderUyQaG22GHHczxxx9v+vXrl/pZAnTvlZUEK9CAAL0C5S1Lj/oCekjgt4kTJ5pRo0ZVrMa5rz/inUeQJbGxyTtfEwiO2S8+8c4706W7t6xZtMhftmsPf9l5s/1lWyVDorhnQnQXAtIhugjJF000NvvrY9FCb9ns7OneskFlCLSgm05dvMux4E83eMtmAoKomYCr0EL7n3eBEWxq9BcP+L7shEn++QZKjrnV32OiW/f8SMjFXrXSLv66yC70H4uycxYEfeFXr2W85busMN9bNmQoauzmna1p6r1kZOliTy/8ap535g2d/etk7jh/PU/+pKt3Gbr3muMti+DC+f6Oz/dOWtU774Bb8syLjf5z2lrZzt5lQHBqxn/MP2Sef12PW+RfjmaT9S7z8Bb/8YJM7xv/X++8T+mzi7fsWov811ynfjLSO18JSgP1qAEBej3W2lIosy+g+8rxCSGyxT5ZgB7TTgiUCtAjxQnQ87uYAD3ShwA9pwsBetQsBOiRLgTo+cOnAD3ShwB9KSzY9coOoQEBeoeoxrb/CF+Y9pUToMuC7lqtLOhR/5UFPTaWyYJe9sAuC3qkOlnQI13Igh7pQhb0SBcd3YJOkDjn4t7U1GTWXHNNe795JpMxl112WdFxljPpuLQrSQPtrQEBentrvE7f5wvevnICdAG6AH3JwUCALkCvxhQhQBegp7UjAboAPa1dLAuAPmHCBDN8+HBDILinn37aHHPMMeaQQw4xBIJzadtttzXHHnusGTBgQO53XLXW2Oh/jKQa47fykAbQgABd7cBLA77g7SsnQBegC9AF6EUHH1nQvcbmNCEBugBdgF68+8iCHulnWQD0r776ytx77725jwbCH3jgATN+/Pjc7woFf1uwYIH5+c9/bm699VYL68D9559/bqZOnZqXZ9kDth6UBlI0IEBXs/DSgC94+8oJ0AXoAnQBugDda/gNFhKgC9AF6AJ034GjHgH9+Pf+YObOzQ9w2dLSYvhJprR70E855RQzevRoM2lSFKyzEKBfeOGF5vLLLzfDhg0zG220kbnyyivts0R5j0O/r74lJw34aECA7qMlyXgHdAsB9JCI72lV4O60VJC4mHYUJC5SRoguFCQuv4spSFykDwWJy+lCQeKiZqEgcZEuFCQuf/hUkLhIH20VJO7Ln65nhgwZkqf4wYMHm/POO68koD///PNm7733Nnvuuae54447cvKFAJ2r1wYOHGh/SAsXLjTrrruu2XLLLQXo4qM204AAvc1U27Ey9gVvX7lqakeALkBPbU8C9Egtumat/CFHgC5AT2k9AnQBeqFBRYDe9oAeakEfOXKk6dy5s8FdnXPo+++/v7nhhhvMyiuvXBTQcWPv2bOnefLJJ82uu+6akyXI3KLWNYYs6OVPrXqyuAYE6GohXhrwBW9fOa+XegoJ0AXoAvQSnUWA7jmapIgJ0AXoAvSi/UcW9Hz1CNDbHtBD7kHHxX3s2LHm+uuvN83NzaZPnz72v8mUZkF3gP7UU0+ZXXaJ7nT/wQ9+YLLZrAC9/JlVT5bQgABdTcRLA77g7Svn9VJPIQG6AF2ALkD3HC7CxQToAnQBugA9YOQQoNceoCeDxKVVZzEX9zPOOMOcfvrp9jFc3L/2ta+ZLbbYQoAe0C8kGqYBAXqYvpZZaV/w9pWrpiIF6AJ0AboAvZpjSl5eAnQBugBdgB4wwAjQOxagEySOmEd/+MMfzIYbbmiuvvpqc9ttt5k99tjD/PnPfw5oGRKVBvw1IED319UyLekL3r5y1VSmAF2ALkAXoFdzTBGgp2tTQeIivegMeqQLubjn9xcBescCdM6ts7Z116xxV/oHH3xgr1y7/fbb22zqUcbLtgYE6Mt2/Xt/vW/E9YkTJ5pRo0Z551sNwTn/je62LJnfnJklRXICjU3+soFRwLOff+yf93Ld/GUDJDNde3hLZ+fO9pZFsGGVdYLkvYUzDd6iQYKNS55HK/Z8JqBtZLOLvIuSnTHFWzbTtOR1MoUezgaeQc8ERHGff8s13mVuXdH4ywbcg55JOU9Y9EUBeZsAC3pIORZNmOyti+yirLcsgv++fTlv+RU7zfGWXXfnad6y2QX+Zc7O85elABPe7Opdjm49869iKtqvG/zL0bzcQu8yNAUO4XMn+49zTV38x5dp4zt7l/mDySt4y67ceZa3LIILFvp/39T5/uOcvyaMGdPJf8zvHdCW+b5ZAeNLQJMz7zcHtM+AGnnJTA+QNqZvxn98uWrc0955H7Tatt6yd3wcsO7zztVPkOBwXLf2ox/9yJx//vl+D0lKGgjUgAA9UGESL66BpWFBF6CX1yoF6DG9CdDzGpEAPaYOAXpOGQL0qF0I0CNdCNDz52ABeqSPWgB0gsSNGDHCXHzxxeaXv/xlrnBEYHfB3uI1uMEGG5gPP/zQ/qy++urm448/Ng8//LDZbbfd7N3r11xzjRk+fLh55ZVXLKjH07x588wVV1xhDVXvvfeeWW655Qz5HXPMMebwww9PDU5X3gpOT3V0DQjQO3oNt/P3CdD9FC4Lup+elpCSBT2nElnQo9YRYrm2TwVYuGRBj/QsQBegp43cAnQBeqEZvVYAnfvOuWYN1/QVVljsHZIG6P/85z/NYYcdZnbeeWez8cYbm7POOst8+umn5tBDDzWvv/66jdy+6aabmksuuSTv2jXyA86/+93vWnDHsr7TTjuZ5Zdf3vz73/82l112mbn55pttYLnQxDsJTNfUFODVGfoSydecBgToNVcl9V0gAbpf/QnQ/fQkQC+sJwG6AL1Q65CLe6QZubhHupCLe6QLubhHuujoLu5Y0CdPnmzef/99s99++5lLL720IKD379/frLrqqtZa/rOf/cw+k8lkcsr67LPPzMCBA61FHWs6FvRrr73WbL/99jZfjoP+5z//MVtuuWXe8Mzd6wB8165d7XNEhf/jH/9opk2bZrbZZhsbhG7bbRe7+D/xxBOmX79+5sEHH7QbBK+++qp56KGHzO67725++9vf2vvbx48fb77+9a+bc845x/zwhz8sc0Glx2pZAwL0Wq6dOiybAN2v0gTofnoSoAvQfVqKLOj5WhKgC9DT+o0AXYCe1i7qEdBvffcOC7rx1NLSYvhJJgCda9aOPPJI8+Mf/9i6nq+xxhpLWNCnT59uVlttNfPcc8/ZaO24txMEDlgmzZgxw2y++eb29xdddJEF+RdffNGsueaaZscdd7R/43fAdLF06qmnmrvuussMGzbMrLXWWhbs77vvPrsZ0KtXrxygf+Mb37CW93XXXdf07NnTXH755eaee+6xLvTrr7++4W72448/3r6PDQWljqUBAXrHqs+l/jWlAN032JzPh7DjSNIZdB9tLSmjM+gxnegMel4D0Rn0mDp0Bj2nDLm4R+1CZ9AjXcjFPX9+1Rn0SB9t5eK+Uf8tzJAhQ/IUP3jwYHPeeecVBHRc2gFpXNe5Mi3p4n7TTTeZ6667zrz00ks2j9NOO81MmjTJjBw50v77xhtvtNbzjz76yIJ0MnHefMCAAebKK68suCibOXOmdbG/5ZZb7GYBCeu6u4Mdy7qzoFO+/fff38rwXO/evc3jjz9uv8ElzrbPmjXLjB49uryFoJ6qWQ0I0Gu2auqzYKUAvdTfy/lqAXo5WjNGgB7TmwA9rxEJ0GPqEKDnlCFAj9qFAD3ShQA9fw4WoEf6aCtAL8eCDvBideb+ctzG33333bwgcTvssIM5+OCDzemnn24/AFf1XXfd1YwbN85asE888UTzxhtvmCeffDJ10dWlSxdz3HHHWQt3ocR7sbQD+VjPXSJYHeDOOXUH6LjTY60nvfDCC2a77bazLvLxhNs87vRY/ZU6lgYE6B2rPpf615QC8FJ/L+cDBOjlaE2Anqc1AboAvVA3EqAL0FPahgBdgF5oyBCgtz2gh1yz5lzcAXTSPvvsY6Op83sXxf3NN980m2yyiWlovTI3fuac4GxY1U844QQL7kB7IUD3cXEngByB4ogM37dv35yiDjjgALPiiitay74D9C+//NJuDJAAcDYQ+JuDdvcwbv242St1LA0I0DtWfS71rykF4KX+Xs4HCNDL0ZoAXYBeuN3Igh7TjQBdgC5ALzrJyIKerx4Bem0DOlZsrM4AN0HXiJLu4JuAb/F02223mccee8yCOVe1nXLKKfb6tTQX99/85jfmzDPPTA0St2DBgtyZeZ7lmra4i/s666xjXepxoU8DdM7Hr7TSSgY3/J/85CflLfr0VF1pQIBeV9VV+4UtBeCl/l7OFwrQy9GaAF2ALkD36jkCdAG6AF2A7jVYLBYSoNc2oFO6I444wtx5551mzpw5Nro6Vulf//rXNuhaPBFQjmjpL7/8so3Yvtlmm5lVVlnF3qlOQDnOq/fp08eeCydo3be//W17HRvXrHFVW/fu3S2wA+9Yx7GeA+K8m39jRXdB4saMGWPd3NMAnTKdffbZNoL77373O5s3EeCfeeYZ061bNxsAT6ljaUCA3rHqc6l/TSkAL/X3cj5AgF6O1gToAnQBulfPEaAL0AXoAnSvwUKAnlRTW51Br8TFnTLiYr7BBhtYqCai+o9+9CN71hz4TiaiqXPF2VVXXWWfw9r+yCOPGKziBJzD6s75cBL5EcCYoG3APYHjAHuCx3G/OneZsykwaNAgGyEey3iha9biLu7kjaX/6quvti733OeO+/tWW21lrfaclVfqWBoQoHes+lzqX1MqSvvEiRPNqFGjqlrOOc/e7p1fds5Mb9mQe6ZbDy5552sH2gkf+8t36eYvu2iRt2xm+RW9ZbNz/fVGpg2rfs07b5MJ051/xgGSgfVnmpa8yqXg27L+dZKdPsm70JnmLt6y2TnTvGWtYEt+IJpiD8+7rnDE2uRzmZbmsHJ4Smc6NXpK/k8spM01+bfPkOveFk740r/Mi7L+sq2SDz2wkrf8iovme8tuvs0Eb9kQwUXzQqSN+fTtxecyfVKPHnN8xKxMJuOv55ZuC7zzbeq80FsWwZmT/MeXkHJ8Mc5/Lnlj/vLeZV5zUf51V6UenJP1768rtcwulV3u76384p0+me8/xvUy/n2EAswK+L5XOzd5l/mNjL8uGk10d3epF6xiOpUSyfv7qov8x8RnMjO88757/AvesgvmjfWWrYZg8hx7NfJUHtJAMQ0I0NU+2lUDbWJBF6BHdShAL689C9Dz9SZAj/QhQM/pQoAeNYsQMBag5w8vAvRIHwL0SBdtBejF4Npdb4bbeTxxXRtB5XBtJwnQy1ta6anyNSBAL193erIMDQjQFytNFvRY4wmxZpbR5rweEaAL0As1FAG6AD2lbQjQI6XIgp7fQGRBj/RRCxZ0AbrXKkhCNaYBAXqNVUhHL44AXYC+RBsXoOdUIhf38kZAubjn600u7pE+5OIe6UIu7pEu5OIe6aKju7hXE9CJ/s6Zc86R/9///Z89E96pU9gRgfJmOT21rGlAgL6s1fhS/l4BugBdgF64EwrQyxugBOgC9EItR4AuQE9rGwJ0AToaCHFxv/vuu+0d6uecc4756KOPTP/+/W3wtwsvvLC8iUtPSQNFNCBAV/NoVw0I0AXoAnQBerUHHQG6AF2AXrpXyYIuC3paK6lHC/rM6R/k7hV339TS0mL4SaZSFvTx48eb5ub8AKZcvUaE9vgZ9Pvvv998+umnNjI7iSvPzjjjDDN16tTWOMH+gfNK91RJSAOtQUtbw/YHxL2UyqSByjRQKsp7SO5cZUFSFPeY1hQkLqQJRbKhk6uiuOd0pyjuUTNSFPfyup+iuOfrTVHcI30oinukC0Vxj3Rx9pkDzJAhQ/I6zuDBgw3B3UIB/fDDD7dB4OKJK9WeeuqpPED/5JNPzOOPP54Te+WVV+y95ljT11prrfIGPz0lDRTQgABdTaPuNSBAF6BX3IgF6PkqVBT3SB8KEpfThaK4R81CQeIiXShIXP7wqSBxkT7aKkhcNS3oRHD3ieJeCNC5G71v374VL0OUgTQQ14AAXe2h7jUgQBegV9yIBegC9EKNSIAuQE9pGwJ0AXqhIUOA3vaAHnIPeikXd19Ax8X9s88+M126dLEf+Pvf/94MHDhQLu4VL8CUQZoGBOhqF3WvAQG6AL3iRixAF6AL0Et2I1nQZUFPaySyoMuCXmjwaCsLeiigY+V2xyJdWXv16mV23XVXaz33saATJG6//fYzZ599tiE/gsTxc/HFF5ccOyUgDYRqQIAeqjHJ15wGBOgC9IobpQBdgC5AL9mNBOgCdAF6yW5iZEGPdFQrgD5ixIglKu7II480TzzxhDegf/XVV2bzzTe316zNnTvXHHrooeaaa65JDUxXupVIQhoorgEBulpIh9MAAyc7mgSkS4vomfzgEPl6k+Vb663MIeXV9+W35hDd1YKs6k/1V2gCUvuMNNNWulD/U//rSP2vwy1m9UHLtAYE6Mt09XfMj582bZrp0aOHPRe0/PLLl/zIEPl6k+Xj663MIeXV9+U37xDd1YKs6k/1V2iAVvuMNNNWulD/U//rSP2v5GJPAtJAHWlAgF5HlaWi+mkgZDGjBYoWKB1pgRLS9mtBVv1P/U/9r/RGclv1VfU/9b+O1P/8VoiSkgbqQwMC9PqoJ5UyQAMhixktULRA6UgLlJC2Xwuy6n/qf+p/AvS2Gos0vixb40vAMlGi0kDNa0CAXvNVpAKGaiBkstcEvmxN4CFtoxZk1T7VPgWwAti2Gos0vmh86UjjS+haUfLSQC1rQIBey7WjspWlgZCAOrwgRL7eZPV9+U1I9RfpoxZ0ofap9llokFf7bPu+qv6n/teR+l9ZC0Y9JA3UqAYE6DVaMSqWNCANSAPSgDQgDUgD0oA0IA1IA9LAsqUBAfqyVd/6WmlAGpAGpAFpQBqQBqQBaUAakAakgRrVgAC9RitGxZIGpAFpQBqQBqQBaUAakAakAWlAGli2NCBAX7bqW18rDUgD0oA0IA1IA9KANCANSAPSgDRQoxoQoNdoxahY0oA0IA1IA9KANCANSAPSgDQgDUgDy5YGBOjLVn3ra6WBZUoDL7zwglm0aJHZfvvt8777ueeeM42NjWabbbZZpvShj60/DcyaNcucccYZ5t577zXz58833/rWt8xVV11levfuXX8fU8MlZpxoaGio4RKqaNKANCANSAPLigYE6MtKTes7q66BMWPGmAEDBpjHH3/cK29gcdttt/WSrUWhO++8Mw8Sjj322FosZl6ZtttuOzNo0CDzwx/+MO/399xzj/nNb35jAHWfNHnyZHPbbbeZ0047zYq/88475vbbbzdPP/20+eijjwwQtdJKK5ktt9zSfPe73zUHHXSQaWlp8cl6CZkJEyaYVVZZJfXZV1991XzjG98IzpfnfFI5efvk21Yy6H255ZZrq+xtvrfeeqs55JBDyq7PSgsHnF933XXmsMMOM126dDGjR482u+++u6E/1lpasGCBGTdunOnbt2+tFa1kediwGz9+vFl55ZWtLHr/1a9+ZXr16rXEs7QJn3TEEUf4iJUt895775lzzz3X/P73vzfLL798Xj5Tp041J5xwgrngggvMuuuuW/Y7fB9kHEwbD3fccUfTuXPnXDaffPKJV5bltqH77rsvNf9MJmPLsd5665l11lnHqwxtLfTxxx+bhx9+2G687bbbbmaTTTZp61em5k+drLnmmgYdKUkD0kBtaECAXhv1oFJUoIHQRQqT4Xe+8x27qPn6179e9ptfeeUVs9VWW5mFCxfm8pgxY4a1zLKQdunll18255xzjvnb3/6Wk/3HP/5hXnzxRbPDDjuYnXbayZblwgsvNLNnzzYHHHCAtZDF8+DfaSm+6Nh1113tBPvGG2+YzTbbzIrfcMMNZt68eblHKRuLtrilaI899jAAa8+ePfNeMW3aNFsWNiBuvPFGc/zxx5v111/fLnJef/11C74XX3xxwQnfR7HlLMJCNgq6detmgNPkAvXDDz+0oDt9+vSCxcxms3bx9Ic//MH85S9/sQtg/s13sxD95je/adgAWH311W1dTZkyxeqFv6E75AD6UFAHEIYNG2a+//3v55Xtsssus+2INhKaqG/aBt+UTO73/DfelguBKe3pj3/8o3HwwTO0OdpGvM3yHgD6/fffN5tuuqnVDf+lLKU2DOIbBcDoyJEjzRprrJFXdDZXfvKTn5h333037/dfffWVef75583EiROt90Q8xYHplFNOsYt1/htP11xzjS3zFVdcYX+dBLdQ3Vcq/7Wvfc2ODYceeqjNim9jzJgzZ44tWzmJ/n7eeeeVrAeX91133bXEJlfae9PGRN/y/eAHP0gFhPgY9+Mf/9hssMEGXlmOHTvW9k3fRLv8/PPPc4BOf2fsToPbFVZYoWC2lHfmzJmGzYp4f4o/MGnSJPutK664om/xUuXYJGXcvvTSS1P//otf/MKORddff33Z7+H5tET5GdtoG8xPtEvGrvh4yCY28wWbS5RlrbXWymuzbjyKgyG/S45FIYUvNNbFx7mdd97ZbjbH6/E///mPeeutt+y7N9xww1TvKsrG9zJ/p40v9Cvf9NRTT5m9997bjpGkpqYmM2LECPN///d/JbOgbd9999127KO8rGMOPPDAvPbOWHfttdea7t272/zomxtvvLFpbm5eIv/2GuOYG1nr0C7QI22FjW82TKiTtPTpp5/ab0yO/yWVJAFpoM41IECv8wpU8Y0pZ5GCtfOZZ56xUFFuii9GP/vsM2tl+/e//20XICeddJK1XAC1WFr3339/c/rppxusCTfddJOF5LXXXtvw3ODBg+0CHNhgcQGM8PdLLrkkVzQmsC+++MJO5iwqWCgAIlgPgVAWCywkTz31VDvxPfnkk/ZZJmcWcEz+JBaGgMfRRx+dyzu5MHV/IE8mUDY0AH5g/fzzz7d/vuWWW8zJJ59cEHDdIimpW7f44vdMuixifa07H3zwQfBGAQvgBx54wOo9nqj7ffbZx3z55ZdLVD+WoJtvvtl+IwshFpcsdvr162fLimUNUEizrLnMnn32WTN06FBrTQTifdLll19uxX73u9+Zs88+2xx55JE2D8CftgEE03YcuP/617/2ydZa2LDU+CQW0C4VWrThTcBC3MEHegJq3bGB+HuQ4XgBGxXo0AFQ2iK60EYB3/vPf/7TWpGBVKCbb2dziDbIxoVL999/v60vAIm2H1/48//o0iXaNta2rbfeOk81bJzxTvomqVD/SNMnm1n0fcaBNIsmmzpsmu2yyy4231IWK/6OHBtKcdhkI4TFOVavQom2woYSC3LGBeqB8jEO4QFCm2KxTKIf8jtk45uWbEzRft5++20zd+7ckk0oPib+9Kc/LSmPAH2NdNRRR1loYryiThgrXnrpJTvOsdqGD4UAACAASURBVKFK3vTNxx57zG5QFEq0McZTNrnYzMKrpZSeyQsYjwM67Yd3+o5P5IEFfsiQIfab2Ph88MEHc8XkO8466yxzxx135MYdxnLaNHNFcoOUB0ttzDIe/+lPf7IbvWnpv//9rx2rqNt4CrEyF2un9MVOnTrZb2UTgDktnmgzjIVs6AGU9GEAFNiivvfbb7/c3JQs/+abb277p29y4yLtAz3TBtzYy+YBYyobnD169DDHHXec7Q9svtLPKdO//vWvXB1QV/RV5u54H2Mzj81q5gK8nJLtavjw4ba4PmMzbYR5lT5If8Zb469//asBSIsldPjzn//cbrzzLfQTNlGoB+aQE0880T6eHL+LbTiFjHHxsoVsqlH/jDmMz0D5m2++afsW38McjQHDJcYj+hHtH6MHiXUO4z3rpbRNBt92IjlpoF40IECvl5pSOQtqgN1uBvxC7uNpixQWqQzycQgOVXF8MXr44Yeb1157zbq8MxGxO77FFlsYFhksCuIudVgRWSAw2bCAY5HCYhIgI2EhZrLGiucSCwUWBshhUSPxd/Jhg4IFKws9vAkAcLcLn1xkAgcsELEAOCsm5WThHgdOwIqysXhgUdy1a1f7fW6xyt9ZVOAat+qqqy6hOnSTllhMsFhj4nUbCywOAEMWks69NO1ZICN0owCdsOgGNFjMkFh8sdnAu1jcklhIYv1Av8D7XnvtZcuDHp3lATkWRSyEfBPWXx84QCZ+VIJ30qawkgKVLMBZ0MVd3wGPQon8WJTzPHW15557mp/97GfWypKW2LhhMcsmiEvUC+72bGbFE2VjgepgF9gkb2fhTeaPjgF4+igeE5St1IZBfKOA/Gi3AwcOtOBMe6TdsTHAeex4Ai6xSl100UUlXd+dJwhW9HhyFn90RyqkhzQ9Uj508//+3/9L1TPtnr735z//2bbJQok2ePXVV9vFN22ONhyvB/o1/beQqy6bFmeeeab1EsEqSAJaWMAz7lBf7gw7C+V99903VydsJgJbP/rRj2zbP+aYYyzgF9sMcN8RHxNdv6adpnluuGfQBemXv/ylBQ3aivPwAQB5N98LcLHhyUYVC3q+wW1A8CwbI3gF8O24CgMx9F8W+i5RDjZ2yCe5wYZcuYCOJw5HZq688kr7bt5BO3CJvsImodvw22ijjaxOqBuOLKBb6jxpmS+1MUv/pE+xgZVWP/Qz3uWstPG+neZRk2ZlZtOLtgNQM0ZQbo5rYe2lrTD+o3M2LmlzhRJjDBtNlJNn6b9skDLOsWFMOZMpGRMgWeb42Oo2DJlfmSsB7HgCwJkraT+PPvqoYQOJcYTNH9odZXLeGYyd/J15jzbmEm2GDXTGmGLJZ2ymTphTKS+JTUUgGj0V8tAA4NE5G56sYVZbbTX7LBtDv/3tb+2YwbhC+ZLQXWzDqVxAD9lUo38yLrJRGy8LG2Pf+973bN9zif7JuMBGh9tcZ6OH/s33Mx8oSQMdXQMC9I5ew8vA9wGKWHiSi3r36WmLFBapuPCyOCdQGBNxPDlrZjH1xRejWLcAEUCZiaZPnz4WElg4JhNWbxZmrrwAH3m5BQqLBiz7cYsVUA74A9PxhIWJ886AFQs8YAkLIBsDpOSkzHspIwvGuGUkbQGNXpnwWaikTeChFiYWRegDyx+LZ4ALSEdvWB6eeOIJC8a8zy0wkroL3ShgQYzrP1Zft2hiQQDoPvLII7lFLbCC+x+LxYMPPji3QGITJw7o7dWdWPC7zR7eGd/AKVUGvg89A/zoksUM9ccPC+04sLi8WOjTZlnkOosj3w1sOO8LZPk7i2wWVG5zg40OLFRJ65nLG3kW9niAVJLYtAKCKA9tJbkAJ+9k+yj2PhbGLARZOMYTbR5ABVxJ6I12WeqoAhs89Gk2ttJgg7wYpwCCQudw+Tvf6TwBsJCi1+T7+TtWy/i4FXev5f0AE/WPrpDlB++apKWWTQXggMXzqFGj7AYe4yJ9gd85F1mfuouPiVjy2IwDICkH+RXzOmEDAohKHjtivKCuAReAhjGOzTN0gNcS+mZcI/YDmypY2DjPWygVGreoZwDOxTTAPZgyu409l198bmDzhA0FxnrGECzhyXgXPAdQYdllDEzGl2C+oE2wiYbHTDyV2phlHqP/sUlN3SYT78RiGYcfZEKszGyIsRHMhk080f/ZwCUvNt/YQKH9JhNti01yxuFkYmOBsZ9NacZfQJ2ftGB96A43eXQNtAHnzHlYxvndt7/9bZs98xYbCA583TtpO4xDeFXE1wTIk08SqplHmSvjR4rYMPn73/9u9V1Oio/NeKYx7sY3pUttvNGuaf+0s7SELnAjx4MuFNDJk/m4WEoeBwrZVEOfjKmMZ/E+yNqFuncboryfPsfYwbgXT+iejWDiKyhJAx1dAwL0jl7Dy8D3sYOPFYIFaFpKW6TErRtpz2DlKuUayQ44FmugBXcyYNBZk1k4c6atkFWgmKUmDkuubCwascono46zEGHSpiwspFhAYAF0VnagCDdvt+Dhb0AX8M8iBTDHKg5gxS10bBqwcHBnXHk+OYGzWAIC4tGkkxM45WdxxkTOwgFrHC6zaZZy9IdVhR8Wdey0s1iLH0MoZ6OAvAAP4IHFGFZFLGtxNzksFvyeBTmLfueenAbohdxOk+0oTRc+3RFIoRzUGwtf/s2GBlDMgriQdQUQxlsDwMJSTn053aE3nqW+aPvkG1+MxducA3j+i5UmLke7YIHFppDzJKCtY90oFGAOSy8LamDDN8XP32Nlo93Qj7ESsfjEFZpzt86d0+XLd7OAS8JE2nvxSADO0YkbO3gHRwzwQmGDhITuyC95vj6ZJ6BRyCrvZOl/eIEk4whwFAKwxIoHaAIcLo5E//79vdTm3GsRZrwAllyMBzYXGD+Stxkgy5iFeynxNPAuAaJpK+774y8vFTuAd9K3nDXTeaaga3eshD4NkCY9S2jXfH8y9gJuzngX0Q4Yb4Es+ifuyXhQsMB3sQRc3IBiCisE6D7eLs7ThXGTDV7GMtxxqTu+q1BMAPoMOqVu0xKbDGwWMYbHU6mNWeYD+i6bGFhRkwlrI/00GVAwxMrMxghjZ/I4GHXBRjBzD2MP80rSUk95fOIS8A20G/o2c1baRg5lZrMxeVaZeYWNFecpwt+pY+rHzWnkyXzCXEA/APYZO9AbVnPGw+RRJOZENoLinmy0T+qK9lxqPIjXRdrYzHuTnmtsRLHxET9vHR9XaffM+YXiMGD5p02wwcu4Fc8/LW/KSP7I8s5iMS1o+3EPK54N2VRjPqMP0GfjfZB6wpPRbYiSL5tYbCwm10/UMRs9lW72eg2oEpIGlrIGBOhLuQL0+so1wOKZ3WjnKum7SCn15jRLY9ozLM6Y2OJuqMV2wpFlYcDkxkIPlz8sCc4CyWKFHfp4gCHOS5M/llS304/1nEU0C2xcPrEoAU7ASyEXPGSAklIuxsnvpGylXLWTEzgLGyy2WP6po5BowizUcGdjMRV3+QvdKOB5FiZxKzDfxqIaYHBWHXbvKSeLfs4Ps3PvYB2rBzv8LvlEAE5bzPA8iysWy1hQ48H7+JuzgAJTWC6xnrpNBILqcH6P59zZaFce9ENbxa2TxSmLneRxD7exgScB7v0s2nGFdEcW0jaFWIyyWRGPwJzW/vHqAC74SUucMaRspeDOPZsMEIV3Cjp3wYSQYxOCBTau/1j3XGLhhlskUAvgJs8qJuEPSzmWPwCZRDun3cWDyYW4fwJUuPtyNjMtUcd4jriFLpYgYByrPXrEQwALWaUp1HoG3DnLLhsyWLvSAmg6r5uQYIPuWxhz2HxjQc54zYI8vvnDhhabOLhJ035pB0AS+gGUcB9n/CMP4h2QH14fJDYkkE1aTdP0GOr5k5YHUEOfxIKNdbzQTQJuo48+jXyhQFf0aTYZ4lZE913FNmbZvKMPMFcwnjlwY6OEDSxcovk9my/xFGJlpsxsfCWPg7HpypwLFLIZzWYAm6zJVAzQKRuwy5hI2fG0ALbTLOiUmTp2G1fuPYwrbDy5TS++nTHOudPTjhg3GesY82jXzJFALGMqv6ON4TFB7APk+R7qlk1o8nKJDQh0gd4ZK5LjC/0mnoqNzWnfGB8D04LlFQp66p5jXKFtcm47pK+GjHHx7wvZVMMziDmF+sbbgU1B+jBzHRtdcU8mxnDqkU1H57nEZp/bsGfNpSQNdHQNCNA7eg0vA98HqGKh4xwlkbN9FiksBFjwJd032WFnYnaBi3zVxwTH4tCBIIsGIDt5XpkJPO5aTv7xwGnxf8cBHThnMYGFzy0KgEzcIgEXFtdY/VlEMTmzgEgm3oPLHuVK+z4WzGngmIQaH50AT8Au1lrKlHTNL5QHC1RcNSkfoMy7mdTdJB26UeAb6CxeHhbSLAx4LwtOLDuctcPKWm7UbPJ3kc+xHuJez3+xQlG3AJ2zgLI5keaiy3lcYBIrOYm2CgzicsvinnOv5JmW4gswoJBvAnIAXSwaaYBeqI6AOcqBay8JEOAHa03Sis7inDZKv+THJwErcZBho4KNnuSCFjlAnD7hk4pFhgbsAYA0F8+QCMeMHVh+2IhJbmwAEFjp6BN4YaAzgJwNNgABwKlWSm5kpXm78C6gOLm5CFRSb2kbUb4be2nHjVzcAACbzSkW4HF9M94xVtCuaI8kxjUHSpSTPPg28vfdEE3qtBqAHm+LaRuXSbhik4m+VihSNVZgPD+SgOuzMQvc0H7imyb8P55NabdBoI8QKzNjDMd+mDfcxgntm/pjrGbeZaOLsSztaFgS0Bk/2KRhvMMrAhd8wKvUFWNspjL3cQbcnb128yLtyQVGdXPoQw89ZDfC0QVlBwpdvQGW8XpzUffd/M3cyv/jHRQPLMlGM/MsxxjSgsQ5cPQZm1m3FDvy4dptvC+xEUE7KRTjAv3TztwGls944iLrx68Y9HnOjR++m2oYIRjHOcbhNqKY19mwZIxPxkfBy4G/u+N6tCPqmfkkJFq+77dIThqoNQ0I0GutRlSesjSABRnoxkIYT7hVpS1SCi262fFmwcwEHZJCrO3xhUSxd6RBGtYKftyiI+nqBlxiLWFBwsSHtYCFCIspFlo8i8t5PDAWu+4AImf04kF43AKGhTMTKhMmizESu+HxM/IsZtj1dlDCQoj/L3VWz1kcWFAA9CwusEJSlyzcil1n5FM/lCMt0BkLN1wBC10hRN4AsXNnxPMAmEi2r0JlSLviCXjF2ktwKwcJQBC/Y8GZbEN4IFCfLEyBx+RGDu0UKxAAA3AX8nBwLozxYxXkRR2yoAMSsVC6M+h8E5s1LERZELMo5dwyfQMwx82UcjuXRHdtIQswYJ86pyy4I9Jm2BRiQ6JU5F3KB2gQfbycq+R82kM5MiHWJdoa/c/d5ED/dLrAQkdfos2zuCdf6hWdFdv4YTEaei1jyEYW5eDMp2s/uLkD6ckNkTio+Oox7uJO+2D8YFOF4xou/7Q7mF2/TEbCd+/l2fi5/LQz+ciiu+SRlEKbFUn38kLfSJ8JHcMBUPoz/SC5aYuOcH1n3GMMjCffjVk2ZZmzeAd9m3bHZl0hN2zmATaEfK3MbMzQ7+NzD+NWobgT8W9IAjrfz1jDsQU2YAuNC8nNPr6NeYoyuKMbtB1nEXdzms/1kGy++iYXvBV5gB3wL7TR4vL0GZvZtMYbjuM7jL/JWAdp5aPc3PDCXI6nQXxDwR1hwmOJDeWQFDLGxfP13VSjTdK/8H5gXcDcwfyKZ5rbpPM9ysP748d5Qr5TstJAPWlAgF5PtaWyFtUAi3qAyi1SmLhZpMTdD1n4MVkAfuz4x89dM9mw0MN1D5dXLF0+bt2+Frxyqg+3PKwVIffl4gbIBA2Uu/I7oGdiS55DJYo8gAAYufPogCjnj1kI4HLL5O/c6PkOABOLh1sA8i7O8nJWmhSyYUE+XOnGIoWFbKGzzOSL6z479m4xAzACvC7wFeWmvG5jAPdFYCAe4It6xsOBRWz8GqRi9YOFFU8F932FZJNXPMXlWNwRQZhFLdYtoIsFCyCLdd6dIeUbnKWG+qOdUi/ohnbrrhVLWvHiFrR4NGYXIyHNQsKGCPnS1nE5RJZ65qgE4E3i3bQNyoSXCO3CbdS470MWywixICgvZaH/Uae4ADsoAf58o28XCqSW1L1brPN7n8V5aL8GxthkSB6TKNQGWIjiQcJC3tUJ9QGEsXh2UEMfLTW+8A6OaIReyxgy1vjCCqCCiy/9HBdh6pzNBQA4HofCvTseJI7Ft4urkCxbiIeCe9ZXd4x3vkdSCgUZjZfXnUEP0S+yeHuwIcg4RPt34xOgQpsA0nGrLhQpv9DGLBubbJzEg2lRnxzTwIqLezbHJ9ICHNI2i1mZ2XBlk7eQ+77TQamr0NgEYNx0HmFp3gfJIxOFvF2QY5OD+Yb/B/Bog/F+VI7XlG99Um+cES82R5GXz9iMHGMv+dGXsCC7sbhYeagTNomYg12sGTZy2aTBIyYZaLBQXmxe0U6YC5mv6del6trlVc6mGmDOXOfTH33rQ3LSQEfWgAC9I9euvm0JDSTdy5MCTPRMVrhiFXIj4xlAH1BkYRV3RQ9VOc9yjo+Ji3cTFAXLhoOBcne2KQdnp7EUkwjwU+jqFxbXzj0Z8AXwXQAbYAxXPKy46MOdrU26ieJ2iIWQYGGhiW8EXvnmYsDiIs/HLcHJu12dq7Y7Q8xiNRngywU64/x+GlgAkbhusuhh0YIborN64qoaAplxXbD4BoKBctz22AjC8o3O2ERwkWkpOxsWeH7QHtxdzFz3Qx0A+aQQd+Ni7Yh2wkKe+3dpjxwXwRWbzQ/OjrMgpP0A6WmRmEPqG2jzjb4dtyrHQde9L+2Mps/iPLRfp0EQGwG4sxaDINx33WYh+ivXG6ScaxnRERYq3MlZiLNpQN9is4XNF47L+GwOJOuW/gBQ4t3CgpsxkOBqySBkPEebY/OkVLBNYD/ep0PaUzVkgQ1AJeRYE22PjbL4RgWu5sXiNQCqtH/6cbw943qNW3/cq8l3YxYwR/94BZDwguIcNZspjB0EVcTSzfeFJt+Nk2JnqePvpD2GjluFyoxHF5sOaW24kNdU8nrIYt5T8ffGvTg408+GB94ExbwHQsZmDAvuJhOOOpAvHmTUYaGYBYxJ9D03v7MZius78QjiiTHbXUXIdYVszjPXM6+z6cM4wOa7S2yusqntxgtgmrnBxSpxcr5tI14WjkdwhAUXdSVpQBoorQEBemkdSaKONIA1mx8Axy0IXPFZgGENY3GExZKgYPEzYIAbVhQXeCjts3EjBESBF2CWs1NMjKFWOfJ+/fXXLYyzOHWu6i54HFYJQK4SQE+WH2AApHGjBMpcAhxwe2cSZkceMOR7AFTKgNUMlz306s4J4nmAZd8tUig3E3Cp6084Q8ZP/OxpiAUvqY/kRkHyLDWbLQBm8hq9Qk0aawIWGeqWRQqLGPTCuW8WXYBZCGTG34M1GSsa1iTaDzEQqH8sQrhFu3N16BrLFhAf/z4W+NQHlpLQVMoKjNWexSebA3gjsEnDoo/2DnQA1ckrb+JlANDisIL7ZVqif/lG32bDhgUq1lK8PApZsN0ZRd7nuzhPlq1Qv0YuDYKoL8qVhKBC98wn30dds/DFvbXQlYLumXKuZWSMw8uBa4nQD5Y/fsdGIBCHazH1lZbon2njJ7DN+EDbdXfe007wLgCYkm76vlZu+n8ooAMwpRLwlnQZT3vGJ8p48jniPXClFbCBFxH9lb7Dhlap5KLRIweUp51D9h33ORpD33S3e7CxTF/nOAGJfslGkjuOwvjlk/gW3zL45FcNGReDAzh2kevd2Mw8xCYHde57PWSpzfq0DUDmSuZDxgv6ZdI9v5xjIHHduPgn1BMeTy6YmpNJerDQ/tgwSNtoZgOJgItY+12Ee9oH1neOReHJEX+ONs0mE3rmlhW+H88x+jVHj5hHXSqnbbBRwEYSayY2kZJzMhshpTbz3PuTwfiq0b6UhzRQaxoQoNdajag8ZWsAGMMtj8UKC5fk7no8yjuwxYIzxIrEVV1MYEySLM6wTDhoCLXK8ZHsdjMRskB11jUWbyxsWSBjWWUiTF7FkqagYi53nANmocqCnAkZiAAOXcIlnB11gAGIpAx8H4tNwJ2NBBahQH2h611wOeRMXTwKMe6lTKR8JxY3d+aZxQ0bJARN83Xdd0F7QgGdb+RZAnex+OH7gF6OMLAgSAYFA86BLwJ4xeGYaMM8C7SHQGa8rli8oR82gFgEsYBiIc0inQ0A1wZ4L3rD6hovAxsiWNrdOXisHbRHLCDJs7pslOAWHRI5v9DiizJQ986dMtn+aCdEcKe87poxAsKx4EsmFrS+0beBNvoGVmDaJC7SuICmXV0Yend7vFzF+jVyIRDke46SvoHLO5tejAH0eZ5NXmXF+8tp8+SPxQxrWPJKScYT+jpAE49WzyYb+qWtx1McVNjEZKMITxKXGBt4tpB7dqkBne8LvYOZZ+iH1HtaRHn3zkI3e8TLVA6gMw6iX3fNH0dl0CnW0JA5pZBufAGI/sY44HTP2WjGCMZvkjv3S6wK15YY85i3CumN8jtvpbT4HaXqM/l38mCMYqyKJ6LTF0tJbx3mdsYD/ov3E/MSgI71GbduvptU7HpIxlp3w0UyqBwbZWxOx9s2+cVjwZTaTHbn1UOOgiR1wAYsYxJwjbdW3EMv7sFCv+NIUSEPFsZJ5NnMYv5jzuUH7zB3JMy9m+NWzH3MQ7RrNxfRDri6EEBn3HB14ts+49+WdrSBv8fHl/jROH7PHMLcktzEUhT30F4o+XrUgAC9HmtNZU7VAAtpwAq3rUKJCYfJM+46hsswsOTcVQGxeGLxhTsyC1N2kbGA+lhki1nlyJ8JlnOHyei1LDxYRLDYc7v8aYup5DnjeJlx22SRzg8TPoDDQgb31mTC+sO3A+4EjMPyBnADz0A0u/SAA+5pac+TH3mzoHB3xmJl44fzs7jI42bOBgHnkfkmzq266L/FmjOWHzYXsPyz0Ct1nV3Sgg4MsnBDHxxHACRY1FEOYBlrTDxhOQeOgdE4HJMPi3KeCYHMcroqkZvZJMDS4K7rA0awWgL2LLBIWKlZaNHm0xLWCtw4ibAckpKbQsXuzyVfrPrACeUlAdRYaBwUxN9dqv4KlZONDNoyFkHOnQKS/LhFX+jd7bzHt1+HQlCIrjmb7G4MYHzBGo1VnajZLr5DOdcyEnuDxTjjVlpiwQ2g0PddcufseSZtgxNLfLL+eLbQlZK+Vm6+P/QO5vj5dt7D5o1PROw0XZQD6LQJxhIX/4Dxmd8xfiYBL/5OxlnG0UJeXu76Pd+NWTxLiI0BOOH5wHiARd25EeMtAWA6yy5zDWMk+kJvxTZ2KUP8ZpJC7bqUNbOQftNc4+ObG8mjY8A1oM+3xcdm5iqO5TDHkZLXQ7JZCfAC35Sl0JG0akT3dzoKOQrinqE/4uWHZx/9jDmTMS7uth7iwYKFH924NsqRADZFkjFoeD/XadJ24u7u8fpmrmE8x62eVM6mWqnAimlBcatZJyHjsmSlgVrQgAC9FmpBZaiKBgBKXC4LWfp4CWd+WXy662CwVOP+iVWT53AJBQiBfPICcrjui11c3MPSXMnSCl/KKsczWJwpBwvpeGKnml1sFldMhJQjHswu7X0uwBGgzEKEa9awCLAQw0WXDQUWJ/H7vIspnQVd/CoayoMlHot62vVReC2wA+8s8wA9lg70zSYEiwICknE9DQk9o9O0s3psKLAxQD1gNWaBwsYAXgroo1j0ZiAc8HKLMMCRSZ68aB/uPDeLBUAI61M8EV2b57HMxRcHuOexWOKcdrmQ6XM+mrKwKYFVBDdA2gLuyGwiUSfUq2vftFsW58k7z933UFdsNuGmH5KKbQq5fOJBnGhbtFV3ThHdA5dsiuCuH0+l6s/JFrpGB7igTVF/uF8moczn7vbQfk3fCoGgEF3HZbFisUDH6ktbYUMGiAI+4uCSjOaf5oqL3mnHha43ZNOMfoSXgkvUI22m2M0Lyfrj2bQI6tSfr5UbK3+oizvvjUeIx+rPxhZ9lM2JECt2OYCedpTCByZc22V+SdsEYZwl+W7MMobR97iJgQ1Q2j/eQS4oI/MQFlDGUZc4v0w7YzwGetEZHk5JLxzKgGdV2tWD8XZbyppZSL/J41AESqNdYsVlczd5VpkxBeCkP8Z1zXhJzIzk0R/GTr6TtsgzzCH8FIrF4lN/pQJXOhj2BWnmEzY0+WGDjs1Q6gM4TzMChHiwlPK8idchZ80Z44pdA4i3DWV07TN0U62ccdGnTsrJV89IA/WgAQF6PdSSyuilAWCaxYS7JzrtISYiLDYAEAnLOVZUJn7c/vg3FkqgnAmORUGp62SInOpSKatcPDANVkFcgQng43bJeS9gi5XFnU0NWbzyDeSJO3n8jnesviGAzvdwbo1FL1YdwIjFPguEk046Ke/6Nlxl8RZgcQXgktitx5ruXC/5t4uczt+5hoy6wOrjEvpgcwELgrvGy52ddjIhLsQ8w4YKUIv1Oz7Z4/rJZgXeFPGEpQDwY6MD+KPMwBKgj5WKxW65kFnILZAFNQu6+NVi1DmWb4AJqzkWdc4Muvt/KXN8wZrW1tn8wM0x+Y2lOlNIgCPySvuuQgur0PpzZQXAWGxjQacuAVfqKs0K557B2wEIwWrJWU7nPh7ar+n/oRBUSsfF/o6lCtdVPFKAGN9bIuIWKPop9RhvL/F30uboY/GrEtnowVW42BVSvufKGWN9rdzluMsm9ce3Ajmc3QX0gDYHlqXiAuBGzDjjE+yTox6Mg5SZ9hePek1sEjZE49dlJe8Fx0pJrAe8FYol341Z3s/3McbxvQC6C+RJ/kAucwvAm0yMN/Qn6opNK8Y4+piL+F6NeuGdoRsgWHnZjGXsiyc2gfF8Qsfx8QXvGTaPCbCGRwrtgO+g3wO6zO8+c58PDLqNk0J1CSkmPAAAIABJREFU59qQD0gzJrEpx+Y78MuYVugImXtfiAdL0spd6HpB1i+0IzxCCgWlQ6+Mn26OKrdt0NfYLHdBcZmD+e5CV8z51EklY62elQZqWQMC9FquHZUtSANYH1ig4bbHTzKAC4ulJNQAwbj9Ee2WxCSFxYpzviF3Cfta5ZITfDI6dfzfTPahEyGLRuCSb8JKg+salvByAD25sGL3nHPNBDVLRiEmsnM80mup3fu4Kzou2iyosIBgYWIBhjttOWVONhggG/BnIRCf7Pkd1hTKEU9soNAmsFgDSnhWAMsscrH6Y9UIhUx3DzOLTtzA4xYp6pgFKRsGbHCQ0q6wcWXkb85Kg5UUkEt6YDhZwA7LWNxKGtShWoWBXDYpkkHDsFDiXktKc3dMWwzGN7J8ykGQJPozAIH7Kt+CdSl5JIS8cClls8d5cPD/WNUANRafbCDRbunbIf2avNmwKReCfL4zLsNmmLOoAdF4pfheBRjPJ20hH/978igIf8PiyNll3N85tpAcPwvdSV7sG32s3KXK6qND+oXTG3XPhmvo/cqF7lZOc5Fmg7eUlT7tSjY2RbjJIS2OQvw7Q8d9ysj3JgP14XXD75N3r8ffxfiDFZz/Tpo0KXf+uJxI3Wl1FQrowBubRUmLOJ4azGlsPrOJDZjjHcQYwdWQbC4xrrOpzBzC0Sa+wXceKXRUI/5NfEs8Oas/aws2QdxmkA9I4xnFeMZRr2S9FWrzIR4sIeNcqfaWHC/KaRt40hF3gzUYYzNrCH4H9OOhxiZ0MgnQfUY/yXRUDQjQO2rNLoPflQyGlFQBu9VYeJkMXORnLKycu3Jnq3F5xgUuNFK2r1UuHnG6VBVhEeObcHlNBnUp9qy7tgXoxZ2RSRGrDdYfzhT6pkILKxZ97qx5sSjE8eB2yXPMLASxIACoWP0BOhZd8YWK78Kq2PewQcHuPIHM3AIMiwXR0wHdQotyys7ZSme9BpTKTe7eV6x8SbdAd+Ub3+7OBvq6wmMdYoFYKBAW30j+aVdg+XwLYIhlh7pKpriLe8hC0Oe9Toays0FC4CUWs0lgdHJsxtGuAUvkSNSruyKQesZKwyYD/aDcVAkEleqvzpIJJFFeNoH4wQOlnCu90hby8TIkj4LwN+eNkATPuAu977nytOjphazcvJcxF3dtjmQUsqYldRiHf8AM0EFngFkxzwrf+g91kfbJl1ga/7+98wC6o6r78AFECCEiVUIGQhOQiUBixgpSVJpIQAcUHRABUUZCiSAgvF+ISItUkSYIBJBREgwGREUgojQBEVRC7xYISB2KgYTPZ3HDvtdb9uy9e99bnjOTQZPds+c8u3f3/M6/4dKPpbtezelGginPteodgwcTY+B3gqU5jUnPhjfkHQM5Weo1NrjYSKz0UGDjL9t4ztiUw3uM9xpeAZWNnAn8zrOeRSSfI6yB7wibgGwiZ5Mt1vqOVHpWVAvV4Pq1wm2yY+O9wiY/ydjS31I2FIu/qxUKEnMvYzeHG/XNc0DOhGqbrNlz2ayGc7aWfYxnH32RjJb1AqXf0uS6bJzyu2djkndfupmdXrue1b/R3Px3CXQ7AQV6t99Bxx9FAKsfWZP5SPDhTS2MadZSPrQkgmMXP6b+cVkihcnlLWFVDQRCGrdx4svYdMC6QBx4I7dP+oq1fGSvX2+BXJncjgUX1i+stVjQsZIguFoh0LFCssmB6GXzBTdJ/svGDAsCngUai3Fc9wkxqJYRnQ0GXCVZZBRtjINnrlE9bNhVy56MwMETgAU1DYs7FmGECWENqXsk1kO8EniWcQ2vZpnIMwcWU2zusDBLQxfynFftmHQhGHN+9hlKRWNlssR0o4B7xoZKWkua54gNmbTsFZtTeEbwPMT8rmPGG3ss9waBhBs+ggQXYyxqlZtBRUp6FVnI50nixD0pmj29lpWb3xyCHs8fOPBugkO9Ddes+zxzRWDmrQhR7z414yKd5/6zEUE1CZ5jvhmVm05pwrUiG7N5rp/W2+Ze89uGHd+EahbcvJVOGm2Mp+Nig7zyG5F+C7J/j7cSm8v1ciFUmytVTziPOXJu6kHGJl81F/civ5FajPmmEPqQvptjQkHy3LdWH4O45rvLOogN/dj1C98bvAzZxOU3yzsLcV0vRw+Wc75ZlfcVLye+y4RipZvZ9ebLM5MmU2w1F/uTQCcRUKB30t1wLIUI5BGbvNSJbWahzseEHWF2b3GXo8RP2vio48aMGMMSw+KDXVwacai16h8XGXieMjMxJawYQ63yLrh6I9hYCOOqnY09rTX2ZgR6bBwzY8hmsSUmGzfzyhj0IpxZgJB0Lmt1YWMmzZJNn1heude1yuWx+Eg9MEgWmKekFMKLZ4xr5WmpJQo3bcoIZS1sWC4Qliyks5YlXDuxaqal17gOi38WSmzMpBblPNevPAbRy4KqXtLFRv1WLgQbHZ/995hnCA8TEmGlljMWeuSiSC2+hBDgVsyzEPu7bsZqXG++iF0W9WmSrlpeMmWX9Iq5J3njytM+Y6zcqecPmxbEEyMaYI8HRWVsLOzwNGhUNzmP9TMdKxs4qSWe32ysi3QejrhlVxOl6bmVCdcIG+K5rtx8IJaXb1GsUEm5Mb96m278XgjH4VvYyEJeGWefhwPHVP6+GRveTZVJSPP2lx7HN5D3PWKd0DPenYyRZymblyW2X47P5pBJ37VY/ckjw8Yo64tOaTwj5C3BY5CNIKozsAnNWMm1Q6gQ95bNzEaNzTXOgyktptxb2jfPG4YCvB2yDa8IPLUqw82qjalyHI3G7b9LoJsJKNC7+e459oRA7E44LndYr4jhrSw5gojFSskCP6b+cRGrXDUrc2WZmZgSVpUfThY6lEWprJOKqy+W42yW9mqPEuISi0Ce5EmV57PYxhOBzMJ5d9jTPtg8IfswC3VENfFqWP0bLRSb+TlgFcQaUCs2lMUXCwvEAmIdizril51/LDSwJk4aawCLfBaIuA6ywcI9pDEHjq8sfYVrJAvJ1JWcTQks49m40dQVHqaVtbJhzSIHKw7ifJ111knGWs+FNg8rFrQks0JA1mutXAjmGVe1Y7C64fLPM8LGDm7veI+kFhmYcu8QHjG/a66VTbpVeW1+GySoQojG/k54B6Uuz/V+I0VLeuVl2SgzddpPmvsgT1w55zRj5cbKzO+f+GIEEOEwxG6nrQwLZayLdF6+HFe5cUryttNOO61hVZBabuaIGe5Hno3W7DjzWkp5H6ahVY0s5IRt4aacN3wq9luZzW1Sj3m1zQpi1NmURhjynuI5mjVrVtJNkY23aknieOeyYcs7n/c2LcZoEPMcxRzL7w+3esK8+LbhFYjXBJ5qbARVK2tWq//Kzfq8Weqz/RF+wDPF5gDfT9Y6fCsR+4QYkoC1UWvGaNCob/9dAp1GQIHeaXfE8ZROgLhiXKqxrrBg50PBQh4BhQU9Fckx9Y9jrXJMMk+ZmZgSVvQZ8+EkBjFPQ9jEtiJ1YKtdA68FFljEMLKxUFbjXlN/PnWRrrwOYg+hjRhmHIyJBRnnZBsWGjw0SNZXaSnAOoQrfSrY0/OYI+ekFgTEB4v3PNaevM9yEW6ICupxM+5qScPSpG+tXAhWG2ceTxO8Y7AEEYLAPSHJFN4FacMLhiSHuL/G/K7rcSOWmEzruM3Tf62a47X6yPsbqRby0MrkSVn35sqklYy9Whm3dE71sqc3a+UmJIeNOhgjrmI3QGKf+VgX6Zj+Yy2OqYgk7IH3dDYuHw4kgCTpYWwJxTxjjg1HwWWZzUHKQiLUKQ9YL6EgsdlsGuf1TEvDKshPkIYkVZtHWqKu2r/BDLGKBThlWyRcozIMJLX6891I46q5fqzRIM99iT2GTRa+U3xb2LxgjLyz8wjhymtVCuM8Weor+yB5I78DvBPZ/Kdh2SdnAHkH0uoB9eapQI99Cjy+mwko0Lv57jn2aAIsNonZxc2bnX8WF/wdu8sIJayiWH1pMfWPY61y9QaeLTNTzYJSb3Fe5MMZDTHHCTEbBbiWYulPF6Fkw8U1L3X5xX0bT4c0MV2Oy0cfwnjZ2a9lLWUzB+t1pZUG4YBIQbjjVk4/tbI741KPC2RlKR2s87jq0gcLFwRknoR+PLfkVMCy2OhZjgbynxNwkadWPePGxTY7r2wcYCsXgtXGmcfThPMQLYhyfosTJ04cFMKAazEWI4RBzO+62ngIMUBc4P6PyyjCvFFegWr95P2NMP8iJb3y3nOEBS7kbAzxPGWFRraPagku62VPL2rlzoa6sHmAZwReHGkpyrzzKnpcq1yk05JsjCPvvU7HnE3YV5l3AVGDJfzEE09MvmWtapXhKDEWZn4TaRlENg2xICPWKU1Z2WK/lWncPAnYEPeMKy1B2szcY8M1uBbfZqy/lb8R3tt4xFSbbzNjbOZcnhO+TXh40fCowlMrr6dD9tqVwjhPlvpaY+f3leZhYNMgxtNLgd7ME+G53UZAgd5td8zxNkUAt0l22rF+VbruYd3EYkFdb2KiYuoft8oqx+SyZWZiS1gV+XAS48iiqtLdP415xi07tsVsFFRmLcf6wuI2dW2sVhIqdjyNjkfQsQCERWUMJMIZN3uel8oss436zf47Vl0EEEnXso3YPqw7ad1fFvNsCDTK+B/zLMeMMz2WEBAsLgjQekn/WrkQrDbOPJ4mMSEVMb/r7HhwnYdFmt0e0V+rbnAe3nl/I0VLeuUZA8cgzLDS4lVEmAYJ1xDEtcI9YuLK847hiSeeWFgmDU8HRBBjQJzjRdSOVq28YT0X6VrPKlZ/NrcQEzF1sav1h2cX76RqybdiLd30HxOOUsTCjPgi9wbvJtyXeZdxH/mepkKx6LeS+aal9Ai9ok/6rgz5iXlW8oZrpH3mrbARM4ayjq1cC+QpI1drLJXCuFqViFpZ6vkN8O7kPmXzvnAt3tt4X7BpkKfyggK9rKfFfjuRgAK9E++KYyqNAG7H1I2u5Y5KZlMsOMT0xtQ/LmKVy1NmJm/MYGrZjflwppARn2RlxcU/2xCJxx9/fJKcLLbFbBRUeglUegi0Q6BzDZIuMW6soli5sRKzWXL66acnC20yLDeTzRzXSmLtcNVMa5dj9cV7gEz9bA7RWNzy/4lPJrlfrRbzLMfeP47n2oiDRkniWrkQjBln1tMkxoU45nfNeBCPbKpwP7BY4uFBnopmW8xvpNlr5T0fUZU+f8wRAcSfdPHcTFx5rTEQF0wCRkIpEF1YSCu9TPKOv5nj6tV2ruYinb1Wo5JsrbzXzSRejAlHKWJhzjLBSopV/cwzz0wqiODiTCvyray8r3yj2disrN3ezP2vF66R9lurwsb999+f5BepTCLXzHiaPbdyLVCvjFyjmHk2dmCebjjFuPCzqYLRI93wz86L/jAMHHDAAcnGYOw4mmXk+RLoZAIK9E6+O46t5QSwCmIBI3tytYbbKm50LILSlqf+cRGrXJpwptKFsWiZGcYb8+FM57f00ksHNgsqk/FgySLZFknbYlvMRkGZAh1xhdBOLZ24+BHPjvjAbTjbWKARD8fmTDYWl8Q6Z5xxRuJW2mwjCSGbQHgIYE2Ab2XCHtzdcecncRiL2UoLYlqKqcizHDN+MtojmogBrtdiFoIx1290bNbTJNaFmL7z/K45DhdMniG8LLDs1mqxGfNjfiONWLT639mwIqafRTkbGulGUbNx5dXGCTc2Adj8qFbuq9Vzq9VfrYRstY6PKckWe69jLN0xfGLDUWItzOlYsHBjSUeg4/rNhgu/V1qRb2XaLwnOZsyYkfRLeT6eHbw/8sQvN+JUL1wjFY543pFvJns9RCbfT+bI2qJTWsxaIObY2PmRF4SQNXITVGuEMCDg2Wwpcxyx4/Z4CQw1AQX6UN8Br99WAriVIsSIg6vWSPiEW2FsdtxYqxzXzlNmJjbjbRGYxBcTu5tmoE37YGFFjVzcXmNbzIe2kQW2GQs6iwOEOMn/2HRhEUV5GSweuG9XupszT+aLQEak45ZXJL44llf2eFyn67W0FFNZz3J6bfiQRRtXezYSKms2p+WVYu51ES55PE3yuosXuX4e18u0HntM/2VzixlL9jefxhLzW8Gaze8nZVA0rrzIWNp9ToxAjy3JFnuvYyzdMZyaCUfJY2FGZOGBgYimkWSSzReqQaStyLeS7yAJzxD9bMbxXFIqrtl3c95wjfT+sRlA2EXWVTutsEFpzHp1wGPuUy8dS2I/NsZrbXBjCMCLj+fCJgEJvE1Age7T0FcEqrkaZgE0IwbpJ49VLkZ0F8kOH3tD2dlGvGIdSBO1YcHB5ZqPKzvcZbZGFlgWUVgmimRxZgGHpQWxQfw4CzwSGlEblgRosXWEm+UAVxavXJekc1gmU9d5yrLFtLKf5XrllRCkuPW2o+XxNGmlC3E75tRJ16CMGRsxCCs2pxA+iCo2svqpVcv3UW3+bFyVWZKNa8ZauvPep0abofX6qWVhxpMgzWGAWzsuyzw/fFfwzqrV8nwrOZfnkMoZhAbRL5uFrWhFwjXYPOW93a68CK2Y51D3ASsqJNS6b2zAYhzA68ImAQm8TUCB7tPQVwSquRpmATQjBvOCjCkzE5vxNu8YsseRfIfss2RLx72ahgs28daU8qHGa5kt1roUMxYWiJTdYvced0gsOWTgZrGJaCdJTSsbAodYZaw9MMw2FiKUvGEThPJ+JKAirGBgYCDxpkAkZRtJ43ALRQzjkp/em/SYTniWW8muVl95PE1iXYiLjJvfB94mNEInzjnnnKSmMIn/8NTo1oYFkARelFPkN1LpKZHOq1XCqFM58QwRClPPzT6tXlBmSTb4NGPprse30WZoei75R2h5LMxsVvC7wEupXnLBovedMSPyuE6tChn0/eyzz0ZdoplwDTYMeH8znnXWWadu+beoQfXgwYQTshnOn2qN8LEf/vCH//O97EEUTkkCUQQU6FG4PLjbCZQpBvOyiRHdRTPe5h1Lehy712QfJktqGhtNDGqtxXps/0N1PNYcLMG46pNUDWs6Ltv8l6R4WH9a0a655ppElFOiDzdHYhZPPfXUQV0jzklEN3Xq1KTGOawR6IQSYB1CtNNY/GF9Iqs8peZwtcfaxDyovU5cOK0TnuVWsKvVR4ynSZksKL+ICEeUE/LAPcCzhd8Mi3z+i1dEmuSvTCa1+s6W9Iq9ftaFH8FRmROD/oq48MeOY6iPj3FxT8faqpJslXNvxtJdj2PM7ySvhZmcHriyl/WtwDqfp7HBFNOKhGuQBI54at4BqUcX9+rzn/98kkw0W68+Ziy9fCzfO/7gcVW5ycc38BOf+ESSpJY/NglI4G0CCnSfBgm0mUCM6G5Fxtui00OYIDpPOeWUol0M+XmIXGqbs7BiAUd8LY3EZ9QfTy1FRQaKFR63YP6QpRjrOeEAZGqv1li84c5ODGVWoGMhxpqPNZbGYg9X0Ysuumhhqas5c+Yk46duLFnf+6HFeJqUyYNxYL3D8wLvCPI1sNlDKS0ayePwdmDTp52NTZtqJb1ix1DpoVDrfN5FvdxiBHorSrLVYxlr6S7jvuS1MLM5hPWaZJoTJkxIapSzsdiLjfhz5nvaaaclbtlsXLHBSulWxGfZ4WDdyJRkp7wvqRDBJvV66623sEIKG9t4teGpV9YGTzcyc8wSgIAC3edAAm0mECO6m8l4W2RaCFkEIML89ttvTxYdla7aRfodynOwdDCvbEIhrNVk5ybGPraxCEOcEcvOYpTyMIg43DCxCNQqwUXIALH0uKpnBTrx8LiGYqGlIeRZuFA3PdtItMNChzj2fmgxniZl8sAjIrX+sBHzrne9K0l6RFklGhs9VF5o131pVNIrlkVMDfnYvrvp+BiB3kxJtjxMYizdeforckyMhZnwHcpI8of/jehCrBMy0YrqF4yfko8LFixIYtyzLS3flf4ei8w17zm846nysfHGGw865fe///1Cr5q8ffXTcYj0k08+OamgQt1zvHQIDcBzjBJrhNnYJCCBwQQU6D4REmgzgRjRXSTjbZHpUE4JUX7ZZZclllzqSu+1116JxdY2mADWVNzxDjvssERopw0LQD2BTjZs7icCn+RwLGRZ6OMaTQ6A1FOBPlnwVZYCpATgpptu2lG1dst8NmI8TcocR5llAPOOO6akV94+0+OyNeRhzgbdZpttFqZPnx7bVVcfz+8QAcHGXaMWI+Yb9dVr/04llFSsU98eIZaK9WZENJm+ee8SmpRteEEdf/zxSZ3tsttqq60WKJX5/ve/f9CleJezWduqkKmy52H/EpBA5xNQoHf+PXKEPUagiOjOm/E2BhXZm3HPxu2bOFpiztnRxnWvntCMucZQH0tWfrLuXnvttUlsd2V8bZHM8AhtRDbZhUmMhEs61vlGAh0rPou4u+++O6ktT2IusufD+6qrrlqYGZjFLNZYhBLH0Ejkl5YVmjlz5lBjbcv1YzxNyhwQYoznKI39ZwOFBTnlGGnNVn5oNPbYkl6N+qv89yI15GOv0Q3Hc5/xbmFjkvdgvXhiBXq+O8p3Ba8hKoTwjps0aVISXlSkkfCT3x15O7KNMl14evFOLbuRzIyNKxJ6pqVaeYcTfkTeETbfbdUJdIIHhPdGAt1EQIHeTXfLsfYUgTJEdwwgrGUk98FF+1Of+tTCWseNhGbMNYb6WFzPiRfdd999kwVVZRZgxHCRhlswIp3NDSw3xF9iWSEcYMyYMXW7xEWZWHTcNUkaR1xetuHqzrjIPk8GfcbMHLDasNAl03Q/tBhPkzJ5NIoHLrvyQ9klvcqsIV/mfWl139nM7LjkIrgIPalWbjCmJFurx9lt/fE+mzx5chIWRCWEdKMrdh5kiif/Axua2UYMOElAyQFSdmMD58EHH0yy22NNp/FuXmKJJZIEktnGO972NoFO8IDwfkigmwgo0LvpbjlWCbSQAInJ5s2bl1iLsASTvIXWSwK9lrt4CzEmMXUIdawqxCizWMQNkwV+tvHvWNtZzGUb94CswLvtttugvydxDvHNWP2Ja68U8q2cQyf2VcTTpIx5DHU8cNklvawhP/ipSTff8C4i1IQY6j322COxkqabYzEl2cp4JrupT7yx2Igs4q2UnSeVLbBWs0mZejfgaURoArlE2pGgjTroeRubEra3CXSCB4T3QwLdRECB3k13y7FKoMUESHRG7Dlue8QKYk0nzg9Xwve9730tvlr7u0PYkum6soZ4MyPZYostkuzvlZmKsYhjRYfnL3/5y8TKkm21EkthVWKBiSDH0k82cBKRZRveFh/96EfDWWed1dU1t4twH2pPkyJjLuOcskp6taOGfBk82tEn1RQQ6myuERKEpxGu2rq456ffKoFOmA+5Onhfpu9zPJZIvsm7E28jW+cS6AQPiM6l48gk8L8EFOg+FRKQQGL5JeY5ddkmGRmWdawTRV0SOwErGdJPPPHEcPbZZ7csm3CexTnx7pUZ4itjmVM+LGBxoyUzMP898MADq6L7/ve/H0i61C8x6J3w/HTCGMou6TXUHgKdwLjeGHg3sslH7DQWWyzBed4BnT6vdo2vVQKd8RLTzr2gz2HDhiWx5+ROaWeJLp6BGTNmJKUwSbBIwk/c2dkoGDVqVLuwdt11OsEDouugOeC+JqBA7+vb7+Ql8L8EqLmNFZiaz9S3JR6zWxvJ27A8vvHGG0l25sqFHPOLbbGLc6w9xJGzqCSxHDHFaWOxT5KjrbfeOollJ6FSLc8F3N0ps4Zgs/UPgbJLevUPybiZUtmCDUsqW3APqIFNTDol9WLfAXFX7q2jWynQq5H5y1/+knyv0ioYZdLDs4xQI1zsKdV53333JUnrBgYGwmOPPZZ4WtiqE9ADwidDAnEEFOhxvDxaAn1DAFFLuZzKWOpuAjBt2rS6wyWuNLaxOCfuvJFnQeqmnsYt8t9vfvObgVi8tJGgixjXz33uc4lbO4nhapW2IzkRieKIkbX1DwHFYPvuNQnNLrjgguQPG2eElSDKEefUwE5bTEm29o1+aK7U6PuAxZnNjmZj0LOzoyIGHl8I89tvvz2xpOPuXnZDnBNPP3Xq1KTEJpsPCHQS1eFxhmi31SbQCR4Q3h8JdAsBBXq33CnHKYEWE2DhX5nVvPIS/DtC3fY2gUbcSOoGt8oFKZsFJIkje361RrmrE044Iey4445V/524d0rGPfzww96OPiKgQG/PzSa+nBASNt5I2EhiOBJpVmsxJdnaM/qhu0o7QyQQ+ohyvBpee+21xMWcsni1NjVbTQXLOe7svKuzAh3rOc8KY7LFEWinB0TcyDxaAkNLQIE+tPy9ugSGjADZcGs1LAKnnXZa8s+4iHdzQyhffvnl4Z577kmEM4njtt9++8RttUhjcc4CkdjDeo04/spWL37xuOOOC7/97W8D9WIrRTxWc8rUEKNOLLqtfwhY0qs995p3Atby7bbbruG7IaYkW3tG37tXITkfifoIN8ACS8w51mrKrWHB5n3erkacOWFIhC1lBTq5Tnh28MCwNSYwVB4QjUfmERLoHAIK9M65F45EAkNOgDjnww47LFxxxRXhS1/6UjjqqKMW1nsd8sEVGABu4dtuu20g/g0LB9bt+++/P8n4S8Z1LCGxrahFs1H84ve+973EfZKNA7K5M142FNhYOP300xOLfJqMKHbMHt+9BCzp1bn3Lk9Jts4dfXtGxvuL0pNFPX/YrNxpp52SCiN4OfB7oA1FOdC99947UP6Rkm5s0PJO531NyAMZ5tsRB9+eu1bOVYbaA6KcWdmrBMohoEAvh6u9SqCrCPzjH/8I1G3FDXurrbYKxxxzTBLv3O0NcY4oJ/NvavGmTA+LPRZ6iPTYVlSgf+ITnwgf+MAH6sYv4iq5zz77hF//+tfJuGmIdO7JGWec0bJM9LFz9vihI1D0eRu6EffnlWuVZOtPGm/PutkkcWxUzps3L7Ga77rrrmG99dYbMoGO5Zdvyt133x1eeumlsMoqqyTl97DmU1p/91ZJAAAeA0lEQVQzm6eg3+97Ov9O8oDwnkigmwgo0LvpbjlWCbSYADWmEeO4s2+00Ubh+OOP76k62yyYqCteudnAovFjH/tYUl4utq2xxhpJYiLqusa0mPjF5557LmD9R6S/973vDWSjt/UnAQV699z3aiXZumf05Yy0WYHOqG688cYk9nz69OlhnXXWSTZYv/WtbyUW7FpVL8qZzVu9XnfddYk304IFC5JNVzZfbdUJdJIHhPdIAt1EQIHeTXfLsUqghQTIRIsgX3nllRORPmHChBb23hldYTW/8sork2zM2caC7zOf+UxSRi62bbjhhuGrX/1qEgIQI5yNX4wl7fEQUKB3/nNQryRb54++3BG2QqCnI2QDhOztxKNTlpI8H1jWcTFvVFWjmVlyLb4V22yzzcJu8DbD64wcLVyfTe4llliimcv05Lmd5AHRk4CdVM8SUKD37K11YhKoT4CF/7Bhw5K6rvUSppE9vFsb2ZixdGB9IckajcUWAhvLB+WUYtvXvva18NOf/jT8+9//ThZmZBHOY0ExfjGWtMdDwJJenfkc5C3J1pmjb9+oWinQs6OeM2dO8l6/+OKLE/H8+uuvlzYphPlmm20WDjnkkOQaZB7n+0GZTiz45A/hu3DkkUeWNoZu7rjTPCC6maVj7x8CCvT+udfOVAKDCOy+++4Ny6xxAhl0u7WRNZ1FFEnvSCpEo2wcGZsR57idF2mU08HdEjZYz0g6R1kmmK622mpVu6wWv/jkk08m8YtXXXWV8YtFbkQfnGNJr867yTEl2Tpv9K0dEV5E9cp18r4l+3or66BnZ0D/s2bNCo3qsTcz65EjRybfkPHjxyfdHH744cl7/4Ybbkj+P98CrOlsGthqExgqDwjviQS6kYACvRvvmmOWgASiCDzwwANJNnQaZXlaWTf3kUceSVwuL7zwwiRbPNZ0Su7svPPOVceYjV8kazseDDYJ1CJgSa/OezZiSrJ13uhbOyJcvfM0NkqLNDao6m0A0Cf/jlAvqxFHzTeEjVjaxhtvHLbeeutwxBFHJP//0UcfTfKckDjOlo9AOz0g8o3IoyTQWQQU6J11PxyNBCRQEoFsVvQyLkH/1EfH1RHLfdZixOKRRd6dd94ZxowZU8bl7bPHCVjSq8dvsNOrSuDnP/95TTI33XRTEvtNIxa8rDZ69Ohw0UUXJaXUyCj/7ne/O7Gop6FNuLwTD18kp0lZY+6WftvhAdEtLBynBLIEFOg+DxKQQE8TIE7x5JNPTiwgNLKiH3DAAUnseKva7NmzE3d34vXf8Y53hC984QvhrLPOGtQ9Ndf5d5LM2STQDAFLejVDz3O7ncC9994bDjvssEQkk6zzqKOOqhla1Iq5sumKCCep6uWXX56UI6U06Tvf+c6ke8p4UgP9tttua8XleqqPTvCA6CmgTqZvCCjQ++ZWO1EJ9B+BgYGBRJxPnDgxifWm4TL8gx/8IOy///7hu9/9bmEojz/+eBLHzh9cHDfZZJPEtX2nnXZKku9VNgQ8sYokNUprshe+uCf2PQFLevX9I9ARABrFoKeDbIV1GVFMrDcCeauttkqqj1SW0CwDytNPP53EuJPsbOmll06uv+OOOy68FJb0D3/4w+Hoo48u4/Jd3WcneEB0NUAH37cEFOh9e+uduAR6n8AKK6yQuEDusssugyZLqR5E+zPPPBMN4ZJLLkms5VjNKZ1GpniEeaO49rFjxya1zck2jMskNdqzjWzzNgk0ImBJr0aE/Pd2Eig7Bp25vPDCC4kY512+0UYbJZZsNkTb3RgHAr2y6gmbD/x9alFv97i67Xrt9oDoNj6OVwIQUKD7HEhAAj1LAOvOrbfemri1Z9v999+flF0jVjy2sQj79Kc/nYjybbfdNqlTnadNmTIlSWaUxsJXnoNlyCaBagQs6eVz0akEeJeus846pQ1v6tSpiSBfeeWVE5E+YcKE0q5lx+USGCoPiHJnZe8SKIeAAr0crvYqAQl0AAGs5JRXO+mkkwaN5qCDDgok3Tr99NOjRzl37tyw0kor5T6P5EUHH3xwEruI9Rx3SCxBWPdtEmhEwJJejQj570NJAE8gSkuS2X6HHXZYGErUqjGxAUrIENUuKi3X2WuQ38PWmQQ6xQOiM+k4KglUJ6BA98mQgAR6lgACnfJnlMchRpB2yy23BCySuKantdH5+0oR3yooiPMzzjgjSWbEQhMX+c022yyJR7dJoBEBS3o1IuS/DyWB1157LfzmN78JxBpfeeWViYfQdtttl1i6t9xyy6R6RTNt9913b1hmjf4JO7J1HgE9IDrvnjii7iCgQO+O++QoJSCBAgQ233zzXGfhek598jIa2dtJHkRmdxou9x/72McCC9t6FqEyxmKfEpCABMoigDgnCeesWbOSP4899lhi+UasI9pjPI/KGqP9tpeAHhDt5e3VeoeAAr137qUzkYAEOpAAMeuPPPJIGDVq1MLRYUkndhPLvk0CEpBALxKgtCVCHev6H/7wh8RL6Rvf+EYvTtU51SCgB4SPhgSKEVCgF+PmWRKQgARyEcBK/uSTT4YVV1xx4fEjRowIf/7zn8Maa6yRqw8PkoAEJNCNBJ566qlw9tlnJ8KcbOeVCTu7cU6OWQISkEDZBBToZRO2fwlIoCcJrLnmmuG2224Lyy+//KD5kRl+3Lhx4eGHH07+Hhe/bbbZJiyxxBILj7viiivCFltsMajUmkmOevIxcVIS6GsCd911V/I+nD9/fl9zcPISkIAEYggo0GNoeawEJCCB/xJAeGMZr4yrxGJEVuN///vfyZFf+cpXcjEzyVEuTB4kAQl0EQEFehfdLIcqAQl0DAEFesfcCgciAQl0AwFiKmmUFJo2bVpYZpllFg4bK9G1116bZDW+7777umE6jlECEpBAaQQU6KWhtWMJSKCHCSjQe/jmOjUJSKD1BLCc08j8TtbibKNs2+qrrx5OPPHEJGuxTQISkEA/E1Cg9/Pdd+4SkEBRAgr0ouQ8TwIS6GsCJHgjBn2FFVboaw5OXgIS6F8CkyZNqjv5p59+OlxyySXGoPfvI+LMJSCBAgQU6AWgeYoEJCABCUhAAhLodwKbb755LgSzZ8/OdZwHSUACEpDAf7w0/+OiOdhHUyoSkIAEJJCLAPHm/Jk7d25YsGDBoHPOO++8XH14kAQkIAEJSEACEpCABFICCnSfBQlIQAIFCEyZMiV85zvfCePHjw8jR45MYtKzbebMmQV69RQJSEACvUPgoYceCl/96lfDdddd1zuTciYSkIAESiagQC8ZsN1LQAK9SQBRPnXq1LDrrrv25gSdlQQkIIEmCZgkrkmAni4BCfQlAQV6X952Jy0BCTRLYPnllw+33nprWGuttZrtyvMlIAEJ9CQBBXpP3lYnJQEJlExAgV4yYLuXgAR6k8AhhxwSll566TAwMNCbE3RWEpCABJokoEBvEqCnS0ACfUlAgd6Xt91JS0ACzRLYf//9w4UXXhg22GCD5A810LPtpJNOavYSni8BCUigqwko0Lv69jl4CUhgiAgo0IcIvJeVgAS6m0C98kIkjDMpUnffX0cvAQk0JjB27Nj/SZCZPeuVV14JDzzwgHXQG6P0CAlIQAILCSjQfRgkIAEJSEACEpCABKIJUM0iT5s8eXKewzxGAhKQgAT+Q0CB7mMgAQlIQAISkIAEJCABCUhAAhLoAAIK9A64CQ5BAhLoTgK33XZbmD59enj88cfDvHnzBk3iZz/7WXdOylFLQAISKEDgmWeeCY8++mji8r766qsHKl3YJCABCUggnoACPZ6ZZ0hAAhIIP/nJT8Juu+0Wttxyy/Cb3/wm+S+xlk8++WTYcccdw/nnny8lCUhAAj1P4O677w777LNPuPHGGwfNddNNNw1nnnlmWHfddXuegROUgAQk0EoCCvRW0rQvCUigbwiQuf1rX/ta+MY3vhFGjBgRyFa8xhprJH83cuTIkDc2s2+AOVEJSKDnCLAhOWbMmLDiiiuGr3/962G99dYLb775ZpgzZ04455xzwr/+9a/w17/+Nay00ko9N3cnJAEJSKAsAgr0ssjarwQk0NMEhg8fHrAc4cq5wgorhNmzZ4f3v//94Z577glbbLFF+Oc//9nT83dyEpCABA455JBwzTXXJNbzJZdcchCQV199NWy88caJd9Gxxx4rLAlIQAISyElAgZ4TlIdJQAISyBJYddVVw1VXXZWI8g033DAceuihYZdddgk333xz2HrrrcMLL7wgMAlIQAI9TWDcuHHJu2/nnXeuOk9CgaZOnRruuOOOnubg5CQgAQm0koACvZU07UsCEugbAl/84hfD+PHjw6RJk8LRRx8dTj311DBhwoQkHp1Fq0ni+uZRcKIS6FsC7373u8Ptt98e1l577aoMHnzwweQ9+fzzz/ctIycuAQlIIJaAAj2WmMdLQAIS+A+BZ599Nrz22mthlVVWCQsWLAgnnHBCuOGGG5KF6sDAQFh22WXlJAEJSKCnCSy22GJJOE+tGPOnnnoqjBo1Krzxxhs9zcHJSUACEmglAQV6K2nalwQkIAEJSEACEugTAgj0+++/P0kSV60h0EkcN3/+/D4h4jQlIAEJNE9Agd48Q3uQgAQkIAEJSEACfUdg0UUXTeqe12pkdOffFeh992g4YQlIoAkCCvQm4HmqBCQgAQlIQAIS6FcC119/fa6pUxPdJgEJSEAC+Qgo0PNx8igJSEACEpCABCQgAQlIQAISkECpBBTopeK1cwlIQAISkIAEJNB7BF5++eUwfPjw3BOLPT53xx4oAQlIoMcIKNB77IY6HQlIoHwCZCRecsklw5133hnGjBlT/gW9ggQkIIEOIzBy5MgwceLEsPvuuyfVLKo1YtCvueaacNJJJ4WPf/zj4bDDDuuwWTgcCUhAAp1HQIHeeffEEUlAAl1AYK211kpqnW+44YZdMFqHKAEJSKC1BO67775wxBFHhFmzZoWNNtooqXeOUGfz8rnnngtz5swJN998c1h88cUTYb733nsHsr7bJCABCUigPgEFuk+IBCQggQIEzj///DB9+vRw8cUXh+WWW65AD54iAQlIoPsJ/O1vf0vehb/73e/Co48+Gl599dWwwgorhLFjx4atttoqbLvttoFs7zYJSEACEshHQIGej5NHSUACEhhEgMXngw8+GF5//fUwevTo/4nFvOOOOyQmAQlIQAISkIAEJCCBKAIK9ChcHiwBCUjgLQJTpkypi2Ly5MmikoAEJCABCUhAAhKQQBQBBXoULg+WgAQkIAEJSEACEpCABCQgAQmUQ0CBXg5Xe5WABCQgAQlIQAISkIAEJCABCUQRUKBH4fJgCUhAAm8RmD9/fjj55JPDpZdeGh5//PEwb968QWieffZZUUlAAhKQgAQkIAEJSCCKgAI9CpcHS0ACEniLwP/93/+Fc889N0yaNCkMDAyEww8/PMlgfPnllyf/tt9++4lKAhKQQF8ToNzaFVdcEXbbbbe+5uDkJSABCcQQUKDH0PJYCUhAAv8lQB3073//++HTn/50GDFiRLjzzjtD+ne33HJLuOSSS2QlAQlIoK8J3HXXXWHcuHGJx5FNAhKQgATyEVCg5+PkURKQgAQGERg+fHi45557wmqrrRZGjhwZfvGLXyQL0Ycffjip//vCCy9ITAISkEBfE1Cg9/Xtd/ISkEBBAgr0guA8TQIS6G8C6667brjwwgvDhz70obDJJpsklvRDDz00/PSnPw0TJ04Mc+fO7W9Azl4CEuh7Agr0vn8EBCABCRQgoEAvAM1TJCABCSDG3/Wud4Vvf/vbYcaMGWGXXXYJq6++epIw7sADDwzHHXeckCQgAQn0NQEFel/fficvAQkUJKBALwjO0yQgAQlkCRB3ftNNN4W11147bL/99sKRgAQk0PMEyMNRr/39738PJ5xwgjHoPf8kOEEJSKCVBBToraRpXxKQgAQkIAEJSKBPCKyxxhq5ZvrII4/kOs6DJCABCUggBAW6T4EEJCCBggQuuuiicNZZZwUWnzfffHMYPXp0OOWUUwKL1gkTJhTs1dMkIAEJSEACEpCABPqVgAK9X++885aABJoicOaZZyb1zg844IBw9NFHh7/+9a9hzTXXDBdccEGYNm1amD17dlP9e7IEJCCBbifwxBNPhMmTJ4fzzjuv26fi+CUgAQm0jYACvW2ovZAEJNBLBNZff/1wzDHHhB122CGpg04yJAQ6Qn2zzTYLzzzzTC9N17lIQAISiCZgkrhoZJ4gAQlIQBd3nwEJSEACRQgMGzYs3HvvvYlbe1agP/DAA2GDDTYIr776apFuPUcCEpBAzxBQoPfMrXQiEpBAGwloQW8jbC8lAQn0DgEs6Mcee2wSa54V6GQ1xsX9j3/8Y+9M1plIQAISKEBAgV4AmqdIQAJ9T0CB3vePgAAkIIEiBM4///wwMDAQTjzxxLDnnnuGc889Nzz00EOJaOd/f+ELXyjSredIQAIS6BkCCvSeuZVORAISaCMBBXobYXspCUigtwicc8454bvf/W4gERJt1KhR4cgjj0wEu00CEpBArxP47Gc/W3eKzz//fLj++uutg97rD4Lzk4AEWkpAgd5SnHYmAQn0IwESwi1YsCCstNJK/Th95ywBCfQpga985Su5Zo7HkU0CEpCABPIRUKDn4+RREpCABCQgAQlIQAISkIAEJCCBUgko0EvFa+cSkECvEnjqqafCQQcdFK699towd+7c8Oabbw6a6vz583t16s5LAhKQgAQkIAEJSKAkAgr0ksDarQQk0NsEttlmm/D444+HfffdN4wcOTIsssgigyZMdnebBCQgAQlIQAISkIAEYggo0GNoeawEJCCB/xKgtNrvf//7sNFGG8lEAhKQgAQkIAEJSEACLSGgQG8JRjuRgAT6jQB10H/84x+HsWPH9tvUna8EJCABCUhAAhKQQEkEFOglgbVbCUigtwlcffXVSQ30s88+O6y++uq9PVlnJwEJSEACEpCABCTQFgIK9LZg9iISkECvEVh22WXDK6+8Et54442w1FJLhcUXX3zQFJ999tlem7LzkYAEJCABCUhAAhIomYACvWTAdi8BCfQmgWnTptWd2Je//OXenLizkoAEJCABCUhAAhIojYACvTS0diwBCUhAAhKQgAQkIAEJSEACEshPQIGen5VHSkACEpCABCQgAQlIQAISkIAESiOgQC8NrR1LQAISkIAEJCABCUhAAhKQgATyE1Cg52flkRKQgAQkIAEJSEACEpCABCQggdIIKNBLQ2vHEpCABCQgAQlIQAISkIAEJCCB/AQU6PlZeaQEJCCBhACl1ZZccslw5513hjFjxkhFAhKQgAQkIAEJSEACLSGgQG8JRjuRgAT6jcBaa60Vfvazn4UNN9yw36bufCUgAQlIQAISkIAESiKgQC8JrN1KQAK9TeD8888P06dPDxdffHFYbrnlenuyzk4CEpCABCQgAQlIoC0EFOhtwexFJCCBXiMwduzY8OCDD4bXX389jB49OgwfPnzQFO+4445em7LzkYAEJCABCUhAAhIomYACvWTAdi8BCfQmgSlTptSd2OTJk3tz4s5KAhKQgAQkIAEJSKA0Agr00tDasQQkIAEJSEACEpCABCQgAQlIID8BBXp+Vh4pAQlIYBCB559/PsyYMSM89NBD4eCDD05i0XFtf8973hNGjRolLQlIQAISkIAEJCABCUQRUKBH4fJgCUhAAm8R+POf/xw++clPhmWWWSY8+uij4b777gtrrrlmGBgYCI899li48MILRSUBCUhAAhKQgAQkIIEoAgr0KFweLAEJSOAtAojzcePGhalTp4YRI0aEu+66KxHoN910U/jiF7+YiHabBCQgAQlIQAISkIAEYggo0GNoeawEJCCB/xLAco47O/XQswId6/m6664bXnvtNVlJQAISkIAEJCABCUggioACPQqXB0tAAhJ4iwBx5r/61a8C5dayAv3qq68Oe+65Z3jiiSdEJQEJSEACEpCABCQggSgCCvQoXB4sAQlI4C0Ce++9d3j66afDpZdemiSHIyZ9scUWCzvssEP4+Mc/Hk455RRRSUACEpCABCQgAQlIIIqAAj0KlwdLQAISeIvAiy++GLbddttw9913h5deeimsssoq4cknnwwf+chHwlVXXRWGDx8uKglIQAISkIAEJCABCUQRUKBH4fJgCUhAAoMJXHfddUks+oIFC5KkcSSPs0lAAhKQgAQkIAEJSKAIAQV6EWqeIwEJSEACEpCABCQgAQlIQAISaDEBBXqLgdqdBCTQPwSuvfbawJ+5c+cmFvRsO++88/oHhDOVgAQkIAEJSEACEmgJAQV6SzDaiQQk0G8EpkyZEr7zne+E8ePHh5EjR4ZFFllkEIKZM2f2GxLnKwEJSEACEpCABCTQJAEFepMAPV0CEuhPAojyqVOnhl133bU/AThrCUhAAhKQgAQkIIGWE1CgtxypHUpAAv1AYPnllw+33nprWGuttfphus5RAhKQgAQkIAEJSKANBBTobYDsJSQggd4jcMghh4Sll146DAwM9N7knJEEJCABCUhAAhKQwJAQUKAPCXYvKgEJdCOBSZMmLRw2SeGmTZsWNthgg+TP4osvPmhKJ510UjdO0TFLQAISkIAEJCABCQwhAQX6EML30hKQQHcR2HzzzXMPePbs2bmP9UAJSEACEpCABCQgAQlAQIHucyABCUhAAhKQgAQkIAEJSEACEugAAgr0DrgJDkECEug+AnvssUc49dRTw4gRIwYN/uWXXw4TJ04M1kHvvnvqiCUgAQlIQAISkMBQE1CgD/Ud8PoSkEBXElhsscXCP//5z7DSSisNGv8zzzwTVl555fDGG2905bwctAQkIAEJSEACEpDA0BFQoA8de68sAQl0IYEXX3wxvPnmm2HZZZcNDzzwQFhxxRUXzmL+/PnhiiuuCIceemj4xz/+0YWzc8gSkIAEJCABCUhAAkNJQIE+lPS9tgQk0HUEFl100bDIIovUHDf/NmXKlHD44Yd33dwcsAQkIAEJSEACEpDA0BJQoA8tf68uAQl0GYHrr78+saBvscUW4bLLLgvLLbfcwhm8853vDKNHjw6rrLJKl83K4UpAAhKQgAQkIAEJdAIBBXon3AXHIAEJdB2Bxx57LKy66qoBi7pNAhKQgAQkIAEJSEACrSCgQG8FRfuQgAT6ksDzzz8ffvSjH4V77rkncXtff/31A9ndl1lmmb7k4aQlIAEJSEACEpCABJojoEBvjp9nS0ACfUrg9ttvD1tttVUYNmxY+OAHP5i4vfN3r776arj66qvDuHHj+pSM05aABCQgAQlIQAISKEpAgV6UnOdJQAJ9TWCTTTYJa6+9djjnnHPCO97xjoQFpdX22muv8PDDD4ff/e53fc3HyUtAAhKQgAQkIAEJxBNQoMcz8wwJSEACieX8T3/6U1hvvfUG0ZgzZ04YP358eOWVV6QkAQlIQAISkIAEJCCBKAIK9ChcHiwBCUjgLQLvec97wkUXXRS23HLLQUh+/etfh9122y089dRTopKABCQgAQlIQAISkEAUAQV6FC4PloAEJPAWgf322y/MnDkznHDCCeGjH/1okiTuhhtuCAcffHD43Oc+F0455RRRSUACEpCABCQgAQlIIIqAAj0KlwdLQAISeIvAvHnzEjF+1llnJbHntMUXXzzss88+4bjjjgtLLLGEqCQgAQlIQAISkIAEJBBFQIEehcuDJSABCQwmQKz5Qw89lGRxJ2ncUkstJSIJSEACEpCABCQgAQkUIqBAL4TNkyQgAQlIQAISkIAEJCABCUhAAq0loEBvLU97k4AEJCABCUhAAhKQgAQkIAEJFCKgQC+EzZMkIAEJSEACEpCABCQgAQlIQAKtJaBAby1Pe5OABCQgAQlIQAISkIAEJCABCRQioEAvhM2TJCABCUhAAhKQgAQkIAEJSEACrSWgQG8tT3uTgAQkIAEJSEACEpCABCQgAQkUIqBAL4TNkyQgAQlIQAISkIAEJCABCUhAAq0loEBvLU97k4AEJCABCUhAAhKQgAQkIAEJFCKgQC+EzZMkIAEJSEACEpCABCQgAQlIQAKtJaBAby1Pe5OABCQgAQlIQAISkIAEJCABCRQioEAvhM2TJCABCUhAAhKQgAQkIAEJSEACrSWgQG8tT3uTgAQkIAEJSEACEpCABCQgAQkUIqBAL4TNkyQgAQlIQAISkIAEJCABCUhAAq0loEBvLU97k4AEJCABCUhAAhKQgAQkIAEJFCLw/8/qTNeWMOGhAAAAAElFTkSuQmCC\" width=\"1000\">"
      ],
      "text/plain": [
       "<IPython.core.display.HTML object>"
      ]
     },
     "metadata": {},
     "output_type": "display_data"
    },
    {
     "name": "stderr",
     "output_type": "stream",
     "text": [
      "C:\\ProgramData\\Anaconda3\\lib\\site-packages\\seaborn\\matrix.py:625: ClusterWarning:\n",
      "\n",
      "scipy.cluster: The symmetric non-negative hollow observation matrix looks suspiciously like an uncondensed distance matrix\n",
      "\n"
     ]
    }
   ],
   "source": [
    "umap_distances_means_df = pandas.DataFrame(umap_distances_means,index=cols,columns=cols)\n",
    "cm = seaborn.clustermap(umap_distances_means_df,yticklabels=True,xticklabels=True)\n",
    "cm.fig.suptitle(\"average umap relative distance\")\n",
    "plt.savefig(\"figures/66t.Numaps.hierclusters.\"+writebatch+\".png\")\n",
    "plt.savefig(\"figures/66t.Numaps.hierclusters.\"+writebatch+\".svg\")"
   ]
  },
  {
   "cell_type": "code",
   "execution_count": 21,
   "metadata": {},
   "outputs": [],
   "source": [
    "og_regions = cols[0:22]"
   ]
  },
  {
   "cell_type": "code",
   "execution_count": 22,
   "metadata": {},
   "outputs": [],
   "source": [
    "region_order = ['Cortex','NAcMed','NAcLat','NAcCore','DStr','GP',\n",
    "                'PO','Septum','BNST','PVN','LH','LDT','VP','EAM',\n",
    "                'LHb','MHb','DR','EP','CeA','ZI','PBN','DCN']"
   ]
  },
  {
   "cell_type": "code",
   "execution_count": 23,
   "metadata": {},
   "outputs": [],
   "source": [
    "region_order = ['PO','Septum','VP','LDT','LHb','EAM','PVN','MHb','DR','BNST','LH',\n",
    "                'Cortex','GP','NAcMed','NAcCore','NAcLat','DStr','DCN',\n",
    "                'EP','ZI','CeA','PBN']"
   ]
  },
  {
   "cell_type": "code",
   "execution_count": 24,
   "metadata": {},
   "outputs": [],
   "source": [
    "for r in og_regions:\n",
    "    if r in region_order:\n",
    "        i=1\n",
    "    else:\n",
    "        print(r)"
   ]
  },
  {
   "cell_type": "code",
   "execution_count": 25,
   "metadata": {},
   "outputs": [],
   "source": [
    "corrected_order = []\n",
    "\n",
    "for r in region_order:\n",
    "    if r in og_regions:\n",
    "        corrected_order.append(numpy.where(numpy.array(og_regions)==r)[0][0])\n",
    "    else:\n",
    "        print(r)"
   ]
  },
  {
   "cell_type": "code",
   "execution_count": 26,
   "metadata": {},
   "outputs": [],
   "source": [
    "idx = corrected_order\n",
    "rearrange = umap_distances_means[idx,:]\n",
    "rearrange = rearrange[:,idx]\n",
    "regions = [og_regions[i] for i in idx]"
   ]
  },
  {
   "cell_type": "code",
   "execution_count": 27,
   "metadata": {},
   "outputs": [
    {
     "name": "stdout",
     "output_type": "stream",
     "text": [
      "(22, 22)\n",
      "22\n"
     ]
    }
   ],
   "source": [
    "print(rearrange.shape)\n",
    "print(len(regions))"
   ]
  },
  {
   "cell_type": "code",
   "execution_count": 28,
   "metadata": {
    "scrolled": true
   },
   "outputs": [
    {
     "data": {
      "application/javascript": [
       "/* Put everything inside the global mpl namespace */\n",
       "/* global mpl */\n",
       "window.mpl = {};\n",
       "\n",
       "mpl.get_websocket_type = function () {\n",
       "    if (typeof WebSocket !== 'undefined') {\n",
       "        return WebSocket;\n",
       "    } else if (typeof MozWebSocket !== 'undefined') {\n",
       "        return MozWebSocket;\n",
       "    } else {\n",
       "        alert(\n",
       "            'Your browser does not have WebSocket support. ' +\n",
       "                'Please try Chrome, Safari or Firefox ≥ 6. ' +\n",
       "                'Firefox 4 and 5 are also supported but you ' +\n",
       "                'have to enable WebSockets in about:config.'\n",
       "        );\n",
       "    }\n",
       "};\n",
       "\n",
       "mpl.figure = function (figure_id, websocket, ondownload, parent_element) {\n",
       "    this.id = figure_id;\n",
       "\n",
       "    this.ws = websocket;\n",
       "\n",
       "    this.supports_binary = this.ws.binaryType !== undefined;\n",
       "\n",
       "    if (!this.supports_binary) {\n",
       "        var warnings = document.getElementById('mpl-warnings');\n",
       "        if (warnings) {\n",
       "            warnings.style.display = 'block';\n",
       "            warnings.textContent =\n",
       "                'This browser does not support binary websocket messages. ' +\n",
       "                'Performance may be slow.';\n",
       "        }\n",
       "    }\n",
       "\n",
       "    this.imageObj = new Image();\n",
       "\n",
       "    this.context = undefined;\n",
       "    this.message = undefined;\n",
       "    this.canvas = undefined;\n",
       "    this.rubberband_canvas = undefined;\n",
       "    this.rubberband_context = undefined;\n",
       "    this.format_dropdown = undefined;\n",
       "\n",
       "    this.image_mode = 'full';\n",
       "\n",
       "    this.root = document.createElement('div');\n",
       "    this.root.setAttribute('style', 'display: inline-block');\n",
       "    this._root_extra_style(this.root);\n",
       "\n",
       "    parent_element.appendChild(this.root);\n",
       "\n",
       "    this._init_header(this);\n",
       "    this._init_canvas(this);\n",
       "    this._init_toolbar(this);\n",
       "\n",
       "    var fig = this;\n",
       "\n",
       "    this.waiting = false;\n",
       "\n",
       "    this.ws.onopen = function () {\n",
       "        fig.send_message('supports_binary', { value: fig.supports_binary });\n",
       "        fig.send_message('send_image_mode', {});\n",
       "        if (fig.ratio !== 1) {\n",
       "            fig.send_message('set_device_pixel_ratio', {\n",
       "                device_pixel_ratio: fig.ratio,\n",
       "            });\n",
       "        }\n",
       "        fig.send_message('refresh', {});\n",
       "    };\n",
       "\n",
       "    this.imageObj.onload = function () {\n",
       "        if (fig.image_mode === 'full') {\n",
       "            // Full images could contain transparency (where diff images\n",
       "            // almost always do), so we need to clear the canvas so that\n",
       "            // there is no ghosting.\n",
       "            fig.context.clearRect(0, 0, fig.canvas.width, fig.canvas.height);\n",
       "        }\n",
       "        fig.context.drawImage(fig.imageObj, 0, 0);\n",
       "    };\n",
       "\n",
       "    this.imageObj.onunload = function () {\n",
       "        fig.ws.close();\n",
       "    };\n",
       "\n",
       "    this.ws.onmessage = this._make_on_message_function(this);\n",
       "\n",
       "    this.ondownload = ondownload;\n",
       "};\n",
       "\n",
       "mpl.figure.prototype._init_header = function () {\n",
       "    var titlebar = document.createElement('div');\n",
       "    titlebar.classList =\n",
       "        'ui-dialog-titlebar ui-widget-header ui-corner-all ui-helper-clearfix';\n",
       "    var titletext = document.createElement('div');\n",
       "    titletext.classList = 'ui-dialog-title';\n",
       "    titletext.setAttribute(\n",
       "        'style',\n",
       "        'width: 100%; text-align: center; padding: 3px;'\n",
       "    );\n",
       "    titlebar.appendChild(titletext);\n",
       "    this.root.appendChild(titlebar);\n",
       "    this.header = titletext;\n",
       "};\n",
       "\n",
       "mpl.figure.prototype._canvas_extra_style = function (_canvas_div) {};\n",
       "\n",
       "mpl.figure.prototype._root_extra_style = function (_canvas_div) {};\n",
       "\n",
       "mpl.figure.prototype._init_canvas = function () {\n",
       "    var fig = this;\n",
       "\n",
       "    var canvas_div = (this.canvas_div = document.createElement('div'));\n",
       "    canvas_div.setAttribute(\n",
       "        'style',\n",
       "        'border: 1px solid #ddd;' +\n",
       "            'box-sizing: content-box;' +\n",
       "            'clear: both;' +\n",
       "            'min-height: 1px;' +\n",
       "            'min-width: 1px;' +\n",
       "            'outline: 0;' +\n",
       "            'overflow: hidden;' +\n",
       "            'position: relative;' +\n",
       "            'resize: both;'\n",
       "    );\n",
       "\n",
       "    function on_keyboard_event_closure(name) {\n",
       "        return function (event) {\n",
       "            return fig.key_event(event, name);\n",
       "        };\n",
       "    }\n",
       "\n",
       "    canvas_div.addEventListener(\n",
       "        'keydown',\n",
       "        on_keyboard_event_closure('key_press')\n",
       "    );\n",
       "    canvas_div.addEventListener(\n",
       "        'keyup',\n",
       "        on_keyboard_event_closure('key_release')\n",
       "    );\n",
       "\n",
       "    this._canvas_extra_style(canvas_div);\n",
       "    this.root.appendChild(canvas_div);\n",
       "\n",
       "    var canvas = (this.canvas = document.createElement('canvas'));\n",
       "    canvas.classList.add('mpl-canvas');\n",
       "    canvas.setAttribute('style', 'box-sizing: content-box;');\n",
       "\n",
       "    this.context = canvas.getContext('2d');\n",
       "\n",
       "    var backingStore =\n",
       "        this.context.backingStorePixelRatio ||\n",
       "        this.context.webkitBackingStorePixelRatio ||\n",
       "        this.context.mozBackingStorePixelRatio ||\n",
       "        this.context.msBackingStorePixelRatio ||\n",
       "        this.context.oBackingStorePixelRatio ||\n",
       "        this.context.backingStorePixelRatio ||\n",
       "        1;\n",
       "\n",
       "    this.ratio = (window.devicePixelRatio || 1) / backingStore;\n",
       "\n",
       "    var rubberband_canvas = (this.rubberband_canvas = document.createElement(\n",
       "        'canvas'\n",
       "    ));\n",
       "    rubberband_canvas.setAttribute(\n",
       "        'style',\n",
       "        'box-sizing: content-box; position: absolute; left: 0; top: 0; z-index: 1;'\n",
       "    );\n",
       "\n",
       "    // Apply a ponyfill if ResizeObserver is not implemented by browser.\n",
       "    if (this.ResizeObserver === undefined) {\n",
       "        if (window.ResizeObserver !== undefined) {\n",
       "            this.ResizeObserver = window.ResizeObserver;\n",
       "        } else {\n",
       "            var obs = _JSXTOOLS_RESIZE_OBSERVER({});\n",
       "            this.ResizeObserver = obs.ResizeObserver;\n",
       "        }\n",
       "    }\n",
       "\n",
       "    this.resizeObserverInstance = new this.ResizeObserver(function (entries) {\n",
       "        var nentries = entries.length;\n",
       "        for (var i = 0; i < nentries; i++) {\n",
       "            var entry = entries[i];\n",
       "            var width, height;\n",
       "            if (entry.contentBoxSize) {\n",
       "                if (entry.contentBoxSize instanceof Array) {\n",
       "                    // Chrome 84 implements new version of spec.\n",
       "                    width = entry.contentBoxSize[0].inlineSize;\n",
       "                    height = entry.contentBoxSize[0].blockSize;\n",
       "                } else {\n",
       "                    // Firefox implements old version of spec.\n",
       "                    width = entry.contentBoxSize.inlineSize;\n",
       "                    height = entry.contentBoxSize.blockSize;\n",
       "                }\n",
       "            } else {\n",
       "                // Chrome <84 implements even older version of spec.\n",
       "                width = entry.contentRect.width;\n",
       "                height = entry.contentRect.height;\n",
       "            }\n",
       "\n",
       "            // Keep the size of the canvas and rubber band canvas in sync with\n",
       "            // the canvas container.\n",
       "            if (entry.devicePixelContentBoxSize) {\n",
       "                // Chrome 84 implements new version of spec.\n",
       "                canvas.setAttribute(\n",
       "                    'width',\n",
       "                    entry.devicePixelContentBoxSize[0].inlineSize\n",
       "                );\n",
       "                canvas.setAttribute(\n",
       "                    'height',\n",
       "                    entry.devicePixelContentBoxSize[0].blockSize\n",
       "                );\n",
       "            } else {\n",
       "                canvas.setAttribute('width', width * fig.ratio);\n",
       "                canvas.setAttribute('height', height * fig.ratio);\n",
       "            }\n",
       "            canvas.setAttribute(\n",
       "                'style',\n",
       "                'width: ' + width + 'px; height: ' + height + 'px;'\n",
       "            );\n",
       "\n",
       "            rubberband_canvas.setAttribute('width', width);\n",
       "            rubberband_canvas.setAttribute('height', height);\n",
       "\n",
       "            // And update the size in Python. We ignore the initial 0/0 size\n",
       "            // that occurs as the element is placed into the DOM, which should\n",
       "            // otherwise not happen due to the minimum size styling.\n",
       "            if (fig.ws.readyState == 1 && width != 0 && height != 0) {\n",
       "                fig.request_resize(width, height);\n",
       "            }\n",
       "        }\n",
       "    });\n",
       "    this.resizeObserverInstance.observe(canvas_div);\n",
       "\n",
       "    function on_mouse_event_closure(name) {\n",
       "        return function (event) {\n",
       "            return fig.mouse_event(event, name);\n",
       "        };\n",
       "    }\n",
       "\n",
       "    rubberband_canvas.addEventListener(\n",
       "        'mousedown',\n",
       "        on_mouse_event_closure('button_press')\n",
       "    );\n",
       "    rubberband_canvas.addEventListener(\n",
       "        'mouseup',\n",
       "        on_mouse_event_closure('button_release')\n",
       "    );\n",
       "    rubberband_canvas.addEventListener(\n",
       "        'dblclick',\n",
       "        on_mouse_event_closure('dblclick')\n",
       "    );\n",
       "    // Throttle sequential mouse events to 1 every 20ms.\n",
       "    rubberband_canvas.addEventListener(\n",
       "        'mousemove',\n",
       "        on_mouse_event_closure('motion_notify')\n",
       "    );\n",
       "\n",
       "    rubberband_canvas.addEventListener(\n",
       "        'mouseenter',\n",
       "        on_mouse_event_closure('figure_enter')\n",
       "    );\n",
       "    rubberband_canvas.addEventListener(\n",
       "        'mouseleave',\n",
       "        on_mouse_event_closure('figure_leave')\n",
       "    );\n",
       "\n",
       "    canvas_div.addEventListener('wheel', function (event) {\n",
       "        if (event.deltaY < 0) {\n",
       "            event.step = 1;\n",
       "        } else {\n",
       "            event.step = -1;\n",
       "        }\n",
       "        on_mouse_event_closure('scroll')(event);\n",
       "    });\n",
       "\n",
       "    canvas_div.appendChild(canvas);\n",
       "    canvas_div.appendChild(rubberband_canvas);\n",
       "\n",
       "    this.rubberband_context = rubberband_canvas.getContext('2d');\n",
       "    this.rubberband_context.strokeStyle = '#000000';\n",
       "\n",
       "    this._resize_canvas = function (width, height, forward) {\n",
       "        if (forward) {\n",
       "            canvas_div.style.width = width + 'px';\n",
       "            canvas_div.style.height = height + 'px';\n",
       "        }\n",
       "    };\n",
       "\n",
       "    // Disable right mouse context menu.\n",
       "    this.rubberband_canvas.addEventListener('contextmenu', function (_e) {\n",
       "        event.preventDefault();\n",
       "        return false;\n",
       "    });\n",
       "\n",
       "    function set_focus() {\n",
       "        canvas.focus();\n",
       "        canvas_div.focus();\n",
       "    }\n",
       "\n",
       "    window.setTimeout(set_focus, 100);\n",
       "};\n",
       "\n",
       "mpl.figure.prototype._init_toolbar = function () {\n",
       "    var fig = this;\n",
       "\n",
       "    var toolbar = document.createElement('div');\n",
       "    toolbar.classList = 'mpl-toolbar';\n",
       "    this.root.appendChild(toolbar);\n",
       "\n",
       "    function on_click_closure(name) {\n",
       "        return function (_event) {\n",
       "            return fig.toolbar_button_onclick(name);\n",
       "        };\n",
       "    }\n",
       "\n",
       "    function on_mouseover_closure(tooltip) {\n",
       "        return function (event) {\n",
       "            if (!event.currentTarget.disabled) {\n",
       "                return fig.toolbar_button_onmouseover(tooltip);\n",
       "            }\n",
       "        };\n",
       "    }\n",
       "\n",
       "    fig.buttons = {};\n",
       "    var buttonGroup = document.createElement('div');\n",
       "    buttonGroup.classList = 'mpl-button-group';\n",
       "    for (var toolbar_ind in mpl.toolbar_items) {\n",
       "        var name = mpl.toolbar_items[toolbar_ind][0];\n",
       "        var tooltip = mpl.toolbar_items[toolbar_ind][1];\n",
       "        var image = mpl.toolbar_items[toolbar_ind][2];\n",
       "        var method_name = mpl.toolbar_items[toolbar_ind][3];\n",
       "\n",
       "        if (!name) {\n",
       "            /* Instead of a spacer, we start a new button group. */\n",
       "            if (buttonGroup.hasChildNodes()) {\n",
       "                toolbar.appendChild(buttonGroup);\n",
       "            }\n",
       "            buttonGroup = document.createElement('div');\n",
       "            buttonGroup.classList = 'mpl-button-group';\n",
       "            continue;\n",
       "        }\n",
       "\n",
       "        var button = (fig.buttons[name] = document.createElement('button'));\n",
       "        button.classList = 'mpl-widget';\n",
       "        button.setAttribute('role', 'button');\n",
       "        button.setAttribute('aria-disabled', 'false');\n",
       "        button.addEventListener('click', on_click_closure(method_name));\n",
       "        button.addEventListener('mouseover', on_mouseover_closure(tooltip));\n",
       "\n",
       "        var icon_img = document.createElement('img');\n",
       "        icon_img.src = '_images/' + image + '.png';\n",
       "        icon_img.srcset = '_images/' + image + '_large.png 2x';\n",
       "        icon_img.alt = tooltip;\n",
       "        button.appendChild(icon_img);\n",
       "\n",
       "        buttonGroup.appendChild(button);\n",
       "    }\n",
       "\n",
       "    if (buttonGroup.hasChildNodes()) {\n",
       "        toolbar.appendChild(buttonGroup);\n",
       "    }\n",
       "\n",
       "    var fmt_picker = document.createElement('select');\n",
       "    fmt_picker.classList = 'mpl-widget';\n",
       "    toolbar.appendChild(fmt_picker);\n",
       "    this.format_dropdown = fmt_picker;\n",
       "\n",
       "    for (var ind in mpl.extensions) {\n",
       "        var fmt = mpl.extensions[ind];\n",
       "        var option = document.createElement('option');\n",
       "        option.selected = fmt === mpl.default_extension;\n",
       "        option.innerHTML = fmt;\n",
       "        fmt_picker.appendChild(option);\n",
       "    }\n",
       "\n",
       "    var status_bar = document.createElement('span');\n",
       "    status_bar.classList = 'mpl-message';\n",
       "    toolbar.appendChild(status_bar);\n",
       "    this.message = status_bar;\n",
       "};\n",
       "\n",
       "mpl.figure.prototype.request_resize = function (x_pixels, y_pixels) {\n",
       "    // Request matplotlib to resize the figure. Matplotlib will then trigger a resize in the client,\n",
       "    // which will in turn request a refresh of the image.\n",
       "    this.send_message('resize', { width: x_pixels, height: y_pixels });\n",
       "};\n",
       "\n",
       "mpl.figure.prototype.send_message = function (type, properties) {\n",
       "    properties['type'] = type;\n",
       "    properties['figure_id'] = this.id;\n",
       "    this.ws.send(JSON.stringify(properties));\n",
       "};\n",
       "\n",
       "mpl.figure.prototype.send_draw_message = function () {\n",
       "    if (!this.waiting) {\n",
       "        this.waiting = true;\n",
       "        this.ws.send(JSON.stringify({ type: 'draw', figure_id: this.id }));\n",
       "    }\n",
       "};\n",
       "\n",
       "mpl.figure.prototype.handle_save = function (fig, _msg) {\n",
       "    var format_dropdown = fig.format_dropdown;\n",
       "    var format = format_dropdown.options[format_dropdown.selectedIndex].value;\n",
       "    fig.ondownload(fig, format);\n",
       "};\n",
       "\n",
       "mpl.figure.prototype.handle_resize = function (fig, msg) {\n",
       "    var size = msg['size'];\n",
       "    if (size[0] !== fig.canvas.width || size[1] !== fig.canvas.height) {\n",
       "        fig._resize_canvas(size[0], size[1], msg['forward']);\n",
       "        fig.send_message('refresh', {});\n",
       "    }\n",
       "};\n",
       "\n",
       "mpl.figure.prototype.handle_rubberband = function (fig, msg) {\n",
       "    var x0 = msg['x0'] / fig.ratio;\n",
       "    var y0 = (fig.canvas.height - msg['y0']) / fig.ratio;\n",
       "    var x1 = msg['x1'] / fig.ratio;\n",
       "    var y1 = (fig.canvas.height - msg['y1']) / fig.ratio;\n",
       "    x0 = Math.floor(x0) + 0.5;\n",
       "    y0 = Math.floor(y0) + 0.5;\n",
       "    x1 = Math.floor(x1) + 0.5;\n",
       "    y1 = Math.floor(y1) + 0.5;\n",
       "    var min_x = Math.min(x0, x1);\n",
       "    var min_y = Math.min(y0, y1);\n",
       "    var width = Math.abs(x1 - x0);\n",
       "    var height = Math.abs(y1 - y0);\n",
       "\n",
       "    fig.rubberband_context.clearRect(\n",
       "        0,\n",
       "        0,\n",
       "        fig.canvas.width / fig.ratio,\n",
       "        fig.canvas.height / fig.ratio\n",
       "    );\n",
       "\n",
       "    fig.rubberband_context.strokeRect(min_x, min_y, width, height);\n",
       "};\n",
       "\n",
       "mpl.figure.prototype.handle_figure_label = function (fig, msg) {\n",
       "    // Updates the figure title.\n",
       "    fig.header.textContent = msg['label'];\n",
       "};\n",
       "\n",
       "mpl.figure.prototype.handle_cursor = function (fig, msg) {\n",
       "    fig.rubberband_canvas.style.cursor = msg['cursor'];\n",
       "};\n",
       "\n",
       "mpl.figure.prototype.handle_message = function (fig, msg) {\n",
       "    fig.message.textContent = msg['message'];\n",
       "};\n",
       "\n",
       "mpl.figure.prototype.handle_draw = function (fig, _msg) {\n",
       "    // Request the server to send over a new figure.\n",
       "    fig.send_draw_message();\n",
       "};\n",
       "\n",
       "mpl.figure.prototype.handle_image_mode = function (fig, msg) {\n",
       "    fig.image_mode = msg['mode'];\n",
       "};\n",
       "\n",
       "mpl.figure.prototype.handle_history_buttons = function (fig, msg) {\n",
       "    for (var key in msg) {\n",
       "        if (!(key in fig.buttons)) {\n",
       "            continue;\n",
       "        }\n",
       "        fig.buttons[key].disabled = !msg[key];\n",
       "        fig.buttons[key].setAttribute('aria-disabled', !msg[key]);\n",
       "    }\n",
       "};\n",
       "\n",
       "mpl.figure.prototype.handle_navigate_mode = function (fig, msg) {\n",
       "    if (msg['mode'] === 'PAN') {\n",
       "        fig.buttons['Pan'].classList.add('active');\n",
       "        fig.buttons['Zoom'].classList.remove('active');\n",
       "    } else if (msg['mode'] === 'ZOOM') {\n",
       "        fig.buttons['Pan'].classList.remove('active');\n",
       "        fig.buttons['Zoom'].classList.add('active');\n",
       "    } else {\n",
       "        fig.buttons['Pan'].classList.remove('active');\n",
       "        fig.buttons['Zoom'].classList.remove('active');\n",
       "    }\n",
       "};\n",
       "\n",
       "mpl.figure.prototype.updated_canvas_event = function () {\n",
       "    // Called whenever the canvas gets updated.\n",
       "    this.send_message('ack', {});\n",
       "};\n",
       "\n",
       "// A function to construct a web socket function for onmessage handling.\n",
       "// Called in the figure constructor.\n",
       "mpl.figure.prototype._make_on_message_function = function (fig) {\n",
       "    return function socket_on_message(evt) {\n",
       "        if (evt.data instanceof Blob) {\n",
       "            var img = evt.data;\n",
       "            if (img.type !== 'image/png') {\n",
       "                /* FIXME: We get \"Resource interpreted as Image but\n",
       "                 * transferred with MIME type text/plain:\" errors on\n",
       "                 * Chrome.  But how to set the MIME type?  It doesn't seem\n",
       "                 * to be part of the websocket stream */\n",
       "                img.type = 'image/png';\n",
       "            }\n",
       "\n",
       "            /* Free the memory for the previous frames */\n",
       "            if (fig.imageObj.src) {\n",
       "                (window.URL || window.webkitURL).revokeObjectURL(\n",
       "                    fig.imageObj.src\n",
       "                );\n",
       "            }\n",
       "\n",
       "            fig.imageObj.src = (window.URL || window.webkitURL).createObjectURL(\n",
       "                img\n",
       "            );\n",
       "            fig.updated_canvas_event();\n",
       "            fig.waiting = false;\n",
       "            return;\n",
       "        } else if (\n",
       "            typeof evt.data === 'string' &&\n",
       "            evt.data.slice(0, 21) === 'data:image/png;base64'\n",
       "        ) {\n",
       "            fig.imageObj.src = evt.data;\n",
       "            fig.updated_canvas_event();\n",
       "            fig.waiting = false;\n",
       "            return;\n",
       "        }\n",
       "\n",
       "        var msg = JSON.parse(evt.data);\n",
       "        var msg_type = msg['type'];\n",
       "\n",
       "        // Call the  \"handle_{type}\" callback, which takes\n",
       "        // the figure and JSON message as its only arguments.\n",
       "        try {\n",
       "            var callback = fig['handle_' + msg_type];\n",
       "        } catch (e) {\n",
       "            console.log(\n",
       "                \"No handler for the '\" + msg_type + \"' message type: \",\n",
       "                msg\n",
       "            );\n",
       "            return;\n",
       "        }\n",
       "\n",
       "        if (callback) {\n",
       "            try {\n",
       "                // console.log(\"Handling '\" + msg_type + \"' message: \", msg);\n",
       "                callback(fig, msg);\n",
       "            } catch (e) {\n",
       "                console.log(\n",
       "                    \"Exception inside the 'handler_\" + msg_type + \"' callback:\",\n",
       "                    e,\n",
       "                    e.stack,\n",
       "                    msg\n",
       "                );\n",
       "            }\n",
       "        }\n",
       "    };\n",
       "};\n",
       "\n",
       "// from https://stackoverflow.com/questions/1114465/getting-mouse-location-in-canvas\n",
       "mpl.findpos = function (e) {\n",
       "    //this section is from http://www.quirksmode.org/js/events_properties.html\n",
       "    var targ;\n",
       "    if (!e) {\n",
       "        e = window.event;\n",
       "    }\n",
       "    if (e.target) {\n",
       "        targ = e.target;\n",
       "    } else if (e.srcElement) {\n",
       "        targ = e.srcElement;\n",
       "    }\n",
       "    if (targ.nodeType === 3) {\n",
       "        // defeat Safari bug\n",
       "        targ = targ.parentNode;\n",
       "    }\n",
       "\n",
       "    // pageX,Y are the mouse positions relative to the document\n",
       "    var boundingRect = targ.getBoundingClientRect();\n",
       "    var x = e.pageX - (boundingRect.left + document.body.scrollLeft);\n",
       "    var y = e.pageY - (boundingRect.top + document.body.scrollTop);\n",
       "\n",
       "    return { x: x, y: y };\n",
       "};\n",
       "\n",
       "/*\n",
       " * return a copy of an object with only non-object keys\n",
       " * we need this to avoid circular references\n",
       " * https://stackoverflow.com/a/24161582/3208463\n",
       " */\n",
       "function simpleKeys(original) {\n",
       "    return Object.keys(original).reduce(function (obj, key) {\n",
       "        if (typeof original[key] !== 'object') {\n",
       "            obj[key] = original[key];\n",
       "        }\n",
       "        return obj;\n",
       "    }, {});\n",
       "}\n",
       "\n",
       "mpl.figure.prototype.mouse_event = function (event, name) {\n",
       "    var canvas_pos = mpl.findpos(event);\n",
       "\n",
       "    if (name === 'button_press') {\n",
       "        this.canvas.focus();\n",
       "        this.canvas_div.focus();\n",
       "    }\n",
       "\n",
       "    var x = canvas_pos.x * this.ratio;\n",
       "    var y = canvas_pos.y * this.ratio;\n",
       "\n",
       "    this.send_message(name, {\n",
       "        x: x,\n",
       "        y: y,\n",
       "        button: event.button,\n",
       "        step: event.step,\n",
       "        guiEvent: simpleKeys(event),\n",
       "    });\n",
       "\n",
       "    /* This prevents the web browser from automatically changing to\n",
       "     * the text insertion cursor when the button is pressed.  We want\n",
       "     * to control all of the cursor setting manually through the\n",
       "     * 'cursor' event from matplotlib */\n",
       "    event.preventDefault();\n",
       "    return false;\n",
       "};\n",
       "\n",
       "mpl.figure.prototype._key_event_extra = function (_event, _name) {\n",
       "    // Handle any extra behaviour associated with a key event\n",
       "};\n",
       "\n",
       "mpl.figure.prototype.key_event = function (event, name) {\n",
       "    // Prevent repeat events\n",
       "    if (name === 'key_press') {\n",
       "        if (event.key === this._key) {\n",
       "            return;\n",
       "        } else {\n",
       "            this._key = event.key;\n",
       "        }\n",
       "    }\n",
       "    if (name === 'key_release') {\n",
       "        this._key = null;\n",
       "    }\n",
       "\n",
       "    var value = '';\n",
       "    if (event.ctrlKey && event.key !== 'Control') {\n",
       "        value += 'ctrl+';\n",
       "    }\n",
       "    else if (event.altKey && event.key !== 'Alt') {\n",
       "        value += 'alt+';\n",
       "    }\n",
       "    else if (event.shiftKey && event.key !== 'Shift') {\n",
       "        value += 'shift+';\n",
       "    }\n",
       "\n",
       "    value += 'k' + event.key;\n",
       "\n",
       "    this._key_event_extra(event, name);\n",
       "\n",
       "    this.send_message(name, { key: value, guiEvent: simpleKeys(event) });\n",
       "    return false;\n",
       "};\n",
       "\n",
       "mpl.figure.prototype.toolbar_button_onclick = function (name) {\n",
       "    if (name === 'download') {\n",
       "        this.handle_save(this, null);\n",
       "    } else {\n",
       "        this.send_message('toolbar_button', { name: name });\n",
       "    }\n",
       "};\n",
       "\n",
       "mpl.figure.prototype.toolbar_button_onmouseover = function (tooltip) {\n",
       "    this.message.textContent = tooltip;\n",
       "};\n",
       "\n",
       "///////////////// REMAINING CONTENT GENERATED BY embed_js.py /////////////////\n",
       "// prettier-ignore\n",
       "var _JSXTOOLS_RESIZE_OBSERVER=function(A){var t,i=new WeakMap,n=new WeakMap,a=new WeakMap,r=new WeakMap,o=new Set;function s(e){if(!(this instanceof s))throw new TypeError(\"Constructor requires 'new' operator\");i.set(this,e)}function h(){throw new TypeError(\"Function is not a constructor\")}function c(e,t,i,n){e=0 in arguments?Number(arguments[0]):0,t=1 in arguments?Number(arguments[1]):0,i=2 in arguments?Number(arguments[2]):0,n=3 in arguments?Number(arguments[3]):0,this.right=(this.x=this.left=e)+(this.width=i),this.bottom=(this.y=this.top=t)+(this.height=n),Object.freeze(this)}function d(){t=requestAnimationFrame(d);var s=new WeakMap,p=new Set;o.forEach((function(t){r.get(t).forEach((function(i){var r=t instanceof window.SVGElement,o=a.get(t),d=r?0:parseFloat(o.paddingTop),f=r?0:parseFloat(o.paddingRight),l=r?0:parseFloat(o.paddingBottom),u=r?0:parseFloat(o.paddingLeft),g=r?0:parseFloat(o.borderTopWidth),m=r?0:parseFloat(o.borderRightWidth),w=r?0:parseFloat(o.borderBottomWidth),b=u+f,F=d+l,v=(r?0:parseFloat(o.borderLeftWidth))+m,W=g+w,y=r?0:t.offsetHeight-W-t.clientHeight,E=r?0:t.offsetWidth-v-t.clientWidth,R=b+v,z=F+W,M=r?t.width:parseFloat(o.width)-R-E,O=r?t.height:parseFloat(o.height)-z-y;if(n.has(t)){var k=n.get(t);if(k[0]===M&&k[1]===O)return}n.set(t,[M,O]);var S=Object.create(h.prototype);S.target=t,S.contentRect=new c(u,d,M,O),s.has(i)||(s.set(i,[]),p.add(i)),s.get(i).push(S)}))})),p.forEach((function(e){i.get(e).call(e,s.get(e),e)}))}return s.prototype.observe=function(i){if(i instanceof window.Element){r.has(i)||(r.set(i,new Set),o.add(i),a.set(i,window.getComputedStyle(i)));var n=r.get(i);n.has(this)||n.add(this),cancelAnimationFrame(t),t=requestAnimationFrame(d)}},s.prototype.unobserve=function(i){if(i instanceof window.Element&&r.has(i)){var n=r.get(i);n.has(this)&&(n.delete(this),n.size||(r.delete(i),o.delete(i))),n.size||r.delete(i),o.size||cancelAnimationFrame(t)}},A.DOMRectReadOnly=c,A.ResizeObserver=s,A.ResizeObserverEntry=h,A}; // eslint-disable-line\n",
       "mpl.toolbar_items = [[\"Home\", \"Reset original view\", \"fa fa-home icon-home\", \"home\"], [\"Back\", \"Back to previous view\", \"fa fa-arrow-left icon-arrow-left\", \"back\"], [\"Forward\", \"Forward to next view\", \"fa fa-arrow-right icon-arrow-right\", \"forward\"], [\"\", \"\", \"\", \"\"], [\"Pan\", \"Left button pans, Right button zooms\\nx/y fixes axis, CTRL fixes aspect\", \"fa fa-arrows icon-move\", \"pan\"], [\"Zoom\", \"Zoom to rectangle\\nx/y fixes axis\", \"fa fa-square-o icon-check-empty\", \"zoom\"], [\"\", \"\", \"\", \"\"], [\"Download\", \"Download plot\", \"fa fa-floppy-o icon-save\", \"download\"]];\n",
       "\n",
       "mpl.extensions = [\"eps\", \"jpeg\", \"pgf\", \"pdf\", \"png\", \"ps\", \"raw\", \"svg\", \"tif\"];\n",
       "\n",
       "mpl.default_extension = \"png\";/* global mpl */\n",
       "\n",
       "var comm_websocket_adapter = function (comm) {\n",
       "    // Create a \"websocket\"-like object which calls the given IPython comm\n",
       "    // object with the appropriate methods. Currently this is a non binary\n",
       "    // socket, so there is still some room for performance tuning.\n",
       "    var ws = {};\n",
       "\n",
       "    ws.binaryType = comm.kernel.ws.binaryType;\n",
       "    ws.readyState = comm.kernel.ws.readyState;\n",
       "    function updateReadyState(_event) {\n",
       "        if (comm.kernel.ws) {\n",
       "            ws.readyState = comm.kernel.ws.readyState;\n",
       "        } else {\n",
       "            ws.readyState = 3; // Closed state.\n",
       "        }\n",
       "    }\n",
       "    comm.kernel.ws.addEventListener('open', updateReadyState);\n",
       "    comm.kernel.ws.addEventListener('close', updateReadyState);\n",
       "    comm.kernel.ws.addEventListener('error', updateReadyState);\n",
       "\n",
       "    ws.close = function () {\n",
       "        comm.close();\n",
       "    };\n",
       "    ws.send = function (m) {\n",
       "        //console.log('sending', m);\n",
       "        comm.send(m);\n",
       "    };\n",
       "    // Register the callback with on_msg.\n",
       "    comm.on_msg(function (msg) {\n",
       "        //console.log('receiving', msg['content']['data'], msg);\n",
       "        var data = msg['content']['data'];\n",
       "        if (data['blob'] !== undefined) {\n",
       "            data = {\n",
       "                data: new Blob(msg['buffers'], { type: data['blob'] }),\n",
       "            };\n",
       "        }\n",
       "        // Pass the mpl event to the overridden (by mpl) onmessage function.\n",
       "        ws.onmessage(data);\n",
       "    });\n",
       "    return ws;\n",
       "};\n",
       "\n",
       "mpl.mpl_figure_comm = function (comm, msg) {\n",
       "    // This is the function which gets called when the mpl process\n",
       "    // starts-up an IPython Comm through the \"matplotlib\" channel.\n",
       "\n",
       "    var id = msg.content.data.id;\n",
       "    // Get hold of the div created by the display call when the Comm\n",
       "    // socket was opened in Python.\n",
       "    var element = document.getElementById(id);\n",
       "    var ws_proxy = comm_websocket_adapter(comm);\n",
       "\n",
       "    function ondownload(figure, _format) {\n",
       "        window.open(figure.canvas.toDataURL());\n",
       "    }\n",
       "\n",
       "    var fig = new mpl.figure(id, ws_proxy, ondownload, element);\n",
       "\n",
       "    // Call onopen now - mpl needs it, as it is assuming we've passed it a real\n",
       "    // web socket which is closed, not our websocket->open comm proxy.\n",
       "    ws_proxy.onopen();\n",
       "\n",
       "    fig.parent_element = element;\n",
       "    fig.cell_info = mpl.find_output_cell(\"<div id='\" + id + \"'></div>\");\n",
       "    if (!fig.cell_info) {\n",
       "        console.error('Failed to find cell for figure', id, fig);\n",
       "        return;\n",
       "    }\n",
       "    fig.cell_info[0].output_area.element.on(\n",
       "        'cleared',\n",
       "        { fig: fig },\n",
       "        fig._remove_fig_handler\n",
       "    );\n",
       "};\n",
       "\n",
       "mpl.figure.prototype.handle_close = function (fig, msg) {\n",
       "    var width = fig.canvas.width / fig.ratio;\n",
       "    fig.cell_info[0].output_area.element.off(\n",
       "        'cleared',\n",
       "        fig._remove_fig_handler\n",
       "    );\n",
       "    fig.resizeObserverInstance.unobserve(fig.canvas_div);\n",
       "\n",
       "    // Update the output cell to use the data from the current canvas.\n",
       "    fig.push_to_output();\n",
       "    var dataURL = fig.canvas.toDataURL();\n",
       "    // Re-enable the keyboard manager in IPython - without this line, in FF,\n",
       "    // the notebook keyboard shortcuts fail.\n",
       "    IPython.keyboard_manager.enable();\n",
       "    fig.parent_element.innerHTML =\n",
       "        '<img src=\"' + dataURL + '\" width=\"' + width + '\">';\n",
       "    fig.close_ws(fig, msg);\n",
       "};\n",
       "\n",
       "mpl.figure.prototype.close_ws = function (fig, msg) {\n",
       "    fig.send_message('closing', msg);\n",
       "    // fig.ws.close()\n",
       "};\n",
       "\n",
       "mpl.figure.prototype.push_to_output = function (_remove_interactive) {\n",
       "    // Turn the data on the canvas into data in the output cell.\n",
       "    var width = this.canvas.width / this.ratio;\n",
       "    var dataURL = this.canvas.toDataURL();\n",
       "    this.cell_info[1]['text/html'] =\n",
       "        '<img src=\"' + dataURL + '\" width=\"' + width + '\">';\n",
       "};\n",
       "\n",
       "mpl.figure.prototype.updated_canvas_event = function () {\n",
       "    // Tell IPython that the notebook contents must change.\n",
       "    IPython.notebook.set_dirty(true);\n",
       "    this.send_message('ack', {});\n",
       "    var fig = this;\n",
       "    // Wait a second, then push the new image to the DOM so\n",
       "    // that it is saved nicely (might be nice to debounce this).\n",
       "    setTimeout(function () {\n",
       "        fig.push_to_output();\n",
       "    }, 1000);\n",
       "};\n",
       "\n",
       "mpl.figure.prototype._init_toolbar = function () {\n",
       "    var fig = this;\n",
       "\n",
       "    var toolbar = document.createElement('div');\n",
       "    toolbar.classList = 'btn-toolbar';\n",
       "    this.root.appendChild(toolbar);\n",
       "\n",
       "    function on_click_closure(name) {\n",
       "        return function (_event) {\n",
       "            return fig.toolbar_button_onclick(name);\n",
       "        };\n",
       "    }\n",
       "\n",
       "    function on_mouseover_closure(tooltip) {\n",
       "        return function (event) {\n",
       "            if (!event.currentTarget.disabled) {\n",
       "                return fig.toolbar_button_onmouseover(tooltip);\n",
       "            }\n",
       "        };\n",
       "    }\n",
       "\n",
       "    fig.buttons = {};\n",
       "    var buttonGroup = document.createElement('div');\n",
       "    buttonGroup.classList = 'btn-group';\n",
       "    var button;\n",
       "    for (var toolbar_ind in mpl.toolbar_items) {\n",
       "        var name = mpl.toolbar_items[toolbar_ind][0];\n",
       "        var tooltip = mpl.toolbar_items[toolbar_ind][1];\n",
       "        var image = mpl.toolbar_items[toolbar_ind][2];\n",
       "        var method_name = mpl.toolbar_items[toolbar_ind][3];\n",
       "\n",
       "        if (!name) {\n",
       "            /* Instead of a spacer, we start a new button group. */\n",
       "            if (buttonGroup.hasChildNodes()) {\n",
       "                toolbar.appendChild(buttonGroup);\n",
       "            }\n",
       "            buttonGroup = document.createElement('div');\n",
       "            buttonGroup.classList = 'btn-group';\n",
       "            continue;\n",
       "        }\n",
       "\n",
       "        button = fig.buttons[name] = document.createElement('button');\n",
       "        button.classList = 'btn btn-default';\n",
       "        button.href = '#';\n",
       "        button.title = name;\n",
       "        button.innerHTML = '<i class=\"fa ' + image + ' fa-lg\"></i>';\n",
       "        button.addEventListener('click', on_click_closure(method_name));\n",
       "        button.addEventListener('mouseover', on_mouseover_closure(tooltip));\n",
       "        buttonGroup.appendChild(button);\n",
       "    }\n",
       "\n",
       "    if (buttonGroup.hasChildNodes()) {\n",
       "        toolbar.appendChild(buttonGroup);\n",
       "    }\n",
       "\n",
       "    // Add the status bar.\n",
       "    var status_bar = document.createElement('span');\n",
       "    status_bar.classList = 'mpl-message pull-right';\n",
       "    toolbar.appendChild(status_bar);\n",
       "    this.message = status_bar;\n",
       "\n",
       "    // Add the close button to the window.\n",
       "    var buttongrp = document.createElement('div');\n",
       "    buttongrp.classList = 'btn-group inline pull-right';\n",
       "    button = document.createElement('button');\n",
       "    button.classList = 'btn btn-mini btn-primary';\n",
       "    button.href = '#';\n",
       "    button.title = 'Stop Interaction';\n",
       "    button.innerHTML = '<i class=\"fa fa-power-off icon-remove icon-large\"></i>';\n",
       "    button.addEventListener('click', function (_evt) {\n",
       "        fig.handle_close(fig, {});\n",
       "    });\n",
       "    button.addEventListener(\n",
       "        'mouseover',\n",
       "        on_mouseover_closure('Stop Interaction')\n",
       "    );\n",
       "    buttongrp.appendChild(button);\n",
       "    var titlebar = this.root.querySelector('.ui-dialog-titlebar');\n",
       "    titlebar.insertBefore(buttongrp, titlebar.firstChild);\n",
       "};\n",
       "\n",
       "mpl.figure.prototype._remove_fig_handler = function (event) {\n",
       "    var fig = event.data.fig;\n",
       "    if (event.target !== this) {\n",
       "        // Ignore bubbled events from children.\n",
       "        return;\n",
       "    }\n",
       "    fig.close_ws(fig, {});\n",
       "};\n",
       "\n",
       "mpl.figure.prototype._root_extra_style = function (el) {\n",
       "    el.style.boxSizing = 'content-box'; // override notebook setting of border-box.\n",
       "};\n",
       "\n",
       "mpl.figure.prototype._canvas_extra_style = function (el) {\n",
       "    // this is important to make the div 'focusable\n",
       "    el.setAttribute('tabindex', 0);\n",
       "    // reach out to IPython and tell the keyboard manager to turn it's self\n",
       "    // off when our div gets focus\n",
       "\n",
       "    // location in version 3\n",
       "    if (IPython.notebook.keyboard_manager) {\n",
       "        IPython.notebook.keyboard_manager.register_events(el);\n",
       "    } else {\n",
       "        // location in version 2\n",
       "        IPython.keyboard_manager.register_events(el);\n",
       "    }\n",
       "};\n",
       "\n",
       "mpl.figure.prototype._key_event_extra = function (event, _name) {\n",
       "    // Check for shift+enter\n",
       "    if (event.shiftKey && event.which === 13) {\n",
       "        this.canvas_div.blur();\n",
       "        // select the cell after this one\n",
       "        var index = IPython.notebook.find_cell_index(this.cell_info[0]);\n",
       "        IPython.notebook.select(index + 1);\n",
       "    }\n",
       "};\n",
       "\n",
       "mpl.figure.prototype.handle_save = function (fig, _msg) {\n",
       "    fig.ondownload(fig, null);\n",
       "};\n",
       "\n",
       "mpl.find_output_cell = function (html_output) {\n",
       "    // Return the cell and output element which can be found *uniquely* in the notebook.\n",
       "    // Note - this is a bit hacky, but it is done because the \"notebook_saving.Notebook\"\n",
       "    // IPython event is triggered only after the cells have been serialised, which for\n",
       "    // our purposes (turning an active figure into a static one), is too late.\n",
       "    var cells = IPython.notebook.get_cells();\n",
       "    var ncells = cells.length;\n",
       "    for (var i = 0; i < ncells; i++) {\n",
       "        var cell = cells[i];\n",
       "        if (cell.cell_type === 'code') {\n",
       "            for (var j = 0; j < cell.output_area.outputs.length; j++) {\n",
       "                var data = cell.output_area.outputs[j];\n",
       "                if (data.data) {\n",
       "                    // IPython >= 3 moved mimebundle to data attribute of output\n",
       "                    data = data.data;\n",
       "                }\n",
       "                if (data['text/html'] === html_output) {\n",
       "                    return [cell, data, j];\n",
       "                }\n",
       "            }\n",
       "        }\n",
       "    }\n",
       "};\n",
       "\n",
       "// Register the function which deals with the matplotlib target/channel.\n",
       "// The kernel may be null if the page has been refreshed.\n",
       "if (IPython.notebook.kernel !== null) {\n",
       "    IPython.notebook.kernel.comm_manager.register_target(\n",
       "        'matplotlib',\n",
       "        mpl.mpl_figure_comm\n",
       "    );\n",
       "}\n"
      ],
      "text/plain": [
       "<IPython.core.display.Javascript object>"
      ]
     },
     "metadata": {},
     "output_type": "display_data"
    },
    {
     "data": {
      "text/html": [
       "<img src=\"data:image/png;base64,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\" width=\"640\">"
      ],
      "text/plain": [
       "<IPython.core.display.HTML object>"
      ]
     },
     "metadata": {},
     "output_type": "display_data"
    }
   ],
   "source": [
    "plt.figure()\n",
    "seaborn.heatmap(rearrange,xticklabels=regions,yticklabels=regions)\n",
    "plt.savefig(\"figures/66t.Numaps.orderedheatmap.\"+writebatch+\".png\")\n",
    "plt.savefig(\"figures/66t.Numaps.orderedheatmap.\"+writebatch+\".svg\")"
   ]
  },
  {
   "cell_type": "markdown",
   "metadata": {},
   "source": [
    "# scramble"
   ]
  },
  {
   "cell_type": "code",
   "execution_count": 29,
   "metadata": {},
   "outputs": [],
   "source": [
    "def disarrange(a, axis=-1):\n",
    "    \"\"\"\n",
    "    Shuffle `a` in-place along the given axis.\n",
    "\n",
    "    Apply numpy.random.shuffle to the given axis of `a`.\n",
    "    Each one-dimensional slice is shuffled independently.\n",
    "    \"\"\"\n",
    "    b = a.swapaxes(axis, -1)\n",
    "    # Shuffle `b` in-place along the last axis.  `b` is a view of `a`,\n",
    "    # so `a` is shuffled in place, too.\n",
    "    shp = b.shape[:-1]\n",
    "    for ndx in numpy.ndindex(shp):\n",
    "        numpy.random.shuffle(b[ndx])\n",
    "    return"
   ]
  },
  {
   "cell_type": "code",
   "execution_count": 30,
   "metadata": {},
   "outputs": [
    {
     "data": {
      "text/plain": [
       "array([-1.11022302e-15,  0.00000000e+00, -3.33066907e-16, -1.27675648e-15,\n",
       "       -2.22044605e-16,  1.11022302e-15,  5.55111512e-16,  7.77156117e-16,\n",
       "       -1.08246745e-15, -6.66133815e-16, -8.88178420e-16, -8.27463098e-16,\n",
       "        9.99200722e-16, -1.22124533e-15,  0.00000000e+00,  0.00000000e+00,\n",
       "       -1.33226763e-15,  4.44089210e-16, -1.60982339e-15, -1.66533454e-15,\n",
       "       -3.33066907e-16,  2.22044605e-16, -4.44089210e-16,  6.66133815e-16,\n",
       "        2.22044605e-16, -4.99600361e-16, -4.44089210e-16,  2.22044605e-16,\n",
       "        2.22044605e-16,  3.05311332e-16, -6.76542156e-17, -8.88178420e-16,\n",
       "       -6.66133815e-16, -6.24500451e-17,  1.11022302e-15,  1.05471187e-15,\n",
       "        9.92261828e-16,  4.44089210e-16, -2.10942375e-15,  1.11022302e-16,\n",
       "        1.99840144e-15, -8.88178420e-16,  6.66133815e-16, -2.22044605e-16,\n",
       "       -2.22044605e-16,  2.22044605e-16,  0.00000000e+00, -1.11022302e-16,\n",
       "        4.44089210e-16,  2.08166817e-16, -1.11022302e-16,  6.66133815e-16,\n",
       "       -1.11022302e-16,  1.02695630e-15, -5.55111512e-16,  5.55111512e-17,\n",
       "       -1.11022302e-15])"
      ]
     },
     "execution_count": 30,
     "metadata": {},
     "output_type": "execute_result"
    }
   ],
   "source": [
    "shuffle = z_scaled_features_t.copy()\n",
    "disarrange(shuffle, axis=1)\n",
    "shuffle.sum(axis=1)"
   ]
  },
  {
   "cell_type": "code",
   "execution_count": 31,
   "metadata": {},
   "outputs": [],
   "source": [
    "N = 20\n",
    "shuffle_umap_distances = numpy.zeros((len(cols),len(cols),N,))\n",
    "for n in range(0,N):\n",
    "    embedding=umap.UMAP(n_neighbors=5,min_dist=0.5,metric='euclidean').fit_transform(shuffle)\n",
    "    for r1 in range(0,len(cols)):\n",
    "        for r2 in range(0,len(cols)):\n",
    "            d = numpy.sum(numpy.abs(embedding[r1]-embedding[r2]))**(0.5)\n",
    "            shuffle_umap_distances[r1,r2,n]=d\n",
    "    max_distance = numpy.max(shuffle_umap_distances[:,:,n])\n",
    "    shuffle_umap_distances[:,:,n] = shuffle_umap_distances[:,:,n]/max_distance\n",
    "shuffle_umap_distances_means = numpy.mean(umap_distances,axis=2)"
   ]
  },
  {
   "cell_type": "code",
   "execution_count": 32,
   "metadata": {},
   "outputs": [
    {
     "data": {
      "application/javascript": [
       "/* Put everything inside the global mpl namespace */\n",
       "/* global mpl */\n",
       "window.mpl = {};\n",
       "\n",
       "mpl.get_websocket_type = function () {\n",
       "    if (typeof WebSocket !== 'undefined') {\n",
       "        return WebSocket;\n",
       "    } else if (typeof MozWebSocket !== 'undefined') {\n",
       "        return MozWebSocket;\n",
       "    } else {\n",
       "        alert(\n",
       "            'Your browser does not have WebSocket support. ' +\n",
       "                'Please try Chrome, Safari or Firefox ≥ 6. ' +\n",
       "                'Firefox 4 and 5 are also supported but you ' +\n",
       "                'have to enable WebSockets in about:config.'\n",
       "        );\n",
       "    }\n",
       "};\n",
       "\n",
       "mpl.figure = function (figure_id, websocket, ondownload, parent_element) {\n",
       "    this.id = figure_id;\n",
       "\n",
       "    this.ws = websocket;\n",
       "\n",
       "    this.supports_binary = this.ws.binaryType !== undefined;\n",
       "\n",
       "    if (!this.supports_binary) {\n",
       "        var warnings = document.getElementById('mpl-warnings');\n",
       "        if (warnings) {\n",
       "            warnings.style.display = 'block';\n",
       "            warnings.textContent =\n",
       "                'This browser does not support binary websocket messages. ' +\n",
       "                'Performance may be slow.';\n",
       "        }\n",
       "    }\n",
       "\n",
       "    this.imageObj = new Image();\n",
       "\n",
       "    this.context = undefined;\n",
       "    this.message = undefined;\n",
       "    this.canvas = undefined;\n",
       "    this.rubberband_canvas = undefined;\n",
       "    this.rubberband_context = undefined;\n",
       "    this.format_dropdown = undefined;\n",
       "\n",
       "    this.image_mode = 'full';\n",
       "\n",
       "    this.root = document.createElement('div');\n",
       "    this.root.setAttribute('style', 'display: inline-block');\n",
       "    this._root_extra_style(this.root);\n",
       "\n",
       "    parent_element.appendChild(this.root);\n",
       "\n",
       "    this._init_header(this);\n",
       "    this._init_canvas(this);\n",
       "    this._init_toolbar(this);\n",
       "\n",
       "    var fig = this;\n",
       "\n",
       "    this.waiting = false;\n",
       "\n",
       "    this.ws.onopen = function () {\n",
       "        fig.send_message('supports_binary', { value: fig.supports_binary });\n",
       "        fig.send_message('send_image_mode', {});\n",
       "        if (fig.ratio !== 1) {\n",
       "            fig.send_message('set_device_pixel_ratio', {\n",
       "                device_pixel_ratio: fig.ratio,\n",
       "            });\n",
       "        }\n",
       "        fig.send_message('refresh', {});\n",
       "    };\n",
       "\n",
       "    this.imageObj.onload = function () {\n",
       "        if (fig.image_mode === 'full') {\n",
       "            // Full images could contain transparency (where diff images\n",
       "            // almost always do), so we need to clear the canvas so that\n",
       "            // there is no ghosting.\n",
       "            fig.context.clearRect(0, 0, fig.canvas.width, fig.canvas.height);\n",
       "        }\n",
       "        fig.context.drawImage(fig.imageObj, 0, 0);\n",
       "    };\n",
       "\n",
       "    this.imageObj.onunload = function () {\n",
       "        fig.ws.close();\n",
       "    };\n",
       "\n",
       "    this.ws.onmessage = this._make_on_message_function(this);\n",
       "\n",
       "    this.ondownload = ondownload;\n",
       "};\n",
       "\n",
       "mpl.figure.prototype._init_header = function () {\n",
       "    var titlebar = document.createElement('div');\n",
       "    titlebar.classList =\n",
       "        'ui-dialog-titlebar ui-widget-header ui-corner-all ui-helper-clearfix';\n",
       "    var titletext = document.createElement('div');\n",
       "    titletext.classList = 'ui-dialog-title';\n",
       "    titletext.setAttribute(\n",
       "        'style',\n",
       "        'width: 100%; text-align: center; padding: 3px;'\n",
       "    );\n",
       "    titlebar.appendChild(titletext);\n",
       "    this.root.appendChild(titlebar);\n",
       "    this.header = titletext;\n",
       "};\n",
       "\n",
       "mpl.figure.prototype._canvas_extra_style = function (_canvas_div) {};\n",
       "\n",
       "mpl.figure.prototype._root_extra_style = function (_canvas_div) {};\n",
       "\n",
       "mpl.figure.prototype._init_canvas = function () {\n",
       "    var fig = this;\n",
       "\n",
       "    var canvas_div = (this.canvas_div = document.createElement('div'));\n",
       "    canvas_div.setAttribute(\n",
       "        'style',\n",
       "        'border: 1px solid #ddd;' +\n",
       "            'box-sizing: content-box;' +\n",
       "            'clear: both;' +\n",
       "            'min-height: 1px;' +\n",
       "            'min-width: 1px;' +\n",
       "            'outline: 0;' +\n",
       "            'overflow: hidden;' +\n",
       "            'position: relative;' +\n",
       "            'resize: both;'\n",
       "    );\n",
       "\n",
       "    function on_keyboard_event_closure(name) {\n",
       "        return function (event) {\n",
       "            return fig.key_event(event, name);\n",
       "        };\n",
       "    }\n",
       "\n",
       "    canvas_div.addEventListener(\n",
       "        'keydown',\n",
       "        on_keyboard_event_closure('key_press')\n",
       "    );\n",
       "    canvas_div.addEventListener(\n",
       "        'keyup',\n",
       "        on_keyboard_event_closure('key_release')\n",
       "    );\n",
       "\n",
       "    this._canvas_extra_style(canvas_div);\n",
       "    this.root.appendChild(canvas_div);\n",
       "\n",
       "    var canvas = (this.canvas = document.createElement('canvas'));\n",
       "    canvas.classList.add('mpl-canvas');\n",
       "    canvas.setAttribute('style', 'box-sizing: content-box;');\n",
       "\n",
       "    this.context = canvas.getContext('2d');\n",
       "\n",
       "    var backingStore =\n",
       "        this.context.backingStorePixelRatio ||\n",
       "        this.context.webkitBackingStorePixelRatio ||\n",
       "        this.context.mozBackingStorePixelRatio ||\n",
       "        this.context.msBackingStorePixelRatio ||\n",
       "        this.context.oBackingStorePixelRatio ||\n",
       "        this.context.backingStorePixelRatio ||\n",
       "        1;\n",
       "\n",
       "    this.ratio = (window.devicePixelRatio || 1) / backingStore;\n",
       "\n",
       "    var rubberband_canvas = (this.rubberband_canvas = document.createElement(\n",
       "        'canvas'\n",
       "    ));\n",
       "    rubberband_canvas.setAttribute(\n",
       "        'style',\n",
       "        'box-sizing: content-box; position: absolute; left: 0; top: 0; z-index: 1;'\n",
       "    );\n",
       "\n",
       "    // Apply a ponyfill if ResizeObserver is not implemented by browser.\n",
       "    if (this.ResizeObserver === undefined) {\n",
       "        if (window.ResizeObserver !== undefined) {\n",
       "            this.ResizeObserver = window.ResizeObserver;\n",
       "        } else {\n",
       "            var obs = _JSXTOOLS_RESIZE_OBSERVER({});\n",
       "            this.ResizeObserver = obs.ResizeObserver;\n",
       "        }\n",
       "    }\n",
       "\n",
       "    this.resizeObserverInstance = new this.ResizeObserver(function (entries) {\n",
       "        var nentries = entries.length;\n",
       "        for (var i = 0; i < nentries; i++) {\n",
       "            var entry = entries[i];\n",
       "            var width, height;\n",
       "            if (entry.contentBoxSize) {\n",
       "                if (entry.contentBoxSize instanceof Array) {\n",
       "                    // Chrome 84 implements new version of spec.\n",
       "                    width = entry.contentBoxSize[0].inlineSize;\n",
       "                    height = entry.contentBoxSize[0].blockSize;\n",
       "                } else {\n",
       "                    // Firefox implements old version of spec.\n",
       "                    width = entry.contentBoxSize.inlineSize;\n",
       "                    height = entry.contentBoxSize.blockSize;\n",
       "                }\n",
       "            } else {\n",
       "                // Chrome <84 implements even older version of spec.\n",
       "                width = entry.contentRect.width;\n",
       "                height = entry.contentRect.height;\n",
       "            }\n",
       "\n",
       "            // Keep the size of the canvas and rubber band canvas in sync with\n",
       "            // the canvas container.\n",
       "            if (entry.devicePixelContentBoxSize) {\n",
       "                // Chrome 84 implements new version of spec.\n",
       "                canvas.setAttribute(\n",
       "                    'width',\n",
       "                    entry.devicePixelContentBoxSize[0].inlineSize\n",
       "                );\n",
       "                canvas.setAttribute(\n",
       "                    'height',\n",
       "                    entry.devicePixelContentBoxSize[0].blockSize\n",
       "                );\n",
       "            } else {\n",
       "                canvas.setAttribute('width', width * fig.ratio);\n",
       "                canvas.setAttribute('height', height * fig.ratio);\n",
       "            }\n",
       "            canvas.setAttribute(\n",
       "                'style',\n",
       "                'width: ' + width + 'px; height: ' + height + 'px;'\n",
       "            );\n",
       "\n",
       "            rubberband_canvas.setAttribute('width', width);\n",
       "            rubberband_canvas.setAttribute('height', height);\n",
       "\n",
       "            // And update the size in Python. We ignore the initial 0/0 size\n",
       "            // that occurs as the element is placed into the DOM, which should\n",
       "            // otherwise not happen due to the minimum size styling.\n",
       "            if (fig.ws.readyState == 1 && width != 0 && height != 0) {\n",
       "                fig.request_resize(width, height);\n",
       "            }\n",
       "        }\n",
       "    });\n",
       "    this.resizeObserverInstance.observe(canvas_div);\n",
       "\n",
       "    function on_mouse_event_closure(name) {\n",
       "        return function (event) {\n",
       "            return fig.mouse_event(event, name);\n",
       "        };\n",
       "    }\n",
       "\n",
       "    rubberband_canvas.addEventListener(\n",
       "        'mousedown',\n",
       "        on_mouse_event_closure('button_press')\n",
       "    );\n",
       "    rubberband_canvas.addEventListener(\n",
       "        'mouseup',\n",
       "        on_mouse_event_closure('button_release')\n",
       "    );\n",
       "    rubberband_canvas.addEventListener(\n",
       "        'dblclick',\n",
       "        on_mouse_event_closure('dblclick')\n",
       "    );\n",
       "    // Throttle sequential mouse events to 1 every 20ms.\n",
       "    rubberband_canvas.addEventListener(\n",
       "        'mousemove',\n",
       "        on_mouse_event_closure('motion_notify')\n",
       "    );\n",
       "\n",
       "    rubberband_canvas.addEventListener(\n",
       "        'mouseenter',\n",
       "        on_mouse_event_closure('figure_enter')\n",
       "    );\n",
       "    rubberband_canvas.addEventListener(\n",
       "        'mouseleave',\n",
       "        on_mouse_event_closure('figure_leave')\n",
       "    );\n",
       "\n",
       "    canvas_div.addEventListener('wheel', function (event) {\n",
       "        if (event.deltaY < 0) {\n",
       "            event.step = 1;\n",
       "        } else {\n",
       "            event.step = -1;\n",
       "        }\n",
       "        on_mouse_event_closure('scroll')(event);\n",
       "    });\n",
       "\n",
       "    canvas_div.appendChild(canvas);\n",
       "    canvas_div.appendChild(rubberband_canvas);\n",
       "\n",
       "    this.rubberband_context = rubberband_canvas.getContext('2d');\n",
       "    this.rubberband_context.strokeStyle = '#000000';\n",
       "\n",
       "    this._resize_canvas = function (width, height, forward) {\n",
       "        if (forward) {\n",
       "            canvas_div.style.width = width + 'px';\n",
       "            canvas_div.style.height = height + 'px';\n",
       "        }\n",
       "    };\n",
       "\n",
       "    // Disable right mouse context menu.\n",
       "    this.rubberband_canvas.addEventListener('contextmenu', function (_e) {\n",
       "        event.preventDefault();\n",
       "        return false;\n",
       "    });\n",
       "\n",
       "    function set_focus() {\n",
       "        canvas.focus();\n",
       "        canvas_div.focus();\n",
       "    }\n",
       "\n",
       "    window.setTimeout(set_focus, 100);\n",
       "};\n",
       "\n",
       "mpl.figure.prototype._init_toolbar = function () {\n",
       "    var fig = this;\n",
       "\n",
       "    var toolbar = document.createElement('div');\n",
       "    toolbar.classList = 'mpl-toolbar';\n",
       "    this.root.appendChild(toolbar);\n",
       "\n",
       "    function on_click_closure(name) {\n",
       "        return function (_event) {\n",
       "            return fig.toolbar_button_onclick(name);\n",
       "        };\n",
       "    }\n",
       "\n",
       "    function on_mouseover_closure(tooltip) {\n",
       "        return function (event) {\n",
       "            if (!event.currentTarget.disabled) {\n",
       "                return fig.toolbar_button_onmouseover(tooltip);\n",
       "            }\n",
       "        };\n",
       "    }\n",
       "\n",
       "    fig.buttons = {};\n",
       "    var buttonGroup = document.createElement('div');\n",
       "    buttonGroup.classList = 'mpl-button-group';\n",
       "    for (var toolbar_ind in mpl.toolbar_items) {\n",
       "        var name = mpl.toolbar_items[toolbar_ind][0];\n",
       "        var tooltip = mpl.toolbar_items[toolbar_ind][1];\n",
       "        var image = mpl.toolbar_items[toolbar_ind][2];\n",
       "        var method_name = mpl.toolbar_items[toolbar_ind][3];\n",
       "\n",
       "        if (!name) {\n",
       "            /* Instead of a spacer, we start a new button group. */\n",
       "            if (buttonGroup.hasChildNodes()) {\n",
       "                toolbar.appendChild(buttonGroup);\n",
       "            }\n",
       "            buttonGroup = document.createElement('div');\n",
       "            buttonGroup.classList = 'mpl-button-group';\n",
       "            continue;\n",
       "        }\n",
       "\n",
       "        var button = (fig.buttons[name] = document.createElement('button'));\n",
       "        button.classList = 'mpl-widget';\n",
       "        button.setAttribute('role', 'button');\n",
       "        button.setAttribute('aria-disabled', 'false');\n",
       "        button.addEventListener('click', on_click_closure(method_name));\n",
       "        button.addEventListener('mouseover', on_mouseover_closure(tooltip));\n",
       "\n",
       "        var icon_img = document.createElement('img');\n",
       "        icon_img.src = '_images/' + image + '.png';\n",
       "        icon_img.srcset = '_images/' + image + '_large.png 2x';\n",
       "        icon_img.alt = tooltip;\n",
       "        button.appendChild(icon_img);\n",
       "\n",
       "        buttonGroup.appendChild(button);\n",
       "    }\n",
       "\n",
       "    if (buttonGroup.hasChildNodes()) {\n",
       "        toolbar.appendChild(buttonGroup);\n",
       "    }\n",
       "\n",
       "    var fmt_picker = document.createElement('select');\n",
       "    fmt_picker.classList = 'mpl-widget';\n",
       "    toolbar.appendChild(fmt_picker);\n",
       "    this.format_dropdown = fmt_picker;\n",
       "\n",
       "    for (var ind in mpl.extensions) {\n",
       "        var fmt = mpl.extensions[ind];\n",
       "        var option = document.createElement('option');\n",
       "        option.selected = fmt === mpl.default_extension;\n",
       "        option.innerHTML = fmt;\n",
       "        fmt_picker.appendChild(option);\n",
       "    }\n",
       "\n",
       "    var status_bar = document.createElement('span');\n",
       "    status_bar.classList = 'mpl-message';\n",
       "    toolbar.appendChild(status_bar);\n",
       "    this.message = status_bar;\n",
       "};\n",
       "\n",
       "mpl.figure.prototype.request_resize = function (x_pixels, y_pixels) {\n",
       "    // Request matplotlib to resize the figure. Matplotlib will then trigger a resize in the client,\n",
       "    // which will in turn request a refresh of the image.\n",
       "    this.send_message('resize', { width: x_pixels, height: y_pixels });\n",
       "};\n",
       "\n",
       "mpl.figure.prototype.send_message = function (type, properties) {\n",
       "    properties['type'] = type;\n",
       "    properties['figure_id'] = this.id;\n",
       "    this.ws.send(JSON.stringify(properties));\n",
       "};\n",
       "\n",
       "mpl.figure.prototype.send_draw_message = function () {\n",
       "    if (!this.waiting) {\n",
       "        this.waiting = true;\n",
       "        this.ws.send(JSON.stringify({ type: 'draw', figure_id: this.id }));\n",
       "    }\n",
       "};\n",
       "\n",
       "mpl.figure.prototype.handle_save = function (fig, _msg) {\n",
       "    var format_dropdown = fig.format_dropdown;\n",
       "    var format = format_dropdown.options[format_dropdown.selectedIndex].value;\n",
       "    fig.ondownload(fig, format);\n",
       "};\n",
       "\n",
       "mpl.figure.prototype.handle_resize = function (fig, msg) {\n",
       "    var size = msg['size'];\n",
       "    if (size[0] !== fig.canvas.width || size[1] !== fig.canvas.height) {\n",
       "        fig._resize_canvas(size[0], size[1], msg['forward']);\n",
       "        fig.send_message('refresh', {});\n",
       "    }\n",
       "};\n",
       "\n",
       "mpl.figure.prototype.handle_rubberband = function (fig, msg) {\n",
       "    var x0 = msg['x0'] / fig.ratio;\n",
       "    var y0 = (fig.canvas.height - msg['y0']) / fig.ratio;\n",
       "    var x1 = msg['x1'] / fig.ratio;\n",
       "    var y1 = (fig.canvas.height - msg['y1']) / fig.ratio;\n",
       "    x0 = Math.floor(x0) + 0.5;\n",
       "    y0 = Math.floor(y0) + 0.5;\n",
       "    x1 = Math.floor(x1) + 0.5;\n",
       "    y1 = Math.floor(y1) + 0.5;\n",
       "    var min_x = Math.min(x0, x1);\n",
       "    var min_y = Math.min(y0, y1);\n",
       "    var width = Math.abs(x1 - x0);\n",
       "    var height = Math.abs(y1 - y0);\n",
       "\n",
       "    fig.rubberband_context.clearRect(\n",
       "        0,\n",
       "        0,\n",
       "        fig.canvas.width / fig.ratio,\n",
       "        fig.canvas.height / fig.ratio\n",
       "    );\n",
       "\n",
       "    fig.rubberband_context.strokeRect(min_x, min_y, width, height);\n",
       "};\n",
       "\n",
       "mpl.figure.prototype.handle_figure_label = function (fig, msg) {\n",
       "    // Updates the figure title.\n",
       "    fig.header.textContent = msg['label'];\n",
       "};\n",
       "\n",
       "mpl.figure.prototype.handle_cursor = function (fig, msg) {\n",
       "    fig.rubberband_canvas.style.cursor = msg['cursor'];\n",
       "};\n",
       "\n",
       "mpl.figure.prototype.handle_message = function (fig, msg) {\n",
       "    fig.message.textContent = msg['message'];\n",
       "};\n",
       "\n",
       "mpl.figure.prototype.handle_draw = function (fig, _msg) {\n",
       "    // Request the server to send over a new figure.\n",
       "    fig.send_draw_message();\n",
       "};\n",
       "\n",
       "mpl.figure.prototype.handle_image_mode = function (fig, msg) {\n",
       "    fig.image_mode = msg['mode'];\n",
       "};\n",
       "\n",
       "mpl.figure.prototype.handle_history_buttons = function (fig, msg) {\n",
       "    for (var key in msg) {\n",
       "        if (!(key in fig.buttons)) {\n",
       "            continue;\n",
       "        }\n",
       "        fig.buttons[key].disabled = !msg[key];\n",
       "        fig.buttons[key].setAttribute('aria-disabled', !msg[key]);\n",
       "    }\n",
       "};\n",
       "\n",
       "mpl.figure.prototype.handle_navigate_mode = function (fig, msg) {\n",
       "    if (msg['mode'] === 'PAN') {\n",
       "        fig.buttons['Pan'].classList.add('active');\n",
       "        fig.buttons['Zoom'].classList.remove('active');\n",
       "    } else if (msg['mode'] === 'ZOOM') {\n",
       "        fig.buttons['Pan'].classList.remove('active');\n",
       "        fig.buttons['Zoom'].classList.add('active');\n",
       "    } else {\n",
       "        fig.buttons['Pan'].classList.remove('active');\n",
       "        fig.buttons['Zoom'].classList.remove('active');\n",
       "    }\n",
       "};\n",
       "\n",
       "mpl.figure.prototype.updated_canvas_event = function () {\n",
       "    // Called whenever the canvas gets updated.\n",
       "    this.send_message('ack', {});\n",
       "};\n",
       "\n",
       "// A function to construct a web socket function for onmessage handling.\n",
       "// Called in the figure constructor.\n",
       "mpl.figure.prototype._make_on_message_function = function (fig) {\n",
       "    return function socket_on_message(evt) {\n",
       "        if (evt.data instanceof Blob) {\n",
       "            var img = evt.data;\n",
       "            if (img.type !== 'image/png') {\n",
       "                /* FIXME: We get \"Resource interpreted as Image but\n",
       "                 * transferred with MIME type text/plain:\" errors on\n",
       "                 * Chrome.  But how to set the MIME type?  It doesn't seem\n",
       "                 * to be part of the websocket stream */\n",
       "                img.type = 'image/png';\n",
       "            }\n",
       "\n",
       "            /* Free the memory for the previous frames */\n",
       "            if (fig.imageObj.src) {\n",
       "                (window.URL || window.webkitURL).revokeObjectURL(\n",
       "                    fig.imageObj.src\n",
       "                );\n",
       "            }\n",
       "\n",
       "            fig.imageObj.src = (window.URL || window.webkitURL).createObjectURL(\n",
       "                img\n",
       "            );\n",
       "            fig.updated_canvas_event();\n",
       "            fig.waiting = false;\n",
       "            return;\n",
       "        } else if (\n",
       "            typeof evt.data === 'string' &&\n",
       "            evt.data.slice(0, 21) === 'data:image/png;base64'\n",
       "        ) {\n",
       "            fig.imageObj.src = evt.data;\n",
       "            fig.updated_canvas_event();\n",
       "            fig.waiting = false;\n",
       "            return;\n",
       "        }\n",
       "\n",
       "        var msg = JSON.parse(evt.data);\n",
       "        var msg_type = msg['type'];\n",
       "\n",
       "        // Call the  \"handle_{type}\" callback, which takes\n",
       "        // the figure and JSON message as its only arguments.\n",
       "        try {\n",
       "            var callback = fig['handle_' + msg_type];\n",
       "        } catch (e) {\n",
       "            console.log(\n",
       "                \"No handler for the '\" + msg_type + \"' message type: \",\n",
       "                msg\n",
       "            );\n",
       "            return;\n",
       "        }\n",
       "\n",
       "        if (callback) {\n",
       "            try {\n",
       "                // console.log(\"Handling '\" + msg_type + \"' message: \", msg);\n",
       "                callback(fig, msg);\n",
       "            } catch (e) {\n",
       "                console.log(\n",
       "                    \"Exception inside the 'handler_\" + msg_type + \"' callback:\",\n",
       "                    e,\n",
       "                    e.stack,\n",
       "                    msg\n",
       "                );\n",
       "            }\n",
       "        }\n",
       "    };\n",
       "};\n",
       "\n",
       "// from https://stackoverflow.com/questions/1114465/getting-mouse-location-in-canvas\n",
       "mpl.findpos = function (e) {\n",
       "    //this section is from http://www.quirksmode.org/js/events_properties.html\n",
       "    var targ;\n",
       "    if (!e) {\n",
       "        e = window.event;\n",
       "    }\n",
       "    if (e.target) {\n",
       "        targ = e.target;\n",
       "    } else if (e.srcElement) {\n",
       "        targ = e.srcElement;\n",
       "    }\n",
       "    if (targ.nodeType === 3) {\n",
       "        // defeat Safari bug\n",
       "        targ = targ.parentNode;\n",
       "    }\n",
       "\n",
       "    // pageX,Y are the mouse positions relative to the document\n",
       "    var boundingRect = targ.getBoundingClientRect();\n",
       "    var x = e.pageX - (boundingRect.left + document.body.scrollLeft);\n",
       "    var y = e.pageY - (boundingRect.top + document.body.scrollTop);\n",
       "\n",
       "    return { x: x, y: y };\n",
       "};\n",
       "\n",
       "/*\n",
       " * return a copy of an object with only non-object keys\n",
       " * we need this to avoid circular references\n",
       " * https://stackoverflow.com/a/24161582/3208463\n",
       " */\n",
       "function simpleKeys(original) {\n",
       "    return Object.keys(original).reduce(function (obj, key) {\n",
       "        if (typeof original[key] !== 'object') {\n",
       "            obj[key] = original[key];\n",
       "        }\n",
       "        return obj;\n",
       "    }, {});\n",
       "}\n",
       "\n",
       "mpl.figure.prototype.mouse_event = function (event, name) {\n",
       "    var canvas_pos = mpl.findpos(event);\n",
       "\n",
       "    if (name === 'button_press') {\n",
       "        this.canvas.focus();\n",
       "        this.canvas_div.focus();\n",
       "    }\n",
       "\n",
       "    var x = canvas_pos.x * this.ratio;\n",
       "    var y = canvas_pos.y * this.ratio;\n",
       "\n",
       "    this.send_message(name, {\n",
       "        x: x,\n",
       "        y: y,\n",
       "        button: event.button,\n",
       "        step: event.step,\n",
       "        guiEvent: simpleKeys(event),\n",
       "    });\n",
       "\n",
       "    /* This prevents the web browser from automatically changing to\n",
       "     * the text insertion cursor when the button is pressed.  We want\n",
       "     * to control all of the cursor setting manually through the\n",
       "     * 'cursor' event from matplotlib */\n",
       "    event.preventDefault();\n",
       "    return false;\n",
       "};\n",
       "\n",
       "mpl.figure.prototype._key_event_extra = function (_event, _name) {\n",
       "    // Handle any extra behaviour associated with a key event\n",
       "};\n",
       "\n",
       "mpl.figure.prototype.key_event = function (event, name) {\n",
       "    // Prevent repeat events\n",
       "    if (name === 'key_press') {\n",
       "        if (event.key === this._key) {\n",
       "            return;\n",
       "        } else {\n",
       "            this._key = event.key;\n",
       "        }\n",
       "    }\n",
       "    if (name === 'key_release') {\n",
       "        this._key = null;\n",
       "    }\n",
       "\n",
       "    var value = '';\n",
       "    if (event.ctrlKey && event.key !== 'Control') {\n",
       "        value += 'ctrl+';\n",
       "    }\n",
       "    else if (event.altKey && event.key !== 'Alt') {\n",
       "        value += 'alt+';\n",
       "    }\n",
       "    else if (event.shiftKey && event.key !== 'Shift') {\n",
       "        value += 'shift+';\n",
       "    }\n",
       "\n",
       "    value += 'k' + event.key;\n",
       "\n",
       "    this._key_event_extra(event, name);\n",
       "\n",
       "    this.send_message(name, { key: value, guiEvent: simpleKeys(event) });\n",
       "    return false;\n",
       "};\n",
       "\n",
       "mpl.figure.prototype.toolbar_button_onclick = function (name) {\n",
       "    if (name === 'download') {\n",
       "        this.handle_save(this, null);\n",
       "    } else {\n",
       "        this.send_message('toolbar_button', { name: name });\n",
       "    }\n",
       "};\n",
       "\n",
       "mpl.figure.prototype.toolbar_button_onmouseover = function (tooltip) {\n",
       "    this.message.textContent = tooltip;\n",
       "};\n",
       "\n",
       "///////////////// REMAINING CONTENT GENERATED BY embed_js.py /////////////////\n",
       "// prettier-ignore\n",
       "var _JSXTOOLS_RESIZE_OBSERVER=function(A){var t,i=new WeakMap,n=new WeakMap,a=new WeakMap,r=new WeakMap,o=new Set;function s(e){if(!(this instanceof s))throw new TypeError(\"Constructor requires 'new' operator\");i.set(this,e)}function h(){throw new TypeError(\"Function is not a constructor\")}function c(e,t,i,n){e=0 in arguments?Number(arguments[0]):0,t=1 in arguments?Number(arguments[1]):0,i=2 in arguments?Number(arguments[2]):0,n=3 in arguments?Number(arguments[3]):0,this.right=(this.x=this.left=e)+(this.width=i),this.bottom=(this.y=this.top=t)+(this.height=n),Object.freeze(this)}function d(){t=requestAnimationFrame(d);var s=new WeakMap,p=new Set;o.forEach((function(t){r.get(t).forEach((function(i){var r=t instanceof window.SVGElement,o=a.get(t),d=r?0:parseFloat(o.paddingTop),f=r?0:parseFloat(o.paddingRight),l=r?0:parseFloat(o.paddingBottom),u=r?0:parseFloat(o.paddingLeft),g=r?0:parseFloat(o.borderTopWidth),m=r?0:parseFloat(o.borderRightWidth),w=r?0:parseFloat(o.borderBottomWidth),b=u+f,F=d+l,v=(r?0:parseFloat(o.borderLeftWidth))+m,W=g+w,y=r?0:t.offsetHeight-W-t.clientHeight,E=r?0:t.offsetWidth-v-t.clientWidth,R=b+v,z=F+W,M=r?t.width:parseFloat(o.width)-R-E,O=r?t.height:parseFloat(o.height)-z-y;if(n.has(t)){var k=n.get(t);if(k[0]===M&&k[1]===O)return}n.set(t,[M,O]);var S=Object.create(h.prototype);S.target=t,S.contentRect=new c(u,d,M,O),s.has(i)||(s.set(i,[]),p.add(i)),s.get(i).push(S)}))})),p.forEach((function(e){i.get(e).call(e,s.get(e),e)}))}return s.prototype.observe=function(i){if(i instanceof window.Element){r.has(i)||(r.set(i,new Set),o.add(i),a.set(i,window.getComputedStyle(i)));var n=r.get(i);n.has(this)||n.add(this),cancelAnimationFrame(t),t=requestAnimationFrame(d)}},s.prototype.unobserve=function(i){if(i instanceof window.Element&&r.has(i)){var n=r.get(i);n.has(this)&&(n.delete(this),n.size||(r.delete(i),o.delete(i))),n.size||r.delete(i),o.size||cancelAnimationFrame(t)}},A.DOMRectReadOnly=c,A.ResizeObserver=s,A.ResizeObserverEntry=h,A}; // eslint-disable-line\n",
       "mpl.toolbar_items = [[\"Home\", \"Reset original view\", \"fa fa-home icon-home\", \"home\"], [\"Back\", \"Back to previous view\", \"fa fa-arrow-left icon-arrow-left\", \"back\"], [\"Forward\", \"Forward to next view\", \"fa fa-arrow-right icon-arrow-right\", \"forward\"], [\"\", \"\", \"\", \"\"], [\"Pan\", \"Left button pans, Right button zooms\\nx/y fixes axis, CTRL fixes aspect\", \"fa fa-arrows icon-move\", \"pan\"], [\"Zoom\", \"Zoom to rectangle\\nx/y fixes axis\", \"fa fa-square-o icon-check-empty\", \"zoom\"], [\"\", \"\", \"\", \"\"], [\"Download\", \"Download plot\", \"fa fa-floppy-o icon-save\", \"download\"]];\n",
       "\n",
       "mpl.extensions = [\"eps\", \"jpeg\", \"pgf\", \"pdf\", \"png\", \"ps\", \"raw\", \"svg\", \"tif\"];\n",
       "\n",
       "mpl.default_extension = \"png\";/* global mpl */\n",
       "\n",
       "var comm_websocket_adapter = function (comm) {\n",
       "    // Create a \"websocket\"-like object which calls the given IPython comm\n",
       "    // object with the appropriate methods. Currently this is a non binary\n",
       "    // socket, so there is still some room for performance tuning.\n",
       "    var ws = {};\n",
       "\n",
       "    ws.binaryType = comm.kernel.ws.binaryType;\n",
       "    ws.readyState = comm.kernel.ws.readyState;\n",
       "    function updateReadyState(_event) {\n",
       "        if (comm.kernel.ws) {\n",
       "            ws.readyState = comm.kernel.ws.readyState;\n",
       "        } else {\n",
       "            ws.readyState = 3; // Closed state.\n",
       "        }\n",
       "    }\n",
       "    comm.kernel.ws.addEventListener('open', updateReadyState);\n",
       "    comm.kernel.ws.addEventListener('close', updateReadyState);\n",
       "    comm.kernel.ws.addEventListener('error', updateReadyState);\n",
       "\n",
       "    ws.close = function () {\n",
       "        comm.close();\n",
       "    };\n",
       "    ws.send = function (m) {\n",
       "        //console.log('sending', m);\n",
       "        comm.send(m);\n",
       "    };\n",
       "    // Register the callback with on_msg.\n",
       "    comm.on_msg(function (msg) {\n",
       "        //console.log('receiving', msg['content']['data'], msg);\n",
       "        var data = msg['content']['data'];\n",
       "        if (data['blob'] !== undefined) {\n",
       "            data = {\n",
       "                data: new Blob(msg['buffers'], { type: data['blob'] }),\n",
       "            };\n",
       "        }\n",
       "        // Pass the mpl event to the overridden (by mpl) onmessage function.\n",
       "        ws.onmessage(data);\n",
       "    });\n",
       "    return ws;\n",
       "};\n",
       "\n",
       "mpl.mpl_figure_comm = function (comm, msg) {\n",
       "    // This is the function which gets called when the mpl process\n",
       "    // starts-up an IPython Comm through the \"matplotlib\" channel.\n",
       "\n",
       "    var id = msg.content.data.id;\n",
       "    // Get hold of the div created by the display call when the Comm\n",
       "    // socket was opened in Python.\n",
       "    var element = document.getElementById(id);\n",
       "    var ws_proxy = comm_websocket_adapter(comm);\n",
       "\n",
       "    function ondownload(figure, _format) {\n",
       "        window.open(figure.canvas.toDataURL());\n",
       "    }\n",
       "\n",
       "    var fig = new mpl.figure(id, ws_proxy, ondownload, element);\n",
       "\n",
       "    // Call onopen now - mpl needs it, as it is assuming we've passed it a real\n",
       "    // web socket which is closed, not our websocket->open comm proxy.\n",
       "    ws_proxy.onopen();\n",
       "\n",
       "    fig.parent_element = element;\n",
       "    fig.cell_info = mpl.find_output_cell(\"<div id='\" + id + \"'></div>\");\n",
       "    if (!fig.cell_info) {\n",
       "        console.error('Failed to find cell for figure', id, fig);\n",
       "        return;\n",
       "    }\n",
       "    fig.cell_info[0].output_area.element.on(\n",
       "        'cleared',\n",
       "        { fig: fig },\n",
       "        fig._remove_fig_handler\n",
       "    );\n",
       "};\n",
       "\n",
       "mpl.figure.prototype.handle_close = function (fig, msg) {\n",
       "    var width = fig.canvas.width / fig.ratio;\n",
       "    fig.cell_info[0].output_area.element.off(\n",
       "        'cleared',\n",
       "        fig._remove_fig_handler\n",
       "    );\n",
       "    fig.resizeObserverInstance.unobserve(fig.canvas_div);\n",
       "\n",
       "    // Update the output cell to use the data from the current canvas.\n",
       "    fig.push_to_output();\n",
       "    var dataURL = fig.canvas.toDataURL();\n",
       "    // Re-enable the keyboard manager in IPython - without this line, in FF,\n",
       "    // the notebook keyboard shortcuts fail.\n",
       "    IPython.keyboard_manager.enable();\n",
       "    fig.parent_element.innerHTML =\n",
       "        '<img src=\"' + dataURL + '\" width=\"' + width + '\">';\n",
       "    fig.close_ws(fig, msg);\n",
       "};\n",
       "\n",
       "mpl.figure.prototype.close_ws = function (fig, msg) {\n",
       "    fig.send_message('closing', msg);\n",
       "    // fig.ws.close()\n",
       "};\n",
       "\n",
       "mpl.figure.prototype.push_to_output = function (_remove_interactive) {\n",
       "    // Turn the data on the canvas into data in the output cell.\n",
       "    var width = this.canvas.width / this.ratio;\n",
       "    var dataURL = this.canvas.toDataURL();\n",
       "    this.cell_info[1]['text/html'] =\n",
       "        '<img src=\"' + dataURL + '\" width=\"' + width + '\">';\n",
       "};\n",
       "\n",
       "mpl.figure.prototype.updated_canvas_event = function () {\n",
       "    // Tell IPython that the notebook contents must change.\n",
       "    IPython.notebook.set_dirty(true);\n",
       "    this.send_message('ack', {});\n",
       "    var fig = this;\n",
       "    // Wait a second, then push the new image to the DOM so\n",
       "    // that it is saved nicely (might be nice to debounce this).\n",
       "    setTimeout(function () {\n",
       "        fig.push_to_output();\n",
       "    }, 1000);\n",
       "};\n",
       "\n",
       "mpl.figure.prototype._init_toolbar = function () {\n",
       "    var fig = this;\n",
       "\n",
       "    var toolbar = document.createElement('div');\n",
       "    toolbar.classList = 'btn-toolbar';\n",
       "    this.root.appendChild(toolbar);\n",
       "\n",
       "    function on_click_closure(name) {\n",
       "        return function (_event) {\n",
       "            return fig.toolbar_button_onclick(name);\n",
       "        };\n",
       "    }\n",
       "\n",
       "    function on_mouseover_closure(tooltip) {\n",
       "        return function (event) {\n",
       "            if (!event.currentTarget.disabled) {\n",
       "                return fig.toolbar_button_onmouseover(tooltip);\n",
       "            }\n",
       "        };\n",
       "    }\n",
       "\n",
       "    fig.buttons = {};\n",
       "    var buttonGroup = document.createElement('div');\n",
       "    buttonGroup.classList = 'btn-group';\n",
       "    var button;\n",
       "    for (var toolbar_ind in mpl.toolbar_items) {\n",
       "        var name = mpl.toolbar_items[toolbar_ind][0];\n",
       "        var tooltip = mpl.toolbar_items[toolbar_ind][1];\n",
       "        var image = mpl.toolbar_items[toolbar_ind][2];\n",
       "        var method_name = mpl.toolbar_items[toolbar_ind][3];\n",
       "\n",
       "        if (!name) {\n",
       "            /* Instead of a spacer, we start a new button group. */\n",
       "            if (buttonGroup.hasChildNodes()) {\n",
       "                toolbar.appendChild(buttonGroup);\n",
       "            }\n",
       "            buttonGroup = document.createElement('div');\n",
       "            buttonGroup.classList = 'btn-group';\n",
       "            continue;\n",
       "        }\n",
       "\n",
       "        button = fig.buttons[name] = document.createElement('button');\n",
       "        button.classList = 'btn btn-default';\n",
       "        button.href = '#';\n",
       "        button.title = name;\n",
       "        button.innerHTML = '<i class=\"fa ' + image + ' fa-lg\"></i>';\n",
       "        button.addEventListener('click', on_click_closure(method_name));\n",
       "        button.addEventListener('mouseover', on_mouseover_closure(tooltip));\n",
       "        buttonGroup.appendChild(button);\n",
       "    }\n",
       "\n",
       "    if (buttonGroup.hasChildNodes()) {\n",
       "        toolbar.appendChild(buttonGroup);\n",
       "    }\n",
       "\n",
       "    // Add the status bar.\n",
       "    var status_bar = document.createElement('span');\n",
       "    status_bar.classList = 'mpl-message pull-right';\n",
       "    toolbar.appendChild(status_bar);\n",
       "    this.message = status_bar;\n",
       "\n",
       "    // Add the close button to the window.\n",
       "    var buttongrp = document.createElement('div');\n",
       "    buttongrp.classList = 'btn-group inline pull-right';\n",
       "    button = document.createElement('button');\n",
       "    button.classList = 'btn btn-mini btn-primary';\n",
       "    button.href = '#';\n",
       "    button.title = 'Stop Interaction';\n",
       "    button.innerHTML = '<i class=\"fa fa-power-off icon-remove icon-large\"></i>';\n",
       "    button.addEventListener('click', function (_evt) {\n",
       "        fig.handle_close(fig, {});\n",
       "    });\n",
       "    button.addEventListener(\n",
       "        'mouseover',\n",
       "        on_mouseover_closure('Stop Interaction')\n",
       "    );\n",
       "    buttongrp.appendChild(button);\n",
       "    var titlebar = this.root.querySelector('.ui-dialog-titlebar');\n",
       "    titlebar.insertBefore(buttongrp, titlebar.firstChild);\n",
       "};\n",
       "\n",
       "mpl.figure.prototype._remove_fig_handler = function (event) {\n",
       "    var fig = event.data.fig;\n",
       "    if (event.target !== this) {\n",
       "        // Ignore bubbled events from children.\n",
       "        return;\n",
       "    }\n",
       "    fig.close_ws(fig, {});\n",
       "};\n",
       "\n",
       "mpl.figure.prototype._root_extra_style = function (el) {\n",
       "    el.style.boxSizing = 'content-box'; // override notebook setting of border-box.\n",
       "};\n",
       "\n",
       "mpl.figure.prototype._canvas_extra_style = function (el) {\n",
       "    // this is important to make the div 'focusable\n",
       "    el.setAttribute('tabindex', 0);\n",
       "    // reach out to IPython and tell the keyboard manager to turn it's self\n",
       "    // off when our div gets focus\n",
       "\n",
       "    // location in version 3\n",
       "    if (IPython.notebook.keyboard_manager) {\n",
       "        IPython.notebook.keyboard_manager.register_events(el);\n",
       "    } else {\n",
       "        // location in version 2\n",
       "        IPython.keyboard_manager.register_events(el);\n",
       "    }\n",
       "};\n",
       "\n",
       "mpl.figure.prototype._key_event_extra = function (event, _name) {\n",
       "    // Check for shift+enter\n",
       "    if (event.shiftKey && event.which === 13) {\n",
       "        this.canvas_div.blur();\n",
       "        // select the cell after this one\n",
       "        var index = IPython.notebook.find_cell_index(this.cell_info[0]);\n",
       "        IPython.notebook.select(index + 1);\n",
       "    }\n",
       "};\n",
       "\n",
       "mpl.figure.prototype.handle_save = function (fig, _msg) {\n",
       "    fig.ondownload(fig, null);\n",
       "};\n",
       "\n",
       "mpl.find_output_cell = function (html_output) {\n",
       "    // Return the cell and output element which can be found *uniquely* in the notebook.\n",
       "    // Note - this is a bit hacky, but it is done because the \"notebook_saving.Notebook\"\n",
       "    // IPython event is triggered only after the cells have been serialised, which for\n",
       "    // our purposes (turning an active figure into a static one), is too late.\n",
       "    var cells = IPython.notebook.get_cells();\n",
       "    var ncells = cells.length;\n",
       "    for (var i = 0; i < ncells; i++) {\n",
       "        var cell = cells[i];\n",
       "        if (cell.cell_type === 'code') {\n",
       "            for (var j = 0; j < cell.output_area.outputs.length; j++) {\n",
       "                var data = cell.output_area.outputs[j];\n",
       "                if (data.data) {\n",
       "                    // IPython >= 3 moved mimebundle to data attribute of output\n",
       "                    data = data.data;\n",
       "                }\n",
       "                if (data['text/html'] === html_output) {\n",
       "                    return [cell, data, j];\n",
       "                }\n",
       "            }\n",
       "        }\n",
       "    }\n",
       "};\n",
       "\n",
       "// Register the function which deals with the matplotlib target/channel.\n",
       "// The kernel may be null if the page has been refreshed.\n",
       "if (IPython.notebook.kernel !== null) {\n",
       "    IPython.notebook.kernel.comm_manager.register_target(\n",
       "        'matplotlib',\n",
       "        mpl.mpl_figure_comm\n",
       "    );\n",
       "}\n"
      ],
      "text/plain": [
       "<IPython.core.display.Javascript object>"
      ]
     },
     "metadata": {},
     "output_type": "display_data"
    },
    {
     "data": {
      "text/html": [
       "<img src=\"data:image/png;base64,iVBORw0KGgoAAAANSUhEUgAAA+gAAAPoCAYAAABNo9TkAAAgAElEQVR4XuydCZgVxdW/zwzLLIAsEhBQIG4RIa6JigjibjQRUFEjLoga9+UzbphPAaOAaAS/zygKiqhEEdeocYsRY9TEGCX5goJxAWUXFZVlhmXmz2n/fZfh3rlV91bf6e779vPwJM49XXXqrVPV9etauqx+8yVcEIAABCAAAQhAAAIQgAAEIAABCDQpgTIEepPyJ3MIQAACEIAABCAAAQhAAAIQgIBHAIFOIEAAAhCAAAQgAAEIQAACEIAABEJAAIEegkrABQhAAAIQgAAEIAABCEAAAhCAAAKdGIAABCAAAQhAAAIQgAAEIAABCISAAAI9BJWACxCAAAQgAAEIQAACEIAABCAAAQQ6MQABCEAAAhCAAAQgAAEIQAACEAgBAQR6CCoBFyAAAQhAAAIQgAAEIAABCEAAAgh0YgACEIAABCAAAQhAAAIQgAAEIBACAgj0EFQCLkAAAhCAAAQgAAEIQAACEIAABBDoxAAEIAABCEAAAhCAAAQgAAEIQCAEBBDoIagEXIAABCAAAQhAAAIQgAAEIAABCCDQiQEIQAACEIAABCAAAQhAAAIQgEAICCDQQ1AJuAABCEAAAhCAAAQgAAEIQAACEECgEwMQgAAEIAABCEAAAhCAAAQgAIEQEECgh6AScAECEIAABCAAAQhAAAIQgAAEIIBAJwYgAAEIQAACEIAABCAAAQhAAAIhIIBAD0El4AIEIAABCEAAAhCAAAQgAAEIQACBTgxAAAIQgAAEIAABCEAAAhCAAARCQACBHoJKwAUIQAACEIAABCAAAQhAAAIQgIBzgb5h5cexoNqi4/axKAeFgAAEiktg4MCBsnLlSvn3v//tNOP//u//lvvvv1+WLFkirVu3llWrVsn69evl4osvlqeeekpWrFghP/zhD2XOnDnSs2dPUT/uu+8+Zz6UlZXJqFGjZPTo0c7SJCEIpBLIN8bWrl0rEyZM8GJe/6Ve2gbOOOMM+eSTT7x20dRXJn98n2fPnm3s3nvvvSePPPKIDB8+PBTlMnYcQwhAAAIQyEnAvUBfPj9nplEwaNH5B1FwEx8hAIGQEQhCoKsAHzx4sPzqV7+Sn/zkJ1JRUSE/+tGP5LbbbpNLL71U/vd//1f23ntvT7irSEeghywocMeIQL4CXV+Ife9738v4Aunzzz+Xjz76SPbcc0+v3TT1lUmgq9jWa9dddzV279FHH5WhQ4fKK6+8ssVLCeNEMIQABCAAgVAScC/Ql74fyoLaOtWiSy/bW7CHAAQg4A2WXc+g33jjjaIz6MuXL5dOnTolKJ999tkyY8YM0RnE1AuB/h2NdevWSVVVFVHZRARs+Qch0Juo6FmzdTWjj0APW83iDwQgAAF3BJwL9PVL5rrzrglTatm1dxPmTtYQiA6BkSNHSk1NTXQcLsBTFcJvvPGGLFiwwBN/LVu2lHbt2knfvn2le/fuXsqzZs3yeBx22GHy5z//2Vt6Xl1d7c1s66y3ihC95s6dKy+99JK3/LZt27YJrz777DN57LHH5LjjjpPttttO7rnnHvn222/TvN53333lb3/72xYl0Tx79+7t3bPtttvKEUcckbCpra317vnwww9l9erVnnDdaaedpF+/ftKiRYs0u9dee82z27Rpk3Tt2tV76TB9+nTRfLWs2a6NGzd6fD799FP55ptvvLK2b99efvzjH8sOO+yQuE1fKmieJ5xwQlpSdXV1nu/bbLON/OxnP/N+Ux/efvttmTdvnpemMv/+978vBxxwgMfVv/S+jh07euXXcn755ZferKna/fOf/5QPPvjA+9uGDRs83r169fJ+b9asWSKN+vp6+fvf/y7/93//57302HrrrT0+b731lmejM5b+ZcozE6tM9ePHTmo+fiwceeSRojPB77//vue/1u2hhx7qMdQY07rSa/vtt/fqShn5l2nZ/bg9+OCDRetf86usrPR47rffflJeXp613vWHxvivWbNG3nzzTa/dKFdd6aGzxfvss09aupMmTUqLMbX961//KosWLfLaQPPmzb060Rjs1q2b58/XX38t06ZN28I3rV+N/4btTJeR6/YTfbnVcEb92WeflcWLF8uZZ56ZiIv58+fLu+++671003g+6KCDZPz48V7s5LrU91/+8pfyj3/8Qzp06CCnn366V0e/+MUv0pbcZ1rifuedd8rkyZO92X/NV8t77LHHytixY72tK9pvNLyUgy55137l9ttv9/JVvzVeDjnkENEXfdpG/Eu3q4wZM8bjccMNN8gf/vAHr86PPvpomThxYlq/pG3zt7/9rVfPykTZ7bLLLnLNNdfIMccck0hz5syZovX4r3/9y/Nb248pr1w8+R0CEIBAqRBwL9A/+2cs2LXcbvdYlINCQCBoAv/1X//lDeZK4VKh9M4773gD3Z133tnbB67/rWLjxBNP9BDoYFsHvDog18G5CtMnnnhC7rjjDk/knnbaaZ5dtpk0FRAqAvylqyoO/IHx888/7w2adcCtouXXv/61Z/enP/3JS1Pz0qW+DWfQVejoQFnv0QH1brvt5gmX6667zlsa/8c//tEbTKtA1YG8imz9TYX166+/Lg888IB8/PHHOfegq1jSJfeahgoK3SOvad96662eiPLL/j//8z9yySWXeKJZXxL413PPPSdHHXWU/P73v/cEuooCFQsqGK+88krZf//9ZeHChZ4fykGFuz9DrmXW/PS/dbWBivhWrVp5Zbjsssu8+tK/qXhV0ap1qHnce++9ifyVzbhx4zwBpWJIBbIyVlGs9/t7hE15ZmsT2VY4NBRqfiz06NHDi4mTTjrJE7mXX365Vy4VrLvvvrscfvjhnohU/88//3xRvv5lWnY/blV4XX311fKDH/xAVLBqWhdccIEn+Bq7svHXl0y+EFf/NEZVrKsg/PnPf54mrhvOoKsQ1G0cBx54oPfSRl8saVvSWHr55Ze9tqYvSpSTtk0V1meddZbnprYDzathO1PhqMymTJmSsFV7bcuah5b1N7/5jZeGimGNJRXDGg8qmL/44gtPfOpLm8aWpOuyda0j5XLttdd6L5O0D9CXLPoCK3VPfMN6f/jhhz02F110kRej+nJEX8JomspDX55MnTrVq2/tG/baa6+09q9+ann05Yq2E40ZbYP64lBfPvkv5HyBrnWt/Vf//v293/Wl68knn5zWNrTtPvjggx5j9UnbkfZ9+rJFz8HIxEvb480332zEqxSeH5QRAhCAgCkB9wJ94TumeYfarmWP7x54XBCAQOMESkmgt2nTxhvUN/ZCQgfbr776qjeLq8LEv3SwrGJFRbZepgJdbf2BtA7MU2fAdLZMl7qqcEm9GgpAncHS/evqk87i+5fO1B9//PHezJnubVff9H9VBPiDbn/grffbHhKns98q+s8991xvMK//9FKRozPzKjRVKPuXigRlpy8SVHz6QkX9VIHkXyrMVfyo4DnvvPO8P2uZ9T4VMSqms10q+vXfQw895AkvZaqz/F999ZV06dLF2+uv+fqXzoLqjK2KRF+gm/LM5oOtQFdBpC8t/EvbnM5Sah1pXfnXkCFDvBl15ZvpylZ2tfXjVs87SJ0R1ZcVOmuqgtJfJZIp7Wz8te51xYS+EEq9X0Ww1r/+3Re6uZa4+/GkYnyrrbaSxx9/3HOlsT3omdqZvpTSmWJ9+eRfOmOtLzdUoPbp08d7OaOz3Rpf/gsP5a4vbPSl0oABA0Rni7Nd+jJF60y5de7c2TNT/zVtXQ3SmEBXYa5iWGMy22W6xF3bn+arh0vqi57U+vX7FT1g74orrkhkpS8p9MWVvojSOtEXZFpe7QP0xUqmKxMvtdO+yYRX1oLyAwQgAIESJOBeoH/83VLAqF8tt08OrKNeFvyHQJAESkmg68ywikydGdclxjrQT10erpxV6OjM39KlS9Ow64yYnrCuM2h6FVOg6zJvXSKsS15TL51RU6Gjg/ObbrpJrrrqKu80bBU8upTYv3QGTmefTQS6LpVW8aiz1Lq02b9UEOm2AP/SFwMqfnU2UWcIfYGsolN90OuUU07xZnF1m4C/NcC/X192pIokFYi6asF/CZBaTp1dVt9VkOky99RLfdCl+/7sfcOXAWqrZVdx4wt0U57Z2p2tQL/rrru8WX3/uvvuu+Wcc86RF154wZs99y9/BYDWtc5s6mVSdj9ulZ1uI0i9/Fl8XUWh9dFYmTLx19UeOsPri2n/fl09oS+tUl+yZBLoOhus5dUXLzpb7l+6vNpvS7YCXVcDqAhWoayzx3r5L9P87Qw6Q63L4HXLwx577OHZaLvXFwvKQVeu6JkQ2S4V5Zrm008/nWbii+LGBLqy1hlrFfn6T1e/pL6Y0wQbE+jaXnQFjLYdFeb6Ysa/9OWStnO9fF9SOejfNd70xcqyZcu8lwt+XGla+hIr05WJl29nwisrSH6AAAQgUIIEnAv02o/+GguMFTvsF4tyUAgIBE2glAS6CgGdQXryySe9pdYqgnTWUgWlLo/VK9shcTrbrWJHxa5exRToOoPl71POFA8jRozwZkl1dYAuw9cl3amXCnldOp5LoKsI073zuldbl8gqE50J19lJnZHT2Tz/0ll7Xb6us/a6V1iFms7cpc6o6p56XSKf7dL90rrUWS8VvSr4VJSkXvoCQGdoVYhprKqdvixQIab5+VsJdMby1FNPlb/85S+eIEq9dA+23uMLdFOe2fy2Fej60kNfaPiXHzsqHlNXRDRcaWFadj9udf/1f/7znzS3Vbzpfm596aLbEhorUyb++gJLzybIdl1//fXeEnC9Ggp0XZatoljF4k9/+lNPpOqZAWqv4txvS7YC3X8ZpPGgWxpU/Dd8WeAfzJjNb32ppDPT2S6Ne12hoUvpUy994aCz8o0JdLXXZfx6r8apCmxdMaJ9j7YJvbIJdLXVFyIqppWTnn2hWz307xrHqW0428qchn2TvqhQf7RfaPiizC9bobyyguQHCEAAAiVIwL1A/+AvscBYsfMBsSgHhYBA0ARKSaCnslTxo0tYdb+uzqj6S9dNBbq/fLvh7FWmgXehS9x1ibbOZqfut04tiwofFY2FzqDrMnRdJeAfbOXnoTNousw5VaCruNElz7rvVVmoAFHxpTPa/qWrDvTAK59tw1jWLQf+DKj6r8uHn3nmmTQzf7+7ijmdBfcvf8bPF+iNzaBr2vrPF+imPLO1PZ391UPGdJl96qX+a134+fiz1/kKdNOyqw8at4XOoGfirzOueuZB6laG1DLrVgf9p1dDga5CU/dQax2lXtredDtDvgJd09LtFPoyRtuxtmGdVddVL3roo17+LLK2Rz9u9IWB7un3r9SXIw3rupAZ9NS0tN3qtgUV1v6Bf+pPNoHu77FXka2H0vmXvqDTF0v5CHSTGfRMvBoyaYxXtrbC3yEAAQiUIgH3An3eq7HgWLHLgdbl0BkgPRBFH/L6Nl5nHHTwme3SAavOvOmMhQ5CdF/dLbfckra01NoJboBAkQmUqkD3MesMui6d1mWlepkKdH9v8yOPPJJ2OrgubdUlrqnfNy5UoKs40gOv9PA6Xa6d7Sp0D7rOnusMuL508C9dJqvCQPeipgp0/V2FkfaTKsJ1uXrDpdzaR6q495ehNxba2QS6fiNel81rv+yvclA/dDZRZyd9zrr0XYXioEGD0vYWZ9qDbsozm7/a1+ueXWXlX/6Sb529dyXQTcvux63u/y9kD3omga6zr7paQmNP9/o3djUU6LqFRA97S31BowJUX27oFgdfoOuSft2qoQcJ6laN1CvbShU/1vUlm24f0EP4fve73yVu1bQ1brWuNV29bPq6QvagZ2Kk9aLnI+gKET1IUZfO61kB/vkR/j26h15fiOjLH/XBv3Qbi44v8hHo/h50nZHXFQ+Zrky8ivwoIjsIQAACsSHgXqC/n/6mO6qkKnodZOW6HhajyyNVpOsASweaOkOjS+cyHayjb+710CE9bEoPANKlhbqMTwcEekotFwSiQsBm0BqVMmXyU08o10G8Lt3WGVCdvdUlxjpo1ZljFZO+0Mn0HfSGS9x1Bllf5Om+bN0XquJF276KVV3+6lKg6yycvizUA9G0vnQAr0tedfbwxRdf9JYR6z5s/ZuWUQ+T04G8znjZnOKuy2B1ubwu4dUl2f4p6LocWF9ENhToKkp1Blz3KevBZiqiUz85p4y0f1R/dHm17unVJdM6e6p8VEzrCxK9sgl0fVmgp3brCfAqtHS5vi65V0GhPqVy9mcKdX+3pqv56GeodIm21rl/Wr4pz2zx7r94UE76UkO3S+jLWt3/nXpafKEz6DZlTz3FXU/xVj9U/OkhdOqnPtsau7Lx1zrVFQe6RUJflGh9ax0of01fl3xr/evVUKBrDOqhbNrG9HmpZzuoQNQl21onvkD361+3IeiqAd0L768KySbQNdb9mXGtZ20H/vJxv5y6/F33cuvJ5fpSRetNt2/oix31QWMj26UvJDRe9YWYpqGnuOuJ6zom0HbR2BJ3famhvHQsoSsQ9CWX+qL3aMzqSwv9/3qInYp2bb9ads1LX1TolgTlo/coCxXz2q9oe8tHoGsZ/VPc1TfdbqCn/ev5Blou3c+vV0Ne2qfpPn0TXlF+NuA7BCAAAdcE3Av0f7/k2scmSa+iz3f7vEwvHdzqcjwd+PmXPiT14akPrYaXvslWW10K6l8626GDNH14c0EgKgRKRaDrAVX6CTH/O+i6H1NfvukslQo//5vcpjPoWr862L7wwgu9GWId8GpaKgR0b7ZLga55qajUFwG6XFoH9yoA1H897E6XtvsnTeuLCF3Gq/vJ9TNJKhK0b1KBmmsPuuajM5gqulSYqYDQtHyh21Cgq72mr0yHDRvmnVzd8FKhoSJRVxWoQNO9vSroVLDpKeA77rijd0s2gai/6bJ3/VyW3q+H3+lLFt2/rifWp3JW/3SlgfqvKyK0zPrfenq1liX1oDNTnpnaseajzwDNR/cK68yz9v2+4HM1g25Tdj9uVUQqV52JVXGn+6jVL+Xe2NUYf31hpUJbhaLGgr7cUjGpsa4vA1Ts6tVQoGv8KXudDdYXOHqWgIpdfZGVep6D3qtnEegssX+YnC7vVnGeTaDrPZq21q8/G5/pW+86c63xpwcsap1r7Ol2DH2hrodGNnZpXKt4ViGrYlVf4utL+FzfQb///vs9v7Usul9eXzbosn6NYd1T7l/ql/7TF236Msv/Drruz9cXWtqvaL1pG9fD7bS95yvQ9YWGvvzQsypU6Gv/ofWhL7VUsPtXKi/tM3XViimvRmHyIwQgAIESIuBeoP/rhXjg+8F331dNvXQArf8aXjqI0MG5Dnz92Ry10Qek7sfUZYMNL31w60yVDjR0kKiDwRNOOMF7862DNi4IRIVAqQj0qNQHfroloC8z/JcTKkbiemV7sRTX8uZTLvq6fKhxDwQgAAEI2BJwLtBr5qQf0GPrUFjsxz/59hbL17LNHukMSLdu3byloLqM0r/0zbyeiKyzNpkuPeRFZyd0uZ/OEul+Mv1bw882hYUJfkAgEwEGrcRFXAjoIVw6W6v9uC4V1r7bX3quS5b9VQZxKW9qORDouWuVvi43IywgAAEIQKBwAu4F+ju/L9yrEKRQ1vsI4xl0X6DrrLjutfMvPVxGl2WmHpjk/6ZL13TZmT7w9RNDuhxUl+fpUjBdQsYFgagQYNAalZrCz1wE9KRrXbqsQn3VqlXefngVrtqX+6fF50ojqr8j0HPXHH1dbkZYQAACEIBA4QTcC/S/P1a4VyFIofLHxxl7kc8Sd92LpjPnuizev/TgOD3ISQW/HgzDBYEoEGDQGoVawkcIQKBQAvR1hRLkfghAAAIQMCHgXqC/lRScJg6E1aZyn6FWrukhcfpJmNSTbvUAFT1lONMhcXpyrx7eoqe/+9ebb77pLa3UE93978JaOYExBJqAAIPWJoBOlhCAQNEJ0NcVHTkZQgACEChJAu4F+l+TgjPKRCv3O9HKff8za3rAmy5zv/vuu2XKlCned271Uy56Uq0Kbz2dVS89oVU/V6KnovpL3PWEaD1FVj8pxAWBqBBg0BqVmsJPCECgEAL0dYXQ414IQAACEDAl4F6gv/7dt4CjflX2G2ZdBJ091wOFdD+5fjZHv3E+YMAALx39BrJ+s9X/fI7+TT9dpIJeTwlu166d99kf/USRHjjHBYGoEGDQGpWawk8IQKAQAvR1hdDjXghAAAIQMCXgXqC/9oBp3qG2q+x/aqj9wzkIhIUAg9aw1AR+QAACQRKgrwuSLmlDAAIQgIBPwLlAXzf73ljQrRo4IhbloBAQCJoAg9agCZM+BCAQBgL0dWGoBXyAAAQgEH8C7gX6K1NjQa3qoLNiUQ4KAYGgCTBoDZow6UMAAmEgQF8XhlrABwhAAALxJ+BeoL98dyyoVR3yi1iUg0JAIGgCDFqDJkz6EIBAGAjQ14WhFvABAhCAQPwJuBfoL94RC2pVh58fi3JQCAgETYBBa9CESR8CEAgDAfq6MNQCPkAAAhCIPwH3Av2F22NBreqIC2NRDgoBgaAJMGgNmjDpQwACYSBAXxeGWsAHCEAAAvEn4F6gPzspFtSqjr40FuWgEBAImgCD1qAJkz4EIBAGAvR1YagFfIAABCAQfwLuBfozt8aCWtVPL4tFOSgEBIImwKA1aMKkDwEIhIEAfV0YagEfIAABCMSfgHuB/tSEWFCrGnRlLMpBISAQNAEGrUETJn0IQCAMBOjrwlAL+AABCEAg/gTcC/QnxseCWtWQq2NRDgoBgaAJMGgNmjDpQwACYSBAXxeGWsAHCEAAAvEn4F6gPz42FtSqjr0mFuWgEBAImgCD1qAJkz4EIBAGAvR1YagFfIAABCAQfwLuBfoj18eCWtUJ18WiHBQCAkETYNAaNGHShwAEwkCAvi4MtYAPEIAABOJPwL1AnzkmFtSqThwVi3JQCAgETYBBa9CESR8CEAgDAfq6MNQCPkAAAhCIPwH3An3GtbGgVjXs17EoB4WAQNAEGLQGTZj0IQCBMBCgrwtDLeADBCAAgfgTcC/QH/xVLKhVnXJjLMpBISAQNAEGrUETJn0IQCAMBOjrwlAL+AABCEAg/gTcC/Tp8Tj9vOr0eJxGH/8QpoRNTYBBa1PXAPlDAALFIEBfVwzK5AEBCEAAAu4F+rR4fD+86ox4fM+dEIdA0AQYtAZNmPQhAIEwEKCvC0Mt4AMEIACB+BNwL9DvuTwW1KrOvCUW5aAQEAiaAIPWoAmTPgQgEAYC9HVhqAV8gAAEIBB/As4F+tq7/ysW1Kp/MTEW5aAQEAiaAIPWoAmTPgQgEAYC9HVhqAV8gAAEIBB/Au4F+uRLYkGt+tzbYlEOCgGBoAkwaA2aMOlDAAJhIEBfF4ZawAcIQAAC8SfgXqD/9sJYUKu+4PZYlINCQCBoAgxagyZM+hCAQBgI0NeFoRbwAQIQgED8CbgX6P97fiyoVV90RyzKQSEgEDQBBq1BEyZ9CEAgDATo68JQC/gAAQhAIP4E3Av0SefEglr1pXfFohwUAgJBE2DQGjRh0ocABMJAgL4uDLWADxCAAATiT8C9QL/17FhQq75sSizKQSEgEDQBBq1BEyZ9CEAgDATo68JQC/gAAQhAIP4E3Av0W86KBbXqy6fGohwUAgJBE2DQGjRh0ocABMJAgL4uDLWADxCAAATiT8C9QL/pjFhQq75qWizKQSEgEDQBBq1BEyZ9CEAgDATo68JQC/gAAQhAIP4EnAv0NeNOjwW1ViOnx6IcFAICQRNg0Bo0YdKHAATCQIC+Lgy1gA8QgAAE4k/AvUC/4ZRYUGv13w/GohwUAgJBE2DQGjRh0ocABMJAgL4uDLWADxCAAATiT8C9QL9+WCyotbpuRizKQSEgEDQBBq1BEyZ9CEAgDATo68JQC/gAAQhAIP4E3Av00T+PBbVWox+KRTkoBASCJsCgNWjCpA8BCISBAH1dGGoBHyAAAQjEn4B7gX7tCbGg1urXj8SiHBQCAkETYNAaNGHShwAEwkCAvi4MtYAPEIAABOJPwL1A/9XQWFBrdeMs63LccccdcvPNN8vSpUuld+/eMmnSJOnfv3/WdGpra+X666+XBx98UJYtWybbbrut/OpXv5IRI0ZY580NEGgqAgxam4o8+UIAAsUkQF9XTNrkBQEIQKB0CTgX6KuvOjYWNFvf9LhVOWbOnCmnnnqqqEjv16+f3HXXXTJ16lR57733pHv37hnTGjRokCxfvlxuuOEG2XHHHWXFihWyceNG2X///a3yxhgCTUmAQWtT0idvCECgWATo64pFmnwgAAEIlDYB9wL9iiGxINr65iesyrHvvvvKXnvtJXfeeWfivl69esngwYNl3LhxW6T1/PPPy0knnSQff/yxdOjQwSovjCEQJgIMWsNUG/gCAQgERYC+LiiypAsBCEAAAqkE3Av0y46JBeHWt/7euBzr16+X6upqmTVrlgwZknxBcckll8icOXPk1Vdf3SKt888/Xz744AP50Y9+JA888IC0atVKjjnmGPn1r38tVVVVxnljCIGmJsCgtalrgPwhAIFiEKCvKwZl8oAABCAAAecC/dtLfxYLqi1velR0j3jqVVFRIfqv4bVkyRLp1q2bvP7662nL08eOHSvTp0+X+fPnb3HPkUceKbNnz5ZDDz1UrrvuOlm5cqWoaD/44IPl3nvvjQVDClEaBBi0lkY9U0oIlDoB+rpSjwDKDwEIQKA4BNwL9It/WhzPA87lNx1+JGPGjEnLZdSoUTJ69OisAv2NN96Qvn37Jn6/8cYbvdnxefPmbXHP4YcfLq+99pp3OFzbtm293x9//HE5/vjjZc2aNcyiB1y/JO+OAINWdyxJCQIQCC8B+rrw1g2eQQACEIgTAfcC/fyfxIJPy4lPGs+g57PE/fTTT/dm3D/88MMEr/fff1923XVXb+n7TjvtFAuOFCL+BBi0xr+OKQZVi0sAACAASURBVCEEICBCX0cUQAACEIBAMQi4F+jnHlkMvwPPo83k563y0EPi9t57b+8Ud/9Ssa0ntWc6JO7uu++WSy+91Du5vXXr1t4tTz31lBx77LGyevVqZtCt6GPclAQYtDYlffKGAASKRYC+rlikyQcCEIBAaRNwLtC/OfvwWBDdasqLVuXwP7M2efJkb5m7CvApU6bI3LlzpUePHjJy5EhZvHix3H///V66KsL1lPf99tvPW0qve9DPOussOfDAA737uCAQFQIMWqNSU/gJAQgUQoC+rhB63AsBCEAAAqYE3Av0Mw8zzTvUdlvd85K1fzp7PmHCBFm6dKn06dNHJk6cKAMGDPDSGT58uCxYsMA7GM6/dG/6RRdd5C1133rrreWEE07wvonOKe7W6LmhCQkwaG1C+GQNAQgUjQB9XdFQkxEEIACBkibgXKB/ffohsQDadvrLsSgHhYBA0AQYtAZNmPQhAIEwEKCvC0Mt4AMEIACB+BNwL9BPjYlAfwCBHv/wp4QuCDBodUGRNCAAgbAToK8Lew3hHwQgAIF4EHAu0FcNOzgWZNrN+FMsykEhIBA0AQatQRMmfQhAIAwE6OvCUAv4AAEIQCD+BNwL9BMPigW1djNfiUU5KAQEgibAoDVowqQPAQiEgQB9XRhqAR8gAAEIxJ+Ac4H+1dCBsaDWftbsWJSDQkAgaAIMWoMmTPoQgEAYCNDXhaEW8AECEIBA/Ak4F+hfDjkwFtQ6PPFqLMpBISAQNAEGrUETJn0IQCAMBOjrwlAL+AABCEAg/gTcC/RBMRHoTyHQ4x/+lNAFAQatLiiSBgQgEHYC9HVhryH8gwAEIBAPAs4F+hc/i4dA3/ppBHo8QpxSBE2AQWvQhEkfAhAIAwH6ujDUAj5AAAIQiD8B5wJ95U/iIdA7PodAj3/4U0IXBBi0uqBIGhCAQNgJ0NeFvYbwDwIQgEA8CLgX6EfERKC/gECPR4hTiqAJMGgNmjDplzqBkSNHSk1NTaljaPLyr1ixQjp16tTkfpS6A5WVlTJu3LhSx0D5IQCBGBNwLtBXHBIPgd7pZQR6jOOeojkkgEB3CJOkIJCBAG2MsIBAkgDtgWiAAATiTsC5QF9+UDwEeudXEOhxD37K54YAgyU3HEkFAtkI0MaIDQgg0IkBCECgdAg4F+jLBgyMBb1t/jw7FuWgEBAImgDiIWjCpF/qBGhjpR4BlD+VAO2BeIAABOJOwLlAX3rAQbFg1uUvr8SiHBQCAkETYLAUNGHSL3UCtLFSjwDKj0AnBiAAgVIi4FygL9k/HgK96xsI9FJqCJQ1fwKIh/zZcScETAjQxkwoYVMqBGgPpVLTlBMCpUvAuUBftO/BsaC57d/+FItyUAgIBE2AwVLQhEm/1AnQxko9Aig/M+jEAAQgUEoEnAv0z358SCz4bff3l2NRDgoBgaAJIB6CJkz6pU6ANlbqEUD5EejEAAQgUEoEnAv0hXsdGgt+Pd75YyzKQSEgEDQBxEPQhEm/1AnQxko9Aig/Ap0YgAAESomAc4G+YI/DYsGv55yXYlEOCgGBoAkgHoImTPqlToA2VuoRQPkR6MQABCBQSgScC/SPf3h4LPht/38vxqIcFAICQRNAPARNmPRLnQBtrNQjgPIj0IkBCECglAg4F+gf9TkiFvx2+PcLsSgHhYBA0AQQD0ETJv1SJ0AbK/UIoPwIdGIAAhAoJQLOBfqHu8ZDoO/4HgK9lBoCZc2fAOIhf3bcCQETArQxE0rYlAoB2kOp1DTlhEDpEnAu0Ofv8pNY0PzBvOdiUQ4KAYGgCTBYCpow6Zc6AdpYqUcA5WcGnRiAAARKiYBzgT5v56NiwW+XD/4Qi3JQCAgETQDxEDRh0i91ArSxUo8Ayo9AJwYgAIFSIuBcoL+3w9Gx4LfrR8/GohwUAgJBE0A8BE2Y9EudAG2s1COA8iPQiQEIQKCUCDgX6P/e/qex4Nfn42diUQ4KAYGgCSAegiZM+qVOgDZW6hFA+RHoxAAEIFBKBJwL9H/1/Fks+O224OlYlINCQCBoAoiHoAmTfqkToI2VegQUVv6RI0dKTU1NYYmE6O4VK1ZIp06dQuRRYa5UVlbKuHHjCkuEuyEAgVgRcC7Q5/Q4JhaA9lj4+1iUg0JAIGgCiIegCZN+qROgjZV6BBRWfuKnMH5B3039BE2Y9CEQPQLOBfq73QdFj0IGj/f89KlYlINCQCBoAgwugiZM+qVOgDZW6hFQWPmJn8L4BX039RM0YdKHQPQIOBfob287OHoUMnj8o0VPxqIcFAICQRNgcBE0YdIvdQK0sVKPgMLKT/wUxi/ou6mfoAmTPgSiR8C5QP97tyHRo5DB4x8vfiIW5aAQEAiaAIOLoAmTfqkToI2VegQUVn7ipzB+Qd9N/QRNmPQhED0CzgX6X7seGz0KGTzeb8njsSgHhYBA0AQYXARNmPRLnQBtrNQjoLDyEz+F8Qv6buonaMKkD4HoEXAu0N/oclz0KGTweP+lj1mX44477pCbb75Zli5dKr1795ZJkyZJ//79c6bz+uuvy4EHHih9+vSROXPm5LTHAAJhIsDgIky1gS9xJEAbi2OtFq9MxE/xWOeTE/WTDzXugUC8CTgX6K9vc3wsiPVb9qhVOWbOnCmnnnqqqEjv16+f3HXXXTJ16lR57733pHv37lnT+vrrr2WvvfaSHXfcUZYvX45At6KOcRgIMLgIQy3gQ5wJ0MbiXLvBl434CZ5xITlQP4XQ414IxJOAc4H+522GxoLUgGWzrMqx7777ekL7zjvvTNzXq1cvGTx4cKPftzzppJNkp512kmbNmsmTTz6JQLeijnEYCDC4CEMt4EOcCdDG4ly7wZeN+AmecSE5UD+F0ONeCMSTgHOBPrtzPAT6wOXmAn39+vVSXV0ts2bNkiFDkofkXXLJJZ7gfvXVVzNGz7Rp07wZ9zfffFNuuOEGBHo821jsS8XgIvZVTAGbmABtrIkrIOLZEz/hrkDqJ9z1g3cQaAoCzgX6y51PbIpyOM/zgE/vl9ra2rR0KyoqRP81vJYsWSLdunUT3Uu+//77J34eO3asTJ8+XebPn7/FPf/5z3/kgAMOkNdee0123nlnGT16NALdeS2SYDEIMLgoBmXyKGUCtLFSrv3Cy078FM4wyBSonyDpkjYEoknAuUB/KSYC/fXzesmYMWPSanXUqFGekM4m0N944w3p27dv4ucbb7xRHnjgAZk3b17aLZs2bZL99ttPzjzzTDn33HO93xDo0WxAeC3C4IIogECwBGhjwfKNe+rET7hrmPoJd/3gHQSagoBzgf5855OaohzO8zzo0+nGM+i2S9xXrVol7du39/ad+1ddXZ3U19d7f3vxxRfl4IMPdl4mEoRAEAQYXARBlTQhkCRAGyMaCiFA/BRCL/h7qZ/gGZMDBKJGwLlA/0NMBPpRyx+2qks9JG7vvff29pT716677iqDBg3a4pA4FeN6unvqpff96U9/kkcffVS+//3vS6tWrazyxxgCTUWAwUVTkSffUiFAGyuVmg6mnMRPMFxdpUr9uCJJOhCIDwHnAv3Zzj+PBZ2jlz9kVQ7/M2uTJ0/2lrnffffdMmXKFJk7d6706NFDRo4cKYsXL5b7778/Y7oscbfCjXGICDC4CFFl4EosCdDGYlmtRSsU8VM01HllRP3khY2bIBBrAs4F+lPbnBwLYIOW/c66HDoLPmHCBFm6dKn06dNHJk6cKAMGDPDSGT58uCxYsEBmz56NQLcmyw1hJsDgIsy1g29xIEAbi0MtNl0ZiJ+mY2+SM/VjQgkbCJQWAecC/cmYCPTBeQj00godSguB7wgwuCASIBAsAdpYsHzjnjrxE+4apn7CXT94B4GmIOBcoD/aZVhTlMN5nscvneE8TRKEQBwJMLiIY61SpjARoI2FqTai5wvxE+46o37CXT94B4GmIOBcoM+KiUAfikBvingkzwgSYHARwUorcZf1TJCamprIUFixYoV06tQpMv5WVlZucThqZJyPoaP00eGuVOon3PWDdxBoCgLOBfpDXeMxg/7zJcygN0VAkmf0CDC4iF6dlbrHxGywEQDfYPnapk592BIrrj31U1ze5AaBKBBwLtBndD0lCuXO6eOwJQ/mtMEAAvkSiNoMXmPljNrsXmNlYeYv34iO1n0MiIOtL/gGy9c2deojO7EwPIvD8gzl+WfbsrCHQHAEnAv0B2Mi0E9BoAcXdaTMwWohjQEGsiGtGMduUc+OgTZIDr7B8rVNnfrITgw2STawsG1Z2EMgOALOBfp93eIxgz58MTPowYUdKfMgDGcMUC/hrBfXXlHPrommpwffYPnapk59INBNYoY4MaGEDQSKQ8C5QJ8WE4F+BgK9OBFYornwIAxnxVMv4awX115Rz66JItCDJVpY6sQ7At0kgogTE0rYQKA4BJwL9CnbxmMG/exFzKAXJwRLMxcehOGsd+olnPXi2ivq2TVRBHqwRAtLnXhHoJtEEHFiQgkbCBSHgHOBfldMBPo5CPTiRGCJ5sKDMJwVT72Es15ce0U9uyaKQA+WaGGpE+8IdJMIIk5MKGEDgeIQcC7QJ28Xjxn0cz9jBr04IViaufAgDGe9Uy/hrBfXXlHProki0IMlWljqxDsC3SSCiBMTSthAoDgEnAv022Mi0C9EoBcnAks0Fx6E4ax46iWc9eLaK+rZNVEEerBEC0udeEegm0QQcWJCCRsIFIeAc4H+vzER6Bch0IsTgSWaCw/CcFY89RLOenHtFfXsmigCPViihaVOvCPQTSKIODGhhA0EikPAuUCf2D0eS9z/61OWuBcnBEszFx6E2et95MiRUlNT0ySBsWLFCunUqVPR866srJRx48YVPd9SzZD2F2zNwzdYvrapUx8IdJOYIU5MKGEDgeIQcC7QfxMTgf5LBHpxIrBEc+FByIAplQDxUNyOAN5J3kG8EAvqRRcvsvJrJ8Q7zxuTyCFOTChhA4HiEHAu0Cf0iMcM+pULmUEvTgiWZi48CBkwIdCbru3T/pLso8QiSr42XXRvmTPceN6YxCNxYkIJGwgUh4BzgT4+JgL9agR6cSKwRHPhQciACYEuEsTsrUmXEtQMb2N5h3X2N0p9UZR8NYnDYtnALX7PmyD6ziD6xbD2e8Vqe+QDgXwJOBfo42Ii0Eci0PONKe4zIMCAKX4DJoNqz2pSqvFQSuUOa1nD6lemxhIlXwvpD/x7XYkwF8IrrkIrqjEVFb+j4qeL9koaEHBJwLlA/3WPYS79a7K0rl04o8nyJuP4E+ChhUBnBl2klNpBWMsaVr8Q6OFqH1GKE5sRRFTLFRW/o+KnTcxgC4FiEHAu0K+PiUC/DoFejPhr8jxczVDYFsTFjIZtnlGZASnFB3opllnjt5TKHdayhtUvBHq42keU4sTm2RjVckXF76j4aRMz2EKgGAScC/TresZjBv36BcygFyMAmzqPUnp4RKWsUfHTZeyWYpkR6C4jKP+0ohR7UfI1/xpJ3hmm8obJFxds/TSiWq6o+B0VP13GFGlBwAUB5wL9v3ue7MKvJk/jhgW/a3IfcCB4AqX08IhKWaPip8voLMUyI9BdRlD+aUUp9qLka/41gkB3wc40jajGVFT8joqfpvGCHQSKRcC5QB8ZE4E+DoFerBhs0nyi9vAoZEl+Icvqi7k8Pmp14iKAS7HMCHQXkVN4GsWIvUL6rdQSFtKH+ekUsy8rtHaKUTemPobJF1OfTeyiWq6o+B0VP01iBRsIFJOAc4F+Vc+fF9P/wPK6acFDgaVNwuEhELWHR1P5W8x8i5lXWCKxFMuMQA9H9BUj9oqRhynNMPmSy+cw+RomX3Jxs/k9quWKit9R8dMmZrCFQDEIOBfoV8ZEoE9AoBcj/po8j6g9PJrK32LmW8y8mjwA/78DpVhmBHo4oq8YsVeMPExphsmXXD6Hydcw+ZKLm83vUS1XVPyOip82MYMtBIpBwLlAv6znScXwO/A8bl3wcOB5kEHTE4jaw6Op/C1mvsXMq+kj8DsPSrHMpVbusNZxMfwqRh6mbTlMvuTyOUy+hsmXXNxsfo9quaLid1T8tIkZbCFQDALOBfp/xUSgT0SgFyP+mjyPqD08msrfYuZbzLwKDUD21hZGMEp1XVhJw/sSphh1UIw8TOsnTL7k8jlMvobJl1zcbH6Parma0m+b557NuRFROh/CJsawhUA+BJwL9It7npiPH6G7538WzAydTzjknkBTPuTyKU1T+VvMfIuZVz51kHpPmHwNky+mXKPos2nZGtqFtazF8KsYeZjWS5h8yeVzmHwNky+5uNn8HtVyNaXfQeUdVLo28YAtBMJCwLlAvzAmAv12BHpYYjRQP6L2QGgqf4uZbzHzKjS4iuWryYyF6UxFmGYpisWv0Hp2cX9Yy1oMv4qRh2kdhcmXXD6Hydcw+ZKLm83vUS1XU/odVN5BpWsTD9hCICwEnAv083qeEJayFeTHnQseKeh+bo4Ggag9EJrK32LmW8y8Co3SYvnqMh+XaUWFX6F+urg/TNxTy1MMv4qRh2kdhcmXXD6Hydcw+ZKLm83vUS1XU/odVN5BpWsTD9hCICwEnAv0c3oODUvZCvLjrgWzCrqfm6NBIGoPhKbyt5j5FjOvQqO0WL66zMdlWlHhV6if/v0mKxmy5WW6wiHT/UGueihGPBQjD9O6Ma2HIJmbxmMxuKkvJuyixM2Ur9oVi7GNTy7qI8j4DYpZUOnasMcWAmEh4Fygnx0TgT4FgR6WGA3Uj6g9EIrhb6bBQbbBWRCDgGKU0VVQFctXl/m4TKtQjmHyxaQsTeVvkPkGmbbPNIp5FMPnXDFXLB9c5uMyrVx8XPweRn9d+OQijWx8g0o7qHRdxAlpQKDYBJwL9BE9jy92GQLJ794Fj1qne8cdd8jNN98sS5culd69e8ukSZOkf//+GdN5/PHH5c4775Q5c+ZIbW2tZz969Gg54ogjrPPlhvwJRO2BUAx/bfKwsTWtpSDSNM3b1q5Yvtrkk2v2xWQmLIgXL5nY2pTLtm6CsG8qf4PMN8i0EeiFRWEx6kY9dJmPy7QKo2d2dxj9deGTizQQ6GYxhBUEgiDgXKCf0fO4IPwseprTFjxmlefMmTPl1FNPFRXp/fr1k7vuukumTp0q7733nnTv3n2LtC699FLp2rWrHHTQQdKuXTuZNm2a3HLLLfK3v/1N9txzT6u8Mc6fQJAPsfy9yn5nMfy1ycPG1pRHEGma5m1rVyxfbfKxsS32AKxhfi58ta2zQuybyt8g8w0ybQR6IdHmVjg35onLGHCZVmH0zO4Oo78ufHKRRrGfD0H6bBYNWEEgPAScC/RTexwbntIV4MkDCx+3unvfffeVvfbay5sV969evXrJ4MGDZdy4cUZp6Sz6iSeeKNddd52RPUbZCeSaRfTvNJlNVNtizSjmqtNiPMBs8rCxzVW2Yg7mTX3JZRdE+TPlaZOPjW1QAzDaX67IsfvdRZ0GVdcmJQnS/6D6jWL4nItdsXxwmY/LtHLxafi7ab+Tep/pGMC/pxhjARcMXaRR7D4jSJ9tYwl7CDQ1AecC/ZSYCPR7PnjIW3qeelVUVIj+a3itX79eqqurZdasWTJkyJDEz5dccom3hP3VV1/NWc91dXXSs2dPufLKK+XCCy/MaY9B4wRcd/Su08vkvcngItdgwsXgwaasNrYm5VMuucpYzIFSrnZmU/5caTX2u00+NrbZ6iRTHdjElo0PJlxcp2eSZyabpvLDRb5B1bVyytW2c7Vpm9gqlmhwwTxXnBXKTdMvNruw+NxU7bMYcWGbR7HPjbH1r2Fd2fRFrmI8V1vkdwiEjYBzgX5yj6RADVthbfzZ+YzdZcyYMWm3jBo1ytsn3vBasmSJdOvWTV5//XXZf//9Ez+PHTtWpk+fLvPnz8+Zte5dHz9+vLz//vvSqVOnnPYYNE6g0AdIw9RdpxfU4MKFnzZpBGVrEt82eZukl49NsXywySdqtibcbcpkkl6+Nk3lh4t8bdKwsVWWtvZB9K82PuQSmepfVF4q2JQ7W9zbpGFj6yI/m7bqwrdcsZErLlwIStty2Njb2AZVf7Y+2NrbxAy2EAgrAecC/cQeg8NaViu/7v9gpvEMui/Q33jjDenbt28inxtvvFEeeOABmTdvXqN5P/TQQ3LWWWfJU089JYceeqiVnxhnJmDboRf6UC72LEZQD07bwbYNZxtbk7h2nZ5JnkEIC5N8bcoaNVvX5TdJL5NNrj6gWKItqNmwoOLCts/IxN7GNxd9n21+YagTF+V2kYYtu6DqO6h0w1A+Wx9s7G1sbWa6bcZANj646F/yfSZwHwSakoBzgT60x6CmLI+zvGctfMo4rUKWuOvhcmeccYa3PP7oo482zhPDxgkU+wFgm1+hgwubB6fmFdTD06bcNrYm8e06vXxEWzFmU2wHKDZcwmCr5csljnNxtolvFyIlLGmEpf5s/Ci073PB3tZfG/ugbG36fNv2EEWfwxBHLmLRRTmCqr8wpGv7/DMZO2ADgSgQcC7Qj+1xTBTKndPHxxf+PqdNqoEeErf33nt7p7j716677iqDBg3KekiczpyPGDFC9H/1MDkudwRsHiwuHgC2+RX6ULbNz8Y+DLa5BJvyQ7Rlbi9hqD8bH6LY/oIamNuysOEclK2tz2GYjbZhYVs+m7TDYBvF8oWl/QX10sQmLqJYf0GWz90okpQg0LQEnAv0Id1/1rQlcpT7E58+bZWS/5m1yZMne8vc7777bpkyZYrMnTtXevTo4c0QLV68WO6//34vXRXlp512mtx2221y7LHJk++rqqqkbdu2VnljvCWBIB8ADDCTvG04B2Wr3oShTsIyaAyKc1Dp2g4ww1DXNgNzLZ/NjGZQnINK17b+gvIjqHQpX3rPFhRnm3Rpf+GrE5v6s7G1bX+MhyEQFwLOBfrPuv80Fmye/vQZ63Lo7PmECRNk6dKl0qdPH5k4caIMGDDAS2f48OGyYMECmT17tvffAwcOzHi6++mnny733Xefdd7ckP8Dy/YBYPNwCYMt5cs/Nmzqz2bQaCPYqL/i1J9NXdvYUn/Un4uXdzYxZ2NLfBKfcYpPxsIQiAsB5wL9p93jsY/6mU+fjUsdl2Q5GKBEe9BB/VF/YR40Ep/EJ/GZe2hh006CsuUFRLTbqm395Y5KLCAQDQLOBfpR3Y+KRslzePmHT/8Qi3KUaiFsHva2DwCbtMNgS/lKa4AShpiz8YH4JD7DLHaJT+KT+Mw9krTp821sbdtfbk+xgEA0CDgX6Eds95NolDyHly989lwsylGqhQjyAWCTdhhsbR9wYfDZxgfKxwCaAXTunt6mTdnY0v5of7Q/2p9Nn2Fja9u/5K4JLCAQDQLOBfrh2x0ZjZLn8PLFz56PRTlKtRBBPgBs0g6Dre0DLgw+2/hA+RAICITcPb1Nm7Kxpf3R/mh/tD+bPsPG1rZ/yV0TWEAgGgScC/RDtj08GiXP4eXLi16MRTlKtRBBPgBs0g6Dre0DLgw+2/hA+RAICITcPb1Nm7Kxpf3R/mh/tD+bPsPG1rZ/yV0TWEAgGgScC/SDtj0sGiXP4eUri16KRTlKtRBBPgBs0g6Dre0DLgw+2/hA+RAICITcPb1Nm7Kxpf3R/mh/tD+bPsPG1rZ/yV0TWEAgGgScC/QB3Q6JRslzePnnxS/HohylWoggHwA2aYfB1vYBFwafbXygfAgEBELunt6mTdnY0v5of7Q/2p9Nn2Fja9u/5K4JLCAQDQLOBXr/mAj01xDo0YjgLF4G+QCwSTsMtrYPuDD4bOMD5UMgIBByd9c2bcrGlvZH+6P90f5s+gwbW9v+JXdNYAGBaBBwLtD7dTs4GiXP4eXri/8Ui3KUaiGCfADYpB0GW9sHXBh8tvGB8iEQEAi5e3qbNmVjS/uj/dH+aH82fYaNrW3/krsmsIBANAg4F+j7dR0YjZLn8PKvS2bHohylWoggHwA2aYfB1vYBFwafbXygfAgEBELunt6mTdnY0v5of7Q/2p9Nn2Fja9u/5K4JLCAQDQLOBfo+XQ+MRslzePnWkldjUY5SLUSQDwCbtMNga/uAC4PPNj5QPgQCAiF3T2/TpmxsaX+0P9of7c+mz7Cxte1fctcEFhCIBgHnAv1HXfpHo+Q5vHx76WuxKAeFgAAEIAABCEAAAhCAAAQgAIFoEHAu0PfqckA0Sp7Dy3eW/iUW5SiFQjRv2c24mGd37WdsWyt1xrbr681tNdFTaloap72ieXNj27XlxqbSfmO9sXFteZmxrRr+qPIrY/utOq4ztt1Y28zYtnnFJmPbtxZuY2yrhh3qN1jZmxo/WmVegT9dZ14nC1uYx5Cpr77d8D+canxLfV0w3GTTRmMf1LCsVXtz+2YtzG03BVQ+y/6lft235j6Xm8dcWUUr83RtuJWZ++A5sLHW3I+WVea26837IrFId+NDt5v7oPHZditz+9r1xrZl7SzS7dDROF1ZZ8FNU7WIuWb7Hm3uh4VlvU1dt6iwSHmz6Qbz+Kz/YpF52hbc6mvWGKdb1qGrsa3Xf1q07fpacz/Eok4q+/7cymeMIRA1As4F+p7bmAugMMN6d9nrYXYP31IIINCTMBDoSRYI9CQLBHp6l4lAT+FhMehHoKdwQ6AnYSDQ0zsYBHqCRxgE+vDhw2XVqlXy5JNPGo+d3333XRk7dqz8+c9/lq+//lq6d+8uBx54oFxxxRWy8847G6eDIQTyJeBcoO+2Td98fQnVff9a9mao/MGZ7AQQ6Aj0TNGBQEegZ+s1EOgI9IyxYTGDxwx6CkEEOgI9S2cbRYH+zDPPyHHHHSdHHHGEXHzxxbLDDjvIihUrZNasWfLZZ5/JzJkzGZJDIHACzgV6n877Be50MTL49/K/FiMb8nBAAIGOQEegN96QmEFP54NAR6Aj0HM8fFningTEEve0YInaEvfUGfSBAwfKbrvtJpWVlTJ1UEjGegAAIABJREFU6lRp2bKlnHvuuTJ69GivjGvXrpUePXrIAQccIE888cQWjURn4tu1a+dg5EoSEGicgHOB3qvTPrFg/v6Kt2JRjlIoBAIdgY5AR6Db9HUIdAQ6Ah2BbtxnINBDJ9DL9jpWamvT9/pXVFSI/mt4NRTounz9sssuk5NPPlnefPNN0d9feOEFOeywwzxRfuyxx8obb7whffvGY0WwcZxjGCoCzgX6Lp1+HKoC5uvMvBV/z/dW7muEwMiRI6WmpsYJo4kTJ3rpINAR6Ah0BLpNp4JAR6Aj0BHoxn0GAj10An38C/NlzJgxaX6NGjUqMROe+kNDgb5p0yZ57bXkl5r22WcfOfjgg2X8+PEyYcIEueqqq+TLL7+U9u0tDhM1DiYMIWBGwLlA3+l7e5vlHHKr/3z+j5B7GE33bL9/aVJKBDoCHYGOQDfpK3wbBDoCHYGOQDfuMxDooRPohcyg9+7dW377298myjRo0CDZeuut5d5775WbbrpJrr76agS6cePAMCgCzgX6Dh33CsrXoqb70cp3ippfqWSGQP+upvnMWjLi+cxakgWfWcuzJ+Qza2ng+MxaCg6L09ZtPvPEIXEpjDkkLr3j4hT3BI+wHRKne9D32GMPmTRpUsLHwYMHe/vK77vvPpa45/kI5jb3BJwL9O077uneyyZI8eOV7zZBrvHPEoGOQG8Y5Qh0BHrBPR8CHYGeLYgQ6AkyfAc9GSR8Bz3JIu7fQW+4xL0xgb5mzRrp2bMnh8QV/FAmgUIJOBfoPbberVCfQnH/wi/+FQo/4uYEAh2BjkDP3qqZQc+zx0OgI9AR6DkbDwIdgZ4pSBDoyRl05fPUU0/J0KFD5cgjj/Q+s7bjjjvKypUr5ZFHHpFPP/1UHn744ZxtDQMIFErAuUDv3uGHhfoUivs//fL/QuFH3JxAoCPQEegIdOf9GgIdgY5Az9msEOgIdAR640vcfT5vv/22jBs3zjtM7ptvvpHtttvOO0juiiuu8AQ7FwSCJuBcoHdr3zton4uS/uKv5hYln1LLJAiBfl7PE4wxTlnyurHtkC4/MrZtIeXGtmp4yKZWxvZfNDM2lRVlm4yND6gpM7Zd0sKufEdtvdw47eqt1xvb1m8y97m8Rb1xuh/N3drYVg23qkr/vIvVzY0Yv7TB/NTY/TauNc720/oqY1s1rK6rM7Y/5LmfG9vKpg3mtvXmPoiFv+pAWbXFd2zLLWLf0g9TGPX15u3aS3Pt16ZJb4ZhUb5K836rrLyFuQ82jDenWr/RvP2VtTCP/foN64x9tkl3/ZTkfleTDMrbtTYx82zqa837z/KtzfuXsk7fM/dhzWpjW8+wWXNj+2YDBhvbikWfYbPEvaz5lp/uaswpm/is//xT8/JZcJO15nVStnUXcx/U0ubQvJo1xmnb1EnVQWcZp4shBKJIwLlA79Ju1yhy2MLnpavei0U5wlYIBPp3NYJAT0YmAj3JAoGe0mNZDLYR6A16egR6AoiNkEagJ+MIgZ7CAoGe3sEg0MM2tMafGBJwLtA7t90lFpiWfz0vFuUIWyEQ6Aj0hjGJQEegZ+ynEOgJLMygp0eIzQwlAj3Jjhn0JAub2Vpm0Bv00Aj0sA2t8SeGBJwL9O+1/UEsMH3+9fxYlCNshUCgI9AR6NlbJTPozKBnig4EOgI9W6/BEvf8+gwEesoKAZa4h22ojD8QEOcCveNWO8cC68pvPohFOVwXYuTIkVJTU5N3sitWrJAZM2bkfX+mG9mDnqTCHvSU2SL2oCdgsAc9vedgD3oKD/agJ2CwxD1FtLEHPQGDGfQGIy9m0J2OYUkMApkIOBfo7VvH43TDr1Z/SMRkIFDoDHih9yPQGw9LBDoCPVOEINAR6Fl7DgQ6Aj1DcLAHPeVlBXvQ0yMEgY4+gEDgBJwL9Latdwjc6WJk8PXqj4qRTeTyKFRgp95f6Gz8xIkTPX7MoCfDCIGOQEeg5+5WmUFPYYRAR6Aj0BvtNJhBb4AHgZ77IYMFBAok4Fygt67+foEuheP21Ws/CYcjIfPCpUAvNC0fDQIdgZ6pmfCZtSQVZtDTIwSBjkDP1GewxD1JhRn0FBbMoKc3FwR6yEbmuBNHAs4FeqvqnrHgtGbtgliUw3UhChXVqfcXmhYCfcvaZQY9yQSBjkDP1v8h0BHoCPTGRwcIdAR61ghBoLseWpMeBLYg4FygV1Z2jwXmmppPrctxxx13yM033yxLly6V3r17y6RJk6R///5Z03n11Vflsssuk7lz50rXrl3lyiuvlHPPPdc632LeUKioRqB/V1t8Bz0ZtXxmLcmCU9xTejM+s5aAwSnu6U85PrOW5MEp7vn1GZzinvICglPcizmMJi8IGBFwLtArKrczyjjsRrU1n1m5OHPmTDn11FNFRXq/fv3krrvukqlTp8p7770n3btv+dLik08+kT59+sjZZ58t55xzjrz++uty/vnny0MPPSTHHXecVd7FNEagZ6bdQsqtqgGBjkDPFDAI9PwG21JXZ9X+mEFPwcUe9OSLkA3rjOPI5vvq66dMMk5XDcvbtTa2R6Dn12cg0BHoxo0MQwg0AQHnAr1lxbZNUAz3Wa6vXWSV6L777it77bWX3HnnnYn7evXqJYMHD5Zx48ZtkdZVV10lv//97+X9999P/Kaz5//85z/lzTfftMq7mMZhFOgjeh5vjODb+g3Gtk8sfdvY9vBtdje2VcNz1rcztv+qmbn4/6qZcbKyW605iy/Lm5snvNmyb/elxvZVHTcZ29ZvNDaVMguX//Pu1uYJb7Zs2yr/Tw02ltHLNR2M/ehX9q2x7fLaKmNbW8OBL55mfssmiwo0T1Vkk3ksa7Jlrc05i42ADap8NqsJNpevfu0qc3oW5SurMBeO0syiAdrYasnWW7S/lpXmLDauN7dt3tLYdsP0/zG2VcPydlsZ29sI9LL2bY3TLetg0SeuW2OcrmdoUd/lBww2T9umnaw3fxkjFnXtOWsRR3UrzSeDypq1MGZRv878+VC2dVfjdG3rT2osYmODefur7H+qnc9YQyBiBJwL9OYtu0UMQWZ313z7sdTW1qb9WFFRIfqv4bV+/Xqprq6WWbNmyZAhQxI/X3LJJTJnzhzRpewNrwEDBsiee+4pt912W+KnJ554Qk444QRZu3attGhh3hEXEzgCPTNtBHo6FwR6fq0SgZ4fNwR6OjcEegoPBHoCBgI9JS4Q6Mm4KAGBvmLFCrn22mvlueeek+XLl0v79u1l9913l9GjR0vfvn2lZ8+esnDhQm+CbL/99kuwufTSS71x/OzZs72/qf2TTz7p/Y0LAkEScC7Qg3S2mGlrIxwzZkxalqNGjfIaZ8NryZIl0q1bN2+Z+v7775/4eezYsTJ9+nSZP3/+FvfsvPPOMnz4cLnmmmsSv73xxhve8nhNr0uXLsUsrnFeCHQEukmwINBNKG1pg0DPjxsCHYGeNXIQ6Aj0TMGBQC8pga7nQW3YsMFb0br99tt7Iv3ll1+W3XbbTY4++mhPoOvf9tlnn7RJNQR6ns9kbiuYAAI9C0KdPTedQfcFugpsfRPnXzfeeKM88MADMm/evIwC/YwzzhD9Frh/qcA/4IADvEPmttlmm4IrN4gEChXoqd8+1zeaM2bMKNhNlrgnEbLEPcmCJe5JFixxT+9mWOKewoMl7kkYFkuTbZY9s8S9wWOeJe4JICxxT4mNgJa4r1q1ypsx11nwAw88MOOYUwW6bknVbaq6mvWoo47y7BDoBQ/RSSBPAgj0PMGl3sYS9/wgFir2/VwR6Aj0TBGIQEegZ+uZEOgI9IyxgUBPYGEPekqEsAc9vblYvGAJwx70jRs3egL9rLPOkvHjx2fcqqoCXcW4HuCsQv7dd9+V8vJyBHp+w3vuckAAge4Aoiahh8Ttvffe3inu/rXrrrvKoEGDsh4S9/TTT3unvPvXeeed5+1rifMhcam4EehmwcchcUlOHBKXZMEhcSnth0Pi0joT9qCn4GCJe1J0c0hcMjBY4p6MiwjuQS/b5wTjVa5a0Mcee8z7atK6deu8A511Jv2kk07ylrjr5Qv0YcOGyQ477CC//e1vvS8zMYNuNk7Fyj0BBLojpv5n1iZPnuwtc7/77rtlypQp3jfOe/To4S1lX7x4sdx///1ejv5n1vQTa9ppqCjXU9zj/pm1bAI9dem7aZVMnDjRM2UGPUmMJe5JFsygJ1mwxD29V2EGPYUHS9yTMJhBT4o2TnFPxgUz6OkdaAhm0Me//JHxOVG+8zU1NfLaa6954+3nn39e3nrrLe9zyHoelC/QVZBff/31Mm3aNO/8qCuvvJJD4kwH5dg5JYBAd4hTZ88nTJjg7SHXb5yrgNTT2vXSDmDBggWJkyD1b3q6u84iq4jv2rWr6KfXVKSH+XI1661lTE2rkHQR6Aj0TG0GgY5Az9aXItAR6BljA4GOQM8UGAj00Al02xn0TNWqS95feukl7/T2VIG+evVqbxZdJ4503M4p7mFWJfH1DYEe37oNpGSFCOmGDiHQzaqIJe5JTixxT7JgiXtK+2GJe1pnwhL3FBwscU+Kbpa4JwODJe7JuIjgEncX30G/9dZbRb+2tHLlyjSBrmBuv/12b4b+Zz/7mXz88cd8Zs1suIqVQwIIdIcwSyEpBHrmWuY76Olc+Mxafr0Bn1nLjxufWUvnhkBHoGdqSXwHPYUKAr1kBPoXX3whQ4cOlREjRnh7ztu0aSNvv/22XHTRRd4n1u65554tBLp+kq1Xr17e1lQ9Yyr1O+i6FVW3taZerVu3lh133DHPBxi3QWBLAgh0osKKAAIdgW4SMAh0E0pb2iDQ8+OGQEegZ40cZtCTQowZ9GSYINBLRqDrJ5NHjx4tL774onz00Ufe99C32247T7Rfc801UlVVtYVAVzgqxE8++WTvQLlUga4z6w2vVJs8n2LcBoE0Agh0AsKKgEuB7uqb6Kf0ONa4DHVSb2y7qr7W2PbFZf80tlXDZ9r3N7b/qlkzC9syY9sfrN9gbPt1mbkPmuiPt1tunHZVx43GtnXrjU2lvKW57QdzOpobb7bcqso8Nurrzevkj5vaGvtxYP23xrZL11cb29oaHvrScONb6uvMY844UTXcZB5Dal7Wqr158uUWsV+3yTxdG8v6OhtrqV/7tZW9qXFZZRtTUxGbg6RsGKsHNuKqZZW5zxvM27W0qDBOd+Pvfmts68XnVq2N7etrzTvFsvbtjNO1+8zaWuN0PUOLZ1p535+Zp11n0U5sYsiirj1nLeKo7ovPjMtX1qyFsW39OvPnQ1mHrsbpfld/zc3ta9eY29p8B73fMPN0sYRABAkg0CNYaU3pskuBnlqOQtJFoCdJftXMXAwi0JPcEOj59yoI9BR2CPQkDJtBPAI9rQEi0JM4EOhJFgj0JItKBHr+D23ujAQBBHokqik8ThYipBsrRSHpItAR6Jliixn0JBVm0NMjhBn0/J4pzKCncLOYVWUGvUG8MYOeAMIMekpsMIOeX8fMXbEkgECPZbUGV6hChDQCPUmAJe5JFixxT7JgiXuefRdL3NPAscQ9BQdL3BMwWOKeEhcscU/GBUvc83zwcBsEgiOAQA+ObSxTRqBnrlb2oKdzYQ96kgd70FNYsAc9v+cCe9DTudmIKwQ6Aj1Tq7OJIYvVEl5W7EFPEmcPen59PneVPAEEesmHgB0ABDoC3SRiEOgI9ExxwiFxJq0ngw0CHYGeJXQ4JC4FDIfEJWBwSFyefS23QSAkBBDoIamIqLgRlEBPPdHdlMXEiRM9U/agJ4lxSFySBXvQkyzYg57eq7AH3bSXbcCNU9yTQCxmVdmD3iDe2IOeAMIe9JTYYA96fh0zd8WSAAI9ltUaXKGCEuiFeIxAR6Bnih8EOgI9W7+CQM+vx+WQuBRuCPQkjHV8Zi2tRbHEPYmDJe75dbbcVfIEEOglHwJ2ABDomXmxBz2dC0vckzzYg57Cgj3odh2ub80S93RuNvuH2YOeYMchcSlhZBNDFi9jvBwQ6Aj0/Hp67oJAsr+u33zBAwKmBBDoCHSTWEGgI9AzxQl70E1aTwYbBDoCPUvosAc9BQx70BMw2IOeZ1/LbRAICQFm0ENSEVFxA4GOQDeJVQQ6Ah2BbtJSDG0Q6Ah0BHruxoJAR6DnjhIsIBAJAgj0SFRTeJxEoCPQTaIRgY5AR6CbtBRDGwQ6Ah2BnruxINAR6LmjBAsIRIIAAj0S1eTeyXxOTVcvVqxYITNmzHDvUAEpPt/5JOO7F7dobmzbcWOdsW2F5QD6p1+9Zpz20C4/NrZtVWZevsNqK4zTnWtu6qU5ot0K47Srt15vbFu3oczYtqyZ+e6dr5dVGaerhlWtNxjb22wiWrCog3G67SprjG2XrGtlbKuGHVuYp937gZ+ap20zgLZpUzbpbva2rFVbc5+bmbcpCcpny/LVf/25eflsLFu3M7cuLze2LStrZmyrhvU2B0+1rDRP2+IU6TKLve1fXzfV3IfNlpXbmsfcpm82GqfdokcbY9tm3bcxtq3/ZrWxrWfY3Ly+m/3kWLu0Ta1rLA62q7CIIc2/1rz/rF/ysanHIi1amNuuXWNuu3Vnc1u1bNHS3H6tRWxsNB8LVB17jbkPDixnz54tBx10kHz11VfSrp1FP+ggb5IoTQII9NKsd8l3Jjzf+4LEjEBP0kWgJ1kg0JMsEOjpPRACPc8eGYGeAIdAT8YQAr1Be0KgJ4GERKDr5NK1114rzz33nCxfvlzat28vu+++u4wePVr69u2bs0M0Eei+jZ9YZWWlbL/99nLJJZfIL37xi5x5YACBVAII9BKNh3yFdr73BYkZgY5AzxRfCHQEerZ+B4GeZ4+MQEegZwgdBDoCPWuPEhKB3r9/f9mwYYOMGzfOE80q0l9++WXZbbfd5Oijj87ZIdoI9Pnz58tWW20l69atk6efftqbEHvxxRflkEMOyZkPBhDwCSDQSzQW8hXa+d4XJGYEOgIdgd54C2MGPZ0PAj3PHhmBjkBHoOduPMygJxmFQKCvWrXKmzFXkX3ggQduUX8LFiyQ73//+/Luu+/KHnvs4f3u3/PKK6/IwIEDvXt1ifszzzwj11xzjagI1xn4qVOnyg9/+EPvnmwifocddpBzzz1XrrjiityxgwUE/j8BBHqJhkK+Qjvf+4LEjEBHoCPQEeg2fQwC3YZWii0CHYGOQM/deBDogQv08qN/KbW1tWl1UVFRIfqv4bVx40ZPoJ911lkyfvz4LWxsBHqvXr3ktttuk2222cYT6v/+97/lgw8+2Hw8QIstBLp+xfqFF16QY445Rv74xz/KgAEDcscOFhBAoJd2DOQrtPO9z6ed7+F0mWpr4sSJ3p8R6Ah0BDoC3aZHR6Db0EKgZ+xfOCQugYUl7g0iBIEeuEC/6V/rZcyYMWngR40a5e0pz3Q99thjcvbZZ3vLzvfaay9vJv2kk07ylrjbCPSHH35YTjzxRC+LL7/8Urbddlu577775IQTTkgI9FatvjuUVV8g1G0+4PP666+XX/3qV3l2utxWqgSYQS/Rms9XaOd7n4+50PszVRcCHYGOQEeg23TlCHQbWgh0BHrj8YJAR6BnjZCAlrjbzKD7vtXU1Mhrr70mb775pjz//PPy1ltveUvUdQm76RL3hQsXSvfu3RPF3XPPPWXw4MGiLwf8Je7vvPOOtGnTxhPomseFF14ot9xyi5x33nl5drzcVooEEOilWOuby5yvUM73PgR6eqDxmbUkDz6zlmTBZ9ZS2klQnyzbnAUCPc8HH0vcE+A4xT0ZQwh0BHqxBbqLz6zpkveXXnrJE+09evQQFdYquPX6/PPPpVOnTtJwD3omgT5kyBC57rrrsu5B1/3nund90aJFeXa83FaKBBDopVjrCHSjWuc76ElMfAc9PWT4DnqSB99BL8JLBb6DntYA+Q56EgffQTd6nG9pxHfQk0xK9Dvot956q4wdO1Y+++wzqa6ulmeffVaOOuooj4sK98MPP3wLgT5z5kxvObte+k10XeI+bdq0tCXuDb+VfsEFF4gujf/iiy/yDFZuK0UCCPRSrHUEulGtI9AR6NkCBYGOQM8YG0HN+iPQEehZOiMEutHjHIHeGKaYC3QVxkOHDpURI0Z4e851+fnbb78tF110kfeJtXvuucf7Froe9DZ58mRZuXKld+K6Lk9vOIPeu3dv75C4zp07e/vK58yZI//5z3+kZcuWiRl0/zNr/hL3M888U44//ni599578wxWbitFAgj0Uqx1BLpRrSPQEegI9NxNhRn0FEYI9CSM8vLcwfP/LcrKmhnbqiEz6ElcCHSr0EkaM4OeZBFzga5CWQ+P02+Rf/TRR9730LfbbjtPtOtJ7FVVVfL+++97Av6f//yn/OAHP5AJEyZknEHX75pfffXVnijXz6xNmTLF+1+9/D3oPtjmzZt7+Rx33HFe/v7hcXlGLLeVGAEEeolVuF/cfPeS53tfofk2Vk33dzvFuBaXNTc2lU4bzW0rNn9Ow+b6fYs1xuazlv7d2PaYLnsb2x5at5Wx7TvNaoxt1fCXLdYa27fpYJ72pg3mg/5mLeqMfVi22JyFJtq6er1x2jaG//62vbF55/r0T8w0duOn5ZXG6arh9zaZB/+AJweZp735czdBXPWbNlgla7cHvYV52lYCfVMw6W5Otf7br8zTtrC042bR2ZbbCXRZv87ca4vT1oNKt+aW28z93WzZrHNrY/v6Neb9QLMuHYzTLdu2i7GtrF5tbquWzczru9lBQ+zSNrSur7XwucWWn+5qNJsN5nVSv3yhocfKzaJN2byAaN/J3IfNlmUWPOrXfWue9gbz52rVTy42TxdLCESQAAI9gpXmwuV8hXa+9/k+F3p/prIj0JNUEOhJFgj0JAsEenrPYSc0Eeg+PTtuFmICgZ4WoAj0lH4cgZ4Cw6JNIdBdDJVJAwJNRgCB3mTomzbjfIVyvvch0NPrmxn0JA9m0JMsmEHPr19kBj2dGzPoKTyYQU/AYAY9GRfMoKe0EWbQ83vwcBcEAiSAQA8QbpiTzldoN7xv5MiRot+WNL1WrFghM2bMMDU3smMGPYmJGfSUyQaWuCdgMIOe3pXYzQQzg+7Ts+NmMdvHDHpagDKDntKPM4OeAsOiTTGDbjR+xAgCYSWAQA9rzQTslyuBbpuOrb0JBgQ6Aj1TnLDEPUkFgY5AN+lLc9kg0FMIWczMswe9QWSxBz0BhD3oKbHBHvRcXTC/lxABBHoJVXZqUfMVyg3vs02n0Bn41DJMnDjR+08EOgIdgd54R4ZAR6C7eNQh0BHoGeOIQ+LSsXBIXPIFBIfEueh6SaMECSDQS7DStci2wtrH5Fqg5+tHarUh0BHoCHQEuk1Xbic0WeLus7XjZrEclyXuaeHLEvckDk5xTwkNTnFPwOAUd5snHrZRJIBAj2KtOfA5X2GMQM8Mn8+spXPhM2v5NVIOicuPG4fEpXPjkLj8Zrr5zFqSG59ZS4khi8+KeXcxg56Ax2fW8numcRcEEOglGgMI9NwVz3fQk4z4Dnp6vPAd9CQPvoOeEht8Bz1l6pMZdB8Ge9AbPG/Zg54UsHwHPRkc7EHPPTDFomQIINBLpqrTC4pAz13xCHQEerYoQaAj0DPGBgIdgZ4hMBDoCPRszxIOiUshg0DPPTDFomQIINBLpqoR6EpgmcWkDgIdgY5Az91BMoPODHrGKLHZL8se9DSE7EFPec/DZ9bye+nFZ9ZyP7ywgECICSDQQ1w5QbrWVDPoDb+b7uK76JO3O8UY1YfNNhnbdqtrZmxbUW9s6hnaLBn/sn69ceK/X/oPY9vpHQ8ytn2vZZ2xrRqe1fZzY/vqDublq9tQbpxuucV30Jd+3NY4XTVs06bW2N5mUnXOVx2N092++Wpj2083tDK2VcN29RuM7fd78lhjW9m40dzWwjKSe9AtyiebzOtDkw1sD3qb9uZel5m3VbEV6DVrzP2otIj99evM07X4zNq68ZPM091s2bxztbF93Rrz/rP5th2M0y3r1sXYVr791txWLS2WuJcfMsQ8bZvO1qaum1eY+6CWGy2eD8sWmqdt89JrnfnzQTp2Nfdhs2VZM/ODM+trLdpqbY2xH1VHX2psiyEEokgAgR7FWnPgc1MJ9Iau5+tHajoI9CQNBHqSBQI9yQKBnt7z2J1Gbj4YFRuBYNOPI9DTaSHQEzwQ6CmhYdP+EOhJcDEX6MOHD5fp06d75W3evLlst912cuyxx8qYMWOkVavvXuD94he/kHvuuUdmzJghJ5100ha984cffihjx46VP/7xj7J8+XLp2LGj7LLLLjJixAg58cQTvXS5IOCSAALdJc0IpZWvMC70FHcE+ncEmEFPRgIz6EkWzKDn14kyg57OjRn0FB7MoCdgMIOeEhcI9JIS6Cqqp02bJhs2bJDXXntNzjrrLDn99NPlzjvvlLVr10qXLl3kvPPOk3/84x/y0ksvpXWob731lhx66KHSu3dvueaaazxhvnr1annvvfdk8uTJcvvtt8vuu++e38OLuyCQhQACvURDA4Geu+JZ4p5kxBL39HhhiXuSB0vcU2LDZgYvdxeUtGAGPZ0WM+gJHsyg59n+EOglJdBXrVolTz75ZKLMZ599tjzzzDOydOlSb3Zdhfbzzz/vCXUV3j179vRs6+vrPWFeXV0tKtTLy7fcuqM2ZWVlNj06thDISQCBnhNRPA0Q6LnrFYGOQM8WJQh0BHrG2ECgJ7GwBz3Bgj3oDVoLe9ATQOrZg54MjoD2oOsS94YC/eKLL5bf/e53snLlShkwYIC3TP2CCy6Q448/3hPkuvxdr3fffVf22msveeihhzIufc89ksQCAvkRQKDnxy3ydyHQc1chAh2BjkDP3U6YQU9hhEBHoGdoMgh0BHq2nhSBnkLGQqCXH3qe1NamH8ZXUVEh+q/h1VCg60z4UUcdJYcccojccMMNniBfsmSJt69cZ9lr6ccGAAAgAElEQVRVvC9YsMCbLZ85c6YnzN955x3Zc889vaT1cOPtt98+kc2ECRPk/PPPz/2wxAICFgQQ6Baw4mQaFoHe8FR3G8YTJ070zDkkLkmNQ+KSLDgkLsmCQ+LSexYOibPpaVM0N6e4J2FwinuSBae4pzcoTnFP8AjqFPeb/r4qMcvtZzZq1CgZPXp0RoH+4IMPSmVl5eYPiWz09qEPGjTIW9Z+6623yty5c+Xpp5/27lu/fr23zF1nzA8//PCEQNeZ9D322MOz2bRpk3zyySfe/x84cKBcfvnlcumlnCqf31OFu7IRQKCXaGzkK9CD+ExaoVWAQEegZ4ohBDoCPeuDr5XFZ/UsPinEKe4pxFninoDBDHqDlsgS96SAZYl7MjgCnEFfvHixdyBcixYtpGvXrt7/qtDWE92XLVuWtrdc/37CCSd44lxnzvfee++sS9x1r7qKcwR6oSN57m9IAIFeojGRr0BviMtVOoVUAwIdgY5Ab7wFMYOezocZ9Px63DJm0JPgmEFPsmAGPb1BMYOefAERgu+gZ9qDrg7qrPnJJ58sf/nLX6RZykujefPmybBhw7xl7x06dJBdd93V+xxbpkPiEOj5PUu4KzcBBHpuRrG0cCWsXaVTCGQEOgIdgY5At+lDEOg2tJK2CPQUbgh0BHq2ZoRAj4RAHzx4sLfs/eGHH06rST2VXWfWr7jiCrnkkkvkr3/9qxx22GHSp08f0VWkvXr18pbJ//nPf5Zf/vKXMn78eLnooovy61S5CwJZCCDQSzQ0XAlrV+kUUg0IdAQ6Ah2BbtOHINBtaCHQM9JCoCPQEeg5O5Kg9qBXHW2+5zvTDLp+F33bbbf1TnIfOnToFuXQg+Jmz54t//rXv7zfPvjgAxk7dqy8/PLL3pJ4nVHXb5/rTPuIESOkefPmOVlgAAEbAgh0G1oxsnUlrF2lUwjamV2GGd9esfnNqOnVpn6Tqam13cpy8878i+bm39dsa+Hy6StfMfb77K79jG3VcN8NLY3tu24+tMX02iDmLCqlzjRZ+bR5C2NbNWy7yTztOovvo66wqOsvys1j+ZOy9NNucxV2l/rKXCaJ3y+eNcjYVjaZ17V5opstLWLIS3errY2TLytrZmxbX7fB2FZs9mjbng5v841nc49FLESpTfnKbPb5b/a33uK78GUWPtdbcCtrvuVp0dlQbpw11YaylLXbyti+fl2NsW1Z+3bmtp06G9vK2jXmtpaW5fsebXmHoblFXVvFvWZvkXbdF58ZOixi007qa8zrpMyiP/SctWmvNkvcLfrxyv6nGnPDEAJRJIBAj2KtOfDZlbB2lU4hRUKgJ+kh0JMsEOhJFgj0Bj2MxYAUgZ7CzkLsItCT3BDo+T/hEehJdgj0lOc7Aj3/RsWdkSCAQI9ENbl30pWwdpVOISVEoCPQM8UPAh2BnrVfQaDn1+Ui0BPcmEFPCSFm0NPbEzPoSR7MoOfX13JXyRNAoJdoCLgS1q7SKaQaEOgIdAR64y2IGXRm0AvpYxP3ItAR6JkCCYGOQM/WwSDQnXS9JFJ6BBDopVfnXoldCWtX6RRSDQh0BDoCHYFu1Ycwg26FC4G+JS5m0FOYINAR6Aj0/PpU7oJAFgII9BINDVfC2lU6hVQDAh2BjkBHoFv1IQh0K1wIdAR6owGDQEegI9Dz61O5CwIIdGIglYArYW2Sjn43sqbG/KRZ05qaOHGiZ4pAR6Aj0BHopv2GZ4dAt8KFQEegI9Atmgx70JOwWOJuETiYQiBJgBn0Eo0GE2FtgsYkHRMbk7yy2SDQEegIdAS6VR+CQLfChUBHoCPQLZoMAh2BbhEumEIgEwEEeonGhSvRbJKOiU0h1YBAR6Aj0BHoVn0IAt0KFwIdgY5At2gyCHQEukW4YAoBBDoxkCDgSjSbpGNiU0jVINAR6Ah0BLpVH4JAt8KFQEegI9AtmgwCHYFuES6YQgCBTgwg0OvrjaOgTf0mY1tbw5XlzY1v+aJ5mbFtWwuXT1/5inG6Z3ftZ2yrhvtuaGls33XjRmPbDWLOgu+gJ7HymbUGIYZAN25zaYZ8Zi2Bg1PcUyKDQ+LS2xMCHYGeXw/LXRBIPmPqN1/wKD0Crma1TQ6AW7FihcyYMSMwyPd3O8U47dXlxqbyvY3mTaOZZTOaU2kuNJdIrbHTncVcGH8p5sJ4ypLXjX1Qwz+239/YvmOrdca2GzY2M7Zt0dz8bcWiNa2N01XDrco3GNvX15vX9bzmlcbpVteZx+eHLYyT9Qx7bDT3+YRHjzZP3OJljHmiIvWbzOtD0y1r08E8+WbmL9Nkk3mbMndgs2WdeSx76dasNU6+3uJFZFlVG+N0pZlF0JVbdMzqwQbzPlFsXirYHGhlke6GqXeYc9tsWd5hK2P7+nXmLMo7tjNOt6zLNsa29WtWG9t6hhZtqtn+R5mnXWYeR/UWdV1mUdfqbL2FQK9fuci8fBbcZJ15nZS172zug2X91desMU9743pj26pDzzW2xRACUSTAHvQo1poDn10JdBNXgs4LgZ6sBQR6kgUCPckCgZ7eUyHQkzwQ6CmxYSHabIQ/Ar3BSMFCaCLQU9hZcEOgm4xOsYFAeAkg0MNbN4F6FrRoTnU+6LwQ6Aj0TI0FgY5Az9aJItAR6BljA4GewMIMejJCmEHP/wVLmGbQly1bJuPGjZNnn31WFi1aJG3btpWddtpJTjnlFDnttNOkurpaevbsKQsXLvQKXFVVJdtvv71cdNFFcs455wQ6JidxCDQkgEAv0ZgIWjQj0BsPLJa4J/mwxD3JgiXu+XXILHFvwI0l7kkgNsuTEegI9AxdEAI9+gL9448/ln79+km7du1kzJgx8sMf/lA2bt5y9cEHH8i9997rCfBjjjnGE+hnnnmmnH322bJ69Wq577775MYbb5SHH35YTjzxxPweUNwFgTwIINDzgBaHWxDouWuRPehJRuxBT48X9qAnebAHPSU22IOehMEe9AQLlrjnL/BY4p7CjiXuCRi2e9CPPPJImTt3rsybN09atWq1xQBQj+MqKyvzBPqll17q/fOvnXfeWfbee2956KGHcg8csYCAIwIIdEcgo5YMAj13jSHQEejZogSBjkDPGBsIdAR6hsBAoCPQsz1LOCQuhYzFIXHl/c+Q2tr0AxIrKipE/zW8vvjiC/ne974nY8eOlauvvrrRwV8mgb7bbruJivRHH30098ARCwg4IoBAdwQyaskUU6CbnPSeD7+JEyd6t7EHPUmPQ+KSLNiDnmTBIXHpPQx70JM8OCQuJTZY4p6AwR70ZFywxD3/FyxB7UG/6S/LvKXqqdeoUaNk9OjRWwwn//a3v8l+++0njz/+uAwZMiTxe8eOHaWmpsb77wsuuEBuuummtBl0XQL/4IMPyhlnnCF33HGHnHfeefkMVbkHAnkRCFSgByXM8iopN6URCPrTZ8XEjUBHoGeKNwQ6Aj1bP4RAR6BnjA0EOgI9Q2Ag0MMn0G1m0H2B/sQTT8jgwYMThdF96XV1dTJs2DDp27evTJo0yRPoS5culRYtWngz9C1btvTE+/jx46Xc9nOQxRwIk1fsCAQq0Is5Sxu7mgm4QHGqGwQ6Ah2B3niHwQx6Oh8EOgIdgd54n8EMepIPAj18At1mD3quJe4DBw6UPfbYIyHQ9VT34cOHe6e6d+nSxdubzgWBYhNAoBebeEjyQ6Dnrgj2oCcZcUhcerywBz3Jg0PiUmKDPehJGBwSl2DBHvT8BR6HxKWw45C4BAwbga43HXHEEd4hcfPnz9/ikLiGAr3hIXG5R4tYQMA9AQS6e6aRSBGBnruaEOgI9GxRgkBHoGeMDQQ6Aj1DYCDQEejZniUcEpdCxuKQOFuB/tFHH3mfWWvfvr23T10PftMl63//+9/l8ssv95a5/+Y3v8l4invu0SIWEHBPAIHunmkkUkSg564mBDoCHYGeu50wg57CCIGOQEeg5+40LGaCmUFPwWnBTdatzl0P/9+irH1nY1vP0MKPoA6JsxXo6rbuLdeT3J999llZtGiRd+L7rrvuKkOHDpXzzz/fW9Ke6RR3OzhYQ8ANAQS6G46RSyVOAv29HY425l/dZr2xbfOKTca29XV2e5Q2bSg3TnvdmhbGtpXVG4xtX11p/lDuuTH9cya5Mjn0qzdymSR+P6Pr/sa2q+vNy1dZ1sw43YM2VBnbqmGdhbV5TYt022hevherzFPeeaM5Cy1aeb15AX/+7EnmxpsP5Ank2mTOTfMvq25n7obFYFSCEuj1ltzKzGNDbNK2YWGzxN0mXa8BmvMoa9HSuK7r1393orPJVday0sTMs9n08sPGtp5hm63M7ddb9M1t2pqn27ajua0FN/NEv7Ns/sODzG+xOMTLRjha70G3mAmu++Iz4/KVNd/yE2LZbq63OPCwrI1FXWuGNu11/Trj8tn0nxV9DjNPF0sIRJAAAj2ClebCZQR6booI9CQjBHp6vJjLg81iN3eoJSwQ6BawUk0R6OngEOgJHgj0lNBAoCdgINCTcYFAz/O5w20QCJAAAj1AuGFOGoGeu3YQ6Aj0bFGCQE+SYQY9JUqYQU/CYAY9wYIZ9NzP22wWzKCnCGlm0BMwmEHPv01xZzQIINCjUU/OvUSg50aKQEegI9BztxMEOgI9Y5Qg0BHoubuPnBYIdAR6piBBoOdsOhhEnAACPeIVmK/7CPTc5BDoCHQEeu52gkBHoCPQG28nzKDn7keYQc/NiD3oSUYI9NzxgkW0CSDQo11/eXvflAJ95MiRUlNjfhhPtkJOnDjR+4lD4pKEOCQuhQWHxCVgcEhcei/CIXEpPDgkLgGDQ+JS4oJD4hIwOCSuwSiMQ+LyHntzIwRMCSDQTUnFzK4pBbrrvBHoCPRMzZNT3JNUEOgI9KyPMAQ6Aj1TcCDQEejZOg0EeswUAcUJIwEEehhrpQg+uRbJNi67zhuBjkBHoDfeAhHoCHQEeu6nFDPozKBnihJm0JlBz917YAEBtwQQ6G55RiY11yLZpuCu80agI9AR6Ah0mz6IJe4ptJhBZwadGfRGuw8EOgLd5vmCLQRcEECgu6AYwTRci2QbBK7zRqAj0BHoCHSbPgiBjkDPFC/MoDODzgy6QU/KEncDSJhAoDACCPTC+EX2btci2QaE67wR6Ah0BDoC3aYPQqAj0BHoOVoMe9ATgJhBZwbd5vmCLQRcEECgu6AYwTRci2QbBK7zXrTvwcbZt2y9ydi2WaWxqdisEtVU69abp71+dTNj4xbV5uX753tdjNPt2mq1sa0a3lZXZWw/bckbxrZDu/zY2LZW6oxtz62pNrZVw40W1uUWtttUrjW2/semrYxtt9tg47FImdQbp93/uWHGtlYNpc48lmWTZfladzD3ucyiBm38KLdIt848lr2CBZW2zcyZjQ/NK8zrQy0tOtyy5i2N065fv87YVlqY+1z3+lPm6apl6zbm9hs2mNu2skh3K4s2st7yqywWbcrqO+jmJKS+1ryvLWtpMRjQ8Nxg/oCvW7nQ2Gurz6xZxHKZTX+42VurNlW7xrh8YtHPVfQ+xDxdLCEQQQII9AhWmguXXYtkG59c541AT9JHoCdZINCTLBDo6T2U1YDUQkxYvSiwEbAWA1cEeoO6RqAngSDQEywQ6MmwsOoPIyjQhw8fLtOnT99imHrEEUfI888/n/j72LFj5dprr5Ubb7xRrr766jT7++67T8444wzZZZdd5P3330/77ZFHHpETTzxRevToIQsWLLAZDmMLgawEEOglGhyuRbINRtd5I9AR6JniD4GOQM/WL1kNSBHoSYzMoKd0tsygJ2Awg57W1TCDnsRRH4IZdBXoy5cvl2nTpqXVU0VFhbRv3z7xt5122kmOP/54eeyxx+SDDz7YQqBfeOGFovc888wz0rdv38TvRx55pCfay8rKEOg2YgDbRgkg0Es0QFyLZBuMrvNGoCPQEeiNt0Bm0NP5INBTeNjMziPQEeiZuhoEOgI9yyMoLAJ91apV8uSTT2Z9UL766qsybNgw+eSTT6Rnz57y0EMPyYABAxL2OoN+6aWXyqmnnio1NTUyZcoU77dFixbJjjvuKDqu1XuYQbdRA9g2RgCBXqLxYSKSR44c6XVErq8VK1bIjBkznCWLQEegI9AR6DYdCgIdgZ4pXtiDnkKFPegJGOxBb/CC02bbSEhm0HMJ9NNOO006d+4sN998s1x++eXy+eefpy2L9wX67NmzPeG+bNkyqa6ulhtuuEHefvttGThwoEyaNAmBbvMgxrZRAgj0Eg0QE4FuYpMPPtfpItAR6Ah0BLpNX4RAR6Aj0HO0GAQ6Aj1LiIThkDjZ8QCpra1N81CXn+u/hpcucX/wwQelsjL9sL+rrrrK23P+zTffSJcuXeSNN96Q3XffXebMmSP9+vWT/8feeYBZUV7//9y9W1l26UgRBQ0aY0MRwYJCbBF/tlgTGxYUNSh/uyZKsWBfO2oUJHEtSRRUsBEVW1SCghoLIk1BYKUsZXu5/z0v3jszd+funDO3cO/ud57HJ8Y97ztnvu953zufOW9ZtWoVFRdv3Yw1DOgM+vvss4/JmHM2nafF33vvvbRkyRIAuuZHGLaeCgDQPSVqnQYSSJbY+FHHXm88WfqSkhJzewA6AB2ADkDXjEUAdAA6AB2ALh0zkEF3KpUOgD7pn+/ThAkTHI6NGzeOxo8f7wroK1eupMmTJzv+1rlzZ+J/Hn30UXr44Yfpyy+/jPx9zz33pDFjxtCFF17YDNAffPBBevHFF4nvd/rpp5tp7g899BAAXdqhYCdSAIAukqn1GUngW2LjRxl7vYm4BwAdgA5AB6BrxiIAOgAdgA5Al44ZAPT0A3RtBr2lKe7777+/maaeZTtZo7Fpb45BgwbRJ5980gzQ169fT71796bBgwcTl73zzjsNnGOKu7RHwU6iAABdolIrtJGAscTGjzQAdJyDbo8bnINuqYFz0O3giHPQI2poNnLjQsk6wg2bxNm+hmIX94gY2CTO8SqEXdwtOdJ9kzjOmvO0dl5bztn08MVAz2vNv/jiC9pjjz0cU9zZho9V4+PVePd2PnoNgO6HBlCmJQUA6G00PiTwLbHxIx8AHYAOQHfvOQB0ALprZADQnbKEGsU/ParpuLVV4nopB4AOQHcPFwB6+gG62zFr2dnZZpO3jz/+2PwTffE6dM6Q83JK+xp0tquqqqLKykrq0qWLKQZAlw+dsJQpAECX6dTqrCTwLbHxIwwAHYAOQAege44djcigRzQCoAPQY3WYujrPrhQxKCyS22KTuIhWmOLuDBvVR6802cV92rRpzWK/X79+ZoM43izu6quvbvZ33vxt0qRJxOvXn3nmGXPMGmfW3S4AunxogaVMAQC6TKdWZyWBb4mNH2ESDejLBhwhdqOgo/xlJpgXEtfbWC82NYaNdQFxgZot2WLb3HZyqPlsUQ9xvb3yKsW2bHhnQP58mor/ueq/YvNjeuwjtj23dutOrdKrXvF8WSF5HPUJyjN47wULpe7SLrXyuBBX+ovhkW+OFBcJhRR+KLKk1KDrgIF8BahopnVr/NBMQxcr7MNQA/8aLYI5YmcCmnqbag0pYkMFE4qp2oGcXPHzNbz7L7GtMSxSjEdRO1m3eKPiTmI/AsVbM4OSS3U8naRCm0323ocrS8jMQ9UVMsMmKzWg19eK6w6tXSG2JUU/CdXJf0sChdbUbokzmtjX6KwZx/N2P0ziKmygQMYqAEDP2KaLz3EJfEts/HgBQAeg+4kbLgNAt5QDoNuiSAPG/MINQLfEA6BHtAgB0CNaANCtLgJAd/5iA9D9vsGgHBSQKwBAl2vVqiwl8C2x8SMKAB2A7iduAOhO1QDoAHS//chRDoAOQHcJJAA6AD3W+AJAT8jIi0qgQIsKANDbaIBI4Fti40c++9nnZWVlVFpa6qeaSBlMcbfkwxR3SwtMcbe0wBT3qAwQMuiWIAB0ADoAveUX5dx81TtKCFPcrT6lWEqAKe6qMINxK1cAgN7KGzjW40ngW2ITr3yJuAcAHYDuFocAdAB6zAwQAB2A7hIcmOJuyxpjDXpEDExxj/rAqdh/AWvQ431LRvm2qgAAvY22vASMJTbxypeIewDQAegA9JZ7IjLoyKDHjBBk0JFBRwYdGXTFyxymuCvEgikU8KkAAN2ncJleTALGEpt4deB75OfnU3V1tboqPpuSLwA6AB2ADkDXDCDYJM6mFgAdgA5AB6ArBlAAukIsmEIBnwoA0H0Kl+nFJPAtsYlXB74HX2HY9lMfAB2ADkAHoGvGDgA6AN0tXjDF3VIFm8TZtMAadEd3AaBrfm1gCwX8KQBA96dbxpeSwLfEJl4hAOjeCuIcdEsjHLNmaYFd3G19B8eseQ8ksSyQQY8oA0AHoLt1E6xBd6oCQPc/3KIkFJAqAECXKtXK7CTwLbGJVxYAureCAHQAuluUANAB6N6jh8ACgA5AdwkTZNBtHyuQQXdECABdMK7CBArEqQAAPU4BM7W4BL4lNvE+PwDdW0EAOgAdgO7RT5BB9x5IYlkA0AHoAPQW+w8y6E55AOj+h1uUhAJSBQDoUqVamZ0EviU28crCZ6L/8MMPcZ2FvmLwb8Vu5BU3iG2zcsWmFGqU27Jlg2JPvLrKoLjynHby5/vf1z3E9W5XWCG2ZcN7GvPE9htDdWLbBoXQs1bPF9f7UqdDxLZs2BiQm2eF5La98+U6f9JQLK64X1292FZreMgbZ8qLaGBQ0dbUII8hdjbQrqPc52C23Fb5oUBesdIykCUvoNFZU69Gt2CO3F+2VPgcyJYP5KHaKrkfOfIxrvHDl+T1smVRB7l9bY3ctr283rTJoO9xqPz5FPEZqqkU16uJIROeinGgcd2Pcj8U/SRUL4+LQGFnsQ9m/FT0bVWfUuiWt/thKp9hDAUyTQEAeqa1WIL8lcC3xCYR7sR7HwC61QoAdEsLALqlBQDdOVIB0G16KGCXFABEipd4UoCH8VzhswauVDABQI8EkUo35UtDNgA9olhA0U8A6MpAS0PzkSNHUnl5Oc2YMSMNvYNLyVYAgJ5shdO0fgkUS2wS8Xjx3geADkB3i0MAOgA91vgEQAegu8WGCjQB6AD0GAMMMuiWMKo+hQy6I6IA6IkgjMytA4CeuW0Xl+cSKJbYxOXEL4XjvQ8AHYAOQG+5JyKD7tQHgA5AB6C3PGZgirulj2YWBpcCoKcXoA8bNoz22GMP49TTTz9NwWCQLr74Yrr55pspENi6Xm3Dhg10+eWX0yuvvEI1NTV06KGH0gMPPED9+/c3f3/qqado7Nix9Pzzz5v//fHHH+nggw+mqVOnUs+ePY3NnDlz6JprrqGvvvqKcnJyaPfdd6dnnnmGdtxxR9fOtnLlSrriiivozTffpKysLFPf/fffT3379qXx48fThAkTHOXeeecd4mdZsWIFXXXVVaYc+7rbbrvRww8/TIMHD07EKznqSBMFAOhp0hCpdkMCxRKbRPgd730A6AB0ADoAXTMWAdAB6AB0ALp0zACgO5XKtDXoDLWffvopnX/++QbM582bRxdeeCHdd999NGrUKPNwxx9/PC1atIgee+wxKi4upmuvvZYWL15MX3/9tYFtBnQuw+A+adIkA9Rnnnkm7bPPPmYPpfr6eurataupb/To0VRbW0tz586l4cOH0w477NAs1CorK2nAgAE0dOhQA/zZ2dl0yy23GD+/+OILU5793bRpk/kIwFfnzp3Nf997772pd+/edNttt1GPHj3os88+oz59+tABBxwgDWnYZYACAPQMaKRkuCiBYolNInyL9z4AdAA6AB2ArhmLAOgAdAA6AF06ZgDQ0w/Q6VcHm+yx/crLyyP+J/piQC8rKzOZ7XDG/LrrrqOXX37ZADiD+S677EIffvghHXjggab4unXrDPROmzaNTjnlFAPo5557Ln3//fe08847G5tHHnmEJk6cSKtXr6b169dTly5dTBadId7rmjJlCt155530zTffRHxi+O7YsaNZc37kkUeS2xT3xx9/3GTPly1bZoAdV+tVAIDeetu2xSeTQLHEJhHy8U7u1dWKbc1/uWlJSYn5NwA6AB2ADkDXjEUAdAA6AB2ALh0zAOjpB+iT/vl+syng48aNM1PD3QB9p512Iobi8PXSSy/RySefbN49Z82aRSeddJL5d57+Hr44O37iiSfSTTfdZAD90ksvpYoK66SV6dOnm3KNv5xOwgD/7LPP0hFHHEGHH344nXrqqZHp79E+cV2crc/Pz3f8iTPrPF2dM/1ugH7JJZeYDw3vvvuuNHxhl6EKANAztOHidVsC3xKbeP1IRHkAOgAdgA5A14wlAHQAOgAdgC4dMwDo6Qfo2gx6S4A+c+bMCKzbAZ2noDOA33jjjZE16LyrevjiTDcDfChknaU6f/58ev31181a9i+//JJmz55NQ4YMaRZqDOA8NZ2nx0df3bp1ow4dOrgC+pVXXmmm6APQpb03c+0A6JnbdnF5LoFviU1cTiSoMAAdgA5AB6BrhhMAOgAdgA5Al44ZAPT0A3TNOejhKe48nT188cxNzqJ7TXH/29/+ZuA9vEmcF6DbleI14YMGDTKbzUVff/3rX806d56qzmve3S5e875q1SoD++GLp9xfdtlltHTpUkxxl3bgDLUDoGdow8XrtgS+JTbx+pGI8gB0ADoAHYCuGUsA6AB0ADoAXTpmANAzH9B58zXewO2iiy4ymWv+93vuucf8f75OOOGEyCZxRUVFxGvUeb25fZM43swtFqAzMPP68OOOO4569epFCxcupD/84Q9m4zfOlkdf4U3ieLM3Xse+/fbb0w8//EAvvvgiXX311eb/8yZwPA2ed2vn9e2cVeds/Z577knbbbed2ayOd5DnrD3fE5vESXt0ZtgB0DOjnRLupQS+JTYJd8xHhQB0ADoAHYCuGToA6AB0ADoAXTpmANAzH9D5yDNeK87HnvE0dgZzBivKR/EAACAASURBVODoY9Z44zjerO2QQw6hBx98sNkxa7EAfc2aNWb39k8++cRsMMfgfM455xCvi+cd390u3lyOs+ivvvoqbd682ezMfthhh9Hdd99tsuo///wznXHGGfTRRx/Rli1bKHzM2vLly4mnuvP0ed49/je/+Y1Zt77//vtLQxp2GaAAAD0DGikZLkrgW2KTDN+0dQLQAegAdAC6ZtwAoAPQAegAdOmYAUDPfEDn9eR8rBouKJApCgDQM6WlEuynBL4lNgl2y1d1L/b4o7hcryz9bvGSyhtDAYlZxKZrR2snUK+CmzY7d/lsyT472OhVXeTv8+vd1z25VdCz6Sut5iprOtNTevVQ1F0ZcP8S7XavHNvGLV6+HL/hPS8Tx9+P6zlQbG/fQMar0L4BeZusCtR5VWfFG+WIbdlwUUgen0+98f/kdTco4igkj+VQg1wLdjarYw+5z1nWrr6ehRobPE18GSi04PpDGp1/2YFY4lcgJ1dittUmqIi5oHy8MHUrnk8DV6HaKvHzBXILxLb1b04T2xrDwvZy+zpF7Bd1kNdbrDjCqbpSXq/pgPJxPHuvw3R1C61DtfJ3Ac2539r+F9pYJvRYp5sqltsr2rrJDY0eobpa+fPVO49Na6lg3m7DxfXyGnQAulguGKaJAgD0NGmIVLshOdqMz41022Ey1b563Q+AbikEQLe0AKBbWnQFoDuGEQC6TQ4AekQMFdQA0K0gAqA7xhfNBzIAuk06ALrX6y7+3oYUAKC3ocbWPioy6HLFkEF3aoUMuqUHMui22FBkPkmRNUYG3dn/NIDQtDBTPNAhg25JhQy6LWwA6AD0GKNIOmTQxQMcDKFAGikAQE+jxkg3VwDo8hYBoAPQY0ULAB2ALh9JYr3lyiGaawCg20A6Wz4tHxl0W/xhintEDM2Ubm3/QwbdFnNJyqDHPf6iAiiwDRQAoG8D0TPllgB0eUsB0AHoAHRBf0EGXSCSi4liNoEWEJBBt/QGoAPQ3TooAN2pikYPZND9DfkoBQUA6IiBmAqkAtAla+FjOVhSUmL+hDXolkJYg25pgTXolhZYg+4cRbAG3aYHprhHxACgA9AB6N4vxQB0b41gAQXiVQCAHq+Crbh8KgA9EfcAoAPQ3bohAB2AHmt4BqAD0N1iA4AOQAege7/UAtC9NYIFFIhXAQB6vAq24vKJgGcveRJxDwA6AB2A3nJPQwYdGfSYEYIMOjLobsGBNegRVTRAyoU0e0BgDbot+LAG3euVGX9vQwoA0NtQY2sfNRHw7HXPRNwDgA5AB6AD0L3GGvvfkUG3qQFAB6AD0FscPgDoTnk0emANuuaXCbZQwFIAgI5oiKlAIuDZS95E3AOADkAHoAPQvcYaAHoMhQDoAHQAOgBdMYAC0BViwRQK+FQAgO5TuLZQLBHw7KVTIu4BQAegA9AB6F5jDQAdgO4VI1iDblMIU9wjYmiAlAthirsVR8ige406+DsUcFcAgI7IiKlAIuDZS95E3GPOdqd43Sby9+7tK8W2gayQ2LahIUtsy4YdulSJ7Ss25oltc3IbxLafr+0itu0RqBHbsuF3WQVi++719WLbyqyg2DZPcTTV1LwKcb1s+PKqT8X2v91uT7HtKaGuYtuF2fK27tMo140d+DFLXvetb14q9pka6uS2iswuaY5va/Ig0KmH3I+Aom9rnk8Ryyrd+Mk02smVIApmy62DOWLbZAJQIDdf7EeotlpsG8iRn69e//Yz4nqNYWGR3L6+Vm5bWCy2DRTLfx9CNfLfM7EDvxhm7zFMW0Rkn6yPMebmdfLfy8aNZSJ/jZFmzKiVt0mgfSe5D2yp6NsaLTQfNvL6H6jz2Yf1sGHDaMCAAXTffff5KI0imaTAjTfeSGvWrKHHH3/ct9s1NTXUv39/mj59Og0cONB3PeGCAPS4JWy9FSQCnr3UScQ9AOiWygB0SwsAuqUFAN05EgHQvUbmGH8HoEeEAaBbMQJAj+ovAHRLEIUW2wrQ58yZQ8OHD6cNGzZQx44dI74D0H3+TtiKBQIBA6wnnHCCa2UMxdtvvz1NnTqVzjzzzGY2F110EX300Ue0adMmWr58eUyHDj30UOJ25OvCCy+kJ598kkpLS+n000/3fAj2gcH6iy++oL59+xr7kSNH0rRp08y/B4NB6tWrFx1zzDF02223UadO1gctth87dqz5h68HHniAXn75Zfr3v//teV8vAwC6l0Jt+O+JgGcv+RJxDwC6pTIA3dICgG5pAUB3jkQAdK+ROcbfAegRYQDoVowA0KP6iwJKkUG3xZFiJlQiM+ipBPS6ujrKyZHPLvI5UouLJdsfL0BnRxneN2/eTG+99ZbD76qqKurRowdNnDiR/vjHP1JDw9aZff/5z3/opJNOooULF1Jx8dZZQbm5udS5c2eqrKyknj170sUXX0yffvopzZ4921MLhu53332X3njjjYgtAzqDO384qG+a5fn111/TeeedR0OHDqVnn302YhcN6OvWrTMwv2DBAtptt908792SAQA9Lvlad2E/8Hz99ddTdbV8mmBZWZn5yhXPBUAHoLvFDwAdgB5rXAGg+xxxAegAdJfQAaAD0GOOKIqPFcnKoPPU46uvvpqee+45k4ndb7/9qKSkhAYNGkTLli2jfv36Odw/55xz6KmnniLOoO+1116Un59PTzzxhIHA0aNH0/jx4yP2GzduNHXPmDHDvPuG6957772NDdvy3y677DK65ZZbzP0YNBlc7Rffj7Owzz//vPnfH3/8kQ4++GADiAyc4Yv//5133klLly412V6u95JLLon8/dprrzUZ6xUrVhi4PeOMM+imm26KfBSQ+sOg+ac//Ynef/99Wr9+Pe288850ww030B/+8IfIvbz0Yf/sWe8dd9zRPH/09corr9Dxxx9PS5YsiWSw2ebvf/87XXDBBfTTTz9Rly7WkptYH1S4DGe9H330UXr99deNbgzW4ax4rBjlNuZM/aWXWsv1GNDLy8tN24WvK6+80sQFaxO+ogGd/zvPxmCQ5w8L8VwA9HjUa+Vl/QC6tozW3k1yALqlCjLolhYAdEsLZNCdIwcA3eePFwA9Ihwy6FYMAdCj+pMCSpFBt8WRIoNOOwwkBm/7lZeXR/xP9HX55ZfTv/71LwPZDIkMuDwN+fvvv6cOHTrQSy+95MjIFhQUmP/OADp//ny64oorTAaXp1ozuHGm9YgjjqBQKGRAjDO3DMFc5rHHHjMQ991335n/zkB89913G9ieNGmSmS695557ugI6T83mqdpsl5WVZaZ877PPPpEk1l//+lcaN24cPfTQQ+a/s2+jRo2ie++9l/ijAl/8EeC3v/2tyeJ++eWX5u/s/zXXXGP+LvVn5cqVJlN8+OGHmyz1rFmziN/XP/zwQxo8eLCpy0ufn3/+mbp3724+Mvzud78zz96tW7dm7cMfLPr06WOmpts/fjDocnn+aGG/WgL0Qw45hE477TQD2yeffDLtvvvuNGHChJg/eLysgeGf2zb8XGwcDej88eDYY481cL569epIfW6Azh9J5s6dS++8847PH9qtxQDoccnXugv7gWdtGbu9NvvOX0D5AqBbcQhAt7QAoFtaANCdYzUA3edvFwA9IhwA3YohAHpUfwKgW4IotNBk0CeVvtkMvBhe7YDHTlRUVJg1wwzNDNl88bTuMFhx9rulKe4Mj5xFDl/777+/AeDbb7+d3n77bTrxxBOJZ4LaPwz86le/MkAcBk6eQs3A6wan4XrZv3PPPdd8NOBsNV+PPPKIycKGgXCHHXagO+64w5HFZiB/9dVXzbRvt+uuu+4ygDtv3jzzZ9ZH4o9bXbwGm6dt8wcHvhjQW9KHbSRT3NnuuuuuMzMceGYAl+H/ZR04E37kkUc63InVXosWLTJAzhn3rl27RmYucNaeP3i4XTwVnT92/PDDD+YjQfhiQH/66afN7Al+xvDMYP4YwtwSvtwAndehM5/wM8RzAdDjUa+Vl9XCNsuhLWO315YNyw9AtwIRgG5pAUC3tACgOwdrALrPHy8AekQ4ALoVQwD0qP6kgFJk0G1xlIQMOm/8xdPNGdI4ex6+GKwZ3KdMmdIioDPwPfzww5FyPBWbM65cjuGXwZIz7vaL105fddVVBqYZiHkZJ8NjSxcDOmd9+YNC+OKp6rzWurHpVI5wNprvZYdNXh/NmXteL80XzxTgXecZ9Lds2WLWT3MGnD8i8CX1h6GUP0Iw3PPHBZ6twP+wbv/4xz9MXQzoLenDNlJAZ3122WUXs7naYYcdRryrOk9Xd4PrWIDObfHVV18RT5nnq7a21kxz55kA0ZAf1pgz5wceeKDRx/4BhQGdn3vy5MlmXTvPvuBZETNnzqTsbOs0EzdA55kOf/nLXyJt4vPXFhl0v8K1hXJ+gFlbBoDuHUk4Zs3SCMesWVrgmDVb39G82PFLA45Z8x543CwA6BFVAOhWgADQozoLAN0SRKGFJoMu3STu888/N0el8VpozkCHL96YjEGbd/vWbBLH5XindwZqBvAHH3wwsnu4PQrYhrO44TXfnKlt6QqvQed1z+GL1z8zEPNUegZwXlPOWV37VGy25anjvI7+448/NlPpeUr3UUcdZcCds9L33HOPWU/Nl9QfXgbA/zDs85T8wsJCszae4TS8Ltttl3u7PhpAZ1uens5t9Le//c3McOAZBW7T093aKzxNnmcb2D9g8H8/9dRTm02TD2sc/jDAG87xB4Lw5bYGnafcs74333xzxM4N0DkueP38//73P3+/s7+UQgY9Lvlad2EtbLMa2jIAdO8YAqBbGgHQLS0A6La+A0B3DiQ4Bz2iB85Bt4UGzkGPiIFz0K24aM3noHNGmteC8zpo+xR3BloGTs508/Twgw46iNauXevYjMwLQHmH8KOPPtpkq2NtRCYFYi9A59bi48h4MzPOLrtdDOI8LX7x4sWRP/Mma5xV1wI6r7fm9d/8AYMvzuLz9Hb+RwPovLEeZ7B5JoDXxRlz3n2d/5fXkUdvGhcu7wbonDXn9v3ggw/MB4vw9e2335qN8qI3mgv/nZ+LZ1LwPe1HwbkBOt+X25v15TX+fLkB+llnnWX+xpAezwVAj0e9Vl5WC9ssh7YMAN07iADolkYAdEsLALqt7wDQnQMJAD2iBwDdFhoA9IgYAHQrLlozoPNTMoj/85//NLDJGdrwJnEMWgxnPJWZ1x8zxI8YMcJMWW/fvr2Zws3Zd84ihy97hpgz25z15SPCOGu66667GhDkNeFsxzu6JxLQeZo179rOm8gxKPKUc15bzhud8UZwvNkdb4zGYMg71PPGbpyB5iyyFtD53fyFF14wGXjWiNde89R2ziJrAJ2z0rzRHG+ix+v07WeIR7/9ho9IY8AeOHBgzCPS3ACd9eb14uyv/eI24rblvQZ4s0C3iz8e8Aeb8Np6tnEDdP7v3KZDhgwxG/Xx5Qbo/N84yx4Gde+3fHcLALpf5dpAOS1sA9DlQdGhS5XYGIAOQHcLFgA6AD3mIAJAB6C7BQcAHYDuEhetHdB5gy/etI0zuQzT9mPWwnIwUHH2maeSn3322ZFj1loCdC7L9f35z382MMvrxHkaOkM7QzSDYSIBne/3zDPPmLXvfHwYTzvn6ef8AYKnwvPFz8nr4xneeVM3hkn2QQvofLQan/vNZ5O3a9fObHjHG6nxsXIaQOfMNn884LXkvXv3dj1mzR6SPEPg8ccfN89pP9LNbhMN6NxmPLuAy5xyyinNIpw/anAZ3o/A7eJd+c8//3zzfOHp8bEAne8R3syP2zca0HlNO3/k4Q810XsTiF/6fzEEoGsVa0P2qQB0+87tfs9ET4dN4urrrSk1khDp0KVSYmZsKjc1PzYkVuHs7AZxvQs2dBXb9gw5jzPxKrg4mO9lEvl796ZNTKRXZcB9J0638nlNX06l1xN5W6Smxq4iVCe2f3vNl2Lbyd2Hi22/yZbrtmOjtamJ5AY/ZcnjaOKb1tmhnnU3yHVrmlPnWV3EIF0y6CGFz/KnI9LoxvUqtAspfA5k58q9DubIbWPssBuzAsXzadaKh2qrxT5rtKh/+xlxvcawqIPcXuEzFXUU1xsots4d9iqkXoOuaO/s3xzidXtff1dl0DVx3+RNqL5W7FNo49bNu0SXpk/VypMAakBX/A5rtCDFOJ63y8EiyWAEBbwU4Cw7f8jgDx2xPgp41RH+O38g4F3h+cz4eC8AerwKtuLyqQB0u3x+7sflAeiWigB0SwsAuqUFAN05UCdtkzgF7Kp+OgDoTrkA6JYeAHRVVwobA9At2QDovkIIhVqRAryZIGfY45mWzrMWeHbDlVdeGXf2nKUFoLeiAEv0o/gBZj9lwn77LQtAB6C7xT4AHYAea0wEoFvKIINu00IBu8ig23SrkWdrTSlk0CPiIYNuG6WRQU/0azzqy2AFAOgZ3HjJdt0PMPspA0BvuSUxxd3SB1PcLS0wxd3fi535Mp2sY9aQQbcaRTMdVwFs5gbIoFs6Kz4qYIq7/WOM/KOC5mMM30EzrRuA7m8cxxT3ZBMA6t/WCgDQt3ULpPH9/cC2nzIAdAC6tBsA0AHorrGiyLwA0J0KIoNuhzasQQ+rgTXoVlwA0KNGXaxBl76ywA4K+FYAgO5butZf0A9s+ykDQAegS3sTAB2ADkAX9BZFhhmADkB3iygAOgA95kgDQBcMwjCBAvEpAECPT79WXdoPbPspExbRvqO7RNiSkhJjhjXollrYJM7SAmvQLS2wSZxzRMEUdxuUKqblqzKJmOIeERm7uEf9oiuWNGAXd5t2mj6FXdwlr5GwgQJpqwAAPW2bZts75ge2/ZSJ90kB6AB0txgCoAPQY40tAHQAults4Jg1SxVk0G1a4Ji1qC+c8uNONevxccxavG/DKN+aFACgt6bWTPCz+IFtP2XidRuADkAHoLfci5BBRwY9VoRgirvtY4ViwzXNbAJk0JFBj9n/cA66JY1iLxFsEhfvmzPKp7sCAPR0b6Ft6J92yjm7WlZWRqWlpSn1GoAOQAegA9A1gw4y6MigI4Peco9BBh0Z9JgRgjXomp8b2EIBXwoA0H3JhkKxFEAGXRYbHbpUygybrHDMmiUVNomztMAxa7YupMi8cCkAOgAdgA5Al/4Ia2ZLcJ2aad04Zs3fOI4MujR6YZepCgDQM7Xl0tTvbQHof+p7mliN/o05YttgSGxKdQG5LVsOrK0RFygL5IptNYZl2XKn8xRasA996+rErnTJl59HW1cfFNebk90gtn2FisS2bNijQa6dpuKLy94Rm9/TY7jYdnlWvdiWDStIrt0DL18grjvUKI8LcaVsqNi1nM0DRV3l1Ss2tNL6IXaiQalbfa24apXP+YXyeoPZYtuAwpYrDdXJny+QIx8/k1Vv/Yy/irXYGp/y8ShUrTgarkMHuR+duslta+QfnE2ligxscL+j5X40ysct1X4DuflyHzg+Ff0vtH6lvO4s+e8fVVeI6w106C62NYaKNfmhGrkfpNAtf+AJOp9hDQUyTAEAeoY1WLq7C0CXtRAA3dIJgG5pAUCX9Z9mVgB0pySKF10AuiUdAN0WRgD0iBgBALpzfMlQQF+9ejXdeuutNGvWLFq5ciV1796dBgwYQGPHjqXDDjvM548P0bBhw0w99913n+86UBAKRCsAQEdMJFQBALpMTgA6AN0tUgDosv4DQPfQCYBuwRUy6JYWyKBHtEAG3RpD2kIGfdmyZXTQQQdRx44dacKECbTXXntRXdNMvzfeeIMef/xx+vbbb9U/Plw+JycHgK5WDgUkCgDQJSrBRqwAAF0mFQAdgA5Al/UVkRUy6E6ZAOgAdJeOEwCgA9Bd46L1T3EfMWIEffHFF7Rw4UIqLHQu1SkvLzfg/sMPP9CYMWPorbfeoqympU2/+93v6MEHH6TtttvOqDZ+/HiaMWMGXXbZZXTLLbcQQ/9ZZ51Ff/vb3xyqLl26lPr27Utff/01XXXVVfTee++Zex555JFUUlJCXbt2pTlz5pj/z/caOnSoKX/PPffQpEmT6Msvv6SePXuKfvpg1HoVAKC33rbdJk8GQJfJDkAHoAPQZX1FZAVAB6DHCBSsQbeEAaBbWiCDbo+L1g3o69evN1DM09v5dCK3KxQK0cCBAw1I81T1+vp6uuSSS6ioaT8IhukwoN9999108MEHG5AOBoO044470tFHH0177LEHTZw40dh169bNnGjEWfpRo0bR2WefTVVVVXTttdeaet9++21jd80119A//vEP+vzzzw3sDx48mJ599lk68cQTRT97MGrdCgDQW3f7pvzpAOgyyQHoAHQAuqyviKwA6AB0ALpnVwGgA9DdgiQTp7gH9jiaamqcm+3m5eUR/xN9zZ0718Dviy++GBN+Z8+ebUCbs999+vQxVXAGfPfddycuP2jQIJNBv+2228z6dYbw8OW2Bv2mm26iTz75xEyhD18rVqwwdXMWf5dddqHa2loaMmQI9e/fn7766is64IAD6K9/1W0o6dnpYZCxCgDQM7bp0tPxMKD7OUNd+0Q8VYgv7OKuVW6rPXZxt3TDLu7OGMIu7jY9sIu7JQZ2cY9oocnMYxf3qN8o7OIeEQS7uNtiQ7E05/ZXFpi15PZr3LhxBqKjLwZlBuHp06fTCSe47/7+wAMPmOnnDOj2q1OnTnT//febLDjXXVpaSosWLXLYuAH6McccQwz9ubnOUyQqKiro1VdfNR8D+OKPAJxp50w8T8GPnn7v7+0OpVqDAgD01tCKafQMYUBPZSYdgO4vAADoAPRYkQNAB6C7xgYAHYDuFhg4Zs2hCo5Zs+RI1jFrmgy6ZIo7Qzj/s2TJEkdb8tp0XofOa83Da9AXLFjgCegM4O3ataM77rijWY/h9eVhEH/iiSdo9OjRZio9A3o4e+/vrQ6lWpMCAPTW1Jpp8CwAdFkjYIq7pROOWbO0wC7usv7TzApT3J2SKDJROGbNBhNJOl8dGfSoHosMekQQZNBtsaEYt7TnoDMw8+ZrsTaJ++9//xtzijv/bb/99osJ6LzZ26677mpAPnz9+c9/phdeeIH+97//UXZ2tusP2+LFi83xbJy957Xo1dXVkQ3qfP4SolgrUgCA3ooaMx0eBYAuawUAOgDdLVIA6LL+A0D30EnxogtAB6C7RhPOQY/IgnPQoyIkA89B56nrBx54IHXu3Nls5sbTynnDNp6GPnnyZDPVnDeJa9++vWOTOP7/9k3ieBf36Az6hRdeaP4bQzbb8z34zHWG70MPPZSuvvpqs0nd999/T88991xknTnv3s7ZdAZ5tt9zzz3NxnFsjwsKANARAwlVAIAukxOADkAHoMv6isgKGXSnTAB0C65wDrqlBY5Zi2iBXdytISMTN4nTZtD5aVetWmV2cp85c6b5d97ojaGc31t5Hbn0mLVoQP/uu+/onHPOMbux827t4WPWeK0679z+zjvvmA3teJ05H91277330s0330yPPvqoyep36dLFNMZLL71Ep556qtlcjuEeV9tWAIDetts/4U+/LQD99e1OFz9Hp2Ct2DY3u0Fs23RCh+rKDjaK7TdWN9+VNFbhwpw6cb2zstqLbX8lr9bUuSBX/ny71AfFfpRniU2pvdwF+jxbHhfsQTuS+9xI8uDYsdF9KpzbU1+5+h2xGBf2Okhsy4a1JBfv4ZdHiesONSoCSQPdIbm/7GygqKvYZwrK24Qa6uX1aiwb5WORqVajh0bnHPlYpNEtoNGYH0+hcyC3QKx0qLZKbBtQZBHr3/i7uF4Tn4XysZlqnTtZt3ijomK5H50UR29VbZHXax5QPpAH9zlCXHdAUa9qbbQihoyzdfI2adzwk/z5snLEtqE6RSwXdhLXawyDcj9I0ac042feXkfpfIY1FMgwBQDoGdZg6e4uAF3WQgB0SycAuqUFAN3WfzTgqAFS5gMAuiW0RmcAekQ3ALqtrwLQnT/8AHRLDwC67KUQVlAgSgEAOkIioQoA0GVyAtAB6G6RAkAHoLuOIMigO2RBBt0mBzLo1kcTZNAjWiCDLnsXgxUUSFcFAOjp2jIZ6hcAXdZwAHQAOgDdo69oMrvIoDvF1Oih0RkZdGTQ3botMujIoMcazpFBl70UwgoKIIOOGEimAgB0mboAdAA6AB2ALhstmqyQQUcGPSYAydc7E9agWxnmmgpx9yOsQXdqhTXo8tiBJRTwqQAy6D6FQzF3Ba6//npzlmNZWRmVlpamRCZsEmfJjE3iLC2wSZylBTaJcw5FWINu0wMZdAvaFNk+rEG3xRAy6M4BBmvQLT0UfQqbxKXklRk3yRAFAOgZ0lCZ5mY4kx72OwzuiXyOkpISUx0AHYDuFlcAdAB6rPEGgA5Ad4sN7OJuUwW7uFtiIIPu7C7IoCfyVRZ1QQFXBQDoCIykKBAN6NH/P5E3BaAD0AHoLfcoZNCd+gDQAegAdI9fYQA6AD1WiADQE/kKi7qgAAAdMZA6BQDoLWuNNeiWPjhmzdICu7j7BEfNpmhNtwCg+9QZm8RFhMMUd1sMYYq78wcfU9wtPTDFPXUv3rhTq1IAGfRW1Zzp8zAAdAC6NBoB6AB011jRrI0GoDsl1Oih0RmADkB366wAdAB6rB98ALr0VQh2UMChAAAdAZEUBQDoAHRpYAHQAegAdI/egl3cHQLhHHSbHDgH3fpognPQI1rgHHTpGwjsoEB6KgBAT892yXivAOgAdGkQA9AB6AB0ALp0vGA7ADoA3S1eAgB0ALpmIIEtFEhjBQDoadw4mexaKgH9se3PFEvVuSEkti1SZK0aKCCulw2DJPdjXTBbXHehYrrqy/m14nr7hfLEtmzYq0GuR5+6enHdNQF5vXkhucYfFATFPrBhl0a5H5qKl2fJtaimRnHVj//0odiWDc/oNURs/9iL54htqaFObquZpt0g140dCBR3l/uh6H+aY4LkDjRZarRg83rF2dgKRwLZinFAo5tm0yn2gsfJDQAAIABJREFUVxNHmh24NdNxFVo0zHhCoXKTaVGR3L5G3taB4mJ5vV0UfaRKcaa46YDy8TO4/wi5zwrLULXc54Amhkz/k/+2htb9KPda06dqquX1FneR23LzKfqr5mQEUoxb+fufovIZxlAg0xQAoGdai2WIvwD0lhsKgG7pA0C3tACg2/qNBkoB6I4BB4Buk0MDVwB0SzgAekQLALrzfSbTAH3OnDk0fPjwmC9lw4YNo6lTp1K/fv1o/vz5NGDAgAx504abrVkBAHprbt1t+GzR556XlZVRaWlpUjxCBt2SFRl0Swtk0C0tkEGPesFEBt3XWIwMuk02ZNAtMZBBj/pAhgx6WJB0yKDX1tbS+vXrm415L7/8Mo0ePZqef/55GjRoEADd168CCiVLAQB6spRFvQ4FknkOOgAdgO7W3QDoAPRYwzCmuPv7gQKgA9BdIweADkCPMaSkA6C7ufbNN9/QkCFDaMyYMXTLLbfQsmXLAOj+fhZQKkkKANCTJCyqdSoAQHfqgSnulh6Y4m5pgSnutn6CKe6WGBotmkphirstjjDFPSIG1qDbuhTWoFtiZOAa9MDex1FN1P4LeXl5xP94XeXl5TR48GDadddd6aWXXmraEiEAQPcSDX9PuQIA9JRL3jZvGAb06Knv8ahRUlJiiiODbqmIKe6WFsigW1pgirtzpEEG3d/Iiwy6TTdMcbfEQAbd0aGwSZztQ4hmXwfFJnG3v/oVTZgwwaH7uHHjaPz48S0Obo1NG+n+3//9nwHyjz/+mIp/2TgRGXR/vwkolTwFAOjJ0xY12xQIA3oyMukAdAC6W2cDoAPQYw3CAHR/P08AdAC6a+QA0AHoMYaUZE1x95tBv+666+ixxx6juXPnUv/+/SNeA9D9/SagVPIUAKAnT1vUDECPGQOY4m5JgynulhaY4m7rMppp3djFPQoQ5EdvaX6oAOgAdAC6d49BBt3SKFmA7ueYNd4M7owzzqBZs2bRUUcd5WhIALp3XMMitQoA0FOrd5u9GzLozqYHoAPQ3QYDADoA3fVHQvOxoqkCrEG3qYg16BExsAbdBo5Yg26JkYFr0LWAvmDBAjrooIPMtPirrrqq2TALQG+zeJK2Dw5AT9umaV2OAdAB6LEiGhl0ZNDjhlJk0JFBjzXAANAB6C6xEQKgtxlAX7t2Le233360++6705NPPtksGoLBIFVUVGAX99aFHRn/NAD0jG/CzHgAADoAHYDu3VeRQUcGPe6PFcigOyUEoAPQAegt//i08gz6tGnTaOTIkTE12HHHHWnOnDkAdO9XFFikUAEAegrFbsu3Cu/eXlZWRqWlpQmVQrNJ3PZ1DeJ7a6ahN1BAXC8bbpdTJbZfX5cvts0l+fPNzfc+jiR84x71YheModwLou3r68SVVweyxLaaTeKm5leL62XD3oECsX1QbElUTnKhGygkrrlOYcuVlv70sbjuinlTxLahRnlbiys1ASfXjc01m8QFgtliV0JKP+QVN4pNjWFdctagkwJ2NbpRlrxf8+NpdA4ofNaslw1k54rbpP61aWJbE5/t2snt6xR9qqhYXm/HrnLb6kq5rdIyuK9zrbCyeGxzze7iOfLfSm3/ayxfLX8kTT9RPF+gSNHW7G0wR+6zwo9QgzyW8/ceIfcBllAgAxUAoGdgo2Wyy9t6F3cAuhU9AHRLCwC6c1QBoFt6aEBTA46qcVy5Bh2Abms/ALolBgDd0kIBjgRAdw5XAHTV8A1jKOBHAQC6H9VQxrcCAPSt0iGDboUQMuiWFsig+xxalJlrZNB96qyAXc2HDWTQne2BDLqlBzLotthABj0iBjLoPsdwFMsYBQDoGdNUrcNRADoAPTqSAegA9LhHNwC6U0JMcY/ogSnuttBABt0SAxl0q49ginvcP0GoAAokWgEAeqIVRX0tKgBAB6AD0GN3EWTQfQ6gAHQAeozQAaAD0F1DA4AOQPf5c4NiUCAVCgDQU6Ey7hFRILxZXCIkKSkpMdVgkzhLTWwSZ2mBTeIsLbBJnHPEwRR3nyMwprhbUINN4qwgwiZxvj+QYZM4SzpsEudzXEaxVqkAAL1VNmvbeigAOgDdLeIB6AD0WCMhAN3nbwQAHYDuFjoAdAB6rCFFMVMBgO5zXEaxVqkAAL1VNmvbeigAOgAdgN5yn0cGHRn0hPwqANAB6AB0766k2AMCGXRk0L0DChZtUQEAelts9Vb2zAB0ADoAHYCuGdaQQdeoZbMFoAPQAejenQeAbmmEDLp3vMACCrgoAEBHWGS8AgB0ADoAHYCuGcgA6Bq1AOhuagWwBt2SBVPcnSECQAeg+xxiUQwKhBUAoCMWMl4BADoAHYAOQNcMZAB0jVoAdAC6R7wA0AHosUIEGXSfgy2KtXUFAOhtPQJawfPXfPGG+ClC9TViWwpmi20DgaDYlg0b1/0otg/kF4ptVYaK5yPlMVZUUCR3pbFRbBvIzhPbhhrrxLaBfIW/XGuWrr3FjlRXiE01hqq4b6pYo3PhfueJXTmh50CxbXEgV2xbRPK+ypXu1iC371QfEvuRE5Lb/pydJa53Wba8j3ClF3X8WVx3+YYCse3rVCy23a5ebErtG+W6ca17tN8grry6Jkdsu6FGPr6IK20yHDxWrrGpt6ZWXn2WPI5CFVXiekMV1WLbQIFON03dwb12EftBCi1o02Z5vQX5clu2rJcH/+bp34rrzu0iNqWs9vLfqOztO8srZktFe4fK5To3bpbHXPFj8vc+3cPBGgqkhwIA9PRoB3gRhwIAdJ/iAdAjwgHQnTEEQLf0AKBbWgDQ/Y21AHSnbgB0Sw8AuqVFsgB95MiRNG3aNHOjYDBIvXr1omOOOYZuu+026tSpk/nvffv2peXLl5t/LygooJ122onGjBlDF110UcTB2tpauu+++6i0tJQWLVpE7dq1o1133ZUuuOACOvPMMyknR/4x0N9IglJtSQEAeltq7Vb6rAB0nw0LQAegxwgdADoA3S00AOj+xloAOgA9VuQA0FMD6GvWrKGpU6c2TW6op6+//prOO+88Gjp0KD377LMRQD///PNp1KhRtGXLFnrqqafo1ltvpeeee45OO+00Yjg/6qij6PPPP6ebb76ZDjroICouLqaPP/6Y7r77bpoyZQoNGDDA3wCBUlDARQEAOsIi4xUAoPtsQgA6AB2A7tl5kEG3JAKge4aLqwEAHYAOQPfuO8nMoJeXl9OMGTMiTlx55ZUGwtetWxcB9LFjxxL/E7522WUXGjhwoIH4O++8k66//nqaN28e7bPPPo6HqaurMwBfWJik5Yje0sGiFSoAQG+FjdrWHgmA7rPFAegAdAC6Z+cBoAPQPYPEwwCADkAHoHv3olQB+pIlS+jYY481cL569eqYgL7XXnsRQ/q//vUv2nvvvalHjx70xhtY++7dkrBIhAIA9ESoiDq2qQIAdJ/yA9AB6AB0z84DQAegewYJAF0lEdagW3JhirulhQbQ8x54mWpqnJv+5uXlEf8TffEa9Keffpry8/OpoaGBqqu3bkZ377330v/7f/+vGaDzNHi2P/fcc+mRRx6hiy++2Kw35+nv999/vyrWYQwF/CoAQPerHMr5UoCnCIUHR18V2AqVlJSY/wdA96kkAB2ADkD37DwAdAC6Z5AA0FUSAdAB6G4BowH0e3seQBMmTHBUM27cOBo/frwroK9cuZImT55MlZWV9MQTT9B3331HM2fOpOzsrSd68CZxq1atMhu9Mfjn5ubSpZdeSrfffnvT4QBZZuM43jCON4nDBQVSoQAAPRUq4x4RBfhrZRisEyULAN2nkgB0ADoA3bPzANAB6J5BAkBXSQRAB6DHC+jaDHr0GvThw4fTwQcfbDZ8CwM678TO2XbOlvfs2ZMCgUDETUxxV3VxGCdAAQB6AkREFXIFAOhbtcI56LaYwTnolhg4Bz2iBc5Bt8IC56A7f2NwDrpND8XZ3zgH3aYbzkGPiNHaz0Fn6I4G9Dlz5tDRRx9NixcvNseucQY9epM4+6hzxx130A033OC6SRxPieesOzaJk7MALL0VAKB7awSLBCoAQAegNwsnADoA3WWMAaAD0GP99ADQAeiusaH4WEEA9DYN6Pzw++23Hw0ZMoQeeughT0BnAD/iiCPof//7n8m6c/a9qKjIADvD+5NPPolj1hLICqiKCICOKEipAgB0ADoAvYUuhww6Mugu4YEMOjLoMUcNBZQig44MulsctcUMOuvwzDPPmI3gvv/+e3MmeksZdLZnSOclmlxu0aJFZir8brvtZjaPO+OMMyLr2VP6Uo2btVoFAOittmnT88GSAejVC2bKH7bOuetniwWDOfJ6FS9JXGlo3U/iugO5BWJbleEvm6OIyjRN4VJdhR3k5qFGuW12rty2Qe5zIE95fqmyvaVOh2oqpKY6O03cc805zXfCjXXDM49/XOzLjFWfim2P6eE8a7algu0CWzf6kV4n1crbu7ixQVotBSkktt0YCIptf8rJEtuy4e/7rBTbb9kgb+v3N3cV19ulXt6v22nGgCYP+vfYenax5Kqpko/jWyrl40tDo7xN9hhTJHHVsqmpldsrxqJQ1dbdqyVXqEruQyBPrjHfW7MGPXvgHhJ31TahTZvkZVx2Bm+xsCKeK1/+QuxHdmf5mJHVTj4mBnt3EfvAhoGCfLF94/qNYltNzBU9oHjvE3sAQyiQPgoA0NOnLdqEJwD0rc0MQLeFu+JlhgDo/sYJALpDNwC6JQcA3aYFAD0ihgaWAOhRw7LiNw2AbmmniTkAur9XAZTKHAUA6JnTVq3CUwA6AL1ZICteZgDoPocBADoAPUboANAB6G6hoYElADoAPdYvEzLoPn+zUazNKwBAb/MhkFoBAOgAdAB67D6HKe6WNpjibmmBKe7OPoMp7jY9MMXd10sMprhbsmGKu68QQiEokFQFAOhJlReVRysAQAegA9AB6JKREYAOQI8VJwB0ALpkDGnJBoAOQI83hlAeCiRTAQB6MtVtRXVff/31VF0t32Am1qOXlZVRaWlpQpXBJnE+5cQmcRHhsElcVAxhk7iIINgkzooNbBJnaYFN4iwtMMU9avxULNvCGnRLO82yCqxB9/neh2IZowAAPWOaats6mqjMd3Q98YA/H3fBFwDdZ2wA0AHosUIHgA5Ad4kNADoA3W3IAKAD0GP9lGANus/3MxRr8woA0Nt8CMgESBagJ6JeALqsDZtZAdAB6AB0z86DDDoy6G5Bggw6MugxBw9k0CPSANA9f2JgAAVcFQCgIzBECiQCpPlG0fUkol4AuqgJmxsB0AHoAHTPzgNAB6AD0FvuJsigR+kDQAege/6ywAAKeIyroaYrWSIlAr6S5Rvq1SmQqLYEoG/VHeeg2+JP8TKDY9Z0/TZijWPWHMLhHHRLDhyzZtMC56BHxNCsBwagA9Bj/TIhg+7zNxvF2rwCyKC3+RCQCQBA99BJcdQNAN3/ywwAXdZfm1kB0AHoMUIHgA5AdwsNALpNlbw83cCr+OiMTeIsaTUxh03idCEJ68xTAICeeW22TTwGoAPQVYFX2EFurniZAaDLZXVYAtAB6AB0z86zBRn0iEYaWEIG3f9HZwA6AN1zYIJBm1QAgN4mm13/0K0G0Gur5A+frfhqrs2gr10h9kN9BJi05nRZg95QJ/WYSLG7ODXUi+tVaxzIEtetMQzVKeKzsVFedX2N3JYtcwvE9pec8JTYdl2j/KjGWavni+v9XY8BYls2vLimWGxfFJDHUXZA3ibljTliH9Zo+mpTrUfvLB9ftqyVj3Mfl3cT+9xV0f/aBRrE9bLhjr02iO3rqoNi281b8sW2gYB8dWD/UfJ4Mw7UymNO7HCTYahKPg6E6uQ+BHKyNW5QqEI+DmQP3ltVt9Q4qeegK8bmypcWSF2mnK5ynQP58rgP9pH3a3Y2UCAfM1RT3Cvk8YkMujhsYJihCgDQM7ThUu02AN1DcQC6UyBNBh2AHtEOgG6FEQDd0gKA7hxeAOj+3gAA6JZuAHRLi7YA6GVlZXTjjTfSa6+9RmvWrKFOnTrR3nvvTePHj6cDDjjAs0MtW7aM+vXrR8FgkJYvX069e/eOlFm1ahX16dOHGhoaaOnSpdS3b1/P+mAABbwUAKB7KYS/GwUSBejR557zoFlaWhqXyqpd3JFBt7TWZOXq5dkUcwMAuq+YBqAD0N0CB4AOQPc1oEQVAqAD0N3iqC0A+tChQ6muro4mTZpEO+20k4H0t956i/baay865phjPLtXGNAZxC+++GLid9nwdfvtt9PkyZPphx9+AKB7KgkDqQIAdKlSbdwuUYAeLWMi6gWg+wxOAHpEOExxj4ohTHGPCIIp7lZsYIq7pQWmuNu0wBR35wCKKe4RPdJhint5ebnJmM+ZM4cOPfTQZi9MYfieP38+DRiwdblUuMw777xDw4YNo7DNX/7yF3r++efpu+++i9Tz61//mk499VS6+eabI4A+ceJEevTRR+nLL7+kLl26GNvjjjvO1Mt+ZClnXfp8y0OxDFYAgJ7BjZdK1xMB0m7+JqJeALrPSACgA9BjhQ4AHYDuEhsAdAC625CBNehRqgDQkw7ouXe9QDU1zjXreU277fM/0Vd90wxABvQLLriAONsdbaMB9Llz59KIESNo+vTpdPDBB9MHH3xAv//972nWrFm0//77RwCdp7tz1n677bYztgzr1113HX3++ee04447+nxpQ7G2pAAAvS21dhzPmgiQbgnQo6e+S1wtKSkxZgB0iVouNgB0ADoA3bPzIINuSQRAB6AD0D2HDCIAetIB/Z7O+9GECRMcjTFu3DizptzteuGFF2jUqFFUVVVF++67r8mkn3766WaKuwbQOcs+bdo02rhxI02ZMoXOO+886tixI5199tm0zz77OKa4L1myxGTkL7nkEnrwwQfp8ccfpzPOOEMQQDCBAk2bMYaarmQJkSyoS5a/qDe2Aslqy3C98dQPQPcZuQB0ADoA3bPzANAB6K5Qil3crfETU9ydIQJATzqgazLoYWeqq6vp/fffp48++ohef/114mz4E088Yaaw8wZwkinubJPd9O7EG8stWrSI+vfvb+rjLH00oPN9GcovuugiOu200+i5557z/L2BARQIKwBARyyIFIgHoFu6AQDdW371+mjvKrdaANAB6AB0z94CQAegA9Bb7iaY4h6lDwA96YCeiGPWeMr77NmzDbTztPPPPvvMQDZfP//8M3Xv3p2i16CHIX7QoEHUvn17qqioMKC/YMECV0A/88wzDZjvt99+Zjo8wz0uKCBRAIAuUQk2CdvFPVpKALp3cAHQbRrhHHRLDMVLIOEcdEdHwznolhw4B93SAuegW1rgHHTbkOGyrrnFX27F2Ixz0G0xl+Jz0O+991667bbb6Mcff6R27dqZdeS8vpwvBvcjjzwyJqDzru08dZ3/d/To0a6AzpvJnXvuufTmm2+aDDp/EIielu/9BgiLtqoAAL2ttrzyuZFB9xBMuSNnaO0KcQsA0AHorsGieAkEoDsVBKAD0N36FAAdgO461gLQHbIECppvxBbrhSYddnFft24dnXLKKWa9OK85Lyoqonnz5tGYMWPMEWtPPvmkmbKek5NjNnNbu3YtXX311SYzHiuDzlPaeUd2Xn/OWfHoDPqKFSvMvRjI+T4M/Hyv9957j4YMGSJ+/4Nh21UAgN5221715AB0ALoqYHAOukqusDHOQbdkm7V6vljD3/XYejSO9AKgA9AB6C33FmTQbfoA0DMa0Hm3d948jjPZixcvNueh83nmDO033HADFRQU0DfffGMAnndZ33XXXenOO+9sMYMe3XvsgM7T5Y844ggD7q+99hoFAgFjfsUVV9DLL79sYJ6nx+OCAi0pAEBHfIgUSBagh3dvLysro9LSUpEv0UbVn86Ql6tzHsvRYsGgYq1QVlDuQ5NlaN1PcvvcfLmtwjIQzBFbhxrqxLZsGFABer28btUUd4XPeYVyH/j5Arr2llYe0kxFDzVKqyWqrZLbsqXimLVrT5JvfFMWqhb7sTkkb7/XVy8Q18uGMzsNFdur1qBnydtkS4O8/5VpxqKmJztsN/kMnYq1uWItPi3rLrbt2lgrti0INoht2bB3n3KxfX2NvK9u2STPDIodaDLsd35njTlRjVw7ytr68i+5QlWK3786xbgclGvMfoYq5ONA9hDdxzeJDsaHzZulphTIk/cRU3ejfO/lqlc+E/uR013uRyBH3iZZfeT9mp3V6BHatEX8fKFK+e9U+7tfEtcLQyiQiQoA0DOx1baBz8kC9PCjxFM/AN1fQADQbboB0J1BBECP6AFAt0IDgO5vrAWgO3UDoFt6ANAtLQDo/sYXlGqdCgDQW2e7Jvyp4gFoiTPx1A9Alyjc3AaADkCPGTkAdAC6S3AA0P2NtQB0AHqsyAGgA9D9jSoo1doVAKC39hZO0PPFA9ASF+KpH4AuURiA3qJKyKAjgx4jQJBBRwbd3whrlQKgA9AB6N69CBl0b41g0XYUAKC3nbaO60njAWjJjeOpH4AuURiADkBXxAky6BGxAOgAdEXPcTUFoAPQAejevQiA7q0RLNqOAgD0ttPWcT1pPAAtuXF4sziJbdimpKTE/CsAXaOaZYsp7jbdkEF3BhEAHYDuMqxgiru/sRaADkAHoHv3HQC6t0awaDsKANDbTlvH9aTJBvR4nAOg+1MPgA5Ajxk5AHQAOgDd38DqUgqADkAHoHt3JwC6t0awaDsKANDbTlvH9aQAdA/5cMyaQyAcs+avu+GYNUs3HLNmaYFj1pz9Cces2fTAMWu+Blscs2bJhmPWfIUQCkGBpCoAQE+qvK2ncgA6AF0TzQB0jVqWLQAdgO4WOQB0AHrMEQWA7muwBaAD0H0FDgpBgRQpAEBPkdCZfhsAOgBdE8MAdI1aAHQ3tZBBRwY9Vi9CBh0ZdH8jrG2s3bxZXEUgL1dsy4ahxpDYHses2dqkskqsW/u7XxLbwhAKZKICAPRMbLVt4DMAHYCuCTsAukYtADoAveV4QQbdqQ8AHYDub4QFoLvphinu8UYTykOBxCsAQE+8pmldo5/d0vmBysrKqLS0NC2frebbd+V+1VbLbXMUX80DWfJ6myxD61bI7XPz5bYaS8VGYFRfq6mZAvlFcvtQo9xWo7Oi3kBRF7kPbKncc0Baeai6QmrKaRq5bV2N3JYtFbEx9bePiOvuWi/PLBU0yp8vSPJ62dn/2/C+2OcTeg4U2wYoILbNIfmYkR8Iiutlw5t7rhfbb9mQJ7adXaHsJ8KauzTo2m/fYvnzVVXlCL0gWl8tH2uzFDG3/1+6iX0whnV1cvsseRyFquS/f6FNW8Q+BAoLxLZsGKqQZ0qDu/9aVbfUOLRxo9S06fdMHhemUsXYXPnSp2I/crrL30kCBfK4z+qti89Ajrzu0Bb5b1qoQh6f7e+aLtYNhlAgExUAoGdiq8Xhs99MuN9ycbgqLgpAF0vlNFRAGAA9SmMAekQQALoVGwB0f2MRAD1KNwB6RBAAuhUbAHRLCy2gc5LpxhtvpNdee43WrFlDnTp1or333pvGjx9PBxxwAPXt25eWL19OH330EQ0ZMiRyo7Fjx9KCBQtozpw5/gY3lIICPhUAoPsULlOL+QVtv+VSoRMA3afKAPSIcMigR8WQIjYA6AB0nyNQpBgAHYAeK4YA6AB0t9jQAvrQoUObJqbU0aRJk2innXYykP7WW2/RXnvtRcccc4wBdP5v+++/P737rjUrE4Ae7+iO8n4VAKD7VS5Dy/kFbb/lUiETAN2nygoIQwY9SmNk0COCANAB6D5HIAB6LOGQQY8oA0AHoMcL6OXl5SZjzlnwQw891LXXMaCfcMIJNHnyZJo+fTqNGDHC2LkB+pQpU+iee+6h77//njp37kwnnXQSPfTQQ/EOgygPBRwKANDbWED4BW2/5VIhLwDdp8oA9IhwyKBHxZAiNgDoAHSfIxAAHYDuGToAdAB6vIBeX19vAP2CCy6g22+/nfLymu+7wYDOML506VID8vPnz6espv0dogGdAf6KK64w9Rx99NG0sWkvgw8//NDY4YICiVQAgJ5INTOgLr+g7bdcKiQBoPtUWQFhyKBHaYwMekQQADoA3ecIBEAHoHuGDgAdgO4WJDm3PEc1Nc7NTxm83eCby7/wwgs0atQoqqqqon333ddk0k8//XQzxZ2vMKCfccYZtPPOO9PDDz9MZ511VjNA7927N5177rl0yy23eMYuDKBAPAoA0ONRLwPL+gVtv+VaksjvjvLhOktKSsy/AtB9BiIAPSIcMuhRMaSIDQA6AN3nCARAB6B7hg4AHYDuFiR3F+5NEyZMcPxp3LhxZtO3WFd1dTW9//77ZiO4119/nebOnUtPPPEEjRw5MgLonAmfOHEiTZ06lRYuXEjXXHNNZJM43mhuu+22o7fffpuGDx/uGbswgALxKABAj0e9DCzrF7T9lmtJokTVCUD3GYgKCEMGPUpjZNAjggDQAeg+RyAAOgDdM3QA6AB0tyDRZtDd6uAp77Nnzza7t4cz6AzoW7ZsMVl0TiItW7YsAuibN2+m4uJiALpnr4VBIhQAoCdCxQyqwy8U+y0HQHdXAOeg23RRnBlLOAfdEk6jG85Bd3REnINuyYFz0C0tcA66bXjBOegRMXAOuvM9prWcg37vvffSbbfdRmvXrnUAOj8tb/rGGfpjjz2WlixZEjlmrV+/fsTT4DHFPYPAJ0NdBaBnaMP5ddsvaPstB0AHoHvGqgY0AegAdJeAClLIM8zsBgB0ALpbwADQAehucQFAz2xAX7duHZ1yyil03nnnmTXnRUVFNG/ePBozZow5Yu3JJ59sBuh8JNtuu+1GK1eupMGDB0cAfdq0aTR69Gi64447zCZxnFXnTeK4LlxQIJEKANATqWYG1OUXtP2WA6AD0D27BQA9IlGousJTLsu4UW6LDLpDKwA6AB2A3vLwEUI9w7pjAAAgAElEQVQGPSIQAD2zAZ03k+O16W+++SYtXrzYnIfep08fA+033HADFRQUNAN0fuJnn32W/vjHP5oN5Xhn9/D12GOPEe+BxJn1rl270sknn0wPPPCA/PcYllBAoAAAXSBSazLxC9p+y6UE0Bf9R95ENQoAys6V16tckxxav1Jet2atuLxWCmQ3P2okVvFQY52iZqJAfpHcvqFebhvMltsqwD/QvrO8XrbUZPIVNYc08amol5SAHlDE3PSD7hd70qmxQWybH5DbajPoJXm1Yj9mrPpUbHt0j33EtttntRPbdiZF3DfVelnfn8R1V6yTj3P/WdddXG9dQGxKnRoUH5uaqt2z6zpx5VWVOWLbTVXyMVFcaZPhgAk7aMybdj517k7dYuGmo6DEV1W12FQF6EXyWGYHQhVVYj+ydt1FbKsxDG0sF5sHmgBOdTUd6yW9ql+fJzWlYGd5fAYK5P062Lub2AdjmCPvU6Et8ncuTVy0n/SCzmdYQ4EMUwCAnmENFq+7fkHbb7mW/E1UnTUAdF9hAUC3ZAOgO0MIgG7pAUC3tACg+xpqAehRsmlADIBuiQdAt7QAoPsbi1AqcxQAoGdOWyXEU79Q7LccAN1dAWTQbboggx4RAxl0Ky6QQbe0QAbdOY4ig27TAxl0X+9GyKDbwB8ZdF8xhEJQIJkKANCTqW4a1u0XtP2Wa+mscz5TsrS0NG6VkEH3JyEy6Migx4ocZNCRQXeLDWTQ/Y21mOLu1A0ZdEsPTHG3tNDEBTLo/sYilMocBQDomdNWCfHUL2gno5zfOqOFAKD7Cw0AOgAdgO7ddzDF3dIIgO4dL24WAHQAeqzIAaAD0P2NKijV2hUAoLf2Fo56Pr9QnIxyfusEoCcmaAHoAHQAundfAqAD0L2jpGULADoAHYDu3YuQQffWCBZtRwEAettpa/OkfqE4GeXCdbY0Db6l5uFjLvhCBt1fEAPQAegAdO++A0AHoHtHCQBdo5EGxLBJnKUsNomztMAUd02Pg20mKgBAz8RWi8PnZIB2S+60dL/w3/z6FL4vAN1fQADQAegAdO++A0AHoHtHCQBdoxEA3VILU9wtLTRxAUDX9DjYZqICAPRMbLU4fPYLw8koB0AXNqTiTGphjcYMgA5AB6B79xgAOgDdO0oA6BqNNCCGDLqlLDLolhYAdE2Pg20mKgBAz8RWi8PnZIB2S+4gg+6uDo5Zs+mCY9YiYuCYNSsucMyapQWOWXOOozhmzaYHjlnz9UaEY9Zs4I9j1nzFEApBgWQqAEBPprppWDcAvULeKtm5ctusoNy2yRKADkB3CxgAOgDdLS4A6AD0mD8wAHTVb2/YGIAOQPcVOCgEBVKkAAA9RUKny23SCdDDm8PFex56zbfvyuWtrZbbBrOTY8uAvuEned1JmuJOmufTZLmbniyQXyR/Pk3dGp9DjWIfAkVdxLZqQ8XHm1C14gOS4vmorkbntiLmZg19SFx3h1CD2LYgq15sGwyExLZseHeO3I9qhc+vrZ4v9mNsr0PEth1CWWJbNrz41yvE9pXr5OPcvBXbiettCATEth0a5e3Blf66z8/iumsr5c+3eUu+uN6QIuR2G7ezuF42DNXr9BBXXiMfB0Kbt4irDbQrENua56usEttn7bKL2FZluHmT3DwvT27Llo3y356aNz4R1x3s0k5sGyiQJxiyenYT12sMc3Lk9lvkv2mapQ+FE5+T+wBLKJCBCgDQM7DR4nE5nQA9/Bx+fQqXB6D7jAgN7GoguskdALqtTQDoETEA6FZcANAtLQDozjEcgG7pAUC3tACgW1oA0H2+96FYxigAQM+YpkqMo35hOJnl/NYNQI8zJgDoEQGRQY+KJWTQI4Igg27FBjLolhbIoFtaIIMeNX4ig24JkgYZ9JEjR1J5eTnNmDHD+LV69Wq69dZbadasWbRy5Urq3r07DRgwgMaOHUuHHXZYnC9WKA4FEqMAAD0xOmZMLX5hOJnl/NYNQI8z7ADoAPRYIQRAB6C7xAYAHYDuNmQA0AHoMd9G0gzQly1bRgcddBB17NiRJkyYQHvttRfV1dXRG2+8QY8//jh9++23cb5YoTgUSIwCAPTE6JgxtfiF4WSW81s3AD3OsAOgA9AB6J6dCBl0SyIAOgAdgO45ZGANul2iNAP0ESNG0BdffEELFy6kwsJCR2Nylp3BHRcUSAcFAOjp0Aop9MEvDCeznN+6AehxBg4AHYAOQPfsRAB0ALpbkGCKu6UKMuhREYIp7pYgSQL07D9Po5qoTQ/zmjbz43+ir/AU9ylTplDXrl3N9HbepBgXFEhnBQDo6dw6SfDNLwwns1x4N3ft45aUlJgi2CROq9wv9gB0ADoA3bPzANAB6AD0lrsJAB2AHjNCkgTod2X92kxRt1/jxo2j8ePHxwT0G264gQYPHkwvvvginXjiiZ5jPwygwLZUAIC+LdXfBvf2C9p+ITreI9QkEgHQJSq52ADQAegAdM/OA0AHoAPQAeieA4XdABl0S40kAbqfDDq/xw4ZMoSmT59OJ5xwgqpJYQwFUq0AAD3Vim/j+/kFdL9up+J+AHSfrQNAB6AD0D07DwAdgA5AB6B7DhQAdHeJkgTommPWMMVdFb0wThMFAOhp0hCpciMVwGx/llTcD4DuM3oA6AB0ALpn5wGgA9AB6AB0z4ECgJ72gM7HrB199NH05ZdfYpM4VUDDeFsoAEDfFqpvw3umApgB6N4NHNrwk7dR2EJx5JW80iZLADoAHYDu2WUA6AB0ADoA3XOgAKBnBKAvXbqUDjzwQOrcuTNNnDjRHLNWX19Ps2fPpsmTJ9M333yjamoYQ4FkKQBAT5ayaVovAL1a3jIagNXYNnkAQLc1Q0N9ctok1CiuN1DURWyrNswKiouEqivEtqR4PqqrkdfLloqPQrOGPiSuu0OoQWxbkCWPi2AgJK6XDe/OkfsBQAegA9AB6KoBBmvQLbnSaIo7Z9D5WrVqldnJfebMmebfu3XrRgMHDiR+Px42bJiqqWEMBZKlAAA9Wcqmab0A9DQB9HUr5BGSmy+3VcAgZefK662vlds2WQbyi+T2GtDUfAhRgL8a0DU6y5WgTAT0p4Y/In7CbvXyjyb5irjIIx2gP5kvj+cOgRzx8xWS/GPMfT+9J673lJ6DxLZseHNhldh+w8Z2YttZ2XLbqoC8rbs3ynVjZw9pkH/I2lwvb791WXJb+dMRHXu1XDd+vlCNPD4DWVni9gtVyX//QpvkGgcKFb9R/HwVcj+y+u8ofj6NYah8k9g8UKB7PqqXfwDc9PL3Yj9yu8jHuWBxtrjeYC/d2d+BHHk/CW2pFPvRWCH/kFz82BviemEIBTJRAQB6JrZaHD4D0OUvBqop4Bpw5BcUALoVxQoQU7UJAN3SOIkZdAC6JTMA3dICgG5pAUB3vrQA0C09AOiWFgD0OF7uUbTVKQBAb3VN2vIDAdAB6JEIQQY9IgUy6FHjhmKKOwAdgO72qwNAB6DHehsBoAPQ3WIDgN7GgASP26ICAPQ2FiAAdAA6AL15pwegA9Bj/RRgirulDKa427J9incHZNCRQY8VLsigI4OuGEpg2oYUAKC3ocbmRwWgA9AB6AB0z2EPGfSIRAB0ALprts+zEyGDjgy6d5AA0AHo3lECi7aoAAC9jbV6OgH69ddfT9XVCmCOaquSkhLzXzLyHHSsQbdaE2vQI1pgkzgrLLBJnKUFNolzDv7YJM7SA5vE+XuJwyZxlm7YJM5fDKEUFEimAgD0ZKqbhnWnE6AnyhcAui3QNLuLYw16RDhMcY8arJBBjwiCDLoVG5jibsv2KX7fMcXdKRbWoFt6IIOODLpiKIFpG1IAgN6GGpsfNVFQLJWtpfslyhcAOgDdNR6xi7slC3Zxd4QIjlmz5MAxa5YWOGbN0gLHrFla4Jg15y8sjlmTvgHDDgr4VwCA7l+7jCyZKCiWPjwA3V0pHLNm0wVT3CNiYIq7FReY4m5pgSnuznEUU9xt8Ihz0KWvIw47THG35MAUd18hhEJQIKkKANCTKm/6VQ5AV6x515xtrrFtCgsAOgDdbXQAoAPQ3eICgA5Aj/U2gTXo/t6zAOgAdH+Rg1JQIDUKANBToHO8m6El0sWysjIqLS1NZJUt1oUMurs8AHQAOgC95WEIGXRLHwA6AB2AntjXFgA6AD2xEYXaoEBiFQCgJ1ZP19pSnbVu6ZFS7UtLHycS9bGg5pt3xK0Yqq0S2waCOWJb0mbQ166Q152XL7fVWCo2AiPlGuZAQbHck8ZGuW1OrtxWswa9fSd5vUm0VGXQNX7U12qsiRSxMf7IR8R1927IEtsWKsIiPxQS18uGs3NrxPY9SR5z+aGAuN6vqUJs+89V/xXbsuFXO+0lti/fVCC2Lc2Vj4nFFBTX26lRHhdc6cH1leK6qxrkfqzJkre1xuNjrsgT+8uGoSp5fFKWPOZIUW/jRnl8Bgp1v1GaTeKCu++s0k5qnFRAV/ymlf/re6nLlN9NPihmtZfHffYOut8/zRr0xk3yOApVyOO++K9vinWDIRTIRAUA6ClotVRDcUuP1Bp9AaD7DGIFhAHQfWqsLAZAtwQDoFtaANCdHQmAbtMDgK4cZbeaA9At2VozoB977LFUVVVF//73v5vFyUcffUQHHnggsc0rr7zSYhwtXbqU+vbtS//5z39o6NChdMQRR9Drr7/uGXvDhg2jd99919jl5ubSjjvuSCNHjqRrr72WgsEgzZkzh4YPHx6pJz8/n3baaSe6/PLL6cILL4z8dy4zbdo08/+zs7OpT58+9Pvf/54mTJhAhYWFnn7AIPMUAKCnoM1aIxQnQrZE6QJA99kaAPSIcAFk0J1BpIgNZNAt6ZBBt7RABt3SAhl05/CCDLqlBzLolhbJyKDPmDHDgCwDNsOx/Ro1ahTNmzeP3n//fdqyZUvkT4MGDTJwzH8PX926dTNAfcEFF1D79u3piSeeoK+//pp22GGHFl/AGNB32WUXmjhxIlVXV9PMmTPpsssuo0mTJhlIDwP6woULqbi42HxM4I8F/H785ptv0mGHHWbqZ0Bfs2YNTZ06lerq6ozP7Ms555xDkydP9vkSiGLprAAAPQWtkygQTYSrrdEXALrPyFBAGDLoPjVWFkMG3RIMGXRLC2TQnR0JGXSbHsigK0fZrebIoFuyteYMen19PW2//fZ08cUX07hx4yIPXVlZST169KDbbruN/vSnPzliiDPlY8eONf/Yr4qKCurZsyf997//NXX95je/oZtuuskT0AcMGED33XdfxI6z7/xBgDP4YUDfsGEDdezYMWKz88470+jRo+nqq6+OAHp5eTnxB4fwxR8QGPhXrVrlqw+gUHorAEBPQfu0RihOhGyJ0gWA7rM1AOgR4ZBBj4ohRWwgg25phwy6pQUy6JYWyKA7xxdk0C09kEG3tNBk0PMeeoVqapxr1vPy8oj/ib6uueYa+uc//0lLliyhQGDrng08Xfyiiy4ycNupk3MNfixAnzJlislWM6AzGI8ZM8ZRp9ubGGfQowH9uOOOo59++slk76MBPdS0n8obb7xBbMPT8g855JCYgM6Z+GeeeYbWrl3r8yUQxdJZAQB6ClonUSCaCFfTyZd4d7cvKSkxkgDQfUaGAsKQQfepsbIYMuiWYMigW1ogg+7sSMig2/RABl05ym41Rwbdki0TM+j39j7QrL+2X5zVHj9+fLN4+Pbbb2m33Xajt99+O7Le+9BDD6XevXsbwI2+YgH6QQcdRKeeeqpZH86Zec6mP/vss3T44YfHjEE7oDc2bR7I09aPP/54k52/4447IoAeXkfOHx3YjqfE//nPf47Uy1Pc7Rn0uXPn0ogRI8wU+Oeff95XH0Ch9FYAgJ6C9kknKE4nXxIlPQDdp5IA9IhwyKBHxZAiNpBBt7RDBt3SAhl0Swtk0J3jCzLolh7IoFtaJCuDzndguObN1/7+97/T4sWLqX///gaW3eDaDdB5jfgee+xBK1asoO222844zVPj169f7wr54adiQOeN5XiDuNraraepnHXWWfTggw9Su3btIoD+2WefUVFRkZkVwPDNdd99991maj5fDOhPP/008SZy/HGA16Ez6D/66KPUvXt3ny+BKJbOCgDQU9A66QTF6eRLoqQHoPtUUgFhyKD71FhZDBl0SzBk0C0tkEF3diRk0G16IIOuHGW3miODbsmWiRl07TFrPD2doXf16tV05513Umlpaczp6W6AztPk77rrLrNRXPji6eg5OTmu0+TtgN6vXz+TDefp97169XLUEWsNOq8/52n0/EEgDOgrV640U+z5nlwP/y+u1qsAAD0FbZtOUJxOviRKegC6TyUB6BHhkEGPiiFFbCCDbmmHDLqlBTLolhbIoDvHF2TQLT2QQbe00GTQtYDOm7LxlHSG7FtvvdXs0B5rg7doQA9vNMeQfuSRRzqC+aSTTjJr0aM3mrMDevQadHsFsQD90ksvpeeee47WrVsXAfToTeJ8vvmhWIYoAEBPQUOlExSnky+Jkh6A7lNJBYQhg+5TY2UxZNAtwZBBt7RABt3ZkZBBt+mBDLpylN1qjgy6JVtbyKDz0/KxZC+++CJt3LjRHLsW64i0aEDnndNPO+00Kisrow4dOjjijTPjr776Ks2fP981Dt02iXMD9PAxa+Ep7ueffz6dfPLJxJl/vqLXoPsKehTKKAUA6ClornSC4nTyJVHSA9B9KglAjwiHDHpUDCliAxl0Sztk0C0tkEG3tEAG3Tm+IINu6YEMuqVFMjPofBc+1uzAAw80WXDeKT3WFQ3oxx57rNm4bdasWc2K8NrxgQMH0qeffkr77rtvs79LAT1cMDs7m/r06UOcmecN78KbxwHQfb7nZnAxAHoKGi+doDidfEmU9NWfvSyvqqZCbhvMVtjq1gKFVi2R113QXm6rsAwUOY8WabFoTbWiZqJA515y+1Cj3FbTJk0/qOIrv1BsyoaBQJbKXmocqtwoNSVSaBHSxD0/X06B2I9VZ9wuts1tVy+2zcoOyW1z5LZcaV2ltY7Q6ybZefI4CubJ/Sj/Md/r1pG/NzTq4m33JV+I6/5Dz8Fi21E1ct3qQ1uPM5Jc1aR7vrcL5HX/qkHhs8TZX2y61cvb+oghW9eRSq/adfLn08Tc5tXNj6CK5dOKn52ZwpZ879yuSvpoxm5Lda7Y/ld7b53im+hr809yH/KL5OMW+9lQJ2+/O9d0Ez/aDo3y94zeivjsR7r2a5dbJ/Z5TVU7sW15lvyd65RVpeJ6YQgFMlEBAHoKWi2doDidfEmU9AB0f0oC0G26AdAdQQRAt+QAoFtaANAtLQDolhYAdOdvMADd0gOA7u/9DKWgAAA9BTGQTlCcTr4kSnoAuj8lAegA9FiRA0AHoLvFBgAdgO4WFwB0AHqs3xIAur/3M5SCAgD0FMRAOkFxOvmSKOkB6P6UBKAD0AHo3n0HGXRk0N2iBBl0ZNBjjR7IoCOD7v3LAgso0LICAPQUREg6QXE6+ZIo6QHo/pQEoAPQAejefQeADkAHoLfcT5BBRwYdGXTv3xJYQAGNAgB0jVo+bdMJitPJF59yNisGQPenJAAdgA5A9+47AHQAOgAdgO49UlgWyKBbWmCKuyZyYAsFLAUA6CmIhnSC4m3ty/XXX0/V1bodwWM1UUlJifkTAN1fEAPQAegAdO++A0AHoAPQAejeIwUA3U0jALomcmALBQDoKY2BbQ3F9ofd1r4k4/4AdH/hDEAHoAPQvfsOAB2ADkAHoHuPFAB0ALomSmALBVpWABn0FERIMqDUr9vb2pdk3B+A7i8aAOgAdAC6d98BoAPQAegAdO+RAoAOQNdECWyhAAB9m8dAMqDU70Nta1+ScX8Aur9oAKAD0AHo3n0HgA5AB6AD0L1HCgA6AF0TJbCFAgD0bR4DyYBSvw+1rX1Jxv0B6P6iAYAOQAege/cdADoAHYAOQPceKQDoAHRNlMAWCgDQt3kMJANK/T6U1pdEburGPpeVlVFpaalf913LVS+YKa+vukJuG8yW22YF5bZNlqFVS+T2Be3ltgpLDaCHNLo1+ZDVubfck8ZGua2mTUKKevMK5T40WQYUfoQ0flRslPuh8aGuSl4vP19Ogdj+mxH3i23btasV22YFQmLbYI6irZtqra2R9+2cnAaxH9l5cts1q4rF9TaGAmJbNnwoR27+7KpPxMalXYaJbTWGNVm655uXUyeufvuQXIwtipjr1SD3+fQDV4r9ZcPatfJ4zsqVV135szzu1/8sHxPbF9bInWiyrKyUO73D4C2quqXGVYomySmStwffP1Qv9YLoie/6iI13kIc9dWuQO9GneJPYBzbMy5fXXV4u/y0pr80T+/HbNf8Q28IQCmSiAliDnoJW00JxMl3S+qK19/I90fXx/QDoXqq7/x2AbtMFgO4IEgC6JQcA3dICgG5pAUC3tACgO39jAeiWHukA6CNHjqRp06YZp7Kzs6lPnz70+9//niZMmEA///wz9evXj4LBIC1fvpx697aSC6tWrTK2DQ0NtHTpUurbt6/oZeupp56ic889N2LbvXt32n///en222+n3XffXVQHjKAAAD0FMZAMKPXrttYXrb2XX4muD4DupXjsvwPQAeixogOADkB3iw0AOgDdLS4A6AD0WL8l6QLoa9asoalTp1JdXR29//77dMEFF9A555xD1157rQF0BvGLL76YeNZo+GKgnjx5Mv3www9qQL/88stp4cKFFAqFaOXKlXTNNdfQkiVL6LvvvqPcXPkMEv9veCiZ6QoA0FPQgsmAUr9ua33R2nv5lej6AOheigPQRQohg+6QCYAOQAegtzxyIINu6QNAB6CnO6CXl5fTjBkzIm6OGjWKZs6cSR999JEB9L/85S/0/PPPG4AOX7/+9a/p1FNPpZtvvjkC6HPmzKHhw4fTv//9bwP3X3/9NQ0YMMDA/6677mqKcgZ97NixxPcMX6+88godd9xx9MUXX9Cee+4pei2BUdtWAICegvZPBpT6dVvri9bey69E1wdA91IcgC5SCIAOQI8RKJjibgmDDLqlBQAdgB7rtwVT3C1l0iWDHg3ol112GT3zzDM0b948A+hz586lESNG0PTp0+nggw+mDz74wEyDnzVrlpmeHp7iHgb0wYMH0x133EHdunWj0aNHm2nwH374oSug8705O//cc8/RN998Qwz+uKCAlwIAdC+FEvD3ZECpX7e0vmjtvfxKdH0AdC/FAegihQDoAHQAumdXAaAD0N2CBBl0pyoA9OQD+kE//J1qapybE+bl5RH/E33xGnQ7oIdh/LDDDjOQzYA+f/58s05948aNNGXKFDrvvPOoY8eOdPbZZ9M+++zjmkHn8ny9+uqrdMwxx1BVVRXl5+ebDDqvQS8sLDRT3CsrK40dZ9Bfeuklz3EWBlCAFQCgpyAOkgGlft3W+qK19/IrkbvCl5SUmNthkzgv1d3/jjXoNl0A6AB0ALrnQAJAB6AD0D27CXZxt0mUrAz6exf/xmzyZr/GjRtH48ePdwX0p59+2sBzfX29WYd+/PHH06OPPmrgOQzovIHcAQccQIsWLaL+/fub6e9s7wbofCIRZ8/5Yrjfd999zSZzO+ywgwF0ztB/9tlnpvy7775Ld911l1n73rNnT+8AggUUAKCnJgYSDbnxeK31RWsfj29+ywLQ/SkHQAegx4ocrEG3lMEUd0sLADoAHYDu/XuLDLqlUbIAXZtB543aeMO3nJwc6tWrl/lfvpYtWxYBdF5LPmjQIGrfvj1VVFSYae8LFixwBfQNGzaYDDtf0TZua9D5Y8Jbb71F7733nncAwQIKANBTEwPpBLlaX7T2qVHUeRcAuj/VAegAdAC6d98BoAPQ3aIEa9AtVTDF3RkhAPTkA7rmHPToKe721ooGdIb4Sy65xMA8ry1PFKBv2rTJ7BTP8H7iiSd6//DAos0rgCnuKQiBdIJcrS9a+xTI2ewWAHR/qgPQAegAdO++A0AHoAPQW+4nAHQAeqwISVYGPVmAzlPSeb06Z8d5ynuiAJ31ufLKK2n27Nn0+eefUyAQ8P7xgUWbVgCAnoLmTyfI1fqitU+BnAD0BIkMQAegA9C9OxMAHYAOQAege48UlgUy6JYWmQbo0e2cSEDn89R33nlnKi0tNce34YICLSkAQE9BfKQT5Gp90dqnQM5mt6j55h3xbUM1FWLbQNbWNUqiK5gtMgsbNf68XGwfyC8U21JWltw2t0BuW+fcLdWrYKB9Zy8T6++NjXJbjc4N9eJ6A4UdxLbGMKDQWVFzqGbrbq8Jv2qrdFUqNs0rOfwRcd3dGsSmlKcIi/ymnXI11+psefaio8LndopY/iJP7sP6gDyWWYeTq+XirQrkiqU7Y90cse3pPQeLbfOV/emomuY7Nce62aagXOefgro4kj7gFecogqip0lCVYrzNkj9faLN8HGhYVy19PMoqVvxWNtXauKVOXHfO7r3FthrD0PpNYvNAgTzeuNKQYhz44R9ynYs6y23ziuVjRn5f+Rhgfv7y5O87DRvkPjdsko9bXWa9K24/GEKBTFQAgJ6CVksnyNX6orVPgZzNbgFAt0kCQLfEAKBbWgDQHeMGAN2SA4BuaQFAtw2fAPSIGAB052sXAH1bvOninm1NAQB6Clo8nSBX64vWPgVyAtBbEhmADkB3iw8AOgA9xrgBQAegu4UGMuiWKgB0APq2eLfFPdu2AgD0FLR/OkGu1hetfQrkBKAD0GVhhgw6MugxIgUZdGTQ3UIDGXRk0N3iAoAOQJe9dMAKCiROAQB64rSMWVM6Qa7WF619CuQEoAPQZWEGQAegA9A9+woy6MigI4PecjcBoAPQPQdSGECBBCsAQE+woG7VpRPkan3R2qdATgA6AF0WZgB0ADoA3bOvANAB6AB0ALrnQGEzwBp0jVqwhQL+FACg+9NNVSqdIFfri9ZeIsz1119P1dXynaNNFwsAACAASURBVD1j1VlSUmL+hE3ibAphDbolBgAdgA5A9xySAegAdAA6AN1zoACgaySCLRSIWwEAetwSeleQDMj1vqu7hdYXrb3Er0TXCUAHoLvGHQAdgA5A9xySAegAdAA6AN1zoACgaySCLRSIWwEAetwSeleQaCD1vmNsC60vWnuJb4muE4AOQAege/Q87OLuEAibxFlyANAB6AB0ALrk3S1sgynuGrVgCwX8KQBA96ebqlSigVR18yhjrS9ae4lvia4TgA5AB6AD0CVjT9gGgA5Ad4sX7OJuqYJj1iwtsEmcs7cA0DW/NrCFAv4UAKD7001VKtFAqro5AN2hQKimQixfICtHbEvBbLltk2Xjz8vF9oH8QrEtYQ267Q2zXqxboLCD2NYYBrJ09kLrUE2l0FJphgy6QzAAOgAdgN7yGAJAB6DHihAAuvL3F+ZQwIcCAHQfommLpBOgazdoKysro9LSUu0jt2ifaD2QQbfJDUAHoLv1PgA6AD3GqIwp7pYwyKDbhs918o1cs4oVH7ObbtG4pU78TpGze2+xrcYwtH6T2BwZdKdUAHRx6MAQCvhWAIDuWzp5wUQDqfzO8Vsmw/dE11nz3QfyB62WZ9BVWXFtBr1sqdjnQEGR2FZlmFsgN1dsuMaVBtp3VtQtf1mj7Lyk1Bso7Civ1zxgsjLoivjUeKwE9ECefNZG6dAH/j97bwImR1Xu/7+9zJZ1shCSkIQQ9uUii3gBCSGKKNsF4QrcB68ESED4AfLIoqCQ5CKLoAxe1OT+DUuABJEtIksMEJYIQUSCgohAFhKTSSb7Nktm6f+citPVPVM99Z7q6sr0zKefZx4l8623zvnWW6frM++pc9QtGdDcotaWpyy00qyOa4QflOrzqLe+GdKnJaVuxztl+sAlElPHNcIv1elnj6y1mCn0u9I6dTt+Xf1HtfakoZ9Ta43wvGb9+LIxoQ+9Kq7PI71SZOq39HlhWptq2KFvtIUyVaeP27xeP5sn0V9/P5nmtmzVtyO59xB9Dy3+QN1iBeil+jYYZZP+3l4xp0Edu0+lXlteqR8DSofbzQCMlev1zRv0bW6p1d8ng557Te0bQhwoRgcA9AiuWthAGkGT06coRNvDjgmgB8wIAD1tHICenUMAuusHgO56AaC7XgDorhcAervvYAA9bUhXAPQJEybIzJkz5dJLL5Xp06dnXazLL79cpk2bJhdccIE8+OCDYqMN+OTFYTigcgBAV9mUnyhsIM2vNXZHF6LtYccE0O2uaVoNoAPoOVIHQAfQvVIDQAfQvfICQAfQcz2FdBVAnz9/vmzZskWqq6ulomLn7MH6+noZNmyY9OvXT8aPH58GdK024JMXh+GAygEAXWVTfqKwgTS/1tgd7dd223fazdnDfq8dQLe7pgB6R7+ooGd7AqAD6AB65+MqFXTXHwAdQO/qgL5p0yZZsmSJfO9735Pzzz/fae7s2bPljjvukDFjxkhlZWUa0LXagE9eHIYDKgcAdJVN+Yn8IDe/6IU92q/tfr/3al2QYzrrJYAeMAeooKeNA9AB9Fx3EVPcXWeooLteAOgAes5vXqa4p60pVAW9z1PzpKEh+/32srIyMT/tP2bauoHucePGyXPPPScvvfSSIznxxBPltNNOk1dffbUDoGu0AZ+8OAwHVA4A6Cqb8hOFDaT5tcbuaL+2+/1eA+hBqvAmblVVlRMeQLe7pmk1gA6g50gdKuiuMQA6gO51mwDoADqA7v/sUShAv/eo8TJ16tSsBkyePFmmTJmSE9BnzJghI0aMkI8++khisZgccMABsmLFCpk4cWIHQNdo/XuPAgeCOwCgB/dOfWQQiFUHL7DQr+1+v9cAepAYmXEB9IBJAKAD6AC6780DoAPoAHrntwlT3Nv5QwU9bUihAD1IBX3OnDly9tlny6GHHiqpVEo++OADeeKJJ+TMM8/sAOgare+XBwIcyMMBAD0P87SH5gug2vMUQufXdr/fA+jeV6WFbdZcY5rZZq3NjFQD26y1ecE2a+4twjZr2eMo26wF+7ZnmzXXN7ZZc73o7tustU1xN9BtprhfccUVTud/8YtfyCmnnJIT0P20we5CjsIBnQMAus6nvFRBIDavE4Z4sF/b/X4PoAPovukIoKctAtDdbAHQAfRcYweA7juqegoAdADdKzF6EqA3NzfLqFGjHBuWL18uiUQiJ6D7aYPdhRyFAzoHAHSdT3mpgkBsXicM8WC/tvv9HkAH0H3TEUAH0D2SBEAH0AF039HTSgCgA+g9HdBN/812a+Zjtlczn1xT3P20VjcfYhywdABAtzQsiDwIxAY5TyGO8Wu73+8BdADdNy8BdAAdQO/0NmGKe7Y9VNB9R1VPAYAOoAPoHR3oDNDbqzO1we5CjsIBnQMAus6nvFRBIDavE4Z4sF/b/X7v1ZT2q7bnuy96wydv6nts845vslQfN57Qa1uVqTVL9fpeffVaC6XNSt2ppuztTPxOE+s72E+S8aTUotbGEkm1NtXcpNbGevdXa40wFour9amUvn+yo04d10aY2lFvI5dYabla/9tjdu6moPn0b9GvfV0e02vL4nqtaecSqdA019FUtKTU2l4W1/r9Mn0uqxvwL+GBDfrcX5fUt+P1En0erWqpVTd73uq/qLVGeM/u49X6dXH99VsT06+HUSv6nPvlt0rU7TXCVJ3FeBuPqWOnturHl+b1+msdr7T4rmxtbcuWHeo2J0cPVGtjcf243LJ+qzqulNtdP7EYM5Y+o79+/Sr116SiUp/LZbvr22BMi5XrfW7epB+LmvVDhuz24mv664cSB4rQAQA9gosWBGIjaJbqFH5t9/u95iT5xgDQNS531ADoricAenZ+AOiuHwC66wWA7noBoLteAOjtvl8B9LQhAHqw5zOOwgEAPYIcyBdAI2hizlP4td3v95q25xsDQNe4DKB35hKADqDnyg8AHUD3yg0AHUDP+Z0CoAPowR7LOAoH0g4A6BEkQ74AGkETAXQvB5jinnaFKe7tAJYp7mlDmOLu5gZT3F0vmOLuesEU9+zxkynurh9McXe9YIr7rnza59xdzQEAPYIrAqB3bnK+/lBBD5bETHF3faOCTgWdCrr/OMIUd9cjKuhU0Kmg+48ZTHH39wgFDng5AKBHkBf5AmgETaSCTgW90zSjgk4FPVeCUEGngu6VG1TQqaDnGjOooFNB98oNKui78mmfc3c1BwD0CK4IgN65ye1XdddekqqqnatHU0HXOtYOMst6qw8E0AF0AN3/dmGKu+sRgA6gA+j+YwZT3F2PAHT/fEHRcxwA0CO41gB6YU0G0IP5yxR31zemuLf7AwTbrKUNYZE4NzeY4u56wRR31wtWcW/3HcwicWlDmOIe7PmMo3AAQI8gBwD0wpoMoAfzF0AH0HNlDtusuc4A6AC6130CoAPoOb95AXQAPdhjGUfhQNoBAD2CZChmQPebfl5TUyOzZs2KwMXcpwDQg9kPoAPoALr/vQOgA+gAeuf3CRV0Kui5MoQKuv93DAoc8HIAQI8gL4oZ0P3s6Qp9A9D9rpL37wF0AB1A9793AHQAHUAH0P1HigwFFfS0GQC6VeYgxoG0AwB6BMnQFSC2UN3sCn1r+Psr6u6lGrartbF4iVor8bhe26psWb1Yrbd6P7qlRR1X+gzQa3fU6bWtyljlML0+ZdHmRFIft7lJrY1V9FVrHaHFPug2gVN1W/Vym5yzvH5SWqFux5Kv/Y9aW96rUa2NJ1JqbaLEIodao27fXKaOnUzqY5eU63NuTXU/dRtaUjG11ggfL9X3b4fo+ze2QX//1cX1bd5iN3zK1Wv0Y/45w76g9m5grFSt7SX6Rt/0tY3quEbYvLFBr0/qfW6saVbH3bpan0O9BuxQxzXC+i3679bK/fX3lE0j6qv140tJX73WtKHFwo55fxupbvZuFt9pA0vq1XEr+9l9v5eU6/Oodqv+nqqr1+fFESt+q+4fQhwoRgcA9AiuWleA2EJ1syv0DUDPuLoAumuGxcMMgN5uhADQ04YA6G5uAOiuFwB6hhcAetYACqC7dnQFQJ8wYYLMnDlTLr30Upk+fXrWtbr88stl2rRpcsEFF8iDDz4obVojSiQSMnz4cDn11FPltttukwEDLIoahXroJm6PcQBAj+BSdwWILVQ3u0LfAHQA3TO/AXTXFiroWSlCBT0jNaigp82ggu7mBRV01wsq6NnfsMVWQTfQPX/+fNmyZYtUV1dLRcXOGWL19fUybNgw6devn4wfPz4N6GvWrJEHHnhAmpqa5MMPP5SLLrpIxo4dK48++mihHqWJiwMdHADQI0iKrgCxhepmV+gbgA6gA+g+dziADqDnSBGmuLvGAOgAutdtAqAXP6Bv2rRJlixZIt/73vfk/PPPdzo0e/ZsueOOO2TMmDFSWVmZBnSjnTNnTrrT11xzjfO79evXF+pRmrg4AKDvihzoChBbqH53hb4B6AA6gA6g24xxVNBdtwB0AN3r3qGC7roCoHcPQB83bpw899xz8tJLLzkdOvHEE+W0006TV199NSegG6g//fTTHThfvXq1zdcMWhzIywEq6HnZpzu4K0CsrqX2qq7QNwAdQAfQAXSb0QtAB9C98oUKuusKgA6g5xpTu8IU94M//Y00NGQvplhWVibmp/3HTHE3VfEZM2bIiBEj5KOPPpJYLCYHHHCArFixQiZOnJgF6I888oiUl5dLc3OzMw3efO6++24xz7t8cCAqBwD0CJzuChBbqG769c1vH/V82lVVVeUcDqAD6AA6gG4zlgDoADqA3vkdA6AD6F0Z0J+5+HCZOnVqVhMnT54sU6ZMyQnoZtr62WefLYceeqikUin54IMP5IknnpAzzzwzC9BXrlzpLBxXW1vrQP3HH38szz77rCST+l0sbL6P0OKAlwMAegR54QexETShYKfw65vf78NoGIAOoAPoALrNWAKgA+gAOoCuHTOY4p7tVLFW0A2gmynuV1xxhdOhX/ziF3LKKad0APT276CbBeSOO+44ueWWW7Qpgw4H8nYAQM/bQv8AUUCqfysKo/Drm9/vw2gVgA6gA+gAus1YAqAD6AA6gK4dMwD0rgfoNvugt01xN4Bupq2PGjXK6dDy5cudrdTaV9DbA7p5R/3kk0+WxYsXO9uu8cGBKBwA0CNwOQpIjaAbnqfw65vf78NoN4AOoAPoALrNWAKgA+gAOoCuHTMA9O4D6KYnZrs18zHbq5mPH6Abzec//3k5+uij5ec//7k2bdDhQF4OAOh52ac7OApI1bUkfJVf3/x+H0aLAHQAHUAH0G3GEgAdQAfQAXTtmAGgdy9Ab3/dNYButmS78MIL5dNPP5WRI0dqUwcdDgR2AEAPbJ3+wCggVd+acJV+ffP7fRitaVj8lj5M/Xa9NmGxIEg8oY/bqmxZ/alaH+tdqdbaCGO9+qvlKct9tOP9h6hjS0uLXmtzTZqb1HFjFX3VWkdo046Uvn+puq36diRK1Frb6xcrrVDH/tsXb1ZrK8ob1dpkslmvLdV7bIJu2qjvXzKhj11u0b/l6/X3X1xSai+M8KPSjisZ5wqwJa4PPUh/SWSbRdyNMbv+fSy16kb/pvpttfa/hv27WmuzPd1958TUcY2wZYu+f2Y1au2neXP2qtedHddQrb8mJQP0WnPOpp0FTNWnbITF97Aq4k5R0zr990O8l95jEzvVpPfjr2/qvyv7le5Q97B//52rj2s+vSr1cU28RJl+TGzYor9+O+r02r0/+L2ma2hwoGgdANAjuHRRQGoE3fA8hV/f/H4fRrsB9GAuAuiubwB6dg4B6K4fALrrBYDuegGgu14A6NnjJ4Du+gGgB3s+4ygcANAjyIEoIDWCbgDonZlMBT3LHSroGXZQQU+bQQXdzQsq6K4XVNCzv1yooLt+UEF3vaCC7npBBX1XPfVz3qgcANAjcBpA37lfeaE+VNCDOUsF3fWNCnp2DlFBd/2ggu56QQXd9YIKuusFFfTs8ZMKuusHFfRgz2cchQMAegQ5AKAD6O3TjHfQMxzhHfS0GbyDngHGvIOeNoN30LNHUN5Bz/jjIu+gB3qK4x101zbeQQ+UQhyEAwV1AEAvqL07g3dnQL/hhhukvj73YiQ1NTUya9asgrpMBT2YvVTQqaDnyhwq6FTQvXKDCjoVdK+8oIJOBT3XdwkV9GDPZxyFAwB6BDnQnQHdzz6vvvtBvV/Mtt9XVe2szAPoWseydQA6gA6g+987THF3PQLQAXQA3X/MYIq76xGA7p8vKHDAywEAPYK8ANCzp7iH7QeAHiyJAXQAHUD3v3cAdADdK0t4B911hQp6doYA6AC6/zcLChzo3AEAPYIMCRtII2hyaKfw6nvYfgDowS4XgA6gA+j+9w6ADqAD6J3fJwA6gJ4rQ6ig+3/HoMABKui7KAfCBtJd1I1ApwXQvW1jkbgMX1gkLm0Gi8S5eZFkkbi0GSwSlz2Oskhcxh8XWSQu0LMJi8S5trFIXKAU4iAcKKgDVNALau/O4AA6U9zbpxmADqB7DT0AOoDulRcAOoCe61ElBqAHeooD0AH0QInDQTgQkQMAegRGA+gAOoDeyY1GBZ0Kukd6UEF3TQHQAXQAPdyHNQAdQA83o4iGA+E6AKCH66dnNAC9wID+91fUVzHVsF2tjSXL1FqJxfXaVmXL6sVqfaxXX7XWStirv15u4ZsJGqscpo/d0qzXJkr02uZGtTZWYemxTTtSLep2pOr1+Slxi5zbUadugyMsrVDr3zj2brW2X8kOtTYRT6m1JRbT4U3Qmu291LHL4/r8rChpUsf9tLGPWqvPoJ0h1yZj6tg1CQuf9VLZFtO3eovoPTYdS4i+f5tT+nHg0eo/qn07Z9gX1Nr/+7o+L0zQ1NbcW5d2OGlc70XLFr0XDWv0F7ukv15r2t+4RW2dVOxXrhbbzCZoWqv3ON4roW6Dc/2a9Ln/5/lD1LEHlunb3LePXttncIO6Dc79V6a/3g1b9N7tqE2q2zHm/XlqLUIcKEYHAPQIrhqADqC3TzMAPcMRAD1tBoDu5gWA7nqhf9zfeQyA7noHoGfkEYCeNgNAd/OiOwP66aefLnV1dfLSSy91eNpfuHChHHvssWI0v/vd7zqlgaVLl8ro0aPlzTfflLFjx8pXvvIVmTt3ri9BnHDCCXLYYYfJPffc42jNf7/22msdjmtsbJRkUv8HCt8TIyh6BwD0CC5hTwZ0rz3Pa2pqZNasWaE530AFPZiXVNDTvlFBb5dCVNDThlBBd3OjRF84o4KecUtRQc8eX6igu35QQXe9KEQFfc6cOXLWWWeJAew999wzKxEnTZok77zzjixYsEC2bduW/t1RRx0ll1xyiZjft3122203SSQSMnHiROnTp4/MmDFDPvzwQxk1alSnz19egL7ffvvJ//zP/2QdN3To0GDPcRzVbR0A0CO4tD0Z0L3sDdsPAD1gEgPoAHqu1AHQAXSP3ADQXVOY4p7xhxumuGfdLUxxd+3Y1VPcm5qaZMSIEXLZZZfJ5MmT0w2rra0VA8W33XabXHHFFVnXz1TKr776aucn87N9+3YZNmyY/OlPf3JiHXTQQXLzzTdbA3pmRT3g0xuH9QAHAPQILnLYQBpBkwt6irD9ANADXi4AHUAH0H1vHiroGSBGBT1tBoAOoOcaPAD0wgP6Hu/8Thoast+dLysrE/PT/nP99dfL448/LkuWLJG2dQpmzpwpl156qVRXV8uAAQNUgH7//ffLtGnTHEB/9tln5corr8yK6ZUPXhV0AN33axdBqwMAegRpEDaQRtDkgp6izQ+v6e82J66q2vluO4Bu41qGFkAH0AF035sHQAfQvZIEQAfQAXTf4VMKVUF/6OxjZerUqVkNMFXtKVOmdGjURx99JAceeKDMnz9fxo8f7/x+3Lhxsscee8js2bM76HNV0L/4xS/KOeecI9/5znfEVOZNNf3RRx+VE088MacRXoBu3mMvLS1NH2P+UPDTn/7U30wUPcoBAD2Cyw2gZ5vc5kdYvgDoAZMYQAfQAXTfmwdAB9AB9M5vE1Zxz/aHCrrrR6EA3aaCblpj4HrMmDHy8MMPy+LFi2XfffeVefPmecK1F6D/4x//kEMOOUT++c9/yu677+500EyN37BhgyfktzngBeh77bWX/OAHP0ibVFlZKYMHD/b9LkLQsxwA0CO43mGBaARNjeQUADrbrGUlGqu4p+1gFXc3M1jF3fWCVdyzv5rYZi3DD7ZZc//QGtNvOccq7m4OdedV3Nt6aaanG6BevXq13Hnnnc5CxZlT3jNHGC9AN9Pk77rrLmehuLZPKpWSkpISz2nynQE6U9wjQY2iP0lBAT3fKcxF7+6/OhD2quXF7guADqAD6N53MYAOoHtlBoAOoOf83gfQAXSP5GAf9GxTzCrtZkq6gexbb73VWaE91wJv7QG9baE5A+knnXRSVuCzzz7beRe9/UJzAHqxk8qub39BAX3Xd69rtIAKevZ1ANABdAAdQPcbnamguw4B6AA6gO43YrQuqkQFPW0SgN4xX8wWaU899ZRs3rzZ2XYt1xZp7QHdbNV27rnniim29e/fPyuwmar+/PPPy6JFizwTlEXi/O9bFN4OAOgRZAaADqC3T7OW1YvVmRfr1VettRLyDrpbeamw9DhRorc6pccrKuiurQA6gJ7rJmOKe4YzVNDdcRxAB9A7+WZeuHChHHvssU4V/Pe//31OZXtAP/3006WlpUWee+65Dse8++67cuSRR8qf//xnOeKIIzr8HkDXPyqhzHYAQI8gIwD0bJPbXn0Ia+p/w+K39Fexfrtem0jqtXH3vSTNQak1SzWynZoCAXqsXA+lqcY6fXtblfHKoWp9qrlJrY1ZXBObuHGbP1aY1sbj6ja3frOrtakGi/yM6duQ2lGvboMRxkrL1fo/fOEOtbZ3Qn+ty0r02mRC77Fp7LrtFeo2l8b1scuT+jZ/0tRH3Qb9ld4ZUt9ikY1J/Xu7a+P6fdY2x/StWCs71F4Y4e7iroDsd+BnKf3YZQP+v6l+2+/U6d9vvu5Ytda5ftv192vMBtC36uM2rs7ewqqzDiQrLb4rWwM1b9PfJyUj9d9TNiY3r69Vy+O97Ppns0jcJy/qx4E+vfT3Sd9B+mtdVtms9sL5+tN/PUjjJn3opnr9c9QeC+frA6PEgSJ0AECP4KIB6N4mh+ULgB4siQF01zcAPTuHAHTXDwDd9QJAd70A0F0vAPTs8RNAd/0A0IM9n3EUDgDoEeRAWCAaQVMjPUVYvgDowS4bgA6g58ocAB1A98oNAB1A98oLAB1Az/VdAqAHez7jKBwA0CPIgbBANIKmRnqKsHwB0INdNgAdQAfQ/e8dKuhU0L2yhAo6FfRcowcVdCro/t8sKHCgcwcA9AgyJCwQjaCpkZ4iLF8A9GCXDUAH0AF0/3sHQAfQAfTO7xMq6FTQqaD7f5egwAEbBwB0G7cCasMC0YCn77KHtS0WF7SBVVVVzqEAejAHAXQAHUD3v3cAdAAdQAfQ/UcKV0EF3fWCKe42mYMWB1wHAPQIsgFAL6zJAHowfwF0AB1A9793AHQAHUAH0P1HCgDdyyMA3SZz0OIAgB5pDgDohbUbQA/mL4AOoAPo/vcOgA6gA+gAuv9IAaAD6DZZghYHOneACnoEGQKgF9ZkAD2YvwA6gA6g+987ADqADqAD6P4jBYAOoNtkCVocANB3eQ4A6IW9BAB6MH8BdAAdQPe/dwB0AB1AB9D9RwoAHUC3yRK0OACg7/IcANALewkA9GD+AugAOoDuf+8A6AA6gA6g+48UADqAbpMlaHEAQN/lOQCgF/YSbP/RN9UnaFm3Wa2NVZTqtWV6rQm67bVV6thlQ+NqbaoppdaWHjxMrbXxzQRNHn6QOraUlOi1KX3/JBYrTFwTtbRMH7ulRa1Nra1Ra6VXL712sz7vnaB9+6pjpzZuUmuthM3NenlMf4+YoLF+ffSxy/TXOhbX51xqy1Z9G2y8aI1a/+Zidex4qd67kv13V8ctpLClRp9zsb4V6qakGpvU2njvcrW2/11vqrVG+K3hx6j1G1sa1NrPx/qptV+o13tRnbQYw1tb0KtFP46ffEVC3WZJWYy1m/T3X6yXPodMY1ONjeo2b3ltg1qbKNX7VrtRf00GHKS/1qax8T762I2r9fnZtE1thez+ymt6MUocKEIHeAc9gosGoBfWZADd9RdAz8g1AN01A0DPGoQAdNcOAD1j/ATQ02YA6G5eAOjZz3DFBugTJkyQmTNnOp1IJpMycuRIOeuss2Tq1KnSu3dv1QPqihUrZMqUKfLCCy/IunXrZNiwYXLmmWfKzTffLIMGDVLFQIQDNg4A6DZuBdQC6AGNUx4GoAPonqkCoAPoOcYQAB1A90oNKuiuKwA6gJ7rEawYAX3NmjXywAMPSGPr7IYFCxbIxIkT5YILLpBp06b5PmkuWbJEjjnmGNlvv/3kRz/6key1117yt7/9Ta677jrZsWOHvPXWWzJw4EDfOAhwwMYBAN3GrYBaAD2gccrDAHQAHUD3uVmooGcZBKAD6AB652MGgA6gdydA37Rpk8yZMyfdpUmTJsmzzz4rl156qfPv11xzjdx0002yceNGOfnkk+VXv/pV65teO1/1Mv/9wQcfyMcffywVFe7rDqtXr5a9995bvvWtb6lAX/lIiwwHHAcA9AgSAUAvrMkAOoAOoAPoNqMMgA6gA+gAunbMYIp7tlPFWEFvD+hXXXWVzJ49W6644gr56U9/KieddJIz5d0A+jnnnCMXXXSR3HrrrbJhwwYZPHiw8/9vuOGGDilzySWXyBNPPCHr169vXfZGvwaJNvfQ9VwHAPQIrj2AXliTAXQAHUAH0G1GGQAdQAfQAXTtmAGgdz1Ar5w7TxoashegK2td0NP8tP+Yd9AzAf3tt9+WU045Rb785S/LgQceKHfddZeYanhbxfz666+X0wUAuQAAIABJREFU119/3Zm6/sc//lGOPvpoefrpp513ztt/qqqq5Lvf/a6YKfRDhgzRphQ6HPB1AED3tSh/AYCe7aH5K2R9fX3expqB0XwAdAAdQAfQbQYUAB1AB9ABdO2YAaB3PUCfNm68U/HO/EyePNlZyM0L0B955BEpLy+XpqYm5z30M844Q6ZPny6//OUv5fHHH3feKW/7mGfLe++9V8y7536AfvfddzvT42tqamS33XbTphQ6HPB1AED3tSh/AYCe7WHYfgDoADqADqDbjNQAOoAOoAPo2jEDQO96gG5bQV+5cqXznnhJ67auw4cPd/7XfAzQm3fQ33vvvXQn77nnHjE/y5Ytc6auG/A2i8PdeOONHVKGKe7auwidrQMAuq1jAfRhA2mAJnSpQ8L2A0AH0AF0AN1mkAPQAXQAHUDXjhkAetcDdJt90NtPcc/sjR+gG+1Xv/pVp8L+ySefsEic9qZBl7cDAHreFvoHCBtI/c/YtRVh+wGgA+gAOoBuM+oB6AA6gA6ga8cMAL1nA7oB82OPPdZ5X739NmvmPXi2WdPeSehsHADQbdwKqA0bSAM2o8scFrYfADqADqAD6DYDHIAOoAPoALp2zADQezagm95/9tlnznT4uXPnOtPehw4d6iwaZ957HzRokDaV0OGA2gEAXW1VcGHYQBq8JV3jyLD9qL33cnXHUus3qrWxinK1VkqSem2rsnHRErU+PqiXWitNzWptYp+Ram1qw2a11gjjhxyk1yftvFMHjsXVUmlu0muNstQiN2wir12tV5e7+7H6HZTausVPkvX7WC99zrUsWWYVWy1uSamltsJY5c79bVWff72rGLY2tXGTKqQjarTLz60vrVTHjpfofe51xEB1XIlbbDlkea2bluu9i1eW6tvc1KLWxvrqx4DvzOm4snRnJ3po1UJ1O04derha2zu2871bzefLzb01MkezNKn3zegrW/Rj87f/q1bdDrHIo5YN29Rx4/31Y60JmqrdoY5d/ZpaKomE/l7dskWfnyMP1N9PprWJfvp7u26lXlu/VZ+fY96fpzcOJQ4UoQMAegQXLWwgjaDJBT1F2H4A6BmXC0B3zQDQ014A6NlDGoDu+gGgZ46fetAE0F3fAPTs8QVAd/0A0Av6OE3wbuwAgB7BxQ0bSCNockFPEbYfADqA7pmwADqAnmMkA9ABdM/UoIKetoUKesY9QgU963ahgl7QR2SC44DjAIAeQSKEDaQRNNnzFGHtX272i5w1a1Zo3QDQAXQAvfPbiQp6tj8AOoAOoHc+ZgDoAHquDAHQQ3t8JRAO5HQAQI8gOboLoIfVj7DitF06AB1AB9ABdJuhHEAH0AF0AF07ZvAOerZTALo2c9DhQHAHAPTg3qmPDBtI1ScOWRhWP8KKA6B7XGDeQXdNYYp72gsq6Nn3CoAOoAPoALr2EQlAB9C1uYIOB8JyAEAPy8lO4oQNpBE02fMUYfUjM04+0+arqqqcdlJBz7hcADqA7nH3AugAeq7vDRaJyxw/WSSuzQ2muGf8EYt30LOGDyrou+opnPP2JAcA9AiudlhgG0FTOz1FWP3IjBNGTAAdQPdMXCroaVsAdAAdQFd8g7JIXNokAB1Az3XHAOiKsQQJDuTpAICep4Gaw8OAUM15Cq0Jqx8AOvugZ+Uq+6C7drAPuuuFxZ7GtmMfU9wz4IN90F0zAHQA3WMwYYp7tikAuu03DnocsHcAQLf3zPqIsMDW+sQhHxBWPwB0AB1Az3FzAugAuldqNDZZjeZbX1qp1jPFPcMqAB1AB9B9xw4A3dciBDiQtwMAet4W+gcIC2z9z1RYRVj9ANABdAAdQPcdraiguxYB6Fnp0rR8k2/6tAnilaVqrQDoADqA7nu/AOi+FiHAgbwdANDzttA/QFhg63+mwirC6kfmwnBh7Ile+5OJ6o63rN+o1sYqytVaKUnqta3KhreWqfXJIWVqbcriATO53x76uBu2qLVGmPjcQXp9icUDdIt+ESeJx/VtsIlropbpr4lYxE6tWa1uc6xXL7U2tcXu+sX69FHHbllZrdZaCS0WPJR4zCp0rLKfXl9SotcmEnrtZv01STU26uO2KmtfW6HWxyyGrvJDB6njFlLY9E89oCf66seXVLN+fIn31X8//PcTKSs7WkSvf271InXsq4aPVWuPr9ePn/8s0WtNA/robZZvXGwxe6S5Wd2/lo3b1NpY3wq11ghTDfr7dd0r9erYyVK9cds367+jhhy4Xd0G5/u9n37QaFilv36Ntfrxc4+F863ajBgHis0BAD2CKxYW2EbQ1E5PUYh+hBETQHcvG4CekcIAetoMAD17aAPQXT8A9IzxE0BPmwGgZ9wjAHrWAAqg7+qncc7fExwA0CO4ymFAaATN9D1FIfoRRkwAHUD3TF4AHUDPMaoB6AC6V2pQQXddAdAB9FwPhcUI6Ga25k033SQvvPCCrFmzRgYMGCCf+9znZMqUKXLMMcc4XV20aJHcdttt8vrrr8vmzZtl1KhRMm7cOLnuuutkv/32831GRoADYToAoIfpZo5YYUBoBM30PUUh+hFGTAAdQAfQO799qaBn+wOgA+gAeudjBoAOoHcnQB87dqw0tr4qdPvtt8uYMWMcSH/55Zfl0EMPlVNPPVWeffZZOfvss+WrX/2qXHXVVbL33nuLgfrHH39cVqxYIY899pjvMzICHAjTAQA9TDcBdGs3AXR/y3gHPcMji/e5eQc94w83vIOedaMB6AA6gA6g+3/77lTwDnq2U8VWQd+0aZNTMX/11Vedinj7T21trey5555y3HHHydNPP93h9+b4yspKbbqgw4FQHADQQ7Gx8yBhQGgEzfQ9RSH6EUZMKugZIMYica4ZTHFPe0EFPXt4A9ABdAAdQPd96PmXAEDveoA++NUXpKGhIathZa2Lt5qf9p+mpiYH0CdOnCh33HFHB42B8rPOOkvefPPN9HR3bW6gw4FCOQCgF8rZjLhhQGgEzfQ9RSH6kbmiu28D2gmqqqqcfwHQAXTP3AHQAfQcgwqADqAD6AC69pkDQO96gP6rrx4vU6dOzWrY5MmTnXfKvT5PPvmkTJo0Serq6uSII45wKunnnXeeM8X9zjvvlO9973uyYcMGB+T54EBXcABAj+AqFAJsI2h2h1N01X4A6AA6gN75iEAFPdsfAB1AB9ABdO1zFIDe9QDdpoLe1vr6+npZsGCBLFy4UObOnStvv/22zJgxw3kf/fvf/z6Arr0h0EXiAIAegc1dFWxtu95V+wGgA+gAOoBuM54B6AA6gA6ga8cMAL3rAXoY+6CbKe8vvvii3HPPPUxx194M6CJzAECPwOquCra2Xe+q/QDQAXQAHUC3Gc8AdAAdQAfQtWMGgN49Af3uu+92tlX77LPPZPTo0SwSp70h0EXiAIAegc1hgG0+72qH1UWz5cSsWbPCChdaHAAdQAfQAXSbAQVAB9ABdABdO2YA6MUN6OvXr5dvfOMbctFFFznvnPft21feeecdufLKK50t1u677z757W9/62i+9rWvOdus7bPPPrJu3Tr5zW9+I8uXL5df//rX2nRBhwOhOACgh2Jj50HCAPQwYuTb1a7QBq8+AOgAOoAOoNuMbwA6gA6gA+jaMQNAL25AN6u9m8Xj5s2bJ4sXL3b2Qx85cqQD5DfeeKNUVFQ4HTTQbvZJN++pb2ndmtRovvSlL8l1113nADsfHIjSAQA9ArfDANswYuTb1a7QBq8+1M34rrprqU1b1FopK9VrS0r02lZl84eL1fp4ZR+1VlItam1sj2FqrWy28K01auyAA/WxE0m9NhbXa22UFr45YUsscsOmHWur9erynQ8Vqs9Wu+snvfU51/zn91RNcETxmF5rsWWgVVyTn5V91e2I2dzbJfpcTm3crG6DNDbpta3KNc/oYyfLmtWxB3zBIu+TCXVcadK3wQSt/6RWHbtksMWYoR8+Jd5PP+bfO283dXuN8G+i79/QWMdtpXKd7H9XLVC348bhJ6i1n6S2q7VGOCCmz6Mfn7ZNHTvVqM+jppp6ddzkQH17TdCWen07Pnm1v7odibg+QdfvKFfHPXD0WrXWCEv76Pu3pVrfjm3b9bl82GfPWLUZMQ4UmwMAegRXLAywDSNGvl3tCm3w6gOAnuGKBWgC6MF8c44C0NPmAegZeQSgu2YA6GkvAPTsb24A3fUDQHe9ANDzfUrn+O7kAIAewdUMA2zDiJFvV7tCGwB0n6sIoAdLcwvfAPRsiwF0AN3zpgPQAfQcozGADqB7pQaAHuzxhaO6pwMAegTXNQywDSNGvl3tCm0A0AH0fPPY83gAPdsWprin/WCKu5saTHF3vWCKewZkMsU9a/xkirtrB1PcC/LEQtAe4ACAHsFFDgNsw4iRb1e7QhsAdAA93zwG0BUOAugAukeaAOgAutfowTvo2a4A6AC64lsWCQ506gCAHkGChAG2YcTIt6u2bSj01nBVVVVOl3gHPePKWlSCeQc9mG/OUbyDnjaPKe4ZecQ76K4ZTHFPe8E76NlPH0xxd/3gHXTXC6a45/uUzvHdyQEAPYKraQu2Xk0KI0a+XbVtg60+aPsA9GCgCaAH8w1Az75TAXQA3XPsBtAB9Bxf6gA6gO6VGgB60KdgjuuODgDoEVzVMEA1jBj5dtW2Dbb6oO0D0IOBJoAezDcAHUDPOVZRQXetAdABdADd97GGCrprEYDumy4IepADAHoEFzsMUA0jRr5dtW2DrT5o+wD0YKAJoAfzDUAH0AF0xWgNoAPoALrvjQKgA+i+SYKgRzoAoEdw2cMA1TBi5NtV2zbY6oO2D0APBpoAejDfAHQAHUBXjNYAOoAOoPveKAA6gO6bJAh6pAMAegSXPQxQDSNGvl21bYOtPmj7APRgoAmgB/MNQAfQAXTFaA2gA+gAuu+NAqAD6L5JgqBHOgCgR3DZwwDVMGLk21XbNtjqg7av7qnb9Idu26rXJpJ6bUmJXtuqTC1frtf366vXtrSotbEhu6u1YuObiTpqX33seFytjcUSaq2NMJVqtpFLrKTMSq8Vpzas0UpFynvptdu36LVGaRG76Zln9bFtoE0fVWLxmIW6VVqmv1+t9kEv1Y8ZqQ36a5La0WTVv0VP9Fbr+5U1qLWjj7YYP5MW16QppW6DEW74UH/9eg/aYRVbK0721bf53beHasM6uuUW3yeDmvRj/rvl+mty26pX1W3+7+FHq7VGWGsx3k47YqM6dsriNtlerb9Xy/tbBG5tbXOD/jtt7tI91P2zEa5I6vPzpMY6m9DSv3e9Wr9iSz+1dq3FM9f5qx5Rx7URnnDCCXLYYYfJPffcY3MYWhwI3QEAPXRLOwYMA1TDiJFvV23bYKsP2j4APcM5AD1QGgHo7WwD0NOGAOhubgDorhcAuusFgJ49fgLorh9dAdAnTJggM2fOlEsvvVSmT5+edbEuv/xymTZtmlxwwQXy4IMPyoYNG6Sk9Q9k69evl7322qvT54nJkyfLlClTAj1zcBAO+DkAoPs5FMLvwwDVMGLk2xXbNtjqg7YPQAfQg+ZO23EAOoCeK4cAdADdKzcAdAA915gBoHc9QJ8/f75s2bJFqqurpaKiwmlgfX29DBs2TPr16yfjx493AL3t09zcLGvXrk3/909+8hOZO3euvPTSS+l/69Onj5gfPjhQCAcA9EK42i5mGKAaRox8u2rbBlt90PYB6AB60NwB0HM4RwU9bQyADqAD6J2PsFTQs/0B0LseoG/atEmWLFki3/ve9+T88893Gjh79my54447ZMyYMVJZWekAeq4p7qZSPmfOHHnvvfc63AzPPPOMXHPNNfLPf/5Tjj76aDEVe/OzceNGJy4fHAjiAIAexDXLY8IA1TBiWDa7g/yGG25w/uKo/dTU1MisWbO08sA6AB1AD5w8/zqQCno7BwF0AN3jpmKKu2sKFXTXCwAdQM/1HVyoKe7/ufQ+aWjIXj+jrKxMzE/7j4FlA+jjxo2T5557Ll0FP/HEE+W0006TV199NTCgL1u2TPbbbz/5zne+IxMnTpRFixbJtddeKytXrgTQ830w6+HHA+gRJEAYcB1GjAi6mnUKrzbbQn5nba6qqnJ+DaAD6PnmNoAOoOfKISrorjMAOoDudZ8A6AB61ID+ySX7yNSpU7NOm+ud8DZAnzFjhowYMUI++ugjicVicsABB8iKFSscsA5aQf/+97/vQP/777+fbssPf/hDufXWWwH0fB/MevjxAHoECRAGXIcRI4Ku+gJ6IfoBoAPo+eY2gA6gA+j+dxGADqAD6P73CVPcXY+6UgXdTFE/++yz5dBDD5VUKiUffPCBPPHEE3LmmWcGBvSvf/3rMmDAALn//vvTnTZT3s844wwA3f9WQdGJAwB6BOkRBpSGESOCrgLoSpPZZi3DKLZZS5vBNmvKG6idjG3Wsg1hmzXXD7ZZc71gmzXXC7ZZc73o7tustVXQDaCbavcVV1zhdP4Xv/iFnHLKKXkBuoH7QYMGyX333Zc29Le//a0Tk3fQg32fc9ROBwD0CDIhDLgOI0YEXQXQlSYD6AC6V6oA6MobCEDv1CgAHUD3ShAAHUD3youeBOhmdfZRo0Y5NixfvlwSiURegG6muD///PPy17/+NW3tTTfdJD/60Y8A9GBf5xz1LwcA9AhSIQy4DiNGBF0F0JUmA+gAOoCuvFkUMiro2SYB6AA6gN75wEEF3fWnJwG66bXZbs18zPZq5pPPFPelS5fK/vvvL+YZ/eKLL3ZWeW9b0d0sTNe/f3/FNxgSHOjoAIAeQVaEAddhxIigqwC60mQAHUAH0JU3i0IGoAPoudKEKe6uM1TQXS8A9J4L6O3HinwA3cRq22bNLDh3zDHHyLnnniuXXXaZ1NXVSXl5ueIbDAkOAOi7JAfCgOswYkTdea82F6IfdbNuUncttWWTWmu1enNJqTquEbYsXqbWxyr7qrXSOn1L+4kNG6aVSmrrzr84az+xvQ/USkUs3kGXWFwf10bZ3GSjFikt0JfuhtX6dti0YftWfVyjrOit1jcveEOtlXhMr21J6bWWylh/ff9iZRb3dut0Se0ntXGzViqpHXb5uezxHerY5eWNau2QL+qvSazEwovmFnUbjLD279nbK3V2cOkgfZvFohmJfkl1m387Xz/WmqAfl+gbMrRZPya+Ed+mbnN5TH/9Hl71ljquEZ4+9Ai1/sEv16m10qS/1g2r9PdU6WC9x6axLfX667foraHq/sVE3781iRJ13CP7r1drjbBXP/34sm51H3XsLQ0dt0jLdfDxqx9Xx41aaFZwnz59urNCPB8cCOoAFfSgzlkcFwaUhhHDosmhSAH03DYC6BneAOiuGQC66wWAnvYCQM8eSwF01w8APSM3APS0GQB6KI+xqiC//OUv5aijjnIWi3vjjTfkyiuvdBaiM++h88GBoA4A6EGdszguDLgOI4ZFk0ORAugAuiqRAHQA3StRAHQAPccAAqAD6J6pAaAD6KqHjnBF5ln3sccekw0bNjgL0P33f/+33HDDDZJM6mfZhNsionUHBwD0CK5iGHAdRowIupp1CjNA1dfXZ/1bTU2NzJo1K9SmMMU9w06muAfLLaa4Z/vGFPe0H0xxd1ODKe6uF0xxd71ginv28MkUd9ePnjjFPdhDCEfhQLYDAHoEGREGXIcRI4Ku+p6iEP0A0AF038TzEwDoAHqOHAHQAXSv1ADQAfRcXysAOoDu98jB73HAzwEA3c+hEH4fBpSGESOEruQdohD9ANAB9LwTE0AH0AF039uICrprEYAOoAPovkOGUEH39wgFDng5AKBHkBdhQGkYMSLoqu8p2vfDaxq8b5B/Caqqqpz/B6AD6NqcyakD0AF0AN33NgLQAXSvJGGKe7YrVNBdPwB032EVAQ54OgCgR5AYYcB1GDEi6KrvKdr3I4x+AegAum/i+QkAdAAdQPe7SwRAB9ABdN/bhG3WMiwC0P3zBQUOeDkAoEeQF2FAaBgxIuiq7ykA9J0Wsc1aRqqwirtrBtusuV6winvaC7ZZy/5qYRV31w+2WcvIDVZxT5vBNmu+j6MIcKBLOwCgR3B5woDrMGJE0FXfUwDoAHqHJAHQAXSvkQNAB9BzfKMA6AC6Z2oA6AC671MoAhwoDgcA9AiuUxhwHUaMCLrqewoAHUAH0Du5TaigU0H3SA8q6FTQc40aVNCpoHvlBhV038dRBDjQpR0A0CO4PGHAdRgxIuiq7ynaLwoXxr7odY9O9j1vmyC1dYtaGyspUWvFRtsatWXJMnXsWP++aq3Y7IM+ZIg6bqq2Vq01wtjoffX6RFKvLZQy1WIXOVmq19vMEFi/Wh+3tFyv3a7PeydoeS917Ka5L6u1Eo/ptQWtoOv7Z7XNWjKh7l9qg/6a2AL6357S50av0kZ1m0cds02tjSXjam2qye7+2/R3/ZjRa9AOfTssmlFSqQ4r898aoRe3KpeV6O+Twc360G+X6L1Yn9Jrd6QsGtHa3N+tflfd6PX/dYBaKxbXr2FVkzpuyUD99TBBW+pT6tjz39HnRmlKH7fG4v4b22uDur1GWNFHnxtra/qoY29o1I9bJ635tTouQhwoRgcA9AiuWhhwHUaMCLpqfYow+gWgZ9gOoFvnoHMAgJ7tG4Ce9gNAd1MDQHe9ANBdLwD07OETQHf96CqAbopBN910k7zwwguyZs0aGTBggHzuc5+TKVOmyDHHHOP73LBs2TLZa6+9JJFIyGeffSZ77LFH+pjq6moZOXJka32kWZYuXSqjR4/2jYcAB/wcAND9HArh92FAaBgxQuhK6CHC6BeADqDnnZgAOoCeI4kAdADdKzUAdAA91/cOgN71AH3s2LHS2Ngot99+u4wZM8aB9JdfflkOPfRQOfXUU30fIdoA3YD4ZZddJmY2aNvnjjvukGnTpsny5csBdF8nEWgdANC1TuWhCwNCw4iRRxcKdmgY/QLQAfS8ExRAB9ABdN/biAq6axGADqAD6L5DhnSFCvqmTZucivmrr74q48aN69DoNvhetGiRHHbYYc7v24555ZVX5IQTTpA2zQ9/+EN57LHH5OOPP07HOeCAA+Scc86RW265BUD3TwkUSgcAdKVR+cjCgNAwYuTTh0IdG0a/AHQAPe/8BNABdADd9zYC0AF0ryRhinu2K1TQXT+6AqA3NTU5gD5x4kQx1e6ysrKsC2YD6G+//baccsop8vTTT8txxx0nf/jDH+Sss86S5557Tr7whS8A6L7fIgi0DgDoWqfy0IUBoWHEyKMLBTs0jH4B6AB63gkKoAPoALrvbQSgA+gAuu9twiJxGRYVCtDHLZ8pDQ0NWRfDgHd7+G4TPPnkkzJp0iSpq6uTI444wqmkn3feec4UdxtAN1X2mTNnyubNm+X++++Xiy66SCorK+Vb3/qWHH744QC6/+2BQukAgK40Kh9ZGBAaRox8+lCoY9uv6m5znqqqKkcOoAPoNnnjqQXQAXQA3fc2AtABdADd9zYB0CMA9DcvO0CmTp2adTEmT57sLPqW61NfXy8LFiyQhQsXyty5c8VUw2fMmOFMYTcLwGmmuBtNMpl0Fpb75JNPZN9993XimSo9gO5/b6DQOwCg670KrAwDrsOIEbgDXfxAAB1AzztFAXQAHUD3vY0AdAAdQPe9TQD0CADdtoLuddXMlPcXX3zRgfY999xT3n33XQeyzWft2rUypHUr2vbvoLdB/FFHHSV9+vSR7du3O6D/3nvvAej+twYKCwcAdAuzgkrDgOswYgRtf1c/DkAH0PPOUQAdQAfQfW8jAB1AB9B9bxMAPQJAD2Mf9Lvvvltuu+02WbFihfTq1ct5j9y8X24+BtxPOumknIBuVm2//PLLndXbv/3tbwPo/rcFCksHAHRLw4LIw4DrMGIEaXsxHAOgA+h55ymADqAD6L63EYAOoAPovrcJgN7FAH39+vXyjW98w3lf3Lxz3rdvX3nnnXfkyiuvdLZYu++++5wp6yUlJTJ9+nRZt26dXHfddU5lPFcF3UxpNyu9m/fPzZR3Kuj+9wUKOwcAdDu/AqnDgOswYgRqfBEcBKAD6HmnKYAOoAPovrcRgA6gA+i+twmA3sUA3SwmZ95NnzdvnixevNjZD93sZ26g/cYbb5SKigr5+9//7gD8X/7yF9l///3lzjvv7LSC3j4LAHT/+wKFnQMAup1fgdRhwHUYMQI1vggOAtAB9LzTFEAH0AF039sIQAfQAXTf2wRA72KA7n/FUOBA13MAQI/gmoQB12HEiKCru+QUO5a8rT5vakedWiuJEr02HtdrW5WpDSvV+lhZH7U2lWpWa2O9KtVaadiu17Yq44NG6PWJpF4bT+i1zY16bczu+olNO/StkFTdVr3axjebvDctSGbvE9tZo5qenaFuc6zd/rOdHmhzT8Vi6jY4QpvYNj4n9PmZWr/Wrs0W6tpn/qpWJ/vpc7/k3/ZQx5Um/ViUatihj9uqbFqyQa2Plev7FyvXj0WxMv33Q3z3ger2GmFqyza1PlZWqta2bNii1jau1I/5iUq9F04DWlLqdgx69CO19tShOxf40nz2jffVyBzNypTFc0OrvjymHwfuGL1e3Y5t6/TjciLZoo67sGaIWmuENUn9eHtIg/57eGBZvbodhy//rVqLEAeK0QEAPYKrFgZchxEjgq7uklMA6K7tAHpGCgLorhkAevbYBKCn/QDQ3dQA0F0vAHTXCwA9e/gE0HfJoy4n7WEOAOgRXPAw4DqMGBF0dZecAkAH0D0TD0AH0HONSAA6gO6RGwA6gO41ZADoAPouebjlpD3aAQA9gssfBlyHESOCru6SUwDoADqA7nPrUUGngp4jRaigU0H3Sg0q6FTQc32rUEHfJY+6nLSHOQCgR3DBw4DrMGJE0NVdcgoAHUAH0AF0q8GHCjoVdCrond4yADqADqBbfasgxoFQHQDQQ7XTO9gNN9wg9fX6xS+8otQFv7bIAAAgAElEQVTU1MisWbMiaO2uOUUQj6qqqpzGAugAOoAOoFuNXAA6gA6gA+jKQYMp7tlGUUFXJg4yHMjDAQA9D/OiPLS7V9Dz6R+ADqAD6AC61XgMoAPoADqArhw0AHQAXZkqyHAgNAcA9NCsLGygfAC2sC0LJ3o+/QPQAXQAHUC3GokAdAAdQAfQlYMGgA6gK1MFGQ6E5gCAHpqVhQ2UD8AWtmXhRM+nfwA6gA6gA+hWIxGADqAD6AC6ctAA0AF0Zaogw4HQHADQQ7OysIHyAdjCtiyc6Pn0D0AH0AF0AN1qJALQAXQAHUBXDhoAOoCuTBVkOBCaAwB6aFYWNlA+AFvYloUTPZ/+AegAOoAOoFuNRAA6gA6gA+jKQQNAB9CVqYIMB0JzAEAPzcrCBsoHYAvbMn30zlZqz2eVeitAb9iub3CiRK+NxfXaVmVqU7VaHyvro9amWhrV2ljvgWqtWO6jHR88Qh/bxrt4Qh+3pVmvtVXatMMidmr7JrU6Vlqh1qZs8t5ETZapYzc9f79aGyuxuKdsIDoWU7fBEdrETiT1sRP6/EytX6uPa6msfeav6iMKtg96S0rdBmnYode2Khs/XafWx8r1Y3O8wiI/S/V5ER9SqW6vEaY267+nYhbtaF63Rd2OxlX6nWeSlXov1A34l/Bbr+nHuedWL1KHv3L4WLV2RapWrTXCylipWn/raH0ub63Rj8vxhP7+++P63dTtNcJ1Cf14e8AO/TPJoFJ9zh2x4rdWbUaMA8XmAIBeJFesOwB6Z33Ip38AupvEAHrGDQ2gp80A0NsN9AB62hAA3c0NAN31AkB3vQDQs8fPYgX0N998U8aOHStf+cpXZO7cuelOTZkyRebMmSPvvfdekRABzewJDgDoRXKV8wHYrtJFAD0DpKmgu2ZQQXdBmgp6Bi3pK59CBT1rmKeCnjG8UEFPm0EF3c0LKuiuFz2lgj5x4kTp06ePzJgxQz788EMZNWqUYwKA3lUogXZkOgCgF0k+AOi5LxQVdCrontlBBZ0Keq5hgwo6FXSP3KCCTgXda8iggl78FfTt27fLsGHD5E9/+pNMnjxZDjroILn55pvlwQcflAsvvDCrgw888IBMmDBBPvroIzFQ/84778iYMWPkf//3f53q+9NPPy1nnnlmkdADzSxWBwD0IrlyADqArklVprhnuASgA+gAuu+wwRR31yIAHUAH0H2HjC7xDvrBn/5GGhoashpbVlYm5sfrc//998u0adMcQH/22WflyiuvlCVLlkh9fb3cdNNNzpT3l156yTm0f//+ThwD8abKftddd8nWrVvlmmuukbfffhtA908RFCE4AKCHYGIUIbo7oHe2gFwuf6uqqpxfUUF3HQLQAXSv+4V30Nu5QgU9bQiADqB7jRm8g+66QgU9O0O6wjvoz1x8uEydOjWrYaYybqare32++MUvyjnnnCPf+c53pKmpyammP/roo3LiiSd6TnE3wH766afLihUrZOjQoU5IA/BU0KMgHs5hHADQiyQPujug53MZAHQA3TN/qKCnbQHQAfRcYyyADqAD6J0/gQDoXQ/QbSro//jHP+SQQw6Rf/7zn7L77rs7nbniiitkw4YNMnv2bE9A/9nPfibmx1TZ2z5btmxxqutMcc/niZ1jtQ4A6FqndrEOQM99AQB0AB1A73yAAtABdADd/0ucKe6uR1TQXS8A9K4H6DbbrF1//fXONPVExjaYqVRKSlq3/ayurnZAvP0q7vfcc4/ce++9snjxYgDdf+hEUQAHAPQCmFqIkAA6gK7JK6a4Z7hEBT1tBoAOoAPo/iMogA6ge2UJgF68gG6ms48YMUIMpJ900klZHTn77LOdd9FNZdxMd3///ffTv2+b4p5ZdX/55ZedKfFU0P3HUhT5OwCg5+9hJBEAdABdk2gAOoDulScAOoAOoPuPoAA6gA6g+98nXeEddG0F3VTGzz33XKmpqXGmp2d+fvCDH8jzzz8v1113nVxyySXyhz/8wYH5vn37SjKZlIMPPlhGjx4td955Z3qRuD/+8Y9Otf2MM87wNwoFDuThAICeh3lRHgqgA+iafAPQAXQAXXGnsEhc2iTeQXfzBUAH0AF0//GzmADdLPTW0tIizz33XIeOvfvuu3LkkUfKW2+95UyBNxXyTZs2Sftt1szK72abNaMx8Ux1/atf/aq/UShwIA8HAPQ8zIvyUAA9t9sNH72mvhQ2lcRYokQdV2JxvbZVmdqwSq8v76XXplrU2ljvgWqtjW8maHzQCHVsiSf0WhufLbywvX5iA3j63klq+2a1OlZSqtam6rertUYYK61Q65ue+v/UWilJ6rU2Htto9S3Yqcx4b9Hv0FjrO43aT0vNWq3UWlfza/34Ut63SR2/7xf6qrWplpRaK/WNem2rcvuH9Wp9SV99O+LlMXXcWLl+zE8O0/tmGtCysVbfjjL9PdVYrY+7bYU+bnl/fQ6pO/Yv4Z2Lh6sPaRb9tb531QJ13POHH63WGuH2lD6ff1Sm9279Fv2zQCKufxb4bWm5Vf9WS/b2Zp0d/O/N+u+SoY36Np+5erZVm8MQv/HGG3LcccfJp59+KnvvvXcYIYmBAzkdANCLJDnCBPQgW5qFYZOZYjRr1qwwQmXFANAz7LCAUgA9wzcb8DeHFQgIAfSMa2LjsY3WdgQC0NOOAehu8gDorhcAevagAqC7fhQzoJt3zfv06SP77ruvA+Vmi7YBAwY4U+H54EChHQDQC+1wSPHDBPQwY9l0r1DnBdABdM88tPhjBRX0bAepoGf4AaAD6B4DDIAOoOd6/gHQuwegP/TQQ3LLLbc4e6EPHjzYWSDupz/9qQwaNMjm0RctDgRyAEAPZFv0B4UJt2HGsnGiUOcF0AF0AL3zO5Ep7jYjVTstgA6gA+id3kBU0LPtAdC7B6Dn8a3BoTiQtwMAet4WRhMgTLgNM5ZN7wt1XgAdQAfQAXSbschKC6AD6AA6gG4xaADoALpFuiDFAU8HAPQiSYww4TbMWDb2Feq8ADqADqAD6DZjkZUWQAfQAXQA3WLQANABdIt0QYoDAHox50CYcBtmLBtPM88bxkJ1VVVVzukBdAAdQAfQbcYiKy2ADqAD6AC6xaABoAPoFumCFAcA9GLOgTChOsxYNp5mnjfMNgDoADqADqDbjEVWWgAdQAfQAXSLQQNAB9At0gUpDgDoxZwDYQJtmLFsPAXQXbfYBz0jc9gHPW0G26xl5oV+n+lCbXvntAZAB9ABdADd4mEHQAfQLdIFKQ4A6MWcA2FCdZixbDwF0AF0z3wB0AF0r8Sw2dvcRmszaAHoWW6xD7prB9usuV6winv2oAKgA+i2XzPocaC9AywSVyQ5ESZUhxnLxj4AHUAH0Du/Y6igZ/hjA902WptBC0AH0HPkC4AOoOcaSgB0AN32awY9DgDoRZoDYUJ1mLFs7CwYoC9+S9+M+u16bSKp19pUgVujpjZV62OXVui1LS1qbazvYLVWGix8a40aHzRCH9sGrmIW056bm/RtsFWWlOmPaGlWa1N1W9VasWmDTd6bFljEbnrmV/o2W0wXt5m2HovH9G0wSps8SlqMAxb9S61bZ9dmC/XmJz5Wq0v66seMiiOGqOOmLMaiVN0OdVwj3PHJFrU+3kufG/HyhDpuzEKbGDZQHdcIU9tq9foSfX62rNOPL/XL9NekdLDFuGz615JS9+/ytyvV2kbR53LvWIk67qxVFs8YrVH/Y9iR6tg/G6L/bt28Xv8skEjovXi53i4/18X11+8QfRrJkJRefPzqx9UeI8SBYnSACnqRXLUwoTrMWDb2AeiuWwB6RuYA6GkzAPRgeQGgZ4/EALrrB4DuegGgu14A6K4XPQHQa2pq5KabbpIXXnhB1qxZIwMGDJDPfe5zMmXKFDnmmGNsHmVzaidMmCCbNm2SOXPmhBKPID3bAQC9SK5/mFAdZiwb+wB0AN0zXwB0AN0rMSzyAkAH0HN9FwHoALpXbgDoPQvQx44dK42NjXL77bfLmDFjHEh/+eWX5dBDD5VTTz3V5lEWQA/FLYL4OQCg+znURX4fJlSHGcvGnsy9z81fM2fNmmVzeE5tA1PcM57A9NPamOKeR/pZTAEXpri7RltMAWeKe/D8pILuegegA+gAeudjSXevoJuqtqmYv/rqqzJu3DhPMzZv3izXXXedU/2ur6+Xz3/+81JVVeVU2c3HVNrN7y677DL50Y9+JOvXr3fA/le/+pVUVlY6v586dWpW7FdeecX57/Hjx8vGjRsdnfm89957cvjhh8vSpUtl9OjR8uCDD8rVV18tjzzyiFxzzTWyYsUKOeWUU2TmzJnyxBNPyOTJk8W075vf/Kbcc889rRuL6F/FCf4twpG72gEAfVdfAeX5w4TqMGMpm99BFmYbAPQMey3e+wTQg2Zv63EAeto83kHPyCOLByfeQXd94x307LGId9BdP3gH3fWCd9BdL2zeQW9qanIAfeLEiXLHHXdIWVn2GjKpVEpMhX3gwIFy8803S//+/eX//u//HHD++OOPnX83AP6Tn/xE/v3f/11++tOfypYtW+Tiiy+WL3zhC06xadu2bc5/m39/4IEHnIaa4958800VoF9yySVywgknyI9//GPZunWrnHXWWXLkkUc6UG8AfcmSJXL22WfLQw89JOeee24eDy8cWiwOAOhFcqXCBNowYwW1L8w2AOgAumceskicawuLxGWnCIvEpf1gkTg3NVgkLmPIYJG4tBksEpc9fHaFReL+/bNHpKGhIathBrzbw3eb4Mknn5RJkyZJXV2dHHHEEU4l/bzzznOmuM+fP1++/vWvi5nZmXn8PvvsI9dff70YeDaAbirny5YtkxEjdi6CO3fuXKeKvnLlShk6dKh4vYNuqvaaCvqFF14on376qey9995O7G9/+9vy8MMPO1Px+/Tp4/zb1772NafiPn369KCP3hxXRA4A6EVyscIE2jBjBbWvrQ2Z095tY5npR+YDoAPoALrP3QOgA+g5UgRAB9C9UoNV3F1XAPSuB+jzv31whynlptJsQDrXx0xdX7BggSxcuNCB67fffltmzJgha9eule9///tSUZG9Sr6B+Wuvvdapapu4pnptKtltHzPt3FS426bO5wPo/+///T/Zvt1d0d/0xUxv/9vf/pY+3wUXXOBU15966inbx2X0RegAgF4kFy1MqA4zVlD72toQRlsAdAAdQAfQrcYiKuhpuwB0AB1A73z0ANC7HqDbVtC9rrCZ8v7iiy/K5ZdfLvfee68D2u0/BsAHDx7sCehmOruZDv/aa6/J8ccf71lBf/31151q/YYNG5xp9ubzpz/9yZka3/4ddPOufNun7Z13875624dV4q2+5YteDKAXySUMA2TbuhpmrKD2Aejsg57OHYvVuq32r2aKu3t7UkHPHqoAdADd48uLKe4ZQwZT3NNmAOhdD9Bt3kHP9Zx69913y2233SaPPvqonHzyyc4UczOF3OvTNsV9+fLlMnz4cEfy+9//3lnMrW2Ku5kKX11dLb/73e/SIf7+97/LQQcd5FTCzf+aj1lYzmgB9KAE0TOOA9CL5DqHCdVhxgpqH4AOoAPoHe8e9kHP8MTiDzdss5adS6zi7vrBKu6uF+yD7nrBNmuuF919FXez4vo3vvENueiii5x3zvv27SvvvPOOXHnllc475Gaau6mAm+njZjr7/vvvL6tWrZLnn39ezjzzTGdF97ZF4sye6WaxOFM9NxV48z67AXzzMbBvFpebN2+eDBo0yKmum495r/zoo4923mH/5JNPnJXa//GPfwDoQQGihxwHoBfJhQ4TqsOMFdQ+AB1AB9AB9E7HDwA96PAqADqA7pU8ADqA7pUX3R3QzWJyBrANOC9evNjZD33kyJEOtN94443Ou+cGzn/wgx+IWUzOvJNuFn0z0G72TTfatinnl156qQPaZsq6qZ4buG+bum6OO//885133M2q7mabNbMy+xtvvOFsz2bg/KijjpKrrrrKOTcV9MBfcT3iQAC9SC5zmFAdZqyg9rUtDhfGfugNH72mbkaqwV2Ew++gWKLET+L+3mbKbOtRqQ2r9LHLe+m1KYt90HsPVMe18c0Eje+2pzq21bR1C2gTiy3n9I3dqYwlkupDUhbXxKaCHkuW6tvQUKvWOv2ziN30u/v1sUsLdE/Z5IXpXzymb7PNvV2i71+qZq2+DTbtbY264bHF6thl/ZrV2orPD1ZrpUk/FqUaGvVxW5X1f9+q1id2LoCs+sTL4yqdc4+U6/ciTgzdWUnTflIb9d9TUq7Puea1+rh1n6W0zZWyQfprbYJaDIly7fv6nEuI/r7elNqh7p9d70Seqf6zOvbH+x+s1m7YqH8WSCb0rZ4r/dRtMMI1sSa1/vBG/XflkNbt0LSfr635tVYais7rnfBQAhMEB3I4AKAXSWqECdVhxsrXvjDaAqBnXAWLJ58YgB44fQF01zoAPSONAPSMxNADAoCePRQB6K4fALrrBYDuegGgB3584cAicQBAL5ILFQbItnU1zFj52hdGWwB0AN0zD6mgp21JUUHPShEq6K4dVNBdL6igu15QQXe90P+paecxVNBd76ig5/uUzPE91QEAvUiufBggC6C3Tq1jins646mgB7/5qaBnFEqZ4u6aQQU9IzH0WEMFPXssooLu+kEF3fWCCrrrRdQV9OBPCxyJA8EcANCD+Rb5UQB6bsupoGd4wxT3jLKHHhBsb2gAHUD3zBkAHUD3SAzeQW/3BwiLoRlAB9C9xloA3fapBX2xOQCgF8kVA9ABdFWqAugAukeiMMU92xSmuLt+MMXd9YIp7q4XTHHP+CpRffm6Iqa4u150lynulimAHAfydgBAz9vCaAJ0V0BvW809iItVVVXOYVTQM9wD0AF0AN13OAHQAXSvJAHQAXSvvLAo+DuHA+gAuu+XEAIc8HEAQC+SFOmugB6G/QA6gO6ZRywSl7aFCnp2hgDoADqA3vm3LxX0jL/1Wj6oAOgAumXKIMeBDg4A6EWSFAB67gsFoAPoAHrnAxmADqDnyhCmuLvOUEF3vQDQAfRcY0ZP3Ae9SFCBZnYjBwD0IrmYADqArkpVprhnPFXZTkxUOeyIWCTO9Yp90DPyhkXiMhJDf/+xinv22MMq7q4fLBLnesEq7q4XLBKnf15BWZwOAOhFct0AdABdlaoAOoDukShU0KmgU0H3H0GpoFNB98oS/Z+adh7NFHfXRRaJ8x93UOCAlwMAepHkBYAOoKtSFUAH0AF031uFd9Bdi5ji7noBoAPoALrv8ClMcff3CAUO5OsAgJ6vgxEdD6DnNrr+jVnqq5Cq26rWSrJUr43H9VqjrP5Mr+/dV6+1WRitcrA+bn2tXtuqjA0ZZaXXimPxEq1UUqlmtTaWLFNrHWEiqddb/NEktW2DPm6JRZtt8t60oKy3uh2bv3u3WpuoSKm1NsKYxeWwiWu08fKY+pBYqX4cqF+hr8u1NOnbYBp7x6oh6jYPS+nvqTOSG9VxY3H9tW5sTKjjGuH7O/qr9Xs0N6i1zaK/fv1L9HGHj9qsboMRbtuov7dLSvXj3Lp1fdTt+ED0Y8CopkZ1XCPcENffsMfvv9Iqtla8cVUvrVR699dfaxO0sV6fz/v942/qdnxr+DFq7W6iv6+/XKe/V00D+iV2qNvxqeh9XqVvslz/2SPqNiDEgWJ0AEAvkquWz3Zk7btYU1Mjs2bpobarWwSgZ1whAD1tBoCekRcAeuBhDEB3rQPQXS8AdNcLAD17eAHQXT92NaCffvrpUldXJy+99FKH74CFCxfKscceK3/+85/lyCOPTP++srJS/u3f/k1uueUWGTduXODvDg7EgXwcANDzca9Ijw2zGt8VLADQAXSvPATQAfQwxicAHUD3yiMAHUDPNb4A6F0H0OfMmSNnnXWWLF26VPbcc8+sSzZp0iR555135Omnn5a99trLgfiDDz5YTBHrxhtvlFdeeUU++OAD53d8cCBqBwD0qB3vAucD0JUXgSnurlFMcc9OGqa4p/1girubGkxxz/CCKe5pM5jinj18MsXd9YMp7q4XhZji3tTUJCNGjJDLLrtMJk+enD5ZbW2tDB06VG677TY57bTTHAhftGiRHHbYYY5m5cqVznHTp0+XSy+9VPnQiAwHwnMAQA/Py6KJBKArLxWADqDnShUAHUD3yA0AHUD3GjIAdAA911cJgB4M0L/z8X3S0JC9NkBZWZmYn/af66+/Xh5//HFZsmSJxGI71/OYOXOmA97V1dWyefPmDoC+ceNGGThwoNx7771yxRVXKB8akeFAeA4A6OF5WTSRogL0MN+b9zK3qqrK+WemuGe4wzvoaTOY4p6RF7yDHnh8Zoq7ax3voLteMMXd9YJ30LOHF6a4u34U6h302gv3kalTp2YZbyrkU6ZM6TDWf/TRR3LggQfK/PnzZfz48c7vzbvle+yxh8yePVuWLVuWBejbt2+Xa665RmbMmOFU1c376HxwIGoHAPSoHe8C54sK0KM6D4AOoHvdVgA6gB7GcAugA+heeQSgA+i5xhcAvfCAblNBN6354he/KGPGjJGHH35YFi9eLPvuu6/MmzdPTjzxxDSgV1RUSLx1Rx4z/X3YsGHy4x//WL75zW+G8TVCDBywdgBAt7as+A+ICpyjOg+ADqAD6D7jEhX0wAM3gA6gA+id3z5U0LP9AdALD+i226zdf//9zlT11atXy5133unsZNQ25b2tgv7MM8/IQQcdJGYV90GDBgX+zuBAHAjDAQA9DBeLLEZU4BzVeQB0AB1AB9ALNQwD6AA6gA6g24wvAHrXA/Rt27Y5VfG77rpLbr31VjEruN98881OQ9tPcbe51mhxoFAOAOiFcrYLx40KnKM6D4AOoAPoAHqhhlwAHUAH0AF0m/EFQO96gG5aNHHiRHnqqaecReHMtmujRo0C0G0SG22kDgDokdrdNU4WFThHdR4AHUAH0AH0Qo2uADqADqAD6DbjC4DeNQF94cKFcuyxx8pJJ50kv//979ONpIJuk91oo3IAQI/K6S50nqjAOarz1C98VO1uqn67WhtLdtyuI+fBrQuL2HxSaz7Tyyv66LUWq7jHKndTx7XxzQSN776XOraVMGbhc6pFH9pm2zQTNVGij22hTG1dp1bHSirU2lT9FrXWEZbqY9fd8hN17Fi5/vrF4ju3w9F8bLY308TL0iQt2lymz4vGFVv1TbFIZRP0/kUj1bGHNamlcvwe1XqxhbK5Ue+xCftxtf790MGldeqW/GsHJpW+orxRpTOiAcNr1Voj3LZO/91TWqG/gGtX679L/tLSV93mPZt2qLVGuDWWVOsPGbxerbUZ8tds0Pevf696dRuMsH6Hvn+/TOq1D61aqG7HN4Ydpdae0KzPCxN0tyb9gPTXMv04vjSm93nmsifV/UOIA8XoAIBejFctzzZHBc5RnQdAz0gIAN01w+ZpDUDPHlUAdNcPAD3tBYDupgWA7noBoGcPnwC66weAnucDO4f3WAcA9B546aMC56jOA6AD6J63MYCetoUKeh4DPYAOoHukD4AOoOcaVQB0AD2PbxwOxQHHAQC9ByZCEHC+4YYbpL5eP/3I2FpTU+NsZVHoD4AOoAPond9lAHoeoxCADqAD6J3eQFTQs+0B0AH0PL5xOBQHAPSemgNBAD2qY4JcEwAdQAfQAfQgY4fqGAAdQAfQAXTVYLFTBKAD6BbpghQHPB2ggt4DEyMq2M51niDVeK/LVFVVtfPLkEXiXHt4B931ginuaS+ooOcx0APoADqADqBbDCEAOoBukS5IcQBAJwd2OrCrAT3I+Tu7dgB6hjsAOoDucbMA6HmM/gA6gA6gA+gWQwiADqBbpAtSHADQyQEA3Wa7MLZZy2Bdi+3pzFFssxZstGGbNdc3tlnL/MObXT6xzZrrF9usuV6wzZrrBdusuV6wzZrd+IoaB6JwgCnuUbjcxc4RpIId5jFBYnVmIRX0zAd5/f6k7IOe4RvbrGXfYmyz5vpBBT3tBdusuWnBKu6uFywSlz18UkF3/WCbtS4GADSnaBwA0IvmUoXX0CCAHOYxQWIB6MrrzxR31yjeQU97wRR35f3jJQPQAXSPvADQAfRcowqADqDn8Y3DoTjgOACg98BECALIYR4TJBaArkxUAB1A90gVAF15/wDonRpFBd21B0AH0AF0/3GVCrq/RyhwwMsBAL0H5kUQQA5yTK7V2sPeH73ulRn6q1i7Ta8tKdVr43G91ihXr9Dre/fVa5ub9NoBQ/TaOgvfzF/+ho3Rx45ZeGfrs7YVNm0w/UuUaCNb6VKba/T68t56be1WvdYoy8rV+oZfTFdrY6UJtdZGGEtY5JAJbFEVl6S+zbEyfV40r96s7mKqKaXWGuELrwxT6wc1N6u1hx1Srdba3FItjTF1XCNc8WmlWj+gsk6ttZl0U9G/UR13R60+h0zQTRt7qWPb/KFgxWb9d8nC8qS6DfvqrXBibovrr/dXBq9Rt6OlWR+3Zn0fddz+vevVWiNs2KH37tGYfhxfntLn8uPVf1K3+Ve7jVdrjXCwxZjx1zL92Lw41qBux/3LnlBrEeJAMToAoBfjVcuzzUFgO8gxuZoZZixzDgA9w2kAPdjdYUMTrWcA0F2bAXTXCwA9wwv9c7kA6NnDFoDu+gGgu14A6K4XNoA+YcIEmTlzpnNwIpGQ4cOHy6mnniq33XabDBgwwPn30aNHy2effeb8//Lyctlzzz3l4osvlmuvvVZisZ1/+Fm2bJnstddeHZ4xzj//fHnkkUeCPXtwFA7kcABA74GpEQSQgxwDoHeSXFTQgz3JU0F3faOCnvaCCnr2WEMF3fWDCrrrBRV01wsq6K4X3b2CbgB9zZo18sADD0hTU5N8+OGHctFFF8nYsWPl0UcfTQO6AfJJkyZJfX29vPTSS3LZZZfJz3/+c7n00kuzAN387uCDD04bWFFRIcBWL6QAACAASURBVP379++BNEGXC+kAgF5Id7to7CCwHeQYAB1AV90CNtVrAB1A90gqAB1AzzXWAOgAulduAOg9C9A3bdokc+bMSXf6mmuukQcffFDWr1+fBvSrr75azE/b58gjj3Qq608++WQWoC9atEgOO+ww1eMNIhwI6gCAHtS5Ij4uCGwHOQZAB9BVtwmAnraJd9BVGdNBBKAD6AC6/71DBd31CEDvuYC+ZMkSOf300x04X716dQdAT6VS8tprr8kpp5wi//Ef/yG//vWvAXT/4QVFyA4A6CEbWgzhgsB2kGMAdABddT8A6AC6KlFyiwB0AB1A97+JAHQA3StLinGK+7R/zJKGhuxF5crKysT8tP+YKe7mHXHzbnlz6wJ3Zgq7+dx9991inm3Nx1TKq6urpaSkRHbs2CGNjY2O/uWXX5Zjjz02C9DNlPZ4xmy+BQsWyOGHH+5/A6LAAQsHAHQLs7qLNAhsBzkml1+5Vne39beqqso5hEXiMpxjkTjbNNqpt/kjgZGzinvaZxaJc1OOReIyvGCRuLQZrOKePSyzirvrB6u4u17YrOI+asIhMnXq1KzEmjx5skyZMqXDM4AB9JUrV8q0adOktrZWZsyYIR9//LE8++yzkkzuXHHfAPo3v/lNMdq1a9fKD37wA/nSl74kP/zhD9Px2haJe+aZZ+TAAw9M//vIkSM9/zAQ7GGEo3DgX4+lrVM57PZvwbmidyAIbAc5JiqjAHQAPe9cA9CzLWSbNdcPtllLe8E2a25asM2a6wXbrGUPn2yz5vpRqG3WbCvo7d9BHz9+vBx33HFyyy23pAE98x30jRs3yj777COPPfaYnHjiiY6mDdB5Bz3vJy4CKByggq4wqbtJgsB2kGOi8g1AB9DzzjUAHUDPlUQAOoDukRsAOoCea8gA0AsP6LbbrLUH9FdffVVOPvlkWbx4sbPtmqmgt18kzlTjzcJyBsjNVmsAet5PWgSwcABAtzCru0iDwHaQY6LyC0AH0PPONQAdQAfQfW8jKuiuRQA6gA6g+w4ZUqgKer6Ablr++c9/Xo4++mhnKzUvQDdT3UeNGiUPP/yw/Od//ieA7n+5UYToAIAeopnFEioIbAc5Jio/AHQAPe9cA9ABdADd9zYC0AF0ryRhinu2K1TQu34F3bRw9uzZcuGFF8qnn37q7InevoJuNJdccom8+eab8te//lWWL18ue+21l1NRZ5s1368LBHk6AKDnaWAxHh4EtoMcE5U39X95Xn+quq16bUnH1UBzHmwJeKk1y/TtqOij11ooY73769U7dq56qv3EdttTK7XTWfqsDm65v3ossXNhmbA/qW0b9SGTpWptqmG7WmuEsdIKtb7pkV+qtVJi4ZvNNUkk9G0wynhMrY9ZTHFvXQJYHbdlzTq11lb4wUz90jL9e+vv7T2Ob1Q3JdXUotfW67Um6Lr39bnfe+AOdTticb1vyd4W2kqLFfNaW9u0Qe9HvFzdPaldrb9P/rmiUh14YP9atdYIW5r1fizaNsAqtlb811L99dvDor3m/Nv03ZMj6pu0TZalFuOnRfdk0tpX1G0wwv8YdqRab2GF7BvTP+vcvmy2ug0IcaAYHQDQi/Gq5dnmILAd5Jg8m6k+HEBXW5UlBNAz7LCBwdbDAHTXOwA9I48A9LQZALqbF0kAPeu7B0B37QDQXS8A9GDPchzVPR0A0Lvnde20V0G2OaupqZFZs2Z1SbcA9GCXBUAH0HNlDhV01xkq6K4XVNAzoJsKetoMKujZIykVdNcPKujBns84CgcAdHJA5QAVdB+bLKdeM8VdlXYdRZY+q89CBT3LKgAdQPe6dwB0AN0rLwB0AD3Xdy2Arn4KQYgD2c9h7INORmgcANABdE2etGl4B93GLVfLO+gZvtn80YR30LMSjnfQXTt4B931gnfQXS94B931gnfQg31fcxQOFNIBKuiFdLcbxQbQAXSbdAbQbdwC0D3dAtCDJVHrUQA6gO6VPAA6gO6VFwB64KGWA3GgYA4A6AWztnsFLgSgB3kXPtPVqqoq5z95Bz1YrvEOeoZvNjDYehiLxLnesUhcRh6xSFzaDBaJc/OCReKyv6NYJM71g0XiXC9YJC7YsxxHdU8HAPTueV1D71UhAD2smAB6sMsNoAPouTKHd9BdZ1gkzvWCd9AzoJtF4tJm8A569kjKInGuH7yDHuz5jKNwAEAnB1QOhAXTmScLKyaArrqEHUQAOoAOoPvfOwA6gO6VJeyD7roCoAPouUZSAN3/OwYFDng5AKCTFyoHwoJpAH2nA6zirkq7jiJWcXc9SZaqTUw1bFdrjZAKumsXgA6gA+idDx8AOoAOoFt9xSLGAV8HAHRfixAYBwB0nzywBEcAPeB9Zemz+iy8g55lFYAOoHvdO0xxz/j7GFPc02YA6AA6gK5+2kCIAyoHAHSVTYi0gG6z8FtNTY3MmjUrb3MbPnhRHcOqkphIquOKJTim1i5Xx45V9FVrpaVFr+3dX6/dUafXtiptVnGP2XhnA9I2XtjENU4kSvR+tDSrtam6rWqtVRssK+hSWqFuR9Nvpqu1MYtF1CQeU8e1vf/0gVuVyYRebtG/1Jp1+riWysUP6WdM9OnboI6+21i9F6lm/ViUqm9St8EIN72vz42KAY3q2DZDUaKPOqwkB5fpxa3K5k071Pp4uf6aNKzS+7x+eW91G/oOrFdrjbC5UT/xec66oerY8ZRaKu8m9N9pe6bK9YFblZtj+jH/3B36a72qRd+OEtGb8UCZfrwwRjxT/We1H1cNH6vW7tmif+b6zvJH1HER4kAxOgCgF+NV2wVt1gK6Vme6YKPtrMsAeoY7NlAKoLvGAejZtxiA7voBoKe9ANDdtADQXS8A9OzhE0B3/QDQd8EDO6fsFg4A6N3iMha+E1qY1uoAdCrobVlLBd29f6mgZ4xlVNADD+xU0F3rqKC7XlBBd72ggu560d0r6BMmTJCZM2c6HU4mkzJy5Eg566yzJBaLyU9+8pNOx9mlS5fK6NGjA4/FHIgDQR0A0IM618OO04K3VgegA+gAesdBBEAH0MP4agHQAXSvPALQAXSvvOgJgL5mzRp54IEHpLGxURYsWCATJ06Uc889V26//fa0JUcddZRccsklMmnSpPS/7bbbbpJI6F8jCWP8JgYOGAcAdPJA5YAWvLU6AB1AB9AB9E4HHyroqrHZSwSgA+gAeue3DxV015+eAOibNm2SOXPmpDttIPzZZ5+V6urq9L+ZSvnVV1/t/GR+mpqa5Lvf/a489NBDDqwbuF+9erVs3rw5K2bgAZsDccDDAQCdtFA5oAVvrQ5AB9ABdAAdQFcNv9YiAB1AB9ABdO3AUYyA/u1P7pOGhuwFLsvKysT8tP+YKe7tAf2qq66S2bNny7p17mKduQD91ltvlbvvvltmzJghBx54oPzsZz9zjh0/fjyArk0ydNYOAOjWlvXMA7TgrdUZF21WfPdyvaqqyvlnFonLcIdF4lwzbLxgkbjsW4xF4lw/WCQu7QWLxLlpwSJxrhcsEpc9fLJInOtHoRaJ23jRPjJ16tQs4ydPnixTpkzxBfS3335bTjnlFPnyl78sjz32WFqfC9CHDh0q1157rfNjPs3NzTJmzBg5/PDDAfSeiUSR9BpAj8Tm4j+JFry1ujAdAdABdM98AtBdW9hmLfiQA6AD6B7ZA6AD6LkGFQC98IBuW0F/5JFHpLy8XMx0dfMe+hlnnCHTp0+XIUOGdAroZhp7ZWWlvPbaa3L88centWaRuZbWZ4zMafPBv2Q4Egc6OgCgkxUqB7TgrdWpTqoUAegAOoDuc7MA6MrRxEMGoAPoAHqn9w8V9Gx7APTCA7rNPuhmivvKlStl2rRpUlJSIsOHD3f+t/3Hq4LeBuivv/66jB3r7un+9a9/XVKpFIAe/JuVI30cANBJEZUDWvDW6lQnVYoAdAAdQAfQlcOFvQxAB9ABdADdYuQA0LseoLd/B93rcnY2xf26666Ta665xjnMTHHfe++95bDDDgPQLe4LpHYOAOh2fvVYtRa8tbowjQTQAXQAHUAPc0zJigWgA+gAOoBuMcAA6N0L0M0icWbNo/vuu08OOOAAuffee+Xhhx+WL33pS/L0009bZAZSHNA7AKDrverRSi14a3VhmgmgA+gAOoAe5pgCoHu7ySJxri+8g+56wRT37PsFQO9egG7eWzfPtm3brJm90pcsWeJsufboo48W7KuHwD3bAQC9Z19/de+1K67X1NTIrFmz1HHDENb/2d3b0jde/XZfSVqQSOq1lquAp1Z/po/dq49ea6GM9e6vVqca6tRaI4zvvpeVXi2OxdVSK2Gi4/tonR0fs8iNVKpF3ZTUtg1qbSzZcTuZXAenLN9Bj1ms4t744M/VbW59otFrLfZBj3m8T9jpiSxii0UF3aYdLWvWq71ItaTUWiN869Feav2g0nq1dsxxW9TaVJO+zakdeq1pwJoPe6vb0acyeyumTu/ruL4dJb2a1W1IWg7hDev141yyQj++bKkuV7d5yfoBau2Q8lq11gibmvX929yoH+f0TogsLtWP+YMtctn0r9ZifLFIOfm0xCI/La7IItlqoRYZFdOPL/+7aoE69tnDjlJrH/vM4rlPHVUnNIvDme3WzjnnHLnlllt0B6HCAUsHAHRLw5B37sCuqKAD6MGyEkDP8A1Az0oiAD3DDgA9bQaA7uYFgO56AaBnfwcD6K4f3QHQP/vsM5k3b56MGzfO2Xv95z//uTzwwAPyl7/8xQF1PjhQCAcA9EK42oNjAui6i08FXedTBxUV9LQlVNDd7LCpXDtHWVS4qKC7PgPoALrXyA2gA+i5vtG7A6CvWLFCzjvvPPnggw+cldsPOeQQueOOO7K2XQv4RMNhOJDTAQCd5AjVAQBdZyeArvMJQM/tE4AOoOfKDqa4u84wxd31ginurhdMcXe9YIp7wOcRDsOBAjoAoBfQ3J4YGkDXXXUAXecTgA6g///tnQm8XdPZ/1dKRMSYGBr+JCSq9aqQppTW2BY1qw6mokq93lapl1IE6Uu1alZKTQ1KzVPNNSsqrdIaaiZBCFWziEj+/e50J+ce596z1z5733POPd/1+dxPuHfvtdf67rX3Xr/nedazsowUPehdKSnQFei1nhsFugK91rhQoGf5yniMBHqXgAK9d3n3+avVE+hZk81lAcW2FxTXoGeh9dFjXINewcQ16F0GiGvQK3C4Bn02DEPc54wL16DPYWGIe9fvq2vQ5/DoCyHu+WZYniWBxggo0Bvj59lVBOoJ9Hp/zwNUgZ6HWggKdAV6dyNHga5ArzU2FOgK9FrjQoGuQO/uW6JAzzc/8ywJKNAdA4USqCfA6/09T2MU6HmoKdC7UNODrge9u8dID7oe9BpjQw+6HvTuXhl60PWg55uVeZYE5hBQoDsaCiVQT4DX+3uexijQ81BToCvQux83etD1oOtB7/m9qkBXoCvQ68899KDXZ+QREqhFQIHuuCiUQD0BXu/veRqjQM9DTYGuQFegZ3py9KDrQdeD3uOjYoh7Vzx60PWgZ/q2eJAEeiCgQHd4FEqgngCv9/c8jVGg56GmQFegK9AzPTkKdAW6Al2BnullMesgBboCPWK4eKgEahJQoDswCiVQL0v7lClTwm9/+9tCrzn1ngsy1zdz6juZj43ZZzp87GOZ6+XAmS8/l/34gfNnP3bGjMzH9ltwSOZjZ76fnRuVfuzjIzLXHfrFscteccSRkfcvzD0ge+Uzs9+TmW+9mrnefv0HZj525tQ3Mx+bHDhgUObjp51yQuZj+w3on/nYmAP7zTNXzOH/tk5FjLm5sx8bs93bhy//K3ubZ8zMfuy/j7zh94tlPn7IjA8yHztqzMuZj405cMa0mKNDmPSPhTOfsNBCUzMf269fds4D5p+eud655/0w87Ec+M6r2d8vMe145cXs35KHP1gwc5uXnvF+5mM5cOrM7M/rYgPey1z3zOy3L0z8IPs7bnDI/ozQ2Hcj+ve3eefO3L+H+2VnMVfol7neJcI8mY/lwI/PyP5OvLvf25nrvnTyhMzHTp/2QuZjizhw5513Dq+//nq44ooriqjOOiRQl4ACvS4iDyiSQCkedAX6nFukQM83XBXoXbkp0OfwUKDPZqFAnzMsYoSxAr3r60WBPoeHAn0Oi7IEek/ievjw4WHvvfdOfirLYYcdlojxBx54IPm1Aj3f1Mqz8hNQoOdn55k5CCjQZ0HTg14xeGK8mTnGXKZTFOgK9O4GigJdgV5jbCjQ50DRg951gOhBn8OjFTzoCvRMsyAPajECCvQWuyF9vTkKdAX6R8a4An02EkPc870BDXHvys0Q9zk8DHGfw8IQ9zksDHGfw6Kvh7gXKdBXXXXVcPLJJ4epU6eGbbfdNpx00klhnnnilgjk+8p5VqcRUKB32h1vcn8V6Ap0BXr3D6ECPd8LSoGuQO9u5CjQFei1xoYCXYEOgZgQ90svvTRssskmYezYseHZZ58N3/72t8Nuu+0WjjjiiHwfLs+SQA8EFOgOj14loEBXoCvQFehFv3QU6Ap0BXr9p0oPuh70WqOkHT3o77z1dHj//a7JCQcMGBD4qS71POiTJ08O/ft3TWA6bdq0sOKKK3ZZg3711VeHSZMmhfnmmy+5xKmnnhr222+/8MYbb/w7T3D2xHn1n1SPkMC/c9nO/HcRhAR6i0C9LO8x7TjuuOOSw83iXkHNJHExQ2jOsbEfV7O4z2ZnFvc5w8gs7vkeP7O4d+VmFvc5PMziPoeFWdznsDj4wN3CuHHjujw4hx56aCC5W6xA32GHHZIkcJXlxBNPDHfccUcXgT5x4sRwyy23zD7swQcfDKusskriTR82bFi+l59nSaAbAgp0h0bbE1CgK9AbHsQK9K4IzeI+h4dJ4mazMIv7nGFhkrg5LEwS1/X1aZK4OTzKShJXpAc9axb37gT6c889F5ZZZpmGpyFWIIFKAgp0x0PbE1CgK9AbHsQKdAV6d4NIga5ArzE2FOgK9O5eGQr08gV6zD7o9ULcswp0Qtyff/75MHDgwKSDp512Wth3330NcW94AmYFtQgo0B0XbU9Aga5Ab3gQK9AV6Ar0uo+RHnQ96LUGiR50PejdvTzK8qDHCnS83OmyyLStgwcPDmuvvXbmfdBJErfZZpuFgw8+OFAfSeL4OfLII+u+Oz1AArEEFOixxDy+5Qgo0BXoDQ9KBboCXYFe9zFSoCvQFeh1H5OgB30Oo1YR6OPHj//Ijdtpp53Cbbfdllmgv/7662HUqFHJNmskqNtmm23CL3/5y5qJ6eqPEo+QQM8EFOiOkD5HgBcnFk0S0tXK6NlIh8uqu6x66WtZdbdbve3Ioh3bXNa4aEcW7dhm71/XL0RZPNqt3nYcy+3Y5rLGRTuyKLPNjcwDPVcCvUFAgd4blL1GrxJ48803w0ILLZSsC1pwwQULvXZZdZdVL50vq+52q7cdWbRjm8saF+3Ioh3b7P3r+skoi0e71duOY7kd21zWuGhHFmW2udCJoZVJoAQCCvQSoFplcwn4gXOC2d0ILGtslFVvmROUstpcVr3tyKId2+z98/3p+7P+HKas56SsetvxXVRmm+vfYY+QQHMJKNCby9+rl0DAD5wTTCeY9R+ssp6Tsuotc7Jmm+eMF1n4/vT96fuzPoH2fmfE9M9jJdAMAgr0ZlD3mqUScILpBNMJZv1HrKznpKx6Fejt/Vx7/7x/vf1ebscx5/uzd56T+l9Ij5BAcwko0JvL36uXQMAkK12hlsWj3eqFim2eMzZkUT6LdhxzZY2LdmTRjm32/vn9625aVdbYKKveMp+/EqaeVimBQgko0AvFaWUSkIAEJCABCUhAAhKQgAQkIIF8BBTo+bh5lgQkIAEJSEACEpCABCQgAQlIoFACCvRCcVqZBCQgAQlIQAISkIAEJCABCUggHwEFej5uniUBCUhAAhKQgAQkIAEJSEACEiiUgAK9UJxWJgEJSEACEpCABCQgAQlIQAISyEdAgZ6Pm2dJQAJtQGDChAlhxowZYfXVV+/S2j/96U9hrrnmCmPGjGmDXtjETibw7rvvhv322y9cccUV4YMPPghf+tKXwoknnhgWXXTRTsZSeN95T3zsYx8rvF4rlIAEJCABCcQSUKDHEvN4CfyHwFNPPRV22223cMstt3QEk4svvriLSPjud7/b8v1ebbXVwo9+9KPwta99rUtbL7vssvDzn/88INTzlMceeyxccMEF4c477wzPPvtsQEQttthiYdVVVw0bbrhh2HrrrcOAAQPyVB1efvnlsMQSS9Q8929/+1tYeeWVo+vlvCwlT91Z6i3rGLjPN998ZVXfEvUizk855ZSw/fbbh4EDB4bzzz8/rLvuuoHn0VIcAQx2kydPDosvvnhSKdx//OMfh8GDBxd3kYJreuKJJ8IhhxwSTjvttLDgggt2qf2NN94Ie+yxRzj88MPDcsstV/CV81c3ceLETCcvs8wymY6rPuiqq66qeV6/fv3CvPPOG0aOHBmWXXbZXHUXfdJzzz0XbrzxxsTwts4664T/+q//KvoS1icBCbQpAQV6m944mz2HQLMmKQ8++GAYPXp0+PDDD6Nvx6233hruv//+8LnPfS58/vOfTyZYRxxxRHjvvffClltumXjImIzHFrxADz/8cPj0pz+dnHrqqaeGadOmza6GSSiTtlhP0a9//evw3//932H55ZdPJjkPPfRQInyPPPLI2Cb26vHzzz9/QJxWT1CfeeaZROi+9dZbUe3561//mvQbYb7mmmsGDABLLbVUcq9ee+21hAt/e/PNN5Pj9t5772ihjkA444wzwuabb96lbUcffXQYO3ZsMkZiC/ebCerMmTM/cmr6e/7NM5Y5hzHH2KgeswjoJ598Mqy00krRYy5tKGL0vPPOC//v//2/Lm3HuPKtb30rPP7447E4kuN/8IMfJJN1/q0sv/zlL5M2H3/88bnqLfqkESNGJO+GbbbZJqn6vvvuS94ZU6dOTaJAeqNccsklHzFy9cZ1G7nGCy+8kDybWQvPyEsvvTRboCN4H3jggVLE7auvvpo8j0OGDMnavJrHYSRdeOGFw1FHHVXz7/vvv3/yLvrVr36V+zqcX6vQfoyQ88wzT1TdlWM2fR9RV1r4Xd53EXV0966rfM994QtfSIzNiyyySFTbaRvPAt/vKVOmJNFZlQXDb9Zyxx13hI033jgx7lLmnnvuMH78+LDttttmraLH43bcccdw8sknhwUWWCA5jvnKiiuuGPr3719I/b1VyaRJk5LxUP3+763rex0JNIuAAr1Z5L1uYQR6Y5JSq7F5Bfrpp5+eiOThw4eH559/Phx66KHJBByxweQCMcLff/azn0UzwruG2L/99tuTc/k4M4Hj409hYojw+M53vhNVN4Ifw8H//d//Jef95je/CXvuuWe0wK110azenaeffjqqzRzMBPj3v/99WGONNbqce/fdd4dNNtkk/Otf/4qqc9iwYYlnbbvttuvRs3bPPfeE4447LqyyyirhwAMPjLrGMcccEw4++OCw0047JXUg/BkbiGDGTrVwz1I5nposhf7FFsYCojZdNlB5PuKd5QUYKnbYYYfYqpPj6e9dd92VeJERqUyKf/KTnyTGIcYghos8BfGGt+0zn/lMl9MxnHFNns3YQjTN97///XDvvffW9Ghi1MFottZaa2WuGgGEQalSbGIIwTCx9NJLZ66npwOnT58eiAph8v6JT3xi9qFXXnll4qH9xz/+Ed5///2oa+2yyy6Zjj/rrLMyHZf1IEQ271OMXDHGrGqBzruTd3zW91O99r3++uvhoIMOChdeeOHs9w4CkTGNl5v3dGz55Cc/Gc4999zw2c9+tuapf/nLX5J3Ffc2b0kFb3fnI5x23nnn5DuWxfDLtyg9Z7PNNpv9baquf9SoUbmafPPNNyecGQMYUCkYtXinYuBcaKGFwu677568l84888yoa2DMw1i93nrrJVFOlYYFKjr77LMz14fHHCMQ32ueZ6I1rrnmmoAgLaJUR4SUYXDaaqutPsKAtldGKzD+Vlhhhagu8T4aN25c4qh4++23k3MxtvO+Z5y1m5EhqvMeLIH/EFCgOxTankBvTFJqQcor0PEmMkHgY3P99dcHJilMJhFkFEJX+VjjxYstX/7ylwMT49QKXz3JRBwwQcQDEFMGDRoU/v73v8+erCK8mFQQrvjxj388pqqPHMukDmHIhzwNL61V4V577RV9HSa/TNgRGkzMKEyUMTZwrYsuuiiqTqIRYjxGscenjWFsIWjxkiLQibRAyHQX+l6vE1/84hfD9773vfDVr3615qEYbpjM5jGCIDapO/XwVl8Axgh4PEZ5C+N23333TYQzSwoYdxgGWI+dt6SRIHjRK0vq8Yd9bKF9TN5/+MMf1jyVCSfP3uWXX565aibajGGWUKSF55rIkCJCdR955JGw6aabhtSIs8UWWyQe12984xuJQN11110Dz16sMSB9rln2UStyI+1LDIv0HJ5hxhzhwUzWDzjggMQwcthhhyUGG0KF99lnnyhvZJkCnWcYIyFefZYqfOpTn0qYPProo8mSBdhiNIz16PIOxnjSnWGNe8q1Ui9t5kFXceA555yTCF5EOO8I2k1uD7y9iN5XXnklYY7hMosxkrHMuTy/GEh5z2Ewpp1FFL6viGiMYZXlj3/8Y8CYj6HzD3/4Q/KdzBpun9bDcgcM6Hi+Gy3UxTuR9lLeeeedRLDzLo4dB7XaUuZ4Tq/HmCASAeMShk7GBlFmPJ8bbLBB8v7gfY3RhKifrIVoPd4LGGJT4zpGb55v3k98DywS6OsEFOh9/Q53QP96Y5JSC2Negc6aWSZm6aQKwUdd6QSFSQPhwrEeK9qIZwIrfOp9qBboXJcPJRPGmFL9sefcojxMCDg8D7fddlv4yle+kkycmABl8cbU6wMT4rXXXjv885//cXjeqgAAIABJREFUTNaHUwhbRejedNNN0aKj3vWK+juh9+Q3uPTSS5MqKw04ea4BS36YaOOZqC6se19yySVzhbhj6MBDRURIrYL3l4k9E/lGCkYr8gbggWOsVE/AY+tmYsxEEGFXWU466aREoCJcYwvPNEa37sQGYoqJa4ww4L7xXFTmNLj66qvD+uuvHzCcpSUmvLayXxgVEAcYFX77298mBjyMFggnfpeGyMay+J//+Z/wu9/9LrCWmGea+opaz03dMPjmN7+Z8Oa9Ru4HjCp42PBOxhY4I+DSnAaEB9Pm1LCX1nfsscfGVp1EkCBSEIbVRjYEK2MCIxoRMzEF4ygCn7FQq3BNDAJcI2+hXRiUMdhUFt7beH+5Bl58PNaM75hCZAzvfozShF8j1Plp5N3PfAADQip80/ZgYOY9RFRFXsMFBrHrrrsu4BRotHT3TS3K8NYbAh3DGEsgMMCm94wIJwx6vDcYE7xjMYpwr7MWnjneHbz3KgvsMQSTX8Eigb5OQIHe1+9wB/SvrEkKgq46hK0SJ14J1r/Hrtut9+FsRCzhFeRjyLpVCqKIMO/044l3EO9SrPjnfMIwCTNLC+sb8ZpUZpOuXs8bM/wQ03hV+EEwsIaOyRrGikYKdSE8MIIweWPtOREGecPk8IJmKXlZ4OlBGHDfmPjy/3gDN9poo2RCnMe7wv3jXO4XHl7qrbyXjYw5RCLeje4SzDHhxAvCfchT8LLhxUUI/OIXv0iWb+C1Yd0tQi1vISIBcQ6TVOBwDZYYsAwEA0ls6c4rn9bD88dykZjQ629/+9uZmhETXltZIe/Pa6+9NsmngecLEc1YydP/6obynsFwAOt0WQnPNIK0p3drvQ5jCCE8mQgKoj7SXAKN5A0g10G9NvH3PElBMV7BFCNCrYKRASGDtzGmIJpJMNZdFALeRgzAjSQUxGDBu7P6Pcy3D0Mw30GMcHxX8nrqef/wTubZ5pvViCGH9eWIQzz/adQJdfI94R2E1xpDCe+O2PwVeP65V4znPDliKu8t72TGUmVfMTpi+Khcb503cWd1/bXqpj156+dc+PJ9qlwWw+/hyvWIBsAwQpQV75asBSMWRthqQyeGOAzujRp7s7bD4yTQTAIK9GbS99qFEChrklLL01irwXhsYgohq3zA+LgREkZ4I9bl1APJZAULfazwpw1MXPH+dReCh9cJUZJ1TXLaL9qWZfKaJ0S6FjsmaoSzMZlqJOSP85kopGvw02uxxg3BwMc+tmQJK4ZVXhZ4SvFcst4/NSKwYwDr0PG85lkbnRqFiCQgvJ9JO2H/6fraRgQ66+wRF/zUKqwdJ+SUyIU8hbXXMMeokLLHy8sEm9B/IkbyFp4VvDwvvvhiUgXjnHHHZD5PwTBGuC9rM2sVxCqh+nnHRp421TuHsUH28tSzi+GGdfjVk+569dT7O+8cjG8IJ0QlEQqVRqJ651f+neeC+oj6oCAiieKo9prG1FnmsTzTPMPdJbrimcbIELusgnBijF8sUSApZbrWF082BiyeDd5zGF/yFsYBS2Oqc6LgPcUwwPr2P//5z0noMUbWmELbELsYEGg7kRZEMTTiQafvvOMwGvBt5V3Me5N3He88+oOBjygl3qkxBQMELBClvCuqjbw8N1lLT31sNHEnbSgzMWjaR4zFGC2q86KQ24MlexhXMeQQuRCT74XQdu4jRsc0cghjX2qwj51zZb0nHieBViKgQG+lu2FbchHojUlKroZ1c1J10p00a216eCNZbJngMGFiAlFdqJfwdsR/0YmZiuLDBJUsubSPRFt8+JkA5N2yrDpRTtpOhCqh2XmMIEX1tbt6ME7UCtEldBAxSaKj2FIZtUF4IN4qkrohdPFCNiLQEQL84A2q9sbgeSNEFvHAT56CoYLQ/OoJLaIG7zJLFRoteGTwiOUVjOn1ySuB54cQW7zplQWvORNVIhiyRmE02q8s51evcWcdLPctiyEqS/3pMWneAEQ6uRmYgOflXd3mItfkx/Qp67EYmXjW8O7WKuz8QOhurMClLpJg8t7nnVb5DSGyqdZuEFnbnB6H2Pr617+efDdIRod4ZHxz/3hXYxzA0IUQyxL+jzEIIw3iC9FGCD7Cq8gtxvjW3XDDDYkhnP+m7eRnaUT4wwNnADkk2LazVpK4GOHIvCVLpECexJ20NasRPm/9XIMoMbYbJfdAOjYwlP30pz9NcsqccMIJyRjkma8X4l6dH4UoB7776XI93km8N/ie5F3OEzv2PV4CzSSgQG8mfa9dGIFakxQqJ0y4iElKYQ39d0VphvV6deZZR4mXBm8JExI8dXgLmFAxmcKzh3gns291Yqx6bUE488FkMkZhPXBlmDweaqze1aKkXr3p3xGLhKwyicULyYSTiVuecO7KazIhQ3xWJtji70zcxowZk6yfK6PEbvFUqw2EQ3M/8fIjHqsNOTHtrl5WQV3cQybUrOtmMpV3DTreUEKWmYAh9hl7jDnCERkzGIUQ0XmXFMT0s9nHMtZ4/hCQRKrgFUxZsKYZgxBetthkf2VtywgvxgZrPtMIGUJREenVYiY2bwV1V4a4Mz54f2BUYblGI2Kpel1+rTX5XD9mIs8ykiwliwitrgcByvPMc1CdZBJGhL7z3ovNKp5eB+MPoddcg2ebcccz2WgYdlo/Yo/EXHw/UsHLuvTu8k70xJH+867Bw4oBtrv3Qt7Qa8Q/uQmqjbqIO9Y1542OoU8s50H4d2doyTJ+0mMYwyyjY/kO79/qXAcxdTXrWN5nRFawBp13H4V3G4ZKlsDxHsQwR1/rbZOWdSkP18i7nKdZnLyuBPIQUKDnoeY5LUmgepKCOGWSkib9iW00nq4sYd2sW22lggWb7KqI8rT96aSKDxvby8QW1k9iBGEiTMFjhccjnQByLdbyZp3kVl6fethTlkkKE9m8E7PKOlNrPCGNiIHKyRqTCtZFM4llUltkybvFU2Ub8ISlnhruH54pwjNhg8Eiz7Zi3UUSYBChXsY665DzRhQg0klwRcIq2st44/njnpIgKybzfcoiayI1kpDFlLKfa9YRE37PRL5yn2dEGOH+saKmzG0Z4UaESpaS7jKR5ViOqUwSx+Q7zauQ9fyejuP9Vu/dzPkxE3nGRb2Sdw060R4YBHkPkX0+TTJGmD9jApFOmHhspnwMmxhOKpNpcT9ZpsF6a0K9SXqYJwIJgytG3rzfz+5YVhpmKr9Plcc3sg96mVFT3DfWiBfxjSJvB5Fi1Mf7k29W+i6uNw6L+DvGK8YJ38LYwrs5XT6QnpsauzHuWSQggcYJKNAbZ2gNfZRAd1sl0V0+RoR2MbHKK2qoh3NZx4e3kUkJSVFYy1e9ZjoPYtb8pklwSPCTZjHPUxdeXHika2urM7iz9QweQiYdsYUJG54J+tzTpDvGg5da45msInYrPUmIRUQSSbAqE9xlbXcZWzxVXhsPDwYLIj8YD+lezGwpxT0gCWBsqZUxOK2DccJEnv13GxnLsW2qdzwT7bRUCt3K3+WZyPfGc00bCd9NPZo8f3mjQcrclrHePWjk74w5jCf1km3GeLkbaU+zz2VNNEYLnuPK8UzoNR7I2Kgm+oMwJ7kd3koKCbnY7gpjCu8Okiri6UaIxZbuhG5sPdXHlx163V3UFO9RjDAx35HqtrOmH4MH0QSxhrbuuOFYSHcyYakD9RJBxj2s53Wudy8w7qVbEZJZHeM8S5H+93//N4mGYA0+xvfYUtbYiG2Hx0ugLxNQoPflu9uBfcObzQ8ChzW7laWIddckF0OIshaYkDTWx3a3/3M9/A899FAixvG6psl90uRxrPsj23ORBcGAkCaMMjZhF5me4ZquEyRknHWI6SSFdrMGLc/2J2V58GBHoj+8QJXbUTXKtIwtnirbBGu8r6y9qzSEMMFnTLz99tvRXWBZBaHm3Rl+8Noz+cwb/kmSJxIv4QkizJ1ET40W2soEFW/pZptt1m3b0zWKjVyvqOe6u33mq9sWI0rL3JaxFjNCgWu9P2MjFcrwcqftRcDUKxhv8oaM16u7kb+nibOoA1GeZR1yd9cbOnRoEtWEd55Crgae9XS9L88l66LzbBnYk1Gvkf6XdW5qCEKI852qfNdheOT9STQVYjhvwchGojjeFzyX1eH5jYh/2sSSJqI+CNNnrT7GGyKb8hQirVgbjrcfB0A6PliiQQg6kRx5DNTUU9bYqGfMSznEJOPLw85zJNAKBBTorXAXbEMhBBBjhOUxWWHiUu2N7W4rmqwXZ6uuQw45JPlAH3zwwYlnohFPNxmoSVSGQE29a0zemNgyQc7jja7VF9YBM1FFQPFBRkSQvCWm4IFG1KeGhOpzCXEnm3dsFuKsbWBClJc155K4i8kPIdeIXrJ2E4qXJ0lVGVs8VXKgfUxA8LpWCnQMIkwwK5NBZeVX5nFkaCeDO+1NtxkjIdyRRx7Z0GUxXPFskGCI54IQaUJAu9tjPO/Finyus66jjAm9LnNbxkpmGNngS2btytJI0sq896TeeTDhOWRCn3qja53T6Du/Xjua/XeeN5aUpKHxrI3mHcH3icJyC4x6ZCyPLd15omPr6e54dtjoqcTusJHuusK/eIgr3+1p1BQGEQzJeUs9Y3LsMpBa7cAAyzsJcU20Vt6oJt6TLDvDmMX3j60k+SGx38ILL5wXQXJeWQK9cuccnmu+IXxbqo1YMcn4GuqoJ0ugiQQU6E2E76WLJYAoJ5t07NYp9VrBOmW2lMECjzeWddZFeGQRvaw7rM5ei2edSUTMXsnVfWCNGCKAHz74CBw8B1tvvXW97tb8O+KLZDDdnU/dTCgI6S2y4PnBuIDnP01CE1M/4ZRMWOHBcgRECOu5WReNMYFQxdhS9hZPm2yySZJojOiMNDs1YoRIDaJCmGC1UkEAECJPeykIajw0eURBd/3CI8hYxiO44oorJkKSn0YSjZX1XBd9b8rclrGyrWmEBe+6WgbO2EiFMr3clevbuQ7Gm0Y80UXfs+7qY10479Huorxit9/jvcD2g4hZIh8QXnjUyXRNIeSdZKN5PLs8WyyvqGcYzevNrPXsVhrV8wpTRDRJ4tKEpUR1IXhZMoR3PW+9ZY8RIh+I8rv00kuT5GoszeIdhyE/T8HDj+E8jXwhDwFGkTw5aKqvz707/PDD6xq4yfLeSKleStdIXZ4rgXYjoEBvtztme7slQMZ2EqSRDbeIQl2s7WO7L6y4hA/mDQmr1R48zoSbYdWuLKwRY70Yk6vYglBmIsI2a+yFzsSVdYoYFJicIG7yFNqDJ54M8LW2jyJqgdDmWM98rbZgUCDbLsIcrzETFAwDPa0d7q5PCEc+8tTF+EjXczMZInsu3qfYUvYWTxglWFfKWlLGApmOWXfOJJv7WtT4ju13d8czthir6Z7qTIAxPmEUIVy/yIKRhi3iuH9sjZZHlJX9XBfZX+oqc1vGyrZyH3m+0wRmjfajbC93ZYZ4vP4YthA0JAbNkkCu0f7lOT8duxiRaxlBeM/GFKK4ePbYiYEIKcQp0UFpUkaE6fHHH5+8R2ML96/aE12rjrzezOrlUCyPYesxtpFkCVlqZIhtd3o8704EL8tJMGTwDeGnkVws9RJXxi4DIe8HBk1+cACsueaayRhGnDfqBKgXeZOXa/pOYvlRZZ6Q6vp4BmMNTtV1KNAbuUue2+4EFOjtfgdt/2wCiGnC2vLsE10LIx84hEa97WRirMSV23rhFSQUmAQ+qZUcYwBh+nhZENixBW8HdbKFFh+3tOD1bUSgI4wwKDDxY/uoyu3bSHBEGDmTq9jtoyr7Bw+MC3gQ2IMZoZqunY7lkB6PQQVRS2h+5cee0E+MFSxXiC1lbPFU3QbCu9lbGMGE1xyPOmsGmdS3WqkV7lj0xAoBxmQbDzr3Eq8p69zzeNDLeK7LvCdlbstY2W6idsjEX8QWUtTbm15uImUQOazdRejx7sizfKXefWSZD+/BvAUPN7keiFYoomCkYskS7zj6i0BPE3lSPyKXbwuCN7aUFcZcrx14eTHG8u6LLWTLZxzwriBaAaFLlFQj377KNlQby6rbF+OdZ3052yeSz4XcH7zTultCFsuB46u93MyPCHmvdjLEzF/SdvTW2Cj6O5KHo+dIoFkEFOjNIu91CyeA94EJGklR+KlO4BK7fy0J0Op5YmKtxLW8YYCo3m4mT3Zq6kG04EUnbB4vDaF+rG9vVKBTNxb+PfbYI9nLtzoLMVsFpR7U2BvLsgQmVHjO8TDh9Sectog242FF+CPGKz/2/A5vSp6w+TLWGVcyq7WFTfp3/hbrpYm9H7HH1wp3rDUZjJ0IkiSJ55nQdpZobL/99ol3qXpJSGx7y3iuY9vQisfjcWTt8k9/+tNk3XL1+zPP9km95eXmuUg9kYR6E9pblEAvMkQawyNJv4rOo0Ab6W+1R5OoG36fZ5vDZmXqJqEZxqLYZJgYtHmvE0nBN4SlTfShiO9I+rwi9CtL6vVnboERJGuSSOogMor32aabbtqjJzrvu6LM91xvjQ0Fet6773l9gYACvS/cRfuQEKi3jy3W6maXrN4w2snawTwl3bYF0cs+uey/jNcG7w9rChstTPrSteaNZiGmLXj9EXREDlROMIuYWGGgINs+iczS9dx4LMiej9CNSdbVKLes55e5j2/WNsQcV9ZEEFGx5JJLJtsNMZmtFoxpG4vYkzimv719LMYwMjJXZsknWWX1UpNG25VGI1QbJYtKEle0l7tS/CPMEDoYzxBmeSIrqvmVESJNLo0rr7wy8XQXvb94o/e/+vyyvaTV+28zzjDKET2G8CUqIKbwHcEIiBGZnClpKeI7Uq8dfF/Z0o5kbO1UXnjhhbDUUktFN7mssXHiiSd2aUuRXv/oTnqCBJpMQIHe5Bvg5VuXAOIWMcoa7rTg0WPNHeFzrG9mT1SSr7RqQUgTNk4iITwSeBe+9rWvRVn6y+4bHju8XyRtw4OO5x9DQhETK9ZjYrhB9LLenLXy/EuYH6GUZNFvtdJd9mQEDpEAjL12K3kmgpUiqzrCJO1/nkiTdnuuyWSMZ5twZZbcsAUfIbEYnYos9YyHeQ2GaRuL9HJXhs8jyvGYkmOi0VJ2iDTrn9lNAjGKYava6JQ34Vqj/a51Pu8bjJj1osjyXjuNJqvOwk9IPsbl2FwI7HrCeUSQcW4aQYaRr6gQ9+76yjeFpQ/t8m5mCRXfXfZJz5OMlmV07CZCos10a03EdaM5eogwqVdioxbr1effJdCqBBTorXpnbFdmAlnCynips7Y5puCJQdxhxaWQjIe1wGyDRogiFnPWp7OGPE8pepsZ2sCaataZVXrb+HAS6o2Vn2Rp1113XZLRvNVKZRZbEqGRGK3RNej0kQkISecq13MTLo3YiS1pssB0W6Oezr/wwguTtflcK0thdwAKifZ22223Lh421jYiLDE0xHqWsly7rGMamQgiELIUEkDFlLKf65i2ZDmWdaks30GUUpgUYxxkXJclnrK0K8sxZXm5EXeIx3r7JsfsN5+GSOOJ55ktI0SabaS4Z91tDZc34VqWexFzDO8idmUgUVn6Xuru/NilY2k91c8395TopkYjQ/gG8r5HrJMQkncnbWSNd2Velhge6bGVOWT4Xer1Zw7Asgqi1FqlsEUbeUtuvPHGxBDE7gzkj6GtROSwVIh7i1E8tjDHYFlb+h09//zzk8Sm5Agps2Dko/3cW4sE+joBBXpfv8Md0L+y1gSTkIsta/C6UsjijmAknJLCx4gJFQmJ8pQytpmp/HAy0bngggs+8uFkj/VW9BynDNmei+zDhJ8jqldbbbXE619vopjnHsSeQwJCDB5k2yXsmrGBhwbWrJNmLDA+mCASOoiXk/W8WUq6RIMxtsYaa3RZN5ru48s2f5Xhm1nqLfuYMieCZbS97Oe66DYzttgeMM09gCjgd2RIzhOeWt2+epmp0+Njcx+U5eWmPRhJsxgnYpawlBkiXW04JRqC6KtGPY5Fj7W0Pt5F7CFPUruil471ZgTLY489lhiliSDjPUVitquuuio3tlpJ4ngeMdjyzue93SqF54/5C8u8MOqxtp/lbkSqMW9pJCIGAzpr7tn6k4IhhMSH1N1TZvdG2RAJgZMkJhlfo9f0fAk0i4ACvVnkvW7LE2ASTOha6i0luzFeFcJNKWQCR3zl3e+5jG1mmvXhLOtmErXABAsLPYaFVii0gzYxIWPP+sqCh4bt5kjWx3ZPeQrig8l7o96ePNfOc06ZE0HaU3SkSdnPdR6GPZ1Ta8lDkcmTKifUlckf0zblXYNehpe7aLaV9ZUZIt0sj2OZvPLWzZIxvK1lRabVaheCDrGK57URgV69DCT1+pOLpd5+8Xl55T2PyCK+U3yPMObRRtbos+1eowWDMUljKw2ERKRhSMwSXZb3+gr0vOQ8rx0JKNDb8a7Z5l4hwAcOy/vaa68dyAyMN4GPfLo/K+IRKzTr1IssjWwz06wPZyP9J7QUTz/J3ChY5gnNgzeFtW6rr7767MR0jVyr6HPxyhCqSbgx3jAMJFk8e921g5B4BGRRCf2K7m+t+sqcCHK9oiNNmvVc570X9B+DT2VSsZNPPjlZd50+M9SdN9QYYcGexhiGNttss26FBjsrxJQyvNwx1897bBkh0u1oOCUkvF7hXYcIjCntFsFS2Te+zURPVYtx3ttsBclcoVUKYe18m4jwovD+wNNdRKJYjHosX2JJQlrSJKxZ1pHnZaRAz0vO89qRgAK9He+abe4VAqwvR4T//Oc/T9Z0k3mXpGPpljWEYWONnjBhQqHtybvNDI1o1oezEQDVWcvZzgmBmm7bxlZoTDI6JayNyTxrZ2MFUSP3oJFzy5wI0q6iI02a9VznZYy3sZ7Rh7+TdTxPYaLNu41EjSzTQPiz/VPRW4HlaVtvnlNre8OiQqTb0XCKYQhjFuv8u1szz/0hFD6mtFsES2Xf2mmHjeq5QJECmrFBJERlglycF+uvv36StyAtMTkgsowhBXoWSh7TVwgo0PvKnbQfhRN45ZVXkmznJOViL1kmsVtttdXs6+BJJ+MsHt88pehtZmhDsz6cefqfnlO9ZUt1+G6nCXTWzZLfgC2ZSO7X6qXMiWBPfc8baVL2c93q96un9pE/IR1/7BiAUOeniG3LWp1LT3s7Nxoi3Y6G08ocAnjTMdwU8T5qtwiWynHb3Q4bhHaTj6Q6iVwzx3z1XKCWgKZ9eUR0WXl/6iX8JWKNZQadYqxv5vjx2s0noEBv/j2wBS1OAA8eAr06+Qmh7fw+9ajHdqPobWa4flkfzti+xRxfpkCfNGlS4n0khJdCiB/r2REfhA23YsFjxfZ4bF/DZLbSI0F7W2krplpGoSIngj3dn0YiTai3rOe6FcdUbJswipHdmckwBo0ihFlsG3r7+LL2dq71jPC73vA4NsqwMgs/Idxs04nBhvwa9aI6urt2u0Ww0I9UOLKHPXloKj3HiEWM7ey2QDK2VintOBdoxza3yv22HX2PgAK9791Te9QmBMraZqZNuj+7mfU8sI140Ndaa61EiLMnLqG8TKLYXgaPBwlzDjnkkJbDxVZMPZVW2YopbWPZk6oyIk1a7qa3SIMQYSTSIoKDZwXPKc9PJ3jQyxToZT8jvTF8+F6xDOKcc85JjIfsWIGBOra0YwRLev+IovvGN77RZYvOdIcNtsZs1az8sffI4yUggeYTUKA3/x7Ygg4j0JvbzLQD2nqheHhx8EzkCWtbZJFFwr333puIDbZHY29yliywNyx7mpPd1tLaBMqINGntHvdu6yZPnpyILkLbWYPO3sZ4STFkdVJhnB1++OF1RSeGvU4srNFHoPND0lT2/c4j0FN27RjBgvGUrS6ro5o6cTzYZwlIoFwCCvRy+Vq7BD5CoBnbzLTybSjTu8QEkq3Qhg8fnuxbzl6tbO/DZBPRTvb1IgsCh7XjZDYm0V0jhT3gCeMmlJSQfELfO7EYaVLuXccDSBLGnXbaKXlGSPpXq6y88srlNqTJtSPQWQrT0z7OPIudZNSrDHEnP8Gmm26aLKMizLsToiq6G5JstUkCQcbDJz7xibD44os3efR6eQlIoK8RUKD3tTtqf1qeQDtvM9PycKsayPZs6623XrJ2knWTeNPJjs6/X/va18Lzzz9fSJf+8Ic/JKKcbP+EObJm8YQTTshVN5O/bbbZJtx2223JVnNkUMbbRD/Ye71ya5tcF2iTk4w0yX6jMAatssoq2U+oOLJSaCE4amXs5vd5IlhyNahJJ5UZ4t6kLjV02cokcYhyksQNGTKkoTrb/WSSwLEFKO/h9HnAoPPNb34zsPVh5baH7d5X2y8BCTSXgAK9ufy9egcSaOdtZtrtdiFyybzPxAoPIetrKQceeGASopkng23KAC88YcH8vP3220l48EUXXRS23nrrhjAx2XvqqafCueeeO3urK9Z70v6RI0cme8Z3QjHSpOe7jNGGrR7POOOMwPZDeQV0dYRCd1clYWFfLgr0rncXHssss0wSudNTQrhG3qHtNp5Yf44x7KSTTgprrLFGwoW8DXvttVcgwoT3v0UCEpBAEQQU6EVQtA4JRBBo521mIrrZMociXBDorEdPy7PPPhvmm2++XKGJTMIQRaxl33jjjRPPEmKSdYkIJcLRGyl4YfDIf/azn+1SDRnoiQJgq5lOKEaa1L7L7HeOoQlhxLsEgxA/eZdAsMyDdbVEf5D860tf+lKSr6HTEl4p0LuOt5133jlTpnYMlJ1SeMffcMMN4Qtf+EKXLt95551J2P8777zTKSjspwQkUDIBBXrJgK1eAtUE2nGbGe/iHAJzzz13+NGPfhR+/OMfB/ZsTwtrd4sQ6NTJhK86ZPmvf/1rWGeddVpqr90yx4WRJnPoshSD5FwIc0QAnrxTTz21kPG23377hVNOOSVJDgdzIjTWXXfdJJN7J5Utt9wy2YIRw51FArUIEFFwzTXXhE9/+tNd/sxOExhri1oJmXuOAAAfmElEQVQyJX0JSEACCnTHgAR6mUA7bjPTy4gKuxxbtOEdvPnmmwNru6vX1+YJC2bbKbzoZLlm+zZC0vHOFyXQt9hii8RLjlAieRflhRdeSAQU17n88ssL49PKFRlpMuvuMPFPE3QxBvDUse61qPE2YsSIcMQRRyR5DyhEapBMcerUqT0mTGvlsZOnbXjQiULYddddw3bbbed64jwQ+/g5v/71rxPDFbseEOFDYftOlh+RdwTju0UCEpBAEQQU6EVQtA4J5CDQjtvM5OhmU08h9Jy14t///veTCVX1WkrEcJ5CWDAiHY8mycw23HDDxLPC+sSVVlopT5Wzz5k0aVKgXWSfX3rppZM20we8NldeeWWSaboTipEms+4yERts7bXHHnuE5ZdffvatL0qgk8X9mWeeCUsttdTsugcOHBgef/zxZPx1SrnnnnuS55nnmlB/BBfbzZGc0SIBCGDAefLJJwPZ7fGmU3g3DxgwoMuzye/vv/9+oUlAAhLITUCBnhudJ0pAAq1OoLtw8SLb/cQTTyQTe7wqJIsjYzwZ4pngN1JuuummJJEdXn/WtbM2uJOKkSaz7nalcPzkJz85O2qD6IoillTgjccLWLk7AM8NYbvLLrtsJw25pK+p8Y211Sw1YYvGXXbZJfGSdopxrONuesYOsw961nLooYdmPdTjJCABCXyEgALdQSEBCfRZAghbMl3nTaBVC8z666+fJOhiC7TKMmPGjMSLznZr1113XeJliSkk/8LTzxZwCy64YJdTibZYc801k3XHa621Vky1bX+skSazbuG7776bbO+EMYgwdJZnHHvssYl4rMyFEHvDCe0m0gQvYFquvvrqwDgnKVZaOilbd9pndlNAqGN8mzx5cvjyl78crr322ljEHi8BCUhAAhKIIqBAj8LlwRKQQDsRuPHGG8MxxxwTTjvttMQTVkTJku2Z9e6LL7541OU233zzJJz2hz/8Yc3zyKx96623dswa9Ch4ffhgQmjTpQ5pNx977LHEEMRWfOQrQDheddVVuSiwx3WW0knZuit5EBWDkY+tGWGdJ29FFr4e0x4EGAOXXHJJshUmCRYHDx6chLMvscQSXZaJtEdvbKUEJNCqBBTorXpnbJcEJNAwAZKq4XmcPn16kp2ZdbuV5bXXXou+RhaBHl3pv08gKdr1118/e+/z6joId2ebNQSbpXMIEIKO97aWwQexiLcbr3pegd45JON6evvttydcL7300iRZHpnzWZP+uc99Lq4ij+4zBFj2wVIjtsJkq04MZcstt1wYO3ZseO6555JIC4sEJCCBIggo0IugaB0SkEBLEhg/fnyP7WJdaWxBoLPuvHLNbq06qsPU612HLa5IDDdy5Miah5KciERxrJG1dA6BsgxCnUMwe09J0Mh2dvyQOI9lJYhyxHlluH/2Gj2yLxFAnI8ePTocddRRybISckAg0O++++4k8z+i3SIBCUigCAIK9CIoWocEJNAxBBBM1dngKztPUjf+HhsKy3ZXRx99dNhqq61qsmQNMFvGPf300x3D2o6GoEDvnVHAMgGWkGB423HHHZO1/SussELvXNyrtAUBPOeEs/OurhToeM8ZK2xNaJGABCRQBAEFehEUrUMCEmhZAgjlK664Ijz66KOJcCZxHOu9CVvNUxBMhL2y9rCnss4660RVv+eee4bbbrstTJgwIeBNryx4zVdbbbVkjTpr0S2dQ4Dxdvjhh4f555+/x06zFZslPwHeCXjLN91009zvhvxX98x2IMA6c5YhkXS0UqCT64SxQwSGRQISkEARBBToRVC0DglIoCUJEBa+8cYbhxdeeCHxcODdTvd3JuM6npDYUpZH8+WXX07CJzEckM2d9mJQwLBw8sknJx75NBlRbJs9vn0JMN7Y3qsngxLjxMiK9r3Htrw9CHz3u98NbP940UUXJQZa1qTzXG655ZZh7bXXDscff3x7dMRWSkACLU9Agd7yt8gGSkACeQkgzhHlZGFOPd7//Oc/ww477JCEDiPSY0tZAp12ECq5xx57hBtuuCFpNwXxteGGG4ZTTjmlsEz0sX32+OYRKHO8Na9XXlkC7UfgzTffTAy+Dz/8cHjrrbfCkksumSRwXGONNZKtNc1T0H731BZLoFUJKNBb9c7YLglIoGECTJjYV5zkapWF5D6f//znA1soxZZll102/PnPfw5DhgyJPTXz8f/6178C3n9E+vLLLx/IRm/pTAIK9M687/a6dQnccsstSTTTjBkzwmc+85nwxS9+sXUba8skIIG2JKBAb8vbZqMlIIEsBPCa//73v0+yMVeWP/7xj2GzzTYLebZZGzVqVNhtt93C9ttvr3DOchM8piECCvSG8HmyBBom8Kc//Sn5VnzlK1+ZXRc7hBx66KHJNp6EuJ900klhwIABDV/LCiQgAQlAQIHuOJCABPosAbIx4+k488wzkyRrFCZbCGw8H2ynFFt23333cOGFF4b3338/mZjtuuuuelBiIXp8ZgKMsfPPPz/MN998mc/xQAlIoDgCCPN111037L///kmlf//735PvB9t0fupTnwq/+MUvAt+Fww47rLiLWpMEJNDRBBToHX377bwE+jaB119/PZlEXX311aF///5JZ6dPn55kcUecs21OnsJ2OhdffHE4++yzw+233x6WXnrpZFumnXfeOSyzzDJ5qvQcCdQkgAedrNEYgthrOe+YFa8EJJCPwNChQ5NvyJgxY5IKDjrooOS9f9dddyX/z7cAb/ojjzyS7wKeJQEJSKCKgALdISEBCfR5Ak888USSDZ3CNmsjR44srM/PPPNMOOuss8I555yTZItnPSJb7nzjG98o7BpW1LkE7rnnnmR8kTn6gw8+CF/96leT8cWWexYJSKB8Amx7yTcEQyzlC1/4Qthoo43CwQcfnPz/s88+m+Q5IXGcRQISkEARBBToRVC0DglIoOUJVGZFL6Ox1M/+6IQ64rlnWzSLBIoi8N577yUinaiNO++8M8noT9QGESJsw2aRgATKITBs2LBw7rnnJlupTZs2LSy88MKJRz1NDkfI+zrrrJMrp0k5LbZWCUig3Qko0Nv9Dtp+CUigRwKsPz/uuOMSDwiFrOh77713EjJcVLn11lsT4XTZZZeFueeeO2yzzTbh1FNPLap665FAFwJPPfVUMt6I2mCbpy9/+cvh2muvlZIEJFACAYyuiPCf//zn4YorrggkiHvxxRfDPPPMk1yNbTzZA33ChAklXN0qJSCBTiSgQO/Eu26fJdAhBMaOHZuI8z333DPZq5ZCyPAvf/nLsNdee4XDDz88N4mJEycm69j5IcRxrbXWSkKPv/71r4eBAwfmrtcTJZCFAFsEIgwOPPBAIzayAPMYCeQk8MorryRLS9j9Y/75508E+lZbbTW7Njzpn/vc58IRRxyR8wqeJgEJSKArAQW6I0ICEuizBBZddNFk+5ttt922Sx8vuOCCRLS/+uqr0X0nozbeS7zmSyyxRCBTPMK8yHXt0Y3yhI4hQHIq1qSznGKuueZKch0w/hAIFglIoDwCb7zxRiLQee4qC1uw8fvUo15eC6xZAhLoFAIK9E650/ZTAh1IYJFFFgn33XdfEtZeWR5//PFk2zXWiscWJmGbbLJJIoo23njjQJZtiwTKJDBp0qTZ0RokJVxzzTVnJyIcNGhQmZe2bglIQAISkIAEepmAAr2XgXs5CUig9wjgJWd7tWOPPbbLRffdd99A0q2TTz45ujFTpkwJiy++ePR5niCBPARYX060xmKLLZZEa5AYboUVVshTledIQAISkIAEJNAGBBTobXCTbKIEJJCPAAKdRFpsj5OGAN97770BjyRiJ90bndqrRXy+K3qWBIolsPnmmyfe8k033fQjobXFXsnaJCABCUhAAhJoBQIK9Fa4C7ZBAhIohUDWvaL79esXbrnlllLaYKUSkIAEJCABCUhAAhLISkCBnpWUx0lAAhKQgAQkIAEJSEACEpCABEokoEAvEa5VS0ACEpCABCQgAQlIQAISkIAEshJQoGcl5XESkIAEKggst9xyYcKECWHIkCFduJAZfvTo0eHpp5+WlwQkIAEJSEACEpCABKIIKNCjcHmwBCQggVkE2F7tpZde+khG95dffjkss8wy4f333xeVBCQgAQlIQAISkIAEoggo0KNwebAEJNDpBK666qoEwZZbbhnGjx8fFlpoodlIPvzww3DzzTeHm266KTz22GOdjsr+S0ACEpCABCQgAQlEElCgRwLzcAlIoLMJ4DmnkPl95syZXWCwbdvw4cPDMccck2yLZZGABCQgAQlIQAISkEAMAQV6DC2PlYAEJPAfAssuu2yyBn3RRReViQQkIAEJSEACEpCABAohoEAvBKOVSEACEpCABCQgAQlIQAISkIAEGiOgQG+Mn2dLQAIdTID15vxMmTIlzJgxowuJs846q4PJ2HUJSEACEpCABCQggTwEFOh5qHmOBCTQ8QTGjRsXfvKTn4QxY8aEoUOHJmvSK8vll1/e8YwEIAEJSEACEpCABCQQR0CBHsfLoyUgAQkkBBDlRx11VPjWt74lEQlIQAISkIAEJCABCRRCQIFeCEYrkYAEOo3AkCFDwn333RdGjBjRaV23vxKQgAQkIAEJSEACJRFQoJcE1molIIG+TWD//fcP888/fxg7dmzf7qi9k4AEJCABCUhAAhLoNQIK9F5D7YUkIIG+RGCvvfYK55xzTlh55ZWTH/ZAryzHHntsX+qufZGABCQgAQlIQAIS6AUCCvRegOwlJCCBvkdgvfXW67ZTJIy75ZZb+l6n7ZEEJCABCUhAAhKQQKkEFOil4rVyCUhAAhKQgAQkIAEJSEACEpBANgIK9GycPEoCEpCABCQgAQlIQAISkIAEJFAqAQV6qXitXAIS6MsEJkyYEC6++OIwceLEMG3atC5dveyyy/py1+2bBCQgAQlIQAISkEAJBBToJUC1SglIoO8T+N3vfhd23HHHsMEGG4Sbbrop+feJJ54IL730Uthqq63C2Wef3fch2EMJSEACEpCABCQggUIJKNALxWllEpBApxAgc/vuu+8evve974UFFlggPPjgg2HZZZdNfjd06NAwbty4TkFhPyUgAQlIQAISkIAECiKgQC8IpNVIQAKdRWDQoEHh4YcfDsOHDw+LLrpouPXWW8OnP/3p8Oijj4b1118/TJ48ubOA2FsJSEACEpCABCQggYYJKNAbRmgFEpBAJxJYeumlw7XXXpuI8lGjRoUDDjggbLvttuGee+4JG220UXjjjTc6EYt9loAEJCABCUhAAhJogIACvQF4nioBCXQuge222y6MGTMm7LPPPuGII44IJ5xwQthiiy2S9eijR48OJonr3LFhzyUgAQlIQAISkEBeAgr0vOQ8TwIS6GgCr732Wpg6dWpYcsklw4wZM8LRRx8d7rrrrjBy5MgwduzYsMgii3Q0HzsvAQlIQAISkIAEJBBPQIEez8wzJCABCUhAAhKQgAQkIAEJSEAChRNQoBeO1AolIAEJSEACEpCABCQgAQlIQALxBBTo8cw8QwISkIAEJCABCUhAAhKQgAQkUDgBBXrhSK1QAhKQgAQkIAEJSEACEpCABCQQT0CBHs/MMyQgAQlIQAISkIAEJCABCUhAAoUTUKAXjtQKJSCBvk5g+vTpYd555w0PPPBAWGmllfp6d+2fBCQgAQlIQAISkEAvEVCg9xJoLyMBCfQtAiNGjEj2Oh81alTf6pi9kYAEJCABCUhAAhJoGgEFetPQe2EJSKCdCZx99tnh4osvDuedd14YPHhwO3fFtktAAhKQgAQkIAEJtAgBBXqL3AibIQEJtBeBVVddNTz55JPhgw8+CMOGDQuDBg3q0oH777+/vTpkayUgAQlIQAISkIAEmk5Agd70W2ADJCCBdiQwbty4Hpt96KGHtmO3bLMEJCABCUhAAhKQQBMJKNCbCN9LS0ACEpCABCQgAQlIQAISkIAEUgIKdMeCBCQgAQlIQAISkIAEJCABCUigBQgo0FvgJtgECUig/Qh8+OGH4bjjjgsXXXRRmDhxYpg2bVqXTrz22mvt1ylbLAEJSEACEpCABCTQVAIK9Kbi9+ISkEC7EjjkkEPCGWecEfbZZ58wduzYcNBBB4Vnn302XHHFFYG//eAHP2jXrtluCUhAAhKQgAQkIIEmEVCgNwm8l5WABNqbAPugn3jiiWGTTTYJCyywQHjggQdC+rt77703nH/++e3dQVsvAQlIQAISkIAEJNDrBBTovY7cC0pAAn2BANuqPfroo2GZZZYJQ4cODddcc00YPXp0ePrppwNbsL3xxht9oZv2QQISkIAEJCABCUigFwko0HsRtpeSgAT6DoEVVlghnHPOOWH11VcPa621VuJJP+CAA8KFF14Y9txzzzBlypS+01l7IgEJSEACEpCABCTQKwQU6L2C2YtIQAJ9jQBifMEFFwwHHnhguOSSS8K2224bhg8fniSM++EPfxh+9rOf9bUu2x8JSEACEpCABCQggZIJKNBLBmz1EpBAZxBg3fndd98dRo4cGTbffPPO6LS9lIAEJCABCUhAAhIolIACvVCcViYBCUhAAhKQgAQkIAEJSEACEshHQIGej5tnSUACEgjnnntuOPXUU8MzzzwT7rnnnjBs2LBw/PHHh2WXXTZsscUWEpKABCQgAQlIQAISkEAUAQV6FC4PloAEJDCLwK9+9atkv/O99947HHHEEeGhhx4Kyy23XPjNb34Txo8fH2699VZRSUACEpCABCQgAQlIIIqAAj0KlwdLQAISmEVgxRVXDD/96U/DlltumeyD/uCDDyYCHaG+7rrrhldffVVUEpCABCQgAQlIQAISiCKgQI/C5cESkIAEZhEYOHBg+Mc//pGEtVcK9CeeeCKsvPLK4b333hOVBCQgAQlIQAISkIAEoggo0KNwebAEJCCBWQTwoB955JHJWvNKgX7iiScmIe5/+ctfRCUBCUhAAhKQgAQkIIEoAgr0KFweLAEJSGAWgbPPPjuMHTs2HHPMMeE73/lOOOOMM8JTTz2ViHb+e5ttthGVBCQgAQlIQAISkIAEoggo0KNwebAEJCCBOQROP/30cPjhh4dJkyYlv1xqqaXCYYcdlgh2iwQkIAEJSEACEpCABGIJKNBjiXm8BCQggSoCJISbMWNGWHzxxWUjAQlIQAISkIAEJCCB3AQU6LnReaIEJCABCUhAAhKQgAQkIAEJSKA4Agr04lhakwQk0EEEXn755bDvvvuGm2++OUyZMiXMnDmzS+8//PDDDqJhVyUgAQlIQAISkIAEiiCgQC+ConVIQAIdR+ArX/lKmDhxYvj+978fhg4dGvr169eFAdndLRKQgAQkIAEJSEACEoghoECPoeWxEpCABP5DgK3V7rzzzrDKKqvIRAISkIAEJCABCUhAAoUQUKAXgtFKJCCBTiPAPui//e1vw6qrrtppXbe/EpCABCQgAQlIQAIlEVCglwTWaiUggb5N4MYbb0z2QD/ttNPC8OHD+3Zn7Z0EJCABCUhAAhKQQK8QUKD3CmYvIgEJ9DUCiyyySHj33XfD9OnTw3zzzRf69+/fpYuvvfZaX+uy/ZGABCQgAQlIQAISKJmAAr1kwFYvAQn0TQLjx4/vsWM77bRT3+y4vZKABCQgAQlIQAISKI2AAr00tFYsAQlIQAISkIAEJCABCUhAAhLITkCBnp2VR0pAAhKQgAQkIAEJSEACEpCABEojoEAvDa0VS0ACEpCABCQgAQlIQAISkIAEshNQoGdn5ZESkIAEJCABCUhAAhKQgAQkIIHSCCjQS0NrxRKQgAQkIAEJSEACEpCABCQggewEFOjZWXmkBCQggYQAW6vNO++84YEHHggrrbSSVCQgAQlIQAISkIAEJFAIAQV6IRitRAIS6DQCI0aMCJdddlkYNWpUp3Xd/kpAAhKQgAQkIAEJlERAgV4SWKuVgAT6NoGzzz47XHzxxeG8884LgwcP7tudtXcSkIAEJCABCUhAAr1CQIHeK5i9iAQk0NcIrLrqquHJJ58MH3zwQRg2bFgYNGhQly7ef//9fa3L9kcCEpCABCQgAQlIoGQCCvSSAVu9BCTQNwmMGzeux44deuihfbPj9koCEpCABCQgAQlIoDQCCvTS0FqxBCQgAQlIQAISkIAEJCABCUggOwEFenZWHikBCUigC4HXX389XHLJJeGpp54K++23X7IWndD2JZZYIiy11FLSkoAEJCABCUhAAhKQQBQBBXoULg+WgAQkMIvA3/72t/ClL30pLLTQQuHZZ58Njz32WFhuueXC2LFjw3PPPRfOOeccUUlAAhKQgAQkIAEJSCCKgAI9CpcHS0ACEphFAHE+evTocNRRR4UFFlggPPjgg4lAv/vuu8N2222XiHaLBCQgAQlIQAISkIAEYggo0GNoeawEJCCB/xDAc044O/uhVwp0vOcrrLBCmDp1qqwkIAEJSEACEpCABCQQRUCBHoXLgyUgAQnMIsA68+uvvz6w3VqlQL/xxhvDd77znTBp0iRRSUACEpCABCQgAQlIIIqAAj0KlwdLQAISmEXgu9/9bnjllVfCRRddlCSHY036XHPNFbbccsuw9tprh+OPP15UEpCABCQgAQlIQAISiCKgQI/C5cESkIAEZhF48803w8Ybbxwefvjh8NZbb4Ull1wyvPTSS2GNNdYI1157bRg0aJCoJCABCUhAAhKQgAQkEEVAgR6Fy4MlIAEJdCVwyy23JGvRZ8yYkSSNI3mcRQISkIAEJCABCUhAAnkIKNDzUPMcCUhAAhKQgAQkIAEJSEACEpBAwQQU6AUDtToJSKBzCNx8882BnylTpiQe9Mpy1llndQ4IeyoBCUhAAhKQgAQkUAgBBXohGK1EAhLoNALjxo0LP/nJT8KYMWPC0KFDQ79+/boguPzyyzsNif2VgAQkIAEJSEACEmiQgAK9QYCeLgEJdCYBRPlRRx0VvvWtb3UmAHstAQlIQAISkIAEJFA4AQV64UitUAIS6AQCQ4YMCffdd18YMWJEJ3TXPkpAAhKQgAQkIAEJ9AIBBXovQPYSEpBA3yOw//77h/nnnz+MHTu273XOHklAAhKQgAQkIAEJNIWAAr0p2L2oBCTQjgT22Wef2c0mKdz48ePDyiuvnPz079+/S5eOPfbYduyibZaABCQgAQlIQAISaCIBBXoT4XtpCUigvQist956mRt86623Zj7WAyUgAQlIQAISkIAEJAABBbrjQAISkIAEJCABCUhAAhKQgAQk0AIEFOgtcBNsggQk0H4Edtlll3DCCSeEBRZYoEvj33nnnbDnnnsG90Fvv3tqiyUgAQlIQAISkECzCSjQm30HvL4EJNCWBOaaa64wefLksPjii3dp/6uvvho+/vGPh+nTp7dlv2y0BCQgAQlIQAISkEDzCCjQm8feK0tAAm1I4M033wwzZ84MiyyySHjiiSfCYostNrsXH374Ybj66qvDAQccEF588cU27J1NloAEJCABCUhAAhJoJgEFejPpe20JSKDtCHzsYx8L/fr167bd/G3cuHHhoIMOaru+2WAJSEACEpCABCQggeYSUKA3l79Xl4AE2ozA7bffnnjQ119//XDppZeGwYMHz+7BPPPME4YNGxaWXHLJNuuVzZWABCQgAQlIQAISaAUCCvRWuAu2QQISaDsCzz33XFh66aUDHnWLBCQgAQlIQAISkIAEiiCgQC+ConVIQAIdSeD1118PZ555Znj00UeTsPcVV1wxkN19oYUW6kgedloCEpCABCQgAQlIoDECCvTG+Hm2BCTQoQT+/Oc/hw033DAMHDgwrLbaaknYO7977733wo033hhGjx7doWTstgQkIAEJSEACEpBAXgIK9LzkPE8CEuhoAmuttVYYOXJkOP3008Pcc8+dsGBrtV133TU8/fTT4Y477uhoPnZeAhKQgAQkIAEJSCCegAI9nplnSEACEkg853/961/DJz/5yS40HnnkkTBmzJjw7rvvSkkCEpCABCQgAQlIQAJRBBToUbg8WAISkMAsAksssUQ499xzwwYbbNAFyQ033BB23HHH8PLLL4tKAhKQgAQkIAEJSEACUQQU6FG4PFgCEpDALAI/+MEPwuWXXx6OPvrosOaaayZJ4u66666w3377ha233jocf/zxopKABCQgAQlIQAISkEAUAQV6FC4PloAEJDCLwLRp0xIxfuqppyZrzyn9+/cPe+yxR/jZz34WBgwYICoJSEACEpCABCQgAQlEEVCgR+HyYAlIQAJdCbDW/KmnnkqyuJM0br755hORBCQgAQlIQAISkIAEchFQoOfC5kkSkIAEJCABCUhAAhKQgAQkIIFiCSjQi+VpbRKQgAQkIAEJSEACEpCABCQggVwEFOi5sHmSBCQgAQlIQAISkIAEJCABCUigWAIK9GJ5WpsEJCABCUhAAhKQgAQkIAEJSCAXAQV6LmyeJAEJSEACEpCABCQgAQlIQAISKJaAAr1YntYmAQlIQAISkIAEJCABCUhAAhLIRUCBngubJ0lAAhKQgAQkIAEJSEACEpCABIoloEAvlqe1SUACEpCABCQgAQlIQAISkIAEchFQoOfC5kkSkIAEJCABCUhAAhKQgAQkIIFiCSjQi+VpbRKQgAQkIAEJSEACEpCABCQggVwEFOi5sHmSBCQgAQlIQAISkIAEJCABCUigWAIK9GJ5WpsEJCABCUhAAhKQgAQkIAEJSCAXAQV6LmyeJAEJSEACEpCABCQgAQlIQAISKJaAAr1YntYmAQlIQAISkIAEJCABCUhAAhLIReD/A9o9OcyhnVNEAAAAAElFTkSuQmCC\" width=\"1000\">"
      ],
      "text/plain": [
       "<IPython.core.display.HTML object>"
      ]
     },
     "metadata": {},
     "output_type": "display_data"
    },
    {
     "name": "stderr",
     "output_type": "stream",
     "text": [
      "C:\\ProgramData\\Anaconda3\\lib\\site-packages\\seaborn\\matrix.py:625: ClusterWarning:\n",
      "\n",
      "scipy.cluster: The symmetric non-negative hollow observation matrix looks suspiciously like an uncondensed distance matrix\n",
      "\n"
     ]
    }
   ],
   "source": [
    "shuffle_umap_distances_means_df = pandas.DataFrame(shuffle_umap_distances_means,index=cols,columns=cols)\n",
    "cm = seaborn.clustermap(shuffle_umap_distances_means_df)\n",
    "cm.fig.suptitle(\"shuffled average umap relative distance\")\n",
    "plt.savefig(\"figures/66t.shuffled.Numaps.hierclusters.\"+writebatch+\".png\")\n",
    "plt.savefig(\"figures/66t.shuffled.Numaps.hierclusters.\"+writebatch+\".svg\")"
   ]
  },
  {
   "cell_type": "code",
   "execution_count": 33,
   "metadata": {},
   "outputs": [],
   "source": [
    "region_order = ['Cortex','NAcMed','NAcLat','NAcCore','DStr','GP',\n",
    "                'PO','Septum','BNST','PVN','LH','LDT','VP','EAM',\n",
    "                'LHb','MHb','DR','EP','CeA','ZI','PBN','DCN']"
   ]
  },
  {
   "cell_type": "code",
   "execution_count": 34,
   "metadata": {},
   "outputs": [],
   "source": [
    "region_order = ['PO','Septum','VP','LDT','LHb','EAM','PVN','MHb','DR','BNST','LH',\n",
    "                'Cortex','GP','NAcMed','NAcCore','NAcLat','DStr','DCN',\n",
    "                'EP','ZI','CeA','PBN']"
   ]
  },
  {
   "cell_type": "code",
   "execution_count": 35,
   "metadata": {},
   "outputs": [],
   "source": [
    "corrected_order = []\n",
    "\n",
    "for r in region_order:\n",
    "    if r in og_regions:\n",
    "        corrected_order.append(numpy.where(numpy.array(og_regions)==r)[0][0])\n",
    "    else:\n",
    "        print(r)"
   ]
  },
  {
   "cell_type": "code",
   "execution_count": 36,
   "metadata": {},
   "outputs": [],
   "source": [
    "idx = corrected_order\n",
    "rearrange = shuffle_umap_distances_means[idx,:]\n",
    "rearrange = rearrange[:,idx]\n",
    "regions = [og_regions[i] for i in idx]"
   ]
  },
  {
   "cell_type": "code",
   "execution_count": 37,
   "metadata": {},
   "outputs": [
    {
     "data": {
      "application/javascript": [
       "/* Put everything inside the global mpl namespace */\n",
       "/* global mpl */\n",
       "window.mpl = {};\n",
       "\n",
       "mpl.get_websocket_type = function () {\n",
       "    if (typeof WebSocket !== 'undefined') {\n",
       "        return WebSocket;\n",
       "    } else if (typeof MozWebSocket !== 'undefined') {\n",
       "        return MozWebSocket;\n",
       "    } else {\n",
       "        alert(\n",
       "            'Your browser does not have WebSocket support. ' +\n",
       "                'Please try Chrome, Safari or Firefox ≥ 6. ' +\n",
       "                'Firefox 4 and 5 are also supported but you ' +\n",
       "                'have to enable WebSockets in about:config.'\n",
       "        );\n",
       "    }\n",
       "};\n",
       "\n",
       "mpl.figure = function (figure_id, websocket, ondownload, parent_element) {\n",
       "    this.id = figure_id;\n",
       "\n",
       "    this.ws = websocket;\n",
       "\n",
       "    this.supports_binary = this.ws.binaryType !== undefined;\n",
       "\n",
       "    if (!this.supports_binary) {\n",
       "        var warnings = document.getElementById('mpl-warnings');\n",
       "        if (warnings) {\n",
       "            warnings.style.display = 'block';\n",
       "            warnings.textContent =\n",
       "                'This browser does not support binary websocket messages. ' +\n",
       "                'Performance may be slow.';\n",
       "        }\n",
       "    }\n",
       "\n",
       "    this.imageObj = new Image();\n",
       "\n",
       "    this.context = undefined;\n",
       "    this.message = undefined;\n",
       "    this.canvas = undefined;\n",
       "    this.rubberband_canvas = undefined;\n",
       "    this.rubberband_context = undefined;\n",
       "    this.format_dropdown = undefined;\n",
       "\n",
       "    this.image_mode = 'full';\n",
       "\n",
       "    this.root = document.createElement('div');\n",
       "    this.root.setAttribute('style', 'display: inline-block');\n",
       "    this._root_extra_style(this.root);\n",
       "\n",
       "    parent_element.appendChild(this.root);\n",
       "\n",
       "    this._init_header(this);\n",
       "    this._init_canvas(this);\n",
       "    this._init_toolbar(this);\n",
       "\n",
       "    var fig = this;\n",
       "\n",
       "    this.waiting = false;\n",
       "\n",
       "    this.ws.onopen = function () {\n",
       "        fig.send_message('supports_binary', { value: fig.supports_binary });\n",
       "        fig.send_message('send_image_mode', {});\n",
       "        if (fig.ratio !== 1) {\n",
       "            fig.send_message('set_device_pixel_ratio', {\n",
       "                device_pixel_ratio: fig.ratio,\n",
       "            });\n",
       "        }\n",
       "        fig.send_message('refresh', {});\n",
       "    };\n",
       "\n",
       "    this.imageObj.onload = function () {\n",
       "        if (fig.image_mode === 'full') {\n",
       "            // Full images could contain transparency (where diff images\n",
       "            // almost always do), so we need to clear the canvas so that\n",
       "            // there is no ghosting.\n",
       "            fig.context.clearRect(0, 0, fig.canvas.width, fig.canvas.height);\n",
       "        }\n",
       "        fig.context.drawImage(fig.imageObj, 0, 0);\n",
       "    };\n",
       "\n",
       "    this.imageObj.onunload = function () {\n",
       "        fig.ws.close();\n",
       "    };\n",
       "\n",
       "    this.ws.onmessage = this._make_on_message_function(this);\n",
       "\n",
       "    this.ondownload = ondownload;\n",
       "};\n",
       "\n",
       "mpl.figure.prototype._init_header = function () {\n",
       "    var titlebar = document.createElement('div');\n",
       "    titlebar.classList =\n",
       "        'ui-dialog-titlebar ui-widget-header ui-corner-all ui-helper-clearfix';\n",
       "    var titletext = document.createElement('div');\n",
       "    titletext.classList = 'ui-dialog-title';\n",
       "    titletext.setAttribute(\n",
       "        'style',\n",
       "        'width: 100%; text-align: center; padding: 3px;'\n",
       "    );\n",
       "    titlebar.appendChild(titletext);\n",
       "    this.root.appendChild(titlebar);\n",
       "    this.header = titletext;\n",
       "};\n",
       "\n",
       "mpl.figure.prototype._canvas_extra_style = function (_canvas_div) {};\n",
       "\n",
       "mpl.figure.prototype._root_extra_style = function (_canvas_div) {};\n",
       "\n",
       "mpl.figure.prototype._init_canvas = function () {\n",
       "    var fig = this;\n",
       "\n",
       "    var canvas_div = (this.canvas_div = document.createElement('div'));\n",
       "    canvas_div.setAttribute(\n",
       "        'style',\n",
       "        'border: 1px solid #ddd;' +\n",
       "            'box-sizing: content-box;' +\n",
       "            'clear: both;' +\n",
       "            'min-height: 1px;' +\n",
       "            'min-width: 1px;' +\n",
       "            'outline: 0;' +\n",
       "            'overflow: hidden;' +\n",
       "            'position: relative;' +\n",
       "            'resize: both;'\n",
       "    );\n",
       "\n",
       "    function on_keyboard_event_closure(name) {\n",
       "        return function (event) {\n",
       "            return fig.key_event(event, name);\n",
       "        };\n",
       "    }\n",
       "\n",
       "    canvas_div.addEventListener(\n",
       "        'keydown',\n",
       "        on_keyboard_event_closure('key_press')\n",
       "    );\n",
       "    canvas_div.addEventListener(\n",
       "        'keyup',\n",
       "        on_keyboard_event_closure('key_release')\n",
       "    );\n",
       "\n",
       "    this._canvas_extra_style(canvas_div);\n",
       "    this.root.appendChild(canvas_div);\n",
       "\n",
       "    var canvas = (this.canvas = document.createElement('canvas'));\n",
       "    canvas.classList.add('mpl-canvas');\n",
       "    canvas.setAttribute('style', 'box-sizing: content-box;');\n",
       "\n",
       "    this.context = canvas.getContext('2d');\n",
       "\n",
       "    var backingStore =\n",
       "        this.context.backingStorePixelRatio ||\n",
       "        this.context.webkitBackingStorePixelRatio ||\n",
       "        this.context.mozBackingStorePixelRatio ||\n",
       "        this.context.msBackingStorePixelRatio ||\n",
       "        this.context.oBackingStorePixelRatio ||\n",
       "        this.context.backingStorePixelRatio ||\n",
       "        1;\n",
       "\n",
       "    this.ratio = (window.devicePixelRatio || 1) / backingStore;\n",
       "\n",
       "    var rubberband_canvas = (this.rubberband_canvas = document.createElement(\n",
       "        'canvas'\n",
       "    ));\n",
       "    rubberband_canvas.setAttribute(\n",
       "        'style',\n",
       "        'box-sizing: content-box; position: absolute; left: 0; top: 0; z-index: 1;'\n",
       "    );\n",
       "\n",
       "    // Apply a ponyfill if ResizeObserver is not implemented by browser.\n",
       "    if (this.ResizeObserver === undefined) {\n",
       "        if (window.ResizeObserver !== undefined) {\n",
       "            this.ResizeObserver = window.ResizeObserver;\n",
       "        } else {\n",
       "            var obs = _JSXTOOLS_RESIZE_OBSERVER({});\n",
       "            this.ResizeObserver = obs.ResizeObserver;\n",
       "        }\n",
       "    }\n",
       "\n",
       "    this.resizeObserverInstance = new this.ResizeObserver(function (entries) {\n",
       "        var nentries = entries.length;\n",
       "        for (var i = 0; i < nentries; i++) {\n",
       "            var entry = entries[i];\n",
       "            var width, height;\n",
       "            if (entry.contentBoxSize) {\n",
       "                if (entry.contentBoxSize instanceof Array) {\n",
       "                    // Chrome 84 implements new version of spec.\n",
       "                    width = entry.contentBoxSize[0].inlineSize;\n",
       "                    height = entry.contentBoxSize[0].blockSize;\n",
       "                } else {\n",
       "                    // Firefox implements old version of spec.\n",
       "                    width = entry.contentBoxSize.inlineSize;\n",
       "                    height = entry.contentBoxSize.blockSize;\n",
       "                }\n",
       "            } else {\n",
       "                // Chrome <84 implements even older version of spec.\n",
       "                width = entry.contentRect.width;\n",
       "                height = entry.contentRect.height;\n",
       "            }\n",
       "\n",
       "            // Keep the size of the canvas and rubber band canvas in sync with\n",
       "            // the canvas container.\n",
       "            if (entry.devicePixelContentBoxSize) {\n",
       "                // Chrome 84 implements new version of spec.\n",
       "                canvas.setAttribute(\n",
       "                    'width',\n",
       "                    entry.devicePixelContentBoxSize[0].inlineSize\n",
       "                );\n",
       "                canvas.setAttribute(\n",
       "                    'height',\n",
       "                    entry.devicePixelContentBoxSize[0].blockSize\n",
       "                );\n",
       "            } else {\n",
       "                canvas.setAttribute('width', width * fig.ratio);\n",
       "                canvas.setAttribute('height', height * fig.ratio);\n",
       "            }\n",
       "            canvas.setAttribute(\n",
       "                'style',\n",
       "                'width: ' + width + 'px; height: ' + height + 'px;'\n",
       "            );\n",
       "\n",
       "            rubberband_canvas.setAttribute('width', width);\n",
       "            rubberband_canvas.setAttribute('height', height);\n",
       "\n",
       "            // And update the size in Python. We ignore the initial 0/0 size\n",
       "            // that occurs as the element is placed into the DOM, which should\n",
       "            // otherwise not happen due to the minimum size styling.\n",
       "            if (fig.ws.readyState == 1 && width != 0 && height != 0) {\n",
       "                fig.request_resize(width, height);\n",
       "            }\n",
       "        }\n",
       "    });\n",
       "    this.resizeObserverInstance.observe(canvas_div);\n",
       "\n",
       "    function on_mouse_event_closure(name) {\n",
       "        return function (event) {\n",
       "            return fig.mouse_event(event, name);\n",
       "        };\n",
       "    }\n",
       "\n",
       "    rubberband_canvas.addEventListener(\n",
       "        'mousedown',\n",
       "        on_mouse_event_closure('button_press')\n",
       "    );\n",
       "    rubberband_canvas.addEventListener(\n",
       "        'mouseup',\n",
       "        on_mouse_event_closure('button_release')\n",
       "    );\n",
       "    rubberband_canvas.addEventListener(\n",
       "        'dblclick',\n",
       "        on_mouse_event_closure('dblclick')\n",
       "    );\n",
       "    // Throttle sequential mouse events to 1 every 20ms.\n",
       "    rubberband_canvas.addEventListener(\n",
       "        'mousemove',\n",
       "        on_mouse_event_closure('motion_notify')\n",
       "    );\n",
       "\n",
       "    rubberband_canvas.addEventListener(\n",
       "        'mouseenter',\n",
       "        on_mouse_event_closure('figure_enter')\n",
       "    );\n",
       "    rubberband_canvas.addEventListener(\n",
       "        'mouseleave',\n",
       "        on_mouse_event_closure('figure_leave')\n",
       "    );\n",
       "\n",
       "    canvas_div.addEventListener('wheel', function (event) {\n",
       "        if (event.deltaY < 0) {\n",
       "            event.step = 1;\n",
       "        } else {\n",
       "            event.step = -1;\n",
       "        }\n",
       "        on_mouse_event_closure('scroll')(event);\n",
       "    });\n",
       "\n",
       "    canvas_div.appendChild(canvas);\n",
       "    canvas_div.appendChild(rubberband_canvas);\n",
       "\n",
       "    this.rubberband_context = rubberband_canvas.getContext('2d');\n",
       "    this.rubberband_context.strokeStyle = '#000000';\n",
       "\n",
       "    this._resize_canvas = function (width, height, forward) {\n",
       "        if (forward) {\n",
       "            canvas_div.style.width = width + 'px';\n",
       "            canvas_div.style.height = height + 'px';\n",
       "        }\n",
       "    };\n",
       "\n",
       "    // Disable right mouse context menu.\n",
       "    this.rubberband_canvas.addEventListener('contextmenu', function (_e) {\n",
       "        event.preventDefault();\n",
       "        return false;\n",
       "    });\n",
       "\n",
       "    function set_focus() {\n",
       "        canvas.focus();\n",
       "        canvas_div.focus();\n",
       "    }\n",
       "\n",
       "    window.setTimeout(set_focus, 100);\n",
       "};\n",
       "\n",
       "mpl.figure.prototype._init_toolbar = function () {\n",
       "    var fig = this;\n",
       "\n",
       "    var toolbar = document.createElement('div');\n",
       "    toolbar.classList = 'mpl-toolbar';\n",
       "    this.root.appendChild(toolbar);\n",
       "\n",
       "    function on_click_closure(name) {\n",
       "        return function (_event) {\n",
       "            return fig.toolbar_button_onclick(name);\n",
       "        };\n",
       "    }\n",
       "\n",
       "    function on_mouseover_closure(tooltip) {\n",
       "        return function (event) {\n",
       "            if (!event.currentTarget.disabled) {\n",
       "                return fig.toolbar_button_onmouseover(tooltip);\n",
       "            }\n",
       "        };\n",
       "    }\n",
       "\n",
       "    fig.buttons = {};\n",
       "    var buttonGroup = document.createElement('div');\n",
       "    buttonGroup.classList = 'mpl-button-group';\n",
       "    for (var toolbar_ind in mpl.toolbar_items) {\n",
       "        var name = mpl.toolbar_items[toolbar_ind][0];\n",
       "        var tooltip = mpl.toolbar_items[toolbar_ind][1];\n",
       "        var image = mpl.toolbar_items[toolbar_ind][2];\n",
       "        var method_name = mpl.toolbar_items[toolbar_ind][3];\n",
       "\n",
       "        if (!name) {\n",
       "            /* Instead of a spacer, we start a new button group. */\n",
       "            if (buttonGroup.hasChildNodes()) {\n",
       "                toolbar.appendChild(buttonGroup);\n",
       "            }\n",
       "            buttonGroup = document.createElement('div');\n",
       "            buttonGroup.classList = 'mpl-button-group';\n",
       "            continue;\n",
       "        }\n",
       "\n",
       "        var button = (fig.buttons[name] = document.createElement('button'));\n",
       "        button.classList = 'mpl-widget';\n",
       "        button.setAttribute('role', 'button');\n",
       "        button.setAttribute('aria-disabled', 'false');\n",
       "        button.addEventListener('click', on_click_closure(method_name));\n",
       "        button.addEventListener('mouseover', on_mouseover_closure(tooltip));\n",
       "\n",
       "        var icon_img = document.createElement('img');\n",
       "        icon_img.src = '_images/' + image + '.png';\n",
       "        icon_img.srcset = '_images/' + image + '_large.png 2x';\n",
       "        icon_img.alt = tooltip;\n",
       "        button.appendChild(icon_img);\n",
       "\n",
       "        buttonGroup.appendChild(button);\n",
       "    }\n",
       "\n",
       "    if (buttonGroup.hasChildNodes()) {\n",
       "        toolbar.appendChild(buttonGroup);\n",
       "    }\n",
       "\n",
       "    var fmt_picker = document.createElement('select');\n",
       "    fmt_picker.classList = 'mpl-widget';\n",
       "    toolbar.appendChild(fmt_picker);\n",
       "    this.format_dropdown = fmt_picker;\n",
       "\n",
       "    for (var ind in mpl.extensions) {\n",
       "        var fmt = mpl.extensions[ind];\n",
       "        var option = document.createElement('option');\n",
       "        option.selected = fmt === mpl.default_extension;\n",
       "        option.innerHTML = fmt;\n",
       "        fmt_picker.appendChild(option);\n",
       "    }\n",
       "\n",
       "    var status_bar = document.createElement('span');\n",
       "    status_bar.classList = 'mpl-message';\n",
       "    toolbar.appendChild(status_bar);\n",
       "    this.message = status_bar;\n",
       "};\n",
       "\n",
       "mpl.figure.prototype.request_resize = function (x_pixels, y_pixels) {\n",
       "    // Request matplotlib to resize the figure. Matplotlib will then trigger a resize in the client,\n",
       "    // which will in turn request a refresh of the image.\n",
       "    this.send_message('resize', { width: x_pixels, height: y_pixels });\n",
       "};\n",
       "\n",
       "mpl.figure.prototype.send_message = function (type, properties) {\n",
       "    properties['type'] = type;\n",
       "    properties['figure_id'] = this.id;\n",
       "    this.ws.send(JSON.stringify(properties));\n",
       "};\n",
       "\n",
       "mpl.figure.prototype.send_draw_message = function () {\n",
       "    if (!this.waiting) {\n",
       "        this.waiting = true;\n",
       "        this.ws.send(JSON.stringify({ type: 'draw', figure_id: this.id }));\n",
       "    }\n",
       "};\n",
       "\n",
       "mpl.figure.prototype.handle_save = function (fig, _msg) {\n",
       "    var format_dropdown = fig.format_dropdown;\n",
       "    var format = format_dropdown.options[format_dropdown.selectedIndex].value;\n",
       "    fig.ondownload(fig, format);\n",
       "};\n",
       "\n",
       "mpl.figure.prototype.handle_resize = function (fig, msg) {\n",
       "    var size = msg['size'];\n",
       "    if (size[0] !== fig.canvas.width || size[1] !== fig.canvas.height) {\n",
       "        fig._resize_canvas(size[0], size[1], msg['forward']);\n",
       "        fig.send_message('refresh', {});\n",
       "    }\n",
       "};\n",
       "\n",
       "mpl.figure.prototype.handle_rubberband = function (fig, msg) {\n",
       "    var x0 = msg['x0'] / fig.ratio;\n",
       "    var y0 = (fig.canvas.height - msg['y0']) / fig.ratio;\n",
       "    var x1 = msg['x1'] / fig.ratio;\n",
       "    var y1 = (fig.canvas.height - msg['y1']) / fig.ratio;\n",
       "    x0 = Math.floor(x0) + 0.5;\n",
       "    y0 = Math.floor(y0) + 0.5;\n",
       "    x1 = Math.floor(x1) + 0.5;\n",
       "    y1 = Math.floor(y1) + 0.5;\n",
       "    var min_x = Math.min(x0, x1);\n",
       "    var min_y = Math.min(y0, y1);\n",
       "    var width = Math.abs(x1 - x0);\n",
       "    var height = Math.abs(y1 - y0);\n",
       "\n",
       "    fig.rubberband_context.clearRect(\n",
       "        0,\n",
       "        0,\n",
       "        fig.canvas.width / fig.ratio,\n",
       "        fig.canvas.height / fig.ratio\n",
       "    );\n",
       "\n",
       "    fig.rubberband_context.strokeRect(min_x, min_y, width, height);\n",
       "};\n",
       "\n",
       "mpl.figure.prototype.handle_figure_label = function (fig, msg) {\n",
       "    // Updates the figure title.\n",
       "    fig.header.textContent = msg['label'];\n",
       "};\n",
       "\n",
       "mpl.figure.prototype.handle_cursor = function (fig, msg) {\n",
       "    fig.rubberband_canvas.style.cursor = msg['cursor'];\n",
       "};\n",
       "\n",
       "mpl.figure.prototype.handle_message = function (fig, msg) {\n",
       "    fig.message.textContent = msg['message'];\n",
       "};\n",
       "\n",
       "mpl.figure.prototype.handle_draw = function (fig, _msg) {\n",
       "    // Request the server to send over a new figure.\n",
       "    fig.send_draw_message();\n",
       "};\n",
       "\n",
       "mpl.figure.prototype.handle_image_mode = function (fig, msg) {\n",
       "    fig.image_mode = msg['mode'];\n",
       "};\n",
       "\n",
       "mpl.figure.prototype.handle_history_buttons = function (fig, msg) {\n",
       "    for (var key in msg) {\n",
       "        if (!(key in fig.buttons)) {\n",
       "            continue;\n",
       "        }\n",
       "        fig.buttons[key].disabled = !msg[key];\n",
       "        fig.buttons[key].setAttribute('aria-disabled', !msg[key]);\n",
       "    }\n",
       "};\n",
       "\n",
       "mpl.figure.prototype.handle_navigate_mode = function (fig, msg) {\n",
       "    if (msg['mode'] === 'PAN') {\n",
       "        fig.buttons['Pan'].classList.add('active');\n",
       "        fig.buttons['Zoom'].classList.remove('active');\n",
       "    } else if (msg['mode'] === 'ZOOM') {\n",
       "        fig.buttons['Pan'].classList.remove('active');\n",
       "        fig.buttons['Zoom'].classList.add('active');\n",
       "    } else {\n",
       "        fig.buttons['Pan'].classList.remove('active');\n",
       "        fig.buttons['Zoom'].classList.remove('active');\n",
       "    }\n",
       "};\n",
       "\n",
       "mpl.figure.prototype.updated_canvas_event = function () {\n",
       "    // Called whenever the canvas gets updated.\n",
       "    this.send_message('ack', {});\n",
       "};\n",
       "\n",
       "// A function to construct a web socket function for onmessage handling.\n",
       "// Called in the figure constructor.\n",
       "mpl.figure.prototype._make_on_message_function = function (fig) {\n",
       "    return function socket_on_message(evt) {\n",
       "        if (evt.data instanceof Blob) {\n",
       "            var img = evt.data;\n",
       "            if (img.type !== 'image/png') {\n",
       "                /* FIXME: We get \"Resource interpreted as Image but\n",
       "                 * transferred with MIME type text/plain:\" errors on\n",
       "                 * Chrome.  But how to set the MIME type?  It doesn't seem\n",
       "                 * to be part of the websocket stream */\n",
       "                img.type = 'image/png';\n",
       "            }\n",
       "\n",
       "            /* Free the memory for the previous frames */\n",
       "            if (fig.imageObj.src) {\n",
       "                (window.URL || window.webkitURL).revokeObjectURL(\n",
       "                    fig.imageObj.src\n",
       "                );\n",
       "            }\n",
       "\n",
       "            fig.imageObj.src = (window.URL || window.webkitURL).createObjectURL(\n",
       "                img\n",
       "            );\n",
       "            fig.updated_canvas_event();\n",
       "            fig.waiting = false;\n",
       "            return;\n",
       "        } else if (\n",
       "            typeof evt.data === 'string' &&\n",
       "            evt.data.slice(0, 21) === 'data:image/png;base64'\n",
       "        ) {\n",
       "            fig.imageObj.src = evt.data;\n",
       "            fig.updated_canvas_event();\n",
       "            fig.waiting = false;\n",
       "            return;\n",
       "        }\n",
       "\n",
       "        var msg = JSON.parse(evt.data);\n",
       "        var msg_type = msg['type'];\n",
       "\n",
       "        // Call the  \"handle_{type}\" callback, which takes\n",
       "        // the figure and JSON message as its only arguments.\n",
       "        try {\n",
       "            var callback = fig['handle_' + msg_type];\n",
       "        } catch (e) {\n",
       "            console.log(\n",
       "                \"No handler for the '\" + msg_type + \"' message type: \",\n",
       "                msg\n",
       "            );\n",
       "            return;\n",
       "        }\n",
       "\n",
       "        if (callback) {\n",
       "            try {\n",
       "                // console.log(\"Handling '\" + msg_type + \"' message: \", msg);\n",
       "                callback(fig, msg);\n",
       "            } catch (e) {\n",
       "                console.log(\n",
       "                    \"Exception inside the 'handler_\" + msg_type + \"' callback:\",\n",
       "                    e,\n",
       "                    e.stack,\n",
       "                    msg\n",
       "                );\n",
       "            }\n",
       "        }\n",
       "    };\n",
       "};\n",
       "\n",
       "// from https://stackoverflow.com/questions/1114465/getting-mouse-location-in-canvas\n",
       "mpl.findpos = function (e) {\n",
       "    //this section is from http://www.quirksmode.org/js/events_properties.html\n",
       "    var targ;\n",
       "    if (!e) {\n",
       "        e = window.event;\n",
       "    }\n",
       "    if (e.target) {\n",
       "        targ = e.target;\n",
       "    } else if (e.srcElement) {\n",
       "        targ = e.srcElement;\n",
       "    }\n",
       "    if (targ.nodeType === 3) {\n",
       "        // defeat Safari bug\n",
       "        targ = targ.parentNode;\n",
       "    }\n",
       "\n",
       "    // pageX,Y are the mouse positions relative to the document\n",
       "    var boundingRect = targ.getBoundingClientRect();\n",
       "    var x = e.pageX - (boundingRect.left + document.body.scrollLeft);\n",
       "    var y = e.pageY - (boundingRect.top + document.body.scrollTop);\n",
       "\n",
       "    return { x: x, y: y };\n",
       "};\n",
       "\n",
       "/*\n",
       " * return a copy of an object with only non-object keys\n",
       " * we need this to avoid circular references\n",
       " * https://stackoverflow.com/a/24161582/3208463\n",
       " */\n",
       "function simpleKeys(original) {\n",
       "    return Object.keys(original).reduce(function (obj, key) {\n",
       "        if (typeof original[key] !== 'object') {\n",
       "            obj[key] = original[key];\n",
       "        }\n",
       "        return obj;\n",
       "    }, {});\n",
       "}\n",
       "\n",
       "mpl.figure.prototype.mouse_event = function (event, name) {\n",
       "    var canvas_pos = mpl.findpos(event);\n",
       "\n",
       "    if (name === 'button_press') {\n",
       "        this.canvas.focus();\n",
       "        this.canvas_div.focus();\n",
       "    }\n",
       "\n",
       "    var x = canvas_pos.x * this.ratio;\n",
       "    var y = canvas_pos.y * this.ratio;\n",
       "\n",
       "    this.send_message(name, {\n",
       "        x: x,\n",
       "        y: y,\n",
       "        button: event.button,\n",
       "        step: event.step,\n",
       "        guiEvent: simpleKeys(event),\n",
       "    });\n",
       "\n",
       "    /* This prevents the web browser from automatically changing to\n",
       "     * the text insertion cursor when the button is pressed.  We want\n",
       "     * to control all of the cursor setting manually through the\n",
       "     * 'cursor' event from matplotlib */\n",
       "    event.preventDefault();\n",
       "    return false;\n",
       "};\n",
       "\n",
       "mpl.figure.prototype._key_event_extra = function (_event, _name) {\n",
       "    // Handle any extra behaviour associated with a key event\n",
       "};\n",
       "\n",
       "mpl.figure.prototype.key_event = function (event, name) {\n",
       "    // Prevent repeat events\n",
       "    if (name === 'key_press') {\n",
       "        if (event.key === this._key) {\n",
       "            return;\n",
       "        } else {\n",
       "            this._key = event.key;\n",
       "        }\n",
       "    }\n",
       "    if (name === 'key_release') {\n",
       "        this._key = null;\n",
       "    }\n",
       "\n",
       "    var value = '';\n",
       "    if (event.ctrlKey && event.key !== 'Control') {\n",
       "        value += 'ctrl+';\n",
       "    }\n",
       "    else if (event.altKey && event.key !== 'Alt') {\n",
       "        value += 'alt+';\n",
       "    }\n",
       "    else if (event.shiftKey && event.key !== 'Shift') {\n",
       "        value += 'shift+';\n",
       "    }\n",
       "\n",
       "    value += 'k' + event.key;\n",
       "\n",
       "    this._key_event_extra(event, name);\n",
       "\n",
       "    this.send_message(name, { key: value, guiEvent: simpleKeys(event) });\n",
       "    return false;\n",
       "};\n",
       "\n",
       "mpl.figure.prototype.toolbar_button_onclick = function (name) {\n",
       "    if (name === 'download') {\n",
       "        this.handle_save(this, null);\n",
       "    } else {\n",
       "        this.send_message('toolbar_button', { name: name });\n",
       "    }\n",
       "};\n",
       "\n",
       "mpl.figure.prototype.toolbar_button_onmouseover = function (tooltip) {\n",
       "    this.message.textContent = tooltip;\n",
       "};\n",
       "\n",
       "///////////////// REMAINING CONTENT GENERATED BY embed_js.py /////////////////\n",
       "// prettier-ignore\n",
       "var _JSXTOOLS_RESIZE_OBSERVER=function(A){var t,i=new WeakMap,n=new WeakMap,a=new WeakMap,r=new WeakMap,o=new Set;function s(e){if(!(this instanceof s))throw new TypeError(\"Constructor requires 'new' operator\");i.set(this,e)}function h(){throw new TypeError(\"Function is not a constructor\")}function c(e,t,i,n){e=0 in arguments?Number(arguments[0]):0,t=1 in arguments?Number(arguments[1]):0,i=2 in arguments?Number(arguments[2]):0,n=3 in arguments?Number(arguments[3]):0,this.right=(this.x=this.left=e)+(this.width=i),this.bottom=(this.y=this.top=t)+(this.height=n),Object.freeze(this)}function d(){t=requestAnimationFrame(d);var s=new WeakMap,p=new Set;o.forEach((function(t){r.get(t).forEach((function(i){var r=t instanceof window.SVGElement,o=a.get(t),d=r?0:parseFloat(o.paddingTop),f=r?0:parseFloat(o.paddingRight),l=r?0:parseFloat(o.paddingBottom),u=r?0:parseFloat(o.paddingLeft),g=r?0:parseFloat(o.borderTopWidth),m=r?0:parseFloat(o.borderRightWidth),w=r?0:parseFloat(o.borderBottomWidth),b=u+f,F=d+l,v=(r?0:parseFloat(o.borderLeftWidth))+m,W=g+w,y=r?0:t.offsetHeight-W-t.clientHeight,E=r?0:t.offsetWidth-v-t.clientWidth,R=b+v,z=F+W,M=r?t.width:parseFloat(o.width)-R-E,O=r?t.height:parseFloat(o.height)-z-y;if(n.has(t)){var k=n.get(t);if(k[0]===M&&k[1]===O)return}n.set(t,[M,O]);var S=Object.create(h.prototype);S.target=t,S.contentRect=new c(u,d,M,O),s.has(i)||(s.set(i,[]),p.add(i)),s.get(i).push(S)}))})),p.forEach((function(e){i.get(e).call(e,s.get(e),e)}))}return s.prototype.observe=function(i){if(i instanceof window.Element){r.has(i)||(r.set(i,new Set),o.add(i),a.set(i,window.getComputedStyle(i)));var n=r.get(i);n.has(this)||n.add(this),cancelAnimationFrame(t),t=requestAnimationFrame(d)}},s.prototype.unobserve=function(i){if(i instanceof window.Element&&r.has(i)){var n=r.get(i);n.has(this)&&(n.delete(this),n.size||(r.delete(i),o.delete(i))),n.size||r.delete(i),o.size||cancelAnimationFrame(t)}},A.DOMRectReadOnly=c,A.ResizeObserver=s,A.ResizeObserverEntry=h,A}; // eslint-disable-line\n",
       "mpl.toolbar_items = [[\"Home\", \"Reset original view\", \"fa fa-home icon-home\", \"home\"], [\"Back\", \"Back to previous view\", \"fa fa-arrow-left icon-arrow-left\", \"back\"], [\"Forward\", \"Forward to next view\", \"fa fa-arrow-right icon-arrow-right\", \"forward\"], [\"\", \"\", \"\", \"\"], [\"Pan\", \"Left button pans, Right button zooms\\nx/y fixes axis, CTRL fixes aspect\", \"fa fa-arrows icon-move\", \"pan\"], [\"Zoom\", \"Zoom to rectangle\\nx/y fixes axis\", \"fa fa-square-o icon-check-empty\", \"zoom\"], [\"\", \"\", \"\", \"\"], [\"Download\", \"Download plot\", \"fa fa-floppy-o icon-save\", \"download\"]];\n",
       "\n",
       "mpl.extensions = [\"eps\", \"jpeg\", \"pgf\", \"pdf\", \"png\", \"ps\", \"raw\", \"svg\", \"tif\"];\n",
       "\n",
       "mpl.default_extension = \"png\";/* global mpl */\n",
       "\n",
       "var comm_websocket_adapter = function (comm) {\n",
       "    // Create a \"websocket\"-like object which calls the given IPython comm\n",
       "    // object with the appropriate methods. Currently this is a non binary\n",
       "    // socket, so there is still some room for performance tuning.\n",
       "    var ws = {};\n",
       "\n",
       "    ws.binaryType = comm.kernel.ws.binaryType;\n",
       "    ws.readyState = comm.kernel.ws.readyState;\n",
       "    function updateReadyState(_event) {\n",
       "        if (comm.kernel.ws) {\n",
       "            ws.readyState = comm.kernel.ws.readyState;\n",
       "        } else {\n",
       "            ws.readyState = 3; // Closed state.\n",
       "        }\n",
       "    }\n",
       "    comm.kernel.ws.addEventListener('open', updateReadyState);\n",
       "    comm.kernel.ws.addEventListener('close', updateReadyState);\n",
       "    comm.kernel.ws.addEventListener('error', updateReadyState);\n",
       "\n",
       "    ws.close = function () {\n",
       "        comm.close();\n",
       "    };\n",
       "    ws.send = function (m) {\n",
       "        //console.log('sending', m);\n",
       "        comm.send(m);\n",
       "    };\n",
       "    // Register the callback with on_msg.\n",
       "    comm.on_msg(function (msg) {\n",
       "        //console.log('receiving', msg['content']['data'], msg);\n",
       "        var data = msg['content']['data'];\n",
       "        if (data['blob'] !== undefined) {\n",
       "            data = {\n",
       "                data: new Blob(msg['buffers'], { type: data['blob'] }),\n",
       "            };\n",
       "        }\n",
       "        // Pass the mpl event to the overridden (by mpl) onmessage function.\n",
       "        ws.onmessage(data);\n",
       "    });\n",
       "    return ws;\n",
       "};\n",
       "\n",
       "mpl.mpl_figure_comm = function (comm, msg) {\n",
       "    // This is the function which gets called when the mpl process\n",
       "    // starts-up an IPython Comm through the \"matplotlib\" channel.\n",
       "\n",
       "    var id = msg.content.data.id;\n",
       "    // Get hold of the div created by the display call when the Comm\n",
       "    // socket was opened in Python.\n",
       "    var element = document.getElementById(id);\n",
       "    var ws_proxy = comm_websocket_adapter(comm);\n",
       "\n",
       "    function ondownload(figure, _format) {\n",
       "        window.open(figure.canvas.toDataURL());\n",
       "    }\n",
       "\n",
       "    var fig = new mpl.figure(id, ws_proxy, ondownload, element);\n",
       "\n",
       "    // Call onopen now - mpl needs it, as it is assuming we've passed it a real\n",
       "    // web socket which is closed, not our websocket->open comm proxy.\n",
       "    ws_proxy.onopen();\n",
       "\n",
       "    fig.parent_element = element;\n",
       "    fig.cell_info = mpl.find_output_cell(\"<div id='\" + id + \"'></div>\");\n",
       "    if (!fig.cell_info) {\n",
       "        console.error('Failed to find cell for figure', id, fig);\n",
       "        return;\n",
       "    }\n",
       "    fig.cell_info[0].output_area.element.on(\n",
       "        'cleared',\n",
       "        { fig: fig },\n",
       "        fig._remove_fig_handler\n",
       "    );\n",
       "};\n",
       "\n",
       "mpl.figure.prototype.handle_close = function (fig, msg) {\n",
       "    var width = fig.canvas.width / fig.ratio;\n",
       "    fig.cell_info[0].output_area.element.off(\n",
       "        'cleared',\n",
       "        fig._remove_fig_handler\n",
       "    );\n",
       "    fig.resizeObserverInstance.unobserve(fig.canvas_div);\n",
       "\n",
       "    // Update the output cell to use the data from the current canvas.\n",
       "    fig.push_to_output();\n",
       "    var dataURL = fig.canvas.toDataURL();\n",
       "    // Re-enable the keyboard manager in IPython - without this line, in FF,\n",
       "    // the notebook keyboard shortcuts fail.\n",
       "    IPython.keyboard_manager.enable();\n",
       "    fig.parent_element.innerHTML =\n",
       "        '<img src=\"' + dataURL + '\" width=\"' + width + '\">';\n",
       "    fig.close_ws(fig, msg);\n",
       "};\n",
       "\n",
       "mpl.figure.prototype.close_ws = function (fig, msg) {\n",
       "    fig.send_message('closing', msg);\n",
       "    // fig.ws.close()\n",
       "};\n",
       "\n",
       "mpl.figure.prototype.push_to_output = function (_remove_interactive) {\n",
       "    // Turn the data on the canvas into data in the output cell.\n",
       "    var width = this.canvas.width / this.ratio;\n",
       "    var dataURL = this.canvas.toDataURL();\n",
       "    this.cell_info[1]['text/html'] =\n",
       "        '<img src=\"' + dataURL + '\" width=\"' + width + '\">';\n",
       "};\n",
       "\n",
       "mpl.figure.prototype.updated_canvas_event = function () {\n",
       "    // Tell IPython that the notebook contents must change.\n",
       "    IPython.notebook.set_dirty(true);\n",
       "    this.send_message('ack', {});\n",
       "    var fig = this;\n",
       "    // Wait a second, then push the new image to the DOM so\n",
       "    // that it is saved nicely (might be nice to debounce this).\n",
       "    setTimeout(function () {\n",
       "        fig.push_to_output();\n",
       "    }, 1000);\n",
       "};\n",
       "\n",
       "mpl.figure.prototype._init_toolbar = function () {\n",
       "    var fig = this;\n",
       "\n",
       "    var toolbar = document.createElement('div');\n",
       "    toolbar.classList = 'btn-toolbar';\n",
       "    this.root.appendChild(toolbar);\n",
       "\n",
       "    function on_click_closure(name) {\n",
       "        return function (_event) {\n",
       "            return fig.toolbar_button_onclick(name);\n",
       "        };\n",
       "    }\n",
       "\n",
       "    function on_mouseover_closure(tooltip) {\n",
       "        return function (event) {\n",
       "            if (!event.currentTarget.disabled) {\n",
       "                return fig.toolbar_button_onmouseover(tooltip);\n",
       "            }\n",
       "        };\n",
       "    }\n",
       "\n",
       "    fig.buttons = {};\n",
       "    var buttonGroup = document.createElement('div');\n",
       "    buttonGroup.classList = 'btn-group';\n",
       "    var button;\n",
       "    for (var toolbar_ind in mpl.toolbar_items) {\n",
       "        var name = mpl.toolbar_items[toolbar_ind][0];\n",
       "        var tooltip = mpl.toolbar_items[toolbar_ind][1];\n",
       "        var image = mpl.toolbar_items[toolbar_ind][2];\n",
       "        var method_name = mpl.toolbar_items[toolbar_ind][3];\n",
       "\n",
       "        if (!name) {\n",
       "            /* Instead of a spacer, we start a new button group. */\n",
       "            if (buttonGroup.hasChildNodes()) {\n",
       "                toolbar.appendChild(buttonGroup);\n",
       "            }\n",
       "            buttonGroup = document.createElement('div');\n",
       "            buttonGroup.classList = 'btn-group';\n",
       "            continue;\n",
       "        }\n",
       "\n",
       "        button = fig.buttons[name] = document.createElement('button');\n",
       "        button.classList = 'btn btn-default';\n",
       "        button.href = '#';\n",
       "        button.title = name;\n",
       "        button.innerHTML = '<i class=\"fa ' + image + ' fa-lg\"></i>';\n",
       "        button.addEventListener('click', on_click_closure(method_name));\n",
       "        button.addEventListener('mouseover', on_mouseover_closure(tooltip));\n",
       "        buttonGroup.appendChild(button);\n",
       "    }\n",
       "\n",
       "    if (buttonGroup.hasChildNodes()) {\n",
       "        toolbar.appendChild(buttonGroup);\n",
       "    }\n",
       "\n",
       "    // Add the status bar.\n",
       "    var status_bar = document.createElement('span');\n",
       "    status_bar.classList = 'mpl-message pull-right';\n",
       "    toolbar.appendChild(status_bar);\n",
       "    this.message = status_bar;\n",
       "\n",
       "    // Add the close button to the window.\n",
       "    var buttongrp = document.createElement('div');\n",
       "    buttongrp.classList = 'btn-group inline pull-right';\n",
       "    button = document.createElement('button');\n",
       "    button.classList = 'btn btn-mini btn-primary';\n",
       "    button.href = '#';\n",
       "    button.title = 'Stop Interaction';\n",
       "    button.innerHTML = '<i class=\"fa fa-power-off icon-remove icon-large\"></i>';\n",
       "    button.addEventListener('click', function (_evt) {\n",
       "        fig.handle_close(fig, {});\n",
       "    });\n",
       "    button.addEventListener(\n",
       "        'mouseover',\n",
       "        on_mouseover_closure('Stop Interaction')\n",
       "    );\n",
       "    buttongrp.appendChild(button);\n",
       "    var titlebar = this.root.querySelector('.ui-dialog-titlebar');\n",
       "    titlebar.insertBefore(buttongrp, titlebar.firstChild);\n",
       "};\n",
       "\n",
       "mpl.figure.prototype._remove_fig_handler = function (event) {\n",
       "    var fig = event.data.fig;\n",
       "    if (event.target !== this) {\n",
       "        // Ignore bubbled events from children.\n",
       "        return;\n",
       "    }\n",
       "    fig.close_ws(fig, {});\n",
       "};\n",
       "\n",
       "mpl.figure.prototype._root_extra_style = function (el) {\n",
       "    el.style.boxSizing = 'content-box'; // override notebook setting of border-box.\n",
       "};\n",
       "\n",
       "mpl.figure.prototype._canvas_extra_style = function (el) {\n",
       "    // this is important to make the div 'focusable\n",
       "    el.setAttribute('tabindex', 0);\n",
       "    // reach out to IPython and tell the keyboard manager to turn it's self\n",
       "    // off when our div gets focus\n",
       "\n",
       "    // location in version 3\n",
       "    if (IPython.notebook.keyboard_manager) {\n",
       "        IPython.notebook.keyboard_manager.register_events(el);\n",
       "    } else {\n",
       "        // location in version 2\n",
       "        IPython.keyboard_manager.register_events(el);\n",
       "    }\n",
       "};\n",
       "\n",
       "mpl.figure.prototype._key_event_extra = function (event, _name) {\n",
       "    // Check for shift+enter\n",
       "    if (event.shiftKey && event.which === 13) {\n",
       "        this.canvas_div.blur();\n",
       "        // select the cell after this one\n",
       "        var index = IPython.notebook.find_cell_index(this.cell_info[0]);\n",
       "        IPython.notebook.select(index + 1);\n",
       "    }\n",
       "};\n",
       "\n",
       "mpl.figure.prototype.handle_save = function (fig, _msg) {\n",
       "    fig.ondownload(fig, null);\n",
       "};\n",
       "\n",
       "mpl.find_output_cell = function (html_output) {\n",
       "    // Return the cell and output element which can be found *uniquely* in the notebook.\n",
       "    // Note - this is a bit hacky, but it is done because the \"notebook_saving.Notebook\"\n",
       "    // IPython event is triggered only after the cells have been serialised, which for\n",
       "    // our purposes (turning an active figure into a static one), is too late.\n",
       "    var cells = IPython.notebook.get_cells();\n",
       "    var ncells = cells.length;\n",
       "    for (var i = 0; i < ncells; i++) {\n",
       "        var cell = cells[i];\n",
       "        if (cell.cell_type === 'code') {\n",
       "            for (var j = 0; j < cell.output_area.outputs.length; j++) {\n",
       "                var data = cell.output_area.outputs[j];\n",
       "                if (data.data) {\n",
       "                    // IPython >= 3 moved mimebundle to data attribute of output\n",
       "                    data = data.data;\n",
       "                }\n",
       "                if (data['text/html'] === html_output) {\n",
       "                    return [cell, data, j];\n",
       "                }\n",
       "            }\n",
       "        }\n",
       "    }\n",
       "};\n",
       "\n",
       "// Register the function which deals with the matplotlib target/channel.\n",
       "// The kernel may be null if the page has been refreshed.\n",
       "if (IPython.notebook.kernel !== null) {\n",
       "    IPython.notebook.kernel.comm_manager.register_target(\n",
       "        'matplotlib',\n",
       "        mpl.mpl_figure_comm\n",
       "    );\n",
       "}\n"
      ],
      "text/plain": [
       "<IPython.core.display.Javascript object>"
      ]
     },
     "metadata": {},
     "output_type": "display_data"
    },
    {
     "data": {
      "text/html": [
       "<img src=\"data:image/png;base64,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\" width=\"640\">"
      ],
      "text/plain": [
       "<IPython.core.display.HTML object>"
      ]
     },
     "metadata": {},
     "output_type": "display_data"
    }
   ],
   "source": [
    "plt.figure()\n",
    "seaborn.heatmap(rearrange,xticklabels=regions,yticklabels=regions)\n",
    "plt.savefig(\"figures/66t.shuffled.Numaps.orderedheatmap.\"+writebatch+\".png\")\n",
    "plt.savefig(\"figures/66t.shuffled.Numaps.orderedheatmap.\"+writebatch+\".svg\")"
   ]
  },
  {
   "cell_type": "markdown",
   "metadata": {},
   "source": [
    "# try imputation"
   ]
  },
  {
   "cell_type": "code",
   "execution_count": 38,
   "metadata": {},
   "outputs": [],
   "source": [
    "input_df.columns = cols"
   ]
  },
  {
   "cell_type": "code",
   "execution_count": 40,
   "metadata": {},
   "outputs": [
    {
     "name": "stderr",
     "output_type": "stream",
     "text": [
      "C:\\ProgramData\\Anaconda3\\lib\\site-packages\\openpyxl\\worksheet\\_reader.py:312: UserWarning:\n",
      "\n",
      "Unknown extension is not supported and will be removed\n",
      "\n"
     ]
    },
    {
     "data": {
      "text/html": [
       "<div>\n",
       "<style scoped>\n",
       "    .dataframe tbody tr th:only-of-type {\n",
       "        vertical-align: middle;\n",
       "    }\n",
       "\n",
       "    .dataframe tbody tr th {\n",
       "        vertical-align: top;\n",
       "    }\n",
       "\n",
       "    .dataframe thead th {\n",
       "        text-align: right;\n",
       "    }\n",
       "</style>\n",
       "<table border=\"1\" class=\"dataframe\">\n",
       "  <thead>\n",
       "    <tr style=\"text-align: right;\">\n",
       "      <th></th>\n",
       "      <th>Experimental condition</th>\n",
       "      <th>Cre line:</th>\n",
       "      <th>Output site:</th>\n",
       "      <th>% starter cells that are TH+</th>\n",
       "      <th>total rabies-labeled input cells</th>\n",
       "      <th>Cortex</th>\n",
       "      <th>NAcMed</th>\n",
       "      <th>NAcLat</th>\n",
       "      <th>NAcCore</th>\n",
       "      <th>DStr</th>\n",
       "      <th>...</th>\n",
       "      <th>CeA</th>\n",
       "      <th>LH</th>\n",
       "      <th>ZI</th>\n",
       "      <th>DR</th>\n",
       "      <th>LDT</th>\n",
       "      <th>PBN</th>\n",
       "      <th>DCN</th>\n",
       "      <th>XCoordCOM</th>\n",
       "      <th>YCoordCOM</th>\n",
       "      <th>ZCoordCOM</th>\n",
       "    </tr>\n",
       "  </thead>\n",
       "  <tbody>\n",
       "    <tr>\n",
       "      <th>0</th>\n",
       "      <td>cTRIO DAT-CreBLA 3</td>\n",
       "      <td>DAT-Cre</td>\n",
       "      <td>Amygdala</td>\n",
       "      <td>100</td>\n",
       "      <td>1727</td>\n",
       "      <td>1.563405</td>\n",
       "      <td>1.215981</td>\n",
       "      <td>2.779386</td>\n",
       "      <td>1.563405</td>\n",
       "      <td>5.037638</td>\n",
       "      <td>...</td>\n",
       "      <td>7.122177</td>\n",
       "      <td>5.037638</td>\n",
       "      <td>4.863926</td>\n",
       "      <td>25.883034</td>\n",
       "      <td>0.579039</td>\n",
       "      <td>12.680950</td>\n",
       "      <td>1.215981</td>\n",
       "      <td>1140.648</td>\n",
       "      <td>1228.338000</td>\n",
       "      <td>4.661972</td>\n",
       "    </tr>\n",
       "    <tr>\n",
       "      <th>1</th>\n",
       "      <td>cTRIO DAT-CreBLA 4</td>\n",
       "      <td>DAT-Cre</td>\n",
       "      <td>Amygdala</td>\n",
       "      <td>100</td>\n",
       "      <td>244</td>\n",
       "      <td>2.459016</td>\n",
       "      <td>0.000000</td>\n",
       "      <td>2.459016</td>\n",
       "      <td>0.000000</td>\n",
       "      <td>3.688525</td>\n",
       "      <td>...</td>\n",
       "      <td>4.918033</td>\n",
       "      <td>15.983607</td>\n",
       "      <td>3.688525</td>\n",
       "      <td>29.508197</td>\n",
       "      <td>0.409836</td>\n",
       "      <td>8.606557</td>\n",
       "      <td>0.409836</td>\n",
       "      <td>1202.733</td>\n",
       "      <td>1113.200000</td>\n",
       "      <td>7.000000</td>\n",
       "    </tr>\n",
       "    <tr>\n",
       "      <th>2</th>\n",
       "      <td>cTRIO DAT-CreBLA 5</td>\n",
       "      <td>DAT-Cre</td>\n",
       "      <td>Amygdala</td>\n",
       "      <td>88</td>\n",
       "      <td>614</td>\n",
       "      <td>0.488599</td>\n",
       "      <td>0.000000</td>\n",
       "      <td>0.000000</td>\n",
       "      <td>0.488599</td>\n",
       "      <td>0.000000</td>\n",
       "      <td>...</td>\n",
       "      <td>8.794788</td>\n",
       "      <td>7.328990</td>\n",
       "      <td>9.283388</td>\n",
       "      <td>23.941368</td>\n",
       "      <td>0.977199</td>\n",
       "      <td>11.726384</td>\n",
       "      <td>0.325733</td>\n",
       "      <td>1157.273</td>\n",
       "      <td>1219.727000</td>\n",
       "      <td>5.090909</td>\n",
       "    </tr>\n",
       "    <tr>\n",
       "      <th>3</th>\n",
       "      <td>cTRIO DAT-CreBLA 6</td>\n",
       "      <td>DAT-Cre</td>\n",
       "      <td>Amygdala</td>\n",
       "      <td>92</td>\n",
       "      <td>604</td>\n",
       "      <td>4.470199</td>\n",
       "      <td>6.953642</td>\n",
       "      <td>2.980132</td>\n",
       "      <td>1.490066</td>\n",
       "      <td>1.986755</td>\n",
       "      <td>...</td>\n",
       "      <td>2.980132</td>\n",
       "      <td>8.443709</td>\n",
       "      <td>12.913907</td>\n",
       "      <td>49.668874</td>\n",
       "      <td>0.827815</td>\n",
       "      <td>3.973510</td>\n",
       "      <td>0.993377</td>\n",
       "      <td>1227.500</td>\n",
       "      <td>1163.666667</td>\n",
       "      <td>5.666667</td>\n",
       "    </tr>\n",
       "    <tr>\n",
       "      <th>4</th>\n",
       "      <td>cTRIO DAT-CreNAcLat 1</td>\n",
       "      <td>DAT-Cre</td>\n",
       "      <td>NAcLat</td>\n",
       "      <td>95</td>\n",
       "      <td>36581</td>\n",
       "      <td>8.783248</td>\n",
       "      <td>6.437768</td>\n",
       "      <td>5.330636</td>\n",
       "      <td>8.865258</td>\n",
       "      <td>11.030316</td>\n",
       "      <td>...</td>\n",
       "      <td>2.156857</td>\n",
       "      <td>6.355758</td>\n",
       "      <td>4.141494</td>\n",
       "      <td>8.291189</td>\n",
       "      <td>0.451054</td>\n",
       "      <td>5.486455</td>\n",
       "      <td>0.923977</td>\n",
       "      <td>1120.353</td>\n",
       "      <td>1221.481000</td>\n",
       "      <td>5.358289</td>\n",
       "    </tr>\n",
       "  </tbody>\n",
       "</table>\n",
       "<p>5 rows × 30 columns</p>\n",
       "</div>"
      ],
      "text/plain": [
       "  Experimental condition Cre line: Output site:  % starter cells that are TH+  \\\n",
       "0     cTRIO DAT-CreBLA 3   DAT-Cre     Amygdala                           100   \n",
       "1     cTRIO DAT-CreBLA 4   DAT-Cre     Amygdala                           100   \n",
       "2     cTRIO DAT-CreBLA 5   DAT-Cre     Amygdala                            88   \n",
       "3     cTRIO DAT-CreBLA 6   DAT-Cre     Amygdala                            92   \n",
       "4  cTRIO DAT-CreNAcLat 1   DAT-Cre       NAcLat                            95   \n",
       "\n",
       "   total rabies-labeled input cells    Cortex    NAcMed    NAcLat   NAcCore  \\\n",
       "0                              1727  1.563405  1.215981  2.779386  1.563405   \n",
       "1                               244  2.459016  0.000000  2.459016  0.000000   \n",
       "2                               614  0.488599  0.000000  0.000000  0.488599   \n",
       "3                               604  4.470199  6.953642  2.980132  1.490066   \n",
       "4                             36581  8.783248  6.437768  5.330636  8.865258   \n",
       "\n",
       "        DStr  ...       CeA         LH         ZI         DR       LDT  \\\n",
       "0   5.037638  ...  7.122177   5.037638   4.863926  25.883034  0.579039   \n",
       "1   3.688525  ...  4.918033  15.983607   3.688525  29.508197  0.409836   \n",
       "2   0.000000  ...  8.794788   7.328990   9.283388  23.941368  0.977199   \n",
       "3   1.986755  ...  2.980132   8.443709  12.913907  49.668874  0.827815   \n",
       "4  11.030316  ...  2.156857   6.355758   4.141494   8.291189  0.451054   \n",
       "\n",
       "         PBN       DCN  XCoordCOM    YCoordCOM  ZCoordCOM  \n",
       "0  12.680950  1.215981   1140.648  1228.338000   4.661972  \n",
       "1   8.606557  0.409836   1202.733  1113.200000   7.000000  \n",
       "2  11.726384  0.325733   1157.273  1219.727000   5.090909  \n",
       "3   3.973510  0.993377   1227.500  1163.666667   5.666667  \n",
       "4   5.486455  0.923977   1120.353  1221.481000   5.358289  \n",
       "\n",
       "[5 rows x 30 columns]"
      ]
     },
     "execution_count": 40,
     "metadata": {},
     "output_type": "execute_result"
    }
   ],
   "source": [
    "all_input_df = pandas.read_excel('76 brain input tracing dataset.xlsx',header=1)\n",
    "all_input_df.head()"
   ]
  },
  {
   "cell_type": "code",
   "execution_count": 41,
   "metadata": {},
   "outputs": [],
   "source": [
    "main_regions = list(input_df.columns)[0:22]"
   ]
  },
  {
   "cell_type": "code",
   "execution_count": 42,
   "metadata": {},
   "outputs": [],
   "source": [
    "all_regions = list(input_df.columns)"
   ]
  },
  {
   "cell_type": "code",
   "execution_count": 43,
   "metadata": {},
   "outputs": [],
   "source": [
    "fraction_df = input_df[all_regions].divide(input_df[main_regions].sum(axis=1)\n",
    "                              /100,axis=0)\n",
    "\n",
    "fraction_df['Experimental condition'] = ['(whole) DAT-Cre 66T ' + str(i+1) for i in range(4)]\n",
    "fraction_df['Cre line:'] = ['DAT-Cre']*4\n",
    "\n",
    "full_inputs_df = pandas.merge(all_input_df,fraction_df,how='outer')\n",
    "\n",
    "full_inputs_df['is 66T'] = [True if '66T' in c else False for c in full_inputs_df['Experimental condition']]\n",
    "\n",
    "full_inputs_counts = full_inputs_df[all_regions].values"
   ]
  },
  {
   "cell_type": "code",
   "execution_count": 44,
   "metadata": {},
   "outputs": [],
   "source": [
    "imputer = KNNImputer(n_neighbors = 10)\n",
    "imputed_counts = imputer.fit_transform(full_inputs_counts)\n",
    "\n",
    "scaled_features = preprocessing.scale(imputed_counts)\n",
    "\n",
    "allembedding=umap.UMAP(n_neighbors=5,min_dist=0.5,metric='euclidean').fit_transform(scaled_features)\n",
    "\n",
    "conds = full_inputs_df['is 66T'].unique()"
   ]
  },
  {
   "cell_type": "code",
   "execution_count": 45,
   "metadata": {},
   "outputs": [
    {
     "data": {
      "application/vnd.plotly.v1+json": {
       "config": {
        "plotlyServerURL": "https://plot.ly"
       },
       "data": [
        {
         "hoverinfo": "text",
         "marker": {
          "color": [
           "#8000ff",
           "#8000ff",
           "#8000ff",
           "#8000ff",
           "#8000ff",
           "#8000ff",
           "#8000ff",
           "#8000ff",
           "#8000ff",
           "#8000ff",
           "#8000ff",
           "#8000ff",
           "#8000ff",
           "#8000ff",
           "#8000ff",
           "#8000ff",
           "#8000ff",
           "#8000ff",
           "#8000ff",
           "#8000ff",
           "#8000ff",
           "#8000ff",
           "#8000ff",
           "#8000ff",
           "#8000ff",
           "#8000ff",
           "#8000ff",
           "#8000ff",
           "#8000ff",
           "#8000ff",
           "#8000ff",
           "#8000ff",
           "#8000ff",
           "#8000ff",
           "#8000ff",
           "#8000ff",
           "#8000ff",
           "#8000ff",
           "#8000ff",
           "#8000ff",
           "#8000ff",
           "#8000ff",
           "#8000ff",
           "#8000ff",
           "#8000ff",
           "#8000ff",
           "#8000ff",
           "#8000ff",
           "#ff0000",
           "#ff0000",
           "#ff0000",
           "#ff0000",
           "#8000ff",
           "#8000ff",
           "#8000ff",
           "#8000ff",
           "#8000ff",
           "#8000ff",
           "#8000ff",
           "#8000ff",
           "#8000ff",
           "#8000ff",
           "#8000ff",
           "#8000ff",
           "#8000ff",
           "#8000ff",
           "#8000ff",
           "#8000ff",
           "#8000ff",
           "#8000ff",
           "#8000ff",
           "#8000ff",
           "#8000ff",
           "#8000ff",
           "#8000ff",
           "#8000ff",
           "#ff0000",
           "#ff0000",
           "#ff0000",
           "#ff0000"
          ]
         },
         "mode": "markers",
         "text": [
          "cTRIO DAT-CreBLA 3",
          "cTRIO DAT-CreBLA 4",
          "cTRIO DAT-CreBLA 5",
          "cTRIO DAT-CreBLA 6",
          "cTRIO DAT-CreNAcLat 1",
          "cTRIO DAT-CreNAcLat 4",
          "cTRIO DAT-CreNAcLat 6",
          "cTRIO DAT-CreNAcLat 7",
          "cTRIO DAT-CreNAcMed 1",
          "cTRIO DAT-CreNAcMed 2",
          "cTRIO DAT-CreNAcMed 3",
          "cTRIO DAT-CreNAcMed 5",
          "cTRIO DAT-CrePFC 4",
          "cTRIO DAT-CrePFC 5",
          "cTRIO DAT-CrePFC 6",
          "cTRIO DAT-CrePFC 7",
          "cTRIO GAD2-Cre BLA 1",
          "cTRIO GAD2-Cre BLA 2",
          "cTRIO GAD2-Cre BLA 3",
          "cTRIO GAD2-Cre BLA 4",
          "cTRIO GAD2-Cre NAcLat 1",
          "cTRIO GAD2-Cre NAcLat 2",
          "cTRIO GAD2-Cre NAcLat 3",
          "cTRIO GAD2-Cre NAcLat 4",
          "cTRIO GAD2-Cre PFC 1",
          "cTRIO GAD2-Cre PFC 2",
          "cTRIO GAD2-Cre PFC 3",
          "cTRIO GAD2-Cre PFC 4",
          "cTRIO VGluT2-Cre BLA 1",
          "cTRIO VGluT2-Cre BLA 3",
          "cTRIO VGluT2-Cre BLA 4",
          "cTRIO VGluT2-Cre BLA 5",
          "cTRIO VGluT2-Cre NAcLat 1",
          "cTRIO VGluT2-Cre NAcLat 2",
          "cTRIO VGluT2-Cre NAcLat 3",
          "cTRIO VGluT2-Cre NAcLat 4",
          "cTRIO VGluT2-Cre NAcMed 1",
          "cTRIO VGluT2-Cre NAcMed 2",
          "cTRIO VGluT2-Cre NAcMed 3",
          "cTRIO VGluT2-Cre NAcMed 4",
          "cTRIO VGluT2-Cre PFC 1",
          "cTRIO VGluT2-Cre PFC 2",
          "cTRIO VGluT2-Cre PFC 3",
          "cTRIO VGluT2-Cre PFC 4",
          "DAT-Cre 100 nL 1",
          "DAT-Cre 100 nL 4",
          "DAT-Cre 100 nL 5",
          "DAT-Cre 6",
          "DAT-Cre 66T 1",
          "DAT-Cre 66T 2",
          "DAT-Cre 66T 3",
          "DAT-Cre 66T 4",
          "Gad2Cre 100 nL 12",
          "Gad2Cre 100 nL 13",
          "Gad2Cre 100 nL 14",
          "Gad2Cre 100 nL 16",
          "TRIO BLA 1",
          "TRIO BLA 4",
          "TRIO BLA 6",
          "TRIO BLA 7",
          "TRIO NAcLat 1",
          "TRIO NAcLat 2",
          "TRIO NAcLat 3",
          "TRIO NAcLat 4",
          "TRIO NAcMed 1",
          "TRIO NAcMed 2",
          "TRIO NAcMed 3",
          "TRIO NAcMed 4",
          "TRIO PFC1",
          "TRIO PFC2",
          "TRIO PFC3",
          "TRIO PFC5",
          "VGluT2 1",
          "VGluT2 2",
          "VGluT2 3",
          "VGlut2 4",
          "(whole) DAT-Cre 66T 1",
          "(whole) DAT-Cre 66T 2",
          "(whole) DAT-Cre 66T 3",
          "(whole) DAT-Cre 66T 4"
         ],
         "textposition": "bottom center",
         "type": "scatter",
         "x": [
          0.24486422538757324,
          2.550814628601074,
          0.24363243579864502,
          3.062697410583496,
          4.03043270111084,
          3.678839683532715,
          3.181302785873413,
          2.396243095397949,
          4.300507545471191,
          3.793686628341675,
          5.657247543334961,
          4.002923488616943,
          1.7965142726898193,
          0.9756502509117126,
          1.2011080980300903,
          5.535375595092773,
          1.549625277519226,
          1.1834635734558105,
          4.689197063446045,
          2.105133056640625,
          3.278341054916382,
          2.1630494594573975,
          3.1257245540618896,
          1.5218541622161865,
          3.4347033500671387,
          3.7163894176483154,
          5.721877574920654,
          5.43945837020874,
          -0.843436598777771,
          -0.5212870836257935,
          0.7902570366859436,
          3.1057777404785156,
          2.747680902481079,
          1.657049298286438,
          1.8261154890060425,
          3.427157163619995,
          4.335311412811279,
          4.544818878173828,
          5.171546936035156,
          3.687598943710327,
          -0.22767479717731476,
          1.7332323789596558,
          3.0555810928344727,
          2.129563570022583,
          3.313842535018921,
          4.048858642578125,
          3.2946808338165283,
          4.292616367340088,
          0.622591495513916,
          4.489834785461426,
          4.465264797210693,
          -0.08393080532550812,
          2.6986262798309326,
          0.8874317407608032,
          1.2974309921264648,
          1.8882085084915161,
          0.4165508449077606,
          -0.5913189649581909,
          0.5727625489234924,
          2.7399652004241943,
          2.7781789302825928,
          3.7340924739837646,
          3.161525011062622,
          3.211582899093628,
          2.9985125064849854,
          5.254554271697998,
          5.59144926071167,
          5.989038944244385,
          5.029054641723633,
          2.4860334396362305,
          0.6929494142532349,
          0.5785987377166748,
          0.23127438127994537,
          -0.3639105260372162,
          0.10144864022731781,
          -0.08085323870182037,
          0.4889545738697052,
          4.813721179962158,
          4.722840309143066,
          0.5632126927375793
         ],
         "y": [
          -1.8649635314941406,
          -1.1548480987548828,
          -1.741233229637146,
          -2.2899820804595947,
          -6.829790115356445,
          -6.35097599029541,
          -5.448181629180908,
          -5.042728900909424,
          -0.7753738164901733,
          -2.3936538696289062,
          -1.6765718460083008,
          -0.40899235010147095,
          -1.6512562036514282,
          -1.6764745712280273,
          -1.8611689805984497,
          -0.4862935245037079,
          -2.358121395111084,
          -1.0291714668273926,
          -0.161225363612175,
          -1.2741721868515015,
          -4.5334906578063965,
          -7.0635666847229,
          -3.892073154449463,
          -0.6941519379615784,
          -3.087371826171875,
          0.00496342359110713,
          0.44698816537857056,
          0.2641459107398987,
          -5.166278839111328,
          -3.6890127658843994,
          -2.5978102684020996,
          0.6468662619590759,
          -4.726806163787842,
          -4.51954984664917,
          -3.8319263458251953,
          -0.6321890354156494,
          -1.501229166984558,
          -1.0106785297393799,
          -1.6445717811584473,
          -1.4062219858169556,
          -5.282835483551025,
          -2.995680570602417,
          0.13976602256298065,
          -2.255204916000366,
          -4.940711498260498,
          -4.3022942543029785,
          -7.554818630218506,
          -4.569979190826416,
          -4.578621864318848,
          -2.6203396320343018,
          -3.56841778755188,
          -4.492307662963867,
          -5.870147705078125,
          -6.536419868469238,
          -5.936946868896484,
          -6.4581298828125,
          -6.274563312530518,
          -4.724255084991455,
          -3.5511679649353027,
          0.29615098237991333,
          -7.215114116668701,
          -7.153228759765625,
          -6.95819616317749,
          -6.815430641174316,
          -1.3954524993896484,
          -2.386780261993408,
          -1.995272159576416,
          -0.11938098073005676,
          -0.6853082180023193,
          -0.375739187002182,
          -0.9318576455116272,
          -5.832459926605225,
          -3.6967663764953613,
          -3.4022514820098877,
          -2.623694896697998,
          -4.113110542297363,
          -4.676733493804932,
          -3.0480875968933105,
          -4.053339958190918,
          -4.466012477874756
         ]
        }
       ],
       "layout": {
        "height": 800,
        "template": {
         "data": {
          "bar": [
           {
            "error_x": {
             "color": "#2a3f5f"
            },
            "error_y": {
             "color": "#2a3f5f"
            },
            "marker": {
             "line": {
              "color": "#E5ECF6",
              "width": 0.5
             },
             "pattern": {
              "fillmode": "overlay",
              "size": 10,
              "solidity": 0.2
             }
            },
            "type": "bar"
           }
          ],
          "barpolar": [
           {
            "marker": {
             "line": {
              "color": "#E5ECF6",
              "width": 0.5
             },
             "pattern": {
              "fillmode": "overlay",
              "size": 10,
              "solidity": 0.2
             }
            },
            "type": "barpolar"
           }
          ],
          "carpet": [
           {
            "aaxis": {
             "endlinecolor": "#2a3f5f",
             "gridcolor": "white",
             "linecolor": "white",
             "minorgridcolor": "white",
             "startlinecolor": "#2a3f5f"
            },
            "baxis": {
             "endlinecolor": "#2a3f5f",
             "gridcolor": "white",
             "linecolor": "white",
             "minorgridcolor": "white",
             "startlinecolor": "#2a3f5f"
            },
            "type": "carpet"
           }
          ],
          "choropleth": [
           {
            "colorbar": {
             "outlinewidth": 0,
             "ticks": ""
            },
            "type": "choropleth"
           }
          ],
          "contour": [
           {
            "colorbar": {
             "outlinewidth": 0,
             "ticks": ""
            },
            "colorscale": [
             [
              0,
              "#0d0887"
             ],
             [
              0.1111111111111111,
              "#46039f"
             ],
             [
              0.2222222222222222,
              "#7201a8"
             ],
             [
              0.3333333333333333,
              "#9c179e"
             ],
             [
              0.4444444444444444,
              "#bd3786"
             ],
             [
              0.5555555555555556,
              "#d8576b"
             ],
             [
              0.6666666666666666,
              "#ed7953"
             ],
             [
              0.7777777777777778,
              "#fb9f3a"
             ],
             [
              0.8888888888888888,
              "#fdca26"
             ],
             [
              1,
              "#f0f921"
             ]
            ],
            "type": "contour"
           }
          ],
          "contourcarpet": [
           {
            "colorbar": {
             "outlinewidth": 0,
             "ticks": ""
            },
            "type": "contourcarpet"
           }
          ],
          "heatmap": [
           {
            "colorbar": {
             "outlinewidth": 0,
             "ticks": ""
            },
            "colorscale": [
             [
              0,
              "#0d0887"
             ],
             [
              0.1111111111111111,
              "#46039f"
             ],
             [
              0.2222222222222222,
              "#7201a8"
             ],
             [
              0.3333333333333333,
              "#9c179e"
             ],
             [
              0.4444444444444444,
              "#bd3786"
             ],
             [
              0.5555555555555556,
              "#d8576b"
             ],
             [
              0.6666666666666666,
              "#ed7953"
             ],
             [
              0.7777777777777778,
              "#fb9f3a"
             ],
             [
              0.8888888888888888,
              "#fdca26"
             ],
             [
              1,
              "#f0f921"
             ]
            ],
            "type": "heatmap"
           }
          ],
          "heatmapgl": [
           {
            "colorbar": {
             "outlinewidth": 0,
             "ticks": ""
            },
            "colorscale": [
             [
              0,
              "#0d0887"
             ],
             [
              0.1111111111111111,
              "#46039f"
             ],
             [
              0.2222222222222222,
              "#7201a8"
             ],
             [
              0.3333333333333333,
              "#9c179e"
             ],
             [
              0.4444444444444444,
              "#bd3786"
             ],
             [
              0.5555555555555556,
              "#d8576b"
             ],
             [
              0.6666666666666666,
              "#ed7953"
             ],
             [
              0.7777777777777778,
              "#fb9f3a"
             ],
             [
              0.8888888888888888,
              "#fdca26"
             ],
             [
              1,
              "#f0f921"
             ]
            ],
            "type": "heatmapgl"
           }
          ],
          "histogram": [
           {
            "marker": {
             "pattern": {
              "fillmode": "overlay",
              "size": 10,
              "solidity": 0.2
             }
            },
            "type": "histogram"
           }
          ],
          "histogram2d": [
           {
            "colorbar": {
             "outlinewidth": 0,
             "ticks": ""
            },
            "colorscale": [
             [
              0,
              "#0d0887"
             ],
             [
              0.1111111111111111,
              "#46039f"
             ],
             [
              0.2222222222222222,
              "#7201a8"
             ],
             [
              0.3333333333333333,
              "#9c179e"
             ],
             [
              0.4444444444444444,
              "#bd3786"
             ],
             [
              0.5555555555555556,
              "#d8576b"
             ],
             [
              0.6666666666666666,
              "#ed7953"
             ],
             [
              0.7777777777777778,
              "#fb9f3a"
             ],
             [
              0.8888888888888888,
              "#fdca26"
             ],
             [
              1,
              "#f0f921"
             ]
            ],
            "type": "histogram2d"
           }
          ],
          "histogram2dcontour": [
           {
            "colorbar": {
             "outlinewidth": 0,
             "ticks": ""
            },
            "colorscale": [
             [
              0,
              "#0d0887"
             ],
             [
              0.1111111111111111,
              "#46039f"
             ],
             [
              0.2222222222222222,
              "#7201a8"
             ],
             [
              0.3333333333333333,
              "#9c179e"
             ],
             [
              0.4444444444444444,
              "#bd3786"
             ],
             [
              0.5555555555555556,
              "#d8576b"
             ],
             [
              0.6666666666666666,
              "#ed7953"
             ],
             [
              0.7777777777777778,
              "#fb9f3a"
             ],
             [
              0.8888888888888888,
              "#fdca26"
             ],
             [
              1,
              "#f0f921"
             ]
            ],
            "type": "histogram2dcontour"
           }
          ],
          "mesh3d": [
           {
            "colorbar": {
             "outlinewidth": 0,
             "ticks": ""
            },
            "type": "mesh3d"
           }
          ],
          "parcoords": [
           {
            "line": {
             "colorbar": {
              "outlinewidth": 0,
              "ticks": ""
             }
            },
            "type": "parcoords"
           }
          ],
          "pie": [
           {
            "automargin": true,
            "type": "pie"
           }
          ],
          "scatter": [
           {
            "marker": {
             "colorbar": {
              "outlinewidth": 0,
              "ticks": ""
             }
            },
            "type": "scatter"
           }
          ],
          "scatter3d": [
           {
            "line": {
             "colorbar": {
              "outlinewidth": 0,
              "ticks": ""
             }
            },
            "marker": {
             "colorbar": {
              "outlinewidth": 0,
              "ticks": ""
             }
            },
            "type": "scatter3d"
           }
          ],
          "scattercarpet": [
           {
            "marker": {
             "colorbar": {
              "outlinewidth": 0,
              "ticks": ""
             }
            },
            "type": "scattercarpet"
           }
          ],
          "scattergeo": [
           {
            "marker": {
             "colorbar": {
              "outlinewidth": 0,
              "ticks": ""
             }
            },
            "type": "scattergeo"
           }
          ],
          "scattergl": [
           {
            "marker": {
             "colorbar": {
              "outlinewidth": 0,
              "ticks": ""
             }
            },
            "type": "scattergl"
           }
          ],
          "scattermapbox": [
           {
            "marker": {
             "colorbar": {
              "outlinewidth": 0,
              "ticks": ""
             }
            },
            "type": "scattermapbox"
           }
          ],
          "scatterpolar": [
           {
            "marker": {
             "colorbar": {
              "outlinewidth": 0,
              "ticks": ""
             }
            },
            "type": "scatterpolar"
           }
          ],
          "scatterpolargl": [
           {
            "marker": {
             "colorbar": {
              "outlinewidth": 0,
              "ticks": ""
             }
            },
            "type": "scatterpolargl"
           }
          ],
          "scatterternary": [
           {
            "marker": {
             "colorbar": {
              "outlinewidth": 0,
              "ticks": ""
             }
            },
            "type": "scatterternary"
           }
          ],
          "surface": [
           {
            "colorbar": {
             "outlinewidth": 0,
             "ticks": ""
            },
            "colorscale": [
             [
              0,
              "#0d0887"
             ],
             [
              0.1111111111111111,
              "#46039f"
             ],
             [
              0.2222222222222222,
              "#7201a8"
             ],
             [
              0.3333333333333333,
              "#9c179e"
             ],
             [
              0.4444444444444444,
              "#bd3786"
             ],
             [
              0.5555555555555556,
              "#d8576b"
             ],
             [
              0.6666666666666666,
              "#ed7953"
             ],
             [
              0.7777777777777778,
              "#fb9f3a"
             ],
             [
              0.8888888888888888,
              "#fdca26"
             ],
             [
              1,
              "#f0f921"
             ]
            ],
            "type": "surface"
           }
          ],
          "table": [
           {
            "cells": {
             "fill": {
              "color": "#EBF0F8"
             },
             "line": {
              "color": "white"
             }
            },
            "header": {
             "fill": {
              "color": "#C8D4E3"
             },
             "line": {
              "color": "white"
             }
            },
            "type": "table"
           }
          ]
         },
         "layout": {
          "annotationdefaults": {
           "arrowcolor": "#2a3f5f",
           "arrowhead": 0,
           "arrowwidth": 1
          },
          "autotypenumbers": "strict",
          "coloraxis": {
           "colorbar": {
            "outlinewidth": 0,
            "ticks": ""
           }
          },
          "colorscale": {
           "diverging": [
            [
             0,
             "#8e0152"
            ],
            [
             0.1,
             "#c51b7d"
            ],
            [
             0.2,
             "#de77ae"
            ],
            [
             0.3,
             "#f1b6da"
            ],
            [
             0.4,
             "#fde0ef"
            ],
            [
             0.5,
             "#f7f7f7"
            ],
            [
             0.6,
             "#e6f5d0"
            ],
            [
             0.7,
             "#b8e186"
            ],
            [
             0.8,
             "#7fbc41"
            ],
            [
             0.9,
             "#4d9221"
            ],
            [
             1,
             "#276419"
            ]
           ],
           "sequential": [
            [
             0,
             "#0d0887"
            ],
            [
             0.1111111111111111,
             "#46039f"
            ],
            [
             0.2222222222222222,
             "#7201a8"
            ],
            [
             0.3333333333333333,
             "#9c179e"
            ],
            [
             0.4444444444444444,
             "#bd3786"
            ],
            [
             0.5555555555555556,
             "#d8576b"
            ],
            [
             0.6666666666666666,
             "#ed7953"
            ],
            [
             0.7777777777777778,
             "#fb9f3a"
            ],
            [
             0.8888888888888888,
             "#fdca26"
            ],
            [
             1,
             "#f0f921"
            ]
           ],
           "sequentialminus": [
            [
             0,
             "#0d0887"
            ],
            [
             0.1111111111111111,
             "#46039f"
            ],
            [
             0.2222222222222222,
             "#7201a8"
            ],
            [
             0.3333333333333333,
             "#9c179e"
            ],
            [
             0.4444444444444444,
             "#bd3786"
            ],
            [
             0.5555555555555556,
             "#d8576b"
            ],
            [
             0.6666666666666666,
             "#ed7953"
            ],
            [
             0.7777777777777778,
             "#fb9f3a"
            ],
            [
             0.8888888888888888,
             "#fdca26"
            ],
            [
             1,
             "#f0f921"
            ]
           ]
          },
          "colorway": [
           "#636efa",
           "#EF553B",
           "#00cc96",
           "#ab63fa",
           "#FFA15A",
           "#19d3f3",
           "#FF6692",
           "#B6E880",
           "#FF97FF",
           "#FECB52"
          ],
          "font": {
           "color": "#2a3f5f"
          },
          "geo": {
           "bgcolor": "white",
           "lakecolor": "white",
           "landcolor": "#E5ECF6",
           "showlakes": true,
           "showland": true,
           "subunitcolor": "white"
          },
          "hoverlabel": {
           "align": "left"
          },
          "hovermode": "closest",
          "mapbox": {
           "style": "light"
          },
          "paper_bgcolor": "white",
          "plot_bgcolor": "#E5ECF6",
          "polar": {
           "angularaxis": {
            "gridcolor": "white",
            "linecolor": "white",
            "ticks": ""
           },
           "bgcolor": "#E5ECF6",
           "radialaxis": {
            "gridcolor": "white",
            "linecolor": "white",
            "ticks": ""
           }
          },
          "scene": {
           "xaxis": {
            "backgroundcolor": "#E5ECF6",
            "gridcolor": "white",
            "gridwidth": 2,
            "linecolor": "white",
            "showbackground": true,
            "ticks": "",
            "zerolinecolor": "white"
           },
           "yaxis": {
            "backgroundcolor": "#E5ECF6",
            "gridcolor": "white",
            "gridwidth": 2,
            "linecolor": "white",
            "showbackground": true,
            "ticks": "",
            "zerolinecolor": "white"
           },
           "zaxis": {
            "backgroundcolor": "#E5ECF6",
            "gridcolor": "white",
            "gridwidth": 2,
            "linecolor": "white",
            "showbackground": true,
            "ticks": "",
            "zerolinecolor": "white"
           }
          },
          "shapedefaults": {
           "line": {
            "color": "#2a3f5f"
           }
          },
          "ternary": {
           "aaxis": {
            "gridcolor": "white",
            "linecolor": "white",
            "ticks": ""
           },
           "baxis": {
            "gridcolor": "white",
            "linecolor": "white",
            "ticks": ""
           },
           "bgcolor": "#E5ECF6",
           "caxis": {
            "gridcolor": "white",
            "linecolor": "white",
            "ticks": ""
           }
          },
          "title": {
           "x": 0.05
          },
          "xaxis": {
           "automargin": true,
           "gridcolor": "white",
           "linecolor": "white",
           "ticks": "",
           "title": {
            "standoff": 15
           },
           "zerolinecolor": "white",
           "zerolinewidth": 2
          },
          "yaxis": {
           "automargin": true,
           "gridcolor": "white",
           "linecolor": "white",
           "ticks": "",
           "title": {
            "standoff": 15
           },
           "zerolinecolor": "white",
           "zerolinewidth": 2
          }
         }
        },
        "title": {
         "text": "66T Regions: Brain UMAP",
         "x": 0.5
        },
        "width": 800,
        "xaxis": {
         "mirror": true,
         "showgrid": false,
         "showline": true,
         "ticks": "outside",
         "title": {
          "text": "UMAP 1D"
         },
         "zeroline": false
        },
        "yaxis": {
         "mirror": true,
         "showgrid": false,
         "showline": true,
         "ticks": "outside",
         "title": {
          "text": "UMAP 2D"
         },
         "zeroline": false
        }
       }
      },
      "text/html": [
       "<div>                            <div id=\"3d5dfe8d-7534-42fc-9a2c-7235487cbc9b\" class=\"plotly-graph-div\" style=\"height:800px; width:800px;\"></div>            <script type=\"text/javascript\">                require([\"plotly\"], function(Plotly) {                    window.PLOTLYENV=window.PLOTLYENV || {};                                    if (document.getElementById(\"3d5dfe8d-7534-42fc-9a2c-7235487cbc9b\")) {                    Plotly.newPlot(                        \"3d5dfe8d-7534-42fc-9a2c-7235487cbc9b\",                        [{\"hoverinfo\":\"text\",\"marker\":{\"color\":[\"#8000ff\",\"#8000ff\",\"#8000ff\",\"#8000ff\",\"#8000ff\",\"#8000ff\",\"#8000ff\",\"#8000ff\",\"#8000ff\",\"#8000ff\",\"#8000ff\",\"#8000ff\",\"#8000ff\",\"#8000ff\",\"#8000ff\",\"#8000ff\",\"#8000ff\",\"#8000ff\",\"#8000ff\",\"#8000ff\",\"#8000ff\",\"#8000ff\",\"#8000ff\",\"#8000ff\",\"#8000ff\",\"#8000ff\",\"#8000ff\",\"#8000ff\",\"#8000ff\",\"#8000ff\",\"#8000ff\",\"#8000ff\",\"#8000ff\",\"#8000ff\",\"#8000ff\",\"#8000ff\",\"#8000ff\",\"#8000ff\",\"#8000ff\",\"#8000ff\",\"#8000ff\",\"#8000ff\",\"#8000ff\",\"#8000ff\",\"#8000ff\",\"#8000ff\",\"#8000ff\",\"#8000ff\",\"#ff0000\",\"#ff0000\",\"#ff0000\",\"#ff0000\",\"#8000ff\",\"#8000ff\",\"#8000ff\",\"#8000ff\",\"#8000ff\",\"#8000ff\",\"#8000ff\",\"#8000ff\",\"#8000ff\",\"#8000ff\",\"#8000ff\",\"#8000ff\",\"#8000ff\",\"#8000ff\",\"#8000ff\",\"#8000ff\",\"#8000ff\",\"#8000ff\",\"#8000ff\",\"#8000ff\",\"#8000ff\",\"#8000ff\",\"#8000ff\",\"#8000ff\",\"#ff0000\",\"#ff0000\",\"#ff0000\",\"#ff0000\"]},\"mode\":\"markers\",\"text\":[\"cTRIO DAT-CreBLA 3\",\"cTRIO DAT-CreBLA 4\",\"cTRIO DAT-CreBLA 5\",\"cTRIO DAT-CreBLA 6\",\"cTRIO DAT-CreNAcLat 1\",\"cTRIO DAT-CreNAcLat 4\",\"cTRIO DAT-CreNAcLat 6\",\"cTRIO DAT-CreNAcLat 7\",\"cTRIO DAT-CreNAcMed 1\",\"cTRIO DAT-CreNAcMed 2\",\"cTRIO DAT-CreNAcMed 3\",\"cTRIO DAT-CreNAcMed 5\",\"cTRIO DAT-CrePFC 4\",\"cTRIO DAT-CrePFC 5\",\"cTRIO DAT-CrePFC 6\",\"cTRIO DAT-CrePFC 7\",\"cTRIO GAD2-Cre BLA 1\",\"cTRIO GAD2-Cre BLA 2\",\"cTRIO GAD2-Cre BLA 3\",\"cTRIO GAD2-Cre BLA 4\",\"cTRIO GAD2-Cre NAcLat 1\",\"cTRIO GAD2-Cre NAcLat 2\",\"cTRIO GAD2-Cre NAcLat 3\",\"cTRIO GAD2-Cre NAcLat 4\",\"cTRIO GAD2-Cre PFC 1\",\"cTRIO GAD2-Cre PFC 2\",\"cTRIO GAD2-Cre PFC 3\",\"cTRIO GAD2-Cre PFC 4\",\"cTRIO VGluT2-Cre BLA 1\",\"cTRIO VGluT2-Cre BLA 3\",\"cTRIO VGluT2-Cre BLA 4\",\"cTRIO VGluT2-Cre BLA 5\",\"cTRIO VGluT2-Cre NAcLat 1\",\"cTRIO VGluT2-Cre NAcLat 2\",\"cTRIO VGluT2-Cre NAcLat 3\",\"cTRIO VGluT2-Cre NAcLat 4\",\"cTRIO VGluT2-Cre NAcMed 1\",\"cTRIO VGluT2-Cre NAcMed 2\",\"cTRIO VGluT2-Cre NAcMed 3\",\"cTRIO VGluT2-Cre NAcMed 4\",\"cTRIO VGluT2-Cre PFC 1\",\"cTRIO VGluT2-Cre PFC 2\",\"cTRIO VGluT2-Cre PFC 3\",\"cTRIO VGluT2-Cre PFC 4\",\"DAT-Cre 100 nL 1\",\"DAT-Cre 100 nL 4\",\"DAT-Cre 100 nL 5\",\"DAT-Cre 6\",\"DAT-Cre 66T 1\",\"DAT-Cre 66T 2\",\"DAT-Cre 66T 3\",\"DAT-Cre 66T 4\",\"Gad2Cre 100 nL 12\",\"Gad2Cre 100 nL 13\",\"Gad2Cre 100 nL 14\",\"Gad2Cre 100 nL 16\",\"TRIO BLA 1\",\"TRIO BLA 4\",\"TRIO BLA 6\",\"TRIO BLA 7\",\"TRIO NAcLat 1\",\"TRIO NAcLat 2\",\"TRIO NAcLat 3\",\"TRIO NAcLat 4\",\"TRIO NAcMed 1\",\"TRIO NAcMed 2\",\"TRIO NAcMed 3\",\"TRIO NAcMed 4\",\"TRIO PFC1\",\"TRIO PFC2\",\"TRIO PFC3\",\"TRIO PFC5\",\"VGluT2 1\",\"VGluT2 2\",\"VGluT2 3\",\"VGlut2 4\",\"(whole) DAT-Cre 66T 1\",\"(whole) DAT-Cre 66T 2\",\"(whole) DAT-Cre 66T 3\",\"(whole) DAT-Cre 66T 4\"],\"textposition\":\"bottom center\",\"x\":[0.24486422538757324,2.550814628601074,0.24363243579864502,3.062697410583496,4.03043270111084,3.678839683532715,3.181302785873413,2.396243095397949,4.300507545471191,3.793686628341675,5.657247543334961,4.002923488616943,1.7965142726898193,0.9756502509117126,1.2011080980300903,5.535375595092773,1.549625277519226,1.1834635734558105,4.689197063446045,2.105133056640625,3.278341054916382,2.1630494594573975,3.1257245540618896,1.5218541622161865,3.4347033500671387,3.7163894176483154,5.721877574920654,5.43945837020874,-0.843436598777771,-0.5212870836257935,0.7902570366859436,3.1057777404785156,2.747680902481079,1.657049298286438,1.8261154890060425,3.427157163619995,4.335311412811279,4.544818878173828,5.171546936035156,3.687598943710327,-0.22767479717731476,1.7332323789596558,3.0555810928344727,2.129563570022583,3.313842535018921,4.048858642578125,3.2946808338165283,4.292616367340088,0.622591495513916,4.489834785461426,4.465264797210693,-0.08393080532550812,2.6986262798309326,0.8874317407608032,1.2974309921264648,1.8882085084915161,0.4165508449077606,-0.5913189649581909,0.5727625489234924,2.7399652004241943,2.7781789302825928,3.7340924739837646,3.161525011062622,3.211582899093628,2.9985125064849854,5.254554271697998,5.59144926071167,5.989038944244385,5.029054641723633,2.4860334396362305,0.6929494142532349,0.5785987377166748,0.23127438127994537,-0.3639105260372162,0.10144864022731781,-0.08085323870182037,0.4889545738697052,4.813721179962158,4.722840309143066,0.5632126927375793],\"y\":[-1.8649635314941406,-1.1548480987548828,-1.741233229637146,-2.2899820804595947,-6.829790115356445,-6.35097599029541,-5.448181629180908,-5.042728900909424,-0.7753738164901733,-2.3936538696289062,-1.6765718460083008,-0.40899235010147095,-1.6512562036514282,-1.6764745712280273,-1.8611689805984497,-0.4862935245037079,-2.358121395111084,-1.0291714668273926,-0.161225363612175,-1.2741721868515015,-4.5334906578063965,-7.0635666847229,-3.892073154449463,-0.6941519379615784,-3.087371826171875,0.00496342359110713,0.44698816537857056,0.2641459107398987,-5.166278839111328,-3.6890127658843994,-2.5978102684020996,0.6468662619590759,-4.726806163787842,-4.51954984664917,-3.8319263458251953,-0.6321890354156494,-1.501229166984558,-1.0106785297393799,-1.6445717811584473,-1.4062219858169556,-5.282835483551025,-2.995680570602417,0.13976602256298065,-2.255204916000366,-4.940711498260498,-4.3022942543029785,-7.554818630218506,-4.569979190826416,-4.578621864318848,-2.6203396320343018,-3.56841778755188,-4.492307662963867,-5.870147705078125,-6.536419868469238,-5.936946868896484,-6.4581298828125,-6.274563312530518,-4.724255084991455,-3.5511679649353027,0.29615098237991333,-7.215114116668701,-7.153228759765625,-6.95819616317749,-6.815430641174316,-1.3954524993896484,-2.386780261993408,-1.995272159576416,-0.11938098073005676,-0.6853082180023193,-0.375739187002182,-0.9318576455116272,-5.832459926605225,-3.6967663764953613,-3.4022514820098877,-2.623694896697998,-4.113110542297363,-4.676733493804932,-3.0480875968933105,-4.053339958190918,-4.466012477874756],\"type\":\"scatter\"}],                        {\"template\":{\"data\":{\"bar\":[{\"error_x\":{\"color\":\"#2a3f5f\"},\"error_y\":{\"color\":\"#2a3f5f\"},\"marker\":{\"line\":{\"color\":\"#E5ECF6\",\"width\":0.5},\"pattern\":{\"fillmode\":\"overlay\",\"size\":10,\"solidity\":0.2}},\"type\":\"bar\"}],\"barpolar\":[{\"marker\":{\"line\":{\"color\":\"#E5ECF6\",\"width\":0.5},\"pattern\":{\"fillmode\":\"overlay\",\"size\":10,\"solidity\":0.2}},\"type\":\"barpolar\"}],\"carpet\":[{\"aaxis\":{\"endlinecolor\":\"#2a3f5f\",\"gridcolor\":\"white\",\"linecolor\":\"white\",\"minorgridcolor\":\"white\",\"startlinecolor\":\"#2a3f5f\"},\"baxis\":{\"endlinecolor\":\"#2a3f5f\",\"gridcolor\":\"white\",\"linecolor\":\"white\",\"minorgridcolor\":\"white\",\"startlinecolor\":\"#2a3f5f\"},\"type\":\"carpet\"}],\"choropleth\":[{\"colorbar\":{\"outlinewidth\":0,\"ticks\":\"\"},\"type\":\"choropleth\"}],\"contour\":[{\"colorbar\":{\"outlinewidth\":0,\"ticks\":\"\"},\"colorscale\":[[0.0,\"#0d0887\"],[0.1111111111111111,\"#46039f\"],[0.2222222222222222,\"#7201a8\"],[0.3333333333333333,\"#9c179e\"],[0.4444444444444444,\"#bd3786\"],[0.5555555555555556,\"#d8576b\"],[0.6666666666666666,\"#ed7953\"],[0.7777777777777778,\"#fb9f3a\"],[0.8888888888888888,\"#fdca26\"],[1.0,\"#f0f921\"]],\"type\":\"contour\"}],\"contourcarpet\":[{\"colorbar\":{\"outlinewidth\":0,\"ticks\":\"\"},\"type\":\"contourcarpet\"}],\"heatmap\":[{\"colorbar\":{\"outlinewidth\":0,\"ticks\":\"\"},\"colorscale\":[[0.0,\"#0d0887\"],[0.1111111111111111,\"#46039f\"],[0.2222222222222222,\"#7201a8\"],[0.3333333333333333,\"#9c179e\"],[0.4444444444444444,\"#bd3786\"],[0.5555555555555556,\"#d8576b\"],[0.6666666666666666,\"#ed7953\"],[0.7777777777777778,\"#fb9f3a\"],[0.8888888888888888,\"#fdca26\"],[1.0,\"#f0f921\"]],\"type\":\"heatmap\"}],\"heatmapgl\":[{\"colorbar\":{\"outlinewidth\":0,\"ticks\":\"\"},\"colorscale\":[[0.0,\"#0d0887\"],[0.1111111111111111,\"#46039f\"],[0.2222222222222222,\"#7201a8\"],[0.3333333333333333,\"#9c179e\"],[0.4444444444444444,\"#bd3786\"],[0.5555555555555556,\"#d8576b\"],[0.6666666666666666,\"#ed7953\"],[0.7777777777777778,\"#fb9f3a\"],[0.8888888888888888,\"#fdca26\"],[1.0,\"#f0f921\"]],\"type\":\"heatmapgl\"}],\"histogram\":[{\"marker\":{\"pattern\":{\"fillmode\":\"overlay\",\"size\":10,\"solidity\":0.2}},\"type\":\"histogram\"}],\"histogram2d\":[{\"colorbar\":{\"outlinewidth\":0,\"ticks\":\"\"},\"colorscale\":[[0.0,\"#0d0887\"],[0.1111111111111111,\"#46039f\"],[0.2222222222222222,\"#7201a8\"],[0.3333333333333333,\"#9c179e\"],[0.4444444444444444,\"#bd3786\"],[0.5555555555555556,\"#d8576b\"],[0.6666666666666666,\"#ed7953\"],[0.7777777777777778,\"#fb9f3a\"],[0.8888888888888888,\"#fdca26\"],[1.0,\"#f0f921\"]],\"type\":\"histogram2d\"}],\"histogram2dcontour\":[{\"colorbar\":{\"outlinewidth\":0,\"ticks\":\"\"},\"colorscale\":[[0.0,\"#0d0887\"],[0.1111111111111111,\"#46039f\"],[0.2222222222222222,\"#7201a8\"],[0.3333333333333333,\"#9c179e\"],[0.4444444444444444,\"#bd3786\"],[0.5555555555555556,\"#d8576b\"],[0.6666666666666666,\"#ed7953\"],[0.7777777777777778,\"#fb9f3a\"],[0.8888888888888888,\"#fdca26\"],[1.0,\"#f0f921\"]],\"type\":\"histogram2dcontour\"}],\"mesh3d\":[{\"colorbar\":{\"outlinewidth\":0,\"ticks\":\"\"},\"type\":\"mesh3d\"}],\"parcoords\":[{\"line\":{\"colorbar\":{\"outlinewidth\":0,\"ticks\":\"\"}},\"type\":\"parcoords\"}],\"pie\":[{\"automargin\":true,\"type\":\"pie\"}],\"scatter\":[{\"marker\":{\"colorbar\":{\"outlinewidth\":0,\"ticks\":\"\"}},\"type\":\"scatter\"}],\"scatter3d\":[{\"line\":{\"colorbar\":{\"outlinewidth\":0,\"ticks\":\"\"}},\"marker\":{\"colorbar\":{\"outlinewidth\":0,\"ticks\":\"\"}},\"type\":\"scatter3d\"}],\"scattercarpet\":[{\"marker\":{\"colorbar\":{\"outlinewidth\":0,\"ticks\":\"\"}},\"type\":\"scattercarpet\"}],\"scattergeo\":[{\"marker\":{\"colorbar\":{\"outlinewidth\":0,\"ticks\":\"\"}},\"type\":\"scattergeo\"}],\"scattergl\":[{\"marker\":{\"colorbar\":{\"outlinewidth\":0,\"ticks\":\"\"}},\"type\":\"scattergl\"}],\"scattermapbox\":[{\"marker\":{\"colorbar\":{\"outlinewidth\":0,\"ticks\":\"\"}},\"type\":\"scattermapbox\"}],\"scatterpolar\":[{\"marker\":{\"colorbar\":{\"outlinewidth\":0,\"ticks\":\"\"}},\"type\":\"scatterpolar\"}],\"scatterpolargl\":[{\"marker\":{\"colorbar\":{\"outlinewidth\":0,\"ticks\":\"\"}},\"type\":\"scatterpolargl\"}],\"scatterternary\":[{\"marker\":{\"colorbar\":{\"outlinewidth\":0,\"ticks\":\"\"}},\"type\":\"scatterternary\"}],\"surface\":[{\"colorbar\":{\"outlinewidth\":0,\"ticks\":\"\"},\"colorscale\":[[0.0,\"#0d0887\"],[0.1111111111111111,\"#46039f\"],[0.2222222222222222,\"#7201a8\"],[0.3333333333333333,\"#9c179e\"],[0.4444444444444444,\"#bd3786\"],[0.5555555555555556,\"#d8576b\"],[0.6666666666666666,\"#ed7953\"],[0.7777777777777778,\"#fb9f3a\"],[0.8888888888888888,\"#fdca26\"],[1.0,\"#f0f921\"]],\"type\":\"surface\"}],\"table\":[{\"cells\":{\"fill\":{\"color\":\"#EBF0F8\"},\"line\":{\"color\":\"white\"}},\"header\":{\"fill\":{\"color\":\"#C8D4E3\"},\"line\":{\"color\":\"white\"}},\"type\":\"table\"}]},\"layout\":{\"annotationdefaults\":{\"arrowcolor\":\"#2a3f5f\",\"arrowhead\":0,\"arrowwidth\":1},\"autotypenumbers\":\"strict\",\"coloraxis\":{\"colorbar\":{\"outlinewidth\":0,\"ticks\":\"\"}},\"colorscale\":{\"diverging\":[[0,\"#8e0152\"],[0.1,\"#c51b7d\"],[0.2,\"#de77ae\"],[0.3,\"#f1b6da\"],[0.4,\"#fde0ef\"],[0.5,\"#f7f7f7\"],[0.6,\"#e6f5d0\"],[0.7,\"#b8e186\"],[0.8,\"#7fbc41\"],[0.9,\"#4d9221\"],[1,\"#276419\"]],\"sequential\":[[0.0,\"#0d0887\"],[0.1111111111111111,\"#46039f\"],[0.2222222222222222,\"#7201a8\"],[0.3333333333333333,\"#9c179e\"],[0.4444444444444444,\"#bd3786\"],[0.5555555555555556,\"#d8576b\"],[0.6666666666666666,\"#ed7953\"],[0.7777777777777778,\"#fb9f3a\"],[0.8888888888888888,\"#fdca26\"],[1.0,\"#f0f921\"]],\"sequentialminus\":[[0.0,\"#0d0887\"],[0.1111111111111111,\"#46039f\"],[0.2222222222222222,\"#7201a8\"],[0.3333333333333333,\"#9c179e\"],[0.4444444444444444,\"#bd3786\"],[0.5555555555555556,\"#d8576b\"],[0.6666666666666666,\"#ed7953\"],[0.7777777777777778,\"#fb9f3a\"],[0.8888888888888888,\"#fdca26\"],[1.0,\"#f0f921\"]]},\"colorway\":[\"#636efa\",\"#EF553B\",\"#00cc96\",\"#ab63fa\",\"#FFA15A\",\"#19d3f3\",\"#FF6692\",\"#B6E880\",\"#FF97FF\",\"#FECB52\"],\"font\":{\"color\":\"#2a3f5f\"},\"geo\":{\"bgcolor\":\"white\",\"lakecolor\":\"white\",\"landcolor\":\"#E5ECF6\",\"showlakes\":true,\"showland\":true,\"subunitcolor\":\"white\"},\"hoverlabel\":{\"align\":\"left\"},\"hovermode\":\"closest\",\"mapbox\":{\"style\":\"light\"},\"paper_bgcolor\":\"white\",\"plot_bgcolor\":\"#E5ECF6\",\"polar\":{\"angularaxis\":{\"gridcolor\":\"white\",\"linecolor\":\"white\",\"ticks\":\"\"},\"bgcolor\":\"#E5ECF6\",\"radialaxis\":{\"gridcolor\":\"white\",\"linecolor\":\"white\",\"ticks\":\"\"}},\"scene\":{\"xaxis\":{\"backgroundcolor\":\"#E5ECF6\",\"gridcolor\":\"white\",\"gridwidth\":2,\"linecolor\":\"white\",\"showbackground\":true,\"ticks\":\"\",\"zerolinecolor\":\"white\"},\"yaxis\":{\"backgroundcolor\":\"#E5ECF6\",\"gridcolor\":\"white\",\"gridwidth\":2,\"linecolor\":\"white\",\"showbackground\":true,\"ticks\":\"\",\"zerolinecolor\":\"white\"},\"zaxis\":{\"backgroundcolor\":\"#E5ECF6\",\"gridcolor\":\"white\",\"gridwidth\":2,\"linecolor\":\"white\",\"showbackground\":true,\"ticks\":\"\",\"zerolinecolor\":\"white\"}},\"shapedefaults\":{\"line\":{\"color\":\"#2a3f5f\"}},\"ternary\":{\"aaxis\":{\"gridcolor\":\"white\",\"linecolor\":\"white\",\"ticks\":\"\"},\"baxis\":{\"gridcolor\":\"white\",\"linecolor\":\"white\",\"ticks\":\"\"},\"bgcolor\":\"#E5ECF6\",\"caxis\":{\"gridcolor\":\"white\",\"linecolor\":\"white\",\"ticks\":\"\"}},\"title\":{\"x\":0.05},\"xaxis\":{\"automargin\":true,\"gridcolor\":\"white\",\"linecolor\":\"white\",\"ticks\":\"\",\"title\":{\"standoff\":15},\"zerolinecolor\":\"white\",\"zerolinewidth\":2},\"yaxis\":{\"automargin\":true,\"gridcolor\":\"white\",\"linecolor\":\"white\",\"ticks\":\"\",\"title\":{\"standoff\":15},\"zerolinecolor\":\"white\",\"zerolinewidth\":2}}},\"title\":{\"text\":\"66T Regions: Brain UMAP\",\"x\":0.5},\"xaxis\":{\"title\":{\"text\":\"UMAP 1D\"},\"showline\":true,\"showgrid\":false,\"ticks\":\"outside\",\"mirror\":true,\"zeroline\":false},\"yaxis\":{\"title\":{\"text\":\"UMAP 2D\"},\"showline\":true,\"showgrid\":false,\"ticks\":\"outside\",\"mirror\":true,\"zeroline\":false},\"width\":800,\"height\":800},                        {\"responsive\": true}                    ).then(function(){\n",
       "                            \n",
       "var gd = document.getElementById('3d5dfe8d-7534-42fc-9a2c-7235487cbc9b');\n",
       "var x = new MutationObserver(function (mutations, observer) {{\n",
       "        var display = window.getComputedStyle(gd).display;\n",
       "        if (!display || display === 'none') {{\n",
       "            console.log([gd, 'removed!']);\n",
       "            Plotly.purge(gd);\n",
       "            observer.disconnect();\n",
       "        }}\n",
       "}});\n",
       "\n",
       "// Listen for the removal of the full notebook cells\n",
       "var notebookContainer = gd.closest('#notebook-container');\n",
       "if (notebookContainer) {{\n",
       "    x.observe(notebookContainer, {childList: true});\n",
       "}}\n",
       "\n",
       "// Listen for the clearing of the current output cell\n",
       "var outputEl = gd.closest('.output');\n",
       "if (outputEl) {{\n",
       "    x.observe(outputEl, {childList: true});\n",
       "}}\n",
       "\n",
       "                        })                };                });            </script>        </div>"
      ]
     },
     "metadata": {},
     "output_type": "display_data"
    }
   ],
   "source": [
    "cmap=plt.get_cmap('rainbow')\n",
    "colors = cmap(numpy.linspace(0, 1, len(conds)))\n",
    "colors_hex=[matplotlib.colors.rgb2hex(l) for l in colors]\n",
    "color={}\n",
    "for i,cond in enumerate(conds):\n",
    "    color[cond]=colors_hex[i]\n",
    "    \n",
    "color=full_inputs_df['is 66T'].map(color)\n",
    "    \n",
    "fig=go.Figure(data=go.Scatter(\n",
    "    y=allembedding[:,1],\n",
    "    x=allembedding[:,0],\n",
    "    mode='markers',\n",
    "    marker_color=color,\n",
    "    text=full_inputs_df['Experimental condition'],\n",
    "    textposition = \"bottom center\",\n",
    "    hoverinfo='text'\n",
    "    ))\n",
    "fig.update_layout(\n",
    "    width=800,\n",
    "    height=800,\n",
    "    xaxis_title='UMAP 1D',\n",
    "    yaxis_title='UMAP 2D',\n",
    "    title={\n",
    "        'text': \"66T Regions: Brain UMAP\",\n",
    "        'x': 0.5\n",
    "    },\n",
    "    xaxis={\n",
    "        'showline':True,\n",
    "        'showgrid':False, \n",
    "        'ticks':'outside',\n",
    "        'mirror':True,\n",
    "        'zeroline':False\n",
    "    },\n",
    "    yaxis={\n",
    "        'showline':True,\n",
    "        'showgrid':False, \n",
    "        'ticks':'outside',\n",
    "        'mirror':True,\n",
    "        'zeroline':False\n",
    "    }\n",
    ")"
   ]
  },
  {
   "cell_type": "code",
   "execution_count": 46,
   "metadata": {},
   "outputs": [],
   "source": [
    "plotly.io.write_html(fig, file='figures/umap.scaled.66T.'+writebatch+'.html')"
   ]
  },
  {
   "cell_type": "code",
   "execution_count": 47,
   "metadata": {},
   "outputs": [
    {
     "data": {
      "application/vnd.plotly.v1+json": {
       "config": {
        "plotlyServerURL": "https://plot.ly"
       },
       "data": [
        {
         "hoverinfo": "text",
         "marker": {
          "color": [
           "#8000ff",
           "#8000ff",
           "#8000ff",
           "#8000ff",
           "#00b5eb",
           "#00b5eb",
           "#00b5eb",
           "#00b5eb",
           "#80ffb4",
           "#80ffb4",
           "#80ffb4",
           "#80ffb4",
           "#ffb360",
           "#ffb360",
           "#ffb360",
           "#ffb360",
           "#8000ff",
           "#8000ff",
           "#8000ff",
           "#8000ff",
           "#00b5eb",
           "#00b5eb",
           "#00b5eb",
           "#00b5eb",
           "#ffb360",
           "#ffb360",
           "#ffb360",
           "#ffb360",
           "#8000ff",
           "#8000ff",
           "#8000ff",
           "#8000ff",
           "#00b5eb",
           "#00b5eb",
           "#00b5eb",
           "#00b5eb",
           "#80ffb4",
           "#80ffb4",
           "#80ffb4",
           "#80ffb4",
           "#ffb360",
           "#ffb360",
           "#ffb360",
           "#ffb360",
           "#ff0000",
           "#ff0000",
           "#ff0000",
           "#ff0000",
           "#ff0000",
           "#ff0000",
           "#ff0000",
           "#ff0000",
           "#ff0000",
           "#ff0000",
           "#ff0000",
           "#ff0000",
           "#8000ff",
           "#8000ff",
           "#8000ff",
           "#8000ff",
           "#00b5eb",
           "#00b5eb",
           "#00b5eb",
           "#00b5eb",
           "#80ffb4",
           "#80ffb4",
           "#80ffb4",
           "#80ffb4",
           "#ffb360",
           "#ffb360",
           "#ffb360",
           "#ffb360",
           "#ff0000",
           "#ff0000",
           "#ff0000",
           "#ff0000",
           "#ff0000",
           "#ff0000",
           "#ff0000",
           "#ff0000"
          ]
         },
         "mode": "markers",
         "text": [
          "cTRIO DAT-CreBLA 3",
          "cTRIO DAT-CreBLA 4",
          "cTRIO DAT-CreBLA 5",
          "cTRIO DAT-CreBLA 6",
          "cTRIO DAT-CreNAcLat 1",
          "cTRIO DAT-CreNAcLat 4",
          "cTRIO DAT-CreNAcLat 6",
          "cTRIO DAT-CreNAcLat 7",
          "cTRIO DAT-CreNAcMed 1",
          "cTRIO DAT-CreNAcMed 2",
          "cTRIO DAT-CreNAcMed 3",
          "cTRIO DAT-CreNAcMed 5",
          "cTRIO DAT-CrePFC 4",
          "cTRIO DAT-CrePFC 5",
          "cTRIO DAT-CrePFC 6",
          "cTRIO DAT-CrePFC 7",
          "cTRIO GAD2-Cre BLA 1",
          "cTRIO GAD2-Cre BLA 2",
          "cTRIO GAD2-Cre BLA 3",
          "cTRIO GAD2-Cre BLA 4",
          "cTRIO GAD2-Cre NAcLat 1",
          "cTRIO GAD2-Cre NAcLat 2",
          "cTRIO GAD2-Cre NAcLat 3",
          "cTRIO GAD2-Cre NAcLat 4",
          "cTRIO GAD2-Cre PFC 1",
          "cTRIO GAD2-Cre PFC 2",
          "cTRIO GAD2-Cre PFC 3",
          "cTRIO GAD2-Cre PFC 4",
          "cTRIO VGluT2-Cre BLA 1",
          "cTRIO VGluT2-Cre BLA 3",
          "cTRIO VGluT2-Cre BLA 4",
          "cTRIO VGluT2-Cre BLA 5",
          "cTRIO VGluT2-Cre NAcLat 1",
          "cTRIO VGluT2-Cre NAcLat 2",
          "cTRIO VGluT2-Cre NAcLat 3",
          "cTRIO VGluT2-Cre NAcLat 4",
          "cTRIO VGluT2-Cre NAcMed 1",
          "cTRIO VGluT2-Cre NAcMed 2",
          "cTRIO VGluT2-Cre NAcMed 3",
          "cTRIO VGluT2-Cre NAcMed 4",
          "cTRIO VGluT2-Cre PFC 1",
          "cTRIO VGluT2-Cre PFC 2",
          "cTRIO VGluT2-Cre PFC 3",
          "cTRIO VGluT2-Cre PFC 4",
          "DAT-Cre 100 nL 1",
          "DAT-Cre 100 nL 4",
          "DAT-Cre 100 nL 5",
          "DAT-Cre 6",
          "DAT-Cre 66T 1",
          "DAT-Cre 66T 2",
          "DAT-Cre 66T 3",
          "DAT-Cre 66T 4",
          "Gad2Cre 100 nL 12",
          "Gad2Cre 100 nL 13",
          "Gad2Cre 100 nL 14",
          "Gad2Cre 100 nL 16",
          "TRIO BLA 1",
          "TRIO BLA 4",
          "TRIO BLA 6",
          "TRIO BLA 7",
          "TRIO NAcLat 1",
          "TRIO NAcLat 2",
          "TRIO NAcLat 3",
          "TRIO NAcLat 4",
          "TRIO NAcMed 1",
          "TRIO NAcMed 2",
          "TRIO NAcMed 3",
          "TRIO NAcMed 4",
          "TRIO PFC1",
          "TRIO PFC2",
          "TRIO PFC3",
          "TRIO PFC5",
          "VGluT2 1",
          "VGluT2 2",
          "VGluT2 3",
          "VGlut2 4",
          "(whole) DAT-Cre 66T 1",
          "(whole) DAT-Cre 66T 2",
          "(whole) DAT-Cre 66T 3",
          "(whole) DAT-Cre 66T 4"
         ],
         "textposition": "bottom center",
         "type": "scatter",
         "x": [
          0.24486422538757324,
          2.550814628601074,
          0.24363243579864502,
          3.062697410583496,
          4.03043270111084,
          3.678839683532715,
          3.181302785873413,
          2.396243095397949,
          4.300507545471191,
          3.793686628341675,
          5.657247543334961,
          4.002923488616943,
          1.7965142726898193,
          0.9756502509117126,
          1.2011080980300903,
          5.535375595092773,
          1.549625277519226,
          1.1834635734558105,
          4.689197063446045,
          2.105133056640625,
          3.278341054916382,
          2.1630494594573975,
          3.1257245540618896,
          1.5218541622161865,
          3.4347033500671387,
          3.7163894176483154,
          5.721877574920654,
          5.43945837020874,
          -0.843436598777771,
          -0.5212870836257935,
          0.7902570366859436,
          3.1057777404785156,
          2.747680902481079,
          1.657049298286438,
          1.8261154890060425,
          3.427157163619995,
          4.335311412811279,
          4.544818878173828,
          5.171546936035156,
          3.687598943710327,
          -0.22767479717731476,
          1.7332323789596558,
          3.0555810928344727,
          2.129563570022583,
          3.313842535018921,
          4.048858642578125,
          3.2946808338165283,
          4.292616367340088,
          0.622591495513916,
          4.489834785461426,
          4.465264797210693,
          -0.08393080532550812,
          2.6986262798309326,
          0.8874317407608032,
          1.2974309921264648,
          1.8882085084915161,
          0.4165508449077606,
          -0.5913189649581909,
          0.5727625489234924,
          2.7399652004241943,
          2.7781789302825928,
          3.7340924739837646,
          3.161525011062622,
          3.211582899093628,
          2.9985125064849854,
          5.254554271697998,
          5.59144926071167,
          5.989038944244385,
          5.029054641723633,
          2.4860334396362305,
          0.6929494142532349,
          0.5785987377166748,
          0.23127438127994537,
          -0.3639105260372162,
          0.10144864022731781,
          -0.08085323870182037,
          0.4889545738697052,
          4.813721179962158,
          4.722840309143066,
          0.5632126927375793
         ],
         "y": [
          -1.8649635314941406,
          -1.1548480987548828,
          -1.741233229637146,
          -2.2899820804595947,
          -6.829790115356445,
          -6.35097599029541,
          -5.448181629180908,
          -5.042728900909424,
          -0.7753738164901733,
          -2.3936538696289062,
          -1.6765718460083008,
          -0.40899235010147095,
          -1.6512562036514282,
          -1.6764745712280273,
          -1.8611689805984497,
          -0.4862935245037079,
          -2.358121395111084,
          -1.0291714668273926,
          -0.161225363612175,
          -1.2741721868515015,
          -4.5334906578063965,
          -7.0635666847229,
          -3.892073154449463,
          -0.6941519379615784,
          -3.087371826171875,
          0.00496342359110713,
          0.44698816537857056,
          0.2641459107398987,
          -5.166278839111328,
          -3.6890127658843994,
          -2.5978102684020996,
          0.6468662619590759,
          -4.726806163787842,
          -4.51954984664917,
          -3.8319263458251953,
          -0.6321890354156494,
          -1.501229166984558,
          -1.0106785297393799,
          -1.6445717811584473,
          -1.4062219858169556,
          -5.282835483551025,
          -2.995680570602417,
          0.13976602256298065,
          -2.255204916000366,
          -4.940711498260498,
          -4.3022942543029785,
          -7.554818630218506,
          -4.569979190826416,
          -4.578621864318848,
          -2.6203396320343018,
          -3.56841778755188,
          -4.492307662963867,
          -5.870147705078125,
          -6.536419868469238,
          -5.936946868896484,
          -6.4581298828125,
          -6.274563312530518,
          -4.724255084991455,
          -3.5511679649353027,
          0.29615098237991333,
          -7.215114116668701,
          -7.153228759765625,
          -6.95819616317749,
          -6.815430641174316,
          -1.3954524993896484,
          -2.386780261993408,
          -1.995272159576416,
          -0.11938098073005676,
          -0.6853082180023193,
          -0.375739187002182,
          -0.9318576455116272,
          -5.832459926605225,
          -3.6967663764953613,
          -3.4022514820098877,
          -2.623694896697998,
          -4.113110542297363,
          -4.676733493804932,
          -3.0480875968933105,
          -4.053339958190918,
          -4.466012477874756
         ]
        }
       ],
       "layout": {
        "height": 800,
        "template": {
         "data": {
          "bar": [
           {
            "error_x": {
             "color": "#2a3f5f"
            },
            "error_y": {
             "color": "#2a3f5f"
            },
            "marker": {
             "line": {
              "color": "#E5ECF6",
              "width": 0.5
             },
             "pattern": {
              "fillmode": "overlay",
              "size": 10,
              "solidity": 0.2
             }
            },
            "type": "bar"
           }
          ],
          "barpolar": [
           {
            "marker": {
             "line": {
              "color": "#E5ECF6",
              "width": 0.5
             },
             "pattern": {
              "fillmode": "overlay",
              "size": 10,
              "solidity": 0.2
             }
            },
            "type": "barpolar"
           }
          ],
          "carpet": [
           {
            "aaxis": {
             "endlinecolor": "#2a3f5f",
             "gridcolor": "white",
             "linecolor": "white",
             "minorgridcolor": "white",
             "startlinecolor": "#2a3f5f"
            },
            "baxis": {
             "endlinecolor": "#2a3f5f",
             "gridcolor": "white",
             "linecolor": "white",
             "minorgridcolor": "white",
             "startlinecolor": "#2a3f5f"
            },
            "type": "carpet"
           }
          ],
          "choropleth": [
           {
            "colorbar": {
             "outlinewidth": 0,
             "ticks": ""
            },
            "type": "choropleth"
           }
          ],
          "contour": [
           {
            "colorbar": {
             "outlinewidth": 0,
             "ticks": ""
            },
            "colorscale": [
             [
              0,
              "#0d0887"
             ],
             [
              0.1111111111111111,
              "#46039f"
             ],
             [
              0.2222222222222222,
              "#7201a8"
             ],
             [
              0.3333333333333333,
              "#9c179e"
             ],
             [
              0.4444444444444444,
              "#bd3786"
             ],
             [
              0.5555555555555556,
              "#d8576b"
             ],
             [
              0.6666666666666666,
              "#ed7953"
             ],
             [
              0.7777777777777778,
              "#fb9f3a"
             ],
             [
              0.8888888888888888,
              "#fdca26"
             ],
             [
              1,
              "#f0f921"
             ]
            ],
            "type": "contour"
           }
          ],
          "contourcarpet": [
           {
            "colorbar": {
             "outlinewidth": 0,
             "ticks": ""
            },
            "type": "contourcarpet"
           }
          ],
          "heatmap": [
           {
            "colorbar": {
             "outlinewidth": 0,
             "ticks": ""
            },
            "colorscale": [
             [
              0,
              "#0d0887"
             ],
             [
              0.1111111111111111,
              "#46039f"
             ],
             [
              0.2222222222222222,
              "#7201a8"
             ],
             [
              0.3333333333333333,
              "#9c179e"
             ],
             [
              0.4444444444444444,
              "#bd3786"
             ],
             [
              0.5555555555555556,
              "#d8576b"
             ],
             [
              0.6666666666666666,
              "#ed7953"
             ],
             [
              0.7777777777777778,
              "#fb9f3a"
             ],
             [
              0.8888888888888888,
              "#fdca26"
             ],
             [
              1,
              "#f0f921"
             ]
            ],
            "type": "heatmap"
           }
          ],
          "heatmapgl": [
           {
            "colorbar": {
             "outlinewidth": 0,
             "ticks": ""
            },
            "colorscale": [
             [
              0,
              "#0d0887"
             ],
             [
              0.1111111111111111,
              "#46039f"
             ],
             [
              0.2222222222222222,
              "#7201a8"
             ],
             [
              0.3333333333333333,
              "#9c179e"
             ],
             [
              0.4444444444444444,
              "#bd3786"
             ],
             [
              0.5555555555555556,
              "#d8576b"
             ],
             [
              0.6666666666666666,
              "#ed7953"
             ],
             [
              0.7777777777777778,
              "#fb9f3a"
             ],
             [
              0.8888888888888888,
              "#fdca26"
             ],
             [
              1,
              "#f0f921"
             ]
            ],
            "type": "heatmapgl"
           }
          ],
          "histogram": [
           {
            "marker": {
             "pattern": {
              "fillmode": "overlay",
              "size": 10,
              "solidity": 0.2
             }
            },
            "type": "histogram"
           }
          ],
          "histogram2d": [
           {
            "colorbar": {
             "outlinewidth": 0,
             "ticks": ""
            },
            "colorscale": [
             [
              0,
              "#0d0887"
             ],
             [
              0.1111111111111111,
              "#46039f"
             ],
             [
              0.2222222222222222,
              "#7201a8"
             ],
             [
              0.3333333333333333,
              "#9c179e"
             ],
             [
              0.4444444444444444,
              "#bd3786"
             ],
             [
              0.5555555555555556,
              "#d8576b"
             ],
             [
              0.6666666666666666,
              "#ed7953"
             ],
             [
              0.7777777777777778,
              "#fb9f3a"
             ],
             [
              0.8888888888888888,
              "#fdca26"
             ],
             [
              1,
              "#f0f921"
             ]
            ],
            "type": "histogram2d"
           }
          ],
          "histogram2dcontour": [
           {
            "colorbar": {
             "outlinewidth": 0,
             "ticks": ""
            },
            "colorscale": [
             [
              0,
              "#0d0887"
             ],
             [
              0.1111111111111111,
              "#46039f"
             ],
             [
              0.2222222222222222,
              "#7201a8"
             ],
             [
              0.3333333333333333,
              "#9c179e"
             ],
             [
              0.4444444444444444,
              "#bd3786"
             ],
             [
              0.5555555555555556,
              "#d8576b"
             ],
             [
              0.6666666666666666,
              "#ed7953"
             ],
             [
              0.7777777777777778,
              "#fb9f3a"
             ],
             [
              0.8888888888888888,
              "#fdca26"
             ],
             [
              1,
              "#f0f921"
             ]
            ],
            "type": "histogram2dcontour"
           }
          ],
          "mesh3d": [
           {
            "colorbar": {
             "outlinewidth": 0,
             "ticks": ""
            },
            "type": "mesh3d"
           }
          ],
          "parcoords": [
           {
            "line": {
             "colorbar": {
              "outlinewidth": 0,
              "ticks": ""
             }
            },
            "type": "parcoords"
           }
          ],
          "pie": [
           {
            "automargin": true,
            "type": "pie"
           }
          ],
          "scatter": [
           {
            "marker": {
             "colorbar": {
              "outlinewidth": 0,
              "ticks": ""
             }
            },
            "type": "scatter"
           }
          ],
          "scatter3d": [
           {
            "line": {
             "colorbar": {
              "outlinewidth": 0,
              "ticks": ""
             }
            },
            "marker": {
             "colorbar": {
              "outlinewidth": 0,
              "ticks": ""
             }
            },
            "type": "scatter3d"
           }
          ],
          "scattercarpet": [
           {
            "marker": {
             "colorbar": {
              "outlinewidth": 0,
              "ticks": ""
             }
            },
            "type": "scattercarpet"
           }
          ],
          "scattergeo": [
           {
            "marker": {
             "colorbar": {
              "outlinewidth": 0,
              "ticks": ""
             }
            },
            "type": "scattergeo"
           }
          ],
          "scattergl": [
           {
            "marker": {
             "colorbar": {
              "outlinewidth": 0,
              "ticks": ""
             }
            },
            "type": "scattergl"
           }
          ],
          "scattermapbox": [
           {
            "marker": {
             "colorbar": {
              "outlinewidth": 0,
              "ticks": ""
             }
            },
            "type": "scattermapbox"
           }
          ],
          "scatterpolar": [
           {
            "marker": {
             "colorbar": {
              "outlinewidth": 0,
              "ticks": ""
             }
            },
            "type": "scatterpolar"
           }
          ],
          "scatterpolargl": [
           {
            "marker": {
             "colorbar": {
              "outlinewidth": 0,
              "ticks": ""
             }
            },
            "type": "scatterpolargl"
           }
          ],
          "scatterternary": [
           {
            "marker": {
             "colorbar": {
              "outlinewidth": 0,
              "ticks": ""
             }
            },
            "type": "scatterternary"
           }
          ],
          "surface": [
           {
            "colorbar": {
             "outlinewidth": 0,
             "ticks": ""
            },
            "colorscale": [
             [
              0,
              "#0d0887"
             ],
             [
              0.1111111111111111,
              "#46039f"
             ],
             [
              0.2222222222222222,
              "#7201a8"
             ],
             [
              0.3333333333333333,
              "#9c179e"
             ],
             [
              0.4444444444444444,
              "#bd3786"
             ],
             [
              0.5555555555555556,
              "#d8576b"
             ],
             [
              0.6666666666666666,
              "#ed7953"
             ],
             [
              0.7777777777777778,
              "#fb9f3a"
             ],
             [
              0.8888888888888888,
              "#fdca26"
             ],
             [
              1,
              "#f0f921"
             ]
            ],
            "type": "surface"
           }
          ],
          "table": [
           {
            "cells": {
             "fill": {
              "color": "#EBF0F8"
             },
             "line": {
              "color": "white"
             }
            },
            "header": {
             "fill": {
              "color": "#C8D4E3"
             },
             "line": {
              "color": "white"
             }
            },
            "type": "table"
           }
          ]
         },
         "layout": {
          "annotationdefaults": {
           "arrowcolor": "#2a3f5f",
           "arrowhead": 0,
           "arrowwidth": 1
          },
          "autotypenumbers": "strict",
          "coloraxis": {
           "colorbar": {
            "outlinewidth": 0,
            "ticks": ""
           }
          },
          "colorscale": {
           "diverging": [
            [
             0,
             "#8e0152"
            ],
            [
             0.1,
             "#c51b7d"
            ],
            [
             0.2,
             "#de77ae"
            ],
            [
             0.3,
             "#f1b6da"
            ],
            [
             0.4,
             "#fde0ef"
            ],
            [
             0.5,
             "#f7f7f7"
            ],
            [
             0.6,
             "#e6f5d0"
            ],
            [
             0.7,
             "#b8e186"
            ],
            [
             0.8,
             "#7fbc41"
            ],
            [
             0.9,
             "#4d9221"
            ],
            [
             1,
             "#276419"
            ]
           ],
           "sequential": [
            [
             0,
             "#0d0887"
            ],
            [
             0.1111111111111111,
             "#46039f"
            ],
            [
             0.2222222222222222,
             "#7201a8"
            ],
            [
             0.3333333333333333,
             "#9c179e"
            ],
            [
             0.4444444444444444,
             "#bd3786"
            ],
            [
             0.5555555555555556,
             "#d8576b"
            ],
            [
             0.6666666666666666,
             "#ed7953"
            ],
            [
             0.7777777777777778,
             "#fb9f3a"
            ],
            [
             0.8888888888888888,
             "#fdca26"
            ],
            [
             1,
             "#f0f921"
            ]
           ],
           "sequentialminus": [
            [
             0,
             "#0d0887"
            ],
            [
             0.1111111111111111,
             "#46039f"
            ],
            [
             0.2222222222222222,
             "#7201a8"
            ],
            [
             0.3333333333333333,
             "#9c179e"
            ],
            [
             0.4444444444444444,
             "#bd3786"
            ],
            [
             0.5555555555555556,
             "#d8576b"
            ],
            [
             0.6666666666666666,
             "#ed7953"
            ],
            [
             0.7777777777777778,
             "#fb9f3a"
            ],
            [
             0.8888888888888888,
             "#fdca26"
            ],
            [
             1,
             "#f0f921"
            ]
           ]
          },
          "colorway": [
           "#636efa",
           "#EF553B",
           "#00cc96",
           "#ab63fa",
           "#FFA15A",
           "#19d3f3",
           "#FF6692",
           "#B6E880",
           "#FF97FF",
           "#FECB52"
          ],
          "font": {
           "color": "#2a3f5f"
          },
          "geo": {
           "bgcolor": "white",
           "lakecolor": "white",
           "landcolor": "#E5ECF6",
           "showlakes": true,
           "showland": true,
           "subunitcolor": "white"
          },
          "hoverlabel": {
           "align": "left"
          },
          "hovermode": "closest",
          "mapbox": {
           "style": "light"
          },
          "paper_bgcolor": "white",
          "plot_bgcolor": "#E5ECF6",
          "polar": {
           "angularaxis": {
            "gridcolor": "white",
            "linecolor": "white",
            "ticks": ""
           },
           "bgcolor": "#E5ECF6",
           "radialaxis": {
            "gridcolor": "white",
            "linecolor": "white",
            "ticks": ""
           }
          },
          "scene": {
           "xaxis": {
            "backgroundcolor": "#E5ECF6",
            "gridcolor": "white",
            "gridwidth": 2,
            "linecolor": "white",
            "showbackground": true,
            "ticks": "",
            "zerolinecolor": "white"
           },
           "yaxis": {
            "backgroundcolor": "#E5ECF6",
            "gridcolor": "white",
            "gridwidth": 2,
            "linecolor": "white",
            "showbackground": true,
            "ticks": "",
            "zerolinecolor": "white"
           },
           "zaxis": {
            "backgroundcolor": "#E5ECF6",
            "gridcolor": "white",
            "gridwidth": 2,
            "linecolor": "white",
            "showbackground": true,
            "ticks": "",
            "zerolinecolor": "white"
           }
          },
          "shapedefaults": {
           "line": {
            "color": "#2a3f5f"
           }
          },
          "ternary": {
           "aaxis": {
            "gridcolor": "white",
            "linecolor": "white",
            "ticks": ""
           },
           "baxis": {
            "gridcolor": "white",
            "linecolor": "white",
            "ticks": ""
           },
           "bgcolor": "#E5ECF6",
           "caxis": {
            "gridcolor": "white",
            "linecolor": "white",
            "ticks": ""
           }
          },
          "title": {
           "x": 0.05
          },
          "xaxis": {
           "automargin": true,
           "gridcolor": "white",
           "linecolor": "white",
           "ticks": "",
           "title": {
            "standoff": 15
           },
           "zerolinecolor": "white",
           "zerolinewidth": 2
          },
          "yaxis": {
           "automargin": true,
           "gridcolor": "white",
           "linecolor": "white",
           "ticks": "",
           "title": {
            "standoff": 15
           },
           "zerolinecolor": "white",
           "zerolinewidth": 2
          }
         }
        },
        "title": {
         "text": "66T Regions: Brain UMAP",
         "x": 0.5
        },
        "width": 800,
        "xaxis": {
         "mirror": true,
         "showgrid": false,
         "showline": true,
         "ticks": "outside",
         "title": {
          "text": "UMAP 1D"
         },
         "zeroline": false
        },
        "yaxis": {
         "mirror": true,
         "showgrid": false,
         "showline": true,
         "ticks": "outside",
         "title": {
          "text": "UMAP 2D"
         },
         "zeroline": false
        }
       }
      },
      "text/html": [
       "<div>                            <div id=\"49bd1851-2ae7-41ad-81d7-a98cb821e4b5\" class=\"plotly-graph-div\" style=\"height:800px; width:800px;\"></div>            <script type=\"text/javascript\">                require([\"plotly\"], function(Plotly) {                    window.PLOTLYENV=window.PLOTLYENV || {};                                    if (document.getElementById(\"49bd1851-2ae7-41ad-81d7-a98cb821e4b5\")) {                    Plotly.newPlot(                        \"49bd1851-2ae7-41ad-81d7-a98cb821e4b5\",                        [{\"hoverinfo\":\"text\",\"marker\":{\"color\":[\"#8000ff\",\"#8000ff\",\"#8000ff\",\"#8000ff\",\"#00b5eb\",\"#00b5eb\",\"#00b5eb\",\"#00b5eb\",\"#80ffb4\",\"#80ffb4\",\"#80ffb4\",\"#80ffb4\",\"#ffb360\",\"#ffb360\",\"#ffb360\",\"#ffb360\",\"#8000ff\",\"#8000ff\",\"#8000ff\",\"#8000ff\",\"#00b5eb\",\"#00b5eb\",\"#00b5eb\",\"#00b5eb\",\"#ffb360\",\"#ffb360\",\"#ffb360\",\"#ffb360\",\"#8000ff\",\"#8000ff\",\"#8000ff\",\"#8000ff\",\"#00b5eb\",\"#00b5eb\",\"#00b5eb\",\"#00b5eb\",\"#80ffb4\",\"#80ffb4\",\"#80ffb4\",\"#80ffb4\",\"#ffb360\",\"#ffb360\",\"#ffb360\",\"#ffb360\",\"#ff0000\",\"#ff0000\",\"#ff0000\",\"#ff0000\",\"#ff0000\",\"#ff0000\",\"#ff0000\",\"#ff0000\",\"#ff0000\",\"#ff0000\",\"#ff0000\",\"#ff0000\",\"#8000ff\",\"#8000ff\",\"#8000ff\",\"#8000ff\",\"#00b5eb\",\"#00b5eb\",\"#00b5eb\",\"#00b5eb\",\"#80ffb4\",\"#80ffb4\",\"#80ffb4\",\"#80ffb4\",\"#ffb360\",\"#ffb360\",\"#ffb360\",\"#ffb360\",\"#ff0000\",\"#ff0000\",\"#ff0000\",\"#ff0000\",\"#ff0000\",\"#ff0000\",\"#ff0000\",\"#ff0000\"]},\"mode\":\"markers\",\"text\":[\"cTRIO DAT-CreBLA 3\",\"cTRIO DAT-CreBLA 4\",\"cTRIO DAT-CreBLA 5\",\"cTRIO DAT-CreBLA 6\",\"cTRIO DAT-CreNAcLat 1\",\"cTRIO DAT-CreNAcLat 4\",\"cTRIO DAT-CreNAcLat 6\",\"cTRIO DAT-CreNAcLat 7\",\"cTRIO DAT-CreNAcMed 1\",\"cTRIO DAT-CreNAcMed 2\",\"cTRIO DAT-CreNAcMed 3\",\"cTRIO DAT-CreNAcMed 5\",\"cTRIO DAT-CrePFC 4\",\"cTRIO DAT-CrePFC 5\",\"cTRIO DAT-CrePFC 6\",\"cTRIO DAT-CrePFC 7\",\"cTRIO GAD2-Cre BLA 1\",\"cTRIO GAD2-Cre BLA 2\",\"cTRIO GAD2-Cre BLA 3\",\"cTRIO GAD2-Cre BLA 4\",\"cTRIO GAD2-Cre NAcLat 1\",\"cTRIO GAD2-Cre NAcLat 2\",\"cTRIO GAD2-Cre NAcLat 3\",\"cTRIO GAD2-Cre NAcLat 4\",\"cTRIO GAD2-Cre PFC 1\",\"cTRIO GAD2-Cre PFC 2\",\"cTRIO GAD2-Cre PFC 3\",\"cTRIO GAD2-Cre PFC 4\",\"cTRIO VGluT2-Cre BLA 1\",\"cTRIO VGluT2-Cre BLA 3\",\"cTRIO VGluT2-Cre BLA 4\",\"cTRIO VGluT2-Cre BLA 5\",\"cTRIO VGluT2-Cre NAcLat 1\",\"cTRIO VGluT2-Cre NAcLat 2\",\"cTRIO VGluT2-Cre NAcLat 3\",\"cTRIO VGluT2-Cre NAcLat 4\",\"cTRIO VGluT2-Cre NAcMed 1\",\"cTRIO VGluT2-Cre NAcMed 2\",\"cTRIO VGluT2-Cre NAcMed 3\",\"cTRIO VGluT2-Cre NAcMed 4\",\"cTRIO VGluT2-Cre PFC 1\",\"cTRIO VGluT2-Cre PFC 2\",\"cTRIO VGluT2-Cre PFC 3\",\"cTRIO VGluT2-Cre PFC 4\",\"DAT-Cre 100 nL 1\",\"DAT-Cre 100 nL 4\",\"DAT-Cre 100 nL 5\",\"DAT-Cre 6\",\"DAT-Cre 66T 1\",\"DAT-Cre 66T 2\",\"DAT-Cre 66T 3\",\"DAT-Cre 66T 4\",\"Gad2Cre 100 nL 12\",\"Gad2Cre 100 nL 13\",\"Gad2Cre 100 nL 14\",\"Gad2Cre 100 nL 16\",\"TRIO BLA 1\",\"TRIO BLA 4\",\"TRIO BLA 6\",\"TRIO BLA 7\",\"TRIO NAcLat 1\",\"TRIO NAcLat 2\",\"TRIO NAcLat 3\",\"TRIO NAcLat 4\",\"TRIO NAcMed 1\",\"TRIO NAcMed 2\",\"TRIO NAcMed 3\",\"TRIO NAcMed 4\",\"TRIO PFC1\",\"TRIO PFC2\",\"TRIO PFC3\",\"TRIO PFC5\",\"VGluT2 1\",\"VGluT2 2\",\"VGluT2 3\",\"VGlut2 4\",\"(whole) DAT-Cre 66T 1\",\"(whole) DAT-Cre 66T 2\",\"(whole) DAT-Cre 66T 3\",\"(whole) DAT-Cre 66T 4\"],\"textposition\":\"bottom center\",\"x\":[0.24486422538757324,2.550814628601074,0.24363243579864502,3.062697410583496,4.03043270111084,3.678839683532715,3.181302785873413,2.396243095397949,4.300507545471191,3.793686628341675,5.657247543334961,4.002923488616943,1.7965142726898193,0.9756502509117126,1.2011080980300903,5.535375595092773,1.549625277519226,1.1834635734558105,4.689197063446045,2.105133056640625,3.278341054916382,2.1630494594573975,3.1257245540618896,1.5218541622161865,3.4347033500671387,3.7163894176483154,5.721877574920654,5.43945837020874,-0.843436598777771,-0.5212870836257935,0.7902570366859436,3.1057777404785156,2.747680902481079,1.657049298286438,1.8261154890060425,3.427157163619995,4.335311412811279,4.544818878173828,5.171546936035156,3.687598943710327,-0.22767479717731476,1.7332323789596558,3.0555810928344727,2.129563570022583,3.313842535018921,4.048858642578125,3.2946808338165283,4.292616367340088,0.622591495513916,4.489834785461426,4.465264797210693,-0.08393080532550812,2.6986262798309326,0.8874317407608032,1.2974309921264648,1.8882085084915161,0.4165508449077606,-0.5913189649581909,0.5727625489234924,2.7399652004241943,2.7781789302825928,3.7340924739837646,3.161525011062622,3.211582899093628,2.9985125064849854,5.254554271697998,5.59144926071167,5.989038944244385,5.029054641723633,2.4860334396362305,0.6929494142532349,0.5785987377166748,0.23127438127994537,-0.3639105260372162,0.10144864022731781,-0.08085323870182037,0.4889545738697052,4.813721179962158,4.722840309143066,0.5632126927375793],\"y\":[-1.8649635314941406,-1.1548480987548828,-1.741233229637146,-2.2899820804595947,-6.829790115356445,-6.35097599029541,-5.448181629180908,-5.042728900909424,-0.7753738164901733,-2.3936538696289062,-1.6765718460083008,-0.40899235010147095,-1.6512562036514282,-1.6764745712280273,-1.8611689805984497,-0.4862935245037079,-2.358121395111084,-1.0291714668273926,-0.161225363612175,-1.2741721868515015,-4.5334906578063965,-7.0635666847229,-3.892073154449463,-0.6941519379615784,-3.087371826171875,0.00496342359110713,0.44698816537857056,0.2641459107398987,-5.166278839111328,-3.6890127658843994,-2.5978102684020996,0.6468662619590759,-4.726806163787842,-4.51954984664917,-3.8319263458251953,-0.6321890354156494,-1.501229166984558,-1.0106785297393799,-1.6445717811584473,-1.4062219858169556,-5.282835483551025,-2.995680570602417,0.13976602256298065,-2.255204916000366,-4.940711498260498,-4.3022942543029785,-7.554818630218506,-4.569979190826416,-4.578621864318848,-2.6203396320343018,-3.56841778755188,-4.492307662963867,-5.870147705078125,-6.536419868469238,-5.936946868896484,-6.4581298828125,-6.274563312530518,-4.724255084991455,-3.5511679649353027,0.29615098237991333,-7.215114116668701,-7.153228759765625,-6.95819616317749,-6.815430641174316,-1.3954524993896484,-2.386780261993408,-1.995272159576416,-0.11938098073005676,-0.6853082180023193,-0.375739187002182,-0.9318576455116272,-5.832459926605225,-3.6967663764953613,-3.4022514820098877,-2.623694896697998,-4.113110542297363,-4.676733493804932,-3.0480875968933105,-4.053339958190918,-4.466012477874756],\"type\":\"scatter\"}],                        {\"template\":{\"data\":{\"bar\":[{\"error_x\":{\"color\":\"#2a3f5f\"},\"error_y\":{\"color\":\"#2a3f5f\"},\"marker\":{\"line\":{\"color\":\"#E5ECF6\",\"width\":0.5},\"pattern\":{\"fillmode\":\"overlay\",\"size\":10,\"solidity\":0.2}},\"type\":\"bar\"}],\"barpolar\":[{\"marker\":{\"line\":{\"color\":\"#E5ECF6\",\"width\":0.5},\"pattern\":{\"fillmode\":\"overlay\",\"size\":10,\"solidity\":0.2}},\"type\":\"barpolar\"}],\"carpet\":[{\"aaxis\":{\"endlinecolor\":\"#2a3f5f\",\"gridcolor\":\"white\",\"linecolor\":\"white\",\"minorgridcolor\":\"white\",\"startlinecolor\":\"#2a3f5f\"},\"baxis\":{\"endlinecolor\":\"#2a3f5f\",\"gridcolor\":\"white\",\"linecolor\":\"white\",\"minorgridcolor\":\"white\",\"startlinecolor\":\"#2a3f5f\"},\"type\":\"carpet\"}],\"choropleth\":[{\"colorbar\":{\"outlinewidth\":0,\"ticks\":\"\"},\"type\":\"choropleth\"}],\"contour\":[{\"colorbar\":{\"outlinewidth\":0,\"ticks\":\"\"},\"colorscale\":[[0.0,\"#0d0887\"],[0.1111111111111111,\"#46039f\"],[0.2222222222222222,\"#7201a8\"],[0.3333333333333333,\"#9c179e\"],[0.4444444444444444,\"#bd3786\"],[0.5555555555555556,\"#d8576b\"],[0.6666666666666666,\"#ed7953\"],[0.7777777777777778,\"#fb9f3a\"],[0.8888888888888888,\"#fdca26\"],[1.0,\"#f0f921\"]],\"type\":\"contour\"}],\"contourcarpet\":[{\"colorbar\":{\"outlinewidth\":0,\"ticks\":\"\"},\"type\":\"contourcarpet\"}],\"heatmap\":[{\"colorbar\":{\"outlinewidth\":0,\"ticks\":\"\"},\"colorscale\":[[0.0,\"#0d0887\"],[0.1111111111111111,\"#46039f\"],[0.2222222222222222,\"#7201a8\"],[0.3333333333333333,\"#9c179e\"],[0.4444444444444444,\"#bd3786\"],[0.5555555555555556,\"#d8576b\"],[0.6666666666666666,\"#ed7953\"],[0.7777777777777778,\"#fb9f3a\"],[0.8888888888888888,\"#fdca26\"],[1.0,\"#f0f921\"]],\"type\":\"heatmap\"}],\"heatmapgl\":[{\"colorbar\":{\"outlinewidth\":0,\"ticks\":\"\"},\"colorscale\":[[0.0,\"#0d0887\"],[0.1111111111111111,\"#46039f\"],[0.2222222222222222,\"#7201a8\"],[0.3333333333333333,\"#9c179e\"],[0.4444444444444444,\"#bd3786\"],[0.5555555555555556,\"#d8576b\"],[0.6666666666666666,\"#ed7953\"],[0.7777777777777778,\"#fb9f3a\"],[0.8888888888888888,\"#fdca26\"],[1.0,\"#f0f921\"]],\"type\":\"heatmapgl\"}],\"histogram\":[{\"marker\":{\"pattern\":{\"fillmode\":\"overlay\",\"size\":10,\"solidity\":0.2}},\"type\":\"histogram\"}],\"histogram2d\":[{\"colorbar\":{\"outlinewidth\":0,\"ticks\":\"\"},\"colorscale\":[[0.0,\"#0d0887\"],[0.1111111111111111,\"#46039f\"],[0.2222222222222222,\"#7201a8\"],[0.3333333333333333,\"#9c179e\"],[0.4444444444444444,\"#bd3786\"],[0.5555555555555556,\"#d8576b\"],[0.6666666666666666,\"#ed7953\"],[0.7777777777777778,\"#fb9f3a\"],[0.8888888888888888,\"#fdca26\"],[1.0,\"#f0f921\"]],\"type\":\"histogram2d\"}],\"histogram2dcontour\":[{\"colorbar\":{\"outlinewidth\":0,\"ticks\":\"\"},\"colorscale\":[[0.0,\"#0d0887\"],[0.1111111111111111,\"#46039f\"],[0.2222222222222222,\"#7201a8\"],[0.3333333333333333,\"#9c179e\"],[0.4444444444444444,\"#bd3786\"],[0.5555555555555556,\"#d8576b\"],[0.6666666666666666,\"#ed7953\"],[0.7777777777777778,\"#fb9f3a\"],[0.8888888888888888,\"#fdca26\"],[1.0,\"#f0f921\"]],\"type\":\"histogram2dcontour\"}],\"mesh3d\":[{\"colorbar\":{\"outlinewidth\":0,\"ticks\":\"\"},\"type\":\"mesh3d\"}],\"parcoords\":[{\"line\":{\"colorbar\":{\"outlinewidth\":0,\"ticks\":\"\"}},\"type\":\"parcoords\"}],\"pie\":[{\"automargin\":true,\"type\":\"pie\"}],\"scatter\":[{\"marker\":{\"colorbar\":{\"outlinewidth\":0,\"ticks\":\"\"}},\"type\":\"scatter\"}],\"scatter3d\":[{\"line\":{\"colorbar\":{\"outlinewidth\":0,\"ticks\":\"\"}},\"marker\":{\"colorbar\":{\"outlinewidth\":0,\"ticks\":\"\"}},\"type\":\"scatter3d\"}],\"scattercarpet\":[{\"marker\":{\"colorbar\":{\"outlinewidth\":0,\"ticks\":\"\"}},\"type\":\"scattercarpet\"}],\"scattergeo\":[{\"marker\":{\"colorbar\":{\"outlinewidth\":0,\"ticks\":\"\"}},\"type\":\"scattergeo\"}],\"scattergl\":[{\"marker\":{\"colorbar\":{\"outlinewidth\":0,\"ticks\":\"\"}},\"type\":\"scattergl\"}],\"scattermapbox\":[{\"marker\":{\"colorbar\":{\"outlinewidth\":0,\"ticks\":\"\"}},\"type\":\"scattermapbox\"}],\"scatterpolar\":[{\"marker\":{\"colorbar\":{\"outlinewidth\":0,\"ticks\":\"\"}},\"type\":\"scatterpolar\"}],\"scatterpolargl\":[{\"marker\":{\"colorbar\":{\"outlinewidth\":0,\"ticks\":\"\"}},\"type\":\"scatterpolargl\"}],\"scatterternary\":[{\"marker\":{\"colorbar\":{\"outlinewidth\":0,\"ticks\":\"\"}},\"type\":\"scatterternary\"}],\"surface\":[{\"colorbar\":{\"outlinewidth\":0,\"ticks\":\"\"},\"colorscale\":[[0.0,\"#0d0887\"],[0.1111111111111111,\"#46039f\"],[0.2222222222222222,\"#7201a8\"],[0.3333333333333333,\"#9c179e\"],[0.4444444444444444,\"#bd3786\"],[0.5555555555555556,\"#d8576b\"],[0.6666666666666666,\"#ed7953\"],[0.7777777777777778,\"#fb9f3a\"],[0.8888888888888888,\"#fdca26\"],[1.0,\"#f0f921\"]],\"type\":\"surface\"}],\"table\":[{\"cells\":{\"fill\":{\"color\":\"#EBF0F8\"},\"line\":{\"color\":\"white\"}},\"header\":{\"fill\":{\"color\":\"#C8D4E3\"},\"line\":{\"color\":\"white\"}},\"type\":\"table\"}]},\"layout\":{\"annotationdefaults\":{\"arrowcolor\":\"#2a3f5f\",\"arrowhead\":0,\"arrowwidth\":1},\"autotypenumbers\":\"strict\",\"coloraxis\":{\"colorbar\":{\"outlinewidth\":0,\"ticks\":\"\"}},\"colorscale\":{\"diverging\":[[0,\"#8e0152\"],[0.1,\"#c51b7d\"],[0.2,\"#de77ae\"],[0.3,\"#f1b6da\"],[0.4,\"#fde0ef\"],[0.5,\"#f7f7f7\"],[0.6,\"#e6f5d0\"],[0.7,\"#b8e186\"],[0.8,\"#7fbc41\"],[0.9,\"#4d9221\"],[1,\"#276419\"]],\"sequential\":[[0.0,\"#0d0887\"],[0.1111111111111111,\"#46039f\"],[0.2222222222222222,\"#7201a8\"],[0.3333333333333333,\"#9c179e\"],[0.4444444444444444,\"#bd3786\"],[0.5555555555555556,\"#d8576b\"],[0.6666666666666666,\"#ed7953\"],[0.7777777777777778,\"#fb9f3a\"],[0.8888888888888888,\"#fdca26\"],[1.0,\"#f0f921\"]],\"sequentialminus\":[[0.0,\"#0d0887\"],[0.1111111111111111,\"#46039f\"],[0.2222222222222222,\"#7201a8\"],[0.3333333333333333,\"#9c179e\"],[0.4444444444444444,\"#bd3786\"],[0.5555555555555556,\"#d8576b\"],[0.6666666666666666,\"#ed7953\"],[0.7777777777777778,\"#fb9f3a\"],[0.8888888888888888,\"#fdca26\"],[1.0,\"#f0f921\"]]},\"colorway\":[\"#636efa\",\"#EF553B\",\"#00cc96\",\"#ab63fa\",\"#FFA15A\",\"#19d3f3\",\"#FF6692\",\"#B6E880\",\"#FF97FF\",\"#FECB52\"],\"font\":{\"color\":\"#2a3f5f\"},\"geo\":{\"bgcolor\":\"white\",\"lakecolor\":\"white\",\"landcolor\":\"#E5ECF6\",\"showlakes\":true,\"showland\":true,\"subunitcolor\":\"white\"},\"hoverlabel\":{\"align\":\"left\"},\"hovermode\":\"closest\",\"mapbox\":{\"style\":\"light\"},\"paper_bgcolor\":\"white\",\"plot_bgcolor\":\"#E5ECF6\",\"polar\":{\"angularaxis\":{\"gridcolor\":\"white\",\"linecolor\":\"white\",\"ticks\":\"\"},\"bgcolor\":\"#E5ECF6\",\"radialaxis\":{\"gridcolor\":\"white\",\"linecolor\":\"white\",\"ticks\":\"\"}},\"scene\":{\"xaxis\":{\"backgroundcolor\":\"#E5ECF6\",\"gridcolor\":\"white\",\"gridwidth\":2,\"linecolor\":\"white\",\"showbackground\":true,\"ticks\":\"\",\"zerolinecolor\":\"white\"},\"yaxis\":{\"backgroundcolor\":\"#E5ECF6\",\"gridcolor\":\"white\",\"gridwidth\":2,\"linecolor\":\"white\",\"showbackground\":true,\"ticks\":\"\",\"zerolinecolor\":\"white\"},\"zaxis\":{\"backgroundcolor\":\"#E5ECF6\",\"gridcolor\":\"white\",\"gridwidth\":2,\"linecolor\":\"white\",\"showbackground\":true,\"ticks\":\"\",\"zerolinecolor\":\"white\"}},\"shapedefaults\":{\"line\":{\"color\":\"#2a3f5f\"}},\"ternary\":{\"aaxis\":{\"gridcolor\":\"white\",\"linecolor\":\"white\",\"ticks\":\"\"},\"baxis\":{\"gridcolor\":\"white\",\"linecolor\":\"white\",\"ticks\":\"\"},\"bgcolor\":\"#E5ECF6\",\"caxis\":{\"gridcolor\":\"white\",\"linecolor\":\"white\",\"ticks\":\"\"}},\"title\":{\"x\":0.05},\"xaxis\":{\"automargin\":true,\"gridcolor\":\"white\",\"linecolor\":\"white\",\"ticks\":\"\",\"title\":{\"standoff\":15},\"zerolinecolor\":\"white\",\"zerolinewidth\":2},\"yaxis\":{\"automargin\":true,\"gridcolor\":\"white\",\"linecolor\":\"white\",\"ticks\":\"\",\"title\":{\"standoff\":15},\"zerolinecolor\":\"white\",\"zerolinewidth\":2}}},\"title\":{\"text\":\"66T Regions: Brain UMAP\",\"x\":0.5},\"xaxis\":{\"title\":{\"text\":\"UMAP 1D\"},\"showline\":true,\"showgrid\":false,\"ticks\":\"outside\",\"mirror\":true,\"zeroline\":false},\"yaxis\":{\"title\":{\"text\":\"UMAP 2D\"},\"showline\":true,\"showgrid\":false,\"ticks\":\"outside\",\"mirror\":true,\"zeroline\":false},\"width\":800,\"height\":800},                        {\"responsive\": true}                    ).then(function(){\n",
       "                            \n",
       "var gd = document.getElementById('49bd1851-2ae7-41ad-81d7-a98cb821e4b5');\n",
       "var x = new MutationObserver(function (mutations, observer) {{\n",
       "        var display = window.getComputedStyle(gd).display;\n",
       "        if (!display || display === 'none') {{\n",
       "            console.log([gd, 'removed!']);\n",
       "            Plotly.purge(gd);\n",
       "            observer.disconnect();\n",
       "        }}\n",
       "}});\n",
       "\n",
       "// Listen for the removal of the full notebook cells\n",
       "var notebookContainer = gd.closest('#notebook-container');\n",
       "if (notebookContainer) {{\n",
       "    x.observe(notebookContainer, {childList: true});\n",
       "}}\n",
       "\n",
       "// Listen for the clearing of the current output cell\n",
       "var outputEl = gd.closest('.output');\n",
       "if (outputEl) {{\n",
       "    x.observe(outputEl, {childList: true});\n",
       "}}\n",
       "\n",
       "                        })                };                });            </script>        </div>"
      ]
     },
     "metadata": {},
     "output_type": "display_data"
    }
   ],
   "source": [
    "conds = full_inputs_df['Output site:'].unique()\n",
    "cmap=plt.get_cmap('rainbow')\n",
    "colors = cmap(numpy.linspace(0, 1, len(conds)))\n",
    "colors_hex=[matplotlib.colors.rgb2hex(l) for l in colors]\n",
    "color={}\n",
    "for i,cond in enumerate(conds):\n",
    "    color[cond]=colors_hex[i]\n",
    "    \n",
    "color=full_inputs_df['Output site:'].map(color)\n",
    "    \n",
    "fig=go.Figure(data=go.Scatter(\n",
    "    y=allembedding[:,1],\n",
    "    x=allembedding[:,0],\n",
    "    mode='markers',\n",
    "    marker_color=color,\n",
    "    text=full_inputs_df['Experimental condition'],\n",
    "    textposition = \"bottom center\",\n",
    "    hoverinfo='text'\n",
    "    ))\n",
    "fig.update_layout(\n",
    "    width=800,\n",
    "    height=800,\n",
    "    xaxis_title='UMAP 1D',\n",
    "    yaxis_title='UMAP 2D',\n",
    "    title={\n",
    "        'text': \"66T Regions: Brain UMAP\",\n",
    "        'x': 0.5\n",
    "    },\n",
    "    xaxis={\n",
    "        'showline':True,\n",
    "        'showgrid':False, \n",
    "        'ticks':'outside',\n",
    "        'mirror':True,\n",
    "        'zeroline':False\n",
    "    },\n",
    "    yaxis={\n",
    "        'showline':True,\n",
    "        'showgrid':False, \n",
    "        'ticks':'outside',\n",
    "        'mirror':True,\n",
    "        'zeroline':False\n",
    "    }\n",
    ")"
   ]
  },
  {
   "cell_type": "code",
   "execution_count": 48,
   "metadata": {},
   "outputs": [],
   "source": [
    "plotly.io.write_html(fig, file='figures/umap.scaled.66T.projection.'+writebatch+'.html')"
   ]
  },
  {
   "cell_type": "code",
   "execution_count": 49,
   "metadata": {},
   "outputs": [],
   "source": [
    "scaled_features_t=scaled_features.transpose()\n",
    "\n",
    "z_scaled_features_t = zscore(scaled_features_t,axis=1)\n",
    "\n",
    "allembedding=umap.UMAP(n_neighbors=5,min_dist=0.5,metric='euclidean').fit_transform(z_scaled_features_t)"
   ]
  },
  {
   "cell_type": "code",
   "execution_count": 50,
   "metadata": {},
   "outputs": [
    {
     "data": {
      "application/vnd.plotly.v1+json": {
       "config": {
        "plotlyServerURL": "https://plot.ly"
       },
       "data": [
        {
         "hoverinfo": "text",
         "marker": {
          "color": [
           "#76b8bc",
           "#71bdc2",
           "#57d4dc",
           "#57d4dc",
           "#62cad0",
           "#a157dc",
           "#a157dc",
           "#a157dc",
           "#9e6cc6",
           "#9f6bc7",
           "#5770dc",
           "#dc5f57",
           "#d9c159",
           "#9f64ce",
           "#dc57b2",
           "#808080",
           "#9f64ce",
           "#5770dc",
           "#9e70c3",
           "#a061d1",
           "#808080",
           "#5770dc",
           "#dc57b2",
           "#dc57b2",
           "#dc5f57",
           "#69c987",
           "#dc5f57",
           "#68ca87",
           "#dc5f57",
           "#57dc80",
           "#dc5f57",
           "#dc5f57",
           "#dc57b2",
           "#91dc57",
           "#dc5f57",
           "#92d062",
           "#808080",
           "#dc5f57",
           "#dcc257",
           "#dc5f57",
           "#dc5f57",
           "#dc5f57",
           "#dc5f57",
           "#57dc80",
           "#dc5f57",
           "#dc5f57",
           "#91da58",
           "#64cf85",
           "#dcc257",
           "#63cf85",
           "#57dc80",
           "#ccb966",
           "#dc5f57",
           "#dc5f57",
           "#dc5f57",
           "#91dc57",
           "#dc5f57"
          ]
         },
         "mode": "markers+text",
         "text": [
          "Cortex",
          "NAcMed",
          "NAcLat",
          "NAcCore",
          "DStr",
          "VP",
          "PO",
          "Septum",
          "BNST",
          "EAM",
          "EP",
          "GP",
          "PVN",
          "LHb",
          "MHb",
          "CeA",
          "LH",
          "ZI",
          "DR",
          "LDT",
          "PBN",
          "DCN",
          "Atg",
          "IPN",
          "LL (DLL/ILL/VLL)",
          "MR",
          "mRt",
          "PMnR",
          "PnO",
          "MPL",
          "MiTg",
          "pons etc",
          "PTg",
          "Rli",
          "RMg",
          "RPC",
          "RRF",
          "RtTg",
          "SNc",
          "SNL",
          "SNR",
          "SPTg",
          "SubB",
          "MM",
          "other near ant VTA (RI)",
          "SuM",
          "SuMx",
          "VTA IF",
          "VTA PBP",
          "VTA PN",
          "VTg",
          "IC",
          "SC",
          "PAG",
          "Pretectal",
          "PSth",
          "InC"
         ],
         "textposition": "bottom center",
         "type": "scatter",
         "x": [
          -6.406409740447998,
          -5.247471809387207,
          -5.760320663452148,
          -5.309070587158203,
          -6.162936210632324,
          -5.143351078033447,
          -5.25069522857666,
          -5.397572040557861,
          -6.19448709487915,
          -6.02744722366333,
          -7.522875785827637,
          1.7831053733825684,
          -1.7294728755950928,
          -5.3620829582214355,
          -5.072748184204102,
          -7.290133476257324,
          -6.026644706726074,
          -7.243218421936035,
          -5.615792274475098,
          -5.026174068450928,
          -7.625474452972412,
          -7.490333557128906,
          -4.383430480957031,
          -4.824301719665527,
          1.1646628379821777,
          -3.4865643978118896,
          0.6353986263275146,
          -2.708970785140991,
          2.2909045219421387,
          -3.3150265216827393,
          0.7927261590957642,
          0.33560457825660706,
          -4.242462158203125,
          -2.9095041751861572,
          0.6001018285751343,
          -2.560011863708496,
          -2.733809471130371,
          1.844364047050476,
          -1.5984585285186768,
          2.1038131713867188,
          1.7510167360305786,
          1.9431627988815308,
          2.517575979232788,
          -3.16456937789917,
          0.8255660533905029,
          0.2921416163444519,
          -3.1829116344451904,
          -3.470632791519165,
          -2.2368252277374268,
          -3.9084904193878174,
          -3.7131357192993164,
          -1.2238625288009644,
          2.439584970474243,
          2.382952928543091,
          0.4558582901954651,
          -3.489842414855957,
          1.4379690885543823
         ],
         "y": [
          -2.366429567337036,
          -2.421769142150879,
          -3.0187418460845947,
          -2.858499765396118,
          -2.8884265422821045,
          -1.1893762350082397,
          -0.4241819977760315,
          -0.9397959113121033,
          0.4401504397392273,
          -0.9396142959594727,
          -2.507100820541382,
          4.1189165115356445,
          5.138988018035889,
          -0.07469267398118973,
          1.6544291973114014,
          -0.5741186141967773,
          -0.16748812794685364,
          -2.766627311706543,
          0.990212619304657,
          -1.462653398513794,
          -1.456040382385254,
          -2.1383216381073,
          2.6291842460632324,
          2.3072121143341064,
          1.7283616065979004,
          2.768587112426758,
          5.902108192443848,
          3.715984344482422,
          3.2442145347595215,
          4.637113094329834,
          2.1873018741607666,
          5.91830587387085,
          2.101701259613037,
          6.301358699798584,
          1.4219077825546265,
          6.499215126037598,
          2.643585681915283,
          2.4691150188446045,
          5.843796253204346,
          5.565831184387207,
          6.009284019470215,
          4.701322555541992,
          3.973813772201538,
          4.268633842468262,
          6.56380558013916,
          1.897793173789978,
          6.829205513000488,
          3.559628486633301,
          5.609117031097412,
          3.550527811050415,
          4.227054595947266,
          5.890743255615234,
          2.5462987422943115,
          4.874225616455078,
          6.506418228149414,
          6.3514790534973145,
          5.605790138244629
         ]
        }
       ],
       "layout": {
        "height": 800,
        "template": {
         "data": {
          "bar": [
           {
            "error_x": {
             "color": "#2a3f5f"
            },
            "error_y": {
             "color": "#2a3f5f"
            },
            "marker": {
             "line": {
              "color": "#E5ECF6",
              "width": 0.5
             },
             "pattern": {
              "fillmode": "overlay",
              "size": 10,
              "solidity": 0.2
             }
            },
            "type": "bar"
           }
          ],
          "barpolar": [
           {
            "marker": {
             "line": {
              "color": "#E5ECF6",
              "width": 0.5
             },
             "pattern": {
              "fillmode": "overlay",
              "size": 10,
              "solidity": 0.2
             }
            },
            "type": "barpolar"
           }
          ],
          "carpet": [
           {
            "aaxis": {
             "endlinecolor": "#2a3f5f",
             "gridcolor": "white",
             "linecolor": "white",
             "minorgridcolor": "white",
             "startlinecolor": "#2a3f5f"
            },
            "baxis": {
             "endlinecolor": "#2a3f5f",
             "gridcolor": "white",
             "linecolor": "white",
             "minorgridcolor": "white",
             "startlinecolor": "#2a3f5f"
            },
            "type": "carpet"
           }
          ],
          "choropleth": [
           {
            "colorbar": {
             "outlinewidth": 0,
             "ticks": ""
            },
            "type": "choropleth"
           }
          ],
          "contour": [
           {
            "colorbar": {
             "outlinewidth": 0,
             "ticks": ""
            },
            "colorscale": [
             [
              0,
              "#0d0887"
             ],
             [
              0.1111111111111111,
              "#46039f"
             ],
             [
              0.2222222222222222,
              "#7201a8"
             ],
             [
              0.3333333333333333,
              "#9c179e"
             ],
             [
              0.4444444444444444,
              "#bd3786"
             ],
             [
              0.5555555555555556,
              "#d8576b"
             ],
             [
              0.6666666666666666,
              "#ed7953"
             ],
             [
              0.7777777777777778,
              "#fb9f3a"
             ],
             [
              0.8888888888888888,
              "#fdca26"
             ],
             [
              1,
              "#f0f921"
             ]
            ],
            "type": "contour"
           }
          ],
          "contourcarpet": [
           {
            "colorbar": {
             "outlinewidth": 0,
             "ticks": ""
            },
            "type": "contourcarpet"
           }
          ],
          "heatmap": [
           {
            "colorbar": {
             "outlinewidth": 0,
             "ticks": ""
            },
            "colorscale": [
             [
              0,
              "#0d0887"
             ],
             [
              0.1111111111111111,
              "#46039f"
             ],
             [
              0.2222222222222222,
              "#7201a8"
             ],
             [
              0.3333333333333333,
              "#9c179e"
             ],
             [
              0.4444444444444444,
              "#bd3786"
             ],
             [
              0.5555555555555556,
              "#d8576b"
             ],
             [
              0.6666666666666666,
              "#ed7953"
             ],
             [
              0.7777777777777778,
              "#fb9f3a"
             ],
             [
              0.8888888888888888,
              "#fdca26"
             ],
             [
              1,
              "#f0f921"
             ]
            ],
            "type": "heatmap"
           }
          ],
          "heatmapgl": [
           {
            "colorbar": {
             "outlinewidth": 0,
             "ticks": ""
            },
            "colorscale": [
             [
              0,
              "#0d0887"
             ],
             [
              0.1111111111111111,
              "#46039f"
             ],
             [
              0.2222222222222222,
              "#7201a8"
             ],
             [
              0.3333333333333333,
              "#9c179e"
             ],
             [
              0.4444444444444444,
              "#bd3786"
             ],
             [
              0.5555555555555556,
              "#d8576b"
             ],
             [
              0.6666666666666666,
              "#ed7953"
             ],
             [
              0.7777777777777778,
              "#fb9f3a"
             ],
             [
              0.8888888888888888,
              "#fdca26"
             ],
             [
              1,
              "#f0f921"
             ]
            ],
            "type": "heatmapgl"
           }
          ],
          "histogram": [
           {
            "marker": {
             "pattern": {
              "fillmode": "overlay",
              "size": 10,
              "solidity": 0.2
             }
            },
            "type": "histogram"
           }
          ],
          "histogram2d": [
           {
            "colorbar": {
             "outlinewidth": 0,
             "ticks": ""
            },
            "colorscale": [
             [
              0,
              "#0d0887"
             ],
             [
              0.1111111111111111,
              "#46039f"
             ],
             [
              0.2222222222222222,
              "#7201a8"
             ],
             [
              0.3333333333333333,
              "#9c179e"
             ],
             [
              0.4444444444444444,
              "#bd3786"
             ],
             [
              0.5555555555555556,
              "#d8576b"
             ],
             [
              0.6666666666666666,
              "#ed7953"
             ],
             [
              0.7777777777777778,
              "#fb9f3a"
             ],
             [
              0.8888888888888888,
              "#fdca26"
             ],
             [
              1,
              "#f0f921"
             ]
            ],
            "type": "histogram2d"
           }
          ],
          "histogram2dcontour": [
           {
            "colorbar": {
             "outlinewidth": 0,
             "ticks": ""
            },
            "colorscale": [
             [
              0,
              "#0d0887"
             ],
             [
              0.1111111111111111,
              "#46039f"
             ],
             [
              0.2222222222222222,
              "#7201a8"
             ],
             [
              0.3333333333333333,
              "#9c179e"
             ],
             [
              0.4444444444444444,
              "#bd3786"
             ],
             [
              0.5555555555555556,
              "#d8576b"
             ],
             [
              0.6666666666666666,
              "#ed7953"
             ],
             [
              0.7777777777777778,
              "#fb9f3a"
             ],
             [
              0.8888888888888888,
              "#fdca26"
             ],
             [
              1,
              "#f0f921"
             ]
            ],
            "type": "histogram2dcontour"
           }
          ],
          "mesh3d": [
           {
            "colorbar": {
             "outlinewidth": 0,
             "ticks": ""
            },
            "type": "mesh3d"
           }
          ],
          "parcoords": [
           {
            "line": {
             "colorbar": {
              "outlinewidth": 0,
              "ticks": ""
             }
            },
            "type": "parcoords"
           }
          ],
          "pie": [
           {
            "automargin": true,
            "type": "pie"
           }
          ],
          "scatter": [
           {
            "marker": {
             "colorbar": {
              "outlinewidth": 0,
              "ticks": ""
             }
            },
            "type": "scatter"
           }
          ],
          "scatter3d": [
           {
            "line": {
             "colorbar": {
              "outlinewidth": 0,
              "ticks": ""
             }
            },
            "marker": {
             "colorbar": {
              "outlinewidth": 0,
              "ticks": ""
             }
            },
            "type": "scatter3d"
           }
          ],
          "scattercarpet": [
           {
            "marker": {
             "colorbar": {
              "outlinewidth": 0,
              "ticks": ""
             }
            },
            "type": "scattercarpet"
           }
          ],
          "scattergeo": [
           {
            "marker": {
             "colorbar": {
              "outlinewidth": 0,
              "ticks": ""
             }
            },
            "type": "scattergeo"
           }
          ],
          "scattergl": [
           {
            "marker": {
             "colorbar": {
              "outlinewidth": 0,
              "ticks": ""
             }
            },
            "type": "scattergl"
           }
          ],
          "scattermapbox": [
           {
            "marker": {
             "colorbar": {
              "outlinewidth": 0,
              "ticks": ""
             }
            },
            "type": "scattermapbox"
           }
          ],
          "scatterpolar": [
           {
            "marker": {
             "colorbar": {
              "outlinewidth": 0,
              "ticks": ""
             }
            },
            "type": "scatterpolar"
           }
          ],
          "scatterpolargl": [
           {
            "marker": {
             "colorbar": {
              "outlinewidth": 0,
              "ticks": ""
             }
            },
            "type": "scatterpolargl"
           }
          ],
          "scatterternary": [
           {
            "marker": {
             "colorbar": {
              "outlinewidth": 0,
              "ticks": ""
             }
            },
            "type": "scatterternary"
           }
          ],
          "surface": [
           {
            "colorbar": {
             "outlinewidth": 0,
             "ticks": ""
            },
            "colorscale": [
             [
              0,
              "#0d0887"
             ],
             [
              0.1111111111111111,
              "#46039f"
             ],
             [
              0.2222222222222222,
              "#7201a8"
             ],
             [
              0.3333333333333333,
              "#9c179e"
             ],
             [
              0.4444444444444444,
              "#bd3786"
             ],
             [
              0.5555555555555556,
              "#d8576b"
             ],
             [
              0.6666666666666666,
              "#ed7953"
             ],
             [
              0.7777777777777778,
              "#fb9f3a"
             ],
             [
              0.8888888888888888,
              "#fdca26"
             ],
             [
              1,
              "#f0f921"
             ]
            ],
            "type": "surface"
           }
          ],
          "table": [
           {
            "cells": {
             "fill": {
              "color": "#EBF0F8"
             },
             "line": {
              "color": "white"
             }
            },
            "header": {
             "fill": {
              "color": "#C8D4E3"
             },
             "line": {
              "color": "white"
             }
            },
            "type": "table"
           }
          ]
         },
         "layout": {
          "annotationdefaults": {
           "arrowcolor": "#2a3f5f",
           "arrowhead": 0,
           "arrowwidth": 1
          },
          "autotypenumbers": "strict",
          "coloraxis": {
           "colorbar": {
            "outlinewidth": 0,
            "ticks": ""
           }
          },
          "colorscale": {
           "diverging": [
            [
             0,
             "#8e0152"
            ],
            [
             0.1,
             "#c51b7d"
            ],
            [
             0.2,
             "#de77ae"
            ],
            [
             0.3,
             "#f1b6da"
            ],
            [
             0.4,
             "#fde0ef"
            ],
            [
             0.5,
             "#f7f7f7"
            ],
            [
             0.6,
             "#e6f5d0"
            ],
            [
             0.7,
             "#b8e186"
            ],
            [
             0.8,
             "#7fbc41"
            ],
            [
             0.9,
             "#4d9221"
            ],
            [
             1,
             "#276419"
            ]
           ],
           "sequential": [
            [
             0,
             "#0d0887"
            ],
            [
             0.1111111111111111,
             "#46039f"
            ],
            [
             0.2222222222222222,
             "#7201a8"
            ],
            [
             0.3333333333333333,
             "#9c179e"
            ],
            [
             0.4444444444444444,
             "#bd3786"
            ],
            [
             0.5555555555555556,
             "#d8576b"
            ],
            [
             0.6666666666666666,
             "#ed7953"
            ],
            [
             0.7777777777777778,
             "#fb9f3a"
            ],
            [
             0.8888888888888888,
             "#fdca26"
            ],
            [
             1,
             "#f0f921"
            ]
           ],
           "sequentialminus": [
            [
             0,
             "#0d0887"
            ],
            [
             0.1111111111111111,
             "#46039f"
            ],
            [
             0.2222222222222222,
             "#7201a8"
            ],
            [
             0.3333333333333333,
             "#9c179e"
            ],
            [
             0.4444444444444444,
             "#bd3786"
            ],
            [
             0.5555555555555556,
             "#d8576b"
            ],
            [
             0.6666666666666666,
             "#ed7953"
            ],
            [
             0.7777777777777778,
             "#fb9f3a"
            ],
            [
             0.8888888888888888,
             "#fdca26"
            ],
            [
             1,
             "#f0f921"
            ]
           ]
          },
          "colorway": [
           "#636efa",
           "#EF553B",
           "#00cc96",
           "#ab63fa",
           "#FFA15A",
           "#19d3f3",
           "#FF6692",
           "#B6E880",
           "#FF97FF",
           "#FECB52"
          ],
          "font": {
           "color": "#2a3f5f"
          },
          "geo": {
           "bgcolor": "white",
           "lakecolor": "white",
           "landcolor": "#E5ECF6",
           "showlakes": true,
           "showland": true,
           "subunitcolor": "white"
          },
          "hoverlabel": {
           "align": "left"
          },
          "hovermode": "closest",
          "mapbox": {
           "style": "light"
          },
          "paper_bgcolor": "white",
          "plot_bgcolor": "#E5ECF6",
          "polar": {
           "angularaxis": {
            "gridcolor": "white",
            "linecolor": "white",
            "ticks": ""
           },
           "bgcolor": "#E5ECF6",
           "radialaxis": {
            "gridcolor": "white",
            "linecolor": "white",
            "ticks": ""
           }
          },
          "scene": {
           "xaxis": {
            "backgroundcolor": "#E5ECF6",
            "gridcolor": "white",
            "gridwidth": 2,
            "linecolor": "white",
            "showbackground": true,
            "ticks": "",
            "zerolinecolor": "white"
           },
           "yaxis": {
            "backgroundcolor": "#E5ECF6",
            "gridcolor": "white",
            "gridwidth": 2,
            "linecolor": "white",
            "showbackground": true,
            "ticks": "",
            "zerolinecolor": "white"
           },
           "zaxis": {
            "backgroundcolor": "#E5ECF6",
            "gridcolor": "white",
            "gridwidth": 2,
            "linecolor": "white",
            "showbackground": true,
            "ticks": "",
            "zerolinecolor": "white"
           }
          },
          "shapedefaults": {
           "line": {
            "color": "#2a3f5f"
           }
          },
          "ternary": {
           "aaxis": {
            "gridcolor": "white",
            "linecolor": "white",
            "ticks": ""
           },
           "baxis": {
            "gridcolor": "white",
            "linecolor": "white",
            "ticks": ""
           },
           "bgcolor": "#E5ECF6",
           "caxis": {
            "gridcolor": "white",
            "linecolor": "white",
            "ticks": ""
           }
          },
          "title": {
           "x": 0.05
          },
          "xaxis": {
           "automargin": true,
           "gridcolor": "white",
           "linecolor": "white",
           "ticks": "",
           "title": {
            "standoff": 15
           },
           "zerolinecolor": "white",
           "zerolinewidth": 2
          },
          "yaxis": {
           "automargin": true,
           "gridcolor": "white",
           "linecolor": "white",
           "ticks": "",
           "title": {
            "standoff": 15
           },
           "zerolinecolor": "white",
           "zerolinewidth": 2
          }
         }
        },
        "title": {
         "text": "VTA Input Connectivity Similarities - UMAP",
         "x": 0.5
        },
        "width": 800,
        "xaxis": {
         "mirror": true,
         "showgrid": false,
         "showline": true,
         "ticks": "outside",
         "title": {
          "text": "UMAP 1D"
         },
         "zeroline": false
        },
        "yaxis": {
         "mirror": true,
         "showgrid": false,
         "showline": true,
         "ticks": "outside",
         "title": {
          "text": "UMAP 2D"
         },
         "zeroline": false
        }
       }
      },
      "text/html": [
       "<div>                            <div id=\"a377a644-8a7a-4fbd-846c-eee07afabe39\" class=\"plotly-graph-div\" style=\"height:800px; width:800px;\"></div>            <script type=\"text/javascript\">                require([\"plotly\"], function(Plotly) {                    window.PLOTLYENV=window.PLOTLYENV || {};                                    if (document.getElementById(\"a377a644-8a7a-4fbd-846c-eee07afabe39\")) {                    Plotly.newPlot(                        \"a377a644-8a7a-4fbd-846c-eee07afabe39\",                        [{\"hoverinfo\":\"text\",\"marker\":{\"color\":[\"#76b8bc\",\"#71bdc2\",\"#57d4dc\",\"#57d4dc\",\"#62cad0\",\"#a157dc\",\"#a157dc\",\"#a157dc\",\"#9e6cc6\",\"#9f6bc7\",\"#5770dc\",\"#dc5f57\",\"#d9c159\",\"#9f64ce\",\"#dc57b2\",\"#808080\",\"#9f64ce\",\"#5770dc\",\"#9e70c3\",\"#a061d1\",\"#808080\",\"#5770dc\",\"#dc57b2\",\"#dc57b2\",\"#dc5f57\",\"#69c987\",\"#dc5f57\",\"#68ca87\",\"#dc5f57\",\"#57dc80\",\"#dc5f57\",\"#dc5f57\",\"#dc57b2\",\"#91dc57\",\"#dc5f57\",\"#92d062\",\"#808080\",\"#dc5f57\",\"#dcc257\",\"#dc5f57\",\"#dc5f57\",\"#dc5f57\",\"#dc5f57\",\"#57dc80\",\"#dc5f57\",\"#dc5f57\",\"#91da58\",\"#64cf85\",\"#dcc257\",\"#63cf85\",\"#57dc80\",\"#ccb966\",\"#dc5f57\",\"#dc5f57\",\"#dc5f57\",\"#91dc57\",\"#dc5f57\"]},\"mode\":\"markers+text\",\"text\":[\"Cortex\",\"NAcMed\",\"NAcLat\",\"NAcCore\",\"DStr\",\"VP\",\"PO\",\"Septum\",\"BNST\",\"EAM\",\"EP\",\"GP\",\"PVN\",\"LHb\",\"MHb\",\"CeA\",\"LH\",\"ZI\",\"DR\",\"LDT\",\"PBN\",\"DCN\",\"Atg\",\"IPN\",\"LL (DLL/ILL/VLL)\",\"MR\",\"mRt\",\"PMnR\",\"PnO\",\"MPL\",\"MiTg\",\"pons etc\",\"PTg\",\"Rli\",\"RMg\",\"RPC\",\"RRF\",\"RtTg\",\"SNc\",\"SNL\",\"SNR\",\"SPTg\",\"SubB\",\"MM\",\"other near ant VTA (RI)\",\"SuM\",\"SuMx\",\"VTA IF\",\"VTA PBP\",\"VTA PN\",\"VTg\",\"IC\",\"SC\",\"PAG\",\"Pretectal\",\"PSth\",\"InC\"],\"textposition\":\"bottom center\",\"x\":[-6.406409740447998,-5.247471809387207,-5.760320663452148,-5.309070587158203,-6.162936210632324,-5.143351078033447,-5.25069522857666,-5.397572040557861,-6.19448709487915,-6.02744722366333,-7.522875785827637,1.7831053733825684,-1.7294728755950928,-5.3620829582214355,-5.072748184204102,-7.290133476257324,-6.026644706726074,-7.243218421936035,-5.615792274475098,-5.026174068450928,-7.625474452972412,-7.490333557128906,-4.383430480957031,-4.824301719665527,1.1646628379821777,-3.4865643978118896,0.6353986263275146,-2.708970785140991,2.2909045219421387,-3.3150265216827393,0.7927261590957642,0.33560457825660706,-4.242462158203125,-2.9095041751861572,0.6001018285751343,-2.560011863708496,-2.733809471130371,1.844364047050476,-1.5984585285186768,2.1038131713867188,1.7510167360305786,1.9431627988815308,2.517575979232788,-3.16456937789917,0.8255660533905029,0.2921416163444519,-3.1829116344451904,-3.470632791519165,-2.2368252277374268,-3.9084904193878174,-3.7131357192993164,-1.2238625288009644,2.439584970474243,2.382952928543091,0.4558582901954651,-3.489842414855957,1.4379690885543823],\"y\":[-2.366429567337036,-2.421769142150879,-3.0187418460845947,-2.858499765396118,-2.8884265422821045,-1.1893762350082397,-0.4241819977760315,-0.9397959113121033,0.4401504397392273,-0.9396142959594727,-2.507100820541382,4.1189165115356445,5.138988018035889,-0.07469267398118973,1.6544291973114014,-0.5741186141967773,-0.16748812794685364,-2.766627311706543,0.990212619304657,-1.462653398513794,-1.456040382385254,-2.1383216381073,2.6291842460632324,2.3072121143341064,1.7283616065979004,2.768587112426758,5.902108192443848,3.715984344482422,3.2442145347595215,4.637113094329834,2.1873018741607666,5.91830587387085,2.101701259613037,6.301358699798584,1.4219077825546265,6.499215126037598,2.643585681915283,2.4691150188446045,5.843796253204346,5.565831184387207,6.009284019470215,4.701322555541992,3.973813772201538,4.268633842468262,6.56380558013916,1.897793173789978,6.829205513000488,3.559628486633301,5.609117031097412,3.550527811050415,4.227054595947266,5.890743255615234,2.5462987422943115,4.874225616455078,6.506418228149414,6.3514790534973145,5.605790138244629],\"type\":\"scatter\"}],                        {\"template\":{\"data\":{\"bar\":[{\"error_x\":{\"color\":\"#2a3f5f\"},\"error_y\":{\"color\":\"#2a3f5f\"},\"marker\":{\"line\":{\"color\":\"#E5ECF6\",\"width\":0.5},\"pattern\":{\"fillmode\":\"overlay\",\"size\":10,\"solidity\":0.2}},\"type\":\"bar\"}],\"barpolar\":[{\"marker\":{\"line\":{\"color\":\"#E5ECF6\",\"width\":0.5},\"pattern\":{\"fillmode\":\"overlay\",\"size\":10,\"solidity\":0.2}},\"type\":\"barpolar\"}],\"carpet\":[{\"aaxis\":{\"endlinecolor\":\"#2a3f5f\",\"gridcolor\":\"white\",\"linecolor\":\"white\",\"minorgridcolor\":\"white\",\"startlinecolor\":\"#2a3f5f\"},\"baxis\":{\"endlinecolor\":\"#2a3f5f\",\"gridcolor\":\"white\",\"linecolor\":\"white\",\"minorgridcolor\":\"white\",\"startlinecolor\":\"#2a3f5f\"},\"type\":\"carpet\"}],\"choropleth\":[{\"colorbar\":{\"outlinewidth\":0,\"ticks\":\"\"},\"type\":\"choropleth\"}],\"contour\":[{\"colorbar\":{\"outlinewidth\":0,\"ticks\":\"\"},\"colorscale\":[[0.0,\"#0d0887\"],[0.1111111111111111,\"#46039f\"],[0.2222222222222222,\"#7201a8\"],[0.3333333333333333,\"#9c179e\"],[0.4444444444444444,\"#bd3786\"],[0.5555555555555556,\"#d8576b\"],[0.6666666666666666,\"#ed7953\"],[0.7777777777777778,\"#fb9f3a\"],[0.8888888888888888,\"#fdca26\"],[1.0,\"#f0f921\"]],\"type\":\"contour\"}],\"contourcarpet\":[{\"colorbar\":{\"outlinewidth\":0,\"ticks\":\"\"},\"type\":\"contourcarpet\"}],\"heatmap\":[{\"colorbar\":{\"outlinewidth\":0,\"ticks\":\"\"},\"colorscale\":[[0.0,\"#0d0887\"],[0.1111111111111111,\"#46039f\"],[0.2222222222222222,\"#7201a8\"],[0.3333333333333333,\"#9c179e\"],[0.4444444444444444,\"#bd3786\"],[0.5555555555555556,\"#d8576b\"],[0.6666666666666666,\"#ed7953\"],[0.7777777777777778,\"#fb9f3a\"],[0.8888888888888888,\"#fdca26\"],[1.0,\"#f0f921\"]],\"type\":\"heatmap\"}],\"heatmapgl\":[{\"colorbar\":{\"outlinewidth\":0,\"ticks\":\"\"},\"colorscale\":[[0.0,\"#0d0887\"],[0.1111111111111111,\"#46039f\"],[0.2222222222222222,\"#7201a8\"],[0.3333333333333333,\"#9c179e\"],[0.4444444444444444,\"#bd3786\"],[0.5555555555555556,\"#d8576b\"],[0.6666666666666666,\"#ed7953\"],[0.7777777777777778,\"#fb9f3a\"],[0.8888888888888888,\"#fdca26\"],[1.0,\"#f0f921\"]],\"type\":\"heatmapgl\"}],\"histogram\":[{\"marker\":{\"pattern\":{\"fillmode\":\"overlay\",\"size\":10,\"solidity\":0.2}},\"type\":\"histogram\"}],\"histogram2d\":[{\"colorbar\":{\"outlinewidth\":0,\"ticks\":\"\"},\"colorscale\":[[0.0,\"#0d0887\"],[0.1111111111111111,\"#46039f\"],[0.2222222222222222,\"#7201a8\"],[0.3333333333333333,\"#9c179e\"],[0.4444444444444444,\"#bd3786\"],[0.5555555555555556,\"#d8576b\"],[0.6666666666666666,\"#ed7953\"],[0.7777777777777778,\"#fb9f3a\"],[0.8888888888888888,\"#fdca26\"],[1.0,\"#f0f921\"]],\"type\":\"histogram2d\"}],\"histogram2dcontour\":[{\"colorbar\":{\"outlinewidth\":0,\"ticks\":\"\"},\"colorscale\":[[0.0,\"#0d0887\"],[0.1111111111111111,\"#46039f\"],[0.2222222222222222,\"#7201a8\"],[0.3333333333333333,\"#9c179e\"],[0.4444444444444444,\"#bd3786\"],[0.5555555555555556,\"#d8576b\"],[0.6666666666666666,\"#ed7953\"],[0.7777777777777778,\"#fb9f3a\"],[0.8888888888888888,\"#fdca26\"],[1.0,\"#f0f921\"]],\"type\":\"histogram2dcontour\"}],\"mesh3d\":[{\"colorbar\":{\"outlinewidth\":0,\"ticks\":\"\"},\"type\":\"mesh3d\"}],\"parcoords\":[{\"line\":{\"colorbar\":{\"outlinewidth\":0,\"ticks\":\"\"}},\"type\":\"parcoords\"}],\"pie\":[{\"automargin\":true,\"type\":\"pie\"}],\"scatter\":[{\"marker\":{\"colorbar\":{\"outlinewidth\":0,\"ticks\":\"\"}},\"type\":\"scatter\"}],\"scatter3d\":[{\"line\":{\"colorbar\":{\"outlinewidth\":0,\"ticks\":\"\"}},\"marker\":{\"colorbar\":{\"outlinewidth\":0,\"ticks\":\"\"}},\"type\":\"scatter3d\"}],\"scattercarpet\":[{\"marker\":{\"colorbar\":{\"outlinewidth\":0,\"ticks\":\"\"}},\"type\":\"scattercarpet\"}],\"scattergeo\":[{\"marker\":{\"colorbar\":{\"outlinewidth\":0,\"ticks\":\"\"}},\"type\":\"scattergeo\"}],\"scattergl\":[{\"marker\":{\"colorbar\":{\"outlinewidth\":0,\"ticks\":\"\"}},\"type\":\"scattergl\"}],\"scattermapbox\":[{\"marker\":{\"colorbar\":{\"outlinewidth\":0,\"ticks\":\"\"}},\"type\":\"scattermapbox\"}],\"scatterpolar\":[{\"marker\":{\"colorbar\":{\"outlinewidth\":0,\"ticks\":\"\"}},\"type\":\"scatterpolar\"}],\"scatterpolargl\":[{\"marker\":{\"colorbar\":{\"outlinewidth\":0,\"ticks\":\"\"}},\"type\":\"scatterpolargl\"}],\"scatterternary\":[{\"marker\":{\"colorbar\":{\"outlinewidth\":0,\"ticks\":\"\"}},\"type\":\"scatterternary\"}],\"surface\":[{\"colorbar\":{\"outlinewidth\":0,\"ticks\":\"\"},\"colorscale\":[[0.0,\"#0d0887\"],[0.1111111111111111,\"#46039f\"],[0.2222222222222222,\"#7201a8\"],[0.3333333333333333,\"#9c179e\"],[0.4444444444444444,\"#bd3786\"],[0.5555555555555556,\"#d8576b\"],[0.6666666666666666,\"#ed7953\"],[0.7777777777777778,\"#fb9f3a\"],[0.8888888888888888,\"#fdca26\"],[1.0,\"#f0f921\"]],\"type\":\"surface\"}],\"table\":[{\"cells\":{\"fill\":{\"color\":\"#EBF0F8\"},\"line\":{\"color\":\"white\"}},\"header\":{\"fill\":{\"color\":\"#C8D4E3\"},\"line\":{\"color\":\"white\"}},\"type\":\"table\"}]},\"layout\":{\"annotationdefaults\":{\"arrowcolor\":\"#2a3f5f\",\"arrowhead\":0,\"arrowwidth\":1},\"autotypenumbers\":\"strict\",\"coloraxis\":{\"colorbar\":{\"outlinewidth\":0,\"ticks\":\"\"}},\"colorscale\":{\"diverging\":[[0,\"#8e0152\"],[0.1,\"#c51b7d\"],[0.2,\"#de77ae\"],[0.3,\"#f1b6da\"],[0.4,\"#fde0ef\"],[0.5,\"#f7f7f7\"],[0.6,\"#e6f5d0\"],[0.7,\"#b8e186\"],[0.8,\"#7fbc41\"],[0.9,\"#4d9221\"],[1,\"#276419\"]],\"sequential\":[[0.0,\"#0d0887\"],[0.1111111111111111,\"#46039f\"],[0.2222222222222222,\"#7201a8\"],[0.3333333333333333,\"#9c179e\"],[0.4444444444444444,\"#bd3786\"],[0.5555555555555556,\"#d8576b\"],[0.6666666666666666,\"#ed7953\"],[0.7777777777777778,\"#fb9f3a\"],[0.8888888888888888,\"#fdca26\"],[1.0,\"#f0f921\"]],\"sequentialminus\":[[0.0,\"#0d0887\"],[0.1111111111111111,\"#46039f\"],[0.2222222222222222,\"#7201a8\"],[0.3333333333333333,\"#9c179e\"],[0.4444444444444444,\"#bd3786\"],[0.5555555555555556,\"#d8576b\"],[0.6666666666666666,\"#ed7953\"],[0.7777777777777778,\"#fb9f3a\"],[0.8888888888888888,\"#fdca26\"],[1.0,\"#f0f921\"]]},\"colorway\":[\"#636efa\",\"#EF553B\",\"#00cc96\",\"#ab63fa\",\"#FFA15A\",\"#19d3f3\",\"#FF6692\",\"#B6E880\",\"#FF97FF\",\"#FECB52\"],\"font\":{\"color\":\"#2a3f5f\"},\"geo\":{\"bgcolor\":\"white\",\"lakecolor\":\"white\",\"landcolor\":\"#E5ECF6\",\"showlakes\":true,\"showland\":true,\"subunitcolor\":\"white\"},\"hoverlabel\":{\"align\":\"left\"},\"hovermode\":\"closest\",\"mapbox\":{\"style\":\"light\"},\"paper_bgcolor\":\"white\",\"plot_bgcolor\":\"#E5ECF6\",\"polar\":{\"angularaxis\":{\"gridcolor\":\"white\",\"linecolor\":\"white\",\"ticks\":\"\"},\"bgcolor\":\"#E5ECF6\",\"radialaxis\":{\"gridcolor\":\"white\",\"linecolor\":\"white\",\"ticks\":\"\"}},\"scene\":{\"xaxis\":{\"backgroundcolor\":\"#E5ECF6\",\"gridcolor\":\"white\",\"gridwidth\":2,\"linecolor\":\"white\",\"showbackground\":true,\"ticks\":\"\",\"zerolinecolor\":\"white\"},\"yaxis\":{\"backgroundcolor\":\"#E5ECF6\",\"gridcolor\":\"white\",\"gridwidth\":2,\"linecolor\":\"white\",\"showbackground\":true,\"ticks\":\"\",\"zerolinecolor\":\"white\"},\"zaxis\":{\"backgroundcolor\":\"#E5ECF6\",\"gridcolor\":\"white\",\"gridwidth\":2,\"linecolor\":\"white\",\"showbackground\":true,\"ticks\":\"\",\"zerolinecolor\":\"white\"}},\"shapedefaults\":{\"line\":{\"color\":\"#2a3f5f\"}},\"ternary\":{\"aaxis\":{\"gridcolor\":\"white\",\"linecolor\":\"white\",\"ticks\":\"\"},\"baxis\":{\"gridcolor\":\"white\",\"linecolor\":\"white\",\"ticks\":\"\"},\"bgcolor\":\"#E5ECF6\",\"caxis\":{\"gridcolor\":\"white\",\"linecolor\":\"white\",\"ticks\":\"\"}},\"title\":{\"x\":0.05},\"xaxis\":{\"automargin\":true,\"gridcolor\":\"white\",\"linecolor\":\"white\",\"ticks\":\"\",\"title\":{\"standoff\":15},\"zerolinecolor\":\"white\",\"zerolinewidth\":2},\"yaxis\":{\"automargin\":true,\"gridcolor\":\"white\",\"linecolor\":\"white\",\"ticks\":\"\",\"title\":{\"standoff\":15},\"zerolinecolor\":\"white\",\"zerolinewidth\":2}}},\"title\":{\"text\":\"VTA Input Connectivity Similarities - UMAP\",\"x\":0.5},\"xaxis\":{\"title\":{\"text\":\"UMAP 1D\"},\"showline\":true,\"showgrid\":false,\"ticks\":\"outside\",\"mirror\":true,\"zeroline\":false},\"yaxis\":{\"title\":{\"text\":\"UMAP 2D\"},\"showline\":true,\"showgrid\":false,\"ticks\":\"outside\",\"mirror\":true,\"zeroline\":false},\"width\":800,\"height\":800},                        {\"responsive\": true}                    ).then(function(){\n",
       "                            \n",
       "var gd = document.getElementById('a377a644-8a7a-4fbd-846c-eee07afabe39');\n",
       "var x = new MutationObserver(function (mutations, observer) {{\n",
       "        var display = window.getComputedStyle(gd).display;\n",
       "        if (!display || display === 'none') {{\n",
       "            console.log([gd, 'removed!']);\n",
       "            Plotly.purge(gd);\n",
       "            observer.disconnect();\n",
       "        }}\n",
       "}});\n",
       "\n",
       "// Listen for the removal of the full notebook cells\n",
       "var notebookContainer = gd.closest('#notebook-container');\n",
       "if (notebookContainer) {{\n",
       "    x.observe(notebookContainer, {childList: true});\n",
       "}}\n",
       "\n",
       "// Listen for the clearing of the current output cell\n",
       "var outputEl = gd.closest('.output');\n",
       "if (outputEl) {{\n",
       "    x.observe(outputEl, {childList: true});\n",
       "}}\n",
       "\n",
       "                        })                };                });            </script>        </div>"
      ]
     },
     "metadata": {},
     "output_type": "display_data"
    }
   ],
   "source": [
    "allclusterer=hdbscan.HDBSCAN(min_cluster_size=2)\n",
    "\n",
    "allclusterer.fit(allembedding)\n",
    "\n",
    "color_palette = seaborn.color_palette('hls', (numpy.max(allclusterer.labels_+1)))\n",
    "cluster_colors = [color_palette[x] if x>= 0\n",
    "                  else (0.5, 0.5, 0.5)\n",
    "                  for x in allclusterer.labels_]\n",
    "cluster_member_colors = [seaborn.desaturate(x, p) for x, p in\n",
    "                        zip(cluster_colors, allclusterer.probabilities_)]\n",
    "cluster_member_colors_hex=['#%02x%02x%02x' %tuple(int(c*256) for c in l) for l in cluster_member_colors]\n",
    "fig=go.Figure(data=go.Scatter(\n",
    "    y=allembedding[:,1],\n",
    "    x=allembedding[:,0],\n",
    "    mode='markers+text',\n",
    "    marker_color=cluster_member_colors_hex,\n",
    "    text=cols,\n",
    "    textposition = \"bottom center\",\n",
    "    hoverinfo='text'\n",
    "    ))\n",
    "fig.update_layout(\n",
    "    width=800,\n",
    "    height=800,\n",
    "    xaxis_title='UMAP 1D',\n",
    "    yaxis_title='UMAP 2D',\n",
    "    title={\n",
    "        'text': \"VTA Input Connectivity Similarities - UMAP\",\n",
    "        'x': 0.5\n",
    "    },\n",
    "    xaxis={\n",
    "        'showline':True,\n",
    "        'showgrid':False, \n",
    "        'ticks':'outside',\n",
    "        'mirror':True,\n",
    "        'zeroline':False\n",
    "    },\n",
    "    yaxis={\n",
    "        'showline':True,\n",
    "        'showgrid':False, \n",
    "        'ticks':'outside',\n",
    "        'mirror':True,\n",
    "        'zeroline':False\n",
    "    }\n",
    ")"
   ]
  },
  {
   "cell_type": "code",
   "execution_count": 51,
   "metadata": {},
   "outputs": [],
   "source": [
    "plotly.io.write_html(fig, file='figures/umap.regions.scaled.66T.'+writebatch+'.html')"
   ]
  },
  {
   "cell_type": "code",
   "execution_count": null,
   "metadata": {},
   "outputs": [],
   "source": []
  }
 ],
 "metadata": {
  "kernelspec": {
   "display_name": "Python 3 (ipykernel)",
   "language": "python",
   "name": "python3"
  },
  "language_info": {
   "codemirror_mode": {
    "name": "ipython",
    "version": 3
   },
   "file_extension": ".py",
   "mimetype": "text/x-python",
   "name": "python",
   "nbconvert_exporter": "python",
   "pygments_lexer": "ipython3",
   "version": "3.7.4"
  }
 },
 "nbformat": 4,
 "nbformat_minor": 4
}
